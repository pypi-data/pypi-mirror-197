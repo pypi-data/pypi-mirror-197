{
 "cells": [
  {
   "cell_type": "code",
   "execution_count": 1,
   "metadata": {},
   "outputs": [],
   "source": [
    "%load_ext cyber"
   ]
  },
  {
   "cell_type": "code",
   "execution_count": 2,
   "metadata": {},
   "outputs": [
    {
     "name": "stdout",
     "output_type": "stream",
     "text": [
      "beep\n",
      "boop\n"
     ]
    }
   ],
   "source": [
    "from cyber import *\n",
    "\n",
    "cyber = CyberVM()\n",
    "\n",
    "@cyber.function('core.print')\n",
    "def _print(string: str):\n",
    "    print(string)\n",
    "\n",
    "class Core(cyber.module('core')):\n",
    "    def test(self, string: str):\n",
    "        print(string)\n",
    "\n",
    "cyber.exec(\"print 'beep'\")\n",
    "cyber.exec(\"test 'boop'\")"
   ]
  },
  {
   "cell_type": "code",
   "execution_count": 3,
   "metadata": {},
   "outputs": [
    {
     "name": "stdout",
     "output_type": "stream",
     "text": [
      "hello\n"
     ]
    }
   ],
   "source": [
    "# this statement is eval'd as cyber code\n",
    "%cyber print 'hello'"
   ]
  },
  {
   "cell_type": "code",
   "execution_count": 5,
   "metadata": {},
   "outputs": [
    {
     "name": "stdout",
     "output_type": "stream",
     "text": [
      "CyResultCode.CY_ErrorCompile\n"
     ]
    },
    {
     "ename": "OSError",
     "evalue": "exception: access violation reading 0x00000292B5860118",
     "output_type": "error",
     "traceback": [
      "\u001b[1;31m---------------------------------------------------------------------------\u001b[0m",
      "\u001b[1;31mOSError\u001b[0m                                   Traceback (most recent call last)",
      "Cell \u001b[1;32mIn[5], line 1\u001b[0m\n\u001b[1;32m----> 1\u001b[0m get_ipython()\u001b[39m.\u001b[39;49mrun_cell_magic(\u001b[39m'\u001b[39;49m\u001b[39mcyber\u001b[39;49m\u001b[39m'\u001b[39;49m, \u001b[39m'\u001b[39;49m\u001b[39m'\u001b[39;49m, \u001b[39m'\u001b[39;49m\u001b[39m\\n\u001b[39;49;00m\u001b[39mobject Bar:\u001b[39;49m\u001b[39m\\n\u001b[39;49;00m\u001b[39m    b number\u001b[39;49m\u001b[39m\\n\u001b[39;49;00m\u001b[39m\\n\u001b[39;49;00m\u001b[39mfunc foo(a number):\u001b[39;49m\u001b[39m\\n\u001b[39;49;00m\u001b[39m    print(a)\u001b[39;49m\u001b[39m\\n\u001b[39;49;00m\u001b[39m\\n\u001b[39;49;00m\u001b[39mz = Bar\u001b[39;49m\u001b[39m{b:10}\u001b[39;49;00m\u001b[39m\\n\u001b[39;49;00m\u001b[39m\\n\u001b[39;49;00m\u001b[39mfoo(z)\u001b[39;49m\u001b[39m\\n\u001b[39;49;00m\u001b[39m'\u001b[39;49m)\n",
      "File \u001b[1;32mp:\\_cyber\\cyber-python\\.venv\\lib\\site-packages\\IPython\\core\\interactiveshell.py:2430\u001b[0m, in \u001b[0;36mInteractiveShell.run_cell_magic\u001b[1;34m(self, magic_name, line, cell)\u001b[0m\n\u001b[0;32m   2428\u001b[0m \u001b[39mwith\u001b[39;00m \u001b[39mself\u001b[39m\u001b[39m.\u001b[39mbuiltin_trap:\n\u001b[0;32m   2429\u001b[0m     args \u001b[39m=\u001b[39m (magic_arg_s, cell)\n\u001b[1;32m-> 2430\u001b[0m     result \u001b[39m=\u001b[39m fn(\u001b[39m*\u001b[39margs, \u001b[39m*\u001b[39m\u001b[39m*\u001b[39mkwargs)\n\u001b[0;32m   2432\u001b[0m \u001b[39m# The code below prevents the output from being displayed\u001b[39;00m\n\u001b[0;32m   2433\u001b[0m \u001b[39m# when using magics with decodator @output_can_be_silenced\u001b[39;00m\n\u001b[0;32m   2434\u001b[0m \u001b[39m# when the last Python token in the expression is a ';'.\u001b[39;00m\n\u001b[0;32m   2435\u001b[0m \u001b[39mif\u001b[39;00m \u001b[39mgetattr\u001b[39m(fn, magic\u001b[39m.\u001b[39mMAGIC_OUTPUT_CAN_BE_SILENCED, \u001b[39mFalse\u001b[39;00m):\n",
      "File \u001b[1;32mp:\\_cyber\\cyber-python\\cyber\\__init__.py:22\u001b[0m, in \u001b[0;36mCyberMagics.cyber\u001b[1;34m(self, line, cell)\u001b[0m\n\u001b[0;32m     20\u001b[0m     \u001b[39mself\u001b[39m\u001b[39m.\u001b[39m_cyber\u001b[39m.\u001b[39meval(line)\n\u001b[0;32m     21\u001b[0m \u001b[39melse\u001b[39;00m:\n\u001b[1;32m---> 22\u001b[0m     \u001b[39mself\u001b[39;49m\u001b[39m.\u001b[39;49m_cyber\u001b[39m.\u001b[39;49meval(cell)\n",
      "File \u001b[1;32mp:\\_cyber\\cyber-python\\cyber\\vm.py:235\u001b[0m, in \u001b[0;36mCyberVM.eval\u001b[1;34m(self, src)\u001b[0m\n\u001b[0;32m    233\u001b[0m \u001b[39mif\u001b[39;00m \u001b[39mself\u001b[39m\u001b[39m.\u001b[39mlast_result \u001b[39m!=\u001b[39m CyResultCode\u001b[39m.\u001b[39mCY_Success:\n\u001b[0;32m    234\u001b[0m     \u001b[39mprint\u001b[39m(\u001b[39mself\u001b[39m\u001b[39m.\u001b[39mlast_result)\n\u001b[1;32m--> 235\u001b[0m     report \u001b[39m=\u001b[39m cyVmGetLastErrorReport(\u001b[39mself\u001b[39;49m\u001b[39m.\u001b[39;49mvm)\u001b[39m.\u001b[39mcharz\n\u001b[0;32m    236\u001b[0m     \u001b[39mprint\u001b[39m(report)\n\u001b[0;32m    237\u001b[0m     \u001b[39mmatch\u001b[39;00m \u001b[39mself\u001b[39m\u001b[39m.\u001b[39mlast_result:\n",
      "\u001b[1;31mOSError\u001b[0m: exception: access violation reading 0x00000292B5860118"
     ]
    }
   ],
   "source": [
    "%%cyber\n",
    "\n",
    "object Bar:\n",
    "    b number\n",
    "\n",
    "func foo(a number):\n",
    "    print(a)\n",
    "\n",
    "z = Bar{b:10}\n",
    "\n",
    "foo(z)"
   ]
  }
 ],
 "metadata": {
  "kernelspec": {
   "display_name": ".venv",
   "language": "python",
   "name": "python3"
  },
  "language_info": {
   "codemirror_mode": {
    "name": "ipython",
    "version": 3
   },
   "file_extension": ".py",
   "mimetype": "text/x-python",
   "name": "python",
   "nbconvert_exporter": "python",
   "pygments_lexer": "ipython3",
   "version": "3.10.8"
  },
  "orig_nbformat": 4
 },
 "nbformat": 4,
 "nbformat_minor": 2
}
