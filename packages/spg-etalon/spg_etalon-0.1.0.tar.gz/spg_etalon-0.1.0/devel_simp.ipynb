{
 "cells": [
  {
   "cell_type": "code",
   "execution_count": 2,
   "metadata": {},
   "outputs": [],
   "source": [
    "import numpy as np"
   ]
  },
  {
   "cell_type": "code",
   "execution_count": 5,
   "metadata": {},
   "outputs": [],
   "source": [
    "def function(x,y):\n",
    "    return np.cos(x) + np.sin(y) + 5"
   ]
  },
  {
   "cell_type": "code",
   "execution_count": 6,
   "metadata": {},
   "outputs": [
    {
     "name": "stdout",
     "output_type": "stream",
     "text": [
      "0 0 1.0\n",
      "0 1 4.0\n",
      "0 2 2.0\n",
      "0 3 4.0\n",
      "0 4 2.0\n",
      "0 5 4.0\n",
      "0 6 1.0\n",
      "1 0 4.0\n",
      "1 1 16.0\n",
      "1 2 8.0\n",
      "1 3 16.0\n",
      "1 4 8.0\n",
      "1 5 16.0\n",
      "1 6 4.0\n",
      "2 0 2.0\n",
      "2 1 8.0\n",
      "2 2 4.0\n",
      "2 3 8.0\n",
      "2 4 4.0\n",
      "2 5 8.0\n",
      "2 6 2.0\n",
      "3 0 4.0\n",
      "3 1 16.0\n",
      "3 2 8.0\n",
      "3 3 16.0\n",
      "3 4 8.0\n",
      "3 5 16.0\n",
      "3 6 4.0\n",
      "4 0 2.0\n",
      "4 1 8.0\n",
      "4 2 4.0\n",
      "4 3 8.0\n",
      "4 4 4.0\n",
      "4 5 8.0\n",
      "4 6 2.0\n",
      "5 0 4.0\n",
      "5 1 16.0\n",
      "5 2 8.0\n",
      "5 3 16.0\n",
      "5 4 8.0\n",
      "5 5 16.0\n",
      "5 6 4.0\n",
      "6 0 1.0\n",
      "6 1 4.0\n",
      "6 2 2.0\n",
      "6 3 4.0\n",
      "6 4 2.0\n",
      "6 5 4.0\n",
      "6 6 1.0\n",
      "197.39208802178712\n"
     ]
    }
   ],
   "source": [
    "startx = 0\n",
    "endx = 2*np.pi\n",
    "stepsx = 6\n",
    "starty = 0\n",
    "endy = 2*np.pi\n",
    "stepsy = 6\n",
    "\n",
    "stepx = (endx - startx) / stepsx \n",
    "stepy = (endy - starty) / stepsy\n",
    "\n",
    "result = 0\n",
    "mm = np.zeros((stepsx+1,stepsy+1))\n",
    "for i in range(stepsx+1):\n",
    "    x = startx + stepx * i\n",
    "    for j in range(stepsy +1):\n",
    "        if i%2:\n",
    "            weight = 4.0\n",
    "        else:\n",
    "            weight = 2.0\n",
    "        y = starty + stepy * j\n",
    "        if (i == 0 or i == stepsx) and (j == 0 or j == stepsy): \n",
    "            weight = 1.0\n",
    "        elif i == 0 or i == stepsx: \n",
    "            if j%2:\n",
    "                weight = 4.0\n",
    "            else:\n",
    "                weight = 2.0\n",
    "        elif j == 0 or j == stepsy: \n",
    "            if i%2:\n",
    "                weight = 4.0\n",
    "            else:\n",
    "                weight = 2.0\n",
    "        else:\n",
    "            if j%2:\n",
    "                weight *= 4.0\n",
    "            else:\n",
    "                weight *= 2.0\n",
    "        print(i,j,weight)\n",
    "        result += function(x,y)*weight\n",
    "result *= stepx * stepy / 9.0\n",
    "\n",
    "print(result)"
   ]
  },
  {
   "cell_type": "code",
   "execution_count": 7,
   "metadata": {},
   "outputs": [
    {
     "data": {
      "text/plain": [
       "-5.684341886080802e-14"
      ]
     },
     "execution_count": 7,
     "metadata": {},
     "output_type": "execute_result"
    }
   ],
   "source": [
    "result - 20.0 * np.pi**2"
   ]
  },
  {
   "cell_type": "code",
   "execution_count": 8,
   "metadata": {},
   "outputs": [
    {
     "name": "stdout",
     "output_type": "stream",
     "text": [
      "197.39208802178712\n"
     ]
    }
   ],
   "source": [
    "print(result)"
   ]
  },
  {
   "cell_type": "code",
   "execution_count": null,
   "metadata": {},
   "outputs": [],
   "source": [
    "197.39208802178712\n",
    "\n"
   ]
  }
 ],
 "metadata": {
  "kernelspec": {
   "display_name": "base",
   "language": "python",
   "name": "python3"
  },
  "language_info": {
   "codemirror_mode": {
    "name": "ipython",
    "version": 3
   },
   "file_extension": ".py",
   "mimetype": "text/x-python",
   "name": "python",
   "nbconvert_exporter": "python",
   "pygments_lexer": "ipython3",
   "version": "3.7.7"
  },
  "orig_nbformat": 4,
  "vscode": {
   "interpreter": {
    "hash": "b44af457ca18329e8a5589a632869e07939e9f98bbf063e64d00dfcca876210e"
   }
  }
 },
 "nbformat": 4,
 "nbformat_minor": 2
}
