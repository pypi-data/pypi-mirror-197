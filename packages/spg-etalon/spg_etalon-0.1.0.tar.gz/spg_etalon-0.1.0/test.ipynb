{
 "cells": [
  {
   "cell_type": "code",
   "execution_count": 1,
   "metadata": {},
   "outputs": [],
   "source": [
    "import sys\n",
    "import spg_etalon\n",
    "import numpy as np\n",
    "sys.path.append('../functions')\n",
    "import et_mueller2 as etm\n",
    "\n",
    "from matplotlib import pyplot as plt\n",
    "import time\n",
    "from scipy import integrate as intgrl\n",
    "\n"
   ]
  },
  {
   "cell_type": "code",
   "execution_count": 2,
   "metadata": {},
   "outputs": [
    {
     "name": "stdout",
     "output_type": "stream",
     "text": [
      "----------\n",
      "---------------------------------------------------------\n",
      "(wvl0) Central wavelength [m]:            +6.173e-7\n",
      "(fnum) f number:                          63.5\n",
      "(no) Ord. refraciton index:               2.29\n",
      "(ne) Ext. refraciton index:               2.29\n",
      "(h) Etalon thickness [m]:                 +2.500207171521161e-4\n",
      "(r) Reflectivity:                         0.92\n",
      "(a) Absorptance:                          0\n",
      "(wvl) Peak wavelength [m]:                +6.173018245588635e-7\n",
      "(m) Order of the resonance peak:          1855\n",
      "(d_h) Thickness var. to tune to wvl0 [m]: +2.0717152116101468e-8\n",
      "(tau) Transmittance:                      1\n",
      "(fin) Finesse:                            575.0000000000006\n",
      "(rp) pupil radius [m]:                    0.00875\n",
      "(f) focal [m]:                            1.11125\n",
      "(tol) Tolerance:                          +1e-10\n",
      "---------------------------------------------------------\n",
      "\n",
      "in python:\n",
      "\n",
      "wave:  6.173e-07\n",
      "m:  1855\n",
      "wvl:  6.173018245588635e-07\n",
      "delta_h:  2.0717152116101468e-08\n",
      "Finesse 575.0000000000006 1.11125\n",
      "----------\n",
      "\n",
      "Deltao matches Python:  True 11644.262104772215 11644.262104772215\n",
      "Deltae matches Python:  True 11644.262104772215 11644.262104772215\n",
      "----H11-H22------\n",
      "H11 - py (-0.002647416709156944-0.06037349603068647j)\n",
      "H11 - ru (-0.002647416709156944-0.06037349603068647j)\n",
      "H22 - py (-0.002647416709156944-0.06037349603068647j)\n",
      "H22 - ru (-0.002647416709156944-0.06037349603068647j)\n"
     ]
    }
   ],
   "source": [
    "tolerance = 1e-05\n",
    "\n",
    "a=spg_etalon.EtalonProp()\n",
    "a.show()\n",
    "\n",
    "print('----------\\n')\n",
    "print('in python:\\n')\n",
    "print('wave: ',etm.wvl0)\n",
    "print('m: ',etm.m)\n",
    "print('wvl: ', etm.wvl)\n",
    "print('delta_h: ',etm.delta_h)\n",
    "print('Finesse',etm.F , a.f)\n",
    "print('----------\\n')\n",
    "\n",
    "deltao1 = spg_etalon.deltao(a,a.wvl0,0.1) \n",
    "deltao2 = etm.deltao(a.wvl0,0.1) \n",
    "print('Deltao matches Python: ',np.isclose(deltao1,deltao2, rtol= tolerance),deltao1,deltao2)\n",
    "\n",
    "deltae1 = spg_etalon.deltae(a,a.wvl0,0.1,0.2) \n",
    "deltae2 = etm.deltae(a.wvl0,0.1,0.2) \n",
    "print('Deltae matches Python: ',np.isclose(deltae1,deltae2, rtol= tolerance),deltae1,deltae2)\n",
    "\n",
    "print('----H11-H22------')\n",
    "\n",
    "print('H11 - py', etm.H11(a.wvl0,0.1))\n",
    "print('H11 - ru', spg_etalon.h11(a,a.wvl0,0.1) )\n",
    "print('H22 - py', etm.H22(a.wvl0,0.1,0.1))\n",
    "print('H22 - ru', spg_etalon.h22(a,a.wvl0,0.1,0.1) )"
   ]
  },
  {
   "cell_type": "code",
   "execution_count": 3,
   "metadata": {},
   "outputs": [
    {
     "name": "stdout",
     "output_type": "stream",
     "text": [
      "----H11pintr------\n",
      "wave:  6.173e-07 \n",
      "\n"
     ]
    },
    {
     "data": {
      "text/plain": [
       "-0.0"
      ]
     },
     "execution_count": 3,
     "metadata": {},
     "output_type": "execute_result"
    }
   ],
   "source": [
    "print('----H11pintr------')\n",
    "\n",
    "#Spectral parameters\n",
    "wvl0 = etm.wvl0 #Central wavelength (617.3 nm)\n",
    "print('wave: ',etm.wvl0,'\\n')\n",
    "delta_1 = 60e-12 #Lower boundary of the wavelength range\n",
    "delta_2 = 60e-12 #Upper boundary of the wavelength range\n",
    "Nl = 121 #Number of wavelengths for the sampling of the profiles\n",
    "wvlv = wvl0 + np.linspace(-delta_1, delta_2, Nl) #Wavelengths vector\n",
    "\n",
    "#Simulation parameters\n",
    "Rp=17.5e-3/2 #Pupil radius\n",
    "fnum=etm.fnum #Telescope f-number\n",
    "f=2*Rp*fnum #Focal\n",
    "\n",
    "#llama a transm_fdt\n",
    "#atilde=fdt.transm_fdt( x = 0.1, y = 0, wvlv ,tiltx = 0.0, tilty = 0.0 , teldegree = 0.23)\n",
    "\n",
    "tiltx = 0\n",
    "tilty = 0\n",
    "theta3 = 0 #Optical axis direction of the etalon\n",
    "teldegree=0.23\n",
    "\n",
    "theta0x = tiltx * np.pi/180 #Chief ray angle incidence in X direction at etalon center\n",
    "theta0y = tilty * np.pi/180 # Chief ray angle of incidene in Y direction at etalon center\n",
    "theta_tel = teldegree*np.pi/180 #Nominal degree of telecentrism center-border\n",
    "\n",
    "#Coordinates\n",
    "xi0 = f * theta0x\n",
    "eta0 = f * theta0y\n",
    "xi_lim = f * theta_tel #FOV [m]\n",
    "x = 0.0\n",
    "y = 0.0\n",
    "xi = x * xi_lim + xi0\n",
    "eta = y * xi_lim + eta0\n",
    "\n",
    "spg_etalon.h11pintr(0, 0, a, xi, eta, xi, eta, wvlv[10], theta3)\n"
   ]
  },
  {
   "cell_type": "code",
   "execution_count": 4,
   "metadata": {},
   "outputs": [
    {
     "name": "stdout",
     "output_type": "stream",
     "text": [
      "----H11pintr------\n",
      "wave:  6.173e-07 \n",
      "\n",
      "Python time: 0.0015421470006306967\n",
      "rust  time: 0.0009832143783569335\n",
      "H11pintr matches Python\n",
      "Python H11pintr:  -0.0\n",
      "Rust H11pintr:    -0.0\n",
      "H11pintr matches Python\n",
      "Python time: 0.0002991000811258952\n",
      "rust  time: 0.0007507165273030598\n",
      "H11pinti matches Python\n",
      "Python H11pinti:  -0.0\n",
      "Rust H11pinti:    -0.0\n",
      "H11pinti matches Python\n"
     ]
    }
   ],
   "source": [
    "print('----H11pintr------')\n",
    "\n",
    "#Spectral parameters\n",
    "wvl0 = etm.wvl0 #Central wavelength (617.3 nm)\n",
    "print('wave: ',etm.wvl0,'\\n')\n",
    "delta_1 = 60e-12 #Lower boundary of the wavelength range\n",
    "delta_2 = 60e-12 #Upper boundary of the wavelength range\n",
    "Nl = 121 #Number of wavelengths for the sampling of the profiles\n",
    "wvlv = wvl0 + np.linspace(-delta_1, delta_2, Nl) #Wavelengths vector\n",
    "\n",
    "#Simulation parameters\n",
    "Rp=17.5e-3/2 #Pupil radius\n",
    "fnum=etm.fnum #Telescope f-number\n",
    "f=2*Rp*fnum #Focal\n",
    "\n",
    "#llama a transm_fdt\n",
    "#atilde=fdt.transm_fdt( x = 0.1, y = 0, wvlv ,tiltx = 0.0, tilty = 0.0 , teldegree = 0.23)\n",
    "\n",
    "tiltx = 0\n",
    "tilty = 0\n",
    "theta3 = 0 #Optical axis direction of the etalon\n",
    "teldegree=0.23\n",
    "\n",
    "theta0x = tiltx * np.pi/180 #Chief ray angle incidence in X direction at etalon center\n",
    "theta0y = tilty * np.pi/180 # Chief ray angle of incidene in Y direction at etalon center\n",
    "theta_tel = teldegree*np.pi/180 #Nominal degree of telecentrism center-border\n",
    "\n",
    "#Coordinates\n",
    "xi0 = f * theta0x\n",
    "eta0 = f * theta0y\n",
    "xi_lim = f * theta_tel #FOV [m]\n",
    "x = 0.00000001\n",
    "y = 0.0\n",
    "xi = x * xi_lim + xi0\n",
    "eta = y * xi_lim + eta0\n",
    "\n",
    "lims = [[0,Rp],[0,2*np.pi]]\n",
    "\n",
    "n = 10\n",
    "Rp_lims = np.linspace(0,Rp, n)\n",
    "an_lims = np.linspace(0,2*np.pi, n)\n",
    "\n",
    "start = time.time()\n",
    "f1 = np.zeros((Nl,n,n))\n",
    "for i,ii in enumerate(Rp_lims):\n",
    "    for j,jj in enumerate(Rp_lims):\n",
    "        for ki,kki in enumerate(wvlv):\n",
    "            k = 2*np.pi/kki\n",
    "            f1[ ki, i, j ] = etm.H11pintr(ii, jj,  xi, eta, xi, eta, k, f, kki, theta3)\n",
    "end = time.time()\n",
    "print('Python time:',(end - start)/60.)\n",
    "\n",
    "start = time.time()\n",
    "f2 = np.zeros((Nl,n,n))\n",
    "for i,ii in enumerate(Rp_lims):\n",
    "    for j,jj in enumerate(Rp_lims):\n",
    "        for ki,kki in enumerate(wvlv):\n",
    "            f2[ ki, i, j ] = spg_etalon.h11pintr(ii, jj, a, xi, eta, xi, eta, kki, theta3)\n",
    "end = time.time()\n",
    "print('rust  time:',(end - start)/60.)\n",
    "\n",
    "check = np.isclose(f1,f2, rtol= tolerance)\n",
    "if not check.all():\n",
    "    print('ERROR H11pintr')\n",
    "else:\n",
    "    print('H11pintr matches Python')\n",
    "\n",
    "py_H11pintr = etm.H11pintr(0, 0,  xi, eta, xi, eta, k, f, wvlv[0], theta3)\n",
    "print('Python H11pintr: ',py_H11pintr)\n",
    "\n",
    "ru_H11pintr = spg_etalon.h11pintr(0, 0, a, xi, eta, xi, eta, wvlv[0], theta3)\n",
    "print('Rust H11pintr:   ',ru_H11pintr)\n",
    "\n",
    "check = np.isclose(f1,f2, rtol= tolerance)\n",
    "if not check.all():\n",
    "    print('ERROR H11pintr')\n",
    "else:\n",
    "    print('H11pintr matches Python')\n",
    "\n",
    "#********\n",
    "# CHECK H11ti\n",
    "\n",
    "start = time.time()\n",
    "f1 = np.zeros((Nl,n,n))\n",
    "for i,ii in enumerate(Rp_lims):\n",
    "    for j,jj in enumerate(Rp_lims):\n",
    "        for ki,kki in enumerate(wvlv):\n",
    "            k = 2*np.pi/kki\n",
    "            f1[ ki, i, j ] = etm.H11pinti(ii, jj,  xi, eta, xi, eta, k, f, kki, theta3)\n",
    "end = time.time()\n",
    "print('Python time:',(end - start)/60.)\n",
    "\n",
    "start = time.time()\n",
    "f2 = np.zeros((Nl,n,n))\n",
    "for i,ii in enumerate(Rp_lims):\n",
    "    for j,jj in enumerate(Rp_lims):\n",
    "        for ki,kki in enumerate(wvlv):\n",
    "            f2[ ki, i, j ] = spg_etalon.h11pinti(ii, jj, a, xi, eta, xi, eta, kki, theta3)\n",
    "end = time.time()\n",
    "print('rust  time:',(end - start)/60.)\n",
    "\n",
    "check = np.isclose(f1,f2, rtol= tolerance)\n",
    "if not check.all():\n",
    "    print('ERROR H11pintr')\n",
    "else:\n",
    "    print('H11pinti matches Python')\n",
    "\n",
    "py_H11pinti = etm.H11pinti(0, 0,  xi, eta, xi, eta, k, f, wvlv[0], theta3)\n",
    "print('Python H11pinti: ',py_H11pinti)\n",
    "\n",
    "ru_H11pinti = spg_etalon.h11pinti(0, 0, a, xi, eta, xi, eta, wvlv[0], theta3)\n",
    "print('Rust H11pinti:   ',ru_H11pinti)\n",
    "\n",
    "check = np.isclose(f1,f2, rtol= tolerance)\n",
    "if not check.all():\n",
    "    print('ERROR H11pinti')\n",
    "else:\n",
    "    print('H11pinti matches Python')\n"
   ]
  },
  {
   "cell_type": "code",
   "execution_count": 7,
   "metadata": {},
   "outputs": [
    {
     "name": "stdout",
     "output_type": "stream",
     "text": [
      "in:  0.0 0.0 0.0\n",
      "out:  0.0 0.0 0.0\n",
      "fr2:  [nan, nan, nan, nan, nan, nan, nan, nan, nan, nan, nan, nan, nan, nan, nan, nan, nan, nan, nan, nan, nan, nan, nan, nan, nan, nan, nan, nan, nan, nan, nan, nan, nan, nan, nan, nan, nan, nan, nan, nan, nan, nan, nan, nan, nan, nan, nan, nan, nan, nan, nan, nan, nan, nan, nan, nan, nan, nan, nan, nan, nan, nan, nan, nan, nan, nan, nan, nan, nan, nan, nan, nan, nan, nan, nan, nan, nan, nan, nan, nan, nan, nan, nan, nan, nan, nan, nan, nan, nan, nan, nan, nan, nan, nan, nan, nan, nan, nan, nan, nan, nan, nan, nan, nan, nan, nan, nan, nan, nan, nan, nan, nan, nan, nan, nan, nan, nan, nan, nan, nan, nan]\n"
     ]
    },
    {
     "data": {
      "image/png": "[encoded data removed]",
      "text/plain": [
       "<Figure size 432x288 with 1 Axes>"
      ]
     },
     "metadata": {
      "needs_background": "light"
     },
     "output_type": "display_data"
    }
   ],
   "source": [
    "#Integration\n",
    "Rp=17.5e-3/2 #Pupil radius\n",
    "fnum=etm.fnum #Telescope f-number\n",
    "Nl = 121\n",
    "\n",
    "tiltx = 0.0\n",
    "tilty = 0.0\n",
    "x = 0.0\n",
    "y = 0.0\n",
    "teldegree = 0.23\n",
    "#Etalon parameters\n",
    "theta0x=tiltx*np.pi/180#Chief ray angle incidence in X direction at etalon center\n",
    "theta0y=tilty*np.pi/180# Chief ray angle of incidene in Y direction at etalon center\n",
    "theta3=0.0 #Optical axis direction of the etalon\n",
    "theta_tel=teldegree*np.pi/180 #Nominal degree of telecentrism center-border\n",
    "\n",
    "f=2*Rp*fnum #Focal\n",
    "xi0=f*theta0x\n",
    "eta0=f*theta0y\n",
    "xi_lim=f*theta_tel #FOV [m]\n",
    "xi=x*xi_lim+xi0\n",
    "eta=y*xi_lim+eta0\n",
    "\n",
    "delta_1=60e-12 #Lower boundary of the wavelength range\n",
    "delta_2=60e-12 #Upper boundary of the wavelength range\n",
    "wvlv=etm.wvl0+np.linspace(-delta_1,delta_2,Nl) #Wavelengths vector\n",
    "\n",
    "start = time.time()\n",
    "f1r = np.zeros((Nl))\n",
    "for ki,kki in enumerate(wvlv):\n",
    "    k = 2*np.pi/kki\n",
    "    params=(xi,eta,xi,eta,k,f,kki,theta3) #xi0=xi; eta0=eta\n",
    "    inte = intgrl.nquad(etm.H11pinti,lims,args=params)\n",
    "    f1r[ ki ] = inte[0]\n",
    "\n",
    "print('in: ',xi,eta,theta3)\n",
    "f2r = spg_etalon.integrateh11pinti(a, xi, eta, xi, eta, theta3) \n",
    "print('out: ',xi,eta,theta3)\n",
    "plt.plot(f1r,'.')\n",
    "plt.plot(f2r)\n",
    "print('fr2: ',f2r)\n"
   ]
  },
  {
   "cell_type": "code",
   "execution_count": null,
   "metadata": {},
   "outputs": [
    {
     "name": "stdout",
     "output_type": "stream",
     "text": [
      "python  time: 0.0027430375417073567\n",
      "0 0.00875 100 0 6.283185307179586 100 0.00000000006 0.00000000006 121 0.000000000001\n",
      "rust  time: 0.00854009787241618\n",
      "ERROR integrate\n"
     ]
    },
    {
     "data": {
      "image/png": "[encoded data removed]",
      "text/plain": [
       "<Figure size 432x288 with 1 Axes>"
      ]
     },
     "metadata": {
      "needs_background": "light"
     },
     "output_type": "display_data"
    },
    {
     "name": "stdout",
     "output_type": "stream",
     "text": [
      "python  time: 0.0017181833585103352\n",
      "rust  time: 0.009305799007415771\n",
      "ERROR integrate\n"
     ]
    },
    {
     "data": {
      "image/png": "[encoded data removed]",
      "text/plain": [
       "<Figure size 432x288 with 1 Axes>"
      ]
     },
     "metadata": {
      "needs_background": "light"
     },
     "output_type": "display_data"
    },
    {
     "name": "stdout",
     "output_type": "stream",
     "text": [
      "rust  time (*): 0.02900786797205607\n",
      "ERROR integrate\n",
      "ERROR integrate\n",
      "ERROR integrate\n",
      "ERROR integrate\n"
     ]
    },
    {
     "data": {
      "image/png": "[encoded data removed]",
      "text/plain": [
       "<Figure size 432x288 with 1 Axes>"
      ]
     },
     "metadata": {
      "needs_background": "light"
     },
     "output_type": "display_data"
    },
    {
     "data": {
      "image/png": "[encoded data removed]",
      "text/plain": [
       "<Figure size 432x288 with 1 Axes>"
      ]
     },
     "metadata": {
      "needs_background": "light"
     },
     "output_type": "display_data"
    },
    {
     "name": "stdout",
     "output_type": "stream",
     "text": [
      "python  time: 0.0020768324534098308\n",
      "rust  time (*): 0.00546875\n"
     ]
    },
    {
     "data": {
      "image/png": "[encoded data removed]",
      "text/plain": [
       "<Figure size 432x288 with 1 Axes>"
      ]
     },
     "metadata": {
      "needs_background": "light"
     },
     "output_type": "display_data"
    }
   ],
   "source": [
    "#Integration\n",
    "Rp=17.5e-3/2 #Pupil radius\n",
    "fnum=etm.fnum #Telescope f-number\n",
    "Nl = 121\n",
    "\n",
    "tiltx = 0.0\n",
    "tilty = 0.0\n",
    "x = 0.0\n",
    "y = 0.0\n",
    "teldegree = 0.23\n",
    "#Etalon parameters\n",
    "theta0x=tiltx*np.pi/180#Chief ray angle incidence in X direction at etalon center\n",
    "theta0y=tilty*np.pi/180# Chief ray angle of incidene in Y direction at etalon center\n",
    "theta3=0.0 #Optical axis direction of the etalon\n",
    "theta_tel=teldegree*np.pi/180 #Nominal degree of telecentrism center-border\n",
    "\n",
    "f=2*Rp*fnum #Focal\n",
    "xi0=f*theta0x\n",
    "eta0=f*theta0y\n",
    "xi_lim=f*theta_tel #FOV [m]\n",
    "xi=x*xi_lim+xi0\n",
    "eta=y*xi_lim+eta0\n",
    "\n",
    "delta_1=60e-12 #Lower boundary of the wavelength range\n",
    "delta_2=60e-12 #Upper boundary of the wavelength range\n",
    "wvlv=etm.wvl0+np.linspace(-delta_1,delta_2,Nl) #Wavelengths vector\n",
    "\n",
    "start = time.time()\n",
    "f1r = np.zeros((Nl))\n",
    "for ki,kki in enumerate(wvlv):\n",
    "    k = 2*np.pi/kki\n",
    "    params=(xi,eta,xi,eta,k,f,kki,theta3) #xi0=xi; eta0=eta\n",
    "    inte = intgrl.nquad(etm.H11pintr,lims,args=params)\n",
    "    f1r[ ki ] = inte[0]\n",
    "\n",
    "end = time.time()\n",
    "print('python  time:',(end - start)/60.)\n",
    "\n",
    "start = time.time()\n",
    "f2r = spg_etalon.integrateh11pintr(a, xi, eta, xi, eta, theta3) \n",
    "\n",
    "end = time.time()\n",
    "print('rust  time:',(end - start)/60.)\n",
    "\n",
    "check = np.isclose(f1r,f2r, rtol= tolerance)\n",
    "if not check.all():\n",
    "    print('ERROR integrate')\n",
    "else:\n",
    "    print('integrate matches Python')\n",
    "\n",
    "plt.plot(f1r)\n",
    "plt.plot(f2r,'.')\n",
    "plt.show()\n",
    "\n",
    "\n",
    "#Integration with the other term\n",
    "\n",
    "###########################\n",
    "start = time.time()\n",
    "f1i = np.zeros((Nl))\n",
    "for ki,kki in enumerate(wvlv):\n",
    "    k = 2*np.pi/kki\n",
    "    params=(xi,eta,xi,eta,k,f,kki,theta3) #xi0=xi; eta0=eta\n",
    "    # H11tr = intgrl.nquad(etm.H11pintr,lims,args=params,opts=limit)\n",
    "    inte = intgrl.nquad(etm.H11pinti,lims,args=params)\n",
    "    # H11t = (H11tr[0]+1j*H11ti[0]) / (np.pi*Rp**2)\n",
    "    f1i[ ki ] = inte[0]\n",
    "\n",
    "end = time.time()\n",
    "print('python  time:',(end - start)/60.)\n",
    "\n",
    "\n",
    "start = time.time()\n",
    "f2i = np.zeros((Nl))\n",
    "f2i = spg_etalon.integrateh11pinti(a, xi, eta, xi, eta, theta3) \n",
    "\n",
    "end = time.time()\n",
    "print('rust  time:',(end - start)/60.)\n",
    "\n",
    "check = np.isclose(f1i,f2i, rtol= tolerance)\n",
    "if not check.all():\n",
    "    print('ERROR integrate')\n",
    "else:\n",
    "    print('integrate matches Python')\n",
    "\n",
    "plt.plot(f1i)\n",
    "plt.plot(f2i,'.')\n",
    "plt.show()\n",
    "\n",
    "start = time.time()\n",
    "f3 = np.array(spg_etalon.integratec(a, xi, eta, xi, eta, theta3))\n",
    "\n",
    "end = time.time()\n",
    "print('rust  time (*):',(end - start)/60.)\n",
    "\n",
    "check = np.isclose(f1i,f3.imag, rtol= tolerance)\n",
    "if not check.all():\n",
    "    print('ERROR integrate')\n",
    "else:\n",
    "    print('integrate matches Python')\n",
    "check = np.isclose(f2i,f3.imag, rtol= tolerance)\n",
    "if not check.all():\n",
    "    print('ERROR integrate')\n",
    "else:\n",
    "    print('integrate matches Python')\n",
    "check = np.isclose(f1r,f3.real, rtol= tolerance)\n",
    "if not check.all():\n",
    "    print('ERROR integrate')\n",
    "else:\n",
    "    print('integrate matches Python')\n",
    "check = np.isclose(f1r,f3.real, rtol= tolerance)\n",
    "if not check.all():\n",
    "    print('ERROR integrate')\n",
    "else:\n",
    "    print('integrate matches Python')\n",
    "\n",
    "plt.plot(f1i)\n",
    "plt.plot(f2i,'.')\n",
    "plt.plot(f3.imag,'.-')\n",
    "plt.show()\n",
    "plt.plot(f1r)\n",
    "plt.plot(f2r,'.')\n",
    "plt.plot(f3.real,'.-')\n",
    "plt.show()\n",
    "\n",
    "########################### FULL\n",
    "start = time.time()\n",
    "tr1 = np.zeros((Nl))\n",
    "for ki,kki in enumerate(wvlv):\n",
    "    k = 2*np.pi/kki\n",
    "    params=(xi,eta,xi,eta,k,f,kki,theta3) #xi0=xi; eta0=eta\n",
    "    H11tr = intgrl.nquad(etm.H11pintr,lims,args=params)\n",
    "    H11ti = intgrl.nquad(etm.H11pinti,lims,args=params)\n",
    "    H11t = (H11tr[0]+1j*H11ti[0]) / (np.pi*Rp**2)\n",
    "    tr1[ ki ],_ ,_ ,_ = etm.abcd(H11t,H11t)\n",
    "\n",
    "end = time.time()\n",
    "print('python  time:',(end - start)/60.)\n",
    "\n",
    "start = time.time()\n",
    "tr2 = np.array(spg_etalon.integrate(a, xi, eta, xi, eta, theta3))\n",
    "\n",
    "end = time.time()\n",
    "print('rust  time (*):',(end - start)/60.)\n",
    "\n",
    "plt.plot(tr1)\n",
    "plt.plot(tr2,'.')\n",
    "plt.show()\n",
    "\n",
    "    # \"\"\"\n",
    "    # Integrals to calculate a,b,c,d Mueller matrix coefficients\n",
    "    # \"\"\"\n",
    "    # i=-1 #Spectral index\n",
    "    # lims=[[0,Rp],[0,2*np.pi]]\n",
    "    # atilde=np.zeros(wvl.shape[0])\n",
    "\n",
    "    # print('Computation of integrals...')\n",
    "    # wvli = wvl[0]\n",
    "    \n",
    "    # i+=1\n",
    "    # k=2*np.pi/wvli\n",
    "\n",
    "    # params=(xi,eta,xi,eta,k,f,wvli,theta3) #xi0=xi; eta0=eta\n",
    "    # limit={'limit':50}\n",
    "    # H11tr=intgrl.nquad(etm.H11pintr,lims,args=params,opts=limit)\n",
    "    # H11ti = 0\n",
    "    # # H11ti=intgrl.nquad(etm.H11pinti,lims,args=params,opts=limit)\n",
    "    # H11t=(H11tr[0]+1j*H11ti[0])/(np.pi*Rp**2)\n",
    "    # #abcd\n",
    "    # atilde[i],btilde,ctilde,dtilde=etm.abcd(H11t,H11t)\n"
   ]
  },
  {
   "cell_type": "code",
   "execution_count": 8,
   "metadata": {},
   "outputs": [
    {
     "data": {
      "text/plain": [
       "[<matplotlib.lines.Line2D at 0x7fb271622510>]"
      ]
     },
     "execution_count": 8,
     "metadata": {},
     "output_type": "execute_result"
    },
    {
     "data": {
      "image/png": "[encoded data removed]",
      "text/plain": [
       "<Figure size 432x288 with 1 Axes>"
      ]
     },
     "metadata": {
      "needs_background": "light"
     },
     "output_type": "display_data"
    }
   ],
   "source": [
    "plt.plot(tr2)"
   ]
  },
  {
   "cell_type": "code",
   "execution_count": 9,
   "metadata": {},
   "outputs": [],
   "source": [
    "def simpson(lims,params):\n",
    "    startx = lims[0][0]\n",
    "    endx = lims[0][1]\n",
    "    stepsx = 6\n",
    "    starty = lims[1][0]\n",
    "    endy =lims[1][1]\n",
    "    stepsy = 6\n",
    "\n",
    "    stepx = (endx - startx) / stepsx \n",
    "    stepy = (endy - starty) / stepsy\n",
    "\n",
    "    result = 0\n",
    "    for i in range(stepsx+1):\n",
    "        x = startx + stepx * i\n",
    "        for j in range(stepsy + 1):\n",
    "            if i%2:\n",
    "                weight = 4.0\n",
    "            else:\n",
    "                weight = 2.0\n",
    "            y = starty + stepy * j\n",
    "            if (i == 0 or i == stepsx) and (j == 0 or j == stepsy): \n",
    "                weight = 1.0\n",
    "            elif i == 0 or i == stepsx: \n",
    "                if j%2:\n",
    "                    weight = 4.0\n",
    "                else:\n",
    "                    weight = 2.0\n",
    "            elif j == 0 or j == stepsy: \n",
    "                if i%2:\n",
    "                    weight = 4.0\n",
    "                else:\n",
    "                    weight = 2.0\n",
    "            else:\n",
    "                if j%2:\n",
    "                    weight *= 4.0\n",
    "                else:\n",
    "                    weight *= 2.0\n",
    "            # print(i,j,weight)\n",
    "            result += etm.H11pintr(x,y,params[0],params[1],params[2],params[3],params[4],params[5],params[6],params[7])*weight\n",
    "    result *= stepx * stepy / 9.0\n",
    "\n",
    "    return result"
   ]
  },
  {
   "cell_type": "code",
   "execution_count": 10,
   "metadata": {},
   "outputs": [
    {
     "ename": "ZeroDivisionError",
     "evalue": "division by zero",
     "output_type": "error",
     "traceback": [
      "\u001b[0;31m---------------------------------------------------------------------------\u001b[0m",
      "\u001b[0;31mZeroDivisionError\u001b[0m                         Traceback (most recent call last)",
      "\u001b[0;32m/var/folders/gd/s0v3jhd55fdd4wc8gx93b5pc0000gn/T/ipykernel_45447/2082422960.py\u001b[0m in \u001b[0;36m<module>\u001b[0;34m\u001b[0m\n\u001b[1;32m     12\u001b[0m     \u001b[0mk\u001b[0m \u001b[0;34m=\u001b[0m \u001b[0;36m2\u001b[0m\u001b[0;34m*\u001b[0m\u001b[0mnp\u001b[0m\u001b[0;34m.\u001b[0m\u001b[0mpi\u001b[0m\u001b[0;34m/\u001b[0m\u001b[0mkki\u001b[0m\u001b[0;34m\u001b[0m\u001b[0;34m\u001b[0m\u001b[0m\n\u001b[1;32m     13\u001b[0m     \u001b[0mparams\u001b[0m\u001b[0;34m=\u001b[0m\u001b[0;34m(\u001b[0m\u001b[0mxi\u001b[0m\u001b[0;34m,\u001b[0m\u001b[0meta\u001b[0m\u001b[0;34m,\u001b[0m\u001b[0mxi\u001b[0m\u001b[0;34m,\u001b[0m\u001b[0meta\u001b[0m\u001b[0;34m,\u001b[0m\u001b[0mk\u001b[0m\u001b[0;34m,\u001b[0m\u001b[0mf\u001b[0m\u001b[0;34m,\u001b[0m\u001b[0mkki\u001b[0m\u001b[0;34m,\u001b[0m\u001b[0mtheta3\u001b[0m\u001b[0;34m)\u001b[0m \u001b[0;31m#xi0=xi; eta0=eta\u001b[0m\u001b[0;34m\u001b[0m\u001b[0;34m\u001b[0m\u001b[0m\n\u001b[0;32m---> 14\u001b[0;31m     \u001b[0minte\u001b[0m \u001b[0;34m=\u001b[0m \u001b[0msimpson\u001b[0m\u001b[0;34m(\u001b[0m\u001b[0mlims\u001b[0m\u001b[0;34m,\u001b[0m\u001b[0mparams\u001b[0m\u001b[0;34m)\u001b[0m\u001b[0;34m\u001b[0m\u001b[0;34m\u001b[0m\u001b[0m\n\u001b[0m\u001b[1;32m     15\u001b[0m     \u001b[0mf1s\u001b[0m\u001b[0;34m[\u001b[0m \u001b[0mki\u001b[0m \u001b[0;34m]\u001b[0m \u001b[0;34m=\u001b[0m \u001b[0minte\u001b[0m\u001b[0;34m\u001b[0m\u001b[0;34m\u001b[0m\u001b[0m\n\u001b[1;32m     16\u001b[0m \u001b[0;34m\u001b[0m\u001b[0m\n",
      "\u001b[0;32m/var/folders/gd/s0v3jhd55fdd4wc8gx93b5pc0000gn/T/ipykernel_45447/3336166814.py\u001b[0m in \u001b[0;36msimpson\u001b[0;34m(lims, params)\u001b[0m\n\u001b[1;32m     37\u001b[0m                     \u001b[0mweight\u001b[0m \u001b[0;34m*=\u001b[0m \u001b[0;36m2.0\u001b[0m\u001b[0;34m\u001b[0m\u001b[0;34m\u001b[0m\u001b[0m\n\u001b[1;32m     38\u001b[0m             \u001b[0;31m# print(i,j,weight)\u001b[0m\u001b[0;34m\u001b[0m\u001b[0;34m\u001b[0m\u001b[0;34m\u001b[0m\u001b[0m\n\u001b[0;32m---> 39\u001b[0;31m             \u001b[0mresult\u001b[0m \u001b[0;34m+=\u001b[0m \u001b[0metm\u001b[0m\u001b[0;34m.\u001b[0m\u001b[0mH11pintr\u001b[0m\u001b[0;34m(\u001b[0m\u001b[0mx\u001b[0m\u001b[0;34m,\u001b[0m\u001b[0my\u001b[0m\u001b[0;34m,\u001b[0m\u001b[0mparams\u001b[0m\u001b[0;34m[\u001b[0m\u001b[0;36m0\u001b[0m\u001b[0;34m]\u001b[0m\u001b[0;34m,\u001b[0m\u001b[0mparams\u001b[0m\u001b[0;34m[\u001b[0m\u001b[0;36m1\u001b[0m\u001b[0;34m]\u001b[0m\u001b[0;34m,\u001b[0m\u001b[0mparams\u001b[0m\u001b[0;34m[\u001b[0m\u001b[0;36m2\u001b[0m\u001b[0;34m]\u001b[0m\u001b[0;34m,\u001b[0m\u001b[0mparams\u001b[0m\u001b[0;34m[\u001b[0m\u001b[0;36m3\u001b[0m\u001b[0;34m]\u001b[0m\u001b[0;34m,\u001b[0m\u001b[0mparams\u001b[0m\u001b[0;34m[\u001b[0m\u001b[0;36m4\u001b[0m\u001b[0;34m]\u001b[0m\u001b[0;34m,\u001b[0m\u001b[0mparams\u001b[0m\u001b[0;34m[\u001b[0m\u001b[0;36m5\u001b[0m\u001b[0;34m]\u001b[0m\u001b[0;34m,\u001b[0m\u001b[0mparams\u001b[0m\u001b[0;34m[\u001b[0m\u001b[0;36m6\u001b[0m\u001b[0;34m]\u001b[0m\u001b[0;34m,\u001b[0m\u001b[0mparams\u001b[0m\u001b[0;34m[\u001b[0m\u001b[0;36m7\u001b[0m\u001b[0;34m]\u001b[0m\u001b[0;34m)\u001b[0m\u001b[0;34m*\u001b[0m\u001b[0mweight\u001b[0m\u001b[0;34m\u001b[0m\u001b[0;34m\u001b[0m\u001b[0m\n\u001b[0m\u001b[1;32m     40\u001b[0m     \u001b[0mresult\u001b[0m \u001b[0;34m*=\u001b[0m \u001b[0mstepx\u001b[0m \u001b[0;34m*\u001b[0m \u001b[0mstepy\u001b[0m \u001b[0;34m/\u001b[0m \u001b[0;36m9.0\u001b[0m\u001b[0;34m\u001b[0m\u001b[0;34m\u001b[0m\u001b[0m\n\u001b[1;32m     41\u001b[0m \u001b[0;34m\u001b[0m\u001b[0m\n",
      "\u001b[0;31mZeroDivisionError\u001b[0m: division by zero"
     ]
    },
    {
     "data": {
      "image/png": "[encoded data removed]",
      "text/plain": [
       "<Figure size 432x288 with 1 Axes>"
      ]
     },
     "metadata": {
      "needs_background": "light"
     },
     "output_type": "display_data"
    }
   ],
   "source": [
    "f1 = np.zeros((Nl))\n",
    "for ki,kki in enumerate(wvlv):\n",
    "    k = 2*np.pi/kki\n",
    "    params=(xi,eta,xi,eta,k,f,kki,theta3) #xi0=xi; eta0=eta\n",
    "    inte = intgrl.nquad(etm.H11pintr,lims,args=params)\n",
    "    f1[ ki ] = inte[0]\n",
    "\n",
    "plt.plot(f1)\n",
    "\n",
    "f1s = np.zeros((Nl))\n",
    "for ki,kki in enumerate(wvlv):\n",
    "    k = 2*np.pi/kki\n",
    "    params=(xi,eta,xi,eta,k,f,kki,theta3) #xi0=xi; eta0=eta\n",
    "    inte = simpson(lims,params)\n",
    "    f1s[ ki ] = inte\n",
    "\n",
    "plt.plot(f1s,'.')\n",
    "\n",
    "plt.show()\n"
   ]
  },
  {
   "cell_type": "code",
   "execution_count": null,
   "metadata": {},
   "outputs": [],
   "source": []
  }
 ],
 "metadata": {
  "kernelspec": {
   "display_name": "base",
   "language": "python",
   "name": "python3"
  },
  "language_info": {
   "codemirror_mode": {
    "name": "ipython",
    "version": 3
   },
   "file_extension": ".py",
   "mimetype": "text/x-python",
   "name": "python",
   "nbconvert_exporter": "python",
   "pygments_lexer": "ipython3",
   "version": "3.7.7"
  },
  "orig_nbformat": 4,
  "vscode": {
   "interpreter": {
    "hash": "b44af457ca18329e8a5589a632869e07939e9f98bbf063e64d00dfcca876210e"
   }
  }
 },
 "nbformat": 4,
 "nbformat_minor": 2
}
