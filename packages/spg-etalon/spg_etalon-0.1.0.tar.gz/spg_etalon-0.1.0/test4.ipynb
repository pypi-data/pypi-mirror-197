{
 "cells": [
  {
   "cell_type": "code",
   "execution_count": 7,
   "metadata": {},
   "outputs": [],
   "source": [
    "import sys\n",
    "sys.path.append('../functions')\n",
    "import time\n",
    "import numpy as np\n",
    "import spg_etalon\n",
    "import et_mueller2 as etm\n",
    "import transmission_fdt as fdt\n",
    "\n",
    "from matplotlib import pyplot as plt\n",
    "\n",
    "def tol(x,y,tolerance=1e-9):\n",
    "    check = np.isclose(x,y, rtol= tolerance)\n",
    "    if not check.all():\n",
    "        print('NO MATCH')\n",
    "    else:\n",
    "        print('Similar')\n"
   ]
  },
  {
   "cell_type": "code",
   "execution_count": 8,
   "metadata": {},
   "outputs": [
    {
     "name": "stdout",
     "output_type": "stream",
     "text": [
      "-----------------Etalon main parameters------------------\n",
      "(wvl0) Central wavelength [m]:            +6.173e-7\n",
      "(fnum) f number:                          63.5\n",
      "(no) Ord. refraciton index:               2.29\n",
      "(ne) Ext. refraciton index:               2.29\n",
      "(h) Etalon thickness [m]:                 +2.500207171521161e-4\n",
      "(r) Reflectivity:                         0.92\n",
      "(a) Absorptance:                          0\n",
      "(wvl) Peak wavelength [m]:                +6.173018245588635e-7\n",
      "(m) Order of the resonance peak:          1855\n",
      "(d_h) Thickness var. to tune to wvl0 [m]: +2.0717152116101468e-8\n",
      "(tau) Transmittance:                      1\n",
      "(fin) Finesse:                            575.0000000000006\n",
      "(theta3) etalon optical axis [degree]:    0\n",
      "(rp) pupil radius [m]:                    0.00875\n",
      "(f) focal [m]:                            1.11125\n",
      "(tol) Tolerance:                          +1e-10\n",
      "---------Integration and instrument parameters ----------\n",
      "(intr) Rho int. values (from,to,step):    [0.0, 0.00875, 50.0]\n",
      "(intt) Theta int. values (from,to,step):  [0.0, 6.283185307179586, 50.0]\n",
      "---------------------------------------------------------\n"
     ]
    }
   ],
   "source": [
    "a=spg_etalon.EtalonProp()\n",
    "a.show()\n"
   ]
  },
  {
   "cell_type": "code",
   "execution_count": 15,
   "metadata": {},
   "outputs": [],
   "source": [
    "#Spectral parameters\n",
    "wvl0=etm.wvl0 #Central wavelength (617.3 nm)\n",
    "delta_1=50e-12 #Lower boundary of the wavelength range\n",
    "delta_2=50e-12 #Upper boundary of the wavelength range\n",
    "Nl=121 #Number of wavelengths for the sampling of the profiles\n",
    "wvlv=wvl0+np.linspace(-delta_1,delta_2,Nl) #Wavelengths vector"
   ]
  },
  {
   "cell_type": "code",
   "execution_count": 16,
   "metadata": {},
   "outputs": [
    {
     "name": "stdout",
     "output_type": "stream",
     "text": [
      "Changes integration indices in intr to [0.0, 0.00875, 10.0]\n",
      "Changes integration indices in intt to [0.0, 6.283185307179586, 10.0]\n"
     ]
    }
   ],
   "source": [
    "a.intr = [0,a.rp,10]\n",
    "a.intt = [0,2.0*np.pi,10]"
   ]
  },
  {
   "cell_type": "code",
   "execution_count": 19,
   "metadata": {},
   "outputs": [
    {
     "name": "stdout",
     "output_type": "stream",
     "text": [
      "Computation of integrals...\n",
      "python  time: 0.3403198719024658\n",
      "rust  time: 0.007161855697631836\n",
      "NO MATCH\n"
     ]
    }
   ],
   "source": [
    "#Call to transm_fdt\n",
    "start = time.time()\n",
    "atilde=fdt.transm_fdt(0.1,0,wvlv,0.1,0,0.23)\n",
    "end = time.time()\n",
    "print('python  time:',(end - start))\n",
    "\n",
    "start = time.time()\n",
    "ab = spg_etalon.integrate(a, wvlv,0.1, 0.0, 0.1,0.0,0.23)\n",
    "end = time.time()\n",
    "print('rust  time:',(end - start))\n",
    "\n",
    "tol(atilde,ab)"
   ]
  },
  {
   "cell_type": "code",
   "execution_count": 12,
   "metadata": {},
   "outputs": [
    {
     "ename": "NameError",
     "evalue": "name 'tumadre' is not defined",
     "output_type": "error",
     "traceback": [
      "\u001b[0;31m---------------------------------------------------------------------------\u001b[0m",
      "\u001b[0;31mNameError\u001b[0m                                 Traceback (most recent call last)",
      "\u001b[0;32m/var/folders/gd/s0v3jhd55fdd4wc8gx93b5pc0000gn/T/ipykernel_79361/636954734.py\u001b[0m in \u001b[0;36m<module>\u001b[0;34m\u001b[0m\n\u001b[0;32m----> 1\u001b[0;31m \u001b[0mtumadre\u001b[0m\u001b[0;34m\u001b[0m\u001b[0;34m\u001b[0m\u001b[0m\n\u001b[0m",
      "\u001b[0;31mNameError\u001b[0m: name 'tumadre' is not defined"
     ]
    }
   ],
   "source": [
    "tumadre"
   ]
  },
  {
   "cell_type": "code",
   "execution_count": null,
   "metadata": {},
   "outputs": [
    {
     "name": "stdout",
     "output_type": "stream",
     "text": [
      "Computation of integrals...\n",
      "Computation of integrals...\n",
      "Computation of integrals...\n",
      "Computation of integrals...\n",
      "Computation of integrals...\n",
      "Computation of integrals...\n",
      "Computation of integrals...\n",
      "Computation of integrals...\n",
      "Computation of integrals...\n",
      "Computation of integrals...\n",
      "Computation of integrals...\n",
      "Computation of integrals...\n",
      "Computation of integrals...\n",
      "Computation of integrals...\n",
      "Computation of integrals...\n",
      "Computation of integrals...\n",
      "Computation of integrals...\n",
      "Computation of integrals...\n",
      "Computation of integrals...\n",
      "Computation of integrals...\n",
      "Computation of integrals...\n",
      "Computation of integrals...\n",
      "Computation of integrals...\n",
      "Computation of integrals...\n",
      "Computation of integrals...\n",
      "Computation of integrals...\n",
      "Computation of integrals...\n",
      "Computation of integrals...\n",
      "Computation of integrals...\n",
      "Computation of integrals...\n",
      "Computation of integrals...\n",
      "Computation of integrals...\n",
      "Computation of integrals...\n",
      "Computation of integrals...\n",
      "Computation of integrals...\n",
      "Computation of integrals...\n",
      "Computation of integrals...\n",
      "Computation of integrals...\n",
      "Computation of integrals...\n",
      "Computation of integrals...\n",
      "Computation of integrals...\n",
      "Computation of integrals...\n",
      "Computation of integrals...\n",
      "Computation of integrals...\n",
      "Computation of integrals...\n",
      "Computation of integrals...\n",
      "Computation of integrals...\n",
      "Computation of integrals...\n",
      "Computation of integrals...\n",
      "Computation of integrals...\n",
      "Computation of integrals...\n",
      "Computation of integrals...\n",
      "Computation of integrals...\n",
      "Computation of integrals...\n",
      "Computation of integrals...\n",
      "Computation of integrals...\n",
      "Computation of integrals...\n",
      "Computation of integrals...\n",
      "Computation of integrals...\n",
      "Computation of integrals...\n",
      "Computation of integrals...\n",
      "Computation of integrals...\n",
      "Computation of integrals...\n",
      "Computation of integrals...\n",
      "Computation of integrals...\n",
      "Computation of integrals...\n",
      "Computation of integrals...\n",
      "Computation of integrals...\n",
      "Computation of integrals...\n",
      "Computation of integrals...\n",
      "Computation of integrals...\n",
      "Computation of integrals...\n",
      "Computation of integrals...\n",
      "Computation of integrals...\n",
      "Computation of integrals...\n",
      "Computation of integrals...\n",
      "Computation of integrals...\n",
      "Computation of integrals...\n",
      "Computation of integrals...\n",
      "Computation of integrals...\n",
      "Computation of integrals...\n",
      "Computation of integrals...\n",
      "Computation of integrals...\n",
      "Computation of integrals...\n",
      "Computation of integrals...\n",
      "Computation of integrals...\n",
      "Computation of integrals...\n",
      "Computation of integrals...\n",
      "Computation of integrals...\n",
      "Computation of integrals...\n",
      "Computation of integrals...\n",
      "Computation of integrals...\n",
      "Computation of integrals...\n",
      "Computation of integrals...\n",
      "Computation of integrals...\n",
      "Computation of integrals...\n",
      "Computation of integrals...\n",
      "Computation of integrals...\n",
      "Computation of integrals...\n",
      "Computation of integrals...\n"
     ]
    }
   ],
   "source": [
    "cases = np.linspace(10,1000,20)\n",
    "time1 = []\n",
    "time2 = []\n",
    "for i in cases:\n",
    "    wvlv=wvl0+np.linspace(-delta_1,delta_2,int(i)) #Wavelengths vector\n",
    "\n",
    "    start = time.time()\n",
    "    atilde=fdt.transm_fdt(0.1,0,wvlv,0.0,0,0.23)\n",
    "    end = time.time()\n",
    "    time1.append(end-start)\n",
    "\n",
    "    start = time.time()\n",
    "    ab = spg_etalon.integrate(a, wvlv,0.1, 0.0, 0.0,0.0,0.23)\n",
    "    end = time.time()\n",
    "    time2.append(end-start)"
   ]
  },
  {
   "cell_type": "code",
   "execution_count": null,
   "metadata": {},
   "outputs": [
    {
     "data": {
      "text/plain": [
       "(1.0, 50.0)"
      ]
     },
     "execution_count": 19,
     "metadata": {},
     "output_type": "execute_result"
    },
    {
     "data": {
      "image/png": "[encoded data removed]",
      "text/plain": [
       "<Figure size 432x288 with 1 Axes>"
      ]
     },
     "metadata": {
      "needs_background": "light"
     },
     "output_type": "display_data"
    }
   ],
   "source": [
    "plt.plot(np.array(time1)/np.array(time2))\n",
    "plt.ylim(1.0,50.0)"
   ]
  },
  {
   "cell_type": "code",
   "execution_count": null,
   "metadata": {},
   "outputs": [],
   "source": [
    "# Computation of integrals...\n",
    "# python  time: 0.009274089336395263\n",
    "# rust  time: 0.005178781350453695\n",
    "# NO MATCH"
   ]
  },
  {
   "cell_type": "code",
   "execution_count": null,
   "metadata": {},
   "outputs": [
    {
     "data": {
      "image/png": "[encoded data removed]",
      "text/plain": [
       "<Figure size 432x288 with 1 Axes>"
      ]
     },
     "metadata": {
      "needs_background": "light"
     },
     "output_type": "display_data"
    },
    {
     "data": {
      "image/png": "[encoded data removed]",
      "text/plain": [
       "<Figure size 432x288 with 1 Axes>"
      ]
     },
     "metadata": {
      "needs_background": "light"
     },
     "output_type": "display_data"
    }
   ],
   "source": [
    "\n",
    "plt.plot(atilde)\n",
    "plt.plot(ab,'.')\n",
    "plt.show()\n",
    "plt.plot(atilde - np.array(ab))\n",
    "plt.show()"
   ]
  },
  {
   "cell_type": "code",
   "execution_count": null,
   "metadata": {},
   "outputs": [],
   "source": []
  }
 ],
 "metadata": {
  "kernelspec": {
   "display_name": "base",
   "language": "python",
   "name": "python3"
  },
  "language_info": {
   "codemirror_mode": {
    "name": "ipython",
    "version": 3
   },
   "file_extension": ".py",
   "mimetype": "text/x-python",
   "name": "python",
   "nbconvert_exporter": "python",
   "pygments_lexer": "ipython3",
   "version": "3.7.7"
  },
  "orig_nbformat": 4,
  "vscode": {
   "interpreter": {
    "hash": "b44af457ca18329e8a5589a632869e07939e9f98bbf063e64d00dfcca876210e"
   }
  }
 },
 "nbformat": 4,
 "nbformat_minor": 2
}
