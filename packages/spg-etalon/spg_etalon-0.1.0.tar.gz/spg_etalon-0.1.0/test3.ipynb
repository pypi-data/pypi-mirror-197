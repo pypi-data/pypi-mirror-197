{
 "cells": [
  {
   "cell_type": "code",
   "execution_count": 1,
   "metadata": {},
   "outputs": [],
   "source": [
    "import sys\n",
    "import spg_etalon\n",
    "import numpy as np\n",
    "sys.path.append('../functions')\n",
    "import et_mueller2 as etm\n",
    "\n",
    "from matplotlib import pyplot as plt\n",
    "import time\n",
    "from scipy import integrate as intgrl\n",
    "\n"
   ]
  },
  {
   "cell_type": "code",
   "execution_count": 2,
   "metadata": {},
   "outputs": [
    {
     "name": "stdout",
     "output_type": "stream",
     "text": [
      "---------------------------------------------------------\n",
      "(wvl0) Central wavelength [m]:            +6.173e-7\n",
      "(fnum) f number:                          63.5\n",
      "(no) Ord. refraciton index:               2.29\n",
      "(ne) Ext. refraciton index:               2.29\n",
      "(h) Etalon thickness [m]:                 +2.500207171521161e-4\n",
      "(r) Reflectivity:                         0.92\n",
      "(a) Absorptance:                          0\n",
      "(wvl) Peak wavelength [m]:                +6.173018245588635e-7\n",
      "(m) Order of the resonance peak:          1855\n",
      "(d_h) Thickness var. to tune to wvl0 [m]: +2.0717152116101468e-8\n",
      "(tau) Transmittance:                      1\n",
      "(fin) Finesse:                            575.0000000000006\n",
      "(rp) pupil radius [m]:                    0.00875\n",
      "(f) focal [m]:                            1.11125\n",
      "(tol) Tolerance:                          +1e-10\n",
      "---------------------------------------------------------\n"
     ]
    }
   ],
   "source": [
    "tolerance = 1e-05\n",
    "\n",
    "a=spg_etalon.EtalonProp()\n",
    "a.show()"
   ]
  },
  {
   "cell_type": "code",
   "execution_count": 3,
   "metadata": {},
   "outputs": [
    {
     "name": "stdout",
     "output_type": "stream",
     "text": [
      "----H11pintr------\n",
      "wave:  6.173e-07 \n",
      "\n",
      "Python time: 0.000346835454305013\n",
      "rust  time: 0.0007615645726521809\n",
      "H11pintr matches Python\n",
      "Python time: 0.00026923020680745443\n",
      "rust  time: 0.0006618698438008627\n",
      "H11pinti matches Python\n"
     ]
    }
   ],
   "source": [
    "print('----H11pintr------')\n",
    "\n",
    "#Spectral parameters\n",
    "wvl0 = etm.wvl0 #Central wavelength (617.3 nm)\n",
    "print('wave: ',etm.wvl0,'\\n')\n",
    "delta_1 = 60e-12 #Lower boundary of the wavelength range\n",
    "delta_2 = 60e-12 #Upper boundary of the wavelength range\n",
    "Nl = 121 #Number of wavelengths for the sampling of the profiles\n",
    "wvlv = wvl0 + np.linspace(-delta_1, delta_2, Nl) #Wavelengths vector\n",
    "\n",
    "#Simulation parameters\n",
    "Rp = 17.5e-3/2 #Pupil radius\n",
    "fnum = etm.fnum #Telescope f-number\n",
    "f = 2 * Rp * fnum #Focal\n",
    "\n",
    "tiltx = 0\n",
    "tilty = 0\n",
    "theta3 = 0 #Optical axis direction of the etalon\n",
    "teldegree=0.23\n",
    "\n",
    "theta0x = tiltx * np.pi/180 #Chief ray angle incidence in X direction at etalon center\n",
    "theta0y = tilty * np.pi/180 # Chief ray angle of incidene in Y direction at etalon center\n",
    "theta_tel = teldegree*np.pi/180 #Nominal degree of telecentrism center-border\n",
    "\n",
    "#Coordinates\n",
    "xi0 = f * theta0x\n",
    "eta0 = f * theta0y\n",
    "xi_lim = f * theta_tel #FOV [m]\n",
    "x = 1.e-9\n",
    "y = 1.e-9\n",
    "xi = x * xi_lim + xi0\n",
    "eta = y * xi_lim + eta0\n",
    "\n",
    "lims = [[0,Rp],[0,2*np.pi]]\n",
    "\n",
    "n = 10\n",
    "Rp_lims = np.linspace(0,Rp, n)\n",
    "an_lims = np.linspace(0,2*np.pi, n)\n",
    "\n",
    "start = time.time()\n",
    "f1 = np.zeros((Nl,n,n))\n",
    "for i,ii in enumerate(Rp_lims):\n",
    "    for j,jj in enumerate(Rp_lims):\n",
    "        for ki,kki in enumerate(wvlv):\n",
    "            k = 2*np.pi/kki\n",
    "            f1[ ki, i, j ] = etm.H11pintr(ii, jj,  xi, eta, xi, eta, k, f, kki, theta3)\n",
    "end = time.time()\n",
    "print('Python time:',(end - start)/60.)\n",
    "\n",
    "start = time.time()\n",
    "f2 = np.zeros((Nl,n,n))\n",
    "for i,ii in enumerate(Rp_lims):\n",
    "    for j,jj in enumerate(Rp_lims):\n",
    "        for ki,kki in enumerate(wvlv):\n",
    "            f2[ ki, i, j ] = spg_etalon.h11pintr(ii, jj, a, xi, eta, xi, eta, kki, theta3)\n",
    "end = time.time()\n",
    "print('rust  time:',(end - start)/60.)\n",
    "\n",
    "check = np.isclose(f1,f2, rtol= tolerance)\n",
    "if not check.all():\n",
    "    print('ERROR H11pintr')\n",
    "else:\n",
    "    print('H11pintr matches Python')\n",
    "\n",
    "#********\n",
    "# CHECK H11ti\n",
    "\n",
    "start = time.time()\n",
    "f1 = np.zeros((Nl,n,n))\n",
    "for i,ii in enumerate(Rp_lims):\n",
    "    for j,jj in enumerate(Rp_lims):\n",
    "        for ki,kki in enumerate(wvlv):\n",
    "            k = 2*np.pi/kki\n",
    "            f1[ ki, i, j ] = etm.H11pinti(ii, jj,  xi, eta, xi, eta, k, f, kki, theta3)\n",
    "end = time.time()\n",
    "print('Python time:',(end - start)/60.)\n",
    "\n",
    "start = time.time()\n",
    "f2 = np.zeros((Nl,n,n))\n",
    "for i,ii in enumerate(Rp_lims):\n",
    "    for j,jj in enumerate(Rp_lims):\n",
    "        for ki,kki in enumerate(wvlv):\n",
    "            f2[ ki, i, j ] = spg_etalon.h11pinti(ii, jj, a, xi, eta, xi, eta, kki, theta3)\n",
    "end = time.time()\n",
    "print('rust  time:',(end - start)/60.)\n",
    "\n",
    "check = np.isclose(f1,f2, rtol= tolerance)\n",
    "if not check.all():\n",
    "    print('ERROR H11pintr')\n",
    "else:\n",
    "    print('H11pinti matches Python')\n"
   ]
  },
  {
   "cell_type": "code",
   "execution_count": 4,
   "metadata": {},
   "outputs": [
    {
     "name": "stdout",
     "output_type": "stream",
     "text": [
      "----H11pintr------\n",
      "wave:  6.173e-07 \n",
      "\n",
      "in:  0.0004460843401941008 4.460843401941007e-12 0\n",
      "out:  0.0004460843401941008 4.460843401941007e-12 0\n"
     ]
    },
    {
     "data": {
      "image/png": "[encoded data removed]",
      "text/plain": [
       "<Figure size 432x288 with 1 Axes>"
      ]
     },
     "metadata": {
      "needs_background": "light"
     },
     "output_type": "display_data"
    },
    {
     "name": "stdout",
     "output_type": "stream",
     "text": [
      "H11pintr integration matches Python\n",
      "in:  0.0004460843401941008 4.460843401941007e-12 0\n",
      "out:  0.0004460843401941008 4.460843401941007e-12 0\n",
      "H11pinti integration matches Python\n"
     ]
    },
    {
     "data": {
      "image/png": "[encoded data removed]",
      "text/plain": [
       "<Figure size 432x288 with 1 Axes>"
      ]
     },
     "metadata": {
      "needs_background": "light"
     },
     "output_type": "display_data"
    }
   ],
   "source": [
    "print('----H11pintr------')\n",
    "\n",
    "#Spectral parameters\n",
    "wvl0 = etm.wvl0 #Central wavelength (617.3 nm)\n",
    "print('wave: ',etm.wvl0,'\\n')\n",
    "delta_1 = 60e-12 #Lower boundary of the wavelength range\n",
    "delta_2 = 60e-12 #Upper boundary of the wavelength range\n",
    "Nl = 121 #Number of wavelengths for the sampling of the profiles\n",
    "wvlv = wvl0 + np.linspace(-delta_1, delta_2, Nl) #Wavelengths vector\n",
    "\n",
    "#Simulation parameters\n",
    "Rp = 17.5e-3/2 #Pupil radius\n",
    "fnum = etm.fnum #Telescope f-number\n",
    "f = 2 * Rp * fnum #Focal\n",
    "\n",
    "tiltx = 0\n",
    "tilty = 0\n",
    "theta3 = 0 #Optical axis direction of the etalon\n",
    "teldegree=0.23\n",
    "\n",
    "theta0x = tiltx * np.pi/180 #Chief ray angle incidence in X direction at etalon center\n",
    "theta0y = tilty * np.pi/180 # Chief ray angle of incidene in Y direction at etalon center\n",
    "theta_tel = teldegree*np.pi/180 #Nominal degree of telecentrism center-border\n",
    "\n",
    "#Coordinates\n",
    "xi0 = f * theta0x\n",
    "eta0 = f * theta0y\n",
    "xi_lim = f * theta_tel #FOV [m]\n",
    "x = 1.e-1\n",
    "y = 1.e-9\n",
    "xi = x * xi_lim + xi0\n",
    "eta = y * xi_lim + eta0\n",
    "\n",
    "lims = [[0,Rp],[0,2*np.pi]]\n",
    "\n",
    "n = 100\n",
    "Rp_lims = np.linspace(0,Rp, n)\n",
    "an_lims = np.linspace(0,2*np.pi, n)\n",
    "\n",
    "#Integration\n",
    "start = time.time()\n",
    "f1r = np.zeros((Nl))\n",
    "for ki,kki in enumerate(wvlv):\n",
    "    k = 2*np.pi/kki\n",
    "    params=(xi,eta,xi,eta,k,f,kki,theta3) #xi0=xi; eta0=eta\n",
    "    inte = intgrl.nquad(etm.H11pintr,lims,args=params)\n",
    "    f1r[ ki ] = inte[0]\n",
    "\n",
    "print('in: ',xi,eta,theta3)\n",
    "f2r = spg_etalon.integrateh11pintr(a, xi, eta, xi, eta, theta3) \n",
    "print('out: ',xi,eta,theta3)\n",
    "plt.plot((f1r - f2r)/np.max(np.abs(f1r))*100,'-')\n",
    "plt.show()\n",
    "\n",
    "check = np.isclose(f1r,f2r, rtol= tolerance)\n",
    "if not check.all():\n",
    "    print('ERROR H11pintr integration')\n",
    "else:\n",
    "    print('H11pintr integration matches Python')\n",
    "\n",
    "#Integration\n",
    "start = time.time()\n",
    "f1i = np.zeros((Nl))\n",
    "for ki,kki in enumerate(wvlv):\n",
    "    k = 2*np.pi/kki\n",
    "    params=(xi,eta,xi,eta,k,f,kki,theta3) #xi0=xi; eta0=eta\n",
    "    inte = intgrl.nquad(etm.H11pinti,lims,args=params)\n",
    "    f1i[ ki ] = inte[0] \n",
    "\n",
    "print('in: ',xi,eta,theta3)\n",
    "f2i = spg_etalon.integrateh11pinti(a, xi, eta, xi, eta, theta3) \n",
    "print('out: ',xi,eta,theta3)\n",
    "plt.plot((f1i - f2i)/np.max(np.abs(f1i))*100,'-')\n",
    "\n",
    "check = np.isclose(f1i,f2i, rtol= tolerance)\n",
    "if not check.all():\n",
    "    print('ERROR H11pinti integration')\n",
    "else:\n",
    "    print('H11pinti integration matches Python')\n",
    "\n"
   ]
  },
  {
   "cell_type": "code",
   "execution_count": null,
   "metadata": {},
   "outputs": [],
   "source": []
  },
  {
   "cell_type": "code",
   "execution_count": null,
   "metadata": {},
   "outputs": [],
   "source": []
  },
  {
   "cell_type": "code",
   "execution_count": null,
   "metadata": {},
   "outputs": [],
   "source": []
  },
  {
   "cell_type": "code",
   "execution_count": null,
   "metadata": {},
   "outputs": [],
   "source": []
  },
  {
   "cell_type": "code",
   "execution_count": null,
   "metadata": {},
   "outputs": [],
   "source": []
  },
  {
   "cell_type": "code",
   "execution_count": null,
   "metadata": {},
   "outputs": [],
   "source": []
  },
  {
   "cell_type": "code",
   "execution_count": null,
   "metadata": {},
   "outputs": [
    {
     "name": "stdout",
     "output_type": "stream",
     "text": [
      "python  time: 0.0027430375417073567\n",
      "0 0.00875 100 0 6.283185307179586 100 0.00000000006 0.00000000006 121 0.000000000001\n",
      "rust  time: 0.00854009787241618\n",
      "ERROR integrate\n"
     ]
    },
    {
     "data": {
      "image/png": "[encoded data removed]",
      "text/plain": [
       "<Figure size 432x288 with 1 Axes>"
      ]
     },
     "metadata": {
      "needs_background": "light"
     },
     "output_type": "display_data"
    },
    {
     "name": "stdout",
     "output_type": "stream",
     "text": [
      "python  time: 0.0017181833585103352\n",
      "rust  time: 0.009305799007415771\n",
      "ERROR integrate\n"
     ]
    },
    {
     "data": {
      "image/png": "[encoded data removed]",
      "text/plain": [
       "<Figure size 432x288 with 1 Axes>"
      ]
     },
     "metadata": {
      "needs_background": "light"
     },
     "output_type": "display_data"
    },
    {
     "name": "stdout",
     "output_type": "stream",
     "text": [
      "rust  time (*): 0.02900786797205607\n",
      "ERROR integrate\n",
      "ERROR integrate\n",
      "ERROR integrate\n",
      "ERROR integrate\n"
     ]
    },
    {
     "data": {
      "image/png": "[encoded data removed]",
      "text/plain": [
       "<Figure size 432x288 with 1 Axes>"
      ]
     },
     "metadata": {
      "needs_background": "light"
     },
     "output_type": "display_data"
    },
    {
     "data": {
      "image/png": "[encoded data removed]",
      "text/plain": [
       "<Figure size 432x288 with 1 Axes>"
      ]
     },
     "metadata": {
      "needs_background": "light"
     },
     "output_type": "display_data"
    },
    {
     "name": "stdout",
     "output_type": "stream",
     "text": [
      "python  time: 0.0020768324534098308\n",
      "rust  time (*): 0.00546875\n"
     ]
    },
    {
     "data": {
      "image/png": "[encoded data removed]",
      "text/plain": [
       "<Figure size 432x288 with 1 Axes>"
      ]
     },
     "metadata": {
      "needs_background": "light"
     },
     "output_type": "display_data"
    }
   ],
   "source": [
    "#Integration\n",
    "Rp=17.5e-3/2 #Pupil radius\n",
    "fnum=etm.fnum #Telescope f-number\n",
    "Nl = 121\n",
    "\n",
    "tiltx = 0.0\n",
    "tilty = 0.0\n",
    "x = 0.0\n",
    "y = 0.0\n",
    "teldegree = 0.23\n",
    "#Etalon parameters\n",
    "theta0x=tiltx*np.pi/180#Chief ray angle incidence in X direction at etalon center\n",
    "theta0y=tilty*np.pi/180# Chief ray angle of incidene in Y direction at etalon center\n",
    "theta3=0.0 #Optical axis direction of the etalon\n",
    "theta_tel=teldegree*np.pi/180 #Nominal degree of telecentrism center-border\n",
    "\n",
    "f=2*Rp*fnum #Focal\n",
    "xi0=f*theta0x\n",
    "eta0=f*theta0y\n",
    "xi_lim=f*theta_tel #FOV [m]\n",
    "xi=x*xi_lim+xi0\n",
    "eta=y*xi_lim+eta0\n",
    "\n",
    "delta_1=60e-12 #Lower boundary of the wavelength range\n",
    "delta_2=60e-12 #Upper boundary of the wavelength range\n",
    "wvlv=etm.wvl0+np.linspace(-delta_1,delta_2,Nl) #Wavelengths vector\n",
    "\n",
    "start = time.time()\n",
    "f1r = np.zeros((Nl))\n",
    "for ki,kki in enumerate(wvlv):\n",
    "    k = 2*np.pi/kki\n",
    "    params=(xi,eta,xi,eta,k,f,kki,theta3) #xi0=xi; eta0=eta\n",
    "    inte = intgrl.nquad(etm.H11pintr,lims,args=params)\n",
    "    f1r[ ki ] = inte[0]\n",
    "\n",
    "end = time.time()\n",
    "print('python  time:',(end - start)/60.)\n",
    "\n",
    "start = time.time()\n",
    "f2r = spg_etalon.integrateh11pintr(a, xi, eta, xi, eta, theta3) \n",
    "\n",
    "end = time.time()\n",
    "print('rust  time:',(end - start)/60.)\n",
    "\n",
    "check = np.isclose(f1r,f2r, rtol= tolerance)\n",
    "if not check.all():\n",
    "    print('ERROR integrate')\n",
    "else:\n",
    "    print('integrate matches Python')\n",
    "\n",
    "plt.plot(f1r)\n",
    "plt.plot(f2r,'.')\n",
    "plt.show()\n",
    "\n",
    "\n",
    "#Integration with the other term\n",
    "\n",
    "###########################\n",
    "start = time.time()\n",
    "f1i = np.zeros((Nl))\n",
    "for ki,kki in enumerate(wvlv):\n",
    "    k = 2*np.pi/kki\n",
    "    params=(xi,eta,xi,eta,k,f,kki,theta3) #xi0=xi; eta0=eta\n",
    "    # H11tr = intgrl.nquad(etm.H11pintr,lims,args=params,opts=limit)\n",
    "    inte = intgrl.nquad(etm.H11pinti,lims,args=params)\n",
    "    # H11t = (H11tr[0]+1j*H11ti[0]) / (np.pi*Rp**2)\n",
    "    f1i[ ki ] = inte[0]\n",
    "\n",
    "end = time.time()\n",
    "print('python  time:',(end - start)/60.)\n",
    "\n",
    "\n",
    "start = time.time()\n",
    "f2i = np.zeros((Nl))\n",
    "f2i = spg_etalon.integrateh11pinti(a, xi, eta, xi, eta, theta3) \n",
    "\n",
    "end = time.time()\n",
    "print('rust  time:',(end - start)/60.)\n",
    "\n",
    "check = np.isclose(f1i,f2i, rtol= tolerance)\n",
    "if not check.all():\n",
    "    print('ERROR integrate')\n",
    "else:\n",
    "    print('integrate matches Python')\n",
    "\n",
    "plt.plot(f1i)\n",
    "plt.plot(f2i,'.')\n",
    "plt.show()\n",
    "\n",
    "start = time.time()\n",
    "f3 = np.array(spg_etalon.integratec(a, xi, eta, xi, eta, theta3))\n",
    "\n",
    "end = time.time()\n",
    "print('rust  time (*):',(end - start)/60.)\n",
    "\n",
    "check = np.isclose(f1i,f3.imag, rtol= tolerance)\n",
    "if not check.all():\n",
    "    print('ERROR integrate')\n",
    "else:\n",
    "    print('integrate matches Python')\n",
    "check = np.isclose(f2i,f3.imag, rtol= tolerance)\n",
    "if not check.all():\n",
    "    print('ERROR integrate')\n",
    "else:\n",
    "    print('integrate matches Python')\n",
    "check = np.isclose(f1r,f3.real, rtol= tolerance)\n",
    "if not check.all():\n",
    "    print('ERROR integrate')\n",
    "else:\n",
    "    print('integrate matches Python')\n",
    "check = np.isclose(f1r,f3.real, rtol= tolerance)\n",
    "if not check.all():\n",
    "    print('ERROR integrate')\n",
    "else:\n",
    "    print('integrate matches Python')\n",
    "\n",
    "plt.plot(f1i)\n",
    "plt.plot(f2i,'.')\n",
    "plt.plot(f3.imag,'.-')\n",
    "plt.show()\n",
    "plt.plot(f1r)\n",
    "plt.plot(f2r,'.')\n",
    "plt.plot(f3.real,'.-')\n",
    "plt.show()\n",
    "\n",
    "########################### FULL\n",
    "start = time.time()\n",
    "tr1 = np.zeros((Nl))\n",
    "for ki,kki in enumerate(wvlv):\n",
    "    k = 2*np.pi/kki\n",
    "    params=(xi,eta,xi,eta,k,f,kki,theta3) #xi0=xi; eta0=eta\n",
    "    H11tr = intgrl.nquad(etm.H11pintr,lims,args=params)\n",
    "    H11ti = intgrl.nquad(etm.H11pinti,lims,args=params)\n",
    "    H11t = (H11tr[0]+1j*H11ti[0]) / (np.pi*Rp**2)\n",
    "    tr1[ ki ],_ ,_ ,_ = etm.abcd(H11t,H11t)\n",
    "\n",
    "end = time.time()\n",
    "print('python  time:',(end - start)/60.)\n",
    "\n",
    "start = time.time()\n",
    "tr2 = np.array(spg_etalon.integrate(a, xi, eta, xi, eta, theta3))\n",
    "\n",
    "end = time.time()\n",
    "print('rust  time (*):',(end - start)/60.)\n",
    "\n",
    "plt.plot(tr1)\n",
    "plt.plot(tr2,'.')\n",
    "plt.show()\n",
    "\n",
    "    # \"\"\"\n",
    "    # Integrals to calculate a,b,c,d Mueller matrix coefficients\n",
    "    # \"\"\"\n",
    "    # i=-1 #Spectral index\n",
    "    # lims=[[0,Rp],[0,2*np.pi]]\n",
    "    # atilde=np.zeros(wvl.shape[0])\n",
    "\n",
    "    # print('Computation of integrals...')\n",
    "    # wvli = wvl[0]\n",
    "    \n",
    "    # i+=1\n",
    "    # k=2*np.pi/wvli\n",
    "\n",
    "    # params=(xi,eta,xi,eta,k,f,wvli,theta3) #xi0=xi; eta0=eta\n",
    "    # limit={'limit':50}\n",
    "    # H11tr=intgrl.nquad(etm.H11pintr,lims,args=params,opts=limit)\n",
    "    # H11ti = 0\n",
    "    # # H11ti=intgrl.nquad(etm.H11pinti,lims,args=params,opts=limit)\n",
    "    # H11t=(H11tr[0]+1j*H11ti[0])/(np.pi*Rp**2)\n",
    "    # #abcd\n",
    "    # atilde[i],btilde,ctilde,dtilde=etm.abcd(H11t,H11t)\n"
   ]
  }
 ],
 "metadata": {
  "kernelspec": {
   "display_name": "base",
   "language": "python",
   "name": "python3"
  },
  "language_info": {
   "codemirror_mode": {
    "name": "ipython",
    "version": 3
   },
   "file_extension": ".py",
   "mimetype": "text/x-python",
   "name": "python",
   "nbconvert_exporter": "python",
   "pygments_lexer": "ipython3",
   "version": "3.7.7"
  },
  "orig_nbformat": 4,
  "vscode": {
   "interpreter": {
    "hash": "b44af457ca18329e8a5589a632869e07939e9f98bbf063e64d00dfcca876210e"
   }
  }
 },
 "nbformat": 4,
 "nbformat_minor": 2
}
