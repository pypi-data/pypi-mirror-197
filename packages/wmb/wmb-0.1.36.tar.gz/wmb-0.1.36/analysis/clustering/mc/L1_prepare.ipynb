{
 "cells": [
  {
   "cell_type": "code",
   "execution_count": null,
   "id": "57d29ddb",
   "metadata": {
    "ExecuteTime": {
     "end_time": "2022-05-03T22:44:59.365125Z",
     "start_time": "2022-05-03T22:44:59.178577Z"
    }
   },
   "outputs": [],
   "source": [
    "import yaml\n",
    "import pathlib\n",
    "import pandas as pd"
   ]
  },
  {
   "cell_type": "code",
   "execution_count": null,
   "id": "d131b6c2",
   "metadata": {
    "ExecuteTime": {
     "end_time": "2022-05-03T22:44:59.393217Z",
     "start_time": "2022-05-03T22:44:59.391277Z"
    }
   },
   "outputs": [],
   "source": [
    "template_dir = pathlib.Path().absolute()"
   ]
  },
  {
   "cell_type": "code",
   "execution_count": null,
   "id": "299ebf7c",
   "metadata": {
    "ExecuteTime": {
     "end_time": "2022-05-03T22:44:59.848778Z",
     "start_time": "2022-05-03T22:44:59.843699Z"
    }
   },
   "outputs": [],
   "source": [
    "snakemake = f\"\"\"\n",
    "template_dir = '{template_dir}'\n",
    "template_dir = template_dir.rstrip('/')\n",
    "\n",
    "rule all:\n",
    "    input:\n",
    "        'finish'\n",
    "\n",
    "\"\"\"\n",
    "\n",
    "nbs = pd.Series({\n",
    "    p.name.split('-')[0]: p.name.split('.')[0]\n",
    "    for p in template_dir.glob('*-*.ipynb')\n",
    "}).sort_index()\n",
    "for rule_id, rule_nb_name in nbs.items():\n",
    "    if rule_id == nbs.index[-1]:\n",
    "        last_flag = 'flag=\"finish\"'\n",
    "    else:\n",
    "        last_flag = ''\n",
    "        \n",
    "    rule_text = f\"\"\"\n",
    "rule r{rule_id}:\n",
    "    input:\n",
    "        nb=f\"{{template_dir}}/{rule_nb_name}.ipynb\",\n",
    "        config=f'config/{rule_id}.yaml',\n",
    "    output:\n",
    "        {last_flag}\n",
    "    log:\n",
    "        nb=\"{rule_nb_name}.ipynb\",\n",
    "        log=\"log/{rule_nb_name}.log\"\n",
    "    threads: 1\n",
    "    shell:\n",
    "        \"papermill -f {{input.config}} \"\n",
    "        \"{{input.nb}} {{log.nb}} \"\n",
    "        \"> {{log.log}} 2>&1\"\n",
    "\"\"\"\n",
    "    snakemake += rule_text\n",
    "with open('../L1/Snakefile_template', 'w') as f:\n",
    "    f.write(snakemake)"
   ]
  },
  {
   "cell_type": "code",
   "execution_count": null,
   "id": "21ba5180",
   "metadata": {},
   "outputs": [],
   "source": []
  },
  {
   "cell_type": "code",
   "execution_count": null,
   "id": "0b38b9a8",
   "metadata": {},
   "outputs": [],
   "source": []
  },
  {
   "cell_type": "code",
   "execution_count": null,
   "id": "57a205ed",
   "metadata": {},
   "outputs": [],
   "source": []
  },
  {
   "cell_type": "code",
   "execution_count": null,
   "id": "0862960b",
   "metadata": {},
   "outputs": [],
   "source": []
  },
  {
   "cell_type": "code",
   "execution_count": null,
   "id": "655b25ed",
   "metadata": {},
   "outputs": [],
   "source": []
  },
  {
   "cell_type": "code",
   "execution_count": null,
   "id": "e4c48310",
   "metadata": {},
   "outputs": [],
   "source": []
  },
  {
   "cell_type": "code",
   "execution_count": null,
   "id": "860ffa1f",
   "metadata": {},
   "outputs": [],
   "source": []
  },
  {
   "cell_type": "code",
   "execution_count": null,
   "id": "acb1e3e7",
   "metadata": {},
   "outputs": [],
   "source": []
  }
 ],
 "metadata": {
  "hide_input": false,
  "kernelspec": {
   "display_name": "Python 3 (ipykernel)",
   "language": "python",
   "name": "python3"
  },
  "language_info": {
   "codemirror_mode": {
    "name": "ipython",
    "version": 3
   },
   "file_extension": ".py",
   "mimetype": "text/x-python",
   "name": "python",
   "nbconvert_exporter": "python",
   "pygments_lexer": "ipython3",
   "version": "3.8.12"
  },
  "toc": {
   "base_numbering": 1,
   "nav_menu": {},
   "number_sections": true,
   "sideBar": true,
   "skip_h1_title": true,
   "title_cell": "Table of Contents",
   "title_sidebar": "Contents",
   "toc_cell": false,
   "toc_position": {},
   "toc_section_display": true,
   "toc_window_display": true
  }
 },
 "nbformat": 4,
 "nbformat_minor": 5
}
