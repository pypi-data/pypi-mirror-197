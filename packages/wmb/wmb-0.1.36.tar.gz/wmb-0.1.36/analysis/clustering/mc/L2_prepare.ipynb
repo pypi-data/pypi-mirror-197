{
 "cells": [
  {
   "cell_type": "code",
   "execution_count": null,
   "id": "85e80402",
   "metadata": {
    "ExecuteTime": {
     "end_time": "2022-05-04T00:43:04.565316Z",
     "start_time": "2022-05-04T00:43:04.014392Z"
    }
   },
   "outputs": [],
   "source": [
    "import yaml\n",
    "import pathlib\n",
    "import anndata\n",
    "import pandas as pd"
   ]
  },
  {
   "cell_type": "code",
   "execution_count": null,
   "id": "cedc1ed2",
   "metadata": {
    "ExecuteTime": {
     "end_time": "2022-05-04T00:43:05.076940Z",
     "start_time": "2022-05-04T00:43:05.074519Z"
    }
   },
   "outputs": [],
   "source": [
    "cluster_dir = '../L2/'\n",
    "\n",
    "cluster_dir = pathlib.Path(cluster_dir).absolute()\n",
    "cluster_dir.mkdir(exist_ok=True)"
   ]
  },
  {
   "cell_type": "code",
   "execution_count": null,
   "id": "230fe748",
   "metadata": {
    "ExecuteTime": {
     "end_time": "2022-05-04T00:43:06.150787Z",
     "start_time": "2022-05-04T00:43:05.653484Z"
    }
   },
   "outputs": [],
   "source": [
    "parent_adata = anndata.read_h5ad('../L1/adata.with_coords.h5ad')"
   ]
  },
  {
   "cell_type": "code",
   "execution_count": null,
   "id": "ffc1a5ea",
   "metadata": {
    "ExecuteTime": {
     "end_time": "2022-05-04T00:43:06.746289Z",
     "start_time": "2022-05-04T00:43:06.742181Z"
    }
   },
   "outputs": [],
   "source": [
    "def prepare_group(group, cells):\n",
    "    group_dir = cluster_dir / group\n",
    "    group_dir.mkdir(exist_ok=True)\n",
    "    config_dir = group_dir / 'config'\n",
    "    config_dir.mkdir(exist_ok=True)\n",
    "\n",
    "    # subset cells\n",
    "    with open(group_dir / 'select_cells.txt', 'w') as f:\n",
    "        f.write('\\n'.join(cells.index))\n",
    "\n",
    "    for path in pathlib.Path('config/').glob('*.yaml'):\n",
    "        with open(path) as f, open(config_dir / path.name, 'w') as outf:\n",
    "            config = yaml.safe_load(f)\n",
    "\n",
    "            # adjust the default parameters for all the groups\n",
    "            if 'select_cells' in config:\n",
    "                config['select_cells'] = 'select_cells.txt'\n",
    "            if 'leiden_resolution' in config:\n",
    "                config['leiden_resolution'] = 0.3\n",
    "\n",
    "            yaml.safe_dump(config, outf)\n",
    "    return"
   ]
  },
  {
   "cell_type": "code",
   "execution_count": null,
   "id": "66893712",
   "metadata": {
    "ExecuteTime": {
     "end_time": "2022-05-04T00:43:08.682211Z",
     "start_time": "2022-05-04T00:43:07.772655Z"
    },
    "deletable": false,
    "editable": false,
    "run_control": {
     "frozen": true
    }
   },
   "outputs": [],
   "source": [
    "for group, cells in parent_adata.obs.groupby('L1'):\n",
    "    prepare_group(group, cells)"
   ]
  },
  {
   "cell_type": "code",
   "execution_count": null,
   "id": "fae6e548",
   "metadata": {
    "ExecuteTime": {
     "end_time": "2022-05-04T00:06:03.993641Z",
     "start_time": "2022-05-04T00:06:03.990508Z"
    },
    "deletable": false,
    "editable": false,
    "run_control": {
     "frozen": true
    }
   },
   "outputs": [],
   "source": [
    "# copy the snakefile\n",
    "with open('../L2/Snakefile', 'w') as outf, open('Snakefile') as f:\n",
    "    snakefile = f.read()\n",
    "    snakefile = snakefile.replace('REPLACE_TEMPLATE_DIR',\n",
    "                                  str(pathlib.Path().absolute()))\n",
    "    outf.write(snakefile)"
   ]
  },
  {
   "cell_type": "code",
   "execution_count": null,
   "id": "159d76e4",
   "metadata": {},
   "outputs": [],
   "source": []
  },
  {
   "cell_type": "code",
   "execution_count": null,
   "id": "8d853be2",
   "metadata": {},
   "outputs": [],
   "source": []
  }
 ],
 "metadata": {
  "hide_input": false,
  "kernelspec": {
   "display_name": "Python 3 (ipykernel)",
   "language": "python",
   "name": "python3"
  },
  "language_info": {
   "codemirror_mode": {
    "name": "ipython",
    "version": 3
   },
   "file_extension": ".py",
   "mimetype": "text/x-python",
   "name": "python",
   "nbconvert_exporter": "python",
   "pygments_lexer": "ipython3",
   "version": "3.8.12"
  },
  "toc": {
   "base_numbering": 1,
   "nav_menu": {},
   "number_sections": true,
   "sideBar": true,
   "skip_h1_title": true,
   "title_cell": "Table of Contents",
   "title_sidebar": "Contents",
   "toc_cell": false,
   "toc_position": {},
   "toc_section_display": true,
   "toc_window_display": true
  }
 },
 "nbformat": 4,
 "nbformat_minor": 5
}
