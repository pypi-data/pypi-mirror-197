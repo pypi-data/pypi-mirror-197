{
 "cells": [
  {
   "cell_type": "markdown",
   "metadata": {},
   "source": [
    "# Preclustering and Cluster Enriched Features\n",
    "\n",
    "## Purpose\n",
    "The purpose of this step is to perform a simple pre-clustering using the highly variable features to get a pre-clusters labeling. We then select top enriched features for each cluster (CEF) for further analysis.\n",
    "\n",
    "## Input\n",
    "- HVF adata file.\n",
    "\n",
    "## Output\n",
    "- HVF adata file with pre-clusters and CEF annotated."
   ]
  },
  {
   "cell_type": "markdown",
   "metadata": {},
   "source": [
    "## Import"
   ]
  },
  {
   "cell_type": "code",
   "execution_count": null,
   "metadata": {
    "ExecuteTime": {
     "end_time": "2022-05-03T07:50:54.197274Z",
     "start_time": "2022-05-03T07:50:52.234550Z"
    }
   },
   "outputs": [],
   "source": [
    "import yaml\n",
    "import anndata\n",
    "import scanpy as sc\n",
    "import pandas as pd\n",
    "from ALLCools.clustering import cluster_enriched_features, significant_pc_test, log_scale"
   ]
  },
  {
   "cell_type": "markdown",
   "metadata": {},
   "source": [
    "## Parameters"
   ]
  },
  {
   "cell_type": "code",
   "execution_count": null,
   "metadata": {
    "ExecuteTime": {
     "end_time": "2022-05-03T07:50:54.232271Z",
     "start_time": "2022-05-03T07:50:54.226837Z"
    },
    "tags": [
     "parameters"
    ]
   },
   "outputs": [],
   "source": [
    "with open('config/04b.yaml', 'r') as f:\n",
    "    config = yaml.safe_load(f)\n",
    "    locals().update(config)\n",
    "    print('Notebook configs:')\n",
    "    for _k, _v in config.items():\n",
    "        print(f'{_k} = {_v}')"
   ]
  },
  {
   "cell_type": "markdown",
   "metadata": {},
   "source": [
    "## Load Data"
   ]
  },
  {
   "cell_type": "code",
   "execution_count": null,
   "metadata": {
    "ExecuteTime": {
     "end_time": "2022-05-03T07:51:06.572338Z",
     "start_time": "2022-05-03T07:50:54.233997Z"
    }
   },
   "outputs": [],
   "source": [
    "adata = anndata.read_h5ad(adata_path)"
   ]
  },
  {
   "cell_type": "markdown",
   "metadata": {},
   "source": [
    "## Pre-Clustering\n",
    "\n",
    "If cluster label is not provided, will perform basic clustering here"
   ]
  },
  {
   "cell_type": "code",
   "execution_count": null,
   "metadata": {
    "ExecuteTime": {
     "end_time": "2022-05-03T08:11:20.759838Z",
     "start_time": "2022-05-03T08:03:24.183696Z"
    }
   },
   "outputs": [],
   "source": [
    "if cluster_col is None:\n",
    "    # IMPORTANT\n",
    "    # put the unscaled matrix in adata.raw\n",
    "    adata.raw = adata\n",
    "    log_scale(adata)\n",
    "    \n",
    "    sc.tl.pca(adata, n_comps=min(min(adata.shape) - 1, 100))\n",
    "    significant_pc_test(adata, p_cutoff=0.1, update=True)\n",
    "    \n",
    "    sc.pp.neighbors(adata, n_neighbors=knn)\n",
    "    sc.tl.leiden(adata, resolution=resolution)\n",
    "    \n",
    "    if cluster_plot:\n",
    "        sc.tl.umap(adata)\n",
    "        sc.pl.umap(adata, color='leiden')\n",
    "    \n",
    "    # return to unscaled X, CEF need to use the unscaled matrix\n",
    "    adata = adata.raw.to_adata()\n",
    "    del adata.uns['log']\n",
    "    \n",
    "    cluster_col = 'leiden'"
   ]
  },
  {
   "cell_type": "markdown",
   "metadata": {},
   "source": [
    "## Downsample if the adata is too large"
   ]
  },
  {
   "cell_type": "code",
   "execution_count": null,
   "metadata": {
    "ExecuteTime": {
     "end_time": "2022-05-03T08:11:26.724756Z",
     "start_time": "2022-05-03T08:11:20.762251Z"
    }
   },
   "outputs": [],
   "source": [
    "if downsample is not None:\n",
    "    use_cells = []\n",
    "    for cluster, sub_df in adata.obs.groupby(cluster_col):\n",
    "        if sub_df.shape[0] > downsample:\n",
    "            cells = sub_df.sample(downsample).index\n",
    "        else:\n",
    "            cells = sub_df.index\n",
    "        use_cells += cells.tolist()\n",
    "    use_adata = adata[pd.Index(use_cells), :].copy()\n",
    "else:\n",
    "    use_adata = adata"
   ]
  },
  {
   "cell_type": "markdown",
   "metadata": {},
   "source": [
    "## Cluster Enriched Features (CEF)"
   ]
  },
  {
   "cell_type": "code",
   "execution_count": null,
   "metadata": {
    "ExecuteTime": {
     "end_time": "2022-05-03T08:11:49.420952Z",
     "start_time": "2022-05-03T08:11:26.726118Z"
    }
   },
   "outputs": [],
   "source": [
    "cluster_enriched_features(use_adata,\n",
    "                          cluster_col=cluster_col,\n",
    "                          top_n=top_n,\n",
    "                          alpha=alpha,\n",
    "                          stat_plot=True)"
   ]
  },
  {
   "cell_type": "code",
   "execution_count": null,
   "metadata": {
    "ExecuteTime": {
     "end_time": "2022-05-03T08:11:49.426879Z",
     "start_time": "2022-05-03T08:11:49.422937Z"
    }
   },
   "outputs": [],
   "source": [
    "use_adata"
   ]
  },
  {
   "cell_type": "code",
   "execution_count": null,
   "metadata": {
    "ExecuteTime": {
     "end_time": "2022-05-03T08:11:49.431467Z",
     "start_time": "2022-05-03T08:11:49.427977Z"
    }
   },
   "outputs": [],
   "source": [
    "if downsample is not None:\n",
    "    adata.uns[f'{cluster_col}_feature_enrichment'] = use_adata.uns[f'{cluster_col}_feature_enrichment']\n",
    "    adata.var[f'{cluster_col}_enriched_features'] = use_adata.var[f'{cluster_col}_enriched_features']\n",
    "else:\n",
    "    adata = use_adata"
   ]
  },
  {
   "cell_type": "markdown",
   "metadata": {},
   "source": [
    "## Save AnnData"
   ]
  },
  {
   "cell_type": "code",
   "execution_count": null,
   "metadata": {
    "ExecuteTime": {
     "start_time": "2022-05-03T08:03:31.677Z"
    }
   },
   "outputs": [],
   "source": [
    "adata = adata[:, adata.var[f'{cluster_col}_enriched_features']]\n",
    "adata.write_h5ad('mCG.CEF.h5ad')"
   ]
  },
  {
   "cell_type": "code",
   "execution_count": null,
   "metadata": {},
   "outputs": [],
   "source": []
  }
 ],
 "metadata": {
  "hide_input": false,
  "kernelspec": {
   "display_name": "Python 3 (ipykernel)",
   "language": "python",
   "name": "python3"
  },
  "language_info": {
   "codemirror_mode": {
    "name": "ipython",
    "version": 3
   },
   "file_extension": ".py",
   "mimetype": "text/x-python",
   "name": "python",
   "nbconvert_exporter": "python",
   "pygments_lexer": "ipython3",
   "version": "3.8.12"
  },
  "toc": {
   "base_numbering": 1,
   "nav_menu": {},
   "number_sections": true,
   "sideBar": true,
   "skip_h1_title": true,
   "title_cell": "Table of Contents",
   "title_sidebar": "Contents",
   "toc_cell": false,
   "toc_position": {},
   "toc_section_display": true,
   "toc_window_display": true
  }
 },
 "nbformat": 4,
 "nbformat_minor": 4
}
