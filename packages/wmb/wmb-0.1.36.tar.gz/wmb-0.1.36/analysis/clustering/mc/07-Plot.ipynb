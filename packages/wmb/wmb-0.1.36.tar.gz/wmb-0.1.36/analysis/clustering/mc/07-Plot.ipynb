{
 "cells": [
  {
   "cell_type": "markdown",
   "metadata": {},
   "source": [
    "# Plot Cluster DMGs"
   ]
  },
  {
   "cell_type": "code",
   "execution_count": null,
   "metadata": {
    "ExecuteTime": {
     "end_time": "2022-05-04T07:05:36.332074Z",
     "start_time": "2022-05-04T07:05:35.175852Z"
    }
   },
   "outputs": [],
   "source": [
    "import yaml\n",
    "import pandas as pd\n",
    "import numpy as np\n",
    "import anndata\n",
    "import matplotlib.pyplot as plt\n",
    "import seaborn as sns\n",
    "\n",
    "from ALLCools.plot import *\n",
    "from wmb import cemba, brain"
   ]
  },
  {
   "cell_type": "code",
   "execution_count": null,
   "metadata": {
    "ExecuteTime": {
     "end_time": "2022-05-04T07:05:38.769713Z",
     "start_time": "2022-05-04T07:05:38.759515Z"
    },
    "tags": [
     "parameters"
    ]
   },
   "outputs": [],
   "source": [
    "with open('config/07.yaml', 'r') as f:\n",
    "    config = yaml.safe_load(f)\n",
    "    locals().update(config)\n",
    "    print('Notebook configs:')\n",
    "    for _k, _v in config.items():\n",
    "        print(f'{_k} = {_v}')"
   ]
  },
  {
   "cell_type": "markdown",
   "metadata": {},
   "source": [
    "## Load\n",
    "\n",
    "### Clustering results"
   ]
  },
  {
   "cell_type": "code",
   "execution_count": null,
   "metadata": {
    "ExecuteTime": {
     "end_time": "2022-05-03T22:28:24.906547Z",
     "start_time": "2022-05-03T22:28:22.498602Z"
    }
   },
   "outputs": [],
   "source": [
    "if dataset == 'mC':\n",
    "    cell_meta = cemba.get_mc_mapping_metric()\n",
    "else:\n",
    "    cell_meta = cemba.get_m3c_mapping_metric()\n",
    "\n",
    "adata = anndata.read_h5ad('adata.with_coords.h5ad')\n",
    "for col, data in cell_meta.iteritems():\n",
    "    adata.obs[col] = data\n",
    "adata.obs['log2PlateNormCov'] = np.log2(adata.obs['PlateNormCov'])"
   ]
  },
  {
   "cell_type": "code",
   "execution_count": null,
   "metadata": {
    "ExecuteTime": {
     "end_time": "2022-05-03T22:28:24.917612Z",
     "start_time": "2022-05-03T22:28:24.909868Z"
    }
   },
   "outputs": [],
   "source": [
    "adata"
   ]
  },
  {
   "cell_type": "markdown",
   "metadata": {},
   "source": [
    "### Brain Region"
   ]
  },
  {
   "cell_type": "code",
   "execution_count": null,
   "metadata": {
    "ExecuteTime": {
     "end_time": "2022-05-03T22:30:45.553921Z",
     "start_time": "2022-05-03T22:30:45.501831Z"
    }
   },
   "outputs": [],
   "source": [
    "if dataset == 'mC':\n",
    "    region_type = 'CEMBA'\n",
    "else:\n",
    "    region_type = 'CEMBA_3C'\n",
    "\n",
    "major_region_palette = brain.get_major_region_palette(region_type=region_type)\n",
    "sub_region_palette = brain.get_sub_region_palette(region_type=region_type)\n",
    "dissection_region_palette = brain.get_dissection_region_palette(\n",
    "    region_type=region_type)\n",
    "\n",
    "adata.obs['DissectionRegion'] = adata.obs['DissectionRegion'].map(\n",
    "    brain.map_cemba_id_to_dissection_region(region_type=region_type))\n",
    "adata.obs['MajorRegion'] = adata.obs['DissectionRegion'].map(\n",
    "    brain.map_dissection_region_to_major_region(region_type=region_type))\n",
    "adata.obs['SubRegion'] = adata.obs['DissectionRegion'].map(\n",
    "    brain.map_dissection_region_to_sub_region(region_type=region_type))"
   ]
  },
  {
   "cell_type": "markdown",
   "metadata": {},
   "source": [
    "## Cell Meta"
   ]
  },
  {
   "cell_type": "code",
   "execution_count": null,
   "metadata": {
    "ExecuteTime": {
     "end_time": "2022-05-03T22:31:44.853031Z",
     "start_time": "2022-05-03T22:31:38.589659Z"
    }
   },
   "outputs": [],
   "source": [
    "fig, axes = plt.subplots(figsize=(8, 4), ncols=2, dpi=300)\n",
    "\n",
    "ax = axes[0]\n",
    "continuous_scatter(ax=ax,\n",
    "                   data=adata,\n",
    "                   hue='mCHFrac',\n",
    "                   hue_norm=(0., 0.06),\n",
    "                   text_anno=cluster_col,\n",
    "                   coord_base='tsne',\n",
    "                   max_points=None)\n",
    "ax = axes[1]\n",
    "continuous_scatter(ax=ax,\n",
    "                   data=adata,\n",
    "                   hue='mCHFrac',\n",
    "                   hue_norm=(0., 0.06),\n",
    "                   text_anno=cluster_col,\n",
    "                   coord_base='umap',\n",
    "                   max_points=None)"
   ]
  },
  {
   "cell_type": "code",
   "execution_count": null,
   "metadata": {
    "ExecuteTime": {
     "end_time": "2022-05-03T22:32:07.711570Z",
     "start_time": "2022-05-03T22:32:01.430378Z"
    }
   },
   "outputs": [],
   "source": [
    "fig, axes = plt.subplots(figsize=(8, 4), ncols=2, dpi=300)\n",
    "\n",
    "ax = axes[0]\n",
    "continuous_scatter(ax=ax,\n",
    "                   data=adata,\n",
    "                   hue='mCGFrac',\n",
    "                   hue_norm=(0.7, 0.85),\n",
    "                   text_anno=cluster_col,\n",
    "                   coord_base='tsne',\n",
    "                   max_points=None)\n",
    "ax = axes[1]\n",
    "continuous_scatter(ax=ax,\n",
    "                   data=adata,\n",
    "                   hue='mCGFrac',\n",
    "                   hue_norm=(0.7, 0.85),\n",
    "                   text_anno=cluster_col,\n",
    "                   coord_base='umap',\n",
    "                   max_points=None)"
   ]
  },
  {
   "cell_type": "code",
   "execution_count": null,
   "metadata": {
    "ExecuteTime": {
     "end_time": "2022-05-03T22:34:52.102966Z",
     "start_time": "2022-05-03T22:34:45.424447Z"
    }
   },
   "outputs": [],
   "source": [
    "fig, axes = plt.subplots(figsize=(8, 4), ncols=2, dpi=300)\n",
    "\n",
    "ax = axes[0]\n",
    "continuous_scatter(ax=ax,\n",
    "                   data=adata,\n",
    "                   hue='log2PlateNormCov',\n",
    "                   hue_norm=(-1, 1),\n",
    "                   cmap='coolwarm',\n",
    "                   text_anno=cluster_col,\n",
    "                   coord_base='tsne',\n",
    "                   max_points=None)\n",
    "ax = axes[1]\n",
    "continuous_scatter(ax=ax,\n",
    "                   data=adata,\n",
    "                   hue='log2PlateNormCov',\n",
    "                   hue_norm=(-1, 1),\n",
    "                   cmap='coolwarm',\n",
    "                   text_anno=cluster_col,\n",
    "                   coord_base='umap',\n",
    "                   max_points=None)"
   ]
  },
  {
   "cell_type": "code",
   "execution_count": null,
   "metadata": {
    "ExecuteTime": {
     "end_time": "2022-05-03T22:35:37.223789Z",
     "start_time": "2022-05-03T22:35:32.842753Z"
    }
   },
   "outputs": [],
   "source": [
    "fig, axes = plt.subplots(figsize=(8, 4), dpi=300, ncols=2)\n",
    "\n",
    "ax = axes[0]\n",
    "categorical_scatter(\n",
    "    ax=ax,\n",
    "    data=adata,\n",
    "    hue=cluster_col,\n",
    "    #text_anno=cluster_col,\n",
    "    axis_format=None,\n",
    "    coord_base='tsne',\n",
    "    max_points=None)\n",
    "\n",
    "ax = axes[1]\n",
    "categorical_scatter(\n",
    "    ax=ax,\n",
    "    data=adata,\n",
    "    hue=cluster_col,\n",
    "    #text_anno=cluster_col,\n",
    "    axis_format=None,\n",
    "    coord_base='umap',\n",
    "    max_points=None)"
   ]
  },
  {
   "cell_type": "markdown",
   "metadata": {},
   "source": [
    "## Brain Region"
   ]
  },
  {
   "cell_type": "code",
   "execution_count": null,
   "metadata": {
    "ExecuteTime": {
     "end_time": "2022-05-03T22:35:44.761930Z",
     "start_time": "2022-05-03T22:35:39.471287Z"
    }
   },
   "outputs": [],
   "source": [
    "fig, axes = plt.subplots(figsize=(8, 4), dpi=300, ncols=2)\n",
    "\n",
    "ax = axes[0]\n",
    "categorical_scatter(ax=ax,\n",
    "                    data=adata,\n",
    "                    hue='DissectionRegion',\n",
    "                    palette=dissection_region_palette,\n",
    "                    axis_format=None,\n",
    "                    coord_base='tsne',\n",
    "                    max_points=None)\n",
    "\n",
    "ax = axes[1]\n",
    "categorical_scatter(ax=ax,\n",
    "                    data=adata,\n",
    "                    hue='DissectionRegion',\n",
    "                    palette=dissection_region_palette,\n",
    "                    axis_format=None,\n",
    "                    coord_base='umap',\n",
    "                    max_points=None)"
   ]
  },
  {
   "cell_type": "code",
   "execution_count": null,
   "metadata": {
    "ExecuteTime": {
     "end_time": "2022-05-03T22:38:47.476972Z",
     "start_time": "2022-05-03T22:38:36.658783Z"
    }
   },
   "outputs": [],
   "source": [
    "n_plots = adata.obs['MajorRegion'].unique().size\n",
    "ncols = 4\n",
    "nrows = n_plots // 4 + (0 if n_plots % ncols == 0 else 1)\n",
    "\n",
    "fig, axes = plt.subplots(figsize=(4 * ncols, 4 * nrows),\n",
    "                         ncols=ncols,\n",
    "                         nrows=nrows,\n",
    "                         dpi=300)\n",
    "\n",
    "for ax, (major_region, sub_df) in zip(axes.ravel()[:n_plots],\n",
    "                                      adata.obs.groupby('MajorRegion')):\n",
    "    categorical_scatter(ax=ax,\n",
    "                        data=adata,\n",
    "                        text_anno=cluster_col,\n",
    "                        coord_base='tsne',\n",
    "                        max_points=None,\n",
    "                        scatter_kws=dict(color='lightgray'))\n",
    "    categorical_scatter(ax=ax,\n",
    "                        data=adata[adata.obs_names.isin(sub_df.index), :],\n",
    "                        hue='MajorRegion',\n",
    "                        palette=major_region_palette,\n",
    "                        coord_base='tsne',\n",
    "                        max_points=None)\n",
    "    ax.set(title=f'{major_region} {sub_df.shape[0]}')\n",
    "for ax in axes.ravel()[n_plots:]:\n",
    "    ax.axis('off')"
   ]
  },
  {
   "cell_type": "markdown",
   "metadata": {},
   "source": [
    "## Annotation"
   ]
  },
  {
   "cell_type": "code",
   "execution_count": null,
   "metadata": {
    "ExecuteTime": {
     "end_time": "2022-05-03T22:39:10.197431Z",
     "start_time": "2022-05-03T22:39:09.872817Z"
    }
   },
   "outputs": [],
   "source": [
    "# RS1 paper annotation\n",
    "paper_anno = cemba.get_liu_2021_mc_metadata()"
   ]
  },
  {
   "cell_type": "code",
   "execution_count": null,
   "metadata": {
    "ExecuteTime": {
     "end_time": "2022-05-03T22:39:21.127951Z",
     "start_time": "2022-05-03T22:39:21.081468Z"
    }
   },
   "outputs": [],
   "source": [
    "major_type_palette = pd.read_csv(\n",
    "    '/home/hanliu/project/mouse_rostral_brain/metadata/palette/major_type.palette.csv',\n",
    "    index_col=0,\n",
    "    header=None,\n",
    "    squeeze=True).to_dict()\n",
    "major_type_palette['NA'] = 'lightgray'\n",
    "adata.obs['MajorType'] = paper_anno['MajorType']"
   ]
  },
  {
   "cell_type": "code",
   "execution_count": null,
   "metadata": {
    "ExecuteTime": {
     "end_time": "2022-05-03T22:40:02.124622Z",
     "start_time": "2022-05-03T22:39:57.220329Z"
    }
   },
   "outputs": [],
   "source": [
    "fig, axes = plt.subplots(figsize=(8, 4), dpi=500, ncols=2)\n",
    "\n",
    "ax = axes[0]\n",
    "_ = categorical_scatter(ax=ax,\n",
    "                        data=adata,\n",
    "                        hue=None,\n",
    "                        scatter_kws=dict(color='lightgray'),\n",
    "                        coord_base='tsne',\n",
    "                        max_points=None)\n",
    "_ = categorical_scatter(ax=ax,\n",
    "                        data=adata[adata.obs['MajorType'] != 'NA'],\n",
    "                        hue='MajorType',\n",
    "                        text_anno='MajorType',\n",
    "                        palette=major_type_palette,\n",
    "                        coord_base='tsne',\n",
    "                        max_points=None,\n",
    "                        show_legend=False)\n",
    "ax = axes[1]\n",
    "_ = categorical_scatter(ax=ax,\n",
    "                        data=adata,\n",
    "                        hue=cluster_col,\n",
    "                        text_anno=cluster_col,\n",
    "                        coord_base='tsne',\n",
    "                        max_points=None,\n",
    "                        show_legend=False)"
   ]
  },
  {
   "cell_type": "code",
   "execution_count": null,
   "metadata": {
    "ExecuteTime": {
     "end_time": "2022-05-03T22:40:22.677143Z",
     "start_time": "2022-05-03T22:40:22.511280Z"
    }
   },
   "outputs": [],
   "source": [
    "!touch finish"
   ]
  },
  {
   "cell_type": "code",
   "execution_count": null,
   "metadata": {},
   "outputs": [],
   "source": []
  }
 ],
 "metadata": {
  "celltoolbar": "无",
  "hide_input": false,
  "kernelspec": {
   "display_name": "Python 3 (ipykernel)",
   "language": "python",
   "name": "python3"
  },
  "language_info": {
   "codemirror_mode": {
    "name": "ipython",
    "version": 3
   },
   "file_extension": ".py",
   "mimetype": "text/x-python",
   "name": "python",
   "nbconvert_exporter": "python",
   "pygments_lexer": "ipython3",
   "version": "3.8.12"
  },
  "toc": {
   "base_numbering": 1,
   "nav_menu": {},
   "number_sections": true,
   "sideBar": true,
   "skip_h1_title": true,
   "title_cell": "Table of Contents",
   "title_sidebar": "Contents",
   "toc_cell": false,
   "toc_position": {},
   "toc_section_display": true,
   "toc_window_display": true
  }
 },
 "nbformat": 4,
 "nbformat_minor": 4
}
