{
 "cells": [
  {
   "cell_type": "code",
   "execution_count": null,
   "id": "85e80402",
   "metadata": {
    "ExecuteTime": {
     "end_time": "2022-05-09T01:27:03.818504Z",
     "start_time": "2022-05-09T01:27:02.786150Z"
    }
   },
   "outputs": [],
   "source": [
    "import yaml\n",
    "import pathlib\n",
    "import anndata\n",
    "import pandas as pd\n",
    "from wmb import cemba, brain"
   ]
  },
  {
   "cell_type": "code",
   "execution_count": null,
   "id": "cedc1ed2",
   "metadata": {
    "ExecuteTime": {
     "end_time": "2022-05-09T01:27:03.823767Z",
     "start_time": "2022-05-09T01:27:03.820316Z"
    }
   },
   "outputs": [],
   "source": [
    "cluster_dir = '../MajorRegion/'\n",
    "\n",
    "cluster_dir = pathlib.Path(cluster_dir).absolute()\n",
    "cluster_dir.mkdir(exist_ok=True)"
   ]
  },
  {
   "cell_type": "code",
   "execution_count": null,
   "id": "ffc1a5ea",
   "metadata": {
    "ExecuteTime": {
     "end_time": "2022-05-09T01:27:03.830884Z",
     "start_time": "2022-05-09T01:27:03.825361Z"
    }
   },
   "outputs": [],
   "source": [
    "def prepare_group(group, cells):\n",
    "    group_dir = cluster_dir / group\n",
    "    group_dir.mkdir(exist_ok=True)\n",
    "    config_dir = group_dir / 'config'\n",
    "    config_dir.mkdir(exist_ok=True)\n",
    "\n",
    "    # subset cells\n",
    "    with open(group_dir / 'select_cells.txt', 'w') as f:\n",
    "        f.write('\\n'.join(cells.index))\n",
    "\n",
    "    for path in pathlib.Path('config/').glob('*.yaml'):\n",
    "        with open(path) as f, open(config_dir / path.name, 'w') as outf:\n",
    "            config = yaml.safe_load(f)\n",
    "\n",
    "            # adjust the default parameters for all the groups\n",
    "            if 'select_cells' in config:\n",
    "                config['select_cells'] = 'select_cells.txt'\n",
    "            if path.name == '06.yaml':\n",
    "                # key parameter in clustering step\n",
    "                config['leiden_resolution'] = 0.5\n",
    "                config['target_accuracy'] = 0.9\n",
    "                config['min_cluster_size'] = 30\n",
    "                config['n_jobs'] = 20\n",
    "            yaml.safe_dump(config, outf)\n",
    "    return"
   ]
  },
  {
   "cell_type": "code",
   "execution_count": null,
   "id": "d3f7d445",
   "metadata": {
    "ExecuteTime": {
     "end_time": "2022-05-09T01:27:06.919638Z",
     "start_time": "2022-05-09T01:27:05.637915Z"
    }
   },
   "outputs": [],
   "source": [
    "meta = cemba.get_mc_mapping_metric()\n",
    "meta['MajorRegion'] = meta['DissectionRegion'].map(brain.map_cemba_id_to_major_region())"
   ]
  },
  {
   "cell_type": "code",
   "execution_count": null,
   "id": "599db8e8",
   "metadata": {
    "ExecuteTime": {
     "end_time": "2022-05-09T01:27:06.937287Z",
     "start_time": "2022-05-09T01:27:06.921074Z"
    }
   },
   "outputs": [],
   "source": [
    "meta['MajorRegion'].value_counts()"
   ]
  },
  {
   "cell_type": "code",
   "execution_count": null,
   "id": "66893712",
   "metadata": {
    "ExecuteTime": {
     "end_time": "2022-05-09T01:27:12.906618Z",
     "start_time": "2022-05-09T01:27:12.566959Z"
    }
   },
   "outputs": [],
   "source": [
    "for group, cells in meta.groupby('MajorRegion'):\n",
    "    prepare_group(group, cells)"
   ]
  },
  {
   "cell_type": "code",
   "execution_count": null,
   "id": "fae6e548",
   "metadata": {
    "ExecuteTime": {
     "end_time": "2022-05-09T01:27:21.492817Z",
     "start_time": "2022-05-09T01:27:21.482347Z"
    }
   },
   "outputs": [],
   "source": [
    "# copy the snakefile\n",
    "with open('../MajorRegion/Snakefile', 'w') as outf, open('Snakefile') as f:\n",
    "    snakefile = f.read()\n",
    "    snakefile = snakefile.replace('REPLACE_TEMPLATE_DIR',\n",
    "                                  str(pathlib.Path().absolute()))\n",
    "    outf.write(snakefile)"
   ]
  },
  {
   "cell_type": "code",
   "execution_count": null,
   "id": "8dc1a007",
   "metadata": {},
   "outputs": [],
   "source": []
  },
  {
   "cell_type": "code",
   "execution_count": null,
   "id": "721572e9",
   "metadata": {},
   "outputs": [],
   "source": []
  },
  {
   "cell_type": "code",
   "execution_count": null,
   "id": "6fa3d104",
   "metadata": {},
   "outputs": [],
   "source": []
  },
  {
   "cell_type": "code",
   "execution_count": null,
   "id": "fee85a75",
   "metadata": {},
   "outputs": [],
   "source": []
  },
  {
   "cell_type": "code",
   "execution_count": null,
   "id": "3f6907a7",
   "metadata": {},
   "outputs": [],
   "source": []
  }
 ],
 "metadata": {
  "hide_input": false,
  "kernelspec": {
   "display_name": "Python 3 (ipykernel)",
   "language": "python",
   "name": "python3"
  },
  "language_info": {
   "codemirror_mode": {
    "name": "ipython",
    "version": 3
   },
   "file_extension": ".py",
   "mimetype": "text/x-python",
   "name": "python",
   "nbconvert_exporter": "python",
   "pygments_lexer": "ipython3",
   "version": "3.8.12"
  },
  "toc": {
   "base_numbering": 1,
   "nav_menu": {},
   "number_sections": true,
   "sideBar": true,
   "skip_h1_title": true,
   "title_cell": "Table of Contents",
   "title_sidebar": "Contents",
   "toc_cell": false,
   "toc_position": {},
   "toc_section_display": true,
   "toc_window_display": true
  }
 },
 "nbformat": 4,
 "nbformat_minor": 5
}
