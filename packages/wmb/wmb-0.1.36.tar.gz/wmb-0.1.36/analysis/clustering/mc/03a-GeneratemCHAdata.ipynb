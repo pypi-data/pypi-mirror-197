{
 "cells": [
  {
   "cell_type": "markdown",
   "metadata": {},
   "source": [
    "# Calculate Highly Variable Features And Get mC Fraction AnnData\n",
    "\n",
    "## Purpose\n",
    "The purpose of this step is to select highly variable features (HVF) and generate cell-by-feature methylation fraction matrix for clustering. The highly variable features are selected by comparing feature's normalized dispersion among cells.\n",
    "\n",
    "## Input\n",
    "- Filtered cell metadata;\n",
    "- MCDS files;\n",
    "- Feature list from basic feature filtering\n",
    "\n",
    "## Output\n",
    "- cell-by-HVF methylation fraction matrix stored in AnnData format, e.g., mCH adata and mCG adata."
   ]
  },
  {
   "cell_type": "markdown",
   "metadata": {},
   "source": [
    "## Import"
   ]
  },
  {
   "cell_type": "code",
   "execution_count": null,
   "metadata": {
    "ExecuteTime": {
     "end_time": "2022-05-03T07:18:32.099985Z",
     "start_time": "2022-05-03T07:18:30.593278Z"
    }
   },
   "outputs": [],
   "source": [
    "import yaml\n",
    "import pandas as pd\n",
    "import dask\n",
    "import ALLCools\n",
    "from ALLCools.mcds import MCDS\n",
    "from wmb import cemba"
   ]
  },
  {
   "cell_type": "markdown",
   "metadata": {},
   "source": [
    "## Parameters"
   ]
  },
  {
   "cell_type": "code",
   "execution_count": null,
   "metadata": {
    "ExecuteTime": {
     "end_time": "2022-05-03T07:18:33.342924Z",
     "start_time": "2022-05-03T07:18:33.338064Z"
    },
    "tags": [
     "parameters"
    ]
   },
   "outputs": [],
   "source": [
    "with open('config/03a.yaml', 'r') as f:\n",
    "    config = yaml.safe_load(f)\n",
    "    locals().update(config)\n",
    "    print('Notebook configs:')\n",
    "    for _k, _v in config.items():\n",
    "        print(f'{_k} = {_v}')"
   ]
  },
  {
   "cell_type": "code",
   "execution_count": null,
   "metadata": {
    "ExecuteTime": {
     "end_time": "2022-05-03T07:18:33.946022Z",
     "start_time": "2022-05-03T07:18:33.943550Z"
    }
   },
   "outputs": [],
   "source": [
    "if dataset == 'mC':\n",
    "    mcds_path = cemba.CEMBA_SNMC_MCDS_PATH\n",
    "else:\n",
    "    mcds_path = cemba.CEMBA_SNM3C_MCDS_PATH"
   ]
  },
  {
   "cell_type": "markdown",
   "metadata": {},
   "source": [
    "## Load Data\n",
    "\n",
    "### Metadata"
   ]
  },
  {
   "cell_type": "code",
   "execution_count": null,
   "metadata": {
    "ExecuteTime": {
     "end_time": "2022-05-03T07:18:36.293556Z",
     "start_time": "2022-05-03T07:18:35.429754Z"
    }
   },
   "outputs": [],
   "source": [
    "if dataset == 'mC':\n",
    "    metadata = cemba.get_mc_mapping_metric(select_cells=select_cells)\n",
    "else:\n",
    "    metadata = cemba.get_m3c_mapping_metric(select_cells=select_cells)\n",
    "\n",
    "total_cells = metadata.shape[0]\n",
    "print(f'Metadata of {total_cells} cells')"
   ]
  },
  {
   "cell_type": "code",
   "execution_count": null,
   "metadata": {
    "ExecuteTime": {
     "end_time": "2022-05-03T07:18:36.952088Z",
     "start_time": "2022-05-03T07:18:36.934670Z"
    }
   },
   "outputs": [],
   "source": [
    "metadata.head()"
   ]
  },
  {
   "cell_type": "markdown",
   "metadata": {},
   "source": [
    "### MCDS"
   ]
  },
  {
   "cell_type": "code",
   "execution_count": null,
   "metadata": {
    "ExecuteTime": {
     "end_time": "2022-05-03T07:18:38.804951Z",
     "start_time": "2022-05-03T07:18:38.236646Z"
    }
   },
   "outputs": [],
   "source": [
    "with dask.config.set(**{'array.slicing.split_large_chunks': False}):\n",
    "    # still use all the cells to load MCDS\n",
    "    total_mcds = MCDS.open(mcds_path,\n",
    "                           var_dim=var_dim,\n",
    "                           use_obs=metadata.index)"
   ]
  },
  {
   "cell_type": "markdown",
   "metadata": {},
   "source": [
    "## Add mC Rate"
   ]
  },
  {
   "cell_type": "code",
   "execution_count": null,
   "metadata": {
    "ExecuteTime": {
     "end_time": "2022-05-03T07:18:42.095119Z",
     "start_time": "2022-05-03T07:18:41.631775Z"
    }
   },
   "outputs": [],
   "source": [
    "total_mcds.add_mc_rate(var_dim=var_dim,\n",
    "                       normalize_per_cell=True,\n",
    "                       clip_norm_value=10)\n",
    "\n",
    "total_mcds"
   ]
  },
  {
   "cell_type": "markdown",
   "metadata": {},
   "source": [
    "## Save AnnData"
   ]
  },
  {
   "cell_type": "code",
   "execution_count": null,
   "metadata": {
    "ExecuteTime": {
     "end_time": "2022-05-03T07:18:44.675678Z",
     "start_time": "2022-05-03T07:18:44.622094Z"
    }
   },
   "outputs": [],
   "source": [
    "mch_hvf = pd.read_hdf('mch_hvf.hdf')\n",
    "\n",
    "feature_select = mch_hvf['feature_select']\n",
    "total_mcds.coords[f'{var_dim}_CHN_feature_select'] = feature_select"
   ]
  },
  {
   "cell_type": "code",
   "execution_count": null,
   "metadata": {
    "ExecuteTime": {
     "end_time": "2022-05-03T07:22:43.170380Z",
     "start_time": "2022-05-03T07:18:48.120605Z"
    }
   },
   "outputs": [],
   "source": [
    "mch_adata = total_mcds.get_adata(mc_type=mch_pattern,\n",
    "                                 var_dim=var_dim,\n",
    "                                 select_hvf=True)\n",
    "\n",
    "mch_adata.write_h5ad(f'mCH.HVF.h5ad')\n",
    "\n",
    "mch_adata"
   ]
  },
  {
   "cell_type": "code",
   "execution_count": null,
   "metadata": {},
   "outputs": [],
   "source": []
  }
 ],
 "metadata": {
  "hide_input": false,
  "kernelspec": {
   "display_name": "Python 3 (ipykernel)",
   "language": "python",
   "name": "python3"
  },
  "language_info": {
   "codemirror_mode": {
    "name": "ipython",
    "version": 3
   },
   "file_extension": ".py",
   "mimetype": "text/x-python",
   "name": "python",
   "nbconvert_exporter": "python",
   "pygments_lexer": "ipython3",
   "version": "3.8.12"
  },
  "toc": {
   "base_numbering": 1,
   "nav_menu": {},
   "number_sections": true,
   "sideBar": true,
   "skip_h1_title": true,
   "title_cell": "Table of Contents",
   "title_sidebar": "Contents",
   "toc_cell": false,
   "toc_position": {},
   "toc_section_display": true,
   "toc_window_display": true
  }
 },
 "nbformat": 4,
 "nbformat_minor": 4
}
