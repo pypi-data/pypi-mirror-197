{
 "cells": [
  {
   "cell_type": "markdown",
   "metadata": {},
   "source": [
    "# Feature Basic Filtering\n",
    "\n",
    "## Purpose\n",
    "Apply basic filters to remove these problematic features:\n",
    "- Extremly low coverage or high coverage features\n",
    "- ENCODE Blcaklist\n",
    "- Some chromosomes (chrX, chrY and chrM)\n",
    "\n",
    "## Input\n",
    "- Cell metadata (after basic cell filter)\n",
    "- MCDS files\n",
    "\n",
    "## Output\n",
    "- FeatureList.BasicFilter.txt: List of feature ids passed all filters"
   ]
  },
  {
   "cell_type": "markdown",
   "metadata": {},
   "source": [
    "## Import"
   ]
  },
  {
   "cell_type": "code",
   "execution_count": null,
   "metadata": {
    "ExecuteTime": {
     "end_time": "2022-05-16T02:47:43.504765Z",
     "start_time": "2022-05-16T02:47:41.986635Z"
    }
   },
   "outputs": [],
   "source": [
    "import yaml\n",
    "import pandas as pd\n",
    "from ALLCools.mcds import MCDS\n",
    "from wmb import cemba, mm10"
   ]
  },
  {
   "cell_type": "markdown",
   "metadata": {},
   "source": [
    "## Parameters"
   ]
  },
  {
   "cell_type": "code",
   "execution_count": null,
   "metadata": {
    "ExecuteTime": {
     "end_time": "2022-05-16T02:47:43.519782Z",
     "start_time": "2022-05-16T02:47:43.506781Z"
    }
   },
   "outputs": [],
   "source": [
    "with open('config/01.yaml', 'r') as f:\n",
    "    config = yaml.safe_load(f)\n",
    "    locals().update(config)\n",
    "    print('Notebook configs:')\n",
    "    for _k, _v in config.items():\n",
    "        print(f'{_k} = {_v}')"
   ]
  },
  {
   "cell_type": "code",
   "execution_count": null,
   "metadata": {
    "ExecuteTime": {
     "end_time": "2022-05-16T02:47:43.522915Z",
     "start_time": "2022-05-16T02:47:43.520749Z"
    },
    "tags": [
     "parameters"
    ]
   },
   "outputs": [],
   "source": [
    "black_list_path = mm10.ENCODE_BLACKLIST_PATH\n",
    "f = 0.2\n",
    "\n",
    "if dataset == 'mC':\n",
    "    mcds_path = cemba.CEMBA_SNMC_MCDS_PATH\n",
    "else:\n",
    "    mcds_path = cemba.CEMBA_SNM3C_MCDS_PATH"
   ]
  },
  {
   "cell_type": "markdown",
   "metadata": {},
   "source": [
    "## Load Data\n",
    "\n",
    "### Metadata"
   ]
  },
  {
   "cell_type": "code",
   "execution_count": null,
   "metadata": {
    "ExecuteTime": {
     "end_time": "2022-05-16T02:47:44.535543Z",
     "start_time": "2022-05-16T02:47:43.524172Z"
    }
   },
   "outputs": [],
   "source": [
    "if dataset == 'mC':\n",
    "    metadata = cemba.get_mc_mapping_metric(select_cells=select_cells)\n",
    "else:\n",
    "    metadata = cemba.get_m3c_mapping_metric(select_cells=select_cells)\n",
    "\n",
    "total_cells = metadata.shape[0]\n",
    "print(f'Metadata of {total_cells} cells')"
   ]
  },
  {
   "cell_type": "code",
   "execution_count": null,
   "metadata": {
    "ExecuteTime": {
     "end_time": "2022-05-16T02:47:44.553162Z",
     "start_time": "2022-05-16T02:47:44.536650Z"
    }
   },
   "outputs": [],
   "source": [
    "metadata.head()"
   ]
  },
  {
   "cell_type": "markdown",
   "metadata": {},
   "source": [
    "## Downsample"
   ]
  },
  {
   "cell_type": "code",
   "execution_count": null,
   "metadata": {
    "ExecuteTime": {
     "end_time": "2022-05-16T02:47:44.598212Z",
     "start_time": "2022-05-16T02:47:44.554406Z"
    }
   },
   "outputs": [],
   "source": [
    "if metadata.shape[0] > 50000:\n",
    "    metadata = metadata.sample(50000, random_state=0)"
   ]
  },
  {
   "cell_type": "markdown",
   "metadata": {},
   "source": [
    "### MCDS"
   ]
  },
  {
   "cell_type": "code",
   "execution_count": null,
   "metadata": {
    "ExecuteTime": {
     "end_time": "2022-05-16T02:47:44.931945Z",
     "start_time": "2022-05-16T02:47:44.599378Z"
    }
   },
   "outputs": [],
   "source": [
    "mcds = MCDS.open(mcds_path,\n",
    "                 var_dim='chrom100k',\n",
    "                 use_obs=metadata.index)"
   ]
  },
  {
   "cell_type": "code",
   "execution_count": null,
   "metadata": {
    "ExecuteTime": {
     "end_time": "2022-05-16T02:47:44.966470Z",
     "start_time": "2022-05-16T02:47:44.933062Z"
    }
   },
   "outputs": [],
   "source": [
    "mcds"
   ]
  },
  {
   "cell_type": "markdown",
   "metadata": {},
   "source": [
    "## Filter Features\n",
    "\n",
    "### Filter by mean coverage"
   ]
  },
  {
   "cell_type": "code",
   "execution_count": null,
   "metadata": {
    "ExecuteTime": {
     "end_time": "2022-05-16T02:47:45.472198Z",
     "start_time": "2022-05-16T02:47:44.967738Z"
    }
   },
   "outputs": [],
   "source": [
    "mcds.add_feature_cov_mean()"
   ]
  },
  {
   "cell_type": "code",
   "execution_count": null,
   "metadata": {
    "ExecuteTime": {
     "end_time": "2022-05-16T02:47:45.500352Z",
     "start_time": "2022-05-16T02:47:45.473375Z"
    }
   },
   "outputs": [],
   "source": [
    "mcds = mcds.filter_feature_by_cov_mean(\n",
    "    min_cov=min_cov,  # minimum coverage\n",
    "    max_cov=max_cov  # Maximum coverage\n",
    ")"
   ]
  },
  {
   "cell_type": "markdown",
   "metadata": {
    "ExecuteTime": {
     "end_time": "2020-11-21T05:51:57.319759Z",
     "start_time": "2020-11-21T05:51:57.316929Z"
    }
   },
   "source": [
    "### Filter by ENCODE Blacklist"
   ]
  },
  {
   "cell_type": "code",
   "execution_count": null,
   "metadata": {
    "ExecuteTime": {
     "end_time": "2022-05-16T02:47:46.642029Z",
     "start_time": "2022-05-16T02:47:45.884706Z"
    }
   },
   "outputs": [],
   "source": [
    "mcds = mcds.remove_black_list_region(\n",
    "    black_list_path=black_list_path,\n",
    "    f=f  # Features having overlap > f with any black list region will be removed.\n",
    ")"
   ]
  },
  {
   "cell_type": "markdown",
   "metadata": {},
   "source": [
    "### Remove chromosomes"
   ]
  },
  {
   "cell_type": "code",
   "execution_count": null,
   "metadata": {
    "ExecuteTime": {
     "end_time": "2022-05-16T02:47:46.696213Z",
     "start_time": "2022-05-16T02:47:46.644162Z"
    }
   },
   "outputs": [],
   "source": [
    "mcds = mcds.remove_chromosome(exclude_chromosome)"
   ]
  },
  {
   "cell_type": "markdown",
   "metadata": {},
   "source": [
    "## Save Feature List"
   ]
  },
  {
   "cell_type": "code",
   "execution_count": null,
   "metadata": {
    "ExecuteTime": {
     "end_time": "2022-05-16T02:47:47.341163Z",
     "start_time": "2022-05-16T02:47:47.324902Z"
    }
   },
   "outputs": [],
   "source": [
    "with open('FeatureList.BasicFilter.txt', 'w') as f:\n",
    "    for var in mcds.get_index(mcds.var_dim).astype(str):\n",
    "        f.write(var + '\\n')"
   ]
  },
  {
   "cell_type": "code",
   "execution_count": null,
   "metadata": {},
   "outputs": [],
   "source": []
  }
 ],
 "metadata": {
  "hide_input": false,
  "kernelspec": {
   "display_name": "Python 3 (ipykernel)",
   "language": "python",
   "name": "python3"
  },
  "language_info": {
   "codemirror_mode": {
    "name": "ipython",
    "version": 3
   },
   "file_extension": ".py",
   "mimetype": "text/x-python",
   "name": "python",
   "nbconvert_exporter": "python",
   "pygments_lexer": "ipython3",
   "version": "3.8.12"
  },
  "toc": {
   "base_numbering": 1,
   "nav_menu": {},
   "number_sections": true,
   "sideBar": true,
   "skip_h1_title": true,
   "title_cell": "Table of Contents",
   "title_sidebar": "Contents",
   "toc_cell": false,
   "toc_position": {},
   "toc_section_display": true,
   "toc_window_display": true
  }
 },
 "nbformat": 4,
 "nbformat_minor": 4
}
