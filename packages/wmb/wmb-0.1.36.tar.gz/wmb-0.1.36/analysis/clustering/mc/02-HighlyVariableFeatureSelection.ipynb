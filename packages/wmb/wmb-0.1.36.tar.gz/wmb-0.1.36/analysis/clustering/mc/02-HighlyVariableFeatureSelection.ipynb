{
 "cells": [
  {
   "cell_type": "markdown",
   "metadata": {},
   "source": [
    "# Calculate Highly Variable Features And Get mC Fraction AnnData\n",
    "\n",
    "## Purpose\n",
    "The purpose of this step is to select highly variable features (HVF) and generate cell-by-feature methylation fraction matrix for clustering. The highly variable features are selected by comparing feature's normalized dispersion among cells.\n",
    "\n",
    "## Input\n",
    "- Filtered cell metadata;\n",
    "- MCDS files;\n",
    "- Feature list from basic feature filtering\n",
    "\n",
    "## Output\n",
    "- cell-by-HVF methylation fraction matrix stored in AnnData format, e.g., mCH adata and mCG adata."
   ]
  },
  {
   "cell_type": "markdown",
   "metadata": {},
   "source": [
    "## Import"
   ]
  },
  {
   "cell_type": "code",
   "execution_count": null,
   "metadata": {
    "ExecuteTime": {
     "end_time": "2022-05-16T02:47:28.844469Z",
     "start_time": "2022-05-16T02:47:27.254760Z"
    }
   },
   "outputs": [],
   "source": [
    "import yaml\n",
    "import pandas as pd\n",
    "import dask\n",
    "import ALLCools\n",
    "from ALLCools.mcds import MCDS\n",
    "from wmb import cemba"
   ]
  },
  {
   "cell_type": "markdown",
   "metadata": {},
   "source": [
    "## Parameters"
   ]
  },
  {
   "cell_type": "code",
   "execution_count": null,
   "metadata": {
    "ExecuteTime": {
     "end_time": "2022-05-16T02:47:29.114464Z",
     "start_time": "2022-05-16T02:47:29.098301Z"
    },
    "tags": [
     "parameters"
    ]
   },
   "outputs": [],
   "source": [
    "with open('config/02.yaml', 'r') as f:\n",
    "    config = yaml.safe_load(f)\n",
    "    locals().update(config)\n",
    "    print('Notebook configs:')\n",
    "    for _k, _v in config.items():\n",
    "        print(f'{_k} = {_v}')"
   ]
  },
  {
   "cell_type": "code",
   "execution_count": null,
   "metadata": {
    "ExecuteTime": {
     "end_time": "2022-05-16T02:47:29.625547Z",
     "start_time": "2022-05-16T02:47:29.623060Z"
    }
   },
   "outputs": [],
   "source": [
    "if dataset == 'mC':\n",
    "    mcds_path = cemba.CEMBA_SNMC_MCDS_PATH\n",
    "else:\n",
    "    mcds_path = cemba.CEMBA_SNM3C_MCDS_PATH"
   ]
  },
  {
   "cell_type": "markdown",
   "metadata": {},
   "source": [
    "## Load Data\n",
    "\n",
    "### Metadata"
   ]
  },
  {
   "cell_type": "code",
   "execution_count": null,
   "metadata": {
    "ExecuteTime": {
     "end_time": "2022-05-16T02:47:31.167940Z",
     "start_time": "2022-05-16T02:47:30.157041Z"
    }
   },
   "outputs": [],
   "source": [
    "if dataset == 'mC':\n",
    "    metadata = cemba.get_mc_mapping_metric(select_cells=select_cells)\n",
    "else:\n",
    "    metadata = cemba.get_m3c_mapping_metric(select_cells=select_cells)\n",
    "\n",
    "total_cells = metadata.shape[0]\n",
    "print(f'Metadata of {total_cells} cells')"
   ]
  },
  {
   "cell_type": "code",
   "execution_count": null,
   "metadata": {
    "ExecuteTime": {
     "end_time": "2022-05-16T02:47:31.185984Z",
     "start_time": "2022-05-16T02:47:31.169404Z"
    }
   },
   "outputs": [],
   "source": [
    "metadata.head()"
   ]
  },
  {
   "cell_type": "markdown",
   "metadata": {},
   "source": [
    "### MCDS"
   ]
  },
  {
   "cell_type": "code",
   "execution_count": null,
   "metadata": {
    "ExecuteTime": {
     "end_time": "2022-05-16T02:47:51.144952Z",
     "start_time": "2022-05-16T02:47:51.130523Z"
    }
   },
   "outputs": [],
   "source": [
    "use_features = pd.read_csv(feature_path, header=None, index_col=0).index\n",
    "use_features.name = 'chrom100k'"
   ]
  },
  {
   "cell_type": "code",
   "execution_count": null,
   "metadata": {
    "ExecuteTime": {
     "end_time": "2022-05-16T02:47:51.875946Z",
     "start_time": "2022-05-16T02:47:51.543307Z"
    }
   },
   "outputs": [],
   "source": [
    "with dask.config.set(**{'array.slicing.split_large_chunks': False}):\n",
    "    # still use all the cells to load MCDS\n",
    "    total_mcds = MCDS.open(mcds_path,\n",
    "                           var_dim=var_dim,\n",
    "                           use_obs=metadata.index).sel({var_dim: use_features})"
   ]
  },
  {
   "cell_type": "markdown",
   "metadata": {},
   "source": [
    "## Add mC Rate"
   ]
  },
  {
   "cell_type": "code",
   "execution_count": null,
   "metadata": {
    "ExecuteTime": {
     "end_time": "2022-05-16T02:47:53.761969Z",
     "start_time": "2022-05-16T02:47:53.221938Z"
    }
   },
   "outputs": [],
   "source": [
    "total_mcds.add_mc_rate(var_dim=var_dim,\n",
    "                       normalize_per_cell=True,\n",
    "                       clip_norm_value=10)\n",
    "\n",
    "total_mcds"
   ]
  },
  {
   "cell_type": "markdown",
   "metadata": {},
   "source": [
    "### If downsample"
   ]
  },
  {
   "cell_type": "code",
   "execution_count": null,
   "metadata": {
    "ExecuteTime": {
     "end_time": "2022-05-16T02:47:57.492876Z",
     "start_time": "2022-05-16T02:47:57.414936Z"
    }
   },
   "outputs": [],
   "source": [
    "if downsample and total_cells > downsample:\n",
    "    # make a downsampled mcds\n",
    "    print(f'Downsample cells to {downsample} to calculate HVF.')\n",
    "    downsample_cell_ids = metadata.sample(downsample, random_state=0).index\n",
    "    mcds = total_mcds.sel(\n",
    "        {'cell': total_mcds.get_index('cell').isin(downsample_cell_ids)})\n",
    "else:\n",
    "    mcds = total_mcds"
   ]
  },
  {
   "cell_type": "code",
   "execution_count": null,
   "metadata": {
    "ExecuteTime": {
     "end_time": "2022-05-16T02:52:27.788194Z",
     "start_time": "2022-05-16T02:47:58.857311Z"
    }
   },
   "outputs": [],
   "source": [
    "if load and (mcds.get_index('cell').size <= 50000):\n",
    "    # load the relevant data so the computation can be fater, watch out memory!\n",
    "    mcds[f'{var_dim}_da_frac'].load()"
   ]
  },
  {
   "cell_type": "markdown",
   "metadata": {},
   "source": [
    "The RuntimeWarning is expected (due to cov == 0). You can ignore it."
   ]
  },
  {
   "cell_type": "markdown",
   "metadata": {},
   "source": [
    "## Highly Variable Feature\n",
    "\n",
    "### mCH"
   ]
  },
  {
   "cell_type": "code",
   "execution_count": null,
   "metadata": {
    "ExecuteTime": {
     "end_time": "2022-05-16T02:53:47.943707Z",
     "start_time": "2022-05-16T02:52:27.792766Z"
    }
   },
   "outputs": [],
   "source": [
    "if hvf_method == 'SVR':\n",
    "    # use SVR based method\n",
    "    mch_hvf = mcds.calculate_hvf_svr(var_dim=var_dim,\n",
    "                                     mc_type=mch_pattern,\n",
    "                                     n_top_feature=n_top_feature,\n",
    "                                     plot=False)\n",
    "else:\n",
    "    # use bin based method\n",
    "    mch_hvf = mcds.calculate_hvf(var_dim=var_dim,\n",
    "                                 mc_type=mch_pattern,\n",
    "                                 min_mean=0,\n",
    "                                 max_mean=5,\n",
    "                                 n_top_feature=n_top_feature,\n",
    "                                 bin_min_features=5,\n",
    "                                 mean_binsize=0.05,\n",
    "                                 cov_binsize=100)"
   ]
  },
  {
   "cell_type": "code",
   "execution_count": null,
   "metadata": {
    "ExecuteTime": {
     "end_time": "2022-05-03T07:14:42.397228Z",
     "start_time": "2022-05-03T07:14:42.081974Z"
    }
   },
   "outputs": [],
   "source": [
    "mch_hvf.to_hdf('mch_hvf.hdf', key='data')"
   ]
  },
  {
   "cell_type": "markdown",
   "metadata": {},
   "source": [
    "### mCG"
   ]
  },
  {
   "cell_type": "code",
   "execution_count": null,
   "metadata": {
    "ExecuteTime": {
     "end_time": "2022-05-03T07:16:14.325330Z",
     "start_time": "2022-05-03T07:14:42.399038Z"
    }
   },
   "outputs": [],
   "source": [
    "if hvf_method == 'SVR':\n",
    "    # use SVR based method\n",
    "    mcg_hvf = mcds.calculate_hvf_svr(var_dim=var_dim,\n",
    "                                     mc_type=mcg_pattern,\n",
    "                                     n_top_feature=n_top_feature,\n",
    "                                     plot=False)\n",
    "else:\n",
    "    # use bin based method\n",
    "    mcg_hvf = mcds.calculate_hvf(var_dim=var_dim,\n",
    "                                 mc_type=mcg_pattern,\n",
    "                                 min_mean=0,\n",
    "                                 max_mean=5,\n",
    "                                 n_top_feature=n_top_feature,\n",
    "                                 bin_min_features=5,\n",
    "                                 mean_binsize=0.02,\n",
    "                                 cov_binsize=20)"
   ]
  },
  {
   "cell_type": "code",
   "execution_count": null,
   "metadata": {
    "ExecuteTime": {
     "end_time": "2022-05-03T07:16:14.358029Z",
     "start_time": "2022-05-03T07:16:14.328172Z"
    }
   },
   "outputs": [],
   "source": [
    "mcg_hvf.to_hdf('mcg_hvf.hdf', key='data')"
   ]
  },
  {
   "cell_type": "code",
   "execution_count": null,
   "metadata": {},
   "outputs": [],
   "source": []
  }
 ],
 "metadata": {
  "hide_input": false,
  "kernelspec": {
   "display_name": "Python 3 (ipykernel)",
   "language": "python",
   "name": "python3"
  },
  "language_info": {
   "codemirror_mode": {
    "name": "ipython",
    "version": 3
   },
   "file_extension": ".py",
   "mimetype": "text/x-python",
   "name": "python",
   "nbconvert_exporter": "python",
   "pygments_lexer": "ipython3",
   "version": "3.8.12"
  },
  "toc": {
   "base_numbering": 1,
   "nav_menu": {},
   "number_sections": true,
   "sideBar": true,
   "skip_h1_title": true,
   "title_cell": "Table of Contents",
   "title_sidebar": "Contents",
   "toc_cell": false,
   "toc_position": {},
   "toc_section_display": true,
   "toc_window_display": true
  }
 },
 "nbformat": 4,
 "nbformat_minor": 4
}
