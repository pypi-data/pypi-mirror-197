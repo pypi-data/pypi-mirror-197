{
 "cells": [
  {
   "cell_type": "code",
   "execution_count": null,
   "id": "85e80402",
   "metadata": {
    "ExecuteTime": {
     "end_time": "2022-05-04T07:28:59.223363Z",
     "start_time": "2022-05-04T07:28:58.662923Z"
    }
   },
   "outputs": [],
   "source": [
    "import yaml\n",
    "import pathlib\n",
    "import anndata\n",
    "import pandas as pd"
   ]
  },
  {
   "cell_type": "code",
   "execution_count": null,
   "id": "cedc1ed2",
   "metadata": {
    "ExecuteTime": {
     "end_time": "2022-05-04T07:28:59.810940Z",
     "start_time": "2022-05-04T07:28:59.808147Z"
    }
   },
   "outputs": [],
   "source": [
    "cluster_dir = '../L3/'\n",
    "\n",
    "cluster_dir = pathlib.Path(cluster_dir).absolute()\n",
    "cluster_dir.mkdir(exist_ok=True)"
   ]
  },
  {
   "cell_type": "code",
   "execution_count": null,
   "id": "ffc1a5ea",
   "metadata": {
    "ExecuteTime": {
     "end_time": "2022-05-04T07:29:04.935709Z",
     "start_time": "2022-05-04T07:29:04.930986Z"
    }
   },
   "outputs": [],
   "source": [
    "def prepare_group(group, cells):\n",
    "    group_dir = cluster_dir / group\n",
    "    group_dir.mkdir(exist_ok=True)\n",
    "    config_dir = group_dir / 'config'\n",
    "    config_dir.mkdir(exist_ok=True)\n",
    "\n",
    "    # subset cells\n",
    "    with open(group_dir / 'select_cells.txt', 'w') as f:\n",
    "        f.write('\\n'.join(cells.index))\n",
    "\n",
    "    for path in pathlib.Path('config/').glob('*.yaml'):\n",
    "        with open(path) as f, open(config_dir / path.name, 'w') as outf:\n",
    "            config = yaml.safe_load(f)\n",
    "\n",
    "            # adjust the default parameters for all the groups\n",
    "            if 'select_cells' in config:\n",
    "                config['select_cells'] = 'select_cells.txt'\n",
    "            if path.name == '06.yaml':\n",
    "                # key parameter in clustering step\n",
    "                config['leiden_resolution'] = 0.3\n",
    "                config['target_accuracy'] = 0.9\n",
    "                config['min_cluster_size'] = 30\n",
    "            yaml.safe_dump(config, outf)\n",
    "    return"
   ]
  },
  {
   "cell_type": "code",
   "execution_count": null,
   "id": "66893712",
   "metadata": {
    "ExecuteTime": {
     "end_time": "2022-05-04T07:35:37.003690Z",
     "start_time": "2022-05-04T07:35:29.430701Z"
    }
   },
   "outputs": [],
   "source": [
    "adata_paths = pathlib.Path('../L2/').glob('c*/adata.with_coords.h5ad')\n",
    "\n",
    "for adata_path in adata_paths:\n",
    "    adata = anndata.read_h5ad(adata_path)\n",
    "    n_cluster = adata.obs['L1'].unique().size\n",
    "    if n_cluster == 1:\n",
    "        print(adata_path.parent.name, adata.shape[0])\n",
    "        continue\n",
    "    \n",
    "    for group, cells in adata.obs.groupby('L1'):\n",
    "        group = adata_path.parent.name + group\n",
    "        if cells.shape[0] < 60:\n",
    "            print(group, cells.shape[0])\n",
    "            # < 60 means it won't be split to two 30\n",
    "            continue\n",
    "        prepare_group(group, cells)"
   ]
  },
  {
   "cell_type": "code",
   "execution_count": null,
   "id": "fae6e548",
   "metadata": {
    "ExecuteTime": {
     "end_time": "2022-05-04T07:36:40.917213Z",
     "start_time": "2022-05-04T07:36:40.913523Z"
    }
   },
   "outputs": [],
   "source": [
    "# copy the snakefile\n",
    "with open('../L3/Snakefile', 'w') as outf, open('Snakefile') as f:\n",
    "    snakefile = f.read()\n",
    "    snakefile = snakefile.replace('REPLACE_TEMPLATE_DIR',\n",
    "                                  str(pathlib.Path().absolute()))\n",
    "    outf.write(snakefile)"
   ]
  },
  {
   "cell_type": "markdown",
   "id": "7fe79edd",
   "metadata": {},
   "source": [
    "## Collect html"
   ]
  },
  {
   "cell_type": "code",
   "execution_count": null,
   "id": "8d853be2",
   "metadata": {
    "ExecuteTime": {
     "end_time": "2022-05-06T07:09:35.836930Z",
     "start_time": "2022-05-06T07:09:35.834371Z"
    }
   },
   "outputs": [],
   "source": [
    "import pathlib\n",
    "import subprocess"
   ]
  },
  {
   "cell_type": "code",
   "execution_count": null,
   "id": "93d8d130",
   "metadata": {
    "ExecuteTime": {
     "end_time": "2022-05-06T07:11:46.679560Z",
     "start_time": "2022-05-06T07:11:46.533886Z"
    }
   },
   "outputs": [],
   "source": [
    "!mkdir L3"
   ]
  },
  {
   "cell_type": "code",
   "execution_count": null,
   "id": "4c6eeb53",
   "metadata": {
    "ExecuteTime": {
     "end_time": "2022-05-06T07:49:13.476977Z",
     "start_time": "2022-05-06T07:49:13.459545Z"
    }
   },
   "outputs": [],
   "source": [
    "out_dir = './L3'\n",
    "for group_dir in pathlib.Path('../L3/').glob('c*/'):\n",
    "    path = group_dir / '06-Clustering.ipynb'\n",
    "    if not pathlib.Path(f'{out_dir}/{path.parent.name}-{path.name}.html').exists():    \n",
    "        subprocess.run(\n",
    "            f'jupyter nbconvert --to html --no-input ' \\\n",
    "            f'--output {path.parent.name}-{path.name} --output-dir {out_dir} {path}',\n",
    "            shell=True, check=True\n",
    "        )\n",
    "        \n",
    "    path = group_dir / '07-Plot.ipynb'\n",
    "    if not pathlib.Path(f'{out_dir}/{path.parent.name}-{path.name}.html').exists(): \n",
    "        subprocess.run(\n",
    "            f'jupyter nbconvert --to html --no-input ' \\\n",
    "            f'--output {path.parent.name}-{path.name} --output-dir {out_dir} {path}',\n",
    "            shell=True, check=True\n",
    "        )"
   ]
  },
  {
   "cell_type": "code",
   "execution_count": null,
   "id": "fbf71f6a",
   "metadata": {},
   "outputs": [],
   "source": []
  }
 ],
 "metadata": {
  "hide_input": false,
  "kernelspec": {
   "display_name": "Python 3 (ipykernel)",
   "language": "python",
   "name": "python3"
  },
  "language_info": {
   "codemirror_mode": {
    "name": "ipython",
    "version": 3
   },
   "file_extension": ".py",
   "mimetype": "text/x-python",
   "name": "python",
   "nbconvert_exporter": "python",
   "pygments_lexer": "ipython3",
   "version": "3.8.12"
  },
  "toc": {
   "base_numbering": 1,
   "nav_menu": {},
   "number_sections": true,
   "sideBar": true,
   "skip_h1_title": true,
   "title_cell": "Table of Contents",
   "title_sidebar": "Contents",
   "toc_cell": false,
   "toc_position": {},
   "toc_section_display": true,
   "toc_window_display": true
  }
 },
 "nbformat": 4,
 "nbformat_minor": 5
}
