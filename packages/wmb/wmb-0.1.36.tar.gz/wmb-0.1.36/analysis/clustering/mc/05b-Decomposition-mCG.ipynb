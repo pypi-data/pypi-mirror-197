{
 "cells": [
  {
   "cell_type": "code",
   "execution_count": null,
   "metadata": {
    "ExecuteTime": {
     "end_time": "2022-05-03T17:36:28.656829Z",
     "start_time": "2022-05-03T17:36:26.678214Z"
    }
   },
   "outputs": [],
   "source": [
    "import yaml\n",
    "import anndata\n",
    "import scanpy as sc\n",
    "from scipy.sparse import csr_matrix\n",
    "from ALLCools.clustering import significant_pc_test, log_scale, balanced_pca"
   ]
  },
  {
   "cell_type": "markdown",
   "metadata": {},
   "source": [
    "## Parameters"
   ]
  },
  {
   "cell_type": "code",
   "execution_count": null,
   "metadata": {
    "ExecuteTime": {
     "end_time": "2022-05-03T17:36:28.663755Z",
     "start_time": "2022-05-03T17:36:28.658749Z"
    },
    "tags": [
     "parameters"
    ]
   },
   "outputs": [],
   "source": [
    "with open('config/05b.yaml', 'r') as f:\n",
    "    config = yaml.safe_load(f)\n",
    "    locals().update(config)\n",
    "    print('Notebook configs:')\n",
    "    for _k, _v in config.items():\n",
    "        print(f'{_k} = {_v}')"
   ]
  },
  {
   "cell_type": "markdown",
   "metadata": {},
   "source": [
    "## Load Data"
   ]
  },
  {
   "cell_type": "code",
   "execution_count": null,
   "metadata": {
    "ExecuteTime": {
     "end_time": "2022-05-03T17:36:33.389582Z",
     "start_time": "2022-05-03T17:36:29.324833Z"
    }
   },
   "outputs": [],
   "source": [
    "adata = anndata.read_h5ad(adata_path)"
   ]
  },
  {
   "cell_type": "markdown",
   "metadata": {},
   "source": [
    "## Scale"
   ]
  },
  {
   "cell_type": "code",
   "execution_count": null,
   "metadata": {
    "ExecuteTime": {
     "end_time": "2022-05-03T17:37:17.712147Z",
     "start_time": "2022-05-03T17:36:33.391754Z"
    }
   },
   "outputs": [],
   "source": [
    "scaler = log_scale(adata)"
   ]
  },
  {
   "cell_type": "markdown",
   "metadata": {},
   "source": [
    "## PCA"
   ]
  },
  {
   "cell_type": "code",
   "execution_count": null,
   "metadata": {
    "ExecuteTime": {
     "end_time": "2022-05-03T17:42:10.512748Z",
     "start_time": "2022-05-03T17:37:17.714211Z"
    }
   },
   "outputs": [],
   "source": [
    "if adata.shape[1] > 3:\n",
    "    balanced_pca(adata, groups=pre_cluster_name, max_cell_prop=max_cell_prop)\n",
    "    sc.pl.pca_variance_ratio(adata)\n",
    "    ch_n_components = significant_pc_test(adata, p_cutoff=p_cutoff)\n",
    "else:\n",
    "    adata.obsm['X_pca'] = adata.X\n",
    "    import numpy as np\n",
    "    mat = np.zeros(shape=(adata.shape[1], adata.shape[1]))\n",
    "    np.fill_diagonal(mat, 1)\n",
    "    adata.varm['PCs'] = mat"
   ]
  },
  {
   "cell_type": "markdown",
   "metadata": {},
   "source": [
    "## Save"
   ]
  },
  {
   "cell_type": "code",
   "execution_count": null,
   "metadata": {
    "ExecuteTime": {
     "end_time": "2022-05-03T17:42:11.565576Z",
     "start_time": "2022-05-03T17:42:10.514792Z"
    }
   },
   "outputs": [],
   "source": [
    "# empty X to save space and memory, following analysis won't need X\n",
    "adata.X = csr_matrix(adata.shape)\n",
    "adata.write_h5ad('mcg_adata.with_coords.h5ad')"
   ]
  },
  {
   "cell_type": "code",
   "execution_count": null,
   "metadata": {
    "ExecuteTime": {
     "end_time": "2022-05-03T18:47:23.477637Z",
     "start_time": "2022-05-03T18:47:23.466602Z"
    }
   },
   "outputs": [],
   "source": [
    "from ALLCools.clustering import ReproduciblePCA\n",
    "\n",
    "rpca = ReproduciblePCA(scaler=scaler, mc_type='CGN', adata=adata)\n",
    "rpca.dump('mCG.ReproduciblePCA.lib')"
   ]
  },
  {
   "cell_type": "code",
   "execution_count": null,
   "metadata": {},
   "outputs": [],
   "source": []
  }
 ],
 "metadata": {
  "hide_input": false,
  "kernelspec": {
   "display_name": "Python 3 (ipykernel)",
   "language": "python",
   "name": "python3"
  },
  "language_info": {
   "codemirror_mode": {
    "name": "ipython",
    "version": 3
   },
   "file_extension": ".py",
   "mimetype": "text/x-python",
   "name": "python",
   "nbconvert_exporter": "python",
   "pygments_lexer": "ipython3",
   "version": "3.8.12"
  },
  "toc": {
   "base_numbering": 1,
   "nav_menu": {},
   "number_sections": true,
   "sideBar": true,
   "skip_h1_title": true,
   "title_cell": "Table of Contents",
   "title_sidebar": "Contents",
   "toc_cell": false,
   "toc_position": {},
   "toc_section_display": true,
   "toc_window_display": true
  }
 },
 "nbformat": 4,
 "nbformat_minor": 4
}
