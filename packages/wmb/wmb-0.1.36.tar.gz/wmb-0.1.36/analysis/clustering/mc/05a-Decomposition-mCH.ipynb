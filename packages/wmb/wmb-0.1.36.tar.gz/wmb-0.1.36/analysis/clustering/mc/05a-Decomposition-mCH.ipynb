{
 "cells": [
  {
   "cell_type": "code",
   "execution_count": null,
   "metadata": {
    "ExecuteTime": {
     "end_time": "2022-05-03T17:36:07.595325Z",
     "start_time": "2022-05-03T17:36:05.659192Z"
    }
   },
   "outputs": [],
   "source": [
    "import yaml\n",
    "import anndata\n",
    "import scanpy as sc\n",
    "from scipy.sparse import csr_matrix\n",
    "from ALLCools.clustering import significant_pc_test, log_scale, balanced_pca"
   ]
  },
  {
   "cell_type": "markdown",
   "metadata": {},
   "source": [
    "## Parameters"
   ]
  },
  {
   "cell_type": "code",
   "execution_count": null,
   "metadata": {
    "ExecuteTime": {
     "end_time": "2022-05-03T17:36:07.603587Z",
     "start_time": "2022-05-03T17:36:07.598150Z"
    },
    "tags": [
     "parameters"
    ]
   },
   "outputs": [],
   "source": [
    "with open('config/05a.yaml', 'r') as f:\n",
    "    config = yaml.safe_load(f)\n",
    "    locals().update(config)\n",
    "    print('Notebook configs:')\n",
    "    for _k, _v in config.items():\n",
    "        print(f'{_k} = {_v}')"
   ]
  },
  {
   "cell_type": "markdown",
   "metadata": {},
   "source": [
    "## Load Data"
   ]
  },
  {
   "cell_type": "code",
   "execution_count": null,
   "metadata": {
    "ExecuteTime": {
     "end_time": "2022-05-03T17:36:12.555850Z",
     "start_time": "2022-05-03T17:36:08.310005Z"
    }
   },
   "outputs": [],
   "source": [
    "adata = anndata.read_h5ad(adata_path)"
   ]
  },
  {
   "cell_type": "markdown",
   "metadata": {},
   "source": [
    "## Scale"
   ]
  },
  {
   "cell_type": "code",
   "execution_count": null,
   "metadata": {
    "ExecuteTime": {
     "end_time": "2022-05-03T17:36:47.602239Z",
     "start_time": "2022-05-03T17:36:12.558787Z"
    }
   },
   "outputs": [],
   "source": [
    "scaler = log_scale(adata)"
   ]
  },
  {
   "cell_type": "markdown",
   "metadata": {},
   "source": [
    "## PCA"
   ]
  },
  {
   "cell_type": "code",
   "execution_count": null,
   "metadata": {
    "ExecuteTime": {
     "end_time": "2022-05-03T17:41:38.752546Z",
     "start_time": "2022-05-03T17:36:47.604098Z"
    }
   },
   "outputs": [],
   "source": [
    "if adata.shape[1] > 3:\n",
    "    balanced_pca(adata, groups=pre_cluster_name, max_cell_prop=max_cell_prop)\n",
    "    sc.pl.pca_variance_ratio(adata)\n",
    "    ch_n_components = significant_pc_test(adata, p_cutoff=p_cutoff)\n",
    "else:\n",
    "    adata.obsm['X_pca'] = adata.X\n",
    "    import numpy as np\n",
    "    mat = np.zeros(shape=(adata.shape[1], adata.shape[1]))\n",
    "    np.fill_diagonal(mat, 1)\n",
    "    adata.varm['PCs'] = mat"
   ]
  },
  {
   "cell_type": "markdown",
   "metadata": {},
   "source": [
    "## Save"
   ]
  },
  {
   "cell_type": "code",
   "execution_count": null,
   "metadata": {
    "ExecuteTime": {
     "end_time": "2022-05-03T17:41:41.486757Z",
     "start_time": "2022-05-03T17:41:38.757084Z"
    }
   },
   "outputs": [],
   "source": [
    "# empty X to save space and memory, following analysis won't need X\n",
    "adata.X = csr_matrix(adata.shape)\n",
    "adata.write_h5ad('mch_adata.with_coords.h5ad')"
   ]
  },
  {
   "cell_type": "code",
   "execution_count": null,
   "metadata": {
    "ExecuteTime": {
     "end_time": "2022-05-03T18:47:31.464749Z",
     "start_time": "2022-05-03T18:47:31.454569Z"
    }
   },
   "outputs": [],
   "source": [
    "from ALLCools.clustering import ReproduciblePCA\n",
    "\n",
    "rpca = ReproduciblePCA(scaler=scaler, mc_type='CHN', adata=adata)\n",
    "rpca.dump('mCH.ReproduciblePCA.lib')"
   ]
  },
  {
   "cell_type": "code",
   "execution_count": null,
   "metadata": {},
   "outputs": [],
   "source": []
  }
 ],
 "metadata": {
  "hide_input": false,
  "kernelspec": {
   "display_name": "Python 3 (ipykernel)",
   "language": "python",
   "name": "python3"
  },
  "language_info": {
   "codemirror_mode": {
    "name": "ipython",
    "version": 3
   },
   "file_extension": ".py",
   "mimetype": "text/x-python",
   "name": "python",
   "nbconvert_exporter": "python",
   "pygments_lexer": "ipython3",
   "version": "3.8.12"
  },
  "toc": {
   "base_numbering": 1,
   "nav_menu": {},
   "number_sections": true,
   "sideBar": true,
   "skip_h1_title": true,
   "title_cell": "Table of Contents",
   "title_sidebar": "Contents",
   "toc_cell": false,
   "toc_position": {},
   "toc_section_display": true,
   "toc_window_display": true
  }
 },
 "nbformat": 4,
 "nbformat_minor": 4
}
