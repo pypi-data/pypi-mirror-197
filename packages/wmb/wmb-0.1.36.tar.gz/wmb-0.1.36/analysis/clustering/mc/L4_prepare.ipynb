{
 "cells": [
  {
   "cell_type": "code",
   "execution_count": null,
   "id": "85e80402",
   "metadata": {
    "ExecuteTime": {
     "end_time": "2022-05-13T03:29:00.250506Z",
     "start_time": "2022-05-13T03:29:00.247903Z"
    }
   },
   "outputs": [],
   "source": [
    "import yaml\n",
    "import pathlib\n",
    "import anndata\n",
    "import pandas as pd"
   ]
  },
  {
   "cell_type": "code",
   "execution_count": null,
   "id": "cedc1ed2",
   "metadata": {
    "ExecuteTime": {
     "end_time": "2022-05-13T03:29:00.446506Z",
     "start_time": "2022-05-13T03:29:00.443873Z"
    }
   },
   "outputs": [],
   "source": [
    "cluster_dir = '../L4/'\n",
    "\n",
    "cluster_dir = pathlib.Path(cluster_dir).absolute()\n",
    "cluster_dir.mkdir(exist_ok=True)"
   ]
  },
  {
   "cell_type": "code",
   "execution_count": null,
   "id": "ffc1a5ea",
   "metadata": {
    "ExecuteTime": {
     "end_time": "2022-05-13T03:29:00.600527Z",
     "start_time": "2022-05-13T03:29:00.596179Z"
    }
   },
   "outputs": [],
   "source": [
    "def prepare_group(group, cells):\n",
    "    group_dir = cluster_dir / group\n",
    "    group_dir.mkdir(exist_ok=True)\n",
    "    config_dir = group_dir / 'config'\n",
    "    config_dir.mkdir(exist_ok=True)\n",
    "\n",
    "    # subset cells\n",
    "    with open(group_dir / 'select_cells.txt', 'w') as f:\n",
    "        f.write('\\n'.join(cells.index))\n",
    "\n",
    "    for path in pathlib.Path('config/').glob('*.yaml'):\n",
    "        with open(path) as f, open(config_dir / path.name, 'w') as outf:\n",
    "            config = yaml.safe_load(f)\n",
    "\n",
    "            # adjust the default parameters for all the groups\n",
    "            if 'select_cells' in config:\n",
    "                config['select_cells'] = 'select_cells.txt'\n",
    "            if path.name == '06.yaml':\n",
    "                # key parameter in clustering step\n",
    "                config['leiden_resolution'] = 0.3\n",
    "                config['target_accuracy'] = 0.92\n",
    "                config['min_cluster_size'] = 30\n",
    "                config['n_jobs'] = 10\n",
    "            yaml.safe_dump(config, outf)\n",
    "    return"
   ]
  },
  {
   "cell_type": "code",
   "execution_count": null,
   "id": "66893712",
   "metadata": {
    "deletable": false,
    "editable": false,
    "run_control": {
     "frozen": true
    }
   },
   "outputs": [],
   "source": [
    "adata_paths = pathlib.Path('../L3/').glob('c*/adata.with_coords.h5ad')\n",
    "\n",
    "i = 0\n",
    "for adata_path in adata_paths:\n",
    "    adata = anndata.read_h5ad(adata_path)\n",
    "    n_cluster = adata.obs['L1'].unique().size\n",
    "    if n_cluster == 1:\n",
    "        continue\n",
    "    \n",
    "    for group, cells in adata.obs.groupby('L1'):\n",
    "        group = adata_path.parent.name + group\n",
    "        if cells.shape[0] < 65:\n",
    "            # < 60 means it won't be split to two 30\n",
    "            continue\n",
    "        print(i, group, cells.shape[0])\n",
    "        i += 1\n",
    "        prepare_group(group, cells)"
   ]
  },
  {
   "cell_type": "code",
   "execution_count": null,
   "id": "fae6e548",
   "metadata": {
    "ExecuteTime": {
     "end_time": "2022-05-07T04:52:00.662193Z",
     "start_time": "2022-05-07T04:52:00.639191Z"
    },
    "deletable": false,
    "editable": false,
    "run_control": {
     "frozen": true
    }
   },
   "outputs": [],
   "source": [
    "# copy the snakefile\n",
    "with open('../L4/Snakefile', 'w') as outf, open('Snakefile') as f:\n",
    "    snakefile = f.read()\n",
    "    snakefile = snakefile.replace('REPLACE_TEMPLATE_DIR',\n",
    "                                  str(pathlib.Path().absolute()))\n",
    "    outf.write(snakefile)"
   ]
  },
  {
   "cell_type": "markdown",
   "id": "7fe79edd",
   "metadata": {},
   "source": [
    "## Collect html"
   ]
  },
  {
   "cell_type": "code",
   "execution_count": null,
   "id": "8d853be2",
   "metadata": {
    "ExecuteTime": {
     "end_time": "2022-05-13T00:12:37.615121Z",
     "start_time": "2022-05-13T00:12:37.613211Z"
    }
   },
   "outputs": [],
   "source": [
    "import pathlib\n",
    "import subprocess\n",
    "import anndata"
   ]
  },
  {
   "cell_type": "code",
   "execution_count": null,
   "id": "93d8d130",
   "metadata": {
    "ExecuteTime": {
     "end_time": "2022-05-13T00:12:39.127331Z",
     "start_time": "2022-05-13T00:12:39.003539Z"
    }
   },
   "outputs": [],
   "source": [
    "!mkdir L4"
   ]
  },
  {
   "cell_type": "code",
   "execution_count": null,
   "id": "4c6eeb53",
   "metadata": {},
   "outputs": [],
   "source": [
    "out_dir = './L4'\n",
    "count = 0\n",
    "for group_dir in pathlib.Path('../L4/').glob('c*/'):\n",
    "    path = group_dir / '06-Clustering.ipynb'\n",
    "    count += 1\n",
    "    if not pathlib.Path(f'{out_dir}/{path.parent.name}-{path.name}.html').exists():    \n",
    "        subprocess.run(\n",
    "            f'jupyter nbconvert --to html --no-input ' \\\n",
    "            f'--output {path.parent.name}-{path.name} --output-dir {out_dir} {path}',\n",
    "            shell=True, check=True\n",
    "        )\n",
    "        \n",
    "    path = group_dir / '07-Plot.ipynb'\n",
    "    if not pathlib.Path(f'{out_dir}/{path.parent.name}-{path.name}.html').exists(): \n",
    "        subprocess.run(\n",
    "            f'jupyter nbconvert --to html --no-input ' \\\n",
    "            f'--output {path.parent.name}-{path.name} --output-dir {out_dir} {path}',\n",
    "            shell=True, check=True\n",
    "        )"
   ]
  },
  {
   "cell_type": "code",
   "execution_count": null,
   "id": "fbf71f6a",
   "metadata": {
    "ExecuteTime": {
     "end_time": "2022-05-13T03:28:53.623006Z",
     "start_time": "2022-05-13T03:28:53.620504Z"
    }
   },
   "outputs": [],
   "source": [
    "import pathlib"
   ]
  },
  {
   "cell_type": "code",
   "execution_count": null,
   "id": "19b0d9a8",
   "metadata": {
    "ExecuteTime": {
     "end_time": "2022-05-13T03:29:28.072680Z",
     "start_time": "2022-05-13T03:29:28.069033Z"
    }
   },
   "outputs": [],
   "source": [
    "sub_dirs = [\n",
    "    'c30c1c0', 'c0c0c14', 'c0c0c16', 'c0c2c15', 'c1c0c0', 'c1c1c0', 'c1c1c1',\n",
    "    'c1c1c2', 'c1c1c3', 'c1c2c3', 'c1c3c0', 'c1c4c3', 'c1c5c1', 'c1c6c0',\n",
    "    'c1c6c1', 'c2c3c3', 'c2c4c1', 'c2c5c0', 'c3c2c0', 'c3c3c1', 'c3c3c2',\n",
    "    'c4c0c2', 'c4c1c0', 'c4c1c1', 'c4c2c4', 'c4c6c0', 'c4c9c0', 'c4c9c1',\n",
    "    'c6c2c1', 'c6c3c1', 'c6c4c2', 'c6c6c0', 'c6c8c0', 'c7c1c5', 'c7c2c0',\n",
    "    'c8c2c1', 'c8c7c2', 'c8c8c0', 'c9c1c0', 'c10c1c2', 'c11c4c0', 'c13c0c0',\n",
    "    'c14c1c1', 'c16c0c0', 'c16c0c1', 'c17c1c0', 'c17c2c1', 'c25c2c0', 'c26c0c1'\n",
    "]"
   ]
  },
  {
   "cell_type": "code",
   "execution_count": null,
   "id": "955cb2a9",
   "metadata": {
    "ExecuteTime": {
     "end_time": "2022-05-13T03:31:22.590069Z",
     "start_time": "2022-05-13T03:31:21.777417Z"
    }
   },
   "outputs": [],
   "source": [
    "for sub_dir in sub_dirs:\n",
    "    with open(f'../L4/{sub_dir}/config/06.yaml') as f:\n",
    "        config = yaml.safe_load(f)\n",
    "        config['leiden_resolution'] = 0.2\n",
    "        config['target_accuracy'] = 0.9\n",
    "        \n",
    "    with open(f'../L4/{sub_dir}/config/06.yaml', 'w') as f:    \n",
    "        yaml.safe_dump(config, f)"
   ]
  },
  {
   "cell_type": "code",
   "execution_count": null,
   "id": "d8e966d3",
   "metadata": {
    "ExecuteTime": {
     "end_time": "2022-05-13T03:36:17.943948Z",
     "start_time": "2022-05-13T03:36:17.941574Z"
    }
   },
   "outputs": [],
   "source": [
    "from wmb import brain, cemba"
   ]
  },
  {
   "cell_type": "code",
   "execution_count": null,
   "id": "32dd82d6",
   "metadata": {
    "ExecuteTime": {
     "end_time": "2022-05-13T03:36:28.558213Z",
     "start_time": "2022-05-13T03:36:27.836020Z"
    }
   },
   "outputs": [],
   "source": [
    "df = cemba.get_m3c_mapping_metric()"
   ]
  },
  {
   "cell_type": "code",
   "execution_count": null,
   "id": "4f388986",
   "metadata": {
    "ExecuteTime": {
     "end_time": "2022-05-13T03:36:47.089207Z",
     "start_time": "2022-05-13T03:36:47.079697Z"
    }
   },
   "outputs": [],
   "source": [
    "df['DissectionRegion'].isna().sum()"
   ]
  },
  {
   "cell_type": "code",
   "execution_count": null,
   "id": "9a98b652",
   "metadata": {},
   "outputs": [],
   "source": []
  }
 ],
 "metadata": {
  "hide_input": false,
  "kernelspec": {
   "display_name": "Python 3 (ipykernel)",
   "language": "python",
   "name": "python3"
  },
  "language_info": {
   "codemirror_mode": {
    "name": "ipython",
    "version": 3
   },
   "file_extension": ".py",
   "mimetype": "text/x-python",
   "name": "python",
   "nbconvert_exporter": "python",
   "pygments_lexer": "ipython3",
   "version": "3.8.12"
  },
  "toc": {
   "base_numbering": 1,
   "nav_menu": {},
   "number_sections": true,
   "sideBar": true,
   "skip_h1_title": true,
   "title_cell": "Table of Contents",
   "title_sidebar": "Contents",
   "toc_cell": false,
   "toc_position": {},
   "toc_section_display": true,
   "toc_window_display": true
  }
 },
 "nbformat": 4,
 "nbformat_minor": 5
}
