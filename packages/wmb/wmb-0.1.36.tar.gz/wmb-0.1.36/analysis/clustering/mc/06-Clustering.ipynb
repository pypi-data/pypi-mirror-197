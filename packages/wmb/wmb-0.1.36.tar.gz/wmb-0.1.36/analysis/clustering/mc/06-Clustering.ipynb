{
 "cells": [
  {
   "cell_type": "markdown",
   "metadata": {},
   "source": [
    "# Consensus Clustering\n",
    "\n",
    "## Purpose\n",
    "The purpose of this step is to run consensus clustering.\n",
    "\n",
    "## Input\n",
    "- Cell-by-components matrix from the decompusition analysis.\n",
    "\n",
    "## Output\n",
    "- Adata file with cluster annotated."
   ]
  },
  {
   "cell_type": "markdown",
   "metadata": {},
   "source": [
    "## Import"
   ]
  },
  {
   "cell_type": "code",
   "execution_count": null,
   "metadata": {
    "ExecuteTime": {
     "end_time": "2022-05-03T20:32:43.497782Z",
     "start_time": "2022-05-03T20:32:41.540505Z"
    }
   },
   "outputs": [],
   "source": [
    "import yaml\n",
    "import anndata\n",
    "import seaborn as sns\n",
    "import matplotlib.pyplot as plt\n",
    "\n",
    "from ALLCools.clustering import ConsensusClustering, Dendrogram, get_pc_centers\n",
    "from ALLCools.plot import *"
   ]
  },
  {
   "cell_type": "markdown",
   "metadata": {},
   "source": [
    "## Parameters"
   ]
  },
  {
   "cell_type": "code",
   "execution_count": null,
   "metadata": {
    "ExecuteTime": {
     "end_time": "2022-05-03T20:32:45.115638Z",
     "start_time": "2022-05-03T20:32:45.107759Z"
    },
    "tags": [
     "parameters"
    ]
   },
   "outputs": [],
   "source": [
    "with open('config/06.yaml', 'r') as f:\n",
    "    config = yaml.safe_load(f)\n",
    "    locals().update(config)\n",
    "    print('Notebook configs:')\n",
    "    for _k, _v in config.items():\n",
    "        print(f'{_k} = {_v}')"
   ]
  },
  {
   "cell_type": "markdown",
   "metadata": {},
   "source": [
    "## Load Data"
   ]
  },
  {
   "cell_type": "code",
   "execution_count": null,
   "metadata": {
    "ExecuteTime": {
     "end_time": "2022-05-03T20:32:47.571346Z",
     "start_time": "2022-05-03T20:32:47.045077Z"
    }
   },
   "outputs": [],
   "source": [
    "adata = anndata.read_h5ad(adata_path)"
   ]
  },
  {
   "cell_type": "code",
   "execution_count": null,
   "metadata": {
    "ExecuteTime": {
     "end_time": "2022-05-03T20:32:47.578626Z",
     "start_time": "2022-05-03T20:32:47.573063Z"
    }
   },
   "outputs": [],
   "source": [
    "adata"
   ]
  },
  {
   "cell_type": "markdown",
   "metadata": {
    "ExecuteTime": {
     "end_time": "2020-12-31T08:10:47.287108Z",
     "start_time": "2020-12-31T08:10:47.125455Z"
    }
   },
   "source": [
    "## Consensus Clustering"
   ]
  },
  {
   "cell_type": "code",
   "execution_count": null,
   "metadata": {
    "ExecuteTime": {
     "end_time": "2022-05-03T20:32:48.528699Z",
     "start_time": "2022-05-03T20:32:48.525685Z"
    }
   },
   "outputs": [],
   "source": [
    "cc = ConsensusClustering(model=None,\n",
    "                         n_neighbors=n_neighbors,\n",
    "                         metric=metric,\n",
    "                         min_cluster_size=min_cluster_size,\n",
    "                         leiden_repeats=leiden_repeats,\n",
    "                         leiden_resolution=leiden_resolution,\n",
    "                         consensus_rate=consensus_rate,\n",
    "                         random_state=random_state,\n",
    "                         train_frac=train_frac,\n",
    "                         train_max_n=train_max_n,\n",
    "                         max_iter=max_iter,\n",
    "                         n_jobs=n_jobs,\n",
    "                         target_accuracy=target_accuracy)"
   ]
  },
  {
   "cell_type": "code",
   "execution_count": null,
   "metadata": {
    "ExecuteTime": {
     "start_time": "2022-05-03T20:32:49.214Z"
    }
   },
   "outputs": [],
   "source": [
    "if 'X_pca' not in adata.obsm:\n",
    "    raise KeyError(\n",
    "        'X_pca do not exist in the adata file, run PCA first before clustering.'\n",
    "    )\n",
    "cc.fit_predict(adata.obsm['X_pca'])"
   ]
  },
  {
   "cell_type": "code",
   "execution_count": null,
   "metadata": {
    "ExecuteTime": {
     "end_time": "2022-05-03T21:35:45.123574Z",
     "start_time": "2022-05-03T21:35:44.713362Z"
    }
   },
   "outputs": [],
   "source": [
    "cc.plot_merge_process(plot_size=3)"
   ]
  },
  {
   "cell_type": "markdown",
   "metadata": {},
   "source": [
    "## Plot ConsensusClustering Details\n",
    "\n",
    "### Individual Leiden runs with different random states"
   ]
  },
  {
   "cell_type": "code",
   "execution_count": null,
   "metadata": {
    "ExecuteTime": {
     "end_time": "2022-05-03T21:35:44.711977Z",
     "start_time": "2022-05-03T21:35:33.695790Z"
    }
   },
   "outputs": [],
   "source": [
    "fig, axes = cc.plot_leiden_cases(coord_data=adata,\n",
    "                                 coord_base=coord_base)"
   ]
  },
  {
   "cell_type": "markdown",
   "metadata": {},
   "source": [
    "### Merging steps"
   ]
  },
  {
   "cell_type": "code",
   "execution_count": null,
   "metadata": {
    "ExecuteTime": {
     "start_time": "2022-05-03T20:32:55.891Z"
    }
   },
   "outputs": [],
   "source": [
    "len(set(cc._multi_leiden_clusters)), len(set(cc.label))"
   ]
  },
  {
   "cell_type": "code",
   "execution_count": null,
   "metadata": {
    "ExecuteTime": {
     "end_time": "2022-05-03T21:35:33.694287Z",
     "start_time": "2022-05-03T21:35:25.433355Z"
    }
   },
   "outputs": [],
   "source": [
    "cc.plot_steps(coord_data=adata, coord_base=coord_base)"
   ]
  },
  {
   "cell_type": "markdown",
   "metadata": {},
   "source": [
    "## Plot Final Clustering Results\n",
    "\n",
    "### Cluster Lables"
   ]
  },
  {
   "cell_type": "code",
   "execution_count": null,
   "metadata": {
    "ExecuteTime": {
     "end_time": "2022-05-03T21:35:25.431992Z",
     "start_time": "2022-05-03T21:35:21.949740Z"
    }
   },
   "outputs": [],
   "source": [
    "adata.obs[clustering_name] = cc.label\n",
    "\n",
    "fig, ax = plt.subplots(figsize=(4, 4), dpi=250)\n",
    "_ = categorical_scatter(data=adata,\n",
    "                        ax=ax,\n",
    "                        hue=clustering_name,\n",
    "                        coord_base=coord_base,\n",
    "                        palette='tab20',\n",
    "                        text_anno=clustering_name,\n",
    "                        show_legend=True,\n",
    "                        max_points=None)"
   ]
  },
  {
   "cell_type": "markdown",
   "metadata": {},
   "source": [
    "### Final Prediction Probability"
   ]
  },
  {
   "cell_type": "code",
   "execution_count": null,
   "metadata": {
    "ExecuteTime": {
     "end_time": "2022-05-03T21:35:21.948044Z",
     "start_time": "2022-05-03T21:35:18.889112Z"
    }
   },
   "outputs": [],
   "source": [
    "adata.obs[clustering_name + '_proba'] = cc.label_proba\n",
    "\n",
    "fig, ax = plt.subplots(figsize=(4, 4), dpi=250)\n",
    "_ = continuous_scatter(data=adata,\n",
    "                       ax=ax,\n",
    "                       hue_norm=(0, 1),\n",
    "                       hue=clustering_name + '_proba',\n",
    "                       text_anno=clustering_name,\n",
    "                       coord_base=coord_base,\n",
    "                       max_points=None)"
   ]
  },
  {
   "cell_type": "markdown",
   "metadata": {},
   "source": [
    "### Prediction Probability Per Cluster"
   ]
  },
  {
   "cell_type": "code",
   "execution_count": null,
   "metadata": {
    "ExecuteTime": {
     "end_time": "2022-05-03T21:35:18.887754Z",
     "start_time": "2022-05-03T21:35:15.683247Z"
    }
   },
   "outputs": [],
   "source": [
    "fig, ax = plt.subplots(figsize=(6, 3), dpi=300)\n",
    "\n",
    "sns.violinplot(data=adata.obs,\n",
    "               x=clustering_name,\n",
    "               y=clustering_name + '_proba',\n",
    "               scale='width',\n",
    "               linewidth=0.5,\n",
    "               cut=0,\n",
    "               ax=ax)\n",
    "ax.set(ylim=(0, 1), title='Prediction Probability Per Cluster')\n",
    "ax.xaxis.set_tick_params(rotation=90)\n",
    "ax.grid(linewidth=0.5, color='gray', linestyle='--')\n",
    "sns.despine(ax=ax)"
   ]
  },
  {
   "cell_type": "markdown",
   "metadata": {},
   "source": [
    "## Save"
   ]
  },
  {
   "cell_type": "code",
   "execution_count": null,
   "metadata": {
    "ExecuteTime": {
     "start_time": "2022-05-03T20:33:02.608Z"
    }
   },
   "outputs": [],
   "source": [
    "adata.write_h5ad(adata_path)"
   ]
  },
  {
   "cell_type": "code",
   "execution_count": null,
   "metadata": {
    "ExecuteTime": {
     "start_time": "2022-05-03T20:33:03.108Z"
    }
   },
   "outputs": [],
   "source": [
    "cc.save(f'ConcensusClustering.model.lib')"
   ]
  },
  {
   "cell_type": "code",
   "execution_count": null,
   "metadata": {},
   "outputs": [],
   "source": []
  }
 ],
 "metadata": {
  "hide_input": false,
  "kernelspec": {
   "display_name": "Python 3 (ipykernel)",
   "language": "python",
   "name": "python3"
  },
  "language_info": {
   "codemirror_mode": {
    "name": "ipython",
    "version": 3
   },
   "file_extension": ".py",
   "mimetype": "text/x-python",
   "name": "python",
   "nbconvert_exporter": "python",
   "pygments_lexer": "ipython3",
   "version": "3.8.12"
  },
  "toc": {
   "base_numbering": 1,
   "nav_menu": {},
   "number_sections": true,
   "sideBar": true,
   "skip_h1_title": true,
   "title_cell": "Table of Contents",
   "title_sidebar": "Contents",
   "toc_cell": false,
   "toc_position": {},
   "toc_section_display": true,
   "toc_window_display": true
  }
 },
 "nbformat": 4,
 "nbformat_minor": 4
}
