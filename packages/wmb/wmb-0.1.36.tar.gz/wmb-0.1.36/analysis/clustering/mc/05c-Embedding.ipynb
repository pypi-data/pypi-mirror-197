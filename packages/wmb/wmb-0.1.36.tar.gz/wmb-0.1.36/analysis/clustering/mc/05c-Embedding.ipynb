{
 "cells": [
  {
   "cell_type": "markdown",
   "metadata": {},
   "source": [
    "# Decomposition And Embedding\n",
    "\n",
    "## Purpose\n",
    "The purpose of this step is to run PCA and manifold leanring (tSNE and UMAP) on the cell-by-feature matrix, feature to use can be either HVF or CEF. We use both the mCH and mCG matrix. We first run PCA on mCH and mCG matrix separately, and then concatenate mCH and mCG top PCs together to run KNN, followed by tSNE and UMAP embedding.\n",
    "\n",
    "## Input\n",
    "- HVF adata files.\n",
    "\n",
    "## Output\n",
    "- HVF adata file with PCA, tSNE and UMAP calculated."
   ]
  },
  {
   "cell_type": "markdown",
   "metadata": {},
   "source": [
    "## Import"
   ]
  },
  {
   "cell_type": "code",
   "execution_count": null,
   "metadata": {
    "ExecuteTime": {
     "end_time": "2022-05-03T18:48:02.122089Z",
     "start_time": "2022-05-03T18:48:00.167027Z"
    }
   },
   "outputs": [],
   "source": [
    "import yaml\n",
    "import numpy as np\n",
    "import matplotlib.pyplot as plt\n",
    "import scanpy as sc\n",
    "import anndata\n",
    "\n",
    "from ALLCools.clustering import tsne\n",
    "from ALLCools.plot import *\n",
    "from wmb import cemba"
   ]
  },
  {
   "cell_type": "markdown",
   "metadata": {},
   "source": [
    "## Parameters"
   ]
  },
  {
   "cell_type": "code",
   "execution_count": null,
   "metadata": {
    "ExecuteTime": {
     "end_time": "2022-05-03T18:48:02.128794Z",
     "start_time": "2022-05-03T18:48:02.123864Z"
    },
    "tags": [
     "parameters"
    ]
   },
   "outputs": [],
   "source": [
    "with open('config/05c.yaml', 'r') as f:\n",
    "    config = yaml.safe_load(f)\n",
    "    locals().update(config)\n",
    "    print('Notebook configs:')\n",
    "    for _k, _v in config.items():\n",
    "        print(f'{_k} = {_v}')"
   ]
  },
  {
   "cell_type": "markdown",
   "metadata": {},
   "source": [
    "## Load Data"
   ]
  },
  {
   "cell_type": "code",
   "execution_count": null,
   "metadata": {
    "ExecuteTime": {
     "end_time": "2022-05-03T18:48:05.656811Z",
     "start_time": "2022-05-03T18:48:04.784081Z"
    }
   },
   "outputs": [],
   "source": [
    "if dataset == 'mC':\n",
    "    metadata = cemba.get_mc_mapping_metric()\n",
    "else:\n",
    "    metadata = cemba.get_m3c_mapping_metric()"
   ]
  },
  {
   "cell_type": "code",
   "execution_count": null,
   "metadata": {
    "ExecuteTime": {
     "end_time": "2022-05-03T18:50:41.872478Z",
     "start_time": "2022-05-03T18:50:41.207014Z"
    }
   },
   "outputs": [],
   "source": [
    "ch_adata = anndata.read_h5ad(ch_adata_path)\n",
    "cg_adata = anndata.read_h5ad(cg_adata_path)"
   ]
  },
  {
   "cell_type": "markdown",
   "metadata": {},
   "source": [
    "## Concatenate PCs"
   ]
  },
  {
   "cell_type": "code",
   "execution_count": null,
   "metadata": {
    "ExecuteTime": {
     "end_time": "2022-05-03T18:50:44.893005Z",
     "start_time": "2022-05-03T18:50:44.544252Z"
    }
   },
   "outputs": [],
   "source": [
    "ch_pcs = ch_adata.obsm['X_pca']\n",
    "cg_pcs = cg_adata.obsm['X_pca']\n",
    "\n",
    "# scale the PCs so CH and CG PCs has the same total var\n",
    "cg_pcs = cg_pcs / cg_pcs.std()\n",
    "ch_pcs = ch_pcs / ch_pcs.std()\n",
    "\n",
    "# total_pcs\n",
    "total_pcs = np.hstack([ch_pcs, cg_pcs])"
   ]
  },
  {
   "cell_type": "code",
   "execution_count": null,
   "metadata": {
    "ExecuteTime": {
     "end_time": "2022-05-03T18:50:45.474773Z",
     "start_time": "2022-05-03T18:50:45.393655Z"
    }
   },
   "outputs": [],
   "source": [
    "# make a copy of adata, add new pcs\n",
    "# this is suboptimal, will change this when adata can combine layer and X in the future\n",
    "adata = ch_adata.copy()"
   ]
  },
  {
   "cell_type": "code",
   "execution_count": null,
   "metadata": {
    "ExecuteTime": {
     "end_time": "2022-05-03T18:50:46.397339Z",
     "start_time": "2022-05-03T18:50:46.267874Z"
    }
   },
   "outputs": [],
   "source": [
    "adata.obsm['X_pca'] = total_pcs.copy()\n",
    "del adata.uns['pca']\n",
    "del adata.varm['PCs']"
   ]
  },
  {
   "cell_type": "markdown",
   "metadata": {},
   "source": [
    "## Plot"
   ]
  },
  {
   "cell_type": "code",
   "execution_count": null,
   "metadata": {
    "ExecuteTime": {
     "end_time": "2022-05-03T18:52:35.527901Z",
     "start_time": "2022-05-03T18:50:48.617478Z"
    }
   },
   "outputs": [],
   "source": [
    "hue = 'mCHFrac'\n",
    "if hue in metadata.columns:\n",
    "    adata.obs[hue] = metadata[hue].reindex(adata.obs_names)\n",
    "    fig, axes = plot_decomp_scatters(adata,\n",
    "                                     n_components=adata.obsm['X_pca'].shape[1],\n",
    "                                     hue=hue,\n",
    "                                     hue_quantile=(0.25, 0.75),\n",
    "                                     nrows=5,\n",
    "                                     ncols=5)"
   ]
  },
  {
   "cell_type": "code",
   "execution_count": null,
   "metadata": {
    "ExecuteTime": {
     "end_time": "2022-05-03T18:54:23.569267Z",
     "start_time": "2022-05-03T18:52:35.529811Z"
    }
   },
   "outputs": [],
   "source": [
    "hue = 'mCGFrac'\n",
    "if hue in metadata.columns:\n",
    "    adata.obs[hue] = metadata[hue].reindex(adata.obs_names)\n",
    "    fig, axes = plot_decomp_scatters(adata,\n",
    "                                     n_components=adata.obsm['X_pca'].shape[1],\n",
    "                                     hue=hue,\n",
    "                                     hue_quantile=(0.25, 0.75),\n",
    "                                     nrows=5,\n",
    "                                     ncols=5)"
   ]
  },
  {
   "cell_type": "markdown",
   "metadata": {},
   "source": [
    "## Manifold Learning"
   ]
  },
  {
   "cell_type": "markdown",
   "metadata": {},
   "source": [
    "### tSNE"
   ]
  },
  {
   "cell_type": "code",
   "execution_count": null,
   "metadata": {
    "ExecuteTime": {
     "end_time": "2022-05-03T19:00:20.664452Z",
     "start_time": "2022-05-03T18:54:23.570968Z"
    }
   },
   "outputs": [],
   "source": [
    "tsne(adata,\n",
    "     obsm='X_pca',\n",
    "     metric='euclidean',\n",
    "     exaggeration=-1,  # auto determined\n",
    "     perplexity=30,\n",
    "     n_jobs=-1)"
   ]
  },
  {
   "cell_type": "code",
   "execution_count": null,
   "metadata": {
    "ExecuteTime": {
     "end_time": "2022-05-03T19:00:24.084023Z",
     "start_time": "2022-05-03T19:00:20.667016Z"
    }
   },
   "outputs": [],
   "source": [
    "fig, ax = plt.subplots(figsize=(4, 4), dpi=250)\n",
    "categorical_scatter(data=adata,\n",
    "                    ax=ax,\n",
    "                    coord_base='tsne',\n",
    "                    hue=pre_cluster_name,\n",
    "                    show_legend=True,\n",
    "                    max_points=None)"
   ]
  },
  {
   "cell_type": "markdown",
   "metadata": {},
   "source": [
    "### UMAP"
   ]
  },
  {
   "cell_type": "code",
   "execution_count": null,
   "metadata": {
    "ExecuteTime": {
     "end_time": "2022-05-03T19:13:06.715409Z",
     "start_time": "2022-05-03T19:00:24.085434Z"
    }
   },
   "outputs": [],
   "source": [
    "sc.pp.neighbors(adata)\n",
    "\n",
    "min_dist = max(0.1, 1 - adata.shape[0] / 60000)\n",
    "sc.tl.umap(adata, min_dist=min_dist)\n",
    "min_dist"
   ]
  },
  {
   "cell_type": "code",
   "execution_count": null,
   "metadata": {
    "ExecuteTime": {
     "end_time": "2022-05-03T19:13:10.158056Z",
     "start_time": "2022-05-03T19:13:06.717279Z"
    }
   },
   "outputs": [],
   "source": [
    "fig, ax = plt.subplots(figsize=(4, 4), dpi=250)\n",
    "categorical_scatter(data=adata,\n",
    "                    ax=ax,\n",
    "                    coord_base='umap',\n",
    "                    hue=pre_cluster_name,\n",
    "                    show_legend=True,\n",
    "                    max_points=None)"
   ]
  },
  {
   "cell_type": "markdown",
   "metadata": {},
   "source": [
    "## Save Results"
   ]
  },
  {
   "cell_type": "code",
   "execution_count": null,
   "metadata": {
    "ExecuteTime": {
     "end_time": "2022-05-03T19:13:10.588536Z",
     "start_time": "2022-05-03T19:13:10.159449Z"
    }
   },
   "outputs": [],
   "source": [
    "adata.write_h5ad('adata.with_coords.h5ad')\n",
    "\n",
    "adata"
   ]
  },
  {
   "cell_type": "code",
   "execution_count": null,
   "metadata": {},
   "outputs": [],
   "source": []
  }
 ],
 "metadata": {
  "hide_input": false,
  "kernelspec": {
   "display_name": "Python 3 (ipykernel)",
   "language": "python",
   "name": "python3"
  },
  "language_info": {
   "codemirror_mode": {
    "name": "ipython",
    "version": 3
   },
   "file_extension": ".py",
   "mimetype": "text/x-python",
   "name": "python",
   "nbconvert_exporter": "python",
   "pygments_lexer": "ipython3",
   "version": "3.8.12"
  },
  "toc": {
   "base_numbering": 1,
   "nav_menu": {},
   "number_sections": true,
   "sideBar": true,
   "skip_h1_title": true,
   "title_cell": "Table of Contents",
   "title_sidebar": "Contents",
   "toc_cell": false,
   "toc_position": {},
   "toc_section_display": true,
   "toc_window_display": true
  }
 },
 "nbformat": 4,
 "nbformat_minor": 4
}
