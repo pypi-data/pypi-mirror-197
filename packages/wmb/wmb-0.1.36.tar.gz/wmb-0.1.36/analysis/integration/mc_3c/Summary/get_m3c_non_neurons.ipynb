{
 "cells": [
  {
   "cell_type": "code",
   "execution_count": null,
   "id": "6b7c552a",
   "metadata": {
    "ExecuteTime": {
     "end_time": "2022-06-23T03:59:05.559943Z",
     "start_time": "2022-06-23T03:59:03.649387Z"
    }
   },
   "outputs": [],
   "source": [
    "from wmb import cemba\n",
    "import xarray as xr\n",
    "\n",
    "from ALLCools.mcds import MCDS\n",
    "from ALLCools.plot import *"
   ]
  },
  {
   "cell_type": "code",
   "execution_count": null,
   "id": "d52f7ebf",
   "metadata": {
    "ExecuteTime": {
     "end_time": "2022-06-23T04:02:15.828058Z",
     "start_time": "2022-06-23T04:02:11.840381Z"
    }
   },
   "outputs": [],
   "source": [
    "mc_annot = cemba.get_mc_annot()\n",
    "m3c_meta = cemba.get_m3c_mapping_metric()"
   ]
  },
  {
   "cell_type": "code",
   "execution_count": null,
   "id": "d4251836",
   "metadata": {
    "ExecuteTime": {
     "end_time": "2022-06-23T03:59:09.053935Z",
     "start_time": "2022-06-23T03:59:08.758091Z"
    }
   },
   "outputs": [],
   "source": [
    "ens_annot = xr.open_zarr(\n",
    "    '/home/hanliu/project/cemba/study/Clustering/archive/MethylomeEnsembl/Summary/CEMBA.Methylome.Annotations.zarr/'\n",
    ")\n",
    "cluster_map = {i: c for i, c in enumerate(ens_annot.attrs['L1_cat'])}\n",
    "ens_annot['L1'] = ens_annot['L1'].to_pandas().map(cluster_map)\n",
    "cluster_map = {i: c for i, c in enumerate(ens_annot.attrs['L2_cat'])}\n",
    "ens_annot['L2'] = ens_annot['L2'].to_pandas().map(cluster_map)"
   ]
  },
  {
   "cell_type": "code",
   "execution_count": null,
   "id": "710fefc0",
   "metadata": {
    "ExecuteTime": {
     "end_time": "2022-06-23T03:59:09.188851Z",
     "start_time": "2022-06-23T03:59:09.055467Z"
    }
   },
   "outputs": [],
   "source": [
    "mc_annot['ens_l1']= ens_annot['L1'].to_pandas()"
   ]
  },
  {
   "cell_type": "code",
   "execution_count": null,
   "id": "7f7ae7f4",
   "metadata": {
    "ExecuteTime": {
     "end_time": "2022-06-23T03:59:12.234104Z",
     "start_time": "2022-06-23T03:59:09.190110Z"
    }
   },
   "outputs": [],
   "source": [
    "categorical_scatter(mc_annot,\n",
    "                    hue='ens_l1',\n",
    "                    text_anno='ens_l1',\n",
    "                    coord_base='l1_tsne',\n",
    "                    max_points=None)"
   ]
  },
  {
   "cell_type": "code",
   "execution_count": null,
   "id": "9786634c",
   "metadata": {
    "ExecuteTime": {
     "end_time": "2022-06-23T03:59:21.884453Z",
     "start_time": "2022-06-23T03:59:19.120366Z"
    }
   },
   "outputs": [],
   "source": [
    "categorical_scatter(mc_annot,\n",
    "                    hue='L1_annot',\n",
    "                    text_anno='L1_annot',\n",
    "                    coord_base='l1_tsne',\n",
    "                    max_points=None)"
   ]
  },
  {
   "cell_type": "code",
   "execution_count": null,
   "id": "df567732",
   "metadata": {
    "ExecuteTime": {
     "end_time": "2022-06-23T04:03:30.017530Z",
     "start_time": "2022-06-23T04:03:29.762269Z"
    }
   },
   "outputs": [],
   "source": [
    "non = {\n",
    "    'c2': 'ODC',\n",
    "    'c22': 'OPC',\n",
    "    'c18': 'MGC',\n",
    "    'c32': 'MGC',\n",
    "    'c7': 'ASC',\n",
    "    'c63': 'ASC',\n",
    "    'c10': 'CB',\n",
    "    'c53': 'CB',\n",
    "    'c8': 'DG',\n",
    "    'c36': 'CBX'\n",
    "}\n",
    "m3c_cluster = ens_annot.sel(cell=ens_annot.get_index('cell').isin(m3c_meta.index))['L1'].to_pandas()\n",
    "m3c_cluster = m3c_cluster.map(lambda i: non[i] if i in non else 'neuron')\n",
    "m3c_cluster.value_counts()"
   ]
  },
  {
   "cell_type": "code",
   "execution_count": null,
   "id": "15cd72a0",
   "metadata": {
    "ExecuteTime": {
     "end_time": "2022-06-23T04:03:45.051445Z",
     "start_time": "2022-06-23T04:03:44.917037Z"
    }
   },
   "outputs": [],
   "source": [
    "m3c_cluster.to_csv('CEMBA_3C.neuron_and_others.csv')"
   ]
  },
  {
   "cell_type": "code",
   "execution_count": null,
   "id": "02787f7c",
   "metadata": {},
   "outputs": [],
   "source": []
  },
  {
   "cell_type": "code",
   "execution_count": null,
   "id": "00478575",
   "metadata": {},
   "outputs": [],
   "source": []
  }
 ],
 "metadata": {
  "hide_input": false,
  "kernelspec": {
   "display_name": "Python 3 (ipykernel)",
   "language": "python",
   "name": "python3"
  },
  "language_info": {
   "codemirror_mode": {
    "name": "ipython",
    "version": 3
   },
   "file_extension": ".py",
   "mimetype": "text/x-python",
   "name": "python",
   "nbconvert_exporter": "python",
   "pygments_lexer": "ipython3",
   "version": "3.7.12"
  },
  "toc": {
   "base_numbering": 1,
   "nav_menu": {},
   "number_sections": true,
   "sideBar": true,
   "skip_h1_title": true,
   "title_cell": "Table of Contents",
   "title_sidebar": "Contents",
   "toc_cell": false,
   "toc_position": {},
   "toc_section_display": true,
   "toc_window_display": true
  }
 },
 "nbformat": 4,
 "nbformat_minor": 5
}
