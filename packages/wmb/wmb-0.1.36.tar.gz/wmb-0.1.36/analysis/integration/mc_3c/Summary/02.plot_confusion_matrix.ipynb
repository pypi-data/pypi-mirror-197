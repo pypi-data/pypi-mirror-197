{
 "cells": [
  {
   "cell_type": "code",
   "execution_count": null,
   "id": "77eb032c",
   "metadata": {
    "ExecuteTime": {
     "end_time": "2022-07-06T22:16:50.320939Z",
     "start_time": "2022-07-06T22:16:48.180622Z"
    }
   },
   "outputs": [],
   "source": [
    "import pandas as pd\n",
    "import seaborn as sns\n",
    "import matplotlib as mpl\n",
    "import matplotlib.pyplot as plt\n",
    "import numpy as np\n",
    "import pathlib\n",
    "\n",
    "from ALLCools.plot import *\n",
    "from wmb import *"
   ]
  },
  {
   "cell_type": "code",
   "execution_count": null,
   "id": "49e4e19d",
   "metadata": {
    "ExecuteTime": {
     "end_time": "2022-07-06T22:16:54.583373Z",
     "start_time": "2022-07-06T22:16:50.323775Z"
    }
   },
   "outputs": [],
   "source": [
    "mc_annot = cemba.get_mc_annot()\n",
    "m3c_annot = cemba.get_m3c_annot()"
   ]
  },
  {
   "cell_type": "code",
   "execution_count": null,
   "id": "cdd37af3",
   "metadata": {
    "ExecuteTime": {
     "end_time": "2022-07-06T22:16:54.614430Z",
     "start_time": "2022-07-06T22:16:54.588050Z"
    }
   },
   "outputs": [],
   "source": [
    "mc_l4_to_inte_group = pd.read_csv('mc_l4_to_integration_group.csv', index_col=0).squeeze()\n",
    "mc_l4_to_inte_l1 = mc_l4_to_inte_group.apply(lambda i: '_'.join(str(i).split('_')[:1]))\n",
    "mc_l4_to_inte_l2 = mc_l4_to_inte_group.apply(lambda i: '_'.join(str(i).split('_')[:2]))\n",
    "mc_l4_to_inte_l4 = mc_l4_to_inte_group.apply(lambda i: '_'.join(str(i).split('_')[:3]))\n",
    "\n",
    "m3c_l4_to_inte_group = pd.read_csv('m3c_l4_to_integration_group.csv', index_col=0).squeeze()\n",
    "m3c_l4_to_inte_l1 = m3c_l4_to_inte_group.apply(lambda i: '_'.join(str(i).split('_')[:1]))\n",
    "m3c_l4_to_inte_l2 = m3c_l4_to_inte_group.apply(lambda i: '_'.join(str(i).split('_')[:2]))\n",
    "m3c_l4_to_inte_l4 = m3c_l4_to_inte_group.apply(lambda i: '_'.join(str(i).split('_')[:3]))"
   ]
  },
  {
   "cell_type": "markdown",
   "id": "64f099ce",
   "metadata": {},
   "source": [
    "## Read Confusion Matrix\n",
    "\n",
    "- Load L1 to L4 confusion matrix\n",
    "- Turn all the confusion matrix into mC and m3c L4 resolution"
   ]
  },
  {
   "cell_type": "markdown",
   "id": "08125f55",
   "metadata": {},
   "source": [
    "### L1 Confusion Matrix"
   ]
  },
  {
   "cell_type": "code",
   "execution_count": null,
   "id": "f92bbb45",
   "metadata": {
    "ExecuteTime": {
     "end_time": "2022-07-06T22:16:54.870378Z",
     "start_time": "2022-07-06T22:16:54.616711Z"
    }
   },
   "outputs": [],
   "source": [
    "l1_confusion_matrix = pd.read_hdf(f'L1_confusion_matrx.L4_clusters.hdf') "
   ]
  },
  {
   "cell_type": "markdown",
   "id": "f343f5a5",
   "metadata": {},
   "source": [
    "## L2 Confuion Matrix"
   ]
  },
  {
   "cell_type": "code",
   "execution_count": null,
   "id": "68d778c0",
   "metadata": {
    "ExecuteTime": {
     "end_time": "2022-07-06T22:16:55.099251Z",
     "start_time": "2022-07-06T22:16:54.872917Z"
    }
   },
   "outputs": [],
   "source": [
    "l2_confusion_matrix = pd.read_hdf('L2_confusion_matrx.L4_clusters.hdf')"
   ]
  },
  {
   "cell_type": "markdown",
   "id": "e549ca57",
   "metadata": {},
   "source": [
    "## L4 Confusion Matrix\n",
    "- read all L4 overlap score matrix\n",
    "- replace value of l2_confusion_matrix with L4 values"
   ]
  },
  {
   "cell_type": "code",
   "execution_count": null,
   "id": "7e40da8f",
   "metadata": {
    "ExecuteTime": {
     "end_time": "2022-07-06T22:16:55.315724Z",
     "start_time": "2022-07-06T22:16:55.101898Z"
    }
   },
   "outputs": [],
   "source": [
    "l4_confusion_matrix = pd.read_hdf('L4_confusion_matrx.L4_clusters.hdf')"
   ]
  },
  {
   "cell_type": "markdown",
   "id": "27a73817",
   "metadata": {
    "tags": []
   },
   "source": [
    "## Plot Confusion matrix \n",
    "\n",
    "- Three confusion matrix showing the process from L1 to L4 integration"
   ]
  },
  {
   "cell_type": "code",
   "execution_count": null,
   "id": "ca32e07a",
   "metadata": {
    "ExecuteTime": {
     "end_time": "2022-07-06T22:16:55.321500Z",
     "start_time": "2022-07-06T22:16:55.318338Z"
    }
   },
   "outputs": [],
   "source": [
    "palette = 'magma_r'\n",
    "\n",
    "cmap = plt.get_cmap(palette).copy()\n",
    "norm = mpl.colors.Normalize(vmin=0, vmax=1)\n",
    "\n",
    "scalar_mappable = mpl.cm.ScalarMappable(norm=norm, cmap=cmap)"
   ]
  },
  {
   "cell_type": "code",
   "execution_count": null,
   "id": "ab9c0f4d",
   "metadata": {
    "ExecuteTime": {
     "end_time": "2022-07-06T22:16:55.628362Z",
     "start_time": "2022-07-06T22:16:55.323568Z"
    }
   },
   "outputs": [],
   "source": [
    "fig, ax = plt.subplots(figsize=(0.3, 2), dpi=300)\n",
    "fig.colorbar(scalar_mappable,\n",
    "             cax=ax, label='Overlap Score')"
   ]
  },
  {
   "cell_type": "markdown",
   "id": "29daa833",
   "metadata": {
    "tags": []
   },
   "source": [
    "### L1"
   ]
  },
  {
   "cell_type": "code",
   "execution_count": null,
   "id": "b8973bb0",
   "metadata": {
    "ExecuteTime": {
     "end_time": "2022-07-06T22:16:55.782346Z",
     "start_time": "2022-07-06T22:16:55.630631Z"
    }
   },
   "outputs": [],
   "source": [
    "mat = l1_confusion_matrix.loc[m3c_l4_to_inte_l1.sort_values().index, mc_l4_to_inte_l1.sort_values().index]"
   ]
  },
  {
   "cell_type": "code",
   "execution_count": null,
   "id": "dcde2ee9",
   "metadata": {
    "ExecuteTime": {
     "end_time": "2022-07-06T22:16:57.642500Z",
     "start_time": "2022-07-06T22:16:55.785183Z"
    }
   },
   "outputs": [],
   "source": [
    "# tidy data\n",
    "plot_data = mat.unstack().reset_index()\n",
    "plot_data.columns = ['mC', 'm3c', 'OS']\n",
    "plot_data = plot_data[plot_data['OS'] > 0].copy()\n",
    "\n",
    "y_map = {c: i for i, c in enumerate(mat.index)}\n",
    "plot_data['y'] = plot_data['m3c'].map(y_map)\n",
    "\n",
    "x_map = {c: i for i, c in enumerate(mat.columns)}\n",
    "plot_data['x'] = plot_data['mC'].map(x_map)"
   ]
  },
  {
   "cell_type": "code",
   "execution_count": null,
   "id": "e26a8b79",
   "metadata": {
    "ExecuteTime": {
     "end_time": "2022-07-06T22:16:58.634627Z",
     "start_time": "2022-07-06T22:16:57.645180Z"
    }
   },
   "outputs": [],
   "source": [
    "fig, ax = plt.subplots(figsize=(5, 5), dpi=300)\n",
    "sns.scatterplot(data=plot_data.sample(100000),\n",
    "                x='x',\n",
    "                y='y',\n",
    "                linewidth=0,\n",
    "                size='OS',\n",
    "                size_norm=(0, 1),\n",
    "                sizes=(0, 1),\n",
    "                hue='OS',\n",
    "                hue_norm=(0, 1),\n",
    "                palette=palette,\n",
    "                cmap=cmap,\n",
    "                legend=None)\n",
    "ax.set(xticks=[],\n",
    "       xlabel='mC Clusters',\n",
    "       yticks=[],\n",
    "       ylabel='m3c Clusters')\n",
    "\n",
    "ax.set_title(f'L1 Integration Overlap Scores\\n'\n",
    "             f'{m3c_l4_to_inte_l1.unique().size} Integration Groups',\n",
    "             fontsize=10)\n",
    "\n",
    "pass\n",
    "\n",
    "fig.savefig('L1_confusion_matrix.png')"
   ]
  },
  {
   "cell_type": "markdown",
   "id": "e6f1dba4",
   "metadata": {},
   "source": [
    "### L2"
   ]
  },
  {
   "cell_type": "code",
   "execution_count": null,
   "id": "a9450ab9-b8e9-4965-a6df-cf4ccaa95c26",
   "metadata": {},
   "outputs": [],
   "source": [
    "# add missing mC L4 cluster\n",
    "columns_to_add = set(l1_confusion_matrix.columns) ^ set(l2_confusion_matrix.columns)\n",
    "for i in columns_to_add:\n",
    "    l2_confusion_matrix[i] = l1_confusion_matrix[i]"
   ]
  },
  {
   "cell_type": "code",
   "execution_count": null,
   "id": "c95f36b2-6cd9-4387-9575-3dc958f8369c",
   "metadata": {},
   "outputs": [],
   "source": [
    "# add m3C cluster\n",
    "rows_to_add =  set(l1_confusion_matrix.index) ^ set(l2_confusion_matrix.index)\n",
    "for i in rows_to_add:\n",
    "    l2_confusion_matrix.loc[i] = l1_confusion_matrix.loc[i]"
   ]
  },
  {
   "cell_type": "code",
   "execution_count": null,
   "id": "626858c6",
   "metadata": {
    "ExecuteTime": {
     "end_time": "2022-07-06T22:16:58.803766Z",
     "start_time": "2022-07-06T22:16:58.643845Z"
    }
   },
   "outputs": [],
   "source": [
    "mat = l2_confusion_matrix.loc[m3c_l4_to_inte_l2.sort_values().index, mc_l4_to_inte_l2.sort_values().index]"
   ]
  },
  {
   "cell_type": "code",
   "execution_count": null,
   "id": "778fbe66",
   "metadata": {
    "ExecuteTime": {
     "end_time": "2022-07-06T22:17:00.270974Z",
     "start_time": "2022-07-06T22:16:58.806635Z"
    }
   },
   "outputs": [],
   "source": [
    "# tidy data\n",
    "plot_data = mat.unstack().reset_index()\n",
    "plot_data.columns = ['mC', 'm3c', 'OS']\n",
    "plot_data = plot_data[plot_data['OS'] > 0].copy()\n",
    "\n",
    "y_map = {c: i for i, c in enumerate(mat.index)}\n",
    "plot_data['y'] = plot_data['m3c'].map(y_map)\n",
    "\n",
    "x_map = {c: i for i, c in enumerate(mat.columns)}\n",
    "plot_data['x'] = plot_data['mC'].map(x_map)"
   ]
  },
  {
   "cell_type": "code",
   "execution_count": null,
   "id": "ce2799ae",
   "metadata": {
    "ExecuteTime": {
     "end_time": "2022-07-06T22:17:01.039053Z",
     "start_time": "2022-07-06T22:17:00.273411Z"
    }
   },
   "outputs": [],
   "source": [
    "fig, ax = plt.subplots(figsize=(5, 5), dpi=300)\n",
    "sns.scatterplot(data=plot_data,\n",
    "                x='x',\n",
    "                y='y',\n",
    "                linewidth=0,\n",
    "                size='OS',\n",
    "                size_norm=(0, 1),\n",
    "                sizes=(0, 1),\n",
    "                hue='OS',\n",
    "                hue_norm=(0, 1),\n",
    "                palette=palette,\n",
    "                cmap=cmap,\n",
    "                legend=None)\n",
    "ax.set(xticks=[],\n",
    "       xlabel='mC Clusters',\n",
    "       yticks=[],\n",
    "       ylabel='m3c Clusters')\n",
    "\n",
    "ax.set_title(f'L2 Integration Overlap Scores\\n'\n",
    "             f'{m3c_l4_to_inte_l2.unique().size} Integration Groups',\n",
    "             fontsize=10)\n",
    "\n",
    "pass\n",
    "fig.savefig('L2_confusion_matrix.png')"
   ]
  },
  {
   "cell_type": "markdown",
   "id": "997cf424",
   "metadata": {},
   "source": [
    "## L4"
   ]
  },
  {
   "cell_type": "code",
   "execution_count": null,
   "id": "68e58656-e78c-4f55-9f59-eb6711da7998",
   "metadata": {},
   "outputs": [],
   "source": [
    "# add missing mC L4 cluster\n",
    "columns_to_add = set(l1_confusion_matrix.columns) ^ set(l4_confusion_matrix.columns)\n",
    "for i in columns_to_add:\n",
    "    l4_confusion_matrix[i] = l1_confusion_matrix[i]"
   ]
  },
  {
   "cell_type": "code",
   "execution_count": null,
   "id": "99f9c9e8-d924-4ef5-a97a-ae1dba93548c",
   "metadata": {},
   "outputs": [],
   "source": [
    "# add m3C cluster\n",
    "rows_to_add =  set(l1_confusion_matrix.index) ^ set(l4_confusion_matrix.index)\n",
    "for i in rows_to_add:\n",
    "    l4_confusion_matrix.loc[i] = l1_confusion_matrix.loc[i]"
   ]
  },
  {
   "cell_type": "code",
   "execution_count": null,
   "id": "04d80cc0",
   "metadata": {
    "ExecuteTime": {
     "end_time": "2022-07-06T22:17:01.205662Z",
     "start_time": "2022-07-06T22:17:01.041475Z"
    }
   },
   "outputs": [],
   "source": [
    "mat = l4_confusion_matrix.loc[m3c_l4_to_inte_l4.sort_values().index, mc_l4_to_inte_l4.sort_values().index]"
   ]
  },
  {
   "cell_type": "code",
   "execution_count": null,
   "id": "78277292",
   "metadata": {
    "ExecuteTime": {
     "end_time": "2022-07-06T22:17:02.624219Z",
     "start_time": "2022-07-06T22:17:01.208336Z"
    }
   },
   "outputs": [],
   "source": [
    "# tidy data\n",
    "plot_data = mat.unstack().reset_index()\n",
    "plot_data.columns = ['mC', 'm3c', 'OS']\n",
    "plot_data = plot_data[plot_data['OS'] > 0].copy()\n",
    "\n",
    "y_map = {c: i for i, c in enumerate(mat.index)}\n",
    "plot_data['y'] = plot_data['m3c'].map(y_map)\n",
    "\n",
    "x_map = {c: i for i, c in enumerate(mat.columns)}\n",
    "plot_data['x'] = plot_data['mC'].map(x_map)"
   ]
  },
  {
   "cell_type": "code",
   "execution_count": null,
   "id": "cd9bb5d2",
   "metadata": {
    "ExecuteTime": {
     "end_time": "2022-07-06T22:17:03.413875Z",
     "start_time": "2022-07-06T22:17:02.626671Z"
    }
   },
   "outputs": [],
   "source": [
    "fig, ax = plt.subplots(figsize=(5, 5), dpi=300)\n",
    "sns.scatterplot(data=plot_data, #plot_data.sample(100000)\n",
    "                x='x',\n",
    "                y='y',\n",
    "                linewidth=0,\n",
    "                size='OS',\n",
    "                size_norm=(0, 1),\n",
    "                sizes=(0, 1),\n",
    "                hue='OS',\n",
    "                hue_norm=(0, 1),\n",
    "                palette=palette,\n",
    "                cmap=cmap,\n",
    "                legend=None)\n",
    "ax.set(xticks=[],\n",
    "       xlabel='mC Clusters',\n",
    "       yticks=[],\n",
    "       ylabel='m3c Clusters')\n",
    "\n",
    "ax.set_title(f'L4 Integration Overlap Scores\\n'\n",
    "             f'{m3c_l4_to_inte_l4.unique().size} Integration Groups',\n",
    "             fontsize=10)\n",
    "pass\n",
    "\n",
    "fig.savefig('L4_confusion_matrix.png')"
   ]
  },
  {
   "cell_type": "code",
   "execution_count": null,
   "id": "01ec9116",
   "metadata": {},
   "outputs": [],
   "source": []
  },
  {
   "cell_type": "code",
   "execution_count": null,
   "id": "817ceb16",
   "metadata": {},
   "outputs": [],
   "source": []
  },
  {
   "cell_type": "code",
   "execution_count": null,
   "id": "6401dc3c",
   "metadata": {},
   "outputs": [],
   "source": []
  },
  {
   "cell_type": "code",
   "execution_count": null,
   "id": "8d77ea4d",
   "metadata": {},
   "outputs": [],
   "source": []
  },
  {
   "cell_type": "code",
   "execution_count": null,
   "id": "813a05b8",
   "metadata": {},
   "outputs": [],
   "source": []
  },
  {
   "cell_type": "code",
   "execution_count": null,
   "id": "e5c2ceb3",
   "metadata": {},
   "outputs": [],
   "source": []
  },
  {
   "cell_type": "code",
   "execution_count": null,
   "id": "5ca4aa53",
   "metadata": {},
   "outputs": [],
   "source": []
  },
  {
   "cell_type": "code",
   "execution_count": null,
   "id": "24fda1ff",
   "metadata": {},
   "outputs": [],
   "source": []
  },
  {
   "cell_type": "code",
   "execution_count": null,
   "id": "fdd4ce4b",
   "metadata": {},
   "outputs": [],
   "source": []
  },
  {
   "cell_type": "code",
   "execution_count": null,
   "id": "4421d66b",
   "metadata": {},
   "outputs": [],
   "source": []
  }
 ],
 "metadata": {
  "hide_input": false,
  "kernelspec": {
   "display_name": "Python 3 (ipykernel)",
   "language": "python",
   "name": "python3"
  },
  "language_info": {
   "codemirror_mode": {
    "name": "ipython",
    "version": 3
   },
   "file_extension": ".py",
   "mimetype": "text/x-python",
   "name": "python",
   "nbconvert_exporter": "python",
   "pygments_lexer": "ipython3",
   "version": "3.7.12"
  },
  "toc": {
   "base_numbering": 1,
   "nav_menu": {},
   "number_sections": true,
   "sideBar": true,
   "skip_h1_title": true,
   "title_cell": "Table of Contents",
   "title_sidebar": "Contents",
   "toc_cell": false,
   "toc_position": {},
   "toc_section_display": true,
   "toc_window_display": true
  }
 },
 "nbformat": 4,
 "nbformat_minor": 5
}
