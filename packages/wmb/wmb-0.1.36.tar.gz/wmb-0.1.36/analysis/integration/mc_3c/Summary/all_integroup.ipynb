{
 "cells": [
  {
   "cell_type": "code",
   "execution_count": null,
   "id": "d179fabc-b67a-4787-af20-e93076540823",
   "metadata": {},
   "outputs": [],
   "source": [
    "from ALLCools.mcds import MCDS\n",
    "from ALLCools.plot import *\n",
    "from ALLCools.integration import confusion_matrix_clustering\n",
    "\n",
    "from wmb import cemba, aibs, broad, brain\n",
    "\n",
    "import pandas as pd\n",
    "import numpy as np\n",
    "import anndata\n",
    "import matplotlib.pyplot as plt\n",
    "import seaborn as sns\n",
    "import pathlib\n",
    "from matplotlib.backends.backend_pdf import PdfPages\n",
    "import matplotlib.pyplot as plt\n",
    "import wmb"
   ]
  },
  {
   "cell_type": "code",
   "execution_count": null,
   "id": "8f1f67e9-0c62-4269-94c9-96edbe0a89e7",
   "metadata": {},
   "outputs": [],
   "source": [
    "# # Parameters\n",
    "# dataset = \"AIBS_TENX\"\n",
    "\n",
    "# if dataset == 'AIBS_SMART':\n",
    "#     m3c_annot = aibs.get_smart_annot()\n",
    "# elif dataset == 'AIBS_TENX':\n",
    "#     m3c_annot = aibs.get_tenx_annot()\n",
    "# else:\n",
    "#     m3c_annot = broad.get_tenx_annot()"
   ]
  },
  {
   "cell_type": "code",
   "execution_count": null,
   "id": "bf669056-3d55-4af2-ae9d-b0f5cf4079bc",
   "metadata": {},
   "outputs": [],
   "source": [
    "mc_annot = cemba.get_mc_annot()\n",
    "m3c_annot = cemba.get_m3c_annot()\n"
   ]
  },
  {
   "cell_type": "code",
   "execution_count": null,
   "id": "bf0b21f5-27e4-4fed-b762-105dd347094d",
   "metadata": {},
   "outputs": [],
   "source": [
    "def get_pre_data(integroup, category_key):\n",
    "    #get adata\n",
    "    adata_merge = anndata.read_h5ad(f'../{category_key}/ALL/{integroup}/final_with_coords.h5ad')\n",
    "    m3c_adata = adata_merge[adata_merge.obs['Modality'] == 'm3C'].copy()\n",
    "    mc_adata = adata_merge[adata_merge.obs['Modality'] == 'mC'].copy()\n",
    "    \n",
    "    m3c_meta = adata_merge.obs[adata_merge.obs['Modality'] == 'm3C'].copy()\n",
    "    mc_meta = adata_merge.obs[adata_merge.obs['Modality'] == 'mC'].copy()\n",
    "    \n",
    "    #add L1 annot\n",
    "    mc_adata.obs['L1_annot'] = mc_annot['L1_annot'].to_pandas()\n",
    "    m3c_adata.obs['L1_annot'] = m3c_annot['L1'].to_pandas()\n",
    "    \n",
    "    #get integroup\n",
    "    m3c_integroup = pd.read_csv(f'../{category_key}/ALL/{integroup}/m3c_integration_group.csv.gz', index_col = 'cell').squeeze()\n",
    "    mc_integroup = pd.read_csv(f'../{category_key}/ALL/{integroup}/mc_integration_group.csv.gz', index_col = 'cell').squeeze()\n",
    "    \n",
    "    m3c_adata.obs[f'{category_key}_InteGroup'] = m3c_adata.obs.index.map(m3c_integroup)\n",
    "    m3c_adata.obs[f'{category_key}_InteGroup'].value_counts()\n",
    "    \n",
    "    mc_adata.obs[f'{category_key}_InteGroup'] = mc_adata.obs.index.map(mc_integroup)\n",
    "    mc_adata.obs[f'{category_key}_InteGroup'].value_counts()\n",
    "    \n",
    "    return m3c_adata, mc_adata\n",
    "    \n",
    "        "
   ]
  },
  {
   "cell_type": "code",
   "execution_count": null,
   "id": "d9e77ff4-c78d-4745-be21-b6dc9352c020",
   "metadata": {},
   "outputs": [],
   "source": [
    "wmb.brain.get_dissection_region_palette(region_type = 'CEMBA')"
   ]
  },
  {
   "cell_type": "code",
   "execution_count": null,
   "id": "c2ea3340-e214-4387-90d1-b525f383ee23",
   "metadata": {},
   "outputs": [],
   "source": []
  },
  {
   "cell_type": "code",
   "execution_count": null,
   "id": "4c4a1947-30d2-4a4f-982b-dffd7794bfba",
   "metadata": {},
   "outputs": [],
   "source": [
    "def plot_clustering(category_key):\n",
    "    \n",
    "    from ALLCools.plot.color import level_one_palette\n",
    "\n",
    "    inte_group_palette = level_one_palette(\n",
    "        pd.concat([m3c_adata.obs[f'{category_key}_InteGroup'], mc_adata.obs[f'{category_key}_InteGroup']]), \n",
    "        palette='tab20'\n",
    "    )\n",
    "    \n",
    "    fig, axes = plt.subplots(figsize=(10, 15), ncols=2, nrows=3, dpi=200)\n",
    "\n",
    "    ax = axes[0, 0]\n",
    "    categorical_scatter(ax=ax,\n",
    "                        data=m3c_adata,\n",
    "                        coord_base='tsne',\n",
    "                        hue=f'{category_key}_InteGroup',\n",
    "                        text_anno=f'{category_key}_InteGroup',\n",
    "                        palette=inte_group_palette,\n",
    "                        max_points=None)\n",
    "    ax.set(title='m3c Inte. Group')\n",
    "\n",
    "    ax = axes[0, 1]\n",
    "    categorical_scatter(ax=ax,\n",
    "                        data=mc_adata,\n",
    "                        coord_base='tsne',\n",
    "                        hue=f'{category_key}_InteGroup',\n",
    "                        text_anno=f'{category_key}_InteGroup',\n",
    "                        palette=inte_group_palette,\n",
    "                        max_points=None)\n",
    "    ax.set(title='mC Inte. Group')\n",
    "\n",
    "    ax = axes[1, 0]\n",
    "    categorical_scatter(ax=ax,\n",
    "                        data=m3c_adata,\n",
    "                        coord_base='tsne',\n",
    "                        palette='tab20',\n",
    "                        hue='L3',\n",
    "                        text_anno='L3',\n",
    "                        max_points=None)\n",
    "    ax.set(title=f'm3C L3')\n",
    "    ax.set(title=f'm3C L3')\n",
    "\n",
    "\n",
    "    ax = axes[1, 1]\n",
    "    categorical_scatter(ax=ax,\n",
    "                        data=mc_adata,\n",
    "                        coord_base='tsne',\n",
    "                        palette='tab20',\n",
    "                        hue='L3',\n",
    "                        text_anno='L3',\n",
    "                        max_points=None)\n",
    "    ax.set(title=f'mC L3')\n",
    "\n",
    "    ax = axes[2, 0]\n",
    "    categorical_scatter(ax=ax,\n",
    "                        data=m3c_adata,\n",
    "                        coord_base='tsne',\n",
    "                        hue='DissectionRegion',\n",
    "                        text_anno='DissectionRegion',\n",
    "                        palette='tab20',\n",
    "                        max_points=None)\n",
    "    ax.set(title='m3c DissectionRegionp')\n",
    "\n",
    "    ax = axes[2, 1]\n",
    "    categorical_scatter(ax=ax,\n",
    "                        data=mc_adata,\n",
    "                        coord_base='tsne',\n",
    "                        palette=wmb.brain.get_dissection_region_palette(region_type = 'CEMBA'),\n",
    "                        hue='DissectionRegion',\n",
    "                        text_anno='DissectionRegion',\n",
    "                        max_points=None)\n",
    "    ax.set(title=f'mC DissectionRegion')"
   ]
  },
  {
   "cell_type": "markdown",
   "id": "ed75b5b1-cd82-4d39-91c9-b7698e914336",
   "metadata": {},
   "source": [
    "# plot"
   ]
  },
  {
   "cell_type": "code",
   "execution_count": null,
   "id": "9dc12992-7ca4-4473-a808-168f8dcf599d",
   "metadata": {},
   "outputs": [],
   "source": [
    "# by changing the category_key, can see all clustering results at each level\n",
    "category_key = \"L4\""
   ]
  },
  {
   "cell_type": "code",
   "execution_count": null,
   "id": "5edaca03-b58a-4b7c-b57e-797c44e80085",
   "metadata": {
    "tags": []
   },
   "outputs": [],
   "source": [
    "integroups = []\n",
    "for i in pathlib.Path(f'../{category_key}/ALL').glob('InteGroup*'):\n",
    "    integroups.append(str(i).split('/')[-1])"
   ]
  },
  {
   "cell_type": "code",
   "execution_count": null,
   "id": "70b6b9fa-f495-4921-82eb-2537a1d1fae5",
   "metadata": {},
   "outputs": [],
   "source": [
    "with PdfPages(f'{category_key}_clusers.pdf') as pdf:\n",
    "    for integroup in integroups:\n",
    "        m3c_adata, mc_adata = get_pre_data(integroup, category_key)\n",
    "        plot_clustering(category_key)\n",
    "        pdf.savefig()  # saves the current figure into a pdf page\n",
    "        plt.close()"
   ]
  },
  {
   "cell_type": "code",
   "execution_count": null,
   "id": "07bf8b69-d0b6-4e24-ad50-0a684b352f4c",
   "metadata": {},
   "outputs": [],
   "source": []
  },
  {
   "cell_type": "code",
   "execution_count": null,
   "id": "a60c1c15-144f-49fb-aa61-2a6189c829a4",
   "metadata": {},
   "outputs": [],
   "source": []
  },
  {
   "cell_type": "code",
   "execution_count": null,
   "id": "306260e4-b7c1-4d15-bc50-156337c6fb0c",
   "metadata": {},
   "outputs": [],
   "source": []
  },
  {
   "cell_type": "code",
   "execution_count": null,
   "id": "1da7fdba-cefc-400a-925c-5e1a94f73335",
   "metadata": {},
   "outputs": [],
   "source": []
  },
  {
   "cell_type": "code",
   "execution_count": null,
   "id": "9660c487-d798-4c66-b803-d62bbea1edbf",
   "metadata": {},
   "outputs": [],
   "source": []
  }
 ],
 "metadata": {
  "kernelspec": {
   "display_name": "Python 3 (ipykernel)",
   "language": "python",
   "name": "python3"
  },
  "language_info": {
   "codemirror_mode": {
    "name": "ipython",
    "version": 3
   },
   "file_extension": ".py",
   "mimetype": "text/x-python",
   "name": "python",
   "nbconvert_exporter": "python",
   "pygments_lexer": "ipython3",
   "version": "3.7.12"
  }
 },
 "nbformat": 4,
 "nbformat_minor": 5
}
