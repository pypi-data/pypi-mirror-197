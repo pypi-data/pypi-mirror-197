{
 "cells": [
  {
   "cell_type": "code",
   "execution_count": null,
   "id": "1b082f0a",
   "metadata": {
    "ExecuteTime": {
     "end_time": "2022-06-28T05:27:23.131912Z",
     "start_time": "2022-06-28T05:27:16.702062Z"
    },
    "execution": {
     "iopub.execute_input": "2022-06-21T03:08:42.390899Z",
     "iopub.status.busy": "2022-06-21T03:08:42.390491Z",
     "iopub.status.idle": "2022-06-21T03:08:48.339875Z",
     "shell.execute_reply": "2022-06-21T03:08:48.340214Z"
    },
    "papermill": {
     "duration": 5.970719,
     "end_time": "2022-06-21T03:08:48.340424",
     "exception": false,
     "start_time": "2022-06-21T03:08:42.369705",
     "status": "completed"
    },
    "pycharm": {
     "name": "#%%\n"
    },
    "tags": []
   },
   "outputs": [],
   "source": [
    "from ALLCools.clustering import *\n",
    "from wmb import brain, cemba, aibs\n",
    "import numpy as np\n",
    "import pandas as pd\n",
    "import anndata\n",
    "\n",
    "import matplotlib.pyplot as plt\n",
    "from ALLCools.plot import *\n",
    "\n",
    "from ALLCools.integration.seurat_class import SeuratIntegration"
   ]
  },
  {
   "cell_type": "code",
   "execution_count": null,
   "id": "c85e97da",
   "metadata": {
    "ExecuteTime": {
     "end_time": "2022-06-28T05:27:52.394180Z",
     "start_time": "2022-06-28T05:27:52.391800Z"
    },
    "execution": {
     "iopub.execute_input": "2022-06-21T03:08:48.373824Z",
     "iopub.status.busy": "2022-06-21T03:08:48.373426Z",
     "iopub.status.idle": "2022-06-21T03:08:48.374914Z",
     "shell.execute_reply": "2022-06-21T03:08:48.375224Z"
    },
    "papermill": {
     "duration": 0.019789,
     "end_time": "2022-06-21T03:08:48.375326",
     "exception": false,
     "start_time": "2022-06-21T03:08:48.355537",
     "status": "completed"
    },
    "tags": [
     "parameters"
    ]
   },
   "outputs": [],
   "source": [
    "dataset = 'cemba_3c'\n",
    "categorical_key = ['L1_annot', 'L2', 'DissectionRegion']"
   ]
  },
  {
   "cell_type": "markdown",
   "id": "cb21fd77",
   "metadata": {
    "papermill": {
     "duration": 0.014539,
     "end_time": "2022-06-21T03:08:48.404432",
     "exception": false,
     "start_time": "2022-06-21T03:08:48.389893",
     "status": "completed"
    },
    "pycharm": {
     "name": "#%% md\n"
    },
    "tags": []
   },
   "source": [
    "## Input LSI before integration"
   ]
  },
  {
   "cell_type": "code",
   "execution_count": null,
   "id": "1a23191e",
   "metadata": {
    "ExecuteTime": {
     "end_time": "2022-06-28T05:27:23.252286Z",
     "start_time": "2022-06-28T05:27:23.179326Z"
    },
    "execution": {
     "iopub.execute_input": "2022-06-21T03:08:48.439011Z",
     "iopub.status.busy": "2022-06-21T03:08:48.438620Z",
     "iopub.status.idle": "2022-06-21T03:08:50.453418Z",
     "shell.execute_reply": "2022-06-21T03:08:50.453764Z"
    },
    "papermill": {
     "duration": 2.035149,
     "end_time": "2022-06-21T03:08:50.453890",
     "exception": false,
     "start_time": "2022-06-21T03:08:48.418741",
     "status": "completed"
    },
    "pycharm": {
     "name": "#%%\n"
    },
    "tags": []
   },
   "outputs": [],
   "source": [
    "mc_adata = anndata.read_h5ad('mc_pca.h5ad')\n",
    "m3c_adata = anndata.read_h5ad('m3c_pca.h5ad')"
   ]
  },
  {
   "cell_type": "code",
   "execution_count": null,
   "id": "e4824c10",
   "metadata": {
    "ExecuteTime": {
     "end_time": "2022-06-28T05:27:23.257929Z",
     "start_time": "2022-06-28T05:27:23.255022Z"
    },
    "execution": {
     "iopub.execute_input": "2022-06-21T03:08:50.487828Z",
     "iopub.status.busy": "2022-06-21T03:08:50.487440Z",
     "iopub.status.idle": "2022-06-21T03:08:50.488810Z",
     "shell.execute_reply": "2022-06-21T03:08:50.489113Z"
    },
    "papermill": {
     "duration": 0.019205,
     "end_time": "2022-06-21T03:08:50.489223",
     "exception": false,
     "start_time": "2022-06-21T03:08:50.470018",
     "status": "completed"
    },
    "pycharm": {
     "name": "#%%\n"
    },
    "tags": []
   },
   "outputs": [],
   "source": [
    "adata_list = [mc_adata, m3c_adata]"
   ]
  },
  {
   "cell_type": "markdown",
   "id": "f5323f5a",
   "metadata": {
    "papermill": {
     "duration": 0.014801,
     "end_time": "2022-06-21T03:08:50.520212",
     "exception": false,
     "start_time": "2022-06-21T03:08:50.505411",
     "status": "completed"
    },
    "pycharm": {
     "name": "#%% md\n"
    },
    "tags": []
   },
   "source": [
    "### Init empty adata_merge"
   ]
  },
  {
   "cell_type": "code",
   "execution_count": null,
   "id": "2932b576",
   "metadata": {
    "ExecuteTime": {
     "end_time": "2022-06-28T05:27:23.268424Z",
     "start_time": "2022-06-28T05:27:23.260637Z"
    },
    "execution": {
     "iopub.execute_input": "2022-06-21T03:08:50.556004Z",
     "iopub.status.busy": "2022-06-21T03:08:50.555572Z",
     "iopub.status.idle": "2022-06-21T03:08:50.604249Z",
     "shell.execute_reply": "2022-06-21T03:08:50.603845Z"
    },
    "papermill": {
     "duration": 0.069363,
     "end_time": "2022-06-21T03:08:50.604367",
     "exception": false,
     "start_time": "2022-06-21T03:08:50.535004",
     "status": "completed"
    },
    "pycharm": {
     "name": "#%%\n"
    },
    "tags": []
   },
   "outputs": [],
   "source": [
    "from scipy.sparse import csr_matrix\n",
    "\n",
    "cells = sum([a.shape[0] for a in adata_list])\n",
    "features = adata_list[0].shape[1]\n",
    "\n",
    "adata_merge = anndata.AnnData(X=csr_matrix(([], ([], [])),\n",
    "                                           shape=(cells, features), dtype='float32'),\n",
    "                              obs=pd.concat([a.obs for a in adata_list]),\n",
    "                              var=adata_list[0].var)"
   ]
  },
  {
   "cell_type": "code",
   "execution_count": null,
   "id": "6da6193a",
   "metadata": {
    "ExecuteTime": {
     "end_time": "2022-06-28T05:27:29.968912Z",
     "start_time": "2022-06-28T05:27:24.492453Z"
    },
    "execution": {
     "iopub.execute_input": "2022-06-21T03:08:50.639416Z",
     "iopub.status.busy": "2022-06-21T03:08:50.638980Z",
     "iopub.status.idle": "2022-06-21T03:08:51.854917Z",
     "shell.execute_reply": "2022-06-21T03:08:51.855303Z"
    },
    "papermill": {
     "duration": 1.235528,
     "end_time": "2022-06-21T03:08:51.855449",
     "exception": false,
     "start_time": "2022-06-21T03:08:50.619921",
     "status": "completed"
    },
    "tags": []
   },
   "outputs": [],
   "source": [
    "mc_annot = cemba.get_mc_annot()\n",
    "m3c_annot = cemba.get_m3c_annot()"
   ]
  },
  {
   "cell_type": "code",
   "execution_count": null,
   "id": "3f3d713e",
   "metadata": {
    "ExecuteTime": {
     "end_time": "2022-06-28T05:27:59.739607Z",
     "start_time": "2022-06-28T05:27:59.486677Z"
    },
    "execution": {
     "iopub.execute_input": "2022-06-21T03:08:51.889784Z",
     "iopub.status.busy": "2022-06-21T03:08:51.889383Z",
     "iopub.status.idle": "2022-06-21T03:08:55.103619Z",
     "shell.execute_reply": "2022-06-21T03:08:55.103960Z"
    },
    "papermill": {
     "duration": 3.233419,
     "end_time": "2022-06-21T03:08:55.104091",
     "exception": false,
     "start_time": "2022-06-21T03:08:51.870672",
     "status": "completed"
    },
    "pycharm": {
     "name": "#%%\n"
    },
    "tags": []
   },
   "outputs": [],
   "source": [
    "for key in categorical_key:\n",
    "    adata_merge.obs[key] = pd.concat(\n",
    "        [mc_annot[key].to_pandas(), \n",
    "         m3c_annot[key].to_pandas()]\n",
    "    )"
   ]
  },
  {
   "cell_type": "code",
   "execution_count": null,
   "id": "befc8a0e",
   "metadata": {
    "ExecuteTime": {
     "end_time": "2022-06-28T05:28:06.724633Z",
     "start_time": "2022-06-28T05:28:06.710263Z"
    },
    "execution": {
     "iopub.execute_input": "2022-06-21T03:08:55.148312Z",
     "iopub.status.busy": "2022-06-21T03:08:55.147909Z",
     "iopub.status.idle": "2022-06-21T03:08:55.188908Z",
     "shell.execute_reply": "2022-06-21T03:08:55.189274Z"
    },
    "papermill": {
     "duration": 0.070128,
     "end_time": "2022-06-21T03:08:55.189403",
     "exception": false,
     "start_time": "2022-06-21T03:08:55.119275",
     "status": "completed"
    },
    "pycharm": {
     "name": "#%%\n"
    },
    "tags": []
   },
   "outputs": [],
   "source": [
    "for adata in adata_list:\n",
    "    for key in categorical_key:\n",
    "        adata.obs[key] = adata_merge.obs[key]"
   ]
  },
  {
   "cell_type": "code",
   "execution_count": null,
   "id": "de7fa0fd",
   "metadata": {
    "ExecuteTime": {
     "end_time": "2022-06-28T05:28:09.586053Z",
     "start_time": "2022-06-28T05:28:09.580496Z"
    },
    "execution": {
     "iopub.execute_input": "2022-06-21T03:08:55.320520Z",
     "iopub.status.busy": "2022-06-21T03:08:55.320096Z",
     "iopub.status.idle": "2022-06-21T03:08:55.322351Z",
     "shell.execute_reply": "2022-06-21T03:08:55.322014Z"
    },
    "papermill": {
     "duration": 0.022706,
     "end_time": "2022-06-21T03:08:55.322438",
     "exception": false,
     "start_time": "2022-06-21T03:08:55.299732",
     "status": "completed"
    },
    "tags": []
   },
   "outputs": [],
   "source": [
    "adata_list"
   ]
  },
  {
   "cell_type": "code",
   "execution_count": null,
   "id": "552b67a0",
   "metadata": {
    "ExecuteTime": {
     "end_time": "2022-06-28T05:28:09.665254Z",
     "start_time": "2022-06-28T05:28:09.661762Z"
    },
    "execution": {
     "iopub.execute_input": "2022-06-21T03:08:55.355327Z",
     "iopub.status.busy": "2022-06-21T03:08:55.354944Z",
     "iopub.status.idle": "2022-06-21T03:08:55.356692Z",
     "shell.execute_reply": "2022-06-21T03:08:55.357013Z"
    },
    "papermill": {
     "duration": 0.019787,
     "end_time": "2022-06-21T03:08:55.357106",
     "exception": false,
     "start_time": "2022-06-21T03:08:55.337319",
     "status": "completed"
    },
    "tags": []
   },
   "outputs": [],
   "source": [
    "adata_merge"
   ]
  },
  {
   "cell_type": "markdown",
   "id": "fe3a3a9d",
   "metadata": {
    "papermill": {
     "duration": 0.015265,
     "end_time": "2022-06-21T03:08:55.387764",
     "exception": false,
     "start_time": "2022-06-21T03:08:55.372499",
     "status": "completed"
    },
    "pycharm": {
     "name": "#%% md\n"
    },
    "tags": []
   },
   "source": [
    "## Integration and transform LSI"
   ]
  },
  {
   "cell_type": "code",
   "execution_count": null,
   "id": "ebdcaeac",
   "metadata": {
    "ExecuteTime": {
     "end_time": "2022-06-28T05:28:15.464692Z",
     "start_time": "2022-06-28T05:28:15.462148Z"
    },
    "execution": {
     "iopub.execute_input": "2022-06-21T03:08:55.420453Z",
     "iopub.status.busy": "2022-06-21T03:08:55.420072Z",
     "iopub.status.idle": "2022-06-21T03:08:55.421347Z",
     "shell.execute_reply": "2022-06-21T03:08:55.421667Z"
    },
    "papermill": {
     "duration": 0.018998,
     "end_time": "2022-06-21T03:08:55.421757",
     "exception": false,
     "start_time": "2022-06-21T03:08:55.402759",
     "status": "completed"
    },
    "pycharm": {
     "name": "#%%\n"
    },
    "tags": []
   },
   "outputs": [],
   "source": [
    "integrator = SeuratIntegration()"
   ]
  },
  {
   "cell_type": "code",
   "execution_count": null,
   "id": "8a45a35b",
   "metadata": {
    "ExecuteTime": {
     "end_time": "2022-06-28T05:28:44.262268Z",
     "start_time": "2022-06-28T05:28:15.936358Z"
    },
    "execution": {
     "iopub.execute_input": "2022-06-21T03:08:55.457369Z",
     "iopub.status.busy": "2022-06-21T03:08:55.456966Z",
     "iopub.status.idle": "2022-06-21T04:09:19.724581Z",
     "shell.execute_reply": "2022-06-21T04:09:19.724204Z"
    },
    "papermill": {
     "duration": 3624.287665,
     "end_time": "2022-06-21T04:09:19.724699",
     "exception": false,
     "start_time": "2022-06-21T03:08:55.437034",
     "status": "completed"
    },
    "pycharm": {
     "name": "#%%\n"
    },
    "tags": []
   },
   "outputs": [],
   "source": [
    "anchor = integrator.find_anchor(adata_list,\n",
    "                                k_local=None,\n",
    "                                key_local='X_pca',\n",
    "                                k_anchor=5,\n",
    "                                key_anchor='X',\n",
    "                                dim_red='cca',\n",
    "                                max_cc_cells=100000,\n",
    "                                k_score=30,\n",
    "                                k_filter=None,\n",
    "                                scale1=False,\n",
    "                                scale2=False,\n",
    "                                n_components=50,\n",
    "                                n_features=200,\n",
    "                                alignments=[[[0], [1]]])"
   ]
  },
  {
   "cell_type": "code",
   "execution_count": null,
   "id": "9f56e4e0",
   "metadata": {
    "ExecuteTime": {
     "end_time": "2022-06-28T05:28:48.448695Z",
     "start_time": "2022-06-28T05:28:44.265575Z"
    },
    "execution": {
     "iopub.execute_input": "2022-06-21T04:09:19.790075Z",
     "iopub.status.busy": "2022-06-21T04:09:19.789682Z",
     "iopub.status.idle": "2022-06-21T04:10:26.643106Z",
     "shell.execute_reply": "2022-06-21T04:10:26.642694Z"
    },
    "papermill": {
     "duration": 66.878426,
     "end_time": "2022-06-21T04:10:26.643267",
     "exception": false,
     "start_time": "2022-06-21T04:09:19.764841",
     "status": "completed"
    },
    "pycharm": {
     "name": "#%%\n"
    },
    "tags": []
   },
   "outputs": [],
   "source": [
    "corrected = integrator.integrate(key_correct='X_pca',\n",
    "                                 row_normalize=True,\n",
    "                                 n_components=30,\n",
    "                                 k_weight=100,\n",
    "                                 sd=1,\n",
    "                                 alignments=[[[0], [1]]])\n",
    "\n",
    "adata_merge.obsm['X_pca_integrate'] = np.concatenate(corrected)"
   ]
  },
  {
   "cell_type": "markdown",
   "id": "1b0ab55c",
   "metadata": {
    "papermill": {
     "duration": 0.018272,
     "end_time": "2022-06-21T04:10:26.680658",
     "exception": false,
     "start_time": "2022-06-21T04:10:26.662386",
     "status": "completed"
    },
    "pycharm": {
     "name": "#%% md\n"
    },
    "tags": []
   },
   "source": [
    "## Label transfer"
   ]
  },
  {
   "cell_type": "code",
   "execution_count": null,
   "id": "7eb06547",
   "metadata": {
    "ExecuteTime": {
     "end_time": "2022-06-28T05:28:52.992219Z",
     "start_time": "2022-06-28T05:28:48.458532Z"
    },
    "execution": {
     "iopub.execute_input": "2022-06-21T04:10:26.724481Z",
     "iopub.status.busy": "2022-06-21T04:10:26.723962Z",
     "iopub.status.idle": "2022-06-21T04:12:55.801253Z",
     "shell.execute_reply": "2022-06-21T04:12:55.801663Z"
    },
    "papermill": {
     "duration": 149.102766,
     "end_time": "2022-06-21T04:12:55.801848",
     "exception": false,
     "start_time": "2022-06-21T04:10:26.699082",
     "status": "completed"
    },
    "pycharm": {
     "name": "#%%\n"
    },
    "tags": []
   },
   "outputs": [],
   "source": [
    "transfer_results = integrator.label_transfer(\n",
    "    ref=[0],\n",
    "    qry=[1],\n",
    "    categorical_key=categorical_key,\n",
    "    key_dist='X_pca'\n",
    ")"
   ]
  },
  {
   "cell_type": "code",
   "execution_count": null,
   "id": "057e7ae6",
   "metadata": {
    "ExecuteTime": {
     "end_time": "2022-06-28T05:28:57.567689Z",
     "start_time": "2022-06-28T05:28:57.177880Z"
    }
   },
   "outputs": [],
   "source": [
    "for k, v in transfer_results.items():\n",
    "    v.to_hdf(f'{k}_transfer.hdf', key='data')"
   ]
  },
  {
   "cell_type": "code",
   "execution_count": null,
   "id": "1c178304",
   "metadata": {
    "ExecuteTime": {
     "end_time": "2022-06-28T05:28:59.029264Z",
     "start_time": "2022-06-28T05:28:59.013033Z"
    },
    "execution": {
     "iopub.execute_input": "2022-06-21T04:12:55.848285Z",
     "iopub.status.busy": "2022-06-21T04:12:55.845990Z",
     "iopub.status.idle": "2022-06-21T04:12:56.542491Z",
     "shell.execute_reply": "2022-06-21T04:12:56.542872Z"
    },
    "papermill": {
     "duration": 0.719151,
     "end_time": "2022-06-21T04:12:56.543033",
     "exception": false,
     "start_time": "2022-06-21T04:12:55.823882",
     "status": "completed"
    },
    "pycharm": {
     "name": "#%%\n"
    },
    "tags": []
   },
   "outputs": [],
   "source": [
    "integrator.save_transfer_results_to_adata(adata_merge, transfer_results)"
   ]
  },
  {
   "cell_type": "markdown",
   "id": "504cb48a",
   "metadata": {
    "papermill": {
     "duration": 0.019475,
     "end_time": "2022-06-21T04:18:53.092364",
     "exception": false,
     "start_time": "2022-06-21T04:18:53.072889",
     "status": "completed"
    },
    "pycharm": {
     "name": "#%% md\n"
    },
    "tags": []
   },
   "source": [
    "## Save"
   ]
  },
  {
   "cell_type": "code",
   "execution_count": null,
   "id": "a8b610a7",
   "metadata": {
    "ExecuteTime": {
     "end_time": "2022-06-28T05:29:18.839970Z",
     "start_time": "2022-06-28T05:29:18.774501Z"
    },
    "execution": {
     "iopub.execute_input": "2022-06-21T04:18:53.141750Z",
     "iopub.status.busy": "2022-06-21T04:18:53.141334Z",
     "iopub.status.idle": "2022-06-21T04:18:58.251217Z",
     "shell.execute_reply": "2022-06-21T04:18:58.250751Z"
    },
    "papermill": {
     "duration": 5.13964,
     "end_time": "2022-06-21T04:18:58.251341",
     "exception": false,
     "start_time": "2022-06-21T04:18:53.111701",
     "status": "completed"
    },
    "pycharm": {
     "name": "#%%\n"
    },
    "tags": []
   },
   "outputs": [],
   "source": [
    "adata_merge.write_h5ad('final.h5ad')"
   ]
  },
  {
   "cell_type": "code",
   "execution_count": null,
   "id": "a66fa1e5",
   "metadata": {
    "ExecuteTime": {
     "end_time": "2022-06-28T05:29:19.872524Z",
     "start_time": "2022-06-28T05:29:19.868949Z"
    },
    "execution": {
     "iopub.execute_input": "2022-06-21T04:18:53.051042Z",
     "iopub.status.busy": "2022-06-21T04:18:53.050644Z",
     "iopub.status.idle": "2022-06-21T04:18:53.053255Z",
     "shell.execute_reply": "2022-06-21T04:18:53.052903Z"
    },
    "papermill": {
     "duration": 0.027517,
     "end_time": "2022-06-21T04:18:53.053350",
     "exception": false,
     "start_time": "2022-06-21T04:18:53.025833",
     "status": "completed"
    },
    "pycharm": {
     "name": "#%%\n"
    },
    "tags": []
   },
   "outputs": [],
   "source": [
    "adata_merge"
   ]
  },
  {
   "cell_type": "code",
   "execution_count": null,
   "id": "900cde6e",
   "metadata": {
    "ExecuteTime": {
     "end_time": "2022-06-28T05:29:26.439703Z",
     "start_time": "2022-06-28T05:29:26.310989Z"
    },
    "execution": {
     "iopub.execute_input": "2022-06-21T04:18:58.304914Z",
     "iopub.status.busy": "2022-06-21T04:18:58.304489Z",
     "iopub.status.idle": "2022-06-21T04:18:58.310742Z",
     "shell.execute_reply": "2022-06-21T04:18:58.310401Z"
    },
    "papermill": {
     "duration": 0.037473,
     "end_time": "2022-06-21T04:18:58.310857",
     "exception": false,
     "start_time": "2022-06-21T04:18:58.273384",
     "status": "completed"
    },
    "pycharm": {
     "name": "#%%\n"
    },
    "tags": []
   },
   "outputs": [],
   "source": [
    "integrator.save('integration')"
   ]
  },
  {
   "cell_type": "code",
   "execution_count": null,
   "id": "a6b82e5c",
   "metadata": {
    "papermill": {
     "duration": 0.094872,
     "end_time": "2022-06-21T04:19:05.689538",
     "exception": false,
     "start_time": "2022-06-21T04:19:05.594666",
     "status": "completed"
    },
    "pycharm": {
     "name": "#%%\n"
    },
    "tags": []
   },
   "outputs": [],
   "source": []
  },
  {
   "cell_type": "code",
   "execution_count": null,
   "id": "1db0538f",
   "metadata": {
    "papermill": {
     "duration": 0.086502,
     "end_time": "2022-06-21T04:19:05.863436",
     "exception": false,
     "start_time": "2022-06-21T04:19:05.776934",
     "status": "completed"
    },
    "pycharm": {
     "name": "#%%\n"
    },
    "tags": []
   },
   "outputs": [],
   "source": []
  },
  {
   "cell_type": "code",
   "execution_count": null,
   "id": "edcfb8b6",
   "metadata": {
    "papermill": {
     "duration": 0.086183,
     "end_time": "2022-06-21T04:19:06.040335",
     "exception": false,
     "start_time": "2022-06-21T04:19:05.954152",
     "status": "completed"
    },
    "pycharm": {
     "name": "#%%\n"
    },
    "tags": []
   },
   "outputs": [],
   "source": []
  }
 ],
 "metadata": {
  "celltoolbar": "Tags",
  "hide_input": false,
  "kernelspec": {
   "display_name": "Python 3 (ipykernel)",
   "language": "python",
   "name": "python3"
  },
  "language_info": {
   "codemirror_mode": {
    "name": "ipython",
    "version": 3
   },
   "file_extension": ".py",
   "mimetype": "text/x-python",
   "name": "python",
   "nbconvert_exporter": "python",
   "pygments_lexer": "ipython3",
   "version": "3.7.12"
  },
  "papermill": {
   "default_parameters": {},
   "duration": 4228.116722,
   "end_time": "2022-06-21T04:19:08.946267",
   "environment_variables": {},
   "exception": null,
   "input_path": "/home/hanliu/project/cemba/study/Integration/mC_AIBS_SMART_Gene/Template/04.integration.ipynb",
   "output_path": "Neuron/04.integration.ipynb",
   "parameters": {},
   "start_time": "2022-06-21T03:08:40.829545",
   "version": "2.3.3"
  },
  "toc": {
   "base_numbering": 1,
   "nav_menu": {},
   "number_sections": true,
   "sideBar": true,
   "skip_h1_title": true,
   "title_cell": "Table of Contents",
   "title_sidebar": "Contents",
   "toc_cell": false,
   "toc_position": {},
   "toc_section_display": true,
   "toc_window_display": true
  }
 },
 "nbformat": 4,
 "nbformat_minor": 5
}
