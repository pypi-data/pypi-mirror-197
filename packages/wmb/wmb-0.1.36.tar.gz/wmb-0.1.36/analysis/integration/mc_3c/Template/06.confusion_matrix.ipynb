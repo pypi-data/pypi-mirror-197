{
 "cells": [
  {
   "cell_type": "code",
   "execution_count": null,
   "id": "654919d4",
   "metadata": {
    "ExecuteTime": {
     "end_time": "2022-06-28T05:40:24.504909Z",
     "start_time": "2022-06-28T05:40:16.906274Z"
    }
   },
   "outputs": [],
   "source": [
    "from ALLCools.mcds import MCDS\n",
    "from ALLCools.plot import *\n",
    "from ALLCools.integration import calculate_overlap_score\n",
    "from wmb import cemba, aibs, brain\n",
    "\n",
    "import pathlib\n",
    "import pandas as pd\n",
    "import numpy as np\n",
    "import anndata\n",
    "import matplotlib.pyplot as plt\n",
    "import seaborn as sns\n",
    "import networkx as nx"
   ]
  },
  {
   "cell_type": "code",
   "execution_count": null,
   "id": "7f60d8ad",
   "metadata": {
    "ExecuteTime": {
     "end_time": "2022-06-28T05:40:24.515060Z",
     "start_time": "2022-06-28T05:40:24.512348Z"
    },
    "tags": [
     "parameters"
    ]
   },
   "outputs": [],
   "source": [
    "dataset = 'CEMBA_3C'\n",
    "ref_label = 'mC'\n",
    "query_label = 'm3C'\n",
    "categorical_key = ['L1_annot', 'L2', 'DissectionRegion']"
   ]
  },
  {
   "cell_type": "markdown",
   "id": "5f74fe0a",
   "metadata": {},
   "source": [
    "## Load"
   ]
  },
  {
   "cell_type": "code",
   "execution_count": null,
   "id": "3c4ea7ad",
   "metadata": {
    "ExecuteTime": {
     "end_time": "2022-06-28T05:40:32.006277Z",
     "start_time": "2022-06-28T05:40:25.480602Z"
    }
   },
   "outputs": [],
   "source": [
    "mc_annot = cemba.get_mc_annot()\n",
    "m3c_annot = cemba.get_m3c_annot()"
   ]
  },
  {
   "cell_type": "code",
   "execution_count": null,
   "id": "c87cb4ee",
   "metadata": {
    "ExecuteTime": {
     "end_time": "2022-06-28T05:40:32.082381Z",
     "start_time": "2022-06-28T05:40:32.010455Z"
    }
   },
   "outputs": [],
   "source": [
    "adata_merge = anndata.read_h5ad('final_with_coords.h5ad')"
   ]
  },
  {
   "cell_type": "code",
   "execution_count": null,
   "id": "2ebf11ae",
   "metadata": {
    "ExecuteTime": {
     "end_time": "2022-06-28T05:40:32.091091Z",
     "start_time": "2022-06-28T05:40:32.085097Z"
    }
   },
   "outputs": [],
   "source": [
    "adata_merge"
   ]
  },
  {
   "cell_type": "code",
   "execution_count": null,
   "id": "d100edd5",
   "metadata": {
    "ExecuteTime": {
     "end_time": "2022-06-28T05:40:32.114638Z",
     "start_time": "2022-06-28T05:40:32.094011Z"
    }
   },
   "outputs": [],
   "source": [
    "mc_adata = adata_merge[adata_merge.obs['Modality'] == ref_label].copy()\n",
    "m3c_adata = adata_merge[adata_merge.obs['Modality'] == query_label].copy()"
   ]
  },
  {
   "cell_type": "code",
   "execution_count": null,
   "id": "8632102d",
   "metadata": {
    "ExecuteTime": {
     "end_time": "2022-06-28T05:40:32.122334Z",
     "start_time": "2022-06-28T05:40:32.117383Z"
    }
   },
   "outputs": [],
   "source": [
    "mc_meta = adata_merge.obs[adata_merge.obs['Modality'] == ref_label].copy()\n",
    "m3c_meta = adata_merge.obs[adata_merge.obs['Modality'] == query_label].copy()"
   ]
  },
  {
   "cell_type": "markdown",
   "id": "ccd771d6",
   "metadata": {},
   "source": [
    "## Scatter"
   ]
  },
  {
   "cell_type": "code",
   "execution_count": null,
   "id": "095da065",
   "metadata": {
    "ExecuteTime": {
     "end_time": "2022-06-28T05:40:33.069287Z",
     "start_time": "2022-06-28T05:40:32.124921Z"
    }
   },
   "outputs": [],
   "source": [
    "fig, axes = plt.subplots(figsize=(8, 4 * len(categorical_key)),\n",
    "                         dpi=300,\n",
    "                         ncols=2,\n",
    "                         nrows=len(categorical_key))\n",
    "\n",
    "for ax_row, cat_key in zip(axes, categorical_key):\n",
    "    ax = ax_row[0]\n",
    "    if m3c_meta[cat_key].unique(\n",
    "    ).size > 30 or m3c_meta[f'{cat_key}_transfer'].unique().size > 30:\n",
    "        text_anno = False\n",
    "    else:\n",
    "        text_anno = True\n",
    "\n",
    "    categorical_scatter(ax=ax,\n",
    "                        data=m3c_adata,\n",
    "                        coord_base='tsne',\n",
    "                        palette='tab20',\n",
    "                        text_anno=m3c_meta[cat_key] if text_anno else None,\n",
    "                        hue=m3c_meta[cat_key],\n",
    "                        max_points=None)\n",
    "    ax.set(title=cat_key)\n",
    "\n",
    "    ax = ax_row[1]\n",
    "    categorical_scatter(\n",
    "        ax=ax,\n",
    "        data=m3c_adata,\n",
    "        coord_base='tsne',\n",
    "        palette='tab20',\n",
    "        text_anno=m3c_meta[f'{cat_key}_transfer'] if text_anno else None,\n",
    "        hue=m3c_meta[f'{cat_key}_transfer'],\n",
    "        max_points=None)\n",
    "    ax.set(title=f'{cat_key} Transfer')"
   ]
  },
  {
   "cell_type": "markdown",
   "id": "e292336d",
   "metadata": {},
   "source": [
    "## Confusion Matrix Based On Label Transfer"
   ]
  },
  {
   "cell_type": "code",
   "execution_count": null,
   "id": "0f66b63f",
   "metadata": {
    "ExecuteTime": {
     "end_time": "2022-06-28T05:40:35.353356Z",
     "start_time": "2022-06-28T05:40:33.073635Z"
    }
   },
   "outputs": [],
   "source": [
    "for cat_key in categorical_key:\n",
    "    label_transfer = pd.read_hdf(f'{cat_key}_transfer.hdf')\n",
    "    label_confusion = label_transfer.groupby(\n",
    "        m3c_annot[cat_key].to_pandas().astype(str)).mean()\n",
    "    label_confusion.to_hdf(f'{cat_key}.label_transfer.confusion.hdf', key='data')\n",
    "    if label_confusion.shape[1] == 1 or label_confusion.shape[0] == 1:pass\n",
    "    else:g = sns.clustermap(data=label_confusion, vmax=0.5)\n",
    "    "
   ]
  },
  {
   "cell_type": "markdown",
   "id": "3d87a0f6",
   "metadata": {},
   "source": [
    "## Confusion Matrix Based On Co-clustering Overlap Score"
   ]
  },
  {
   "cell_type": "code",
   "execution_count": null,
   "id": "fa42bccd",
   "metadata": {
    "ExecuteTime": {
     "end_time": "2022-06-28T05:40:41.835051Z",
     "start_time": "2022-06-28T05:40:41.828523Z"
    }
   },
   "outputs": [],
   "source": [
    "m3c_meta['cocluster'] = adata_merge.obs['leiden']\n",
    "mc_meta['cocluster'] = adata_merge.obs['leiden']"
   ]
  },
  {
   "cell_type": "code",
   "execution_count": null,
   "id": "1d1fedca",
   "metadata": {
    "ExecuteTime": {
     "end_time": "2022-06-28T05:40:48.640234Z",
     "start_time": "2022-06-28T05:40:44.162870Z"
    }
   },
   "outputs": [],
   "source": [
    "for cat_key in categorical_key:\n",
    "    os_mat = calculate_overlap_score(m3c_meta[[cat_key, 'leiden']],\n",
    "                                     mc_meta[[cat_key, 'leiden']])\n",
    "    os_mat.to_hdf(f'{cat_key}.overlap_score.hdf', key='data')\n",
    "    if os_mat.shape[1] == 1 or os_mat.shape[0] == 1:pass\n",
    "    else:g = sns.clustermap(data=os_mat, vmax=0.5)"
   ]
  },
  {
   "cell_type": "code",
   "execution_count": null,
   "id": "bab0ebd7",
   "metadata": {
    "ExecuteTime": {
     "end_time": "2022-06-28T05:40:48.850148Z",
     "start_time": "2022-06-28T05:40:48.644831Z"
    }
   },
   "outputs": [],
   "source": [
    "!touch finish"
   ]
  },
  {
   "cell_type": "code",
   "execution_count": null,
   "id": "5a4552ce",
   "metadata": {},
   "outputs": [],
   "source": []
  }
 ],
 "metadata": {
  "celltoolbar": "Tags",
  "hide_input": false,
  "kernelspec": {
   "display_name": "Python 3 (ipykernel)",
   "language": "python",
   "name": "python3"
  },
  "language_info": {
   "codemirror_mode": {
    "name": "ipython",
    "version": 3
   },
   "file_extension": ".py",
   "mimetype": "text/x-python",
   "name": "python",
   "nbconvert_exporter": "python",
   "pygments_lexer": "ipython3",
   "version": "3.7.12"
  },
  "toc": {
   "base_numbering": 1,
   "nav_menu": {},
   "number_sections": true,
   "sideBar": true,
   "skip_h1_title": true,
   "title_cell": "Table of Contents",
   "title_sidebar": "Contents",
   "toc_cell": false,
   "toc_position": {},
   "toc_section_display": true,
   "toc_window_display": true
  }
 },
 "nbformat": 4,
 "nbformat_minor": 5
}
