{
 "cells": [
  {
   "cell_type": "markdown",
   "id": "68434496",
   "metadata": {
    "papermill": {
     "duration": 0.011024,
     "end_time": "2022-06-20T23:08:33.560969",
     "exception": false,
     "start_time": "2022-06-20T23:08:33.549945",
     "status": "completed"
    },
    "pycharm": {
     "name": "#%% md\n"
    },
    "tags": []
   },
   "source": [
    "## Import"
   ]
  },
  {
   "cell_type": "code",
   "execution_count": null,
   "id": "4b3c1327",
   "metadata": {
    "ExecuteTime": {
     "end_time": "2022-06-28T05:14:21.575201Z",
     "start_time": "2022-06-28T05:14:13.816356Z"
    },
    "execution": {
     "iopub.execute_input": "2022-06-20T23:08:33.588357Z",
     "iopub.status.busy": "2022-06-20T23:08:33.587936Z",
     "iopub.status.idle": "2022-06-20T23:08:36.964643Z",
     "shell.execute_reply": "2022-06-20T23:08:36.964955Z"
    },
    "papermill": {
     "duration": 3.393328,
     "end_time": "2022-06-20T23:08:36.965154",
     "exception": false,
     "start_time": "2022-06-20T23:08:33.571826",
     "status": "completed"
    },
    "pycharm": {
     "name": "#%%\n"
    },
    "tags": []
   },
   "outputs": [],
   "source": [
    "from wmb import brain, cemba, mm10\n",
    "import seaborn as sns\n",
    "\n",
    "import dask\n",
    "\n",
    "from ALLCools.clustering import *\n",
    "from ALLCools.mcds import MCDS\n",
    "from ALLCools.plot import *\n",
    "\n",
    "import pandas as pd\n",
    "import matplotlib.pyplot as plt\n",
    "from ALLCools.clustering import cluster_enriched_features, log_scale"
   ]
  },
  {
   "cell_type": "code",
   "execution_count": null,
   "id": "ca8aa116",
   "metadata": {
    "ExecuteTime": {
     "end_time": "2022-06-28T05:14:21.580177Z",
     "start_time": "2022-06-28T05:14:21.577825Z"
    },
    "execution": {
     "iopub.execute_input": "2022-06-20T23:08:36.991533Z",
     "iopub.status.busy": "2022-06-20T23:08:36.991150Z",
     "iopub.status.idle": "2022-06-20T23:08:36.992644Z",
     "shell.execute_reply": "2022-06-20T23:08:36.992324Z"
    },
    "papermill": {
     "duration": 0.01588,
     "end_time": "2022-06-20T23:08:36.992726",
     "exception": false,
     "start_time": "2022-06-20T23:08:36.976846",
     "status": "completed"
    },
    "pycharm": {
     "name": "#%%\n"
    },
    "tags": [
     "parameters"
    ]
   },
   "outputs": [],
   "source": [
    "var_dim = 'chrom100k'\n",
    "cluster_col = 'L1'\n",
    "chrom_to_remove = ['chrX', 'chrY', 'chrM', 'chrL']\n",
    "downsample = 1000\n",
    "mc_type = 'CHN'"
   ]
  },
  {
   "cell_type": "markdown",
   "id": "e60ee638",
   "metadata": {
    "papermill": {
     "duration": 0.010957,
     "end_time": "2022-06-20T23:08:37.014633",
     "exception": false,
     "start_time": "2022-06-20T23:08:37.003676",
     "status": "completed"
    },
    "pycharm": {
     "name": "#%% md\n"
    },
    "tags": []
   },
   "source": [
    "## Select cells"
   ]
  },
  {
   "cell_type": "code",
   "execution_count": null,
   "id": "e5e3ec7f",
   "metadata": {
    "ExecuteTime": {
     "end_time": "2022-06-28T05:14:21.597414Z",
     "start_time": "2022-06-28T05:14:21.582001Z"
    },
    "execution": {
     "iopub.execute_input": "2022-06-20T23:08:37.039494Z",
     "iopub.status.busy": "2022-06-20T23:08:37.039117Z",
     "iopub.status.idle": "2022-06-20T23:08:37.098152Z",
     "shell.execute_reply": "2022-06-20T23:08:37.098487Z"
    },
    "papermill": {
     "duration": 0.072951,
     "end_time": "2022-06-20T23:08:37.098607",
     "exception": false,
     "start_time": "2022-06-20T23:08:37.025656",
     "status": "completed"
    },
    "pycharm": {
     "name": "#%%\n"
    },
    "tags": []
   },
   "outputs": [],
   "source": [
    "cells = pd.read_csv('m3c_cells.txt', index_col=0, header=None).index\n",
    "cells.name = 'cell'\n",
    "cells.size"
   ]
  },
  {
   "cell_type": "markdown",
   "id": "abc2eddd",
   "metadata": {
    "papermill": {
     "duration": 0.011321,
     "end_time": "2022-06-20T23:08:37.121735",
     "exception": false,
     "start_time": "2022-06-20T23:08:37.110414",
     "status": "completed"
    },
    "pycharm": {
     "name": "#%% md\n"
    },
    "tags": []
   },
   "source": [
    "## Get adata with CEF"
   ]
  },
  {
   "cell_type": "code",
   "execution_count": null,
   "id": "a6636dd5",
   "metadata": {
    "ExecuteTime": {
     "end_time": "2022-06-28T05:14:33.231661Z",
     "start_time": "2022-06-28T05:14:21.599601Z"
    },
    "execution": {
     "iopub.execute_input": "2022-06-20T23:08:37.149734Z",
     "iopub.status.busy": "2022-06-20T23:08:37.149320Z",
     "iopub.status.idle": "2022-06-20T23:08:37.790132Z",
     "shell.execute_reply": "2022-06-20T23:08:37.790489Z"
    },
    "papermill": {
     "duration": 0.657939,
     "end_time": "2022-06-20T23:08:37.790638",
     "exception": false,
     "start_time": "2022-06-20T23:08:37.132699",
     "status": "completed"
    },
    "pycharm": {
     "name": "#%%\n"
    },
    "tags": []
   },
   "outputs": [],
   "source": [
    "mcds = MCDS.open(cemba.CEMBA_SNM3C_MCDS_PATH, var_dim=var_dim, use_obs=cells)\n",
    "\n",
    "mcds"
   ]
  },
  {
   "cell_type": "code",
   "execution_count": null,
   "id": "88c6de77",
   "metadata": {
    "ExecuteTime": {
     "end_time": "2022-06-28T05:14:33.267451Z",
     "start_time": "2022-06-28T05:14:33.234405Z"
    }
   },
   "outputs": [],
   "source": [
    "cef = pd.read_csv('CEF.csv', header=None, index_col=0).squeeze()\n",
    "cef = cef[cef].index\n",
    "cef.name = var_dim"
   ]
  },
  {
   "cell_type": "code",
   "execution_count": null,
   "id": "e1740347",
   "metadata": {
    "ExecuteTime": {
     "end_time": "2022-06-28T05:25:04.221980Z",
     "start_time": "2022-06-28T05:14:33.269480Z"
    }
   },
   "outputs": [],
   "source": [
    "mcds.add_feature_selection_column(cef, f'{var_dim}_cef')\n",
    "#mcds.add_mc_frac()\n",
    "adata = mcds.get_adata(mc_type=mc_type,\n",
    "                       select_hvf=f'{var_dim}_cef',\n",
    "                       split_large_chunks=False)"
   ]
  },
  {
   "cell_type": "code",
   "execution_count": null,
   "id": "9fc25365",
   "metadata": {
    "ExecuteTime": {
     "end_time": "2022-06-28T05:25:04.229528Z",
     "start_time": "2022-06-28T05:25:04.225052Z"
    }
   },
   "outputs": [],
   "source": [
    "adata"
   ]
  },
  {
   "cell_type": "code",
   "execution_count": null,
   "id": "9acbf6eb",
   "metadata": {
    "ExecuteTime": {
     "end_time": "2022-06-28T05:25:04.351878Z",
     "start_time": "2022-06-28T05:25:04.231332Z"
    },
    "execution": {
     "iopub.execute_input": "2022-06-20T23:23:26.865440Z",
     "iopub.status.busy": "2022-06-20T23:23:26.865058Z",
     "iopub.status.idle": "2022-06-20T23:23:37.507593Z",
     "shell.execute_reply": "2022-06-20T23:23:37.507238Z"
    },
    "papermill": {
     "duration": 10.660079,
     "end_time": "2022-06-20T23:23:37.507694",
     "exception": false,
     "start_time": "2022-06-20T23:23:26.847615",
     "status": "completed"
    },
    "pycharm": {
     "name": "#%%\n"
    },
    "tags": []
   },
   "outputs": [],
   "source": [
    "# log mC fraction and scale features\n",
    "log_scale(adata, with_mean=True)"
   ]
  },
  {
   "cell_type": "code",
   "execution_count": null,
   "id": "504cabd3",
   "metadata": {
    "ExecuteTime": {
     "end_time": "2022-06-28T05:25:04.391817Z",
     "start_time": "2022-06-28T05:25:04.354127Z"
    },
    "execution": {
     "iopub.execute_input": "2022-06-20T23:23:37.547401Z",
     "iopub.status.busy": "2022-06-20T23:23:37.547003Z",
     "iopub.status.idle": "2022-06-20T23:23:38.827144Z",
     "shell.execute_reply": "2022-06-20T23:23:38.826849Z"
    },
    "papermill": {
     "duration": 1.304573,
     "end_time": "2022-06-20T23:23:38.827243",
     "exception": false,
     "start_time": "2022-06-20T23:23:37.522670",
     "status": "completed"
    },
    "tags": []
   },
   "outputs": [],
   "source": [
    "adata.write_h5ad('m3c_input.h5ad')"
   ]
  },
  {
   "cell_type": "code",
   "execution_count": null,
   "id": "d43003cc",
   "metadata": {
    "papermill": {
     "duration": 0.015284,
     "end_time": "2022-06-20T23:23:38.857644",
     "exception": false,
     "start_time": "2022-06-20T23:23:38.842360",
     "status": "completed"
    },
    "tags": []
   },
   "outputs": [],
   "source": []
  },
  {
   "cell_type": "code",
   "execution_count": null,
   "id": "64056988",
   "metadata": {
    "papermill": {
     "duration": 0.014821,
     "end_time": "2022-06-20T23:23:38.887341",
     "exception": false,
     "start_time": "2022-06-20T23:23:38.872520",
     "status": "completed"
    },
    "tags": []
   },
   "outputs": [],
   "source": []
  },
  {
   "cell_type": "code",
   "execution_count": null,
   "id": "25fe1295",
   "metadata": {
    "papermill": {
     "duration": 0.015892,
     "end_time": "2022-06-20T23:23:38.918714",
     "exception": false,
     "start_time": "2022-06-20T23:23:38.902822",
     "status": "completed"
    },
    "tags": []
   },
   "outputs": [],
   "source": []
  },
  {
   "cell_type": "code",
   "execution_count": null,
   "id": "cee0000b",
   "metadata": {
    "papermill": {
     "duration": 0.016126,
     "end_time": "2022-06-20T23:23:38.950603",
     "exception": false,
     "start_time": "2022-06-20T23:23:38.934477",
     "status": "completed"
    },
    "tags": []
   },
   "outputs": [],
   "source": []
  }
 ],
 "metadata": {
  "celltoolbar": "Tags",
  "hide_input": false,
  "kernelspec": {
   "display_name": "Python 3 (ipykernel)",
   "language": "python",
   "name": "python3"
  },
  "language_info": {
   "codemirror_mode": {
    "name": "ipython",
    "version": 3
   },
   "file_extension": ".py",
   "mimetype": "text/x-python",
   "name": "python",
   "nbconvert_exporter": "python",
   "pygments_lexer": "ipython3",
   "version": "3.7.12"
  },
  "papermill": {
   "default_parameters": {},
   "duration": 909.958491,
   "end_time": "2022-06-20T23:23:41.953330",
   "environment_variables": {},
   "exception": null,
   "input_path": "/home/hanliu/project/cemba/study/Integration/mC_AIBS_SMART_Gene/Template/01.prepare_mc.ipynb",
   "output_path": "Neuron/01.prepare_mc.ipynb",
   "parameters": {},
   "start_time": "2022-06-20T23:08:31.994839",
   "version": "2.3.3"
  },
  "toc": {
   "base_numbering": 1,
   "nav_menu": {},
   "number_sections": true,
   "sideBar": true,
   "skip_h1_title": true,
   "title_cell": "Table of Contents",
   "title_sidebar": "Contents",
   "toc_cell": false,
   "toc_position": {},
   "toc_section_display": true,
   "toc_window_display": true
  }
 },
 "nbformat": 4,
 "nbformat_minor": 5
}
