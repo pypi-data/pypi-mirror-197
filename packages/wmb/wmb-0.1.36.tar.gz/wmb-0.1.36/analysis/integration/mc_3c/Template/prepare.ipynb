{
 "cells": [
  {
   "cell_type": "code",
   "execution_count": null,
   "id": "81176507",
   "metadata": {
    "ExecuteTime": {
     "end_time": "2022-06-28T07:47:45.873382Z",
     "start_time": "2022-06-28T07:47:37.798101Z"
    }
   },
   "outputs": [],
   "source": [
    "import pandas as pd\n",
    "import numpy as np\n",
    "from wmb import *\n",
    "from ALLCools.plot import *\n",
    "\n",
    "import pathlib"
   ]
  },
  {
   "cell_type": "code",
   "execution_count": null,
   "id": "eefe7a4a",
   "metadata": {
    "ExecuteTime": {
     "end_time": "2022-06-28T07:47:52.773976Z",
     "start_time": "2022-06-28T07:47:47.627311Z"
    }
   },
   "outputs": [],
   "source": [
    "mc_annot = cemba.get_mc_annot()\n",
    "m3c_annot = cemba.get_m3c_annot()"
   ]
  },
  {
   "cell_type": "code",
   "execution_count": null,
   "id": "86dc160e",
   "metadata": {
    "ExecuteTime": {
     "end_time": "2022-06-28T07:47:53.821765Z",
     "start_time": "2022-06-28T07:47:53.818253Z"
    }
   },
   "outputs": [],
   "source": [
    "def save_index(cells, file_name, downsample=100000, random_state=0):\n",
    "    cells = pd.Series(cells)\n",
    "    if cells.size > downsample:\n",
    "        cells = cells.sample(downsample, random_state=random_state)\n",
    "    cells.to_csv(file_name, index=None, header=False)"
   ]
  },
  {
   "cell_type": "markdown",
   "id": "a601e944",
   "metadata": {
    "jp-MarkdownHeadingCollapsed": true,
    "tags": []
   },
   "source": [
    "## L1 - Neuron Non-Neuron"
   ]
  },
  {
   "cell_type": "code",
   "execution_count": null,
   "id": "f1b688fb",
   "metadata": {
    "ExecuteTime": {
     "end_time": "2022-06-28T07:47:55.396169Z",
     "start_time": "2022-06-28T07:47:54.875129Z"
    }
   },
   "outputs": [],
   "source": [
    "# pathlib.Path('../L1/ALL').mkdir(parents=True, exist_ok=True)\n",
    "# save_index(mc_annot.get_index('cell'),\n",
    "#            file_name='../L1/ALL/mc_cells.txt',\n",
    "#            downsample=3000000,\n",
    "#            random_state=0)\n",
    "# \n",
    "# save_index(m3c_annot.index,\n",
    "#            file_name='../L1/ALL/m3c_cells.txt',\n",
    "#            downsample=3000000,\n",
    "#            random_state=0)"
   ]
  },
  {
   "cell_type": "code",
   "execution_count": null,
   "id": "e9932eb3",
   "metadata": {
    "ExecuteTime": {
     "end_time": "2022-06-29T00:31:42.183072Z",
     "start_time": "2022-06-29T00:31:42.178185Z"
    }
   },
   "outputs": [],
   "source": [
    "# cwd = pathlib.Path().absolute()\n",
    "# \n",
    "# with open('Snakefile') as f, open('../L1/Snakefile', 'w') as out_f:\n",
    "#     snakefile_tmp = f.read()\n",
    "#     snakefile_tmp = snakefile_tmp.replace('REPLACE_TEMPLATE_DIR', str(cwd))\n",
    "#     snakefile_tmp = snakefile_tmp.replace('REPLACE_DATASET', 'CEMBA_3C')\n",
    "#     snakefile_tmp = snakefile_tmp.replace('REPLACE_CLUSTER_COL', str('L1'))\n",
    "#     snakefile_tmp = snakefile_tmp.replace('REPLACE_INTEGRATION_GROUP_KEY',\n",
    "#                                           str('L2'))\n",
    "#     snakefile_tmp = snakefile_tmp.replace('REPLACE_INTEGRATION_PLOT_KEY',\n",
    "#                                           str('L1'))\n",
    "#     snakefile_tmp = snakefile_tmp.replace(\n",
    "#         'REPLACE_CATEGORICAL_KEY', str(['L1_annot', 'L2', 'DissectionRegion']))\n",
    "#     out_f.write(snakefile_tmp)"
   ]
  },
  {
   "cell_type": "markdown",
   "id": "4d501e3f-9d6d-41c7-829e-4bf5416441b2",
   "metadata": {
    "tags": []
   },
   "source": [
    "## L2"
   ]
  },
  {
   "cell_type": "markdown",
   "id": "0e9cd70f-99ef-4e86-8a53-e971d9fa1ea1",
   "metadata": {},
   "source": [
    "#### ALL"
   ]
  },
  {
   "cell_type": "code",
   "execution_count": null,
   "id": "f630a659-13f7-4300-9504-64042d2bddfc",
   "metadata": {},
   "outputs": [],
   "source": [
    "mc_groups = pd.read_csv('../L1/ALL/mc_integration_group.csv.gz',\n",
    "                        index_col=0).squeeze()\n",
    "m3c_groups = pd.read_csv('../L1/ALL/m3c_integration_group.csv.gz',\n",
    "                         index_col=0).squeeze()"
   ]
  },
  {
   "cell_type": "code",
   "execution_count": null,
   "id": "f1e614c1-3ae6-4283-8dfe-e54181555248",
   "metadata": {},
   "outputs": [],
   "source": [
    "# note: L1 is run with 176147 cells, which accidentally contains some outliers, we updated the m3c_annot, the correct cell number should be 176003\n",
    "# reindex m3c integration groups here"
   ]
  },
  {
   "cell_type": "code",
   "execution_count": null,
   "id": "174cadb3-5898-4d04-a65b-9004c34ce039",
   "metadata": {},
   "outputs": [],
   "source": [
    "m3c_groups = m3c_groups.loc[m3c_annot.get_index('cell')].copy()"
   ]
  },
  {
   "cell_type": "code",
   "execution_count": null,
   "id": "f0e67488-a522-4374-b399-7bf1dc016ecd",
   "metadata": {},
   "outputs": [],
   "source": [
    "assert mc_groups.index.duplicated().sum() == 0\n",
    "assert mc_groups.index.size == mc_annot.get_index('cell').size\n",
    "assert mc_groups.isna().sum() == 0\n",
    "\n",
    "assert m3c_groups.index.duplicated().sum() == 0\n",
    "assert m3c_groups.index.size == m3c_annot.get_index('cell').size\n",
    "assert m3c_groups.isna().sum() == 0"
   ]
  },
  {
   "cell_type": "code",
   "execution_count": null,
   "id": "a8fb2fb7-7119-4700-ab49-b20d9cded78b",
   "metadata": {},
   "outputs": [],
   "source": [
    "m3c_groups[m3c_groups.isin([40, 39, 0])]"
   ]
  },
  {
   "cell_type": "code",
   "execution_count": null,
   "id": "1938efc0-fce2-4606-929e-36a56406c709",
   "metadata": {},
   "outputs": [],
   "source": [
    "for integration_group in m3c_groups.unique():\n",
    "    mc_cells = mc_groups[mc_groups  == integration_group].index\n",
    "    m3c_cells = m3c_groups[m3c_groups == integration_group].index\n",
    "\n",
    "    integration_group = f'InteGroup{integration_group}'\n",
    "    \n",
    "    if mc_cells.size <= 150 or m3c_cells.size <= 150:\n",
    "        print(integration_group)"
   ]
  },
  {
   "cell_type": "code",
   "execution_count": null,
   "id": "89a51315-95ed-4179-9f95-6af4fd1922a6",
   "metadata": {},
   "outputs": [],
   "source": [
    "# # for L2 ALL\n",
    "# for integration_group in m3c_groups.unique():\n",
    "#     mc_cells = mc_groups[mc_groups  == integration_group].index\n",
    "#     m3c_cells = m3c_groups[m3c_groups == integration_group].index\n",
    "# \n",
    "#     integration_group = f'InteGroup{integration_group}'\n",
    "#     \n",
    "#     \n",
    "#     if mc_cells.size <= 150 or m3c_cells.size <= 150:\n",
    "#         print(integration_group)\n",
    "#     else:\n",
    "#         out_dir = pathlib.Path(f'../L2/ALL/{integration_group}')\n",
    "#         out_dir.mkdir(exist_ok=True, parents=True)\n",
    "#         save_index(mc_cells,\n",
    "#                    f'../L2/ALL/{integration_group}/mc_cells.txt',\n",
    "#                    downsample=1000000,\n",
    "#                    random_state=0)\n",
    "#         save_index(m3c_cells,\n",
    "#                    f'../L2/ALL/{integration_group}/m3c_cells.txt',\n",
    "#                    downsample=1000000,\n",
    "#                    random_state=0)\n",
    "# \n",
    "#     \n",
    "# cwd = pathlib.Path().absolute()\n",
    "# with open('Snakefile') as f, open('../L2/ALL/Snakefile', 'w') as out_f:\n",
    "#     snakefile_tmp = f.read()\n",
    "#     snakefile_tmp = snakefile_tmp.replace('REPLACE_MC_TYPE', str('CHN'))\n",
    "#     snakefile_tmp = snakefile_tmp.replace('REPLACE_TEMPLATE_DIR', str(cwd))\n",
    "#     snakefile_tmp = snakefile_tmp.replace('REPLACE_DATASET', 'CEMBA_3C')\n",
    "#     snakefile_tmp = snakefile_tmp.replace('REPLACE_CLUSTER_COL', str('L2'))\n",
    "#     snakefile_tmp = snakefile_tmp.replace('REPLACE_INTEGRATION_GROUP_KEY',\n",
    "#                                           str('L3'))\n",
    "#     snakefile_tmp = snakefile_tmp.replace('REPLACE_INTEGRATION_PLOT_KEY',\n",
    "#                                           str('L2'))\n",
    "#     snakefile_tmp = snakefile_tmp.replace(\n",
    "#         'REPLACE_CATEGORICAL_KEY', str(['L2', 'L3', 'DissectionRegion']))\n",
    "#     out_f.write(snakefile_tmp)"
   ]
  },
  {
   "cell_type": "code",
   "execution_count": null,
   "id": "dd8f9f0d-01d2-47e3-a11c-9d5625315b84",
   "metadata": {},
   "outputs": [],
   "source": [
    "all_mc_cells = mc_annot.get_index('cell')\n",
    "all_m3c_cells = m3c_annot.get_index('cell')"
   ]
  },
  {
   "cell_type": "code",
   "execution_count": null,
   "id": "e5257187-bb71-4ffc-9da9-f8565bba0b13",
   "metadata": {},
   "outputs": [],
   "source": [
    "mc_cells = []\n",
    "m3c_cells = []\n",
    "for group_dir in pathlib.Path('../L2/ALL/').glob('InteGroup*'):\n",
    "    mc_groups = pd.read_csv(f'{group_dir}/mc_integration_group.csv.gz',\n",
    "                        index_col=0).squeeze()\n",
    "    mc_cells += mc_groups.index.to_list()\n",
    "    \n",
    "    m3c_groups = pd.read_csv(f'{group_dir}/m3c_integration_group.csv.gz',\n",
    "                        index_col=0).squeeze()\n",
    "    m3c_cells += m3c_groups.index.to_list()"
   ]
  },
  {
   "cell_type": "code",
   "execution_count": null,
   "id": "057ce97b-a505-438e-9c84-834bfd67dbaf",
   "metadata": {},
   "outputs": [],
   "source": [
    "l2_skipped_mc_cells = all_mc_cells[~all_mc_cells.isin(mc_cells)]\n",
    "\n",
    "with open('l2_integration_skipped_mc_cells.txt', 'w') as f:\n",
    "    f.write('\\n'.join(l2_skipped_mc_cells))"
   ]
  },
  {
   "cell_type": "code",
   "execution_count": null,
   "id": "82309204-b621-4152-ba10-cf0b7ebc522c",
   "metadata": {},
   "outputs": [],
   "source": [
    "l2_skipped_m3c_cells = all_m3c_cells[~all_m3c_cells.isin(m3c_cells)]\n",
    "\n",
    "with open('l2_integration_skipped_m3c_cells.txt', 'w') as f:\n",
    "    f.write('\\n'.join(l2_skipped_m3c_cells))"
   ]
  },
  {
   "cell_type": "code",
   "execution_count": null,
   "id": "4fde7986-b454-49d1-b69a-372e92d3fbf6",
   "metadata": {},
   "outputs": [],
   "source": [
    "l2_skipped_mc_cells.size"
   ]
  },
  {
   "cell_type": "code",
   "execution_count": null,
   "id": "f358286f-88ad-4b32-8841-134bc495b2ec",
   "metadata": {},
   "outputs": [],
   "source": [
    "l2_skipped_m3c_cells.size"
   ]
  },
  {
   "cell_type": "markdown",
   "id": "cc4cdfb5-e9dc-4358-bca8-ee7d8a4b65df",
   "metadata": {
    "tags": []
   },
   "source": [
    "### L4"
   ]
  },
  {
   "cell_type": "code",
   "execution_count": null,
   "id": "e9ce7177-3c35-45af-9142-008c0d95b61a",
   "metadata": {},
   "outputs": [],
   "source": [
    "skipped_mc_cells = []\n",
    "skipped_m3c_cells = []\n",
    "\n",
    "for group_dir in pathlib.Path('../L2/ALL/').glob('InteGroup*'):\n",
    "    mc_groups = pd.read_csv(f'{group_dir}/mc_integration_group.csv.gz',\n",
    "                        index_col=0).squeeze()\n",
    "    m3c_groups = pd.read_csv(f'{group_dir}/m3c_integration_group.csv.gz',\n",
    "                         index_col=0).squeeze()\n",
    "    \n",
    "    all_groups = pd.concat([mc_groups, m3c_groups]).unique()\n",
    "    \n",
    "    for integration_group in all_groups:\n",
    "        mc_cells = mc_groups[mc_groups == integration_group].index\n",
    "        m3c_cells = m3c_groups[m3c_groups == integration_group].index\n",
    "        integration_group = f'{group_dir.name}_{integration_group}'\n",
    "        \n",
    "        skip = False\n",
    "        if mc_cells.size <= 150 or m3c_cells.size <= 150:\n",
    "            print(integration_group, 'skipped due to small cell number')\n",
    "            skip = True\n",
    "        \n",
    "        n_mc_l4 = mc_annot.sel(cell=mc_cells)['L4'].to_pandas().unique().size\n",
    "        n_m3c_l4 = m3c_annot.sel(cell=m3c_cells)['L4'].to_pandas().unique().size\n",
    "        if n_mc_l4 < 2 or n_m3c_l4 < 2:\n",
    "            print(integration_group, 'skipped due to single L4 cluster')\n",
    "            skip = True\n",
    "        \n",
    "        if skip:\n",
    "            skipped_mc_cells += mc_cells.tolist()\n",
    "            skipped_m3c_cells += m3c_cells.tolist()\n",
    "            continue\n",
    "        \n",
    "        out_dir = pathlib.Path(f'../L4/ALL/{integration_group}')\n",
    "        out_dir.mkdir(exist_ok=True, parents=True)\n",
    "\n",
    "        save_index(mc_cells,\n",
    "                   f'../L4/ALL/{integration_group}/mc_cells.txt',\n",
    "                   downsample=1000000,\n",
    "                   random_state=0)\n",
    "        save_index(m3c_cells,\n",
    "                   f'../L4/ALL/{integration_group}/m3c_cells.txt',\n",
    "                   downsample=1000000,\n",
    "                   random_state=0)"
   ]
  },
  {
   "cell_type": "code",
   "execution_count": null,
   "id": "2323261c-01e6-4660-a99c-e0e71d58b2da",
   "metadata": {},
   "outputs": [],
   "source": [
    "cwd = pathlib.Path().absolute()\n",
    "with open('Snakefile') as f, open('../L4/ALL/Snakefile', 'w') as out_f:\n",
    "    snakefile_tmp = f.read()\n",
    "    snakefile_tmp = snakefile_tmp.replace('REPLACE_MC_TYPE', str('CHN'))\n",
    "    snakefile_tmp = snakefile_tmp.replace('REPLACE_TEMPLATE_DIR', str(cwd))\n",
    "    snakefile_tmp = snakefile_tmp.replace('REPLACE_DATASET', 'CEMBA_3C')\n",
    "    snakefile_tmp = snakefile_tmp.replace('REPLACE_CLUSTER_COL', str('L3'))\n",
    "    snakefile_tmp = snakefile_tmp.replace('REPLACE_INTEGRATION_GROUP_KEY',\n",
    "                                          str('L4'))\n",
    "    snakefile_tmp = snakefile_tmp.replace('REPLACE_INTEGRATION_PLOT_KEY',\n",
    "                                          str('L4'))\n",
    "    snakefile_tmp = snakefile_tmp.replace(\n",
    "        'REPLACE_CATEGORICAL_KEY', str(['L3', 'L4', 'DissectionRegion']))\n",
    "    out_f.write(snakefile_tmp)"
   ]
  },
  {
   "cell_type": "markdown",
   "id": "2e99aa89-2de5-44ee-bde0-5121223f38f8",
   "metadata": {},
   "source": [
    "### Check L4 cells correctness"
   ]
  },
  {
   "cell_type": "code",
   "execution_count": null,
   "id": "b410072d-f9d9-4bfa-a367-b13517ff8574",
   "metadata": {},
   "outputs": [],
   "source": [
    "l4_dir = pathlib.Path('/home/qz/project/cemba/study/integration/mC_CEMBA_3C_Chrom100k/L4/ALL/')\n",
    "\n",
    "# check to make sure L4 integroup is mutually exclusive\n",
    "total_mc_cells = []\n",
    "for p in l4_dir.glob('InteGroup*/mc_cells.txt'):\n",
    "    cells = pd.read_csv(p, header=None, index_col=0).index.tolist()\n",
    "    total_mc_cells += cells\n",
    "assert pd.Series(total_mc_cells).duplicated().sum() == 0\n",
    "\n",
    "total_m3c_cells = []\n",
    "for p in l4_dir.glob('InteGroup*/m3c_cells.txt'):\n",
    "    cells = pd.read_csv(p, header=None, index_col=0).index.tolist()\n",
    "    total_m3c_cells += cells\n",
    "assert pd.Series(total_m3c_cells).duplicated().sum() == 0"
   ]
  },
  {
   "cell_type": "code",
   "execution_count": null,
   "id": "559c0162-1a8a-4b58-b911-22f5ae0e504f",
   "metadata": {},
   "outputs": [],
   "source": [
    "# skipped cells are not in any L4 integration groups\n",
    "assert pd.Series(skipped_mc_cells).isin(total_mc_cells).sum() == 0\n",
    "assert pd.Series(skipped_m3c_cells).isin(total_m3c_cells).sum() == 0"
   ]
  },
  {
   "cell_type": "code",
   "execution_count": null,
   "id": "a5808126-26a1-44f8-bdb1-48eb0a3e0d38",
   "metadata": {},
   "outputs": [],
   "source": [
    "# L4 inte group cells and skipped cells together equal to all cells in the annot\n",
    "cur_cells = pd.Index(skipped_mc_cells + total_mc_cells + l2_skipped_mc_cells.tolist())\n",
    "all_mc_cells = mc_annot.get_index('cell')\n",
    "assert cur_cells.isin(all_mc_cells).sum() == cur_cells.size\n",
    "assert all_mc_cells.isin(cur_cells).sum() == all_mc_cells.size\n",
    "\n",
    "cur_cells = pd.Index(skipped_m3c_cells + total_m3c_cells + l2_skipped_m3c_cells.tolist())\n",
    "all_m3c_cells = m3c_annot.get_index('cell')\n",
    "assert cur_cells.isin(all_m3c_cells).sum() == cur_cells.size\n",
    "assert all_m3c_cells.isin(cur_cells).sum() == all_m3c_cells.size"
   ]
  },
  {
   "cell_type": "code",
   "execution_count": null,
   "id": "e5e127b8-6b27-42bd-93d9-edb942a74772",
   "metadata": {},
   "outputs": [],
   "source": []
  },
  {
   "cell_type": "code",
   "execution_count": null,
   "id": "7578de32-bba8-4803-a7b6-82a012cd0f10",
   "metadata": {},
   "outputs": [],
   "source": []
  },
  {
   "cell_type": "code",
   "execution_count": null,
   "id": "cc531df4-ab03-47f8-af2c-b07bf9dfa5ae",
   "metadata": {},
   "outputs": [],
   "source": []
  },
  {
   "cell_type": "code",
   "execution_count": null,
   "id": "8b984336-c5e3-4add-b657-1fba519b6b7a",
   "metadata": {},
   "outputs": [],
   "source": []
  },
  {
   "cell_type": "code",
   "execution_count": null,
   "id": "44f129f2-654b-4906-a206-fe02a2bbf4e6",
   "metadata": {},
   "outputs": [],
   "source": []
  },
  {
   "cell_type": "code",
   "execution_count": null,
   "id": "6c833f5d-8f24-41c1-8606-4dc5aba99be4",
   "metadata": {},
   "outputs": [],
   "source": []
  },
  {
   "cell_type": "code",
   "execution_count": null,
   "id": "89340f9e-f628-492c-8f35-a278779f6d1e",
   "metadata": {},
   "outputs": [],
   "source": []
  },
  {
   "cell_type": "code",
   "execution_count": null,
   "id": "8b89257c-8e0a-44e7-a1a1-f9d69ee1d7e4",
   "metadata": {},
   "outputs": [],
   "source": []
  },
  {
   "cell_type": "code",
   "execution_count": null,
   "id": "8c3c456d-98bd-4314-a9ba-5a55d207eb3b",
   "metadata": {},
   "outputs": [],
   "source": []
  }
 ],
 "metadata": {
  "hide_input": false,
  "kernelspec": {
   "display_name": "Python 3 (ipykernel)",
   "language": "python",
   "name": "python3"
  },
  "language_info": {
   "codemirror_mode": {
    "name": "ipython",
    "version": 3
   },
   "file_extension": ".py",
   "mimetype": "text/x-python",
   "name": "python",
   "nbconvert_exporter": "python",
   "pygments_lexer": "ipython3",
   "version": "3.7.12"
  },
  "toc": {
   "base_numbering": 1,
   "nav_menu": {},
   "number_sections": true,
   "sideBar": true,
   "skip_h1_title": true,
   "title_cell": "Table of Contents",
   "title_sidebar": "Contents",
   "toc_cell": false,
   "toc_position": {},
   "toc_section_display": true,
   "toc_window_display": true
  }
 },
 "nbformat": 4,
 "nbformat_minor": 5
}
