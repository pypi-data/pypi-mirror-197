{
 "cells": [
  {
   "cell_type": "code",
   "execution_count": null,
   "id": "41436b0c",
   "metadata": {
    "ExecuteTime": {
     "end_time": "2022-06-28T05:36:56.421127Z",
     "start_time": "2022-06-28T05:36:50.358577Z"
    }
   },
   "outputs": [],
   "source": [
    "import matplotlib.pyplot as plt\n",
    "\n",
    "from ALLCools.clustering import tsne\n",
    "from ALLCools.plot import *\n",
    "from ALLCools.integration import SeuratIntegration\n",
    "from wmb import brain\n",
    "\n",
    "import scanpy as sc\n",
    "import anndata\n",
    "from harmonypy import run_harmony"
   ]
  },
  {
   "cell_type": "markdown",
   "id": "928af19c",
   "metadata": {},
   "source": [
    "## Parameters"
   ]
  },
  {
   "cell_type": "code",
   "execution_count": null,
   "id": "ae403992",
   "metadata": {
    "ExecuteTime": {
     "end_time": "2022-06-28T05:36:56.427340Z",
     "start_time": "2022-06-28T05:36:56.424519Z"
    },
    "tags": [
     "parameters"
    ]
   },
   "outputs": [],
   "source": [
    "dataset = 'CEMBA_3C'\n",
    "ref_label = 'mC'\n",
    "query_label = 'm3C'"
   ]
  },
  {
   "cell_type": "code",
   "execution_count": null,
   "id": "8b799446",
   "metadata": {
    "ExecuteTime": {
     "end_time": "2022-06-28T05:36:56.547337Z",
     "start_time": "2022-06-28T05:36:56.429554Z"
    }
   },
   "outputs": [],
   "source": [
    "ref_region_type = 'CEMBA'\n",
    "query_region_type = dataset"
   ]
  },
  {
   "cell_type": "markdown",
   "id": "cdc26c09",
   "metadata": {},
   "source": [
    "## Load"
   ]
  },
  {
   "cell_type": "code",
   "execution_count": null,
   "id": "4e36bcc4",
   "metadata": {
    "ExecuteTime": {
     "end_time": "2022-06-28T05:36:56.591966Z",
     "start_time": "2022-06-28T05:36:56.549405Z"
    }
   },
   "outputs": [],
   "source": [
    "adata_merge = anndata.read_h5ad('final.h5ad')\n",
    "adata_merge"
   ]
  },
  {
   "cell_type": "markdown",
   "id": "34271d84",
   "metadata": {},
   "source": [
    "## Harmony for embedding"
   ]
  },
  {
   "cell_type": "code",
   "execution_count": null,
   "id": "63f4adde",
   "metadata": {
    "ExecuteTime": {
     "end_time": "2022-06-28T05:36:58.098101Z",
     "start_time": "2022-06-28T05:36:56.594011Z"
    }
   },
   "outputs": [],
   "source": [
    "ho = run_harmony(data_mat=adata_merge.obsm['X_pca_integrate'],\n",
    "                 meta_data=adata_merge.obs,\n",
    "                 nclust=50,\n",
    "                 vars_use=['Modality'], \n",
    "                 max_iter_harmony=30)"
   ]
  },
  {
   "cell_type": "code",
   "execution_count": null,
   "id": "0974e48d",
   "metadata": {
    "ExecuteTime": {
     "end_time": "2022-06-28T05:36:58.106253Z",
     "start_time": "2022-06-28T05:36:58.103388Z"
    }
   },
   "outputs": [],
   "source": [
    "adata_merge.obsm['X_harmony'] = ho.Z_corr.T"
   ]
  },
  {
   "cell_type": "markdown",
   "id": "775dfad2",
   "metadata": {},
   "source": [
    "### TSNE"
   ]
  },
  {
   "cell_type": "code",
   "execution_count": null,
   "id": "548cabe9",
   "metadata": {
    "ExecuteTime": {
     "end_time": "2022-06-28T05:37:59.758812Z",
     "start_time": "2022-06-28T05:36:58.108455Z"
    }
   },
   "outputs": [],
   "source": [
    "tsne(adata_merge, obsm='X_harmony')"
   ]
  },
  {
   "cell_type": "markdown",
   "id": "de6b71a1",
   "metadata": {},
   "source": [
    "### UMAP"
   ]
  },
  {
   "cell_type": "code",
   "execution_count": null,
   "id": "cd4cff16",
   "metadata": {
    "ExecuteTime": {
     "end_time": "2022-06-28T05:38:02.482848Z",
     "start_time": "2022-06-28T05:37:59.765579Z"
    }
   },
   "outputs": [],
   "source": [
    "adata_merge.obsm['X_pca'] = adata_merge.obsm['X_harmony']\n",
    "\n",
    "sc.pp.neighbors(adata_merge)"
   ]
  },
  {
   "cell_type": "code",
   "execution_count": null,
   "id": "85852dc0",
   "metadata": {
    "ExecuteTime": {
     "end_time": "2022-06-28T05:38:08.146824Z",
     "start_time": "2022-06-28T05:38:02.485547Z"
    }
   },
   "outputs": [],
   "source": [
    "min_dist = max(0.1, 1 - adata_merge.shape[0] / 60000)\n",
    "sc.tl.umap(adata_merge, min_dist=min_dist)\n",
    "del adata_merge.obsm['X_pca']"
   ]
  },
  {
   "cell_type": "markdown",
   "id": "c8c80044",
   "metadata": {},
   "source": [
    "### Clustering"
   ]
  },
  {
   "cell_type": "code",
   "execution_count": null,
   "id": "bfafd46c",
   "metadata": {
    "ExecuteTime": {
     "end_time": "2022-06-28T05:38:08.348008Z",
     "start_time": "2022-06-28T05:38:08.151396Z"
    }
   },
   "outputs": [],
   "source": [
    "sc.tl.leiden(adata_merge, resolution=0.3)"
   ]
  },
  {
   "cell_type": "markdown",
   "id": "01deb143",
   "metadata": {},
   "source": [
    "## Plot"
   ]
  },
  {
   "cell_type": "code",
   "execution_count": null,
   "id": "a2b6feaa",
   "metadata": {
    "ExecuteTime": {
     "end_time": "2022-06-28T05:38:08.361271Z",
     "start_time": "2022-06-28T05:38:08.350691Z"
    }
   },
   "outputs": [],
   "source": [
    "def plot(coord_base):\n",
    "    fig, axes = plt.subplots(nrows=2,\n",
    "                             ncols=3,\n",
    "                             figsize=(12, 8),\n",
    "                             dpi=300,\n",
    "                             constrained_layout=True)\n",
    "\n",
    "    mc_data = adata_merge[adata_merge.obs['Modality'] == ref_label]\n",
    "    rna_data = adata_merge[adata_merge.obs['Modality'] == query_label]\n",
    "\n",
    "    ax = axes[0, 0]\n",
    "    categorical_scatter(data=rna_data,\n",
    "                        coord_base=coord_base,\n",
    "                        max_points=None,\n",
    "                        hue=None,\n",
    "                        scatter_kws=dict(color='lightgrey'),\n",
    "                        ax=ax)\n",
    "    categorical_scatter(\n",
    "        data=mc_data,\n",
    "        ax=ax,\n",
    "        coord_base=coord_base,\n",
    "        hue='leiden',\n",
    "        text_anno='leiden',\n",
    "        palette='tab20',\n",
    "        max_points=None,\n",
    "    )\n",
    "\n",
    "    ax = axes[0, 1]\n",
    "    categorical_scatter(data=rna_data,\n",
    "                        coord_base=coord_base,\n",
    "                        max_points=None,\n",
    "                        hue=None,\n",
    "                        scatter_kws=dict(color='lightgrey'),\n",
    "                        ax=ax)\n",
    "    categorical_scatter(\n",
    "        data=mc_data,\n",
    "        ax=ax,\n",
    "        coord_base=coord_base,\n",
    "        hue='L2',\n",
    "        # text_anno='L2',\n",
    "        palette='tab20',\n",
    "        max_points=None,\n",
    "    )\n",
    "\n",
    "    ax = axes[0, 2]\n",
    "    categorical_scatter(data=rna_data,\n",
    "                        coord_base=coord_base,\n",
    "                        max_points=None,\n",
    "                        hue=None,\n",
    "                        scatter_kws=dict(color='lightgrey'),\n",
    "                        ax=ax)\n",
    "    region_palette_1 = brain.get_dissection_region_palette(ref_region_type)\n",
    "    categorical_scatter(\n",
    "        data=mc_data,\n",
    "        ax=ax,\n",
    "        coord_base=coord_base,\n",
    "        hue='DissectionRegion',\n",
    "        palette=region_palette_1,\n",
    "    )\n",
    "\n",
    "    ax = axes[1, 0]\n",
    "    categorical_scatter(data=mc_data,\n",
    "                        coord_base=coord_base,\n",
    "                        max_points=None,\n",
    "                        hue=None,\n",
    "                        scatter_kws=dict(color='lightgrey'),\n",
    "                        ax=ax)\n",
    "    categorical_scatter(\n",
    "        data=rna_data,\n",
    "        ax=ax,\n",
    "        coord_base=coord_base,\n",
    "        hue='leiden',\n",
    "        text_anno='leiden',\n",
    "        palette='tab20',\n",
    "        max_points=None,\n",
    "    )\n",
    "\n",
    "    ax = axes[1, 1]\n",
    "    categorical_scatter(data=mc_data,\n",
    "                        coord_base=coord_base,\n",
    "                        max_points=None,\n",
    "                        hue=None,\n",
    "                        scatter_kws=dict(color='lightgrey'),\n",
    "                        ax=ax)\n",
    "    categorical_scatter(\n",
    "        data=rna_data,\n",
    "        ax=ax,\n",
    "        coord_base=coord_base,\n",
    "        hue='L2_transfer',\n",
    "        # text_anno='L2_transfer',\n",
    "        palette='tab20',\n",
    "        max_points=None,\n",
    "    )\n",
    "\n",
    "    ax = axes[1, 2]\n",
    "    categorical_scatter(data=mc_data,\n",
    "                        coord_base=coord_base,\n",
    "                        max_points=None,\n",
    "                        hue=None,\n",
    "                        scatter_kws=dict(color='lightgrey'),\n",
    "                        ax=ax)\n",
    "    region_palette_2 = brain.get_dissection_region_palette(query_region_type)\n",
    "    categorical_scatter(\n",
    "        data=rna_data,\n",
    "        ax=ax,\n",
    "        coord_base=coord_base,\n",
    "        hue='DissectionRegion',\n",
    "        palette=region_palette_2,\n",
    "    )\n",
    "\n",
    "    for i, xx in enumerate([\n",
    "            'Ref Co-cluster', 'Ref CellType', 'Ref Region',\n",
    "            'Query Co-cluster', 'Query CellType Transfer', 'Query Region'\n",
    "    ]):\n",
    "        axes.flatten()[i].set_title(xx, fontsize=15)\n",
    "    return"
   ]
  },
  {
   "cell_type": "code",
   "execution_count": null,
   "id": "a8004f84",
   "metadata": {
    "ExecuteTime": {
     "end_time": "2022-06-28T05:38:09.740804Z",
     "start_time": "2022-06-28T05:38:08.363588Z"
    }
   },
   "outputs": [],
   "source": [
    "#plot('umap')"
   ]
  },
  {
   "cell_type": "code",
   "execution_count": null,
   "id": "d8b4b23a",
   "metadata": {
    "ExecuteTime": {
     "end_time": "2022-06-28T05:38:10.905162Z",
     "start_time": "2022-06-28T05:38:09.744588Z"
    }
   },
   "outputs": [],
   "source": [
    "#plot('tsne')"
   ]
  },
  {
   "cell_type": "markdown",
   "id": "abd6b74f",
   "metadata": {},
   "source": [
    "## Save"
   ]
  },
  {
   "cell_type": "code",
   "execution_count": null,
   "id": "74db24cf",
   "metadata": {
    "ExecuteTime": {
     "end_time": "2022-06-28T05:38:10.984598Z",
     "start_time": "2022-06-28T05:38:10.907820Z"
    }
   },
   "outputs": [],
   "source": [
    "adata_merge.write_h5ad('final_with_coords.h5ad')"
   ]
  },
  {
   "cell_type": "code",
   "execution_count": null,
   "id": "cf75bd52",
   "metadata": {
    "ExecuteTime": {
     "end_time": "2022-06-28T05:38:10.991150Z",
     "start_time": "2022-06-28T05:38:10.987281Z"
    }
   },
   "outputs": [],
   "source": [
    "adata_merge"
   ]
  },
  {
   "cell_type": "code",
   "execution_count": null,
   "id": "2fdf4e07",
   "metadata": {
    "ExecuteTime": {
     "end_time": "2022-06-28T05:38:10.996738Z",
     "start_time": "2022-06-28T05:38:10.993325Z"
    }
   },
   "outputs": [],
   "source": [
    "adata_merge"
   ]
  },
  {
   "cell_type": "code",
   "execution_count": null,
   "id": "9ea3399c",
   "metadata": {},
   "outputs": [],
   "source": []
  },
  {
   "cell_type": "code",
   "execution_count": null,
   "id": "9b8f0b42",
   "metadata": {},
   "outputs": [],
   "source": []
  },
  {
   "cell_type": "code",
   "execution_count": null,
   "id": "2e365023",
   "metadata": {},
   "outputs": [],
   "source": []
  }
 ],
 "metadata": {
  "celltoolbar": "Tags",
  "hide_input": false,
  "kernelspec": {
   "display_name": "Python 3 (ipykernel)",
   "language": "python",
   "name": "python3"
  },
  "language_info": {
   "codemirror_mode": {
    "name": "ipython",
    "version": 3
   },
   "file_extension": ".py",
   "mimetype": "text/x-python",
   "name": "python",
   "nbconvert_exporter": "python",
   "pygments_lexer": "ipython3",
   "version": "3.7.12"
  },
  "toc": {
   "base_numbering": 1,
   "nav_menu": {},
   "number_sections": true,
   "sideBar": true,
   "skip_h1_title": true,
   "title_cell": "Table of Contents",
   "title_sidebar": "Contents",
   "toc_cell": false,
   "toc_position": {},
   "toc_section_display": true,
   "toc_window_display": true
  }
 },
 "nbformat": 4,
 "nbformat_minor": 5
}
