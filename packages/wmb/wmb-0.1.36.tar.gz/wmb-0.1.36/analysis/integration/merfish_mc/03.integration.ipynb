{
 "cells": [
  {
   "cell_type": "code",
   "execution_count": null,
   "id": "1b082f0a",
   "metadata": {
    "ExecuteTime": {
     "end_time": "2022-06-28T03:45:54.589891Z",
     "start_time": "2022-06-28T03:45:47.264494Z"
    },
    "papermill": {
     "duration": 6.043634,
     "end_time": "2022-06-21T06:14:59.881329",
     "exception": false,
     "start_time": "2022-06-21T06:14:53.837695",
     "status": "completed"
    },
    "pycharm": {
     "name": "#%%\n"
    },
    "tags": []
   },
   "outputs": [],
   "source": [
    "from ALLCools.clustering import *\n",
    "from wmb import brain, cemba, aibs\n",
    "import numpy as np\n",
    "import pandas as pd\n",
    "import anndata\n",
    "\n",
    "import matplotlib.pyplot as plt\n",
    "from ALLCools.plot import *\n",
    "\n",
    "from ALLCools.integration.seurat_class import SeuratIntegration"
   ]
  },
  {
   "cell_type": "code",
   "execution_count": null,
   "id": "c85e97da",
   "metadata": {
    "ExecuteTime": {
     "end_time": "2022-06-28T03:45:54.607018Z",
     "start_time": "2022-06-28T03:45:54.605043Z"
    },
    "papermill": {
     "duration": 0.020772,
     "end_time": "2022-06-21T06:14:59.917770",
     "exception": false,
     "start_time": "2022-06-21T06:14:59.896998",
     "status": "completed"
    },
    "tags": [
     "parameters"
    ]
   },
   "outputs": [],
   "source": [
    "categorical_key = ['L1_annot', 'DissectionRegion']"
   ]
  },
  {
   "cell_type": "markdown",
   "id": "cb21fd77",
   "metadata": {
    "papermill": {
     "duration": 0.014926,
     "end_time": "2022-06-21T06:14:59.947672",
     "exception": false,
     "start_time": "2022-06-21T06:14:59.932746",
     "status": "completed"
    },
    "pycharm": {
     "name": "#%% md\n"
    },
    "tags": []
   },
   "source": [
    "## Input LSI before integration"
   ]
  },
  {
   "cell_type": "code",
   "execution_count": null,
   "id": "1a23191e",
   "metadata": {
    "ExecuteTime": {
     "end_time": "2022-06-28T03:45:55.726143Z",
     "start_time": "2022-06-28T03:45:55.444985Z"
    },
    "papermill": {
     "duration": 4.377696,
     "end_time": "2022-06-21T06:15:04.341633",
     "exception": false,
     "start_time": "2022-06-21T06:14:59.963937",
     "status": "completed"
    },
    "pycharm": {
     "name": "#%%\n"
    },
    "tags": []
   },
   "outputs": [],
   "source": [
    "ref_adata = anndata.read_h5ad('./adata/mc_pca.h5ad')\n",
    "query_adata = anndata.read_h5ad('./adata/merfish_pca.h5ad')"
   ]
  },
  {
   "cell_type": "code",
   "execution_count": null,
   "id": "e4824c10",
   "metadata": {
    "ExecuteTime": {
     "end_time": "2022-06-28T03:45:55.944589Z",
     "start_time": "2022-06-28T03:45:55.941371Z"
    },
    "papermill": {
     "duration": 0.021338,
     "end_time": "2022-06-21T06:15:04.378957",
     "exception": false,
     "start_time": "2022-06-21T06:15:04.357619",
     "status": "completed"
    },
    "pycharm": {
     "name": "#%%\n"
    },
    "tags": []
   },
   "outputs": [],
   "source": [
    "adata_list = [ref_adata, query_adata]"
   ]
  },
  {
   "cell_type": "markdown",
   "id": "f5323f5a",
   "metadata": {
    "papermill": {
     "duration": 0.015015,
     "end_time": "2022-06-21T06:15:04.409291",
     "exception": false,
     "start_time": "2022-06-21T06:15:04.394276",
     "status": "completed"
    },
    "pycharm": {
     "name": "#%% md\n"
    },
    "tags": []
   },
   "source": [
    "### Init empty adata_merge"
   ]
  },
  {
   "cell_type": "code",
   "execution_count": null,
   "id": "2932b576",
   "metadata": {
    "ExecuteTime": {
     "end_time": "2022-06-28T03:45:56.464228Z",
     "start_time": "2022-06-28T03:45:56.456509Z"
    },
    "papermill": {
     "duration": 0.121227,
     "end_time": "2022-06-21T06:15:04.545828",
     "exception": false,
     "start_time": "2022-06-21T06:15:04.424601",
     "status": "completed"
    },
    "pycharm": {
     "name": "#%%\n"
    },
    "tags": []
   },
   "outputs": [],
   "source": [
    "from scipy.sparse import csr_matrix\n",
    "\n",
    "cells = sum([a.shape[0] for a in adata_list])\n",
    "features = adata_list[0].shape[1]\n",
    "\n",
    "adata_merge = anndata.AnnData(X=csr_matrix(([], ([], [])),\n",
    "                                           shape=(cells, features)),\n",
    "                              obs=pd.concat([a.obs for a in adata_list]),\n",
    "                              var=adata_list[0].var)"
   ]
  },
  {
   "cell_type": "code",
   "execution_count": null,
   "id": "3f3d713e",
   "metadata": {
    "ExecuteTime": {
     "end_time": "2022-06-28T03:46:38.469718Z",
     "start_time": "2022-06-28T03:46:38.092222Z"
    },
    "papermill": {
     "duration": 3.431996,
     "end_time": "2022-06-21T06:15:09.349222",
     "exception": false,
     "start_time": "2022-06-21T06:15:05.917226",
     "status": "completed"
    },
    "pycharm": {
     "name": "#%%\n"
    },
    "tags": []
   },
   "outputs": [],
   "source": [
    "mc_annot = cemba.get_mc_annot()\n",
    "\n",
    "for key in categorical_key:\n",
    "    adata_merge.obs[key] =mc_annot[key].to_pandas()\n",
    "    "
   ]
  },
  {
   "cell_type": "code",
   "execution_count": null,
   "id": "befc8a0e",
   "metadata": {
    "ExecuteTime": {
     "end_time": "2022-06-28T03:46:38.481580Z",
     "start_time": "2022-06-28T03:46:38.471930Z"
    },
    "papermill": {
     "duration": 0.156752,
     "end_time": "2022-06-21T06:15:09.522444",
     "exception": false,
     "start_time": "2022-06-21T06:15:09.365692",
     "status": "completed"
    },
    "pycharm": {
     "name": "#%%\n"
    },
    "tags": []
   },
   "outputs": [],
   "source": [
    "for adata in adata_list:\n",
    "    for key in categorical_key:\n",
    "        adata.obs[key] = adata_merge.obs[key]"
   ]
  },
  {
   "cell_type": "code",
   "execution_count": null,
   "id": "de7fa0fd",
   "metadata": {
    "ExecuteTime": {
     "end_time": "2022-06-28T03:46:40.487914Z",
     "start_time": "2022-06-28T03:46:40.482217Z"
    },
    "papermill": {
     "duration": 0.023114,
     "end_time": "2022-06-21T06:15:09.728600",
     "exception": false,
     "start_time": "2022-06-21T06:15:09.705486",
     "status": "completed"
    },
    "tags": []
   },
   "outputs": [],
   "source": [
    "adata_list"
   ]
  },
  {
   "cell_type": "code",
   "execution_count": null,
   "id": "552b67a0",
   "metadata": {
    "ExecuteTime": {
     "end_time": "2022-06-28T03:46:57.824362Z",
     "start_time": "2022-06-28T03:46:57.820936Z"
    },
    "papermill": {
     "duration": 0.021428,
     "end_time": "2022-06-21T06:15:09.766566",
     "exception": false,
     "start_time": "2022-06-21T06:15:09.745138",
     "status": "completed"
    },
    "tags": []
   },
   "outputs": [],
   "source": [
    "adata_merge"
   ]
  },
  {
   "cell_type": "markdown",
   "id": "fe3a3a9d",
   "metadata": {
    "papermill": {
     "duration": 0.016833,
     "end_time": "2022-06-21T06:15:09.799900",
     "exception": false,
     "start_time": "2022-06-21T06:15:09.783067",
     "status": "completed"
    },
    "pycharm": {
     "name": "#%% md\n"
    },
    "tags": []
   },
   "source": [
    "## Integration and transform"
   ]
  },
  {
   "cell_type": "code",
   "execution_count": null,
   "id": "ebdcaeac",
   "metadata": {
    "ExecuteTime": {
     "end_time": "2022-06-26T06:08:13.548054Z",
     "start_time": "2022-06-26T06:08:13.546257Z"
    },
    "papermill": {
     "duration": 0.020735,
     "end_time": "2022-06-21T06:15:09.836850",
     "exception": false,
     "start_time": "2022-06-21T06:15:09.816115",
     "status": "completed"
    },
    "pycharm": {
     "name": "#%%\n"
    },
    "tags": []
   },
   "outputs": [],
   "source": [
    "integrator = SeuratIntegration()"
   ]
  },
  {
   "cell_type": "code",
   "execution_count": null,
   "id": "8a45a35b",
   "metadata": {
    "ExecuteTime": {
     "end_time": "2022-06-26T06:08:45.314671Z",
     "start_time": "2022-06-26T06:08:13.549744Z"
    },
    "papermill": {
     "duration": 10833.648139,
     "end_time": "2022-06-21T09:15:43.501597",
     "exception": false,
     "start_time": "2022-06-21T06:15:09.853458",
     "status": "completed"
    },
    "pycharm": {
     "name": "#%%\n"
    },
    "tags": []
   },
   "outputs": [],
   "source": [
    "anchor = integrator.find_anchor(adata_list,\n",
    "                                k_local=None,\n",
    "                                key_local='X_pca',\n",
    "                                k_anchor=5,\n",
    "                                key_anchor='X',\n",
    "                                dim_red='cca',\n",
    "                                max_cc_cells=100000,\n",
    "                                k_score=30,\n",
    "                                k_filter=None,\n",
    "                                scale1=False,\n",
    "                                scale2=False,\n",
    "                                n_components=50,\n",
    "                                n_features=200,\n",
    "                                alignments=[[[0], [1]]])"
   ]
  },
  {
   "cell_type": "code",
   "execution_count": null,
   "id": "9f56e4e0",
   "metadata": {
    "ExecuteTime": {
     "end_time": "2022-06-26T06:08:53.260292Z",
     "start_time": "2022-06-26T06:08:45.316850Z"
    },
    "papermill": {
     "duration": 122.174558,
     "end_time": "2022-06-21T09:17:45.693138",
     "exception": false,
     "start_time": "2022-06-21T09:15:43.518580",
     "status": "completed"
    },
    "pycharm": {
     "name": "#%%\n"
    },
    "tags": []
   },
   "outputs": [],
   "source": [
    "corrected = integrator.integrate(key_correct='X_pca',\n",
    "                                 row_normalize=True,\n",
    "                                 n_components=30,\n",
    "                                 k_weight=100,\n",
    "                                 sd=1,\n",
    "                                 alignments=[[[0], [1]]])\n",
    "\n",
    "adata_merge.obsm['X_pca_integrate'] = np.concatenate(corrected)"
   ]
  },
  {
   "cell_type": "markdown",
   "id": "1b0ab55c",
   "metadata": {
    "papermill": {
     "duration": 0.017479,
     "end_time": "2022-06-21T09:17:45.728503",
     "exception": false,
     "start_time": "2022-06-21T09:17:45.711024",
     "status": "completed"
    },
    "pycharm": {
     "name": "#%% md\n"
    },
    "tags": []
   },
   "source": [
    "## Label transfer"
   ]
  },
  {
   "cell_type": "code",
   "execution_count": null,
   "id": "7eb06547",
   "metadata": {
    "ExecuteTime": {
     "end_time": "2022-06-26T06:09:06.134216Z",
     "start_time": "2022-06-26T06:08:53.268361Z"
    },
    "papermill": {
     "duration": 217.963724,
     "end_time": "2022-06-21T09:21:23.710398",
     "exception": false,
     "start_time": "2022-06-21T09:17:45.746674",
     "status": "completed"
    },
    "pycharm": {
     "name": "#%%\n"
    },
    "tags": []
   },
   "outputs": [],
   "source": [
    "transfer_results = integrator.label_transfer(\n",
    "    ref=[0],\n",
    "    qry=[1],\n",
    "    categorical_key=categorical_key,\n",
    "    key_dist='X_pca'\n",
    ")"
   ]
  },
  {
   "cell_type": "code",
   "execution_count": null,
   "id": "4def58df",
   "metadata": {
    "ExecuteTime": {
     "end_time": "2022-06-26T06:09:06.201958Z",
     "start_time": "2022-06-26T06:09:06.137345Z"
    }
   },
   "outputs": [],
   "source": [
    "for k, v in transfer_results.items():\n",
    "    v.to_hdf(f'{k}_transfer.hdf', key='data')"
   ]
  },
  {
   "cell_type": "code",
   "execution_count": null,
   "id": "1c178304",
   "metadata": {
    "ExecuteTime": {
     "end_time": "2022-06-26T06:09:06.237250Z",
     "start_time": "2022-06-26T06:09:06.204002Z"
    },
    "papermill": {
     "duration": 0.822956,
     "end_time": "2022-06-21T09:21:24.552838",
     "exception": false,
     "start_time": "2022-06-21T09:21:23.729882",
     "status": "completed"
    },
    "pycharm": {
     "name": "#%%\n"
    },
    "tags": []
   },
   "outputs": [],
   "source": [
    "integrator.save_transfer_results_to_adata(adata_merge, transfer_results)"
   ]
  },
  {
   "cell_type": "markdown",
   "id": "504cb48a",
   "metadata": {
    "papermill": {
     "duration": 0.018649,
     "end_time": "2022-06-21T09:28:20.480885",
     "exception": false,
     "start_time": "2022-06-21T09:28:20.462236",
     "status": "completed"
    },
    "pycharm": {
     "name": "#%% md\n"
    },
    "tags": []
   },
   "source": [
    "## Save"
   ]
  },
  {
   "cell_type": "code",
   "execution_count": null,
   "id": "a8b610a7",
   "metadata": {
    "ExecuteTime": {
     "end_time": "2022-06-26T06:09:06.323867Z",
     "start_time": "2022-06-26T06:09:06.241367Z"
    },
    "papermill": {
     "duration": 1.159457,
     "end_time": "2022-06-21T09:28:21.658781",
     "exception": false,
     "start_time": "2022-06-21T09:28:20.499324",
     "status": "completed"
    },
    "pycharm": {
     "name": "#%%\n"
    },
    "tags": []
   },
   "outputs": [],
   "source": [
    "#adata_merge.write_h5ad('./adata/final.h5ad')"
   ]
  },
  {
   "cell_type": "code",
   "execution_count": null,
   "id": "f4c46c60",
   "metadata": {
    "ExecuteTime": {
     "end_time": "2022-06-26T06:09:06.330323Z",
     "start_time": "2022-06-26T06:09:06.326376Z"
    }
   },
   "outputs": [],
   "source": [
    "adata_merge"
   ]
  },
  {
   "cell_type": "code",
   "execution_count": null,
   "id": "900cde6e",
   "metadata": {
    "ExecuteTime": {
     "end_time": "2022-06-26T06:09:06.747764Z",
     "start_time": "2022-06-26T06:09:06.332437Z"
    },
    "papermill": {
     "duration": 0.061843,
     "end_time": "2022-06-21T09:28:21.740925",
     "exception": false,
     "start_time": "2022-06-21T09:28:21.679082",
     "status": "completed"
    },
    "pycharm": {
     "name": "#%%\n"
    },
    "tags": []
   },
   "outputs": [],
   "source": [
    "integrator.save('integration')"
   ]
  },
  {
   "cell_type": "code",
   "execution_count": null,
   "id": "a6b82e5c",
   "metadata": {
    "papermill": {
     "duration": 0.068083,
     "end_time": "2022-06-21T09:28:30.933456",
     "exception": false,
     "start_time": "2022-06-21T09:28:30.865373",
     "status": "completed"
    },
    "pycharm": {
     "name": "#%%\n"
    },
    "tags": []
   },
   "outputs": [],
   "source": []
  },
  {
   "cell_type": "code",
   "execution_count": null,
   "id": "1db0538f",
   "metadata": {
    "papermill": {
     "duration": 0.076077,
     "end_time": "2022-06-21T09:28:31.077452",
     "exception": false,
     "start_time": "2022-06-21T09:28:31.001375",
     "status": "completed"
    },
    "pycharm": {
     "name": "#%%\n"
    },
    "tags": []
   },
   "outputs": [],
   "source": []
  },
  {
   "cell_type": "code",
   "execution_count": null,
   "id": "edcfb8b6",
   "metadata": {
    "papermill": {
     "duration": 0.070231,
     "end_time": "2022-06-21T09:28:31.218357",
     "exception": false,
     "start_time": "2022-06-21T09:28:31.148126",
     "status": "completed"
    },
    "pycharm": {
     "name": "#%%\n"
    },
    "tags": []
   },
   "outputs": [],
   "source": []
  }
 ],
 "metadata": {
  "celltoolbar": "无",
  "hide_input": false,
  "kernelspec": {
   "display_name": "Python 3 (ipykernel)",
   "language": "python",
   "name": "python3"
  },
  "language_info": {
   "codemirror_mode": {
    "name": "ipython",
    "version": 3
   },
   "file_extension": ".py",
   "mimetype": "text/x-python",
   "name": "python",
   "nbconvert_exporter": "python",
   "pygments_lexer": "ipython3",
   "version": "3.7.12"
  },
  "papermill": {
   "default_parameters": {},
   "duration": 11622.679848,
   "end_time": "2022-06-21T09:28:35.000680",
   "environment_variables": {},
   "exception": null,
   "input_path": "/home/hanliu/project/cemba/study/Integration/mC_AIBS_SMART_Gene/Template/04.integration.ipynb",
   "output_path": "Neuron/04.integration.ipynb",
   "parameters": {},
   "start_time": "2022-06-21T06:14:52.320832",
   "version": "2.3.3"
  },
  "toc": {
   "base_numbering": 1,
   "nav_menu": {},
   "number_sections": true,
   "sideBar": true,
   "skip_h1_title": true,
   "title_cell": "Table of Contents",
   "title_sidebar": "Contents",
   "toc_cell": false,
   "toc_position": {},
   "toc_section_display": true,
   "toc_window_display": true
  }
 },
 "nbformat": 4,
 "nbformat_minor": 5
}
