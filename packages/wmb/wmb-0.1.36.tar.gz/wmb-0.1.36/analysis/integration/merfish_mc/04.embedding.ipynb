{
 "cells": [
  {
   "cell_type": "code",
   "execution_count": null,
   "id": "41436b0c",
   "metadata": {
    "ExecuteTime": {
     "end_time": "2022-06-26T06:09:24.226519Z",
     "start_time": "2022-06-26T06:09:18.181248Z"
    }
   },
   "outputs": [],
   "source": [
    "import matplotlib.pyplot as plt\n",
    "\n",
    "from ALLCools.clustering import tsne\n",
    "from ALLCools.plot import *\n",
    "from ALLCools.integration import SeuratIntegration\n",
    "import wmb\n",
    "\n",
    "import scanpy as sc\n",
    "import anndata\n",
    "from harmonypy import run_harmony"
   ]
  },
  {
   "cell_type": "markdown",
   "id": "928af19c",
   "metadata": {},
   "source": [
    "## Parameters"
   ]
  },
  {
   "cell_type": "code",
   "execution_count": null,
   "id": "8b799446",
   "metadata": {
    "ExecuteTime": {
     "end_time": "2022-06-26T06:09:24.266959Z",
     "start_time": "2022-06-26T06:09:24.264890Z"
    }
   },
   "outputs": [],
   "source": [
    "ref_region_type = 'CEMBA'"
   ]
  },
  {
   "cell_type": "markdown",
   "id": "cdc26c09",
   "metadata": {},
   "source": [
    "## Load"
   ]
  },
  {
   "cell_type": "code",
   "execution_count": null,
   "id": "4e36bcc4",
   "metadata": {
    "ExecuteTime": {
     "end_time": "2022-06-26T06:09:24.318988Z",
     "start_time": "2022-06-26T06:09:24.268975Z"
    }
   },
   "outputs": [],
   "source": [
    "adata_merge = anndata.read_h5ad('./adata/final.h5ad')\n",
    "adata_merge"
   ]
  },
  {
   "cell_type": "markdown",
   "id": "34271d84",
   "metadata": {},
   "source": [
    "## Harmony for embedding"
   ]
  },
  {
   "cell_type": "code",
   "execution_count": null,
   "id": "63f4adde",
   "metadata": {
    "ExecuteTime": {
     "end_time": "2022-06-26T06:09:34.025943Z",
     "start_time": "2022-06-26T06:09:24.321033Z"
    }
   },
   "outputs": [],
   "source": [
    "ho = run_harmony(data_mat=adata_merge.obsm['X_pca_integrate'],\n",
    "                 meta_data=adata_merge.obs,\n",
    "                 nclust=50,\n",
    "                 vars_use=['Modality'], \n",
    "                 max_iter_harmony=30)"
   ]
  },
  {
   "cell_type": "code",
   "execution_count": null,
   "id": "0974e48d",
   "metadata": {
    "ExecuteTime": {
     "end_time": "2022-06-26T06:09:34.053751Z",
     "start_time": "2022-06-26T06:09:34.050848Z"
    }
   },
   "outputs": [],
   "source": [
    "adata_merge.obsm['X_harmony'] = ho.Z_corr.T"
   ]
  },
  {
   "cell_type": "code",
   "execution_count": null,
   "id": "40b754db-3cb2-4559-acd2-24d307b52a49",
   "metadata": {},
   "outputs": [],
   "source": [
    "adata_merge"
   ]
  },
  {
   "cell_type": "markdown",
   "id": "775dfad2",
   "metadata": {},
   "source": [
    "### TSNE"
   ]
  },
  {
   "cell_type": "code",
   "execution_count": null,
   "id": "548cabe9",
   "metadata": {
    "ExecuteTime": {
     "end_time": "2022-06-26T06:11:02.856899Z",
     "start_time": "2022-06-26T06:09:34.055748Z"
    }
   },
   "outputs": [],
   "source": [
    "tsne(adata_merge, obsm='X_harmony')"
   ]
  },
  {
   "cell_type": "markdown",
   "id": "de6b71a1",
   "metadata": {},
   "source": [
    "### UMAP"
   ]
  },
  {
   "cell_type": "code",
   "execution_count": null,
   "id": "cd4cff16",
   "metadata": {},
   "outputs": [],
   "source": [
    "adata_merge.obsm['X_pca'] = adata_merge.obsm['X_harmony']\n",
    "\n",
    "sc.pp.neighbors(adata_merge)"
   ]
  },
  {
   "cell_type": "code",
   "execution_count": null,
   "id": "85852dc0",
   "metadata": {
    "ExecuteTime": {
     "end_time": "2022-06-26T06:11:44.169178Z",
     "start_time": "2022-06-26T06:11:02.861693Z"
    }
   },
   "outputs": [],
   "source": [
    "min_dist = max(0.1, 1 - adata_merge.shape[0] / 60000)\n",
    "sc.tl.umap(adata_merge, min_dist=min_dist)\n",
    "del adata_merge.obsm['X_pca']"
   ]
  },
  {
   "cell_type": "markdown",
   "id": "c8c80044",
   "metadata": {},
   "source": [
    "### Clustering"
   ]
  },
  {
   "cell_type": "code",
   "execution_count": null,
   "id": "bfafd46c",
   "metadata": {
    "ExecuteTime": {
     "end_time": "2022-06-26T06:11:44.840070Z",
     "start_time": "2022-06-26T06:11:44.172815Z"
    }
   },
   "outputs": [],
   "source": [
    "sc.tl.leiden(adata_merge, resolution=0.3)"
   ]
  },
  {
   "cell_type": "markdown",
   "id": "01deb143",
   "metadata": {},
   "source": [
    "## Plot"
   ]
  },
  {
   "cell_type": "code",
   "execution_count": null,
   "id": "b301f0bc-8cf4-4ac3-948c-775c71f888f7",
   "metadata": {},
   "outputs": [],
   "source": [
    "adata_merge.obs"
   ]
  },
  {
   "cell_type": "code",
   "execution_count": null,
   "id": "dc534844-1643-4669-8f98-48f3875f392f",
   "metadata": {},
   "outputs": [],
   "source": [
    "fig, axes = plt.subplots(nrows=1,ncols=2,figsize=(10, 5),dpi=300)\n",
    "\n",
    "merfish_adata = adata_merge[adata_merge.obs['Modality'] == 'merfish']\n",
    "mC_adata = adata_merge[adata_merge.obs['Modality'] == 'mC']\n",
    "\n",
    "ax = axes[0]\n",
    "categorical_scatter(data=merfish_adata,\n",
    "                        coord_base='tsne',\n",
    "                        max_points=None,\n",
    "                        hue=None,\n",
    "                        scatter_kws=dict(color='lightgrey'),\n",
    "                        ax=ax)\n",
    "\n",
    "_ = categorical_scatter(\n",
    "    data=mC_adata,\n",
    "    ax=ax,\n",
    "    coord_base='tsne',\n",
    "    hue='L1_annot',\n",
    "    text_anno='L1_annot',\n",
    "    palette='tab20',\n",
    "    max_points=None,)\n",
    "\n",
    "ax.set(title = 'mC L1 annot')\n",
    "\n",
    "    \n",
    "    \n",
    "ax = axes[1]\n",
    "categorical_scatter(data=mC_adata,\n",
    "                        coord_base='tsne',\n",
    "                        max_points=None,\n",
    "                        hue=None,\n",
    "                        scatter_kws=dict(color='lightgrey'),\n",
    "                        ax=ax)\n",
    "\n",
    "_ = categorical_scatter(\n",
    "    data=merfish_adata,\n",
    "    ax=ax,\n",
    "    coord_base='tsne',\n",
    "    hue='L1_annot_transfer',\n",
    "    text_anno='L1_annot_transfer',\n",
    "    palette='tab20',\n",
    "    max_points=None,\n",
    ")\n",
    "ax.set(title = 'merfish L1 transferred annot')\n"
   ]
  },
  {
   "cell_type": "code",
   "execution_count": null,
   "id": "fbd061ef-790d-427a-bdfb-dc241644b6f5",
   "metadata": {},
   "outputs": [],
   "source": [
    "fig, axes = plt.subplots(nrows=1,ncols=2,figsize=(10, 5),dpi=300)\n",
    "\n",
    "merfish_adata = adata_merge[adata_merge.obs['Modality'] == 'merfish']\n",
    "mC_adata = adata_merge[adata_merge.obs['Modality'] == 'mC']\n",
    "\n",
    "ax = axes[0]\n",
    "categorical_scatter(data=merfish_adata,\n",
    "                        coord_base='tsne',\n",
    "                        max_points=None,\n",
    "                        hue=None,\n",
    "                        scatter_kws=dict(color='lightgrey'),\n",
    "                        ax=ax)\n",
    "\n",
    "_ = categorical_scatter(\n",
    "    data=mC_adata,\n",
    "    ax=ax,\n",
    "    coord_base='tsne',\n",
    "    hue='DissectionRegion',\n",
    "    #text_anno='DissectionRegion',\n",
    "    palette=wmb.brain.get_dissection_region_palette(region_type=ref_region_type),\n",
    "    max_points=None,)\n",
    "\n",
    "ax.set(title = 'mC L1 DissectionRegion')\n",
    "\n",
    "    \n",
    "    \n",
    "ax = axes[1]\n",
    "categorical_scatter(data=mC_adata,\n",
    "                        coord_base='tsne',\n",
    "                        max_points=None,\n",
    "                        hue=None,\n",
    "                        scatter_kws=dict(color='lightgrey'),\n",
    "                        ax=ax)\n",
    "\n",
    "_ = categorical_scatter(\n",
    "    data=merfish_adata,\n",
    "    ax=ax,\n",
    "    coord_base='tsne',\n",
    "    hue='DissectionRegion_transfer',\n",
    "    #text_anno='DissectionRegion_transfer',\n",
    "    palette=wmb.brain.get_dissection_region_palette(region_type=ref_region_type),\n",
    "    max_points=None,\n",
    ")\n",
    "ax.set(title = 'merfish L1 transferred DissectionRegion')\n"
   ]
  },
  {
   "cell_type": "markdown",
   "id": "abd6b74f",
   "metadata": {},
   "source": [
    "## Save"
   ]
  },
  {
   "cell_type": "code",
   "execution_count": null,
   "id": "74db24cf",
   "metadata": {
    "ExecuteTime": {
     "end_time": "2022-06-26T06:12:08.734702Z",
     "start_time": "2022-06-26T06:12:08.641380Z"
    }
   },
   "outputs": [],
   "source": [
    "adata_merge.write_h5ad('./adata/final_with_coords.h5ad')"
   ]
  },
  {
   "cell_type": "code",
   "execution_count": null,
   "id": "cf75bd52",
   "metadata": {
    "ExecuteTime": {
     "end_time": "2022-06-26T06:12:51.563392Z",
     "start_time": "2022-06-26T06:12:51.560187Z"
    }
   },
   "outputs": [],
   "source": [
    "adata_merge"
   ]
  },
  {
   "cell_type": "code",
   "execution_count": null,
   "id": "9ea3399c",
   "metadata": {},
   "outputs": [],
   "source": []
  },
  {
   "cell_type": "code",
   "execution_count": null,
   "id": "9b8f0b42",
   "metadata": {},
   "outputs": [],
   "source": []
  },
  {
   "cell_type": "code",
   "execution_count": null,
   "id": "2e365023",
   "metadata": {},
   "outputs": [],
   "source": []
  }
 ],
 "metadata": {
  "celltoolbar": "Tags",
  "hide_input": false,
  "kernelspec": {
   "display_name": "Python 3 (ipykernel)",
   "language": "python",
   "name": "python3"
  },
  "language_info": {
   "codemirror_mode": {
    "name": "ipython",
    "version": 3
   },
   "file_extension": ".py",
   "mimetype": "text/x-python",
   "name": "python",
   "nbconvert_exporter": "python",
   "pygments_lexer": "ipython3",
   "version": "3.7.12"
  },
  "toc": {
   "base_numbering": 1,
   "nav_menu": {},
   "number_sections": true,
   "sideBar": true,
   "skip_h1_title": true,
   "title_cell": "Table of Contents",
   "title_sidebar": "Contents",
   "toc_cell": false,
   "toc_position": {},
   "toc_section_display": true,
   "toc_window_display": true
  }
 },
 "nbformat": 4,
 "nbformat_minor": 5
}
