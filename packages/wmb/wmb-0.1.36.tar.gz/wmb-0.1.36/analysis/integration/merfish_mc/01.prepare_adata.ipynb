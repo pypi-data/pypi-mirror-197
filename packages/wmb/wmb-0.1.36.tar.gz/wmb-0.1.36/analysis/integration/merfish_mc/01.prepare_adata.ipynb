{
 "cells": [
  {
   "cell_type": "markdown",
   "id": "68434496",
   "metadata": {
    "papermill": {
     "duration": 0.011024,
     "end_time": "2022-06-20T23:08:33.560969",
     "exception": false,
     "start_time": "2022-06-20T23:08:33.549945",
     "status": "completed"
    },
    "pycharm": {
     "name": "#%% md\n"
    },
    "tags": []
   },
   "source": [
    "## Import"
   ]
  },
  {
   "cell_type": "code",
   "execution_count": null,
   "id": "4b3c1327",
   "metadata": {
    "ExecuteTime": {
     "end_time": "2022-06-25T18:41:25.636047Z",
     "start_time": "2022-06-25T18:41:05.397039Z"
    },
    "papermill": {
     "duration": 3.393328,
     "end_time": "2022-06-20T23:08:36.965154",
     "exception": false,
     "start_time": "2022-06-20T23:08:33.571826",
     "status": "completed"
    },
    "pycharm": {
     "name": "#%%\n"
    },
    "tags": []
   },
   "outputs": [],
   "source": [
    "from wmb import brain, cemba, mm10\n",
    "import seaborn as sns\n",
    "import anndata\n",
    "import dask\n",
    "import numpy as np\n",
    "from ALLCools.clustering import *\n",
    "from ALLCools.mcds import MCDS\n",
    "from ALLCools.plot import *\n",
    "\n",
    "import pandas as pd\n",
    "import matplotlib.pyplot as plt\n",
    "from ALLCools.clustering import cluster_enriched_features, log_scale"
   ]
  },
  {
   "cell_type": "code",
   "execution_count": null,
   "id": "ca8aa116",
   "metadata": {
    "ExecuteTime": {
     "end_time": "2022-06-25T18:41:25.640966Z",
     "start_time": "2022-06-25T18:41:25.637983Z"
    },
    "papermill": {
     "duration": 0.01588,
     "end_time": "2022-06-20T23:08:36.992726",
     "exception": false,
     "start_time": "2022-06-20T23:08:36.976846",
     "status": "completed"
    },
    "pycharm": {
     "name": "#%%\n"
    },
    "tags": [
     "parameters"
    ]
   },
   "outputs": [],
   "source": [
    "var_dim = 'geneslop2k-vm23'\n",
    "chrom_to_remove = ['chrX', 'chrY', 'chrM', 'chrL']\n",
    "downsample = 1000\n",
    "mc_type = 'CHN'"
   ]
  },
  {
   "cell_type": "markdown",
   "id": "e60ee638",
   "metadata": {
    "papermill": {
     "duration": 0.010957,
     "end_time": "2022-06-20T23:08:37.014633",
     "exception": false,
     "start_time": "2022-06-20T23:08:37.003676",
     "status": "completed"
    },
    "pycharm": {
     "name": "#%% md\n"
    },
    "tags": []
   },
   "source": [
    "## Select cells"
   ]
  },
  {
   "cell_type": "code",
   "execution_count": null,
   "id": "e5e3ec7f",
   "metadata": {
    "ExecuteTime": {
     "end_time": "2022-06-25T18:41:25.661120Z",
     "start_time": "2022-06-25T18:41:25.642947Z"
    },
    "papermill": {
     "duration": 0.072951,
     "end_time": "2022-06-20T23:08:37.098607",
     "exception": false,
     "start_time": "2022-06-20T23:08:37.025656",
     "status": "completed"
    },
    "pycharm": {
     "name": "#%%\n"
    },
    "tags": []
   },
   "outputs": [],
   "source": [
    "cells = pd.read_csv('mc_cells.txt', index_col=0, header=None).index\n",
    "cells.name = 'cell'\n",
    "cells.size"
   ]
  },
  {
   "cell_type": "markdown",
   "id": "abc2eddd",
   "metadata": {
    "papermill": {
     "duration": 0.011321,
     "end_time": "2022-06-20T23:08:37.121735",
     "exception": false,
     "start_time": "2022-06-20T23:08:37.110414",
     "status": "completed"
    },
    "pycharm": {
     "name": "#%% md\n"
    },
    "tags": []
   },
   "source": [
    "## Get adata with shared features"
   ]
  },
  {
   "cell_type": "code",
   "execution_count": null,
   "id": "a6636dd5",
   "metadata": {
    "ExecuteTime": {
     "end_time": "2022-06-25T18:41:26.716889Z",
     "start_time": "2022-06-25T18:41:25.662437Z"
    },
    "papermill": {
     "duration": 0.657939,
     "end_time": "2022-06-20T23:08:37.790638",
     "exception": false,
     "start_time": "2022-06-20T23:08:37.132699",
     "status": "completed"
    },
    "pycharm": {
     "name": "#%%\n"
    },
    "tags": []
   },
   "outputs": [],
   "source": [
    "mcds = MCDS.open(cemba.CEMBA_SNMC_MCDS_PATH, var_dim=var_dim, use_obs=cells)\n",
    "mcds"
   ]
  },
  {
   "cell_type": "code",
   "execution_count": null,
   "id": "ee18443e-688f-45ae-bad5-197950b5f4af",
   "metadata": {},
   "outputs": [],
   "source": [
    "#change merfish var to ids\n",
    "merfish = anndata.read_h5ad('./adata/ori_merfish_input.h5ad')\n",
    "merfish_genes_ids = [mm10.gene_name_to_id(gene_name) for gene_name in merfish.var_names]\n",
    "\n",
    "for i in range(0,len(merfish_genes_ids)):\n",
    "    if merfish_genes_ids[i] == mm10.gene_name_to_id(merfish.var_names[i]):\n",
    "        continue\n",
    "    else:\n",
    "        print(merfish.var_names[i])\n",
    "        \n",
    "merfish.var_names = merfish_genes_ids"
   ]
  },
  {
   "cell_type": "code",
   "execution_count": null,
   "id": "6f55cee2-a5b9-4e20-8b0c-cb3181665a07",
   "metadata": {},
   "outputs": [],
   "source": [
    "# get shared genes\n",
    "all_mc_genes = mcds.get_index(var_dim).tolist()\n",
    "shared_genes = set(all_mc_genes) & set(list(merfish.var_names))\n",
    "shared_genes = pd.Index(shared_genes)\n",
    "shared_genes.name = var_dim"
   ]
  },
  {
   "cell_type": "code",
   "execution_count": null,
   "id": "1d592128-8197-4510-81b5-cadcb36af0d4",
   "metadata": {},
   "outputs": [],
   "source": [
    "shared_genes"
   ]
  },
  {
   "cell_type": "code",
   "execution_count": null,
   "id": "9bf4ff5f-ad0d-483b-b374-4d174083ad24",
   "metadata": {},
   "outputs": [],
   "source": [
    "merfish = merfish[:,merfish.var_names.isin(shared_genes)]"
   ]
  },
  {
   "cell_type": "code",
   "execution_count": null,
   "id": "85a66adc-b400-46cd-83a5-aa944daa5c6a",
   "metadata": {},
   "outputs": [],
   "source": [
    "mcds.add_feature_selection_column(shared_genes, f'{var_dim}_shared_genes')\n",
    "adata = mcds.get_adata(mc_type=mc_type,\n",
    "                       select_hvf=f'{var_dim}_shared_genes',\n",
    "                       split_large_chunks=False,\n",
    "                      )"
   ]
  },
  {
   "cell_type": "markdown",
   "id": "50cf509e",
   "metadata": {},
   "source": [
    "## Preprocessing and save"
   ]
  },
  {
   "cell_type": "code",
   "execution_count": null,
   "id": "9acbf6eb",
   "metadata": {
    "ExecuteTime": {
     "start_time": "2022-06-25T18:41:05.083Z"
    },
    "papermill": {
     "duration": 10.660079,
     "end_time": "2022-06-20T23:23:37.507694",
     "exception": false,
     "start_time": "2022-06-20T23:23:26.847615",
     "status": "completed"
    },
    "pycharm": {
     "name": "#%%\n"
    },
    "tags": []
   },
   "outputs": [],
   "source": [
    "# log mC fraction and scale features\n",
    "log_scale(adata, with_mean=True)\n",
    "\n",
    "# reverse mC fraction so its positively corr with RNA\n",
    "adata.X *= -1"
   ]
  },
  {
   "cell_type": "code",
   "execution_count": null,
   "id": "bf7e5ac5-5dba-4659-822f-223cf3df7752",
   "metadata": {},
   "outputs": [],
   "source": [
    "adata"
   ]
  },
  {
   "cell_type": "code",
   "execution_count": null,
   "id": "6be517f4-074c-4db7-953e-f9aec5d4d4ee",
   "metadata": {},
   "outputs": [],
   "source": [
    "merfish"
   ]
  },
  {
   "cell_type": "code",
   "execution_count": null,
   "id": "504cabd3",
   "metadata": {
    "ExecuteTime": {
     "start_time": "2022-06-25T18:41:05.085Z"
    },
    "papermill": {
     "duration": 1.304573,
     "end_time": "2022-06-20T23:23:38.827243",
     "exception": false,
     "start_time": "2022-06-20T23:23:37.522670",
     "status": "completed"
    },
    "tags": []
   },
   "outputs": [],
   "source": [
    "assert len(adata.var_names) == len(merfish.var_names)\n",
    "assert len(set(adata.var_names) ^ set(merfish.var_names)) == 0"
   ]
  },
  {
   "cell_type": "code",
   "execution_count": null,
   "id": "d43003cc",
   "metadata": {
    "papermill": {
     "duration": 0.015284,
     "end_time": "2022-06-20T23:23:38.857644",
     "exception": false,
     "start_time": "2022-06-20T23:23:38.842360",
     "status": "completed"
    },
    "tags": []
   },
   "outputs": [],
   "source": [
    "adata.write_h5ad('./adata/mc_input.h5ad')\n",
    "merfish.write_h5ad('./adata/merfish_input.h5ad')"
   ]
  },
  {
   "cell_type": "code",
   "execution_count": null,
   "id": "25fe1295",
   "metadata": {
    "papermill": {
     "duration": 0.015892,
     "end_time": "2022-06-20T23:23:38.918714",
     "exception": false,
     "start_time": "2022-06-20T23:23:38.902822",
     "status": "completed"
    },
    "tags": []
   },
   "outputs": [],
   "source": []
  },
  {
   "cell_type": "code",
   "execution_count": null,
   "id": "cee0000b",
   "metadata": {
    "papermill": {
     "duration": 0.016126,
     "end_time": "2022-06-20T23:23:38.950603",
     "exception": false,
     "start_time": "2022-06-20T23:23:38.934477",
     "status": "completed"
    },
    "tags": []
   },
   "outputs": [],
   "source": []
  }
 ],
 "metadata": {
  "celltoolbar": "Tags",
  "hide_input": false,
  "kernelspec": {
   "display_name": "Python 3 (ipykernel)",
   "language": "python",
   "name": "python3"
  },
  "language_info": {
   "codemirror_mode": {
    "name": "ipython",
    "version": 3
   },
   "file_extension": ".py",
   "mimetype": "text/x-python",
   "name": "python",
   "nbconvert_exporter": "python",
   "pygments_lexer": "ipython3",
   "version": "3.7.12"
  },
  "papermill": {
   "default_parameters": {},
   "duration": 909.958491,
   "end_time": "2022-06-20T23:23:41.953330",
   "environment_variables": {},
   "exception": null,
   "input_path": "/home/hanliu/project/cemba/study/Integration/mC_AIBS_SMART_Gene/Template/01.prepare_mc.ipynb",
   "output_path": "Neuron/01.prepare_mc.ipynb",
   "parameters": {},
   "start_time": "2022-06-20T23:08:31.994839",
   "version": "2.3.3"
  },
  "toc": {
   "base_numbering": 1,
   "nav_menu": {},
   "number_sections": true,
   "sideBar": true,
   "skip_h1_title": true,
   "title_cell": "Table of Contents",
   "title_sidebar": "Contents",
   "toc_cell": false,
   "toc_position": {},
   "toc_section_display": true,
   "toc_window_display": true
  }
 },
 "nbformat": 4,
 "nbformat_minor": 5
}
