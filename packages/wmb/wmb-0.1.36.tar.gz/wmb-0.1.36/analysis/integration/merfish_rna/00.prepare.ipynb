{
 "cells": [
  {
   "cell_type": "code",
   "execution_count": null,
   "id": "81176507",
   "metadata": {
    "ExecuteTime": {
     "end_time": "2022-06-28T02:08:09.141765Z",
     "start_time": "2022-06-28T02:08:06.326899Z"
    },
    "tags": []
   },
   "outputs": [],
   "source": [
    "import pandas as pd\n",
    "import numpy as np\n",
    "from wmb import *\n",
    "from ALLCools.plot import *\n",
    "\n",
    "import pathlib"
   ]
  },
  {
   "cell_type": "code",
   "execution_count": null,
   "id": "eefe7a4a",
   "metadata": {
    "ExecuteTime": {
     "end_time": "2022-06-28T02:08:15.359236Z",
     "start_time": "2022-06-28T02:08:09.145337Z"
    },
    "tags": []
   },
   "outputs": [],
   "source": [
    "rna_annot = aibs.get_smart_annot()"
   ]
  },
  {
   "cell_type": "code",
   "execution_count": null,
   "id": "86dc160e",
   "metadata": {
    "ExecuteTime": {
     "end_time": "2022-06-28T02:08:15.365230Z",
     "start_time": "2022-06-28T02:08:15.362072Z"
    },
    "tags": []
   },
   "outputs": [],
   "source": [
    "def save_index(cells, file_name, downsample=100000, random_state=0):\n",
    "    cells = pd.Series(cells)\n",
    "    if cells.size > downsample:\n",
    "        cells = cells.sample(downsample, random_state=random_state)\n",
    "    cells.to_csv(file_name, index=None, header=False)"
   ]
  },
  {
   "cell_type": "markdown",
   "id": "a601e944",
   "metadata": {},
   "source": [
    "## L1 - donwsample rna cells"
   ]
  },
  {
   "cell_type": "code",
   "execution_count": null,
   "id": "6ac203f0",
   "metadata": {
    "ExecuteTime": {
     "end_time": "2022-06-27T20:31:04.185073Z",
     "start_time": "2022-06-27T20:31:04.182852Z"
    },
    "tags": []
   },
   "outputs": [],
   "source": [
    "#pathlib.Path('../L1/NonNeuron').mkdir(exist_ok=True)\n",
    "\n",
    "save_index(rna_annot.get_index('cell'),\n",
    "           file_name='./rna_cells.txt',\n",
    "           downsample=100000,\n",
    "           random_state=0)"
   ]
  }
 ],
 "metadata": {
  "hide_input": false,
  "kernelspec": {
   "display_name": "Python 3 (ipykernel)",
   "language": "python",
   "name": "python3"
  },
  "language_info": {
   "codemirror_mode": {
    "name": "ipython",
    "version": 3
   },
   "file_extension": ".py",
   "mimetype": "text/x-python",
   "name": "python",
   "nbconvert_exporter": "python",
   "pygments_lexer": "ipython3",
   "version": "3.7.12"
  },
  "toc": {
   "base_numbering": 1,
   "nav_menu": {},
   "number_sections": true,
   "sideBar": true,
   "skip_h1_title": true,
   "title_cell": "Table of Contents",
   "title_sidebar": "Contents",
   "toc_cell": false,
   "toc_position": {},
   "toc_section_display": true,
   "toc_window_display": true
  }
 },
 "nbformat": 4,
 "nbformat_minor": 5
}
