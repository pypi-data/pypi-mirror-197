{
 "cells": [
  {
   "cell_type": "code",
   "execution_count": null,
   "id": "46ea3831-8f65-45fe-8cdd-46fa8c52d9b6",
   "metadata": {},
   "outputs": [],
   "source": [
    "from ALLCools.clustering import *\n",
    "from ALLCools.mcds import MCDS\n",
    "from wmb import brain, aibs, broad, mm10\n",
    "\n",
    "import pandas as pd\n",
    "import anndata\n",
    "import numpy as np\n",
    "\n",
    "import matplotlib.pyplot as plt\n",
    "from ALLCools.plot import *\n",
    "\n",
    "import scanpy as sc\n",
    "from skimage.transform import rotate, SimilarityTransform, matrix_transform"
   ]
  },
  {
   "cell_type": "code",
   "execution_count": null,
   "id": "11770b00-da49-4b91-baad-83ca4161b39f",
   "metadata": {},
   "outputs": [],
   "source": [
    "cells = pd.read_csv('rna_cells.txt', index_col=0, header=None).index\n",
    "cells.name = 'cell'\n",
    "cells.size"
   ]
  },
  {
   "cell_type": "code",
   "execution_count": null,
   "id": "398d83a8-fd0d-46dc-9592-6962f1bdd486",
   "metadata": {},
   "outputs": [],
   "source": [
    "adata_merge = anndata.read_h5ad('./adata/final_with_coords.h5ad')"
   ]
  },
  {
   "cell_type": "markdown",
   "id": "f2249389-5a61-4144-8422-58a3b235152c",
   "metadata": {
    "tags": []
   },
   "source": [
    "## plot annot"
   ]
  },
  {
   "cell_type": "code",
   "execution_count": null,
   "id": "cbf64d14-3d8c-45b7-b5cf-1b5ac5b00cd7",
   "metadata": {},
   "outputs": [],
   "source": [
    "fig, axes = plt.subplots(nrows=1,ncols=2,figsize=(10, 5),dpi=300)\n",
    "\n",
    "merfish_adata = adata_merge[adata_merge.obs['Modality'] == 'merfish']\n",
    "rna_adata = adata_merge[adata_merge.obs['Modality'] == 'RNA']\n",
    "\n",
    "ax = axes[0]\n",
    "categorical_scatter(data=merfish_adata,\n",
    "                        coord_base='tsne',\n",
    "                        max_points=None,\n",
    "                        hue=None,\n",
    "                        scatter_kws=dict(color='lightgrey'),\n",
    "                        ax=ax)\n",
    "\n",
    "_ = categorical_scatter(\n",
    "    data=rna_adata,\n",
    "    ax=ax,\n",
    "    coord_base='tsne',\n",
    "    hue='L1_annot',\n",
    "    text_anno='L1_annot',\n",
    "    palette='tab20',\n",
    "    max_points=None,)\n",
    "\n",
    "ax.set(title = 'rna annot')\n",
    "\n",
    "    \n",
    "    \n",
    "ax = axes[1]\n",
    "categorical_scatter(data=rna_adata,\n",
    "                        coord_base='tsne',\n",
    "                        max_points=None,\n",
    "                        hue=None,\n",
    "                        scatter_kws=dict(color='lightgrey'),\n",
    "                        ax=ax)\n",
    "\n",
    "_ = categorical_scatter(\n",
    "    data=merfish_adata,\n",
    "    ax=ax,\n",
    "    coord_base='tsne',\n",
    "    hue='L1_annot_transfer',\n",
    "    text_anno='L1_annot_transfer',\n",
    "    palette='tab20',\n",
    "    max_points=None,\n",
    ")\n",
    "ax.set(title = 'merfish transferred annot')\n",
    "\n",
    "fig.savefig('./fig/integration_annot.png')"
   ]
  },
  {
   "cell_type": "markdown",
   "id": "cf1aa6ff-d8e8-40ba-b7c8-df3b23acbc7e",
   "metadata": {},
   "source": [
    "## plot gene marker"
   ]
  },
  {
   "cell_type": "code",
   "execution_count": null,
   "id": "eabbff21-3d31-4c59-8bf0-4154f2fa21e5",
   "metadata": {},
   "outputs": [],
   "source": [
    "gene_matrix = pd.read_pickle('rna_gene_matrix.pickle')\n",
    "gene_matrix = gene_matrix.loc[:,adata_merge.var_names]"
   ]
  },
  {
   "cell_type": "code",
   "execution_count": null,
   "id": "b3eb4aaf-e1ab-46fa-b264-569c20116207",
   "metadata": {},
   "outputs": [],
   "source": [
    "gene_matrix.head()"
   ]
  },
  {
   "cell_type": "code",
   "execution_count": null,
   "id": "77b47307-3322-4ea0-93a5-d7a695d80813",
   "metadata": {},
   "outputs": [],
   "source": [
    "fig, ax = plt.subplots(nrows=1,ncols=1,figsize=(5, 5),dpi=300)\n",
    "\n",
    "merfish_adata = adata_merge[adata_merge.obs['Modality'] == 'merfish']\n",
    "rna_adata = adata_merge[adata_merge.obs['Modality'] == 'RNA']\n",
    "\n",
    "\n",
    "continuous_scatter(data=merfish_adata,\n",
    "                        coord_base='tsne',\n",
    "                        max_points=None,\n",
    "                        hue=None,\n",
    "                        scatter_kws=dict(color='lightgrey'),\n",
    "                        ax=ax)\n",
    "\n",
    "_ = continuous_scatter(\n",
    "    data=rna_adata,\n",
    "    ax=ax,\n",
    "    coord_base='tsne',\n",
    "    hue=gene_matrix['Adarb2'],\n",
    "    text_anno='L1_annot',\n",
    "    max_points=None,)\n"
   ]
  },
  {
   "cell_type": "markdown",
   "id": "c782dc39-2e84-4d60-8746-c300064e3f5c",
   "metadata": {},
   "source": [
    "## plot spatial"
   ]
  },
  {
   "cell_type": "code",
   "execution_count": null,
   "id": "12842513-f73d-4225-bd0a-180cce924ce3",
   "metadata": {},
   "outputs": [],
   "source": [
    "adata = anndata.read_h5ad('./adata/merfish_input.h5ad')"
   ]
  },
  {
   "cell_type": "code",
   "execution_count": null,
   "id": "f3924243-8a74-4623-9c5f-0e7a1a8c4fb8",
   "metadata": {},
   "outputs": [],
   "source": [
    "adata.obs['annot'] = adata_merge.obs['L1_annot_transfer']"
   ]
  },
  {
   "cell_type": "code",
   "execution_count": null,
   "id": "de11d812-3da8-4b98-9ddb-2cc2f1c45fc1",
   "metadata": {},
   "outputs": [],
   "source": [
    "adata.obsm['X_spatial'] = adata.obsm['spatial'].copy()\n",
    "del adata.obsm['spatial']"
   ]
  },
  {
   "cell_type": "code",
   "execution_count": null,
   "id": "68731e0f-6bf5-4f0f-b48d-b145be8c70ad",
   "metadata": {},
   "outputs": [],
   "source": [
    "# rotate spatial\n",
    "trans_mat = SimilarityTransform(rotation=15.5)\n",
    "rotate_coord = matrix_transform(adata.obsm['X_spatial'], np.array(trans_mat))\n",
    "adata.obsm['X_spatial_rotated'] = rotate_coord.copy()"
   ]
  },
  {
   "cell_type": "code",
   "execution_count": null,
   "id": "7960506d-9fc9-4d46-bcb5-182ee848b39a",
   "metadata": {},
   "outputs": [],
   "source": [
    "adata"
   ]
  },
  {
   "cell_type": "code",
   "execution_count": null,
   "id": "a2e4f644-ee57-481d-97ae-e93022a1554d",
   "metadata": {},
   "outputs": [],
   "source": [
    "fig, ax = plt.subplots(figsize = (7,3), ncols = 1, dpi = 300, constrained_layout = True)\n",
    "\n",
    "\n",
    "categorical_scatter(data=adata,\n",
    "                        ax=ax,\n",
    "                        coord_base='spatial_rotated',\n",
    "                        hue='annot',\n",
    "                    text_anno=None,\n",
    "                    show_legend = True,\n",
    "                       max_points = None)\n",
    "\n",
    "ax.set(title = 'annot')\n",
    "\n",
    "fig.savefig('./fig/spatial_annot.png')"
   ]
  },
  {
   "cell_type": "code",
   "execution_count": null,
   "id": "b3eef848-abe8-48a1-b61b-b985553634d6",
   "metadata": {},
   "outputs": [],
   "source": [
    "all_cell_types = adata.obs['annot'].unique().to_list()\n",
    "n_plots = len(all_cell_types)\n",
    "\n",
    "fig, axes = plt.subplots(figsize=(24, 12),\n",
    "                         nrows=6,\n",
    "                         ncols=6,\n",
    "                         dpi=300,\n",
    "                         constrained_layout=True,\n",
    "                         sharex=False)\n",
    "\n",
    "for ax, ct in zip(axes.ravel(), all_cell_types):\n",
    "    categorical_scatter(data=adata,\n",
    "                            ax=ax,\n",
    "                            coord_base='spatial_rotated',\n",
    "                            hue=adata.obs['annot'].isin([ct]),\n",
    "                            #text_anno='leiden',\n",
    "                            show_legend=False,\n",
    "                            palette = {\n",
    "                                        True: 'red',\n",
    "                                        False: 'lightgrey'\n",
    "                                    },\n",
    "                           max_points = None)\n",
    "    ax.set( title = ct) \n",
    "    \n",
    "for ax in axes.ravel()[n_plots:]:\n",
    "    ax.axis('off')\n",
    "    \n",
    "fig.savefig('./fig/spatial_annot_seperate.png')"
   ]
  },
  {
   "cell_type": "code",
   "execution_count": null,
   "id": "7ee2f1e0-94c4-4362-8bf5-83d80b6e3e82",
   "metadata": {},
   "outputs": [],
   "source": []
  },
  {
   "cell_type": "code",
   "execution_count": null,
   "id": "6206a933-6679-4baf-a91b-87c2662e4fcf",
   "metadata": {},
   "outputs": [],
   "source": []
  },
  {
   "cell_type": "code",
   "execution_count": null,
   "id": "a66e16e6-6efb-41d2-89af-dd2bf2c0be7b",
   "metadata": {},
   "outputs": [],
   "source": []
  }
 ],
 "metadata": {
  "kernelspec": {
   "display_name": "Python 3 (ipykernel)",
   "language": "python",
   "name": "python3"
  },
  "language_info": {
   "codemirror_mode": {
    "name": "ipython",
    "version": 3
   },
   "file_extension": ".py",
   "mimetype": "text/x-python",
   "name": "python",
   "nbconvert_exporter": "python",
   "pygments_lexer": "ipython3",
   "version": "3.7.12"
  }
 },
 "nbformat": 4,
 "nbformat_minor": 5
}
