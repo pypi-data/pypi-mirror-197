{
 "cells": [
  {
   "cell_type": "code",
   "execution_count": null,
   "id": "81176507",
   "metadata": {
    "ExecuteTime": {
     "end_time": "2022-06-17T00:52:39.668481Z",
     "start_time": "2022-06-17T00:52:37.757999Z"
    }
   },
   "outputs": [],
   "source": [
    "import pandas as pd\n",
    "import numpy as np\n",
    "import pathlib\n",
    "from wmb import *\n",
    "from ALLCools.plot import *"
   ]
  },
  {
   "cell_type": "code",
   "execution_count": null,
   "id": "eefe7a4a",
   "metadata": {
    "ExecuteTime": {
     "end_time": "2022-06-17T00:52:50.428729Z",
     "start_time": "2022-06-17T00:52:39.670416Z"
    }
   },
   "outputs": [],
   "source": [
    "mc_annot = cemba.get_mc_annot()\n",
    "atac_annot = cemba_atac.get_atac_annot()"
   ]
  },
  {
   "cell_type": "code",
   "execution_count": null,
   "id": "86dc160e",
   "metadata": {
    "ExecuteTime": {
     "end_time": "2022-06-17T00:52:50.434447Z",
     "start_time": "2022-06-17T00:52:50.431117Z"
    }
   },
   "outputs": [],
   "source": [
    "def save_index(cells, file_name, downsample=100000, random_state=0):\n",
    "    cells = pd.Series(cells)\n",
    "    if cells.size > downsample:\n",
    "        cells = cells.sample(downsample, random_state=random_state)\n",
    "    cells.to_csv(file_name, index=None, header=False)"
   ]
  },
  {
   "cell_type": "markdown",
   "id": "a601e944",
   "metadata": {
    "jp-MarkdownHeadingCollapsed": true,
    "tags": []
   },
   "source": [
    "## L1 - Neuron Non-Neuron"
   ]
  },
  {
   "cell_type": "code",
   "execution_count": null,
   "id": "65916f8a",
   "metadata": {
    "ExecuteTime": {
     "end_time": "2022-06-17T00:52:50.456815Z",
     "start_time": "2022-06-17T00:52:50.435550Z"
    }
   },
   "outputs": [],
   "source": [
    "# neuron (not include DG-GC and CB)\n",
    "mc_neurons = ~mc_annot['L1_annot'].isin(['ODC', 'OPC', 'ASC', 'MGC', 'CB', 'CBX', 'DG'])\n",
    "atac_neurons = ~atac_annot['L2_annot'].isin([\n",
    "    'VPIA', 'VLMC', 'MGL', 'PER', 'VEC', 'RGL', 'ASC', 'EPEN', 'BERG', 'OPC',\n",
    "    'IOL', 'OGC', 'GRC', 'GRANGL'\n",
    "])"
   ]
  },
  {
   "cell_type": "code",
   "execution_count": null,
   "id": "b98d6c67",
   "metadata": {
    "ExecuteTime": {
     "end_time": "2022-06-17T00:53:22.496305Z",
     "start_time": "2022-06-17T00:53:20.345557Z"
    }
   },
   "outputs": [],
   "source": [
    "pathlib.Path('../L1/Neuron').mkdir(exist_ok=True, parents=True)\n",
    "save_index(mc_annot.sel(cell=mc_neurons).get_index('cell'),\n",
    "           file_name='../L1/Neuron/mc_cells.txt',\n",
    "           downsample=10000000,\n",
    "           random_state=0)\n",
    "\n",
    "save_index(atac_annot.sel(cell=atac_neurons).get_index('cell'),\n",
    "           file_name='../L1/Neuron/atac_cells.txt',\n",
    "           downsample=10000000,\n",
    "           random_state=0)"
   ]
  },
  {
   "cell_type": "code",
   "execution_count": null,
   "id": "bc416f92",
   "metadata": {},
   "outputs": [],
   "source": [
    "cwd = pathlib.Path().absolute()\n",
    "\n",
    "with open('Snakefile') as f, open('../L1/Snakefile', 'w') as out_f:\n",
    "    snakefile_tmp = f.read()\n",
    "    snakefile_tmp = snakefile_tmp.replace('REPLACE_TEMPLATE_DIR', str(cwd))\n",
    "    snakefile_tmp = snakefile_tmp.replace('REPLACE_DATASET', 'CEMBA_ATAC')\n",
    "    snakefile_tmp = snakefile_tmp.replace('REPLACE_CLUSTER_COL', str('L1'))\n",
    "    snakefile_tmp = snakefile_tmp.replace('REPLACE_INTEGRATION_GROUP_KEY',\n",
    "                                          str('L2'))\n",
    "    snakefile_tmp = snakefile_tmp.replace('REPLACE_INTEGRATION_PLOT_KEY',\n",
    "                                          str('L1_annot'))\n",
    "    snakefile_tmp = snakefile_tmp.replace(\n",
    "        'REPLACE_CATEGORICAL_KEY', str(['L1_annot', 'L2', 'DissectionRegion']))\n",
    "    out_f.write(snakefile_tmp)"
   ]
  },
  {
   "cell_type": "markdown",
   "id": "31aeca2b",
   "metadata": {},
   "source": [
    "## Prepare L2"
   ]
  },
  {
   "cell_type": "code",
   "execution_count": null,
   "id": "5c819aec",
   "metadata": {},
   "outputs": [],
   "source": [
    "mc_groups = pd.read_csv('../L1/Neuron/mc_integration_group.csv.gz',\n",
    "                        index_col=0).squeeze()\n",
    "atac_groups = pd.read_csv('../L1/Neuron/atac_integration_group.csv.gz',\n",
    "                         index_col=0).squeeze()"
   ]
  },
  {
   "cell_type": "code",
   "execution_count": null,
   "id": "3a12cdb8-a96b-4b3f-9d6f-5dede65e742a",
   "metadata": {},
   "outputs": [],
   "source": [
    "mc_groups.value_counts()"
   ]
  },
  {
   "cell_type": "code",
   "execution_count": null,
   "id": "e3c80da3-fd7f-4f7f-92d8-610f99de44cd",
   "metadata": {},
   "outputs": [],
   "source": [
    "atac_groups.value_counts()"
   ]
  },
  {
   "cell_type": "code",
   "execution_count": null,
   "id": "27493c0c",
   "metadata": {},
   "outputs": [],
   "source": [
    "# for L2 Neuron\n",
    "for integration_group in mc_groups.unique():\n",
    "    mc_cells = mc_groups[mc_groups  == integration_group].index\n",
    "    atac_cells = atac_groups[atac_groups == integration_group].index\n",
    "\n",
    "    integration_group = f'InteGroup{integration_group}'\n",
    "    \n",
    "    \n",
    "    if mc_cells.size <= 150 or atac_cells.size <= 150:\n",
    "        print(integration_group)\n",
    "    else:\n",
    "        out_dir = pathlib.Path(f'../L2/Neuron/{integration_group}')\n",
    "        out_dir.mkdir(exist_ok=True, parents=True)\n",
    "        save_index(mc_cells,\n",
    "                   f'../L2/Neuron/{integration_group}/mc_cells.txt',\n",
    "                   downsample=1000000,\n",
    "                   random_state=0)\n",
    "        save_index(atac_cells,\n",
    "                   f'../L2/Neuron/{integration_group}/atac_cells.txt',\n",
    "                   downsample=1000000,\n",
    "                   random_state=0)\n",
    "\n",
    "    \n",
    "cwd = pathlib.Path().absolute()\n",
    "with open('Snakefile') as f, open('../L2/Neuron/Snakefile', 'w') as out_f:\n",
    "    snakefile_tmp = f.read()\n",
    "    snakefile_tmp = snakefile_tmp.replace('REPLACE_TEMPLATE_DIR', str(cwd))\n",
    "    snakefile_tmp = snakefile_tmp.replace('REPLACE_DATASET', 'CEMBA_ATAC')\n",
    "    snakefile_tmp = snakefile_tmp.replace('REPLACE_CLUSTER_COL', str('L2'))\n",
    "    snakefile_tmp = snakefile_tmp.replace('REPLACE_INTEGRATION_GROUP_KEY',\n",
    "                                          str('L3'))\n",
    "    snakefile_tmp = snakefile_tmp.replace('REPLACE_INTEGRATION_PLOT_KEY',\n",
    "                                          str('L2'))\n",
    "    snakefile_tmp = snakefile_tmp.replace(\n",
    "        'REPLACE_CATEGORICAL_KEY', str(['L2', 'L3', 'DissectionRegion']))\n",
    "    out_f.write(snakefile_tmp)"
   ]
  },
  {
   "cell_type": "markdown",
   "id": "3024f210-fb34-4304-b992-e9ae959925c8",
   "metadata": {},
   "source": [
    "### Prepare L4"
   ]
  },
  {
   "cell_type": "code",
   "execution_count": null,
   "id": "026a7d76",
   "metadata": {},
   "outputs": [],
   "source": [
    "import joblib\n",
    "import pathlib\n",
    "import subprocess"
   ]
  },
  {
   "cell_type": "code",
   "execution_count": null,
   "id": "c49b796c",
   "metadata": {},
   "outputs": [],
   "source": [
    "L2_group = []\n",
    "for path in pathlib.Path('../L2/Neuron').glob('InteGroup*'):\n",
    "    L2_group.append(str(path).split('/')[-1])"
   ]
  },
  {
   "cell_type": "code",
   "execution_count": null,
   "id": "6bca3cc1-b5a8-4f16-9ce4-48ade92f724b",
   "metadata": {},
   "outputs": [],
   "source": [
    "L2_group"
   ]
  },
  {
   "cell_type": "code",
   "execution_count": null,
   "id": "40521925",
   "metadata": {
    "ExecuteTime": {
     "end_time": "2022-06-15T04:48:49.968997Z",
     "start_time": "2022-06-15T04:48:49.947343Z"
    }
   },
   "outputs": [],
   "source": [
    "for l2_group in L2_group:\n",
    "    mc_groups = pd.read_csv(f'../L2/Neuron/{l2_group}/mc_integration_group.csv.gz',\n",
    "                        index_col=0).squeeze()\n",
    "    atac_groups = pd.read_csv(f'../L2/Neuron/{l2_group}/atac_integration_group.csv.gz',\n",
    "                         index_col=0).squeeze()\n",
    "    \n",
    "    for integration_group in atac_groups.unique():\n",
    "        mc_cells = mc_groups[mc_groups == integration_group].index\n",
    "        atac_cells = atac_groups[atac_groups == integration_group].index\n",
    "\n",
    "        integration_group = f'{l2_group}_{integration_group}'\n",
    "        if mc_cells.size <= 150 or atac_cells.size <= 150:\n",
    "            print(integration_group)\n",
    "        else:\n",
    "            out_dir = pathlib.Path(f'../L4/Neuron/{integration_group}')\n",
    "            out_dir.mkdir(exist_ok=True, parents=True)\n",
    "\n",
    "            save_index(mc_cells,\n",
    "                       f'../L4/Neuron/{integration_group}/mc_cells.txt',\n",
    "                       downsample=1000000,\n",
    "                       random_state=0)\n",
    "            save_index(atac_cells,\n",
    "                       f'../L4/Neuron/{integration_group}/atac_cells.txt',\n",
    "                       downsample=1000000,\n",
    "                       random_state=0)\n"
   ]
  },
  {
   "cell_type": "code",
   "execution_count": null,
   "id": "9ca67db0",
   "metadata": {},
   "outputs": [],
   "source": [
    "cwd = pathlib.Path().absolute()\n",
    "with open('Snakefile') as f, open('../L4/Neuron/Snakefile', 'w') as out_f:\n",
    "    snakefile_tmp = f.read()\n",
    "    snakefile_tmp = snakefile_tmp.replace('REPLACE_TEMPLATE_DIR', str(cwd))\n",
    "    snakefile_tmp = snakefile_tmp.replace('REPLACE_DATASET', 'CEMBA_ATAC')\n",
    "    snakefile_tmp = snakefile_tmp.replace('REPLACE_CLUSTER_COL', str('L4'))\n",
    "    snakefile_tmp = snakefile_tmp.replace('REPLACE_INTEGRATION_GROUP_KEY',\n",
    "                                          str('L4'))\n",
    "    snakefile_tmp = snakefile_tmp.replace('REPLACE_INTEGRATION_PLOT_KEY',\n",
    "                                          str('L4'))\n",
    "    snakefile_tmp = snakefile_tmp.replace(\n",
    "        'REPLACE_CATEGORICAL_KEY', str(['L3','L4', 'DissectionRegion']))\n",
    "    out_f.write(snakefile_tmp)"
   ]
  },
  {
   "cell_type": "code",
   "execution_count": null,
   "id": "dc8f6d54",
   "metadata": {},
   "outputs": [],
   "source": []
  },
  {
   "cell_type": "code",
   "execution_count": null,
   "id": "f51d5d98",
   "metadata": {},
   "outputs": [],
   "source": []
  },
  {
   "cell_type": "code",
   "execution_count": null,
   "id": "eb3685d0",
   "metadata": {},
   "outputs": [],
   "source": []
  },
  {
   "cell_type": "code",
   "execution_count": null,
   "id": "70ed2b7e",
   "metadata": {},
   "outputs": [],
   "source": []
  },
  {
   "cell_type": "code",
   "execution_count": null,
   "id": "c7ae2ae1",
   "metadata": {},
   "outputs": [],
   "source": []
  },
  {
   "cell_type": "code",
   "execution_count": null,
   "id": "204ad797",
   "metadata": {},
   "outputs": [],
   "source": []
  },
  {
   "cell_type": "code",
   "execution_count": null,
   "id": "9ec15c0a",
   "metadata": {},
   "outputs": [],
   "source": []
  },
  {
   "cell_type": "code",
   "execution_count": null,
   "id": "db05acbb",
   "metadata": {},
   "outputs": [],
   "source": []
  },
  {
   "cell_type": "code",
   "execution_count": null,
   "id": "74986419",
   "metadata": {},
   "outputs": [],
   "source": []
  },
  {
   "cell_type": "code",
   "execution_count": null,
   "id": "651c2c2a",
   "metadata": {},
   "outputs": [],
   "source": []
  },
  {
   "cell_type": "code",
   "execution_count": null,
   "id": "a61351e8",
   "metadata": {},
   "outputs": [],
   "source": []
  }
 ],
 "metadata": {
  "hide_input": false,
  "kernelspec": {
   "display_name": "Python 3 (ipykernel)",
   "language": "python",
   "name": "python3"
  },
  "language_info": {
   "codemirror_mode": {
    "name": "ipython",
    "version": 3
   },
   "file_extension": ".py",
   "mimetype": "text/x-python",
   "name": "python",
   "nbconvert_exporter": "python",
   "pygments_lexer": "ipython3",
   "version": "3.8.13"
  },
  "toc": {
   "base_numbering": 1,
   "nav_menu": {},
   "number_sections": true,
   "sideBar": true,
   "skip_h1_title": true,
   "title_cell": "Table of Contents",
   "title_sidebar": "Contents",
   "toc_cell": false,
   "toc_position": {},
   "toc_section_display": true,
   "toc_window_display": true
  }
 },
 "nbformat": 4,
 "nbformat_minor": 5
}
