{
 "cells": [
  {
   "cell_type": "code",
   "execution_count": null,
   "id": "654919d4",
   "metadata": {
    "ExecuteTime": {
     "end_time": "2022-06-27T17:54:39.251011Z",
     "start_time": "2022-06-27T17:54:33.001838Z"
    }
   },
   "outputs": [],
   "source": [
    "from ALLCools.mcds import MCDS\n",
    "from ALLCools.plot import *\n",
    "from ALLCools.integration import confusion_matrix_clustering\n",
    "\n",
    "from wmb import *\n",
    "\n",
    "import pandas as pd\n",
    "import numpy as np\n",
    "import anndata\n",
    "import matplotlib.pyplot as plt\n",
    "import seaborn as sns"
   ]
  },
  {
   "cell_type": "code",
   "execution_count": null,
   "id": "594262ad",
   "metadata": {
    "ExecuteTime": {
     "end_time": "2022-06-27T17:54:39.289527Z",
     "start_time": "2022-06-27T17:54:39.287456Z"
    },
    "tags": [
     "parameters"
    ]
   },
   "outputs": [],
   "source": [
    "category_key = 'L2'\n",
    "plot_key = 'L2'\n",
    "dataset = 'AIBS_SMART'"
   ]
  },
  {
   "cell_type": "code",
   "execution_count": null,
   "id": "397fd2a3",
   "metadata": {
    "ExecuteTime": {
     "end_time": "2022-06-27T17:54:46.111832Z",
     "start_time": "2022-06-27T17:54:39.291392Z"
    }
   },
   "outputs": [],
   "source": [
    "mc_annot = cemba.get_mc_annot()\n",
    "\n",
    "atac_annot = cemba_atac.get_atac_annot()"
   ]
  },
  {
   "cell_type": "code",
   "execution_count": null,
   "id": "c87cb4ee",
   "metadata": {
    "ExecuteTime": {
     "end_time": "2022-06-27T17:54:46.290590Z",
     "start_time": "2022-06-27T17:54:46.114220Z"
    }
   },
   "outputs": [],
   "source": [
    "adata_merge = anndata.read_h5ad('final_with_coords.h5ad')"
   ]
  },
  {
   "cell_type": "code",
   "execution_count": null,
   "id": "2ebf11ae",
   "metadata": {
    "ExecuteTime": {
     "end_time": "2022-06-27T17:54:46.297425Z",
     "start_time": "2022-06-27T17:54:46.292671Z"
    }
   },
   "outputs": [],
   "source": [
    "adata_merge"
   ]
  },
  {
   "cell_type": "code",
   "execution_count": null,
   "id": "d100edd5",
   "metadata": {
    "ExecuteTime": {
     "end_time": "2022-06-27T17:54:46.362480Z",
     "start_time": "2022-06-27T17:54:46.309522Z"
    }
   },
   "outputs": [],
   "source": [
    "atac_adata = adata_merge[adata_merge.obs['Modality'] == 'ATAC'].copy()\n",
    "mc_adata = adata_merge[adata_merge.obs['Modality'] == 'mC'].copy()"
   ]
  },
  {
   "cell_type": "code",
   "execution_count": null,
   "id": "8632102d",
   "metadata": {
    "ExecuteTime": {
     "end_time": "2022-06-27T17:54:46.371587Z",
     "start_time": "2022-06-27T17:54:46.364638Z"
    }
   },
   "outputs": [],
   "source": [
    "atac_meta = adata_merge.obs[adata_merge.obs['Modality'] == 'ATAC'].copy()\n",
    "mc_meta = adata_merge.obs[adata_merge.obs['Modality'] == 'mC'].copy()"
   ]
  },
  {
   "cell_type": "markdown",
   "id": "6cbd77da",
   "metadata": {},
   "source": [
    "## Determine integration group\n",
    "In ATAC L2 resolution, assign ATAC L2 to its most probable mC clusters where the sum of probability > 0.95"
   ]
  },
  {
   "cell_type": "code",
   "execution_count": null,
   "id": "8501f117",
   "metadata": {
    "ExecuteTime": {
     "end_time": "2022-06-27T17:54:46.702510Z",
     "start_time": "2022-06-27T17:54:46.373318Z"
    }
   },
   "outputs": [],
   "source": [
    "confusion_matrix = pd.read_hdf(f'{category_key}.overlap_score.hdf')"
   ]
  },
  {
   "cell_type": "code",
   "execution_count": null,
   "id": "3fbdf1c5",
   "metadata": {
    "ExecuteTime": {
     "end_time": "2022-06-27T17:54:48.391420Z",
     "start_time": "2022-06-27T17:54:46.704726Z"
    }
   },
   "outputs": [],
   "source": [
    "row_group, col_group, confusion_matrix, diag_score = confusion_matrix_clustering(\n",
    "    confusion_matrix, min_value=0, max_value=0.9)\n",
    "\n",
    "print(f'Diagonal Score: {diag_score:.2f}')"
   ]
  },
  {
   "cell_type": "code",
   "execution_count": null,
   "id": "7d19801f",
   "metadata": {
    "ExecuteTime": {
     "end_time": "2022-06-27T17:54:49.588462Z",
     "start_time": "2022-06-27T17:54:48.393657Z"
    }
   },
   "outputs": [],
   "source": [
    "fig, ax = plt.subplots(figsize=(8, 7), dpi=300)\n",
    "sns.heatmap(confusion_matrix, ax=ax, vmin=0, vmax=0.5)"
   ]
  },
  {
   "cell_type": "code",
   "execution_count": null,
   "id": "075c0efa",
   "metadata": {
    "ExecuteTime": {
     "end_time": "2022-06-27T17:54:49.600504Z",
     "start_time": "2022-06-27T17:54:49.591732Z"
    }
   },
   "outputs": [],
   "source": [
    "atac_adata.obs['InteGroup'] = atac_adata.obs[category_key].map(row_group)\n",
    "atac_adata.obs['InteGroup'].value_counts()"
   ]
  },
  {
   "cell_type": "code",
   "execution_count": null,
   "id": "1522205c",
   "metadata": {
    "ExecuteTime": {
     "end_time": "2022-06-27T17:54:49.607526Z",
     "start_time": "2022-06-27T17:54:49.602220Z"
    }
   },
   "outputs": [],
   "source": [
    "mc_adata.obs['InteGroup'] = mc_adata.obs[category_key].map(col_group)\n",
    "mc_adata.obs['InteGroup'].value_counts()"
   ]
  },
  {
   "cell_type": "markdown",
   "id": "80964599",
   "metadata": {},
   "source": [
    "## Manual Adjust"
   ]
  },
  {
   "cell_type": "markdown",
   "id": "3bddc852",
   "metadata": {
    "ExecuteTime": {
     "end_time": "2022-06-22T22:21:49.380782Z",
     "start_time": "2022-06-22T22:21:49.378837Z"
    }
   },
   "source": [
    "### Merge Integration Group"
   ]
  },
  {
   "cell_type": "code",
   "execution_count": null,
   "id": "3c0e9699",
   "metadata": {
    "ExecuteTime": {
     "end_time": "2022-06-27T17:55:29.584270Z",
     "start_time": "2022-06-27T17:55:29.577684Z"
    }
   },
   "outputs": [],
   "source": [
    "inte_group_map = {\n",
    "    # if need to merge integration group, add k:v here\n",
    "    # 1: 0,\n",
    "}\n",
    "\n",
    "atac_adata.obs['InteGroup'] = atac_adata.obs['InteGroup'].map(\n",
    "    lambda i: inte_group_map[i] if i in inte_group_map else i)\n",
    "mc_adata.obs['InteGroup'] = mc_adata.obs['InteGroup'].map(\n",
    "    lambda i: inte_group_map[i] if i in inte_group_map else i)"
   ]
  },
  {
   "cell_type": "markdown",
   "id": "439a95a1",
   "metadata": {},
   "source": [
    "### Plot integration groups"
   ]
  },
  {
   "cell_type": "code",
   "execution_count": null,
   "id": "a0feb111",
   "metadata": {
    "ExecuteTime": {
     "end_time": "2022-06-27T17:55:31.060180Z",
     "start_time": "2022-06-27T17:55:31.054927Z"
    }
   },
   "outputs": [],
   "source": [
    "from ALLCools.plot.color import level_one_palette\n",
    "\n",
    "inte_group_palette = level_one_palette(\n",
    "    pd.concat([atac_adata.obs['InteGroup'], mc_adata.obs['InteGroup']]), \n",
    "    palette='tab20'\n",
    ")"
   ]
  },
  {
   "cell_type": "code",
   "execution_count": null,
   "id": "5c5280f6",
   "metadata": {
    "ExecuteTime": {
     "end_time": "2022-06-27T17:55:32.640481Z",
     "start_time": "2022-06-27T17:55:31.498655Z"
    }
   },
   "outputs": [],
   "source": [
    "fig, axes = plt.subplots(figsize=(10, 10), ncols=2, nrows=2, dpi=300)\n",
    "\n",
    "ax = axes[0, 0]\n",
    "categorical_scatter(ax=ax,\n",
    "                    data=atac_adata,\n",
    "                    coord_base='tsne',\n",
    "                    palette='tab20',\n",
    "                    hue=plot_key,\n",
    "                    text_anno=plot_key,\n",
    "                    max_points=None)\n",
    "ax.set(title=f'ATAC {plot_key}')\n",
    "\n",
    "ax = axes[1, 0]\n",
    "categorical_scatter(ax=ax,\n",
    "                    data=atac_adata,\n",
    "                    coord_base='tsne',\n",
    "                    hue='InteGroup',\n",
    "                    text_anno='InteGroup',\n",
    "                    palette=inte_group_palette,\n",
    "                    max_points=None)\n",
    "ax.set(title='ATAC Inte. Group')\n",
    "\n",
    "ax = axes[0, 1]\n",
    "categorical_scatter(ax=ax,\n",
    "                    data=mc_adata,\n",
    "                    coord_base='tsne',\n",
    "                    palette='tab20',\n",
    "                    hue=plot_key,\n",
    "                    text_anno=plot_key,\n",
    "                    max_points=None)\n",
    "ax.set(title=f'mC {plot_key}')\n",
    "ax = axes[1, 1]\n",
    "categorical_scatter(ax=ax,\n",
    "                    data=mc_adata,\n",
    "                    coord_base='tsne',\n",
    "                    hue='InteGroup',\n",
    "                    text_anno='InteGroup',\n",
    "                    palette=inte_group_palette,\n",
    "                    max_points=None)\n",
    "ax.set(title='ATAC Inte. Group')"
   ]
  },
  {
   "cell_type": "markdown",
   "id": "10eb4a29",
   "metadata": {},
   "source": [
    "## Save Integration Group"
   ]
  },
  {
   "cell_type": "code",
   "execution_count": null,
   "id": "2b4fc76a",
   "metadata": {
    "ExecuteTime": {
     "end_time": "2022-06-27T17:55:48.263827Z",
     "start_time": "2022-06-27T17:55:46.563985Z"
    }
   },
   "outputs": [],
   "source": [
    "# map integration group to all cells based on intra-dataset clustering\n",
    "counts = mc_adata.obs.groupby(category_key)['InteGroup'].value_counts()\n",
    "mc_cluster_to_inte_group = {\n",
    "    mc: inte_group\n",
    "    for mc, inte_group in counts[counts > 0].index\n",
    "}\n",
    "mc_cell_inte_group = mc_annot[category_key].to_pandas().map(\n",
    "    mc_cluster_to_inte_group).dropna().astype(int)\n",
    "\n",
    "mc_cell_inte_group.to_csv('mc_integration_group.csv.gz')\n",
    "mc_cell_inte_group.value_counts()"
   ]
  },
  {
   "cell_type": "code",
   "execution_count": null,
   "id": "9a283cff",
   "metadata": {
    "ExecuteTime": {
     "end_time": "2022-06-27T17:55:49.324998Z",
     "start_time": "2022-06-27T17:55:48.266195Z"
    }
   },
   "outputs": [],
   "source": [
    "counts = atac_adata.obs.groupby(category_key)['InteGroup'].value_counts()\n",
    "atac_cluster_to_inte_group = {\n",
    "    atac: inte_group\n",
    "    for atac, inte_group in counts[counts > 0].index\n",
    "}\n",
    "atac_cell_inte_group = atac_annot[category_key].to_pandas().map(\n",
    "    atac_cluster_to_inte_group).dropna().astype(int)\n",
    "\n",
    "atac_cell_inte_group.to_csv('atac_integration_group.csv.gz')\n",
    "atac_cell_inte_group.value_counts()"
   ]
  },
  {
   "cell_type": "markdown",
   "id": "98ee348c",
   "metadata": {},
   "source": [
    "## Plot Individual Group"
   ]
  },
  {
   "cell_type": "markdown",
   "id": "4b083ea8",
   "metadata": {},
   "source": [
    "1. is there mC cluster do not match to any ATAC cluster?\n",
    "2. different separatetion between mC / ATAC"
   ]
  },
  {
   "cell_type": "code",
   "execution_count": null,
   "id": "abc9a690",
   "metadata": {
    "ExecuteTime": {
     "end_time": "2022-06-27T17:55:51.607554Z",
     "start_time": "2022-06-27T17:55:51.601556Z"
    }
   },
   "outputs": [],
   "source": [
    "def plot_single_group(group):\n",
    "    atac_hue = atac_adata.obs['InteGroup'] == group\n",
    "    mc_hue = mc_adata.obs['InteGroup'] == group\n",
    "\n",
    "    fig, axes = plt.subplots(figsize=(10, 10), ncols=2, nrows=2, dpi=300)\n",
    "\n",
    "    ax = axes[0, 0]\n",
    "    categorical_scatter(ax=ax,\n",
    "                        data=atac_adata,\n",
    "                        coord_base='tsne',\n",
    "                        hue='L1_annot',\n",
    "                        text_anno='L1_annot',\n",
    "                        max_points=None)\n",
    "    ax.set(title='ATAC L1 Annot')\n",
    "\n",
    "    ax = axes[1, 0]\n",
    "    categorical_scatter(ax=ax,\n",
    "                        data=atac_adata,\n",
    "                        coord_base='tsne',\n",
    "                        hue=atac_hue,\n",
    "                        palette={\n",
    "                            True: 'red',\n",
    "                            False: 'lightgrey'\n",
    "                        },\n",
    "                        text_anno='InteGroup',\n",
    "                        max_points=None)\n",
    "    ax.set(title='ATAC Inte. Group')\n",
    "\n",
    "    ax = axes[0, 1]\n",
    "    categorical_scatter(ax=ax,\n",
    "                        data=mc_adata,\n",
    "                        coord_base='tsne',\n",
    "                        hue='L1_annot',\n",
    "                        text_anno='L1_annot',\n",
    "                        max_points=None)\n",
    "    ax.set(title='mC L1 Annot')\n",
    "\n",
    "    ax = axes[1, 1]\n",
    "    categorical_scatter(ax=ax,\n",
    "                        data=mc_adata,\n",
    "                        coord_base='tsne',\n",
    "                        hue=mc_hue,\n",
    "                        palette={\n",
    "                            True: 'red',\n",
    "                            False: 'lightgrey'\n",
    "                        },\n",
    "                        text_anno='InteGroup',\n",
    "                        max_points=None)\n",
    "    ax.set(title='ATAC Inte. Group')\n",
    "    return fig"
   ]
  },
  {
   "cell_type": "code",
   "execution_count": null,
   "id": "8897027a",
   "metadata": {
    "ExecuteTime": {
     "end_time": "2022-06-27T17:55:52.552542Z",
     "start_time": "2022-06-27T17:55:52.550061Z"
    }
   },
   "outputs": [],
   "source": [
    "# import matplotlib.backends.backend_pdf\n",
    "# \n",
    "# with matplotlib.backends.backend_pdf.PdfPages(\"integration_groups.pdf\") as pdf:\n",
    "#     for group in atac_adata.obs['InteGroup'].unique():\n",
    "#         fig = plot_single_group(group)\n",
    "#         pdf.savefig(fig)"
   ]
  },
  {
   "cell_type": "code",
   "execution_count": null,
   "id": "01d9ac9c",
   "metadata": {},
   "outputs": [],
   "source": []
  },
  {
   "cell_type": "code",
   "execution_count": null,
   "id": "1d1fedca",
   "metadata": {},
   "outputs": [],
   "source": []
  },
  {
   "cell_type": "code",
   "execution_count": null,
   "id": "fa42bccd",
   "metadata": {},
   "outputs": [],
   "source": []
  },
  {
   "cell_type": "code",
   "execution_count": null,
   "id": "c2bc2b58",
   "metadata": {},
   "outputs": [],
   "source": []
  },
  {
   "cell_type": "code",
   "execution_count": null,
   "id": "2d93f976",
   "metadata": {},
   "outputs": [],
   "source": []
  },
  {
   "cell_type": "code",
   "execution_count": null,
   "id": "af51679b",
   "metadata": {},
   "outputs": [],
   "source": []
  },
  {
   "cell_type": "code",
   "execution_count": null,
   "id": "19360944",
   "metadata": {},
   "outputs": [],
   "source": []
  },
  {
   "cell_type": "code",
   "execution_count": null,
   "id": "cf23ddb2",
   "metadata": {},
   "outputs": [],
   "source": []
  },
  {
   "cell_type": "code",
   "execution_count": null,
   "id": "7e9c9502",
   "metadata": {},
   "outputs": [],
   "source": []
  },
  {
   "cell_type": "code",
   "execution_count": null,
   "id": "fd8f0da1",
   "metadata": {},
   "outputs": [],
   "source": []
  },
  {
   "cell_type": "code",
   "execution_count": null,
   "id": "6003f6e2",
   "metadata": {},
   "outputs": [],
   "source": []
  },
  {
   "cell_type": "code",
   "execution_count": null,
   "id": "40aaeb0c",
   "metadata": {},
   "outputs": [],
   "source": []
  },
  {
   "cell_type": "code",
   "execution_count": null,
   "id": "c8eb6366",
   "metadata": {},
   "outputs": [],
   "source": []
  },
  {
   "cell_type": "code",
   "execution_count": null,
   "id": "23d9d2cf",
   "metadata": {},
   "outputs": [],
   "source": []
  },
  {
   "cell_type": "code",
   "execution_count": null,
   "id": "bab0ebd7",
   "metadata": {},
   "outputs": [],
   "source": []
  },
  {
   "cell_type": "code",
   "execution_count": null,
   "id": "5a4552ce",
   "metadata": {},
   "outputs": [],
   "source": []
  }
 ],
 "metadata": {
  "celltoolbar": "Tags",
  "hide_input": false,
  "kernelspec": {
   "display_name": "Python 3 (ipykernel)",
   "language": "python",
   "name": "python3"
  },
  "language_info": {
   "codemirror_mode": {
    "name": "ipython",
    "version": 3
   },
   "file_extension": ".py",
   "mimetype": "text/x-python",
   "name": "python",
   "nbconvert_exporter": "python",
   "pygments_lexer": "ipython3",
   "version": "3.8.13"
  },
  "toc": {
   "base_numbering": 1,
   "nav_menu": {},
   "number_sections": true,
   "sideBar": true,
   "skip_h1_title": true,
   "title_cell": "Table of Contents",
   "title_sidebar": "Contents",
   "toc_cell": false,
   "toc_position": {},
   "toc_section_display": true,
   "toc_window_display": true
  }
 },
 "nbformat": 4,
 "nbformat_minor": 5
}
