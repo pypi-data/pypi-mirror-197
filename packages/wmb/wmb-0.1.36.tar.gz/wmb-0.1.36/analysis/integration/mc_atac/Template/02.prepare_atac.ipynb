{
 "cells": [
  {
   "cell_type": "markdown",
   "id": "34deaf20",
   "metadata": {
    "pycharm": {
     "name": "#%% md\n"
    }
   },
   "source": [
    "## Import"
   ]
  },
  {
   "cell_type": "code",
   "execution_count": null,
   "id": "eecf846f",
   "metadata": {
    "pycharm": {
     "name": "#%%\n"
    }
   },
   "outputs": [],
   "source": [
    "from ALLCools.clustering import *\n",
    "from ALLCools.mcds import MCDS\n",
    "from wmb import brain, cemba_atac, mm10\n",
    "\n",
    "import pandas as pd\n",
    "import anndata\n",
    "\n",
    "import matplotlib.pyplot as plt\n",
    "from ALLCools.plot import *"
   ]
  },
  {
   "cell_type": "code",
   "execution_count": null,
   "id": "72094c70",
   "metadata": {
    "pycharm": {
     "name": "#%%\n"
    }
   },
   "outputs": [],
   "source": [
    "n_cell = 5\n",
    "zscore_abs_cutoff = 3"
   ]
  },
  {
   "cell_type": "markdown",
   "id": "8a3aa1bf",
   "metadata": {
    "pycharm": {
     "name": "#%% md\n"
    }
   },
   "source": [
    "## Select cells"
   ]
  },
  {
   "cell_type": "code",
   "execution_count": null,
   "id": "f16d1e09",
   "metadata": {
    "ExecuteTime": {
     "end_time": "2022-06-15T05:34:53.417455Z",
     "start_time": "2022-06-15T05:34:53.409122Z"
    },
    "pycharm": {
     "name": "#%%\n"
    }
   },
   "outputs": [],
   "source": [
    "cells = pd.read_csv('atac_cells.txt', index_col=0, header=None).index\n",
    "cells.name = 'cell'\n",
    "cells.size"
   ]
  },
  {
   "cell_type": "markdown",
   "id": "2f339de2",
   "metadata": {
    "pycharm": {
     "name": "#%% md\n"
    }
   },
   "source": [
    "## Get adata with basic feature selection"
   ]
  },
  {
   "cell_type": "code",
   "execution_count": null,
   "id": "76e2c9e7",
   "metadata": {
    "ExecuteTime": {
     "end_time": "2022-06-15T05:34:56.845653Z",
     "start_time": "2022-06-15T05:34:53.418480Z"
    },
    "pycharm": {
     "name": "#%%\n"
    }
   },
   "outputs": [],
   "source": [
    "atac_ds = MCDS.open(cemba_atac.CEMBA_ATAC_ZARR_PATH,\n",
    "                    use_obs=cells,\n",
    "                    var_dim='chrom5k')"
   ]
  },
  {
   "cell_type": "code",
   "execution_count": null,
   "id": "e60a3e5f",
   "metadata": {
    "ExecuteTime": {
     "end_time": "2022-06-15T05:34:56.930451Z",
     "start_time": "2022-06-15T05:34:56.847105Z"
    },
    "pycharm": {
     "name": "#%%\n"
    }
   },
   "outputs": [],
   "source": [
    "atac_ds"
   ]
  },
  {
   "cell_type": "code",
   "execution_count": null,
   "id": "b5de1e5a",
   "metadata": {
    "ExecuteTime": {
     "end_time": "2022-06-15T05:37:42.881802Z",
     "start_time": "2022-06-15T05:34:57.643718Z"
    },
    "pycharm": {
     "name": "#%%\n"
    }
   },
   "outputs": [],
   "source": [
    "adata = atac_ds.get_count_adata(da_name='chrom5k_da',\n",
    "                                binarize_cutoff=0,\n",
    "                                sparse=True,\n",
    "                                loading_chunk=30000)"
   ]
  },
  {
   "cell_type": "markdown",
   "id": "fedf318d",
   "metadata": {
    "pycharm": {
     "name": "#%% md\n"
    }
   },
   "source": [
    "## Basic Feature Filtering"
   ]
  },
  {
   "cell_type": "code",
   "execution_count": null,
   "id": "820d0a28",
   "metadata": {
    "pycharm": {
     "name": "#%%\n"
    }
   },
   "outputs": [],
   "source": [
    "chroms = [\n",
    "    'chr1', 'chr2', 'chr3', 'chr4', 'chr5', 'chr6', 'chr7', 'chr8', 'chr9',\n",
    "    'chr10', 'chr11', 'chr12', 'chr13', 'chr14', 'chr15', 'chr16', 'chr17',\n",
    "    'chr18', 'chr19'\n",
    "]\n",
    "\n",
    "remove_chromosomes(adata, include_chromosomes=chroms)"
   ]
  },
  {
   "cell_type": "code",
   "execution_count": null,
   "id": "c927181e",
   "metadata": {
    "ExecuteTime": {
     "end_time": "2022-06-15T05:37:43.245865Z",
     "start_time": "2022-06-15T05:37:42.884276Z"
    },
    "pycharm": {
     "name": "#%%\n"
    }
   },
   "outputs": [],
   "source": [
    "filter_regions(adata, n_cell=n_cell, zscore_abs_cutoff=zscore_abs_cutoff)"
   ]
  },
  {
   "cell_type": "code",
   "execution_count": null,
   "id": "6dc985e3",
   "metadata": {
    "ExecuteTime": {
     "end_time": "2022-06-15T05:37:43.944684Z",
     "start_time": "2022-06-15T05:37:43.247077Z"
    },
    "pycharm": {
     "name": "#%%\n"
    }
   },
   "outputs": [],
   "source": [
    "remove_black_list_region(adata, black_list_path=mm10.ENCODE_BLACKLIST_PATH)"
   ]
  },
  {
   "cell_type": "code",
   "execution_count": null,
   "id": "39d36e18",
   "metadata": {
    "ExecuteTime": {
     "end_time": "2022-06-15T05:37:44.103007Z",
     "start_time": "2022-06-15T05:37:43.946181Z"
    },
    "pycharm": {
     "name": "#%%\n"
    }
   },
   "outputs": [],
   "source": [
    "adata.write_h5ad('atac_input.h5ad')"
   ]
  },
  {
   "cell_type": "code",
   "execution_count": null,
   "id": "753c3e1d",
   "metadata": {
    "ExecuteTime": {
     "end_time": "2022-06-15T05:37:44.283195Z",
     "start_time": "2022-06-15T05:37:44.104244Z"
    },
    "pycharm": {
     "name": "#%%\n"
    }
   },
   "outputs": [],
   "source": [
    "pd.Series(adata.var_names).to_csv('atac_features.txt', index=None, header=False)"
   ]
  },
  {
   "cell_type": "code",
   "execution_count": null,
   "id": "34934d6a",
   "metadata": {
    "ExecuteTime": {
     "end_time": "2022-06-15T05:37:44.315380Z",
     "start_time": "2022-06-15T05:37:44.312132Z"
    },
    "pycharm": {
     "name": "#%%\n"
    }
   },
   "outputs": [],
   "source": [
    "adata"
   ]
  },
  {
   "cell_type": "code",
   "execution_count": null,
   "id": "576a7480",
   "metadata": {
    "pycharm": {
     "name": "#%%\n"
    }
   },
   "outputs": [],
   "source": []
  },
  {
   "cell_type": "code",
   "execution_count": null,
   "id": "6891988a",
   "metadata": {
    "pycharm": {
     "name": "#%%\n"
    }
   },
   "outputs": [],
   "source": []
  },
  {
   "cell_type": "code",
   "execution_count": null,
   "id": "b3a82800",
   "metadata": {
    "pycharm": {
     "name": "#%%\n"
    }
   },
   "outputs": [],
   "source": []
  }
 ],
 "metadata": {
  "hide_input": false,
  "kernelspec": {
   "display_name": "Python 3 (ipykernel)",
   "language": "python",
   "name": "python3"
  },
  "language_info": {
   "codemirror_mode": {
    "name": "ipython",
    "version": 3
   },
   "file_extension": ".py",
   "mimetype": "text/x-python",
   "name": "python",
   "nbconvert_exporter": "python",
   "pygments_lexer": "ipython3",
   "version": "3.8.13"
  },
  "toc": {
   "base_numbering": 1,
   "nav_menu": {},
   "number_sections": true,
   "sideBar": true,
   "skip_h1_title": true,
   "title_cell": "Table of Contents",
   "title_sidebar": "Contents",
   "toc_cell": false,
   "toc_position": {},
   "toc_section_display": true,
   "toc_window_display": true
  }
 },
 "nbformat": 4,
 "nbformat_minor": 5
}
