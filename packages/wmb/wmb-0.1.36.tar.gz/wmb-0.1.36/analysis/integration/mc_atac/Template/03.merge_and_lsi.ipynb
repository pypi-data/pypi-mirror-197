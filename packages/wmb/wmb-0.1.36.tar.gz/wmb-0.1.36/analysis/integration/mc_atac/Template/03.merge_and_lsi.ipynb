{
 "cells": [
  {
   "cell_type": "code",
   "execution_count": null,
   "id": "fc8a8b6d",
   "metadata": {
    "ExecuteTime": {
     "end_time": "2022-06-15T06:11:08.188018Z",
     "start_time": "2022-06-15T06:11:01.985439Z"
    }
   },
   "outputs": [],
   "source": [
    "from ALLCools.clustering import *\n",
    "import anndata"
   ]
  },
  {
   "cell_type": "markdown",
   "id": "bd6dd2a1",
   "metadata": {},
   "source": [
    "## Merge Adata"
   ]
  },
  {
   "cell_type": "code",
   "execution_count": null,
   "id": "faf92a2f",
   "metadata": {
    "ExecuteTime": {
     "end_time": "2022-06-15T06:11:08.956851Z",
     "start_time": "2022-06-15T06:11:08.189526Z"
    }
   },
   "outputs": [],
   "source": [
    "mc_adata = anndata.read_h5ad('mc_input.h5ad')\n",
    "atac_adata = anndata.read_h5ad('atac_input.h5ad')"
   ]
  },
  {
   "cell_type": "code",
   "execution_count": null,
   "id": "4f97dad6",
   "metadata": {
    "ExecuteTime": {
     "end_time": "2022-06-15T06:11:09.551893Z",
     "start_time": "2022-06-15T06:11:08.958966Z"
    }
   },
   "outputs": [],
   "source": [
    "use_var = mc_adata.var_names.intersection(atac_adata.var_names)\n",
    "mc_adata._inplace_subset_var(use_var)\n",
    "atac_adata._inplace_subset_var(use_var)"
   ]
  },
  {
   "cell_type": "code",
   "execution_count": null,
   "id": "16181217",
   "metadata": {
    "ExecuteTime": {
     "end_time": "2022-06-15T06:11:10.139736Z",
     "start_time": "2022-06-15T06:11:09.553318Z"
    }
   },
   "outputs": [],
   "source": [
    "adata_merge = mc_adata.concatenate(atac_adata,\n",
    "                                   batch_categories=['mC', 'ATAC'],\n",
    "                                   batch_key='Modality',\n",
    "                                   index_unique=None)\n",
    "adata_merge"
   ]
  },
  {
   "cell_type": "markdown",
   "id": "9de25aba",
   "metadata": {},
   "source": [
    "## Run LSI on Merged Adata"
   ]
  },
  {
   "cell_type": "code",
   "execution_count": null,
   "id": "2a642423",
   "metadata": {
    "ExecuteTime": {
     "end_time": "2022-06-15T06:11:10.143366Z",
     "start_time": "2022-06-15T06:11:10.140941Z"
    }
   },
   "outputs": [],
   "source": [
    "model = LSI(scale_factor=10000,\n",
    "            n_components=100,\n",
    "            algorithm=\"randomized\",\n",
    "            random_state=0)"
   ]
  },
  {
   "cell_type": "code",
   "execution_count": null,
   "id": "3027b992",
   "metadata": {},
   "outputs": [],
   "source": [
    "max_cell_per_modality = 100000\n",
    "use_cells = []\n",
    "for m, sub_data in adata_merge.obs.groupby('Modality'):\n",
    "    if sub_data.shape[0] > max_cell_per_modality:\n",
    "        sub_data = sub_data.sample(n=max_cell_per_modality, random_state=0)\n",
    "    use_cells += sub_data.index.tolist()\n",
    "use_cells_judge = adata_merge.obs_names.isin(use_cells)\n",
    "\n",
    "# TODO use only mC cell to fit LSI, then transform all data"
   ]
  },
  {
   "cell_type": "code",
   "execution_count": null,
   "id": "127e0554",
   "metadata": {
    "ExecuteTime": {
     "end_time": "2022-06-15T06:12:10.996954Z",
     "start_time": "2022-06-15T06:11:10.144475Z"
    }
   },
   "outputs": [],
   "source": [
    "model.fit(adata_merge[use_cells_judge, :], downsample=100000)"
   ]
  },
  {
   "cell_type": "code",
   "execution_count": null,
   "id": "af589004",
   "metadata": {},
   "outputs": [],
   "source": [
    "model.transform(adata_merge)"
   ]
  },
  {
   "cell_type": "code",
   "execution_count": null,
   "id": "0aae8489",
   "metadata": {
    "ExecuteTime": {
     "end_time": "2022-06-15T06:12:11.050015Z",
     "start_time": "2022-06-15T06:12:10.999104Z"
    }
   },
   "outputs": [],
   "source": [
    "significant_pc_test(adata_merge, p_cutoff=0.1, obsm='X_lsi')"
   ]
  },
  {
   "cell_type": "code",
   "execution_count": null,
   "id": "e9cc32a9",
   "metadata": {
    "ExecuteTime": {
     "end_time": "2022-06-15T06:12:11.577438Z",
     "start_time": "2022-06-15T06:12:11.051762Z"
    }
   },
   "outputs": [],
   "source": [
    "for m in ['mC', 'ATAC']:\n",
    "    adata = adata_merge[adata_merge.obs['Modality'] == m]\n",
    "    adata.write_h5ad(f'{m.lower()}_lsi.h5ad')"
   ]
  },
  {
   "cell_type": "code",
   "execution_count": null,
   "id": "51ca7335",
   "metadata": {},
   "outputs": [],
   "source": []
  },
  {
   "cell_type": "code",
   "execution_count": null,
   "id": "263724af",
   "metadata": {},
   "outputs": [],
   "source": []
  }
 ],
 "metadata": {
  "hide_input": false,
  "kernelspec": {
   "display_name": "Python 3 (ipykernel)",
   "language": "python",
   "name": "python3"
  },
  "language_info": {
   "codemirror_mode": {
    "name": "ipython",
    "version": 3
   },
   "file_extension": ".py",
   "mimetype": "text/x-python",
   "name": "python",
   "nbconvert_exporter": "python",
   "pygments_lexer": "ipython3",
   "version": "3.8.13"
  },
  "toc": {
   "base_numbering": 1,
   "nav_menu": {},
   "number_sections": true,
   "sideBar": true,
   "skip_h1_title": true,
   "title_cell": "Table of Contents",
   "title_sidebar": "Contents",
   "toc_cell": false,
   "toc_position": {},
   "toc_section_display": true,
   "toc_window_display": true
  }
 },
 "nbformat": 4,
 "nbformat_minor": 5
}
