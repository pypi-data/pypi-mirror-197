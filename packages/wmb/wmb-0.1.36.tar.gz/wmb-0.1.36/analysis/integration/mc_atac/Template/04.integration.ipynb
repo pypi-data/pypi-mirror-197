{
 "cells": [
  {
   "cell_type": "code",
   "execution_count": null,
   "id": "1b082f0a",
   "metadata": {
    "ExecuteTime": {
     "end_time": "2022-06-20T21:09:33.933603Z",
     "start_time": "2022-06-20T21:09:33.930926Z"
    },
    "pycharm": {
     "name": "#%%\n"
    }
   },
   "outputs": [],
   "source": [
    "from ALLCools.clustering import *\n",
    "from wmb import brain, cemba, cemba_atac\n",
    "import numpy as np\n",
    "import pandas as pd\n",
    "import anndata\n",
    "\n",
    "import matplotlib.pyplot as plt\n",
    "from ALLCools.plot import *\n",
    "\n",
    "from ALLCools.integration.seurat_class import SeuratIntegration"
   ]
  },
  {
   "cell_type": "code",
   "execution_count": null,
   "id": "20a00f6f",
   "metadata": {
    "tags": [
     "parameters"
    ]
   },
   "outputs": [],
   "source": [
    "categorical_key = ['L1_annot', 'L2', 'L3', 'DissectionRegion']"
   ]
  },
  {
   "cell_type": "markdown",
   "id": "cb21fd77",
   "metadata": {
    "pycharm": {
     "name": "#%% md\n"
    }
   },
   "source": [
    "## Input LSI before integration"
   ]
  },
  {
   "cell_type": "code",
   "execution_count": null,
   "id": "1a23191e",
   "metadata": {
    "ExecuteTime": {
     "end_time": "2022-06-20T21:07:34.675855Z",
     "start_time": "2022-06-20T21:07:34.454194Z"
    },
    "pycharm": {
     "name": "#%%\n"
    }
   },
   "outputs": [],
   "source": [
    "# each adata contains the input cell-by-5kb-bin matrix in adata.X \n",
    "# and LSI components in adata.obsm['X_lsi']\n",
    "mc_adata = anndata.read_h5ad('mc_lsi.h5ad')\n",
    "atac_adata = anndata.read_h5ad('atac_lsi.h5ad')"
   ]
  },
  {
   "cell_type": "code",
   "execution_count": null,
   "id": "e4824c10",
   "metadata": {
    "ExecuteTime": {
     "end_time": "2022-06-20T21:07:34.677009Z",
     "start_time": "2022-06-20T21:07:34.676998Z"
    },
    "pycharm": {
     "name": "#%%\n"
    }
   },
   "outputs": [],
   "source": [
    "adata_list = [mc_adata, atac_adata]"
   ]
  },
  {
   "cell_type": "markdown",
   "id": "f5323f5a",
   "metadata": {
    "pycharm": {
     "name": "#%% md\n"
    }
   },
   "source": [
    "### Init empty adata_merge"
   ]
  },
  {
   "cell_type": "code",
   "execution_count": null,
   "id": "2932b576",
   "metadata": {
    "pycharm": {
     "name": "#%%\n"
    }
   },
   "outputs": [],
   "source": [
    "# create an empty adata_merge for collecting results and make plots\n",
    "\n",
    "from scipy.sparse import csr_matrix\n",
    "\n",
    "cells = sum([a.shape[0] for a in adata_list])\n",
    "features = adata_list[0].shape[1]\n",
    "\n",
    "adata_merge = anndata.AnnData(X=csr_matrix(([], ([], [])),\n",
    "                                           shape=(cells, features)),\n",
    "                              obs=pd.concat([a.obs for a in adata_list]),\n",
    "                              var=adata_list[0].var)"
   ]
  },
  {
   "cell_type": "code",
   "execution_count": null,
   "id": "3f3d713e",
   "metadata": {
    "ExecuteTime": {
     "end_time": "2022-06-15T07:46:37.442171Z",
     "start_time": "2022-06-15T07:46:28.906881Z"
    },
    "pycharm": {
     "name": "#%%\n"
    }
   },
   "outputs": [],
   "source": [
    "mc_annot = cemba.get_mc_annot()\n",
    "atac_annot = cemba_atac.get_atac_annot()"
   ]
  },
  {
   "cell_type": "code",
   "execution_count": null,
   "id": "befc8a0e",
   "metadata": {
    "ExecuteTime": {
     "end_time": "2022-06-15T07:46:37.451965Z",
     "start_time": "2022-06-15T07:46:37.444788Z"
    },
    "pycharm": {
     "name": "#%%\n"
    }
   },
   "outputs": [],
   "source": [
    "for key in categorical_key:\n",
    "    adata_merge.obs[key] = pd.concat(\n",
    "        [mc_annot[key].to_pandas(), \n",
    "         atac_annot[key].to_pandas()]\n",
    "    ).astype(str)"
   ]
  },
  {
   "cell_type": "code",
   "execution_count": null,
   "id": "4eee1c34",
   "metadata": {
    "ExecuteTime": {
     "end_time": "2022-06-15T07:46:37.476284Z",
     "start_time": "2022-06-15T07:46:37.453079Z"
    },
    "pycharm": {
     "name": "#%%\n"
    }
   },
   "outputs": [],
   "source": [
    "for adata in adata_list:\n",
    "    for key in categorical_key:\n",
    "        adata.obs[key] = adata_merge.obs[key].astype(str)"
   ]
  },
  {
   "cell_type": "code",
   "execution_count": null,
   "id": "1f43b239",
   "metadata": {},
   "outputs": [],
   "source": [
    "adata_list"
   ]
  },
  {
   "cell_type": "markdown",
   "id": "fe3a3a9d",
   "metadata": {
    "pycharm": {
     "name": "#%% md\n"
    }
   },
   "source": [
    "## Integration and transform LSI"
   ]
  },
  {
   "cell_type": "code",
   "execution_count": null,
   "id": "ebdcaeac",
   "metadata": {
    "ExecuteTime": {
     "end_time": "2022-06-15T07:46:37.479698Z",
     "start_time": "2022-06-15T07:46:37.477607Z"
    },
    "pycharm": {
     "name": "#%%\n"
    }
   },
   "outputs": [],
   "source": [
    "integrator = SeuratIntegration()"
   ]
  },
  {
   "cell_type": "code",
   "execution_count": null,
   "id": "8a45a35b",
   "metadata": {
    "ExecuteTime": {
     "end_time": "2022-06-15T07:50:20.891707Z",
     "start_time": "2022-06-15T07:46:38.803254Z"
    },
    "pycharm": {
     "name": "#%%\n"
    }
   },
   "outputs": [],
   "source": [
    "anchor = integrator.find_anchor(\n",
    "    adata_list,\n",
    "    k_local=None,\n",
    "    key_local='X_lsi',\n",
    "    k_anchor=5,\n",
    "    key_anchor='X',\n",
    "    dim_red='lsi',\n",
    "    max_cc_cells=100000,\n",
    "    k_score=30,\n",
    "    k_filter=None,\n",
    "    scale1=False,\n",
    "    scale2=False,\n",
    "    n_components=50,\n",
    "    n_features=200,\n",
    "    alignments=[[[0], [1]]])"
   ]
  },
  {
   "cell_type": "code",
   "execution_count": null,
   "id": "9f56e4e0",
   "metadata": {
    "ExecuteTime": {
     "end_time": "2022-06-15T07:50:24.772668Z",
     "start_time": "2022-06-15T07:50:20.893788Z"
    },
    "pycharm": {
     "name": "#%%\n"
    }
   },
   "outputs": [],
   "source": [
    "corrected = integrator.integrate(key_correct='X_lsi',\n",
    "                                 row_normalize=True,\n",
    "                                 n_components=30,\n",
    "                                 k_weight=100,\n",
    "                                 sd=1,\n",
    "                                 alignments=[[[0], [1]]])\n",
    "\n",
    "adata_merge.obsm['X_lsi_integrate'] = np.concatenate(corrected)"
   ]
  },
  {
   "cell_type": "markdown",
   "id": "1b0ab55c",
   "metadata": {
    "pycharm": {
     "name": "#%% md\n"
    }
   },
   "source": [
    "## Label transfer"
   ]
  },
  {
   "cell_type": "code",
   "execution_count": null,
   "id": "7eb06547",
   "metadata": {
    "ExecuteTime": {
     "end_time": "2022-06-15T07:50:28.796820Z",
     "start_time": "2022-06-15T07:50:24.774526Z"
    },
    "pycharm": {
     "name": "#%%\n"
    }
   },
   "outputs": [],
   "source": [
    "transfer_results = integrator.label_transfer(\n",
    "    ref=[0],\n",
    "    qry=[1],\n",
    "    categorical_key=categorical_key,\n",
    "    key_dist='X_lsi'\n",
    ")"
   ]
  },
  {
   "cell_type": "code",
   "execution_count": null,
   "id": "273c3e93",
   "metadata": {},
   "outputs": [],
   "source": [
    "for k, v in transfer_results.items():\n",
    "    v.to_hdf(f'{k}_transfer.hdf', key='data')"
   ]
  },
  {
   "cell_type": "code",
   "execution_count": null,
   "id": "1c178304",
   "metadata": {
    "ExecuteTime": {
     "end_time": "2022-06-15T07:50:28.821206Z",
     "start_time": "2022-06-15T07:50:28.799230Z"
    },
    "pycharm": {
     "name": "#%%\n"
    }
   },
   "outputs": [],
   "source": [
    "integrator.save_transfer_results_to_adata(adata_merge, transfer_results)"
   ]
  },
  {
   "cell_type": "markdown",
   "id": "504cb48a",
   "metadata": {
    "pycharm": {
     "name": "#%% md\n"
    }
   },
   "source": [
    "## Save"
   ]
  },
  {
   "cell_type": "code",
   "execution_count": null,
   "id": "a8b610a7",
   "metadata": {
    "ExecuteTime": {
     "end_time": "2022-06-15T07:51:17.927133Z",
     "start_time": "2022-06-15T07:51:17.551175Z"
    },
    "pycharm": {
     "name": "#%%\n"
    }
   },
   "outputs": [],
   "source": [
    "adata_merge.write_h5ad('final.h5ad')"
   ]
  },
  {
   "cell_type": "code",
   "execution_count": null,
   "id": "a879d512",
   "metadata": {},
   "outputs": [],
   "source": [
    "adata_merge"
   ]
  },
  {
   "cell_type": "code",
   "execution_count": null,
   "id": "900cde6e",
   "metadata": {
    "pycharm": {
     "name": "#%%\n"
    }
   },
   "outputs": [],
   "source": [
    "integrator.save('integration')"
   ]
  },
  {
   "cell_type": "code",
   "execution_count": null,
   "id": "a6b82e5c",
   "metadata": {
    "pycharm": {
     "name": "#%%\n"
    }
   },
   "outputs": [],
   "source": []
  },
  {
   "cell_type": "code",
   "execution_count": null,
   "id": "1db0538f",
   "metadata": {
    "pycharm": {
     "name": "#%%\n"
    }
   },
   "outputs": [],
   "source": []
  },
  {
   "cell_type": "code",
   "execution_count": null,
   "id": "edcfb8b6",
   "metadata": {
    "pycharm": {
     "name": "#%%\n"
    }
   },
   "outputs": [],
   "source": []
  }
 ],
 "metadata": {
  "celltoolbar": "Tags",
  "hide_input": false,
  "kernelspec": {
   "display_name": "Python 3 (ipykernel)",
   "language": "python",
   "name": "python3"
  },
  "language_info": {
   "codemirror_mode": {
    "name": "ipython",
    "version": 3
   },
   "file_extension": ".py",
   "mimetype": "text/x-python",
   "name": "python",
   "nbconvert_exporter": "python",
   "pygments_lexer": "ipython3",
   "version": "3.8.13"
  },
  "toc": {
   "base_numbering": 1,
   "nav_menu": {},
   "number_sections": true,
   "sideBar": true,
   "skip_h1_title": true,
   "title_cell": "Table of Contents",
   "title_sidebar": "Contents",
   "toc_cell": false,
   "toc_position": {},
   "toc_section_display": true,
   "toc_window_display": true
  }
 },
 "nbformat": 4,
 "nbformat_minor": 5
}
