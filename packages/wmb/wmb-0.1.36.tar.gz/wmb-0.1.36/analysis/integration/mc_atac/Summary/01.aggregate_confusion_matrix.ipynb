{
 "cells": [
  {
   "cell_type": "code",
   "execution_count": 1,
   "id": "2ae99fb5",
   "metadata": {
    "ExecuteTime": {
     "end_time": "2022-07-06T21:28:32.193336Z",
     "start_time": "2022-07-06T21:28:26.477153Z"
    }
   },
   "outputs": [
    {
     "name": "stdout",
     "output_type": "stream",
     "text": [
      "CEMBA_SNM3C_3C_CHROM100K_RAW_ZARR_PATH do not exist: /gale/netapp/cemba3c/BICCN/CEMBA_3C/mcds/CEMBA.snm3C.chrom100k_raw.zarr\n",
      "CEMBA_SNM3C_3C_COMPARTMENT_ZARR_PATH do not exist: /gale/netapp/cemba3c/BICCN/CEMBA_3C/mcds/CEMBA.snm3C.3C.mcds/chrom100k\n",
      "CEMBA_SNM3C_3C_DOMAIN_INSULATION_ZARR_PATH do not exist: /gale/netapp/cemba3c/BICCN/CEMBA_3C/mcds/CEMBA.snm3C.3C.mcds/chrom25k\n",
      "CEMBA_SNM3C_CELL_TYPE_ANNOTATION_PATH do not exist: /gale/netapp/cemba3c/BICCN/wmb/cemba/CEMBA.snm3C.Annotations.zarr\n",
      "CEMBA_SNM3C_GENE_CHUNK_ZARR_PATH do not exist: /gale/netapp/cemba3c/BICCN/wmb/GeneChunks/CEMBA.snm3C\n",
      "CEMBA_SNMC_GENE_CHUNK_ZARR_PATH do not exist: /gale/netapp/cemba3c/BICCN/wmb/GeneChunks/CEMBA.snmC\n",
      "AIBS_SMART_GENE_CHUNK_ZARR_PATH do not exist: /gale/netapp/cemba3c/BICCN/wmb/GeneChunks/AIBS.SMART\n",
      "AIBS_TENX_GENE_CHUNK_ZARR_PATH do not exist: /gale/netapp/cemba3c/BICCN/wmb/GeneChunks/AIBS.TENX\n",
      "BROAD_TENX_GENE_CHUNK_ZARR_PATH do not exist: /gale/netapp/cemba3c/BICCN/wmb/GeneChunks/BROAD.TENX\n"
     ]
    }
   ],
   "source": [
    "import pathlib\n",
    "import numpy as np\n",
    "import pandas as pd\n",
    "import matplotlib.pyplot as plt\n",
    "import seaborn as sns\n",
    "from ALLCools.integration import calculate_diagonal_score\n",
    "\n",
    "from wmb import *"
   ]
  },
  {
   "cell_type": "markdown",
   "id": "c60bfe37",
   "metadata": {},
   "source": [
    "## Parameters"
   ]
  },
  {
   "cell_type": "code",
   "execution_count": 2,
   "id": "07c50c6a",
   "metadata": {
    "ExecuteTime": {
     "end_time": "2022-07-06T21:28:32.201463Z",
     "start_time": "2022-07-06T21:28:32.198102Z"
    }
   },
   "outputs": [],
   "source": [
    "level = 'L2'\n",
    "deep_level = 'L4'\n",
    "category_key = 'L3'\n",
    "deep_category_key = 'L4'"
   ]
  },
  {
   "cell_type": "markdown",
   "id": "692e7570",
   "metadata": {},
   "source": [
    "## Load Annot"
   ]
  },
  {
   "cell_type": "code",
   "execution_count": 3,
   "id": "d0ffbbd6-f429-477d-b942-1f600bc0c0e9",
   "metadata": {},
   "outputs": [],
   "source": [
    "import anndata\n",
    "adata_merge = anndata.read_h5ad(f'../L1/Neuron/final_with_coords.h5ad')"
   ]
  },
  {
   "cell_type": "code",
   "execution_count": 4,
   "id": "e7163fbd-ea95-4221-9b90-10e527f8d585",
   "metadata": {},
   "outputs": [
    {
     "data": {
      "text/plain": [
       "ATAC    1088328\n",
       "mC       259071\n",
       "Name: Modality, dtype: int64"
      ]
     },
     "execution_count": 4,
     "metadata": {},
     "output_type": "execute_result"
    }
   ],
   "source": [
    "adata_merge.obs['Modality'].value_counts() "
   ]
  },
  {
   "cell_type": "code",
   "execution_count": 5,
   "id": "5ff4e3a8",
   "metadata": {
    "ExecuteTime": {
     "end_time": "2022-07-06T21:28:35.628736Z",
     "start_time": "2022-07-06T21:28:32.204898Z"
    }
   },
   "outputs": [],
   "source": [
    "mc_annot = cemba.get_mc_annot()\n",
    "mc_neurons = ~mc_annot['L1_annot'].isin(\n",
    "    ['ODC', 'OPC', 'ASC', 'MGC', 'CB', 'CBX', 'DG'])\n",
    "mc_annot = mc_annot.sel(cell=mc_neurons)"
   ]
  },
  {
   "cell_type": "code",
   "execution_count": 6,
   "id": "f56a23c0",
   "metadata": {
    "ExecuteTime": {
     "end_time": "2022-07-06T21:28:37.033549Z",
     "start_time": "2022-07-06T21:28:35.631936Z"
    }
   },
   "outputs": [],
   "source": [
    "atac_annot = cemba_atac.get_atac_annot()"
   ]
  },
  {
   "cell_type": "code",
   "execution_count": 7,
   "id": "b6b7850c-8a72-491d-86db-ebabfad6080c",
   "metadata": {},
   "outputs": [],
   "source": [
    "atac_neurons = ~atac_annot['L2_annot'].isin([\n",
    "    'VPIA', 'VLMC', 'MGL', 'PER', 'VEC', 'RGL', 'ASC', 'EPEN', 'BERG', 'OPC','IOL', 'OGC', 'GRC', 'GRANGL'\n",
    "])\n",
    "\n",
    "# due to inconsistent atac_annot, we use integration group here to select cells\n",
    "atac_inte_group = pd.read_csv('../L1/Neuron/atac_integration_group.csv.gz', index_col=0)\n",
    "\n",
    "atac_annot = atac_annot.sel(cell=atac_inte_group.index)"
   ]
  },
  {
   "cell_type": "code",
   "execution_count": 8,
   "id": "89b79fbf",
   "metadata": {
    "ExecuteTime": {
     "end_time": "2022-07-06T21:28:37.070792Z",
     "start_time": "2022-07-06T21:28:37.036254Z"
    }
   },
   "outputs": [],
   "source": [
    "all_mc_cluster = mc_annot[category_key].to_pandas().value_counts().index\n",
    "all_atac_cluster = atac_annot[category_key].to_pandas().value_counts().index"
   ]
  },
  {
   "cell_type": "markdown",
   "id": "17a8c5e3",
   "metadata": {},
   "source": [
    "## Get L1 Confusion"
   ]
  },
  {
   "cell_type": "code",
   "execution_count": 10,
   "id": "3fb92a0a",
   "metadata": {
    "ExecuteTime": {
     "end_time": "2022-07-06T21:28:37.078192Z",
     "start_time": "2022-07-06T21:28:37.073421Z"
    }
   },
   "outputs": [],
   "source": [
    "def extend_confusion_matrix(matrix, mc_in_level, mc_out_level, atac_in_level,\n",
    "                            atac_out_level):\n",
    "    \"\"\"Extend confusion matrix from one cluster resolution to the other deeper resolution\"\"\"\n",
    "    mc_in_to_out = pd.Series(mc_annot[mc_in_level],\n",
    "                             index=mc_annot[mc_out_level]).to_dict() #get the L2 and L4 identity for each cell\n",
    "    mc_in_to_out = pd.Series(\n",
    "        {k: v\n",
    "         for k, v in mc_in_to_out.items() if v in matrix.columns}) #some l2 did not go to L4\n",
    "    atac_in_to_out = pd.Series(atac_annot[atac_in_level],\n",
    "                              index=atac_annot[atac_out_level]).to_dict()\n",
    "    atac_in_to_out = pd.Series(\n",
    "        {k: v\n",
    "         for k, v in atac_in_to_out.items() if v in matrix.index})\n",
    "\n",
    "    matrix = matrix.reindex(pd.Series(mc_in_to_out).values,\n",
    "                            axis=1).reindex(pd.Series(atac_in_to_out).values)\n",
    "    matrix.columns = mc_in_to_out.index\n",
    "    matrix.index = atac_in_to_out.index\n",
    "    return matrix"
   ]
  },
  {
   "cell_type": "code",
   "execution_count": 11,
   "id": "caf2bd89",
   "metadata": {
    "ExecuteTime": {
     "end_time": "2022-07-06T21:28:37.426757Z",
     "start_time": "2022-07-06T21:28:37.080434Z"
    }
   },
   "outputs": [],
   "source": [
    "l1_confusion_matrix = pd.read_hdf(f'../L1/Neuron/L2.overlap_score.hdf')\n",
    "\n",
    "l1_confusion_matrix = extend_confusion_matrix(l1_confusion_matrix,\n",
    "                                              mc_in_level='L2',\n",
    "                                              mc_out_level='L4',\n",
    "                                              atac_in_level='L2',\n",
    "                                              atac_out_level='L4')"
   ]
  },
  {
   "cell_type": "code",
   "execution_count": 12,
   "id": "b5150b07",
   "metadata": {
    "ExecuteTime": {
     "end_time": "2022-07-06T21:28:37.777577Z",
     "start_time": "2022-07-06T21:28:37.429703Z"
    }
   },
   "outputs": [],
   "source": [
    "l1_confusion_matrix.to_hdf('L1_confusion_matrx.L4_clusters.hdf', key='data')"
   ]
  },
  {
   "cell_type": "code",
   "execution_count": 15,
   "id": "ca30a3de-f0a8-4c80-be8c-ee98bdae9f5c",
   "metadata": {},
   "outputs": [],
   "source": [
    "assert l1_confusion_matrix.isna().values.sum() == 0"
   ]
  },
  {
   "cell_type": "code",
   "execution_count": 16,
   "id": "ae7e093d-136f-4ed1-91e5-e71633d73f3a",
   "metadata": {},
   "outputs": [
    {
     "data": {
      "text/html": [
       "<div>\n",
       "<style scoped>\n",
       "    .dataframe tbody tr th:only-of-type {\n",
       "        vertical-align: middle;\n",
       "    }\n",
       "\n",
       "    .dataframe tbody tr th {\n",
       "        vertical-align: top;\n",
       "    }\n",
       "\n",
       "    .dataframe thead th {\n",
       "        text-align: right;\n",
       "    }\n",
       "</style>\n",
       "<table border=\"1\" class=\"dataframe\">\n",
       "  <thead>\n",
       "    <tr style=\"text-align: right;\">\n",
       "      <th></th>\n",
       "      <th>c1_c3_c0_c1</th>\n",
       "      <th>c1_c3_c0_c0</th>\n",
       "      <th>c1_c3_c4_c1</th>\n",
       "      <th>c1_c3_c4_c0</th>\n",
       "      <th>c1_c0_c2_c1</th>\n",
       "      <th>c1_c0_c0_c0</th>\n",
       "      <th>c1_c1_c1_c0</th>\n",
       "      <th>c1_c1_c0_c0</th>\n",
       "      <th>c1_c3_c3_c0</th>\n",
       "      <th>c1_c3_c4_c2</th>\n",
       "      <th>...</th>\n",
       "      <th>c17_c3_c2_c0</th>\n",
       "      <th>c17_c3_c2_c1</th>\n",
       "      <th>c17_c3_c0_c1</th>\n",
       "      <th>c17_c1_c1_c0</th>\n",
       "      <th>c17_c1_c2_c0</th>\n",
       "      <th>c17_c1_c2_c1</th>\n",
       "      <th>c17_c5_c0_c3</th>\n",
       "      <th>c13_c5_c1_c0</th>\n",
       "      <th>c13_c5_c3_c0</th>\n",
       "      <th>c13_c5_c2_c0</th>\n",
       "    </tr>\n",
       "  </thead>\n",
       "  <tbody>\n",
       "    <tr>\n",
       "      <th>3_9_2_11</th>\n",
       "      <td>0.056603</td>\n",
       "      <td>0.056603</td>\n",
       "      <td>0.056603</td>\n",
       "      <td>0.056603</td>\n",
       "      <td>0.936288</td>\n",
       "      <td>0.936288</td>\n",
       "      <td>0.036464</td>\n",
       "      <td>0.036464</td>\n",
       "      <td>0.056603</td>\n",
       "      <td>0.056603</td>\n",
       "      <td>...</td>\n",
       "      <td>0.000045</td>\n",
       "      <td>0.000045</td>\n",
       "      <td>0.000045</td>\n",
       "      <td>0.000022</td>\n",
       "      <td>0.000022</td>\n",
       "      <td>0.000022</td>\n",
       "      <td>0.000045</td>\n",
       "      <td>0.000164</td>\n",
       "      <td>0.000164</td>\n",
       "      <td>0.000164</td>\n",
       "    </tr>\n",
       "    <tr>\n",
       "      <th>3_10_1_8</th>\n",
       "      <td>0.010015</td>\n",
       "      <td>0.010015</td>\n",
       "      <td>0.010015</td>\n",
       "      <td>0.010015</td>\n",
       "      <td>0.010954</td>\n",
       "      <td>0.010954</td>\n",
       "      <td>0.008083</td>\n",
       "      <td>0.008083</td>\n",
       "      <td>0.010015</td>\n",
       "      <td>0.010015</td>\n",
       "      <td>...</td>\n",
       "      <td>0.000064</td>\n",
       "      <td>0.000064</td>\n",
       "      <td>0.000064</td>\n",
       "      <td>0.000013</td>\n",
       "      <td>0.000013</td>\n",
       "      <td>0.000013</td>\n",
       "      <td>0.000064</td>\n",
       "      <td>0.000782</td>\n",
       "      <td>0.000782</td>\n",
       "      <td>0.000782</td>\n",
       "    </tr>\n",
       "    <tr>\n",
       "      <th>3_11_7_13</th>\n",
       "      <td>0.969517</td>\n",
       "      <td>0.969517</td>\n",
       "      <td>0.969517</td>\n",
       "      <td>0.969517</td>\n",
       "      <td>0.032261</td>\n",
       "      <td>0.032261</td>\n",
       "      <td>0.990472</td>\n",
       "      <td>0.990472</td>\n",
       "      <td>0.969517</td>\n",
       "      <td>0.969517</td>\n",
       "      <td>...</td>\n",
       "      <td>0.000037</td>\n",
       "      <td>0.000037</td>\n",
       "      <td>0.000037</td>\n",
       "      <td>0.000037</td>\n",
       "      <td>0.000037</td>\n",
       "      <td>0.000037</td>\n",
       "      <td>0.000018</td>\n",
       "      <td>0.000091</td>\n",
       "      <td>0.000091</td>\n",
       "      <td>0.000091</td>\n",
       "    </tr>\n",
       "    <tr>\n",
       "      <th>3_12_1_1</th>\n",
       "      <td>0.949271</td>\n",
       "      <td>0.949271</td>\n",
       "      <td>0.949271</td>\n",
       "      <td>0.949271</td>\n",
       "      <td>0.047930</td>\n",
       "      <td>0.047930</td>\n",
       "      <td>0.932249</td>\n",
       "      <td>0.932249</td>\n",
       "      <td>0.949271</td>\n",
       "      <td>0.949271</td>\n",
       "      <td>...</td>\n",
       "      <td>0.000099</td>\n",
       "      <td>0.000099</td>\n",
       "      <td>0.000099</td>\n",
       "      <td>0.000079</td>\n",
       "      <td>0.000079</td>\n",
       "      <td>0.000079</td>\n",
       "      <td>0.000099</td>\n",
       "      <td>0.000615</td>\n",
       "      <td>0.000615</td>\n",
       "      <td>0.000615</td>\n",
       "    </tr>\n",
       "    <tr>\n",
       "      <th>3_13_2_7</th>\n",
       "      <td>0.006863</td>\n",
       "      <td>0.006863</td>\n",
       "      <td>0.006863</td>\n",
       "      <td>0.006863</td>\n",
       "      <td>0.007739</td>\n",
       "      <td>0.007739</td>\n",
       "      <td>0.006614</td>\n",
       "      <td>0.006614</td>\n",
       "      <td>0.006863</td>\n",
       "      <td>0.006863</td>\n",
       "      <td>...</td>\n",
       "      <td>0.000050</td>\n",
       "      <td>0.000050</td>\n",
       "      <td>0.000050</td>\n",
       "      <td>0.000025</td>\n",
       "      <td>0.000025</td>\n",
       "      <td>0.000025</td>\n",
       "      <td>0.000050</td>\n",
       "      <td>0.001132</td>\n",
       "      <td>0.001132</td>\n",
       "      <td>0.001132</td>\n",
       "    </tr>\n",
       "    <tr>\n",
       "      <th>...</th>\n",
       "      <td>...</td>\n",
       "      <td>...</td>\n",
       "      <td>...</td>\n",
       "      <td>...</td>\n",
       "      <td>...</td>\n",
       "      <td>...</td>\n",
       "      <td>...</td>\n",
       "      <td>...</td>\n",
       "      <td>...</td>\n",
       "      <td>...</td>\n",
       "      <td>...</td>\n",
       "      <td>...</td>\n",
       "      <td>...</td>\n",
       "      <td>...</td>\n",
       "      <td>...</td>\n",
       "      <td>...</td>\n",
       "      <td>...</td>\n",
       "      <td>...</td>\n",
       "      <td>...</td>\n",
       "      <td>...</td>\n",
       "      <td>...</td>\n",
       "    </tr>\n",
       "    <tr>\n",
       "      <th>2_57_12_8</th>\n",
       "      <td>0.000000</td>\n",
       "      <td>0.000000</td>\n",
       "      <td>0.000000</td>\n",
       "      <td>0.000000</td>\n",
       "      <td>0.000000</td>\n",
       "      <td>0.000000</td>\n",
       "      <td>0.000000</td>\n",
       "      <td>0.000000</td>\n",
       "      <td>0.000000</td>\n",
       "      <td>0.000000</td>\n",
       "      <td>...</td>\n",
       "      <td>0.000214</td>\n",
       "      <td>0.000214</td>\n",
       "      <td>0.000214</td>\n",
       "      <td>0.000214</td>\n",
       "      <td>0.000214</td>\n",
       "      <td>0.000214</td>\n",
       "      <td>0.000214</td>\n",
       "      <td>0.000000</td>\n",
       "      <td>0.000000</td>\n",
       "      <td>0.000000</td>\n",
       "    </tr>\n",
       "    <tr>\n",
       "      <th>2_57_12_7</th>\n",
       "      <td>0.000000</td>\n",
       "      <td>0.000000</td>\n",
       "      <td>0.000000</td>\n",
       "      <td>0.000000</td>\n",
       "      <td>0.000000</td>\n",
       "      <td>0.000000</td>\n",
       "      <td>0.000000</td>\n",
       "      <td>0.000000</td>\n",
       "      <td>0.000000</td>\n",
       "      <td>0.000000</td>\n",
       "      <td>...</td>\n",
       "      <td>0.000214</td>\n",
       "      <td>0.000214</td>\n",
       "      <td>0.000214</td>\n",
       "      <td>0.000214</td>\n",
       "      <td>0.000214</td>\n",
       "      <td>0.000214</td>\n",
       "      <td>0.000214</td>\n",
       "      <td>0.000000</td>\n",
       "      <td>0.000000</td>\n",
       "      <td>0.000000</td>\n",
       "    </tr>\n",
       "    <tr>\n",
       "      <th>2_57_12_6</th>\n",
       "      <td>0.000000</td>\n",
       "      <td>0.000000</td>\n",
       "      <td>0.000000</td>\n",
       "      <td>0.000000</td>\n",
       "      <td>0.000000</td>\n",
       "      <td>0.000000</td>\n",
       "      <td>0.000000</td>\n",
       "      <td>0.000000</td>\n",
       "      <td>0.000000</td>\n",
       "      <td>0.000000</td>\n",
       "      <td>...</td>\n",
       "      <td>0.000214</td>\n",
       "      <td>0.000214</td>\n",
       "      <td>0.000214</td>\n",
       "      <td>0.000214</td>\n",
       "      <td>0.000214</td>\n",
       "      <td>0.000214</td>\n",
       "      <td>0.000214</td>\n",
       "      <td>0.000000</td>\n",
       "      <td>0.000000</td>\n",
       "      <td>0.000000</td>\n",
       "    </tr>\n",
       "    <tr>\n",
       "      <th>2_43_37_12</th>\n",
       "      <td>0.000000</td>\n",
       "      <td>0.000000</td>\n",
       "      <td>0.000000</td>\n",
       "      <td>0.000000</td>\n",
       "      <td>0.000112</td>\n",
       "      <td>0.000112</td>\n",
       "      <td>0.000000</td>\n",
       "      <td>0.000000</td>\n",
       "      <td>0.000000</td>\n",
       "      <td>0.000000</td>\n",
       "      <td>...</td>\n",
       "      <td>0.000000</td>\n",
       "      <td>0.000000</td>\n",
       "      <td>0.000000</td>\n",
       "      <td>0.000000</td>\n",
       "      <td>0.000000</td>\n",
       "      <td>0.000000</td>\n",
       "      <td>0.000000</td>\n",
       "      <td>0.000000</td>\n",
       "      <td>0.000000</td>\n",
       "      <td>0.000000</td>\n",
       "    </tr>\n",
       "    <tr>\n",
       "      <th>2_35_13_5</th>\n",
       "      <td>0.000097</td>\n",
       "      <td>0.000097</td>\n",
       "      <td>0.000097</td>\n",
       "      <td>0.000097</td>\n",
       "      <td>0.000546</td>\n",
       "      <td>0.000546</td>\n",
       "      <td>0.000097</td>\n",
       "      <td>0.000097</td>\n",
       "      <td>0.000097</td>\n",
       "      <td>0.000097</td>\n",
       "      <td>...</td>\n",
       "      <td>0.000000</td>\n",
       "      <td>0.000000</td>\n",
       "      <td>0.000000</td>\n",
       "      <td>0.000000</td>\n",
       "      <td>0.000000</td>\n",
       "      <td>0.000000</td>\n",
       "      <td>0.000000</td>\n",
       "      <td>0.000129</td>\n",
       "      <td>0.000129</td>\n",
       "      <td>0.000129</td>\n",
       "    </tr>\n",
       "  </tbody>\n",
       "</table>\n",
       "<p>9136 rows × 2400 columns</p>\n",
       "</div>"
      ],
      "text/plain": [
       "            c1_c3_c0_c1  c1_c3_c0_c0  c1_c3_c4_c1  c1_c3_c4_c0  c1_c0_c2_c1  \\\n",
       "3_9_2_11       0.056603     0.056603     0.056603     0.056603     0.936288   \n",
       "3_10_1_8       0.010015     0.010015     0.010015     0.010015     0.010954   \n",
       "3_11_7_13      0.969517     0.969517     0.969517     0.969517     0.032261   \n",
       "3_12_1_1       0.949271     0.949271     0.949271     0.949271     0.047930   \n",
       "3_13_2_7       0.006863     0.006863     0.006863     0.006863     0.007739   \n",
       "...                 ...          ...          ...          ...          ...   \n",
       "2_57_12_8      0.000000     0.000000     0.000000     0.000000     0.000000   \n",
       "2_57_12_7      0.000000     0.000000     0.000000     0.000000     0.000000   \n",
       "2_57_12_6      0.000000     0.000000     0.000000     0.000000     0.000000   \n",
       "2_43_37_12     0.000000     0.000000     0.000000     0.000000     0.000112   \n",
       "2_35_13_5      0.000097     0.000097     0.000097     0.000097     0.000546   \n",
       "\n",
       "            c1_c0_c0_c0  c1_c1_c1_c0  c1_c1_c0_c0  c1_c3_c3_c0  c1_c3_c4_c2  \\\n",
       "3_9_2_11       0.936288     0.036464     0.036464     0.056603     0.056603   \n",
       "3_10_1_8       0.010954     0.008083     0.008083     0.010015     0.010015   \n",
       "3_11_7_13      0.032261     0.990472     0.990472     0.969517     0.969517   \n",
       "3_12_1_1       0.047930     0.932249     0.932249     0.949271     0.949271   \n",
       "3_13_2_7       0.007739     0.006614     0.006614     0.006863     0.006863   \n",
       "...                 ...          ...          ...          ...          ...   \n",
       "2_57_12_8      0.000000     0.000000     0.000000     0.000000     0.000000   \n",
       "2_57_12_7      0.000000     0.000000     0.000000     0.000000     0.000000   \n",
       "2_57_12_6      0.000000     0.000000     0.000000     0.000000     0.000000   \n",
       "2_43_37_12     0.000112     0.000000     0.000000     0.000000     0.000000   \n",
       "2_35_13_5      0.000546     0.000097     0.000097     0.000097     0.000097   \n",
       "\n",
       "            ...  c17_c3_c2_c0  c17_c3_c2_c1  c17_c3_c0_c1  c17_c1_c1_c0  \\\n",
       "3_9_2_11    ...      0.000045      0.000045      0.000045      0.000022   \n",
       "3_10_1_8    ...      0.000064      0.000064      0.000064      0.000013   \n",
       "3_11_7_13   ...      0.000037      0.000037      0.000037      0.000037   \n",
       "3_12_1_1    ...      0.000099      0.000099      0.000099      0.000079   \n",
       "3_13_2_7    ...      0.000050      0.000050      0.000050      0.000025   \n",
       "...         ...           ...           ...           ...           ...   \n",
       "2_57_12_8   ...      0.000214      0.000214      0.000214      0.000214   \n",
       "2_57_12_7   ...      0.000214      0.000214      0.000214      0.000214   \n",
       "2_57_12_6   ...      0.000214      0.000214      0.000214      0.000214   \n",
       "2_43_37_12  ...      0.000000      0.000000      0.000000      0.000000   \n",
       "2_35_13_5   ...      0.000000      0.000000      0.000000      0.000000   \n",
       "\n",
       "            c17_c1_c2_c0  c17_c1_c2_c1  c17_c5_c0_c3  c13_c5_c1_c0  \\\n",
       "3_9_2_11        0.000022      0.000022      0.000045      0.000164   \n",
       "3_10_1_8        0.000013      0.000013      0.000064      0.000782   \n",
       "3_11_7_13       0.000037      0.000037      0.000018      0.000091   \n",
       "3_12_1_1        0.000079      0.000079      0.000099      0.000615   \n",
       "3_13_2_7        0.000025      0.000025      0.000050      0.001132   \n",
       "...                  ...           ...           ...           ...   \n",
       "2_57_12_8       0.000214      0.000214      0.000214      0.000000   \n",
       "2_57_12_7       0.000214      0.000214      0.000214      0.000000   \n",
       "2_57_12_6       0.000214      0.000214      0.000214      0.000000   \n",
       "2_43_37_12      0.000000      0.000000      0.000000      0.000000   \n",
       "2_35_13_5       0.000000      0.000000      0.000000      0.000129   \n",
       "\n",
       "            c13_c5_c3_c0  c13_c5_c2_c0  \n",
       "3_9_2_11        0.000164      0.000164  \n",
       "3_10_1_8        0.000782      0.000782  \n",
       "3_11_7_13       0.000091      0.000091  \n",
       "3_12_1_1        0.000615      0.000615  \n",
       "3_13_2_7        0.001132      0.001132  \n",
       "...                  ...           ...  \n",
       "2_57_12_8       0.000000      0.000000  \n",
       "2_57_12_7       0.000000      0.000000  \n",
       "2_57_12_6       0.000000      0.000000  \n",
       "2_43_37_12      0.000000      0.000000  \n",
       "2_35_13_5       0.000129      0.000129  \n",
       "\n",
       "[9136 rows x 2400 columns]"
      ]
     },
     "execution_count": 16,
     "metadata": {},
     "output_type": "execute_result"
    }
   ],
   "source": [
    "l1_confusion_matrix"
   ]
  },
  {
   "cell_type": "markdown",
   "id": "9d824698",
   "metadata": {},
   "source": [
    "## Get Inte L2 Confusion"
   ]
  },
  {
   "cell_type": "code",
   "execution_count": 17,
   "id": "39bdf0e1",
   "metadata": {
    "ExecuteTime": {
     "end_time": "2022-07-06T21:28:37.783350Z",
     "start_time": "2022-07-06T21:28:37.780282Z"
    }
   },
   "outputs": [],
   "source": [
    "def get_inte_groups(path, annot, category):\n",
    "    \"\"\"read cell [mc|atac]_integration_group.csv.gz, return cluster\"\"\"\n",
    "    groups = pd.read_csv(path, index_col=0).squeeze()  # cell to group\n",
    "    groups.index = groups.index.map(\n",
    "        annot[category].to_pandas())  # category to group\n",
    "    groups = pd.Series(groups.to_dict())  # deduplicates\n",
    "    return groups #each category ro integrup"
   ]
  },
  {
   "cell_type": "code",
   "execution_count": 18,
   "id": "de366df5-08a6-4ff4-93b5-c9e807b210c4",
   "metadata": {},
   "outputs": [],
   "source": [
    "for path in pathlib.Path(f'../Neuron/{level}').glob(\n",
    "        f'InteGroup*/{category_key}.overlap_score.hdf'):\n",
    "    group = path.parent.name\n",
    "   "
   ]
  },
  {
   "cell_type": "code",
   "execution_count": 20,
   "id": "98197670",
   "metadata": {
    "ExecuteTime": {
     "end_time": "2022-07-06T21:28:38.808412Z",
     "start_time": "2022-07-06T21:28:37.785688Z"
    }
   },
   "outputs": [
    {
     "name": "stdout",
     "output_type": "stream",
     "text": [
      "InteGroup12 diag score: 1.41\n",
      "InteGroup9 diag score: 7.46\n",
      "InteGroup10 diag score: 5.65\n",
      "InteGroup0 diag score: 16.64\n",
      "InteGroup6 diag score: 5.61\n",
      "InteGroup16 diag score: 1.09\n",
      "InteGroup13 diag score: 3.17\n",
      "InteGroup2 diag score: 8.72\n",
      "InteGroup8 diag score: 5.38\n",
      "InteGroup4 diag score: 7.53\n"
     ]
    }
   ],
   "source": [
    "confusion_matrix_dict = {}\n",
    "row_groups = {}\n",
    "col_groups = {}\n",
    "\n",
    "for path in pathlib.Path(f'../{level}/Neuron').glob(\n",
    "        f'InteGroup*/{category_key}.overlap_score.hdf'):\n",
    "    group = path.parent.name\n",
    "\n",
    "    # integration group\n",
    "    # from leiden clustering on confusion matrix\n",
    "    # may be manually merged in 07.ipynb\n",
    "    row_group = get_inte_groups(path.parent / 'atac_integration_group.csv.gz',\n",
    "                                annot=atac_annot,\n",
    "                                category=category_key)\n",
    "    col_group = get_inte_groups(path.parent / 'mc_integration_group.csv.gz',\n",
    "                                annot=mc_annot,\n",
    "                                category=category_key)\n",
    "    row_groups[group] = row_group\n",
    "    col_groups[group] = col_group\n",
    "\n",
    "    # confusion matrix\n",
    "    df = pd.read_hdf(path)\n",
    "    diag_score = calculate_diagonal_score(df,\n",
    "                                          col_group=col_group,\n",
    "                                          row_group=row_group) #mean score\n",
    "    print(f'{group} diag score: {diag_score:.2f}')\n",
    "\n",
    "    df.index.name = f'atac.{category_key}'\n",
    "    df.columns.name = f'mC.{category_key}'\n",
    "    # reorder row and col based on inte groups\n",
    "    df = df.loc[row_group.sort_values().index,\n",
    "                col_group.sort_values().index].copy()\n",
    "    confusion_matrix_dict[group] = df\n",
    "\n",
    "all_confusion = pd.concat(confusion_matrix_dict.values())"
   ]
  },
  {
   "cell_type": "code",
   "execution_count": 21,
   "id": "dd931946",
   "metadata": {
    "ExecuteTime": {
     "end_time": "2022-07-06T21:28:38.844083Z",
     "start_time": "2022-07-06T21:28:38.811081Z"
    }
   },
   "outputs": [
    {
     "data": {
      "text/html": [
       "<div>\n",
       "<style scoped>\n",
       "    .dataframe tbody tr th:only-of-type {\n",
       "        vertical-align: middle;\n",
       "    }\n",
       "\n",
       "    .dataframe tbody tr th {\n",
       "        vertical-align: top;\n",
       "    }\n",
       "\n",
       "    .dataframe thead th {\n",
       "        text-align: right;\n",
       "    }\n",
       "</style>\n",
       "<table border=\"1\" class=\"dataframe\">\n",
       "  <thead>\n",
       "    <tr style=\"text-align: right;\">\n",
       "      <th></th>\n",
       "      <th>c38_c4_c0</th>\n",
       "      <th>c22_c1_c2</th>\n",
       "      <th>c22_c2_c0</th>\n",
       "      <th>c22_c2_c1</th>\n",
       "      <th>c22_c0_c5</th>\n",
       "      <th>c22_c0_c4</th>\n",
       "      <th>c38_c4_c1</th>\n",
       "      <th>c22_c0_c3</th>\n",
       "      <th>c22_c0_c1</th>\n",
       "      <th>c22_c2_c2</th>\n",
       "      <th>...</th>\n",
       "      <th>c30_c0_c1</th>\n",
       "      <th>c30_c0_c2</th>\n",
       "      <th>c24_c3_c1</th>\n",
       "      <th>c24_c0_c0</th>\n",
       "      <th>c24_c3_c4</th>\n",
       "      <th>c24_c3_c2</th>\n",
       "      <th>c24_c3_c3</th>\n",
       "      <th>c24_c2_c1</th>\n",
       "      <th>c24_c2_c0</th>\n",
       "      <th>c24_c3_c0</th>\n",
       "    </tr>\n",
       "  </thead>\n",
       "  <tbody>\n",
       "    <tr>\n",
       "      <th>2_57_1</th>\n",
       "      <td>0.000000</td>\n",
       "      <td>0.005515</td>\n",
       "      <td>0.005515</td>\n",
       "      <td>0.007353</td>\n",
       "      <td>0.007353</td>\n",
       "      <td>0.007353</td>\n",
       "      <td>0.000000</td>\n",
       "      <td>0.005515</td>\n",
       "      <td>0.019187</td>\n",
       "      <td>0.007353</td>\n",
       "      <td>...</td>\n",
       "      <td>NaN</td>\n",
       "      <td>NaN</td>\n",
       "      <td>NaN</td>\n",
       "      <td>NaN</td>\n",
       "      <td>NaN</td>\n",
       "      <td>NaN</td>\n",
       "      <td>NaN</td>\n",
       "      <td>NaN</td>\n",
       "      <td>NaN</td>\n",
       "      <td>NaN</td>\n",
       "    </tr>\n",
       "    <tr>\n",
       "      <th>2_60_14</th>\n",
       "      <td>0.004926</td>\n",
       "      <td>0.042377</td>\n",
       "      <td>0.379310</td>\n",
       "      <td>0.546798</td>\n",
       "      <td>0.408943</td>\n",
       "      <td>0.472959</td>\n",
       "      <td>0.004926</td>\n",
       "      <td>0.543871</td>\n",
       "      <td>0.604017</td>\n",
       "      <td>0.248936</td>\n",
       "      <td>...</td>\n",
       "      <td>NaN</td>\n",
       "      <td>NaN</td>\n",
       "      <td>NaN</td>\n",
       "      <td>NaN</td>\n",
       "      <td>NaN</td>\n",
       "      <td>NaN</td>\n",
       "      <td>NaN</td>\n",
       "      <td>NaN</td>\n",
       "      <td>NaN</td>\n",
       "      <td>NaN</td>\n",
       "    </tr>\n",
       "    <tr>\n",
       "      <th>2_60_20</th>\n",
       "      <td>0.005556</td>\n",
       "      <td>0.067949</td>\n",
       "      <td>0.611908</td>\n",
       "      <td>0.811382</td>\n",
       "      <td>0.541085</td>\n",
       "      <td>0.603226</td>\n",
       "      <td>0.005556</td>\n",
       "      <td>0.183005</td>\n",
       "      <td>0.510026</td>\n",
       "      <td>0.374747</td>\n",
       "      <td>...</td>\n",
       "      <td>NaN</td>\n",
       "      <td>NaN</td>\n",
       "      <td>NaN</td>\n",
       "      <td>NaN</td>\n",
       "      <td>NaN</td>\n",
       "      <td>NaN</td>\n",
       "      <td>NaN</td>\n",
       "      <td>NaN</td>\n",
       "      <td>NaN</td>\n",
       "      <td>NaN</td>\n",
       "    </tr>\n",
       "    <tr>\n",
       "      <th>2_57_17</th>\n",
       "      <td>0.000000</td>\n",
       "      <td>0.012821</td>\n",
       "      <td>0.166667</td>\n",
       "      <td>0.166667</td>\n",
       "      <td>0.166667</td>\n",
       "      <td>0.166667</td>\n",
       "      <td>0.000000</td>\n",
       "      <td>0.088561</td>\n",
       "      <td>0.178501</td>\n",
       "      <td>0.056818</td>\n",
       "      <td>...</td>\n",
       "      <td>NaN</td>\n",
       "      <td>NaN</td>\n",
       "      <td>NaN</td>\n",
       "      <td>NaN</td>\n",
       "      <td>NaN</td>\n",
       "      <td>NaN</td>\n",
       "      <td>NaN</td>\n",
       "      <td>NaN</td>\n",
       "      <td>NaN</td>\n",
       "      <td>NaN</td>\n",
       "    </tr>\n",
       "    <tr>\n",
       "      <th>2_60_12</th>\n",
       "      <td>0.000000</td>\n",
       "      <td>0.043794</td>\n",
       "      <td>0.623894</td>\n",
       "      <td>0.603410</td>\n",
       "      <td>0.640495</td>\n",
       "      <td>0.702636</td>\n",
       "      <td>0.000000</td>\n",
       "      <td>0.411782</td>\n",
       "      <td>0.514662</td>\n",
       "      <td>0.118765</td>\n",
       "      <td>...</td>\n",
       "      <td>NaN</td>\n",
       "      <td>NaN</td>\n",
       "      <td>NaN</td>\n",
       "      <td>NaN</td>\n",
       "      <td>NaN</td>\n",
       "      <td>NaN</td>\n",
       "      <td>NaN</td>\n",
       "      <td>NaN</td>\n",
       "      <td>NaN</td>\n",
       "      <td>NaN</td>\n",
       "    </tr>\n",
       "    <tr>\n",
       "      <th>...</th>\n",
       "      <td>...</td>\n",
       "      <td>...</td>\n",
       "      <td>...</td>\n",
       "      <td>...</td>\n",
       "      <td>...</td>\n",
       "      <td>...</td>\n",
       "      <td>...</td>\n",
       "      <td>...</td>\n",
       "      <td>...</td>\n",
       "      <td>...</td>\n",
       "      <td>...</td>\n",
       "      <td>...</td>\n",
       "      <td>...</td>\n",
       "      <td>...</td>\n",
       "      <td>...</td>\n",
       "      <td>...</td>\n",
       "      <td>...</td>\n",
       "      <td>...</td>\n",
       "      <td>...</td>\n",
       "      <td>...</td>\n",
       "      <td>...</td>\n",
       "    </tr>\n",
       "    <tr>\n",
       "      <th>3_25_8</th>\n",
       "      <td>NaN</td>\n",
       "      <td>NaN</td>\n",
       "      <td>NaN</td>\n",
       "      <td>NaN</td>\n",
       "      <td>NaN</td>\n",
       "      <td>NaN</td>\n",
       "      <td>NaN</td>\n",
       "      <td>NaN</td>\n",
       "      <td>NaN</td>\n",
       "      <td>NaN</td>\n",
       "      <td>...</td>\n",
       "      <td>0.005780</td>\n",
       "      <td>0.005780</td>\n",
       "      <td>0.000000</td>\n",
       "      <td>0.994220</td>\n",
       "      <td>0.000000</td>\n",
       "      <td>0.016393</td>\n",
       "      <td>0.000000</td>\n",
       "      <td>0.994220</td>\n",
       "      <td>0.994220</td>\n",
       "      <td>0.961538</td>\n",
       "    </tr>\n",
       "    <tr>\n",
       "      <th>3_25_0</th>\n",
       "      <td>NaN</td>\n",
       "      <td>NaN</td>\n",
       "      <td>NaN</td>\n",
       "      <td>NaN</td>\n",
       "      <td>NaN</td>\n",
       "      <td>NaN</td>\n",
       "      <td>NaN</td>\n",
       "      <td>NaN</td>\n",
       "      <td>NaN</td>\n",
       "      <td>NaN</td>\n",
       "      <td>...</td>\n",
       "      <td>0.000371</td>\n",
       "      <td>0.000371</td>\n",
       "      <td>0.000000</td>\n",
       "      <td>0.999629</td>\n",
       "      <td>0.000000</td>\n",
       "      <td>0.016393</td>\n",
       "      <td>0.000000</td>\n",
       "      <td>0.999629</td>\n",
       "      <td>0.999629</td>\n",
       "      <td>0.961538</td>\n",
       "    </tr>\n",
       "    <tr>\n",
       "      <th>3_25_10</th>\n",
       "      <td>NaN</td>\n",
       "      <td>NaN</td>\n",
       "      <td>NaN</td>\n",
       "      <td>NaN</td>\n",
       "      <td>NaN</td>\n",
       "      <td>NaN</td>\n",
       "      <td>NaN</td>\n",
       "      <td>NaN</td>\n",
       "      <td>NaN</td>\n",
       "      <td>NaN</td>\n",
       "      <td>...</td>\n",
       "      <td>0.005597</td>\n",
       "      <td>0.005597</td>\n",
       "      <td>0.003731</td>\n",
       "      <td>0.925373</td>\n",
       "      <td>0.003731</td>\n",
       "      <td>0.020125</td>\n",
       "      <td>0.003731</td>\n",
       "      <td>0.925373</td>\n",
       "      <td>0.925373</td>\n",
       "      <td>0.929104</td>\n",
       "    </tr>\n",
       "    <tr>\n",
       "      <th>3_25_4</th>\n",
       "      <td>NaN</td>\n",
       "      <td>NaN</td>\n",
       "      <td>NaN</td>\n",
       "      <td>NaN</td>\n",
       "      <td>NaN</td>\n",
       "      <td>NaN</td>\n",
       "      <td>NaN</td>\n",
       "      <td>NaN</td>\n",
       "      <td>NaN</td>\n",
       "      <td>NaN</td>\n",
       "      <td>...</td>\n",
       "      <td>0.000575</td>\n",
       "      <td>0.000575</td>\n",
       "      <td>0.000000</td>\n",
       "      <td>0.999425</td>\n",
       "      <td>0.000000</td>\n",
       "      <td>0.016393</td>\n",
       "      <td>0.000000</td>\n",
       "      <td>0.999425</td>\n",
       "      <td>0.999425</td>\n",
       "      <td>0.961538</td>\n",
       "    </tr>\n",
       "    <tr>\n",
       "      <th>3_9_16</th>\n",
       "      <td>NaN</td>\n",
       "      <td>NaN</td>\n",
       "      <td>NaN</td>\n",
       "      <td>NaN</td>\n",
       "      <td>NaN</td>\n",
       "      <td>NaN</td>\n",
       "      <td>NaN</td>\n",
       "      <td>NaN</td>\n",
       "      <td>NaN</td>\n",
       "      <td>NaN</td>\n",
       "      <td>...</td>\n",
       "      <td>0.005277</td>\n",
       "      <td>0.005277</td>\n",
       "      <td>0.920844</td>\n",
       "      <td>0.021988</td>\n",
       "      <td>0.920844</td>\n",
       "      <td>0.937238</td>\n",
       "      <td>0.920844</td>\n",
       "      <td>0.021988</td>\n",
       "      <td>0.021988</td>\n",
       "      <td>0.060449</td>\n",
       "    </tr>\n",
       "  </tbody>\n",
       "</table>\n",
       "<p>860 rows × 1236 columns</p>\n",
       "</div>"
      ],
      "text/plain": [
       "         c38_c4_c0  c22_c1_c2  c22_c2_c0  c22_c2_c1  c22_c0_c5  c22_c0_c4  \\\n",
       "2_57_1    0.000000   0.005515   0.005515   0.007353   0.007353   0.007353   \n",
       "2_60_14   0.004926   0.042377   0.379310   0.546798   0.408943   0.472959   \n",
       "2_60_20   0.005556   0.067949   0.611908   0.811382   0.541085   0.603226   \n",
       "2_57_17   0.000000   0.012821   0.166667   0.166667   0.166667   0.166667   \n",
       "2_60_12   0.000000   0.043794   0.623894   0.603410   0.640495   0.702636   \n",
       "...            ...        ...        ...        ...        ...        ...   \n",
       "3_25_8         NaN        NaN        NaN        NaN        NaN        NaN   \n",
       "3_25_0         NaN        NaN        NaN        NaN        NaN        NaN   \n",
       "3_25_10        NaN        NaN        NaN        NaN        NaN        NaN   \n",
       "3_25_4         NaN        NaN        NaN        NaN        NaN        NaN   \n",
       "3_9_16         NaN        NaN        NaN        NaN        NaN        NaN   \n",
       "\n",
       "         c38_c4_c1  c22_c0_c3  c22_c0_c1  c22_c2_c2  ...  c30_c0_c1  \\\n",
       "2_57_1    0.000000   0.005515   0.019187   0.007353  ...        NaN   \n",
       "2_60_14   0.004926   0.543871   0.604017   0.248936  ...        NaN   \n",
       "2_60_20   0.005556   0.183005   0.510026   0.374747  ...        NaN   \n",
       "2_57_17   0.000000   0.088561   0.178501   0.056818  ...        NaN   \n",
       "2_60_12   0.000000   0.411782   0.514662   0.118765  ...        NaN   \n",
       "...            ...        ...        ...        ...  ...        ...   \n",
       "3_25_8         NaN        NaN        NaN        NaN  ...   0.005780   \n",
       "3_25_0         NaN        NaN        NaN        NaN  ...   0.000371   \n",
       "3_25_10        NaN        NaN        NaN        NaN  ...   0.005597   \n",
       "3_25_4         NaN        NaN        NaN        NaN  ...   0.000575   \n",
       "3_9_16         NaN        NaN        NaN        NaN  ...   0.005277   \n",
       "\n",
       "         c30_c0_c2  c24_c3_c1  c24_c0_c0  c24_c3_c4  c24_c3_c2  c24_c3_c3  \\\n",
       "2_57_1         NaN        NaN        NaN        NaN        NaN        NaN   \n",
       "2_60_14        NaN        NaN        NaN        NaN        NaN        NaN   \n",
       "2_60_20        NaN        NaN        NaN        NaN        NaN        NaN   \n",
       "2_57_17        NaN        NaN        NaN        NaN        NaN        NaN   \n",
       "2_60_12        NaN        NaN        NaN        NaN        NaN        NaN   \n",
       "...            ...        ...        ...        ...        ...        ...   \n",
       "3_25_8    0.005780   0.000000   0.994220   0.000000   0.016393   0.000000   \n",
       "3_25_0    0.000371   0.000000   0.999629   0.000000   0.016393   0.000000   \n",
       "3_25_10   0.005597   0.003731   0.925373   0.003731   0.020125   0.003731   \n",
       "3_25_4    0.000575   0.000000   0.999425   0.000000   0.016393   0.000000   \n",
       "3_9_16    0.005277   0.920844   0.021988   0.920844   0.937238   0.920844   \n",
       "\n",
       "         c24_c2_c1  c24_c2_c0  c24_c3_c0  \n",
       "2_57_1         NaN        NaN        NaN  \n",
       "2_60_14        NaN        NaN        NaN  \n",
       "2_60_20        NaN        NaN        NaN  \n",
       "2_57_17        NaN        NaN        NaN  \n",
       "2_60_12        NaN        NaN        NaN  \n",
       "...            ...        ...        ...  \n",
       "3_25_8    0.994220   0.994220   0.961538  \n",
       "3_25_0    0.999629   0.999629   0.961538  \n",
       "3_25_10   0.925373   0.925373   0.929104  \n",
       "3_25_4    0.999425   0.999425   0.961538  \n",
       "3_9_16    0.021988   0.021988   0.060449  \n",
       "\n",
       "[860 rows x 1236 columns]"
      ]
     },
     "execution_count": 21,
     "metadata": {},
     "output_type": "execute_result"
    }
   ],
   "source": [
    "all_confusion"
   ]
  },
  {
   "cell_type": "code",
   "execution_count": 22,
   "id": "55c44227",
   "metadata": {
    "ExecuteTime": {
     "end_time": "2022-07-06T21:28:39.055733Z",
     "start_time": "2022-07-06T21:28:38.849117Z"
    }
   },
   "outputs": [],
   "source": [
    "all_confusion.to_hdf('L1_confusion_matrx.L3_clusters.hdf', key='data')"
   ]
  },
  {
   "cell_type": "code",
   "execution_count": 23,
   "id": "eb5f8dfb",
   "metadata": {
    "ExecuteTime": {
     "end_time": "2022-07-06T21:28:39.924748Z",
     "start_time": "2022-07-06T21:28:39.058203Z"
    }
   },
   "outputs": [],
   "source": [
    "all_confusion_l4 = extend_confusion_matrix(all_confusion,\n",
    "                                           mc_in_level='L3',\n",
    "                                           mc_out_level='L4',\n",
    "                                           atac_in_level='L3',\n",
    "                                           atac_out_level='L4')\n",
    "all_confusion_l4.to_hdf('L2_confusion_matrx.L4_clusters.hdf', key='data')"
   ]
  },
  {
   "cell_type": "markdown",
   "id": "cd7e9faa",
   "metadata": {
    "ExecuteTime": {
     "end_time": "2022-06-30T23:34:47.791366Z",
     "start_time": "2022-06-30T23:34:47.636357Z"
    }
   },
   "source": [
    "## Check Missing Clusters"
   ]
  },
  {
   "cell_type": "code",
   "execution_count": 25,
   "id": "794674f7",
   "metadata": {
    "ExecuteTime": {
     "end_time": "2022-07-06T21:28:39.932519Z",
     "start_time": "2022-07-06T21:28:39.928873Z"
    }
   },
   "outputs": [],
   "source": [
    "assert all_mc_cluster.size == all_confusion.columns.size\n",
    "assert all_atac_cluster.size == all_confusion.index.size\n",
    "\n",
    "assert all_confusion.index.duplicated().sum() == 0\n",
    "assert all_confusion.columns.duplicated().sum() == 0"
   ]
  },
  {
   "cell_type": "markdown",
   "id": "b2d45070",
   "metadata": {},
   "source": [
    "## Get L3/4 Integration\n",
    "\n",
    "### Get atac L4 to Inte L2"
   ]
  },
  {
   "cell_type": "code",
   "execution_count": 26,
   "id": "5ded8c2e",
   "metadata": {
    "ExecuteTime": {
     "end_time": "2022-07-06T21:28:39.942450Z",
     "start_time": "2022-07-06T21:28:39.934625Z"
    }
   },
   "outputs": [],
   "source": [
    "l3_group_names = []\n",
    "for l2_group, row_group in row_groups.items():\n",
    "    l3_group_name = l2_group + '_' + row_group.astype(str)\n",
    "    l3_group_names.append(l3_group_name)\n",
    "atac_l3_to_inte_l2 = pd.concat(l3_group_names)"
   ]
  },
  {
   "cell_type": "code",
   "execution_count": 27,
   "id": "c3364134",
   "metadata": {
    "ExecuteTime": {
     "end_time": "2022-07-06T21:28:40.035225Z",
     "start_time": "2022-07-06T21:28:39.944439Z"
    }
   },
   "outputs": [],
   "source": [
    "atac_l4_to_atac_l3 = pd.DataFrame(atac_annot['L3'],\n",
    "                                index=atac_annot['L4']).squeeze()\n",
    "atac_l4_to_atac_l3 = pd.Series(atac_l4_to_atac_l3.to_dict())\n",
    "atac_l4_to_inte_l2 = atac_l4_to_atac_l3.map(atac_l3_to_inte_l2)"
   ]
  },
  {
   "cell_type": "code",
   "execution_count": 28,
   "id": "0ddaf4d9",
   "metadata": {
    "ExecuteTime": {
     "end_time": "2022-07-06T21:28:40.042113Z",
     "start_time": "2022-07-06T21:28:40.037124Z"
    }
   },
   "outputs": [
    {
     "data": {
      "text/plain": [
       "3_9_2_11      InteGroup4_5\n",
       "3_10_1_8      InteGroup4_0\n",
       "3_11_7_13     InteGroup4_1\n",
       "3_12_1_1      InteGroup4_1\n",
       "3_13_2_7      InteGroup4_2\n",
       "                  ...     \n",
       "2_57_12_8     InteGroup0_0\n",
       "2_57_12_7     InteGroup0_0\n",
       "2_57_12_6     InteGroup0_0\n",
       "2_43_37_12    InteGroup0_0\n",
       "2_35_13_5     InteGroup0_7\n",
       "Length: 9136, dtype: object"
      ]
     },
     "execution_count": 28,
     "metadata": {},
     "output_type": "execute_result"
    }
   ],
   "source": [
    "atac_l4_to_inte_l2"
   ]
  },
  {
   "cell_type": "markdown",
   "id": "3061feba",
   "metadata": {},
   "source": [
    "### Get mC L4 to Inte L2"
   ]
  },
  {
   "cell_type": "code",
   "execution_count": 29,
   "id": "3ac5d64d",
   "metadata": {
    "ExecuteTime": {
     "end_time": "2022-07-06T21:28:40.048969Z",
     "start_time": "2022-07-06T21:28:40.043908Z"
    }
   },
   "outputs": [],
   "source": [
    "l3_group_names = []\n",
    "for l2_group, row_group in col_groups.items():\n",
    "    l3_group_name = l2_group + '_' + row_group.astype(str)\n",
    "    l3_group_names.append(l3_group_name)\n",
    "mc_l3_to_inte_l2 = pd.concat(l3_group_names)"
   ]
  },
  {
   "cell_type": "code",
   "execution_count": 30,
   "id": "d0905a89",
   "metadata": {
    "ExecuteTime": {
     "end_time": "2022-07-06T21:28:40.201708Z",
     "start_time": "2022-07-06T21:28:40.050784Z"
    }
   },
   "outputs": [],
   "source": [
    "mc_l4_to_mc_l3 = pd.DataFrame(mc_annot['L3'], index=mc_annot['L4']).squeeze()\n",
    "mc_l4_to_mc_l3 = pd.Series(mc_l4_to_mc_l3.to_dict())\n",
    "mc_l4_to_inte_l2 = mc_l4_to_mc_l3.map(mc_l3_to_inte_l2)"
   ]
  },
  {
   "cell_type": "code",
   "execution_count": 31,
   "id": "785662cb",
   "metadata": {
    "ExecuteTime": {
     "end_time": "2022-07-06T21:28:40.207929Z",
     "start_time": "2022-07-06T21:28:40.203660Z"
    }
   },
   "outputs": [
    {
     "data": {
      "text/plain": [
       "c1_c3_c0_c1     InteGroup4_1\n",
       "c1_c3_c0_c0     InteGroup4_1\n",
       "c1_c3_c4_c1     InteGroup4_1\n",
       "c1_c3_c4_c0     InteGroup4_1\n",
       "c1_c0_c2_c1     InteGroup4_5\n",
       "                    ...     \n",
       "c17_c1_c2_c1    InteGroup6_0\n",
       "c17_c5_c0_c3    InteGroup6_3\n",
       "c13_c5_c1_c0    InteGroup6_4\n",
       "c13_c5_c3_c0    InteGroup6_4\n",
       "c13_c5_c2_c0    InteGroup6_4\n",
       "Length: 2400, dtype: object"
      ]
     },
     "execution_count": 31,
     "metadata": {},
     "output_type": "execute_result"
    }
   ],
   "source": [
    "mc_l4_to_inte_l2"
   ]
  },
  {
   "cell_type": "markdown",
   "id": "78e3d67d",
   "metadata": {},
   "source": [
    "## Get Inte L4 Confusion"
   ]
  },
  {
   "cell_type": "code",
   "execution_count": 32,
   "id": "bed88e10",
   "metadata": {
    "ExecuteTime": {
     "end_time": "2022-07-06T21:28:42.454321Z",
     "start_time": "2022-07-06T21:28:40.209767Z"
    }
   },
   "outputs": [
    {
     "name": "stdout",
     "output_type": "stream",
     "text": [
      "InteGroup0_9 diag score: 6.00\n",
      "InteGroup10_3 diag score: 5.97\n",
      "InteGroup0_6 diag score: 8.39\n",
      "InteGroup10_4 diag score: 0.08\n",
      "InteGroup6_6 diag score: 21.96\n",
      "InteGroup0_8 diag score: 6.35\n",
      "InteGroup8_6 diag score: 2.51\n",
      "InteGroup2_5 diag score: 12.01\n",
      "InteGroup13_2 diag score: 2.25\n",
      "InteGroup0_16 diag score: 13.56\n",
      "InteGroup0_3 diag score: 3.95\n",
      "InteGroup16_0 diag score: 1.84\n",
      "InteGroup9_2 diag score: 5.70\n",
      "InteGroup10_7 diag score: 1.16\n",
      "InteGroup9_0 diag score: 1.39\n",
      "InteGroup13_5 diag score: 0.94\n",
      "InteGroup13_0 diag score: 1.98\n",
      "InteGroup0_18 diag score: 2.41\n",
      "InteGroup8_5 diag score: 1.40\n",
      "InteGroup8_3 diag score: 4.40\n",
      "InteGroup4_7 diag score: 3.28\n",
      "InteGroup2_4 diag score: 8.41\n",
      "InteGroup4_5 diag score: 1.80\n",
      "InteGroup4_0 diag score: 3.68\n",
      "InteGroup0_15 diag score: 4.67\n",
      "InteGroup9_5 diag score: 2.40\n",
      "InteGroup0_11 diag score: 2.60\n",
      "InteGroup2_6 diag score: 5.72\n",
      "InteGroup0_10 diag score: 5.15\n",
      "InteGroup4_2 diag score: 2.19\n",
      "InteGroup8_2 diag score: 5.21\n",
      "InteGroup13_4 diag score: 0.89\n",
      "InteGroup10_5 diag score: 2.79\n",
      "InteGroup0_14 diag score: 11.28\n",
      "InteGroup4_4 diag score: 2.79\n",
      "InteGroup0_17 diag score: 3.36\n",
      "InteGroup12_2 diag score: 1.00\n",
      "InteGroup8_0 diag score: 2.41\n",
      "InteGroup10_1 diag score: 3.23\n",
      "InteGroup0_4 diag score: 3.89\n",
      "InteGroup8_4 diag score: 14.59\n",
      "InteGroup0_19 diag score: 5.98\n",
      "InteGroup6_0 diag score: 2.10\n",
      "InteGroup4_1 diag score: 1.90\n",
      "InteGroup9_3 diag score: 5.88\n",
      "InteGroup10_0 diag score: 1.99\n",
      "InteGroup10_2 diag score: 1.63\n",
      "InteGroup6_3 diag score: 0.99\n",
      "InteGroup6_4 diag score: 4.00\n",
      "InteGroup9_6 diag score: 1.22\n",
      "InteGroup12_3 diag score: 2.67\n",
      "InteGroup0_7 diag score: 1.41\n",
      "InteGroup8_7 diag score: 4.16\n",
      "InteGroup2_3 diag score: 9.68\n",
      "InteGroup0_0 diag score: 7.64\n",
      "InteGroup2_7 diag score: 16.06\n",
      "InteGroup12_0 diag score: 3.74\n",
      "InteGroup13_3 diag score: 8.65\n",
      "InteGroup2_0 diag score: 4.20\n",
      "InteGroup9_1 diag score: 1.50\n",
      "InteGroup10_6 diag score: 6.17\n",
      "InteGroup13_1 diag score: 7.48\n",
      "InteGroup4_3 diag score: 2.17\n",
      "InteGroup16_2 diag score: 1.05\n",
      "InteGroup2_8 diag score: 2.73\n",
      "InteGroup16_1 diag score: 1.43\n",
      "InteGroup12_1 diag score: 1.04\n",
      "InteGroup0_12 diag score: 3.04\n",
      "InteGroup4_6 diag score: 8.32\n",
      "InteGroup2_9 diag score: 3.15\n",
      "InteGroup2_2 diag score: 5.51\n",
      "InteGroup6_2 diag score: 1.11\n",
      "InteGroup0_13 diag score: 8.30\n",
      "InteGroup9_4 diag score: 11.69\n",
      "InteGroup6_1 diag score: 1.59\n"
     ]
    }
   ],
   "source": [
    "l4_confusion_matrix_dict = {}\n",
    "l4_row_groups = {}\n",
    "l4_col_groups = {}\n",
    "\n",
    "for path in pathlib.Path(f'../{deep_level}/Neuron').glob(\n",
    "        f'InteGroup*/{deep_category_key}.overlap_score.hdf'):\n",
    "    group = path.parent.name\n",
    "\n",
    "    # integration group\n",
    "    # from leiden clustering on confusion matrix\n",
    "    # may be manually merged in 07.ipynb\n",
    "    row_group = get_inte_groups(path.parent / 'atac_integration_group.csv.gz',\n",
    "                                annot=atac_annot,\n",
    "                                category=deep_category_key)\n",
    "    col_group = get_inte_groups(path.parent / 'mc_integration_group.csv.gz',\n",
    "                                annot=mc_annot,\n",
    "                                category=deep_category_key)\n",
    "    l4_row_groups[group] = row_group\n",
    "    l4_col_groups[group] = col_group\n",
    "\n",
    "    # confusion matrix\n",
    "    df = pd.read_hdf(path)\n",
    "    diag_score = calculate_diagonal_score(df,\n",
    "                                          col_group=col_group,\n",
    "                                          row_group=row_group)\n",
    "    print(f'{group} diag score: {diag_score:.2f}')\n",
    "\n",
    "    df.index.name = f'atac.{category_key}'\n",
    "    df.columns.name = f'mC.{category_key}'\n",
    "    # reorder row and col based on inte groups\n",
    "    df = df.loc[row_group.sort_values().index,\n",
    "                col_group.sort_values().index].copy()\n",
    "    l4_confusion_matrix_dict[group] = df"
   ]
  },
  {
   "cell_type": "markdown",
   "id": "a8b99660",
   "metadata": {},
   "source": [
    "## Create L4 Patch on L2 Confusion Matrix"
   ]
  },
  {
   "cell_type": "code",
   "execution_count": 33,
   "id": "62910b1e",
   "metadata": {
    "ExecuteTime": {
     "end_time": "2022-07-06T21:28:42.563804Z",
     "start_time": "2022-07-06T21:28:42.457405Z"
    }
   },
   "outputs": [],
   "source": [
    "l2_with_l4_patch = all_confusion_l4.copy()"
   ]
  },
  {
   "cell_type": "code",
   "execution_count": 34,
   "id": "c64f7125",
   "metadata": {
    "ExecuteTime": {
     "end_time": "2022-07-06T21:28:42.677719Z",
     "start_time": "2022-07-06T21:28:42.565941Z"
    }
   },
   "outputs": [],
   "source": [
    "for df in l4_confusion_matrix_dict.values():\n",
    "    l2_with_l4_patch.loc[df.index, df.columns] = df"
   ]
  },
  {
   "cell_type": "code",
   "execution_count": 35,
   "id": "51f02404",
   "metadata": {
    "ExecuteTime": {
     "end_time": "2022-07-06T21:28:43.032959Z",
     "start_time": "2022-07-06T21:28:42.679918Z"
    }
   },
   "outputs": [],
   "source": [
    "l2_with_l4_patch.to_hdf('L4_confusion_matrx.L4_clusters.hdf', key='data')"
   ]
  },
  {
   "cell_type": "markdown",
   "id": "301e6f66",
   "metadata": {},
   "source": [
    "## Deal with Cluster Match"
   ]
  },
  {
   "cell_type": "code",
   "execution_count": 36,
   "id": "cb0537ae",
   "metadata": {
    "ExecuteTime": {
     "end_time": "2022-07-06T21:28:43.053446Z",
     "start_time": "2022-07-06T21:28:43.035441Z"
    }
   },
   "outputs": [],
   "source": [
    "l4_group_names = []\n",
    "for l2_group, row_group in l4_row_groups.items():\n",
    "    l4_group_name = l2_group + '_' + row_group.astype(str)\n",
    "    l4_group_names.append(l4_group_name)\n",
    "atac_l4_to_inte_l4 = pd.concat(l4_group_names)"
   ]
  },
  {
   "cell_type": "code",
   "execution_count": 37,
   "id": "242e8950",
   "metadata": {
    "ExecuteTime": {
     "end_time": "2022-07-06T21:28:43.071282Z",
     "start_time": "2022-07-06T21:28:43.055377Z"
    }
   },
   "outputs": [],
   "source": [
    "l4_group_names = []\n",
    "for l2_group, row_group in l4_col_groups.items():\n",
    "    l4_group_name = l2_group + '_' + row_group.astype(str)\n",
    "    l4_group_names.append(l4_group_name)\n",
    "mc_l4_to_inte_l4 = pd.concat(l4_group_names)"
   ]
  },
  {
   "cell_type": "markdown",
   "id": "8c21f2ef",
   "metadata": {},
   "source": [
    "## Final Cluster Map"
   ]
  },
  {
   "cell_type": "code",
   "execution_count": 38,
   "id": "8a17576b",
   "metadata": {
    "ExecuteTime": {
     "end_time": "2022-07-06T21:28:43.096520Z",
     "start_time": "2022-07-06T21:28:43.073188Z"
    }
   },
   "outputs": [],
   "source": [
    "atac_l4_to_final_group = {}\n",
    "for atac_cluster, l2_inte_group in atac_l4_to_inte_l2.items():\n",
    "    if atac_cluster in atac_l4_to_inte_l4.index:\n",
    "        l4_inte_group = atac_l4_to_inte_l4[atac_cluster]\n",
    "        assert l4_inte_group.startswith(l2_inte_group) is True\n",
    "        final_group = l4_inte_group\n",
    "    else:\n",
    "        final_group = l2_inte_group\n",
    "    atac_l4_to_final_group[atac_cluster] = final_group\n",
    "atac_l4_to_final_group = pd.Series(atac_l4_to_final_group)"
   ]
  },
  {
   "cell_type": "code",
   "execution_count": 39,
   "id": "a7923bf9",
   "metadata": {
    "ExecuteTime": {
     "end_time": "2022-07-06T21:28:43.106579Z",
     "start_time": "2022-07-06T21:28:43.098442Z"
    }
   },
   "outputs": [],
   "source": [
    "atac_l4_to_final_group.to_csv('atac_l4_to_integration_group.csv')"
   ]
  },
  {
   "cell_type": "code",
   "execution_count": 40,
   "id": "1fdb3ea5",
   "metadata": {
    "ExecuteTime": {
     "end_time": "2022-07-06T21:28:43.121753Z",
     "start_time": "2022-07-06T21:28:43.108735Z"
    }
   },
   "outputs": [],
   "source": [
    "mc_l4_to_final_group = {}\n",
    "for mc_cluster, l2_inte_group in mc_l4_to_inte_l2.items():\n",
    "    if mc_cluster in mc_l4_to_inte_l4.index:\n",
    "        l4_inte_group = mc_l4_to_inte_l4[mc_cluster]\n",
    "        assert l4_inte_group.startswith(l2_inte_group) is True\n",
    "        final_group = l4_inte_group\n",
    "    else:\n",
    "        final_group = l2_inte_group\n",
    "    mc_l4_to_final_group[mc_cluster] = final_group\n",
    "mc_l4_to_final_group = pd.Series(mc_l4_to_final_group)"
   ]
  },
  {
   "cell_type": "code",
   "execution_count": 41,
   "id": "75cd927c",
   "metadata": {
    "ExecuteTime": {
     "end_time": "2022-07-06T21:28:43.128438Z",
     "start_time": "2022-07-06T21:28:43.123644Z"
    }
   },
   "outputs": [],
   "source": [
    "mc_l4_to_final_group.to_csv('mc_l4_to_integration_group.csv')"
   ]
  },
  {
   "cell_type": "code",
   "execution_count": 42,
   "id": "52092b2d",
   "metadata": {
    "ExecuteTime": {
     "end_time": "2022-07-06T21:28:43.134865Z",
     "start_time": "2022-07-06T21:28:43.130196Z"
    }
   },
   "outputs": [
    {
     "data": {
      "text/plain": [
       "3_9_2_11      InteGroup4_5_2\n",
       "3_10_1_8      InteGroup4_0_1\n",
       "3_11_7_13     InteGroup4_1_1\n",
       "3_12_1_1      InteGroup4_1_2\n",
       "3_13_2_7      InteGroup4_2_3\n",
       "                   ...      \n",
       "2_57_12_8     InteGroup0_0_1\n",
       "2_57_12_7     InteGroup0_0_1\n",
       "2_57_12_6     InteGroup0_0_1\n",
       "2_43_37_12    InteGroup0_0_0\n",
       "2_35_13_5     InteGroup0_7_5\n",
       "Length: 9136, dtype: object"
      ]
     },
     "execution_count": 42,
     "metadata": {},
     "output_type": "execute_result"
    }
   ],
   "source": [
    "atac_l4_to_final_group"
   ]
  },
  {
   "cell_type": "code",
   "execution_count": 43,
   "id": "310688fa",
   "metadata": {
    "ExecuteTime": {
     "end_time": "2022-07-06T21:28:43.140541Z",
     "start_time": "2022-07-06T21:28:43.136747Z"
    }
   },
   "outputs": [
    {
     "data": {
      "text/plain": [
       "c1_c3_c0_c1     InteGroup4_1_3\n",
       "c1_c3_c0_c0     InteGroup4_1_3\n",
       "c1_c3_c4_c1     InteGroup4_1_3\n",
       "c1_c3_c4_c0     InteGroup4_1_3\n",
       "c1_c0_c2_c1     InteGroup4_5_0\n",
       "                     ...      \n",
       "c17_c1_c2_c1    InteGroup6_0_0\n",
       "c17_c5_c0_c3    InteGroup6_3_1\n",
       "c13_c5_c1_c0    InteGroup6_4_0\n",
       "c13_c5_c3_c0    InteGroup6_4_0\n",
       "c13_c5_c2_c0    InteGroup6_4_0\n",
       "Length: 2400, dtype: object"
      ]
     },
     "execution_count": 43,
     "metadata": {},
     "output_type": "execute_result"
    }
   ],
   "source": [
    "mc_l4_to_final_group"
   ]
  },
  {
   "cell_type": "code",
   "execution_count": null,
   "id": "c3a77e01",
   "metadata": {},
   "outputs": [],
   "source": []
  },
  {
   "cell_type": "code",
   "execution_count": null,
   "id": "667b76ea",
   "metadata": {},
   "outputs": [],
   "source": []
  }
 ],
 "metadata": {
  "hide_input": false,
  "kernelspec": {
   "display_name": "Python 3 (ipykernel)",
   "language": "python",
   "name": "python3"
  },
  "language_info": {
   "codemirror_mode": {
    "name": "ipython",
    "version": 3
   },
   "file_extension": ".py",
   "mimetype": "text/x-python",
   "name": "python",
   "nbconvert_exporter": "python",
   "pygments_lexer": "ipython3",
   "version": "3.8.13"
  },
  "toc": {
   "base_numbering": 1,
   "nav_menu": {},
   "number_sections": true,
   "sideBar": true,
   "skip_h1_title": true,
   "title_cell": "Table of Contents",
   "title_sidebar": "Contents",
   "toc_cell": false,
   "toc_position": {},
   "toc_section_display": true,
   "toc_window_display": true
  }
 },
 "nbformat": 4,
 "nbformat_minor": 5
}
