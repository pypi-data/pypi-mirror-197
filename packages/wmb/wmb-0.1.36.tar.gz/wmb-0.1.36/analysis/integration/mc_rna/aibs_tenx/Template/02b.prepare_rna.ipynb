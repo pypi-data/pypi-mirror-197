{
 "cells": [
  {
   "cell_type": "markdown",
   "id": "34deaf20",
   "metadata": {
    "papermill": {
     "duration": 0.010537,
     "end_time": "2022-06-20T23:02:45.954362",
     "exception": false,
     "start_time": "2022-06-20T23:02:45.943825",
     "status": "completed"
    },
    "tags": []
   },
   "source": [
    "## Import"
   ]
  },
  {
   "cell_type": "code",
   "execution_count": null,
   "id": "eecf846f",
   "metadata": {
    "ExecuteTime": {
     "end_time": "2022-06-21T05:12:06.338279Z",
     "start_time": "2022-06-21T05:12:04.001263Z"
    },
    "execution": {
     "iopub.execute_input": "2022-06-20T23:02:45.980280Z",
     "iopub.status.busy": "2022-06-20T23:02:45.979869Z",
     "iopub.status.idle": "2022-06-20T23:02:48.475785Z",
     "shell.execute_reply": "2022-06-20T23:02:48.476106Z"
    },
    "papermill": {
     "duration": 2.51215,
     "end_time": "2022-06-20T23:02:48.476330",
     "exception": false,
     "start_time": "2022-06-20T23:02:45.964180",
     "status": "completed"
    },
    "tags": []
   },
   "outputs": [],
   "source": [
    "from ALLCools.clustering import *\n",
    "from ALLCools.mcds import MCDS\n",
    "from wmb import brain, aibs, broad, mm10\n",
    "\n",
    "import pandas as pd\n",
    "import anndata\n",
    "\n",
    "import matplotlib.pyplot as plt\n",
    "from ALLCools.plot import *\n",
    "\n",
    "import scanpy as sc"
   ]
  },
  {
   "cell_type": "code",
   "execution_count": null,
   "id": "72094c70",
   "metadata": {
    "ExecuteTime": {
     "end_time": "2022-06-21T05:12:06.342480Z",
     "start_time": "2022-06-21T05:12:06.340083Z"
    },
    "execution": {
     "iopub.execute_input": "2022-06-20T23:02:48.499638Z",
     "iopub.status.busy": "2022-06-20T23:02:48.499257Z",
     "iopub.status.idle": "2022-06-20T23:02:48.500442Z",
     "shell.execute_reply": "2022-06-20T23:02:48.500737Z"
    },
    "papermill": {
     "duration": 0.014312,
     "end_time": "2022-06-20T23:02:48.500837",
     "exception": false,
     "start_time": "2022-06-20T23:02:48.486525",
     "status": "completed"
    },
    "tags": [
     "parameters"
    ]
   },
   "outputs": [],
   "source": [
    "n_cell = 5\n",
    "dataset = 'AIBS_SMART'"
   ]
  },
  {
   "cell_type": "markdown",
   "id": "8a3aa1bf",
   "metadata": {
    "papermill": {
     "duration": 0.009608,
     "end_time": "2022-06-20T23:02:48.520113",
     "exception": false,
     "start_time": "2022-06-20T23:02:48.510505",
     "status": "completed"
    },
    "tags": []
   },
   "source": [
    "## Select cells"
   ]
  },
  {
   "cell_type": "code",
   "execution_count": null,
   "id": "f16d1e09",
   "metadata": {
    "execution": {
     "iopub.execute_input": "2022-06-20T23:02:48.542494Z",
     "iopub.status.busy": "2022-06-20T23:02:48.542106Z",
     "iopub.status.idle": "2022-06-20T23:02:48.606646Z",
     "shell.execute_reply": "2022-06-20T23:02:48.606305Z"
    },
    "papermill": {
     "duration": 0.077028,
     "end_time": "2022-06-20T23:02:48.606735",
     "exception": false,
     "start_time": "2022-06-20T23:02:48.529707",
     "status": "completed"
    },
    "tags": []
   },
   "outputs": [],
   "source": [
    "cells = pd.read_csv('rna_cells.txt', index_col=0, header=None).index\n",
    "cells.name = 'cell'\n",
    "cells.size"
   ]
  },
  {
   "cell_type": "markdown",
   "id": "2f339de2",
   "metadata": {
    "papermill": {
     "duration": 0.010486,
     "end_time": "2022-06-20T23:02:48.627860",
     "exception": false,
     "start_time": "2022-06-20T23:02:48.617374",
     "status": "completed"
    },
    "tags": []
   },
   "source": [
    "## Get adata with basic feature selection"
   ]
  },
  {
   "cell_type": "code",
   "execution_count": null,
   "id": "a3f2c7e4",
   "metadata": {
    "ExecuteTime": {
     "end_time": "2022-06-21T05:12:06.904649Z",
     "start_time": "2022-06-21T05:12:06.864056Z"
    },
    "execution": {
     "iopub.execute_input": "2022-06-20T23:02:48.652280Z",
     "iopub.status.busy": "2022-06-20T23:02:48.651878Z",
     "iopub.status.idle": "2022-06-20T23:02:48.691048Z",
     "shell.execute_reply": "2022-06-20T23:02:48.690732Z"
    },
    "papermill": {
     "duration": 0.052827,
     "end_time": "2022-06-20T23:02:48.691137",
     "exception": false,
     "start_time": "2022-06-20T23:02:48.638310",
     "status": "completed"
    },
    "tags": []
   },
   "outputs": [],
   "source": [
    "if dataset == 'AIBS_SMART':\n",
    "    mcds_path = aibs.AIBS_SMART_ZARR_PATH\n",
    "    gene_map = aibs.get_smart_gene_map()\n",
    "elif dataset == 'AIBS_TENX':\n",
    "    mcds_path = aibs.AIBS_TENX_ZARR_PATH\n",
    "    gene_map = aibs.get_tenx_gene_map()\n",
    "else:\n",
    "    mcds_path = broad.BROAD_TENX_ZARR_PATH\n",
    "    gene_map = broad.get_tenx_gene_map()"
   ]
  },
  {
   "cell_type": "code",
   "execution_count": null,
   "id": "76e2c9e7",
   "metadata": {
    "ExecuteTime": {
     "end_time": "2022-06-20T20:23:42.988167Z",
     "start_time": "2022-06-20T20:23:34.201667Z"
    },
    "execution": {
     "iopub.execute_input": "2022-06-20T23:02:48.716403Z",
     "iopub.status.busy": "2022-06-20T23:02:48.716016Z",
     "iopub.status.idle": "2022-06-20T23:02:50.442103Z",
     "shell.execute_reply": "2022-06-20T23:02:50.441500Z"
    },
    "papermill": {
     "duration": 1.740935,
     "end_time": "2022-06-20T23:02:50.442323",
     "exception": false,
     "start_time": "2022-06-20T23:02:48.701388",
     "status": "completed"
    },
    "tags": []
   },
   "outputs": [],
   "source": [
    "rna_ds = MCDS.open(mcds_path, use_obs=cells, var_dim='gene')"
   ]
  },
  {
   "cell_type": "code",
   "execution_count": null,
   "id": "41e50e65",
   "metadata": {},
   "outputs": [],
   "source": [
    "cef = pd.read_csv('CEF.csv', header=None, index_col=0).squeeze()\n",
    "cef = cef[cef].index\n",
    "cef.name = 'gene'"
   ]
  },
  {
   "cell_type": "code",
   "execution_count": null,
   "id": "d0441ba2",
   "metadata": {
    "ExecuteTime": {
     "end_time": "2022-06-20T20:23:43.009644Z",
     "start_time": "2022-06-20T20:23:42.989438Z"
    },
    "execution": {
     "iopub.execute_input": "2022-06-20T23:02:50.486689Z",
     "iopub.status.busy": "2022-06-20T23:02:50.471763Z",
     "iopub.status.idle": "2022-06-20T23:02:50.492638Z",
     "shell.execute_reply": "2022-06-20T23:02:50.492206Z"
    },
    "papermill": {
     "duration": 0.036998,
     "end_time": "2022-06-20T23:02:50.492751",
     "exception": false,
     "start_time": "2022-06-20T23:02:50.455753",
     "status": "completed"
    },
    "tags": []
   },
   "outputs": [],
   "source": [
    "gene_id_not_nan = ~rna_ds.get_index('gene').map(gene_map).isna()\n",
    "is_cef = rna_ds.get_index('gene').map(gene_map).isin(cef)\n",
    "use_genes = gene_id_not_nan & is_cef\n",
    "use_genes.sum()"
   ]
  },
  {
   "cell_type": "code",
   "execution_count": null,
   "id": "e60a3e5f",
   "metadata": {
    "ExecuteTime": {
     "end_time": "2022-06-20T20:24:19.065542Z",
     "start_time": "2022-06-20T20:23:43.010837Z"
    },
    "execution": {
     "iopub.execute_input": "2022-06-20T23:02:50.546805Z",
     "iopub.status.busy": "2022-06-20T23:02:50.545833Z",
     "iopub.status.idle": "2022-06-20T23:06:37.251759Z",
     "shell.execute_reply": "2022-06-20T23:06:37.252174Z"
    },
    "papermill": {
     "duration": 226.745375,
     "end_time": "2022-06-20T23:06:37.252327",
     "exception": false,
     "start_time": "2022-06-20T23:02:50.506952",
     "status": "completed"
    },
    "tags": []
   },
   "outputs": [],
   "source": [
    "adata = rna_ds.get_count_adata(da_name='gene_da', use_vars=use_genes)"
   ]
  },
  {
   "cell_type": "code",
   "execution_count": null,
   "id": "3cbfd8a2",
   "metadata": {
    "ExecuteTime": {
     "end_time": "2022-06-20T20:24:19.299646Z",
     "start_time": "2022-06-20T20:24:19.068285Z"
    },
    "execution": {
     "iopub.execute_input": "2022-06-20T23:06:37.293912Z",
     "iopub.status.busy": "2022-06-20T23:06:37.292094Z",
     "iopub.status.idle": "2022-06-20T23:06:37.514346Z",
     "shell.execute_reply": "2022-06-20T23:06:37.514712Z"
    },
    "papermill": {
     "duration": 0.248546,
     "end_time": "2022-06-20T23:06:37.514845",
     "exception": false,
     "start_time": "2022-06-20T23:06:37.266299",
     "status": "completed"
    },
    "tags": []
   },
   "outputs": [],
   "source": [
    "# cleanup gene metadata of RNA\n",
    "adata.var_names = adata.var_names.map(gene_map)\n",
    "assert adata.var_names.duplicated().sum() == 0\n",
    "\n",
    "gene_meta = mm10.get_gene_metadata(annot_version = 'GENCODE_vm22')\n",
    "for col in ['chrom', 'start', 'end']:\n",
    "    adata.var[col] = gene_meta[col]"
   ]
  },
  {
   "cell_type": "markdown",
   "id": "fedf318d",
   "metadata": {
    "papermill": {
     "duration": 0.013365,
     "end_time": "2022-06-20T23:06:37.541606",
     "exception": false,
     "start_time": "2022-06-20T23:06:37.528241",
     "status": "completed"
    },
    "tags": []
   },
   "source": [
    "## Basic Feature Filtering"
   ]
  },
  {
   "cell_type": "code",
   "execution_count": null,
   "id": "820d0a28",
   "metadata": {
    "ExecuteTime": {
     "end_time": "2022-06-20T20:24:19.303456Z",
     "start_time": "2022-06-20T20:24:19.301269Z"
    },
    "execution": {
     "iopub.execute_input": "2022-06-20T23:06:37.570850Z",
     "iopub.status.busy": "2022-06-20T23:06:37.570439Z",
     "iopub.status.idle": "2022-06-20T23:06:37.571767Z",
     "shell.execute_reply": "2022-06-20T23:06:37.572061Z"
    },
    "papermill": {
     "duration": 0.017287,
     "end_time": "2022-06-20T23:06:37.572173",
     "exception": false,
     "start_time": "2022-06-20T23:06:37.554886",
     "status": "completed"
    },
    "tags": []
   },
   "outputs": [],
   "source": [
    "# no need to do this, already did in mC\n",
    "\n",
    "# chroms = [\n",
    "#     'chr1', 'chr2', 'chr3', 'chr4', 'chr5', 'chr6', 'chr7', 'chr8', 'chr9',\n",
    "#     'chr10', 'chr11', 'chr12', 'chr13', 'chr14', 'chr15', 'chr16', 'chr17',\n",
    "#     'chr18', 'chr19'\n",
    "# ]\n",
    "#\n",
    "# remove_chromosomes(adata, include_chromosomes=chroms)\n",
    "# remove_black_list_region(adata, black_list_path=mm10.ENCODE_BLACKLIST_PATH)"
   ]
  },
  {
   "cell_type": "code",
   "execution_count": null,
   "id": "c927181e",
   "metadata": {
    "ExecuteTime": {
     "end_time": "2022-06-20T20:24:21.401905Z",
     "start_time": "2022-06-20T20:24:19.304799Z"
    },
    "execution": {
     "iopub.execute_input": "2022-06-20T23:06:37.601353Z",
     "iopub.status.busy": "2022-06-20T23:06:37.600958Z",
     "iopub.status.idle": "2022-06-20T23:07:04.114078Z",
     "shell.execute_reply": "2022-06-20T23:07:04.114434Z"
    },
    "papermill": {
     "duration": 26.529335,
     "end_time": "2022-06-20T23:07:04.114565",
     "exception": false,
     "start_time": "2022-06-20T23:06:37.585230",
     "status": "completed"
    },
    "tags": []
   },
   "outputs": [],
   "source": [
    "if adata.n_obs > n_cell:\n",
    "    filter_regions(adata, n_cell=n_cell, zscore_abs_cutoff=None)"
   ]
  },
  {
   "cell_type": "code",
   "execution_count": null,
   "id": "341bf442-f795-45e2-8091-ae7be5e41e3d",
   "metadata": {},
   "outputs": [],
   "source": [
    "adata.X = adata.X.astype('float32')"
   ]
  },
  {
   "cell_type": "code",
   "execution_count": null,
   "id": "6dc985e3",
   "metadata": {
    "ExecuteTime": {
     "end_time": "2022-06-20T20:24:26.555918Z",
     "start_time": "2022-06-20T20:24:21.403426Z"
    },
    "execution": {
     "iopub.execute_input": "2022-06-20T23:07:04.146643Z",
     "iopub.status.busy": "2022-06-20T23:07:04.146251Z",
     "iopub.status.idle": "2022-06-20T23:08:14.203064Z",
     "shell.execute_reply": "2022-06-20T23:08:14.202627Z"
    },
    "papermill": {
     "duration": 70.074254,
     "end_time": "2022-06-20T23:08:14.203190",
     "exception": false,
     "start_time": "2022-06-20T23:07:04.128936",
     "status": "completed"
    },
    "tags": []
   },
   "outputs": [],
   "source": [
    "# these sc.pp steps consumes peak memory, 200G for 3.6M cell * 3318 features\n",
    "sc.pp.normalize_per_cell(adata)\n",
    "sc.pp.log1p(adata)\n",
    "sc.pp.scale(adata) # TODO: this make a dense matrix, can skip this"
   ]
  },
  {
   "cell_type": "code",
   "execution_count": null,
   "id": "39d36e18",
   "metadata": {
    "ExecuteTime": {
     "end_time": "2022-06-20T20:24:27.558232Z",
     "start_time": "2022-06-20T20:24:26.558715Z"
    },
    "execution": {
     "iopub.execute_input": "2022-06-20T23:08:14.247805Z",
     "iopub.status.busy": "2022-06-20T23:08:14.247399Z",
     "iopub.status.idle": "2022-06-20T23:08:22.941584Z",
     "shell.execute_reply": "2022-06-20T23:08:22.941922Z"
    },
    "papermill": {
     "duration": 8.719994,
     "end_time": "2022-06-20T23:08:22.942061",
     "exception": false,
     "start_time": "2022-06-20T23:08:14.222067",
     "status": "completed"
    },
    "tags": []
   },
   "outputs": [],
   "source": [
    "adata.write_h5ad('rna_input.h5ad')"
   ]
  },
  {
   "cell_type": "code",
   "execution_count": null,
   "id": "34934d6a",
   "metadata": {
    "ExecuteTime": {
     "end_time": "2022-06-20T20:24:27.563118Z",
     "start_time": "2022-06-20T20:24:27.559561Z"
    },
    "execution": {
     "iopub.execute_input": "2022-06-20T23:08:22.986248Z",
     "iopub.status.busy": "2022-06-20T23:08:22.985837Z",
     "iopub.status.idle": "2022-06-20T23:08:22.987470Z",
     "shell.execute_reply": "2022-06-20T23:08:22.987787Z"
    },
    "papermill": {
     "duration": 0.031052,
     "end_time": "2022-06-20T23:08:22.987899",
     "exception": false,
     "start_time": "2022-06-20T23:08:22.956847",
     "status": "completed"
    },
    "tags": []
   },
   "outputs": [],
   "source": [
    "adata"
   ]
  },
  {
   "cell_type": "code",
   "execution_count": null,
   "id": "8b0093c4",
   "metadata": {
    "papermill": {
     "duration": 0.025746,
     "end_time": "2022-06-20T23:08:23.030668",
     "exception": false,
     "start_time": "2022-06-20T23:08:23.004922",
     "status": "completed"
    },
    "tags": []
   },
   "outputs": [],
   "source": []
  },
  {
   "cell_type": "code",
   "execution_count": null,
   "id": "576a7480",
   "metadata": {
    "papermill": {
     "duration": 0.021872,
     "end_time": "2022-06-20T23:08:23.075515",
     "exception": false,
     "start_time": "2022-06-20T23:08:23.053643",
     "status": "completed"
    },
    "tags": []
   },
   "outputs": [],
   "source": []
  },
  {
   "cell_type": "code",
   "execution_count": null,
   "id": "6891988a",
   "metadata": {
    "papermill": {
     "duration": 0.022425,
     "end_time": "2022-06-20T23:08:23.120217",
     "exception": false,
     "start_time": "2022-06-20T23:08:23.097792",
     "status": "completed"
    },
    "tags": []
   },
   "outputs": [],
   "source": []
  },
  {
   "cell_type": "code",
   "execution_count": null,
   "id": "b3a82800",
   "metadata": {
    "papermill": {
     "duration": 0.025371,
     "end_time": "2022-06-20T23:08:23.180687",
     "exception": false,
     "start_time": "2022-06-20T23:08:23.155316",
     "status": "completed"
    },
    "tags": []
   },
   "outputs": [],
   "source": []
  }
 ],
 "metadata": {
  "celltoolbar": "Tags",
  "hide_input": false,
  "kernelspec": {
   "display_name": "Python 3 (ipykernel)",
   "language": "python",
   "name": "python3"
  },
  "language_info": {
   "codemirror_mode": {
    "name": "ipython",
    "version": 3
   },
   "file_extension": ".py",
   "mimetype": "text/x-python",
   "name": "python",
   "nbconvert_exporter": "python",
   "pygments_lexer": "ipython3",
   "version": "3.8.13"
  },
  "papermill": {
   "default_parameters": {},
   "duration": 341.67794,
   "end_time": "2022-06-20T23:08:26.090770",
   "environment_variables": {},
   "exception": null,
   "input_path": "/home/hanliu/project/cemba/study/Integration/mC_AIBS_SMART_Gene/Template/02.prepare_rna.ipynb",
   "output_path": "Neuron/02.prepare_rna.ipynb",
   "parameters": {},
   "start_time": "2022-06-20T23:02:44.412830",
   "version": "2.3.3"
  },
  "toc": {
   "base_numbering": 1,
   "nav_menu": {},
   "number_sections": true,
   "sideBar": true,
   "skip_h1_title": true,
   "title_cell": "Table of Contents",
   "title_sidebar": "Contents",
   "toc_cell": false,
   "toc_position": {},
   "toc_section_display": true,
   "toc_window_display": true
  }
 },
 "nbformat": 4,
 "nbformat_minor": 5
}
