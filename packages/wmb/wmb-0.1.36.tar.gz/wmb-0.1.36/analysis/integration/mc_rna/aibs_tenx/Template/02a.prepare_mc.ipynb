{
 "cells": [
  {
   "cell_type": "markdown",
   "id": "68434496",
   "metadata": {
    "papermill": {
     "duration": 0.011024,
     "end_time": "2022-06-20T23:08:33.560969",
     "exception": false,
     "start_time": "2022-06-20T23:08:33.549945",
     "status": "completed"
    },
    "tags": []
   },
   "source": [
    "## Import"
   ]
  },
  {
   "cell_type": "code",
   "execution_count": null,
   "id": "4b3c1327",
   "metadata": {
    "ExecuteTime": {
     "end_time": "2022-06-25T18:41:25.636047Z",
     "start_time": "2022-06-25T18:41:05.397039Z"
    },
    "papermill": {
     "duration": 3.393328,
     "end_time": "2022-06-20T23:08:36.965154",
     "exception": false,
     "start_time": "2022-06-20T23:08:33.571826",
     "status": "completed"
    },
    "tags": []
   },
   "outputs": [],
   "source": [
    "from wmb import cemba\n",
    "from ALLCools.mcds import MCDS\n",
    "\n",
    "import pandas as pd\n",
    "from ALLCools.clustering import log_scale"
   ]
  },
  {
   "cell_type": "code",
   "execution_count": null,
   "id": "ca8aa116",
   "metadata": {
    "ExecuteTime": {
     "end_time": "2022-06-25T18:41:25.640966Z",
     "start_time": "2022-06-25T18:41:25.637983Z"
    },
    "papermill": {
     "duration": 0.01588,
     "end_time": "2022-06-20T23:08:36.992726",
     "exception": false,
     "start_time": "2022-06-20T23:08:36.976846",
     "status": "completed"
    },
    "tags": [
     "parameters"
    ]
   },
   "outputs": [],
   "source": [
    "var_dim = 'geneslop2k'\n",
    "chrom_to_remove = ['chrX', 'chrY', 'chrM', 'chrL']\n",
    "downsample = 1000\n",
    "mc_type = 'CHN'"
   ]
  },
  {
   "cell_type": "markdown",
   "id": "e60ee638",
   "metadata": {
    "papermill": {
     "duration": 0.010957,
     "end_time": "2022-06-20T23:08:37.014633",
     "exception": false,
     "start_time": "2022-06-20T23:08:37.003676",
     "status": "completed"
    },
    "tags": []
   },
   "source": [
    "## Select cells"
   ]
  },
  {
   "cell_type": "code",
   "execution_count": null,
   "id": "e5e3ec7f",
   "metadata": {
    "ExecuteTime": {
     "end_time": "2022-06-25T18:41:25.661120Z",
     "start_time": "2022-06-25T18:41:25.642947Z"
    },
    "papermill": {
     "duration": 0.072951,
     "end_time": "2022-06-20T23:08:37.098607",
     "exception": false,
     "start_time": "2022-06-20T23:08:37.025656",
     "status": "completed"
    },
    "tags": []
   },
   "outputs": [],
   "source": [
    "cells = pd.read_csv('mc_cells.txt', index_col=0, header=None).index\n",
    "cells.name = 'cell'\n",
    "cells.size"
   ]
  },
  {
   "cell_type": "markdown",
   "id": "abc2eddd",
   "metadata": {
    "papermill": {
     "duration": 0.011321,
     "end_time": "2022-06-20T23:08:37.121735",
     "exception": false,
     "start_time": "2022-06-20T23:08:37.110414",
     "status": "completed"
    },
    "tags": []
   },
   "source": [
    "## Get adata with CEF"
   ]
  },
  {
   "cell_type": "code",
   "execution_count": null,
   "id": "a6636dd5",
   "metadata": {
    "ExecuteTime": {
     "end_time": "2022-06-25T18:41:26.716889Z",
     "start_time": "2022-06-25T18:41:25.662437Z"
    },
    "papermill": {
     "duration": 0.657939,
     "end_time": "2022-06-20T23:08:37.790638",
     "exception": false,
     "start_time": "2022-06-20T23:08:37.132699",
     "status": "completed"
    },
    "tags": []
   },
   "outputs": [],
   "source": [
    "mcds = MCDS.open(cemba.CEMBA_SNMC_MCDS_PATH, var_dim=var_dim, use_obs=cells)\n",
    "\n",
    "mcds"
   ]
  },
  {
   "cell_type": "code",
   "execution_count": null,
   "id": "88c6de77",
   "metadata": {
    "ExecuteTime": {
     "end_time": "2022-06-25T18:41:26.754559Z",
     "start_time": "2022-06-25T18:41:26.718251Z"
    }
   },
   "outputs": [],
   "source": [
    "cef = pd.read_csv('CEF.csv', header=None, index_col=0).squeeze()\n",
    "cef = cef[cef].index\n",
    "cef.name = var_dim"
   ]
  },
  {
   "cell_type": "code",
   "execution_count": null,
   "id": "e1740347",
   "metadata": {
    "ExecuteTime": {
     "start_time": "2022-06-25T18:41:05.081Z"
    }
   },
   "outputs": [],
   "source": [
    "mcds.add_feature_selection_column(cef, f'{var_dim}_cef')\n",
    "adata = mcds.get_adata(mc_type=mc_type,\n",
    "                       select_hvf=f'{var_dim}_cef',\n",
    "                       split_large_chunks=False)"
   ]
  },
  {
   "cell_type": "code",
   "execution_count": null,
   "id": "9fc25365",
   "metadata": {
    "ExecuteTime": {
     "start_time": "2022-06-25T18:41:05.082Z"
    }
   },
   "outputs": [],
   "source": [
    "adata"
   ]
  },
  {
   "cell_type": "markdown",
   "id": "50cf509e",
   "metadata": {},
   "source": [
    "## Preprocessing and save"
   ]
  },
  {
   "cell_type": "code",
   "execution_count": null,
   "id": "9acbf6eb",
   "metadata": {
    "ExecuteTime": {
     "start_time": "2022-06-25T18:41:05.083Z"
    },
    "execution": {
     "iopub.execute_input": "2022-06-20T23:23:26.865440Z",
     "iopub.status.busy": "2022-06-20T23:23:26.865058Z",
     "iopub.status.idle": "2022-06-20T23:23:37.507593Z",
     "shell.execute_reply": "2022-06-20T23:23:37.507238Z"
    },
    "papermill": {
     "duration": 10.660079,
     "end_time": "2022-06-20T23:23:37.507694",
     "exception": false,
     "start_time": "2022-06-20T23:23:26.847615",
     "status": "completed"
    },
    "tags": []
   },
   "outputs": [],
   "source": [
    "# log mC fraction and scale features\n",
    "log_scale(adata, with_mean=True)\n",
    "\n",
    "# reverse mC fraction so its positively corr with RNA\n",
    "adata.X *= -1"
   ]
  },
  {
   "cell_type": "code",
   "execution_count": null,
   "id": "504cabd3",
   "metadata": {
    "ExecuteTime": {
     "start_time": "2022-06-25T18:41:05.085Z"
    },
    "execution": {
     "iopub.execute_input": "2022-06-20T23:23:37.547401Z",
     "iopub.status.busy": "2022-06-20T23:23:37.547003Z",
     "iopub.status.idle": "2022-06-20T23:23:38.827144Z",
     "shell.execute_reply": "2022-06-20T23:23:38.826849Z"
    },
    "papermill": {
     "duration": 1.304573,
     "end_time": "2022-06-20T23:23:38.827243",
     "exception": false,
     "start_time": "2022-06-20T23:23:37.522670",
     "status": "completed"
    },
    "tags": []
   },
   "outputs": [],
   "source": [
    "adata.write_h5ad('mc_input.h5ad')"
   ]
  },
  {
   "cell_type": "code",
   "execution_count": null,
   "id": "d43003cc",
   "metadata": {
    "papermill": {
     "duration": 0.015284,
     "end_time": "2022-06-20T23:23:38.857644",
     "exception": false,
     "start_time": "2022-06-20T23:23:38.842360",
     "status": "completed"
    },
    "tags": []
   },
   "outputs": [],
   "source": []
  },
  {
   "cell_type": "code",
   "execution_count": null,
   "id": "64056988",
   "metadata": {
    "papermill": {
     "duration": 0.014821,
     "end_time": "2022-06-20T23:23:38.887341",
     "exception": false,
     "start_time": "2022-06-20T23:23:38.872520",
     "status": "completed"
    },
    "tags": []
   },
   "outputs": [],
   "source": []
  },
  {
   "cell_type": "code",
   "execution_count": null,
   "id": "25fe1295",
   "metadata": {
    "papermill": {
     "duration": 0.015892,
     "end_time": "2022-06-20T23:23:38.918714",
     "exception": false,
     "start_time": "2022-06-20T23:23:38.902822",
     "status": "completed"
    },
    "tags": []
   },
   "outputs": [],
   "source": []
  },
  {
   "cell_type": "code",
   "execution_count": null,
   "id": "cee0000b",
   "metadata": {
    "papermill": {
     "duration": 0.016126,
     "end_time": "2022-06-20T23:23:38.950603",
     "exception": false,
     "start_time": "2022-06-20T23:23:38.934477",
     "status": "completed"
    },
    "tags": []
   },
   "outputs": [],
   "source": []
  }
 ],
 "metadata": {
  "celltoolbar": "Tags",
  "hide_input": false,
  "kernelspec": {
   "display_name": "Python 3 (ipykernel)",
   "language": "python",
   "name": "python3"
  },
  "language_info": {
   "codemirror_mode": {
    "name": "ipython",
    "version": 3
   },
   "file_extension": ".py",
   "mimetype": "text/x-python",
   "name": "python",
   "nbconvert_exporter": "python",
   "pygments_lexer": "ipython3",
   "version": "3.7.12"
  },
  "papermill": {
   "default_parameters": {},
   "duration": 909.958491,
   "end_time": "2022-06-20T23:23:41.953330",
   "environment_variables": {},
   "exception": null,
   "input_path": "/home/hanliu/project/cemba/study/Integration/mC_AIBS_SMART_Gene/Template/01.prepare_mc.ipynb",
   "output_path": "Neuron/01.prepare_mc.ipynb",
   "parameters": {},
   "start_time": "2022-06-20T23:08:31.994839",
   "version": "2.3.3"
  },
  "toc": {
   "base_numbering": 1,
   "nav_menu": {},
   "number_sections": true,
   "sideBar": true,
   "skip_h1_title": true,
   "title_cell": "Table of Contents",
   "title_sidebar": "Contents",
   "toc_cell": false,
   "toc_position": {},
   "toc_section_display": true,
   "toc_window_display": true
  }
 },
 "nbformat": 4,
 "nbformat_minor": 5
}
