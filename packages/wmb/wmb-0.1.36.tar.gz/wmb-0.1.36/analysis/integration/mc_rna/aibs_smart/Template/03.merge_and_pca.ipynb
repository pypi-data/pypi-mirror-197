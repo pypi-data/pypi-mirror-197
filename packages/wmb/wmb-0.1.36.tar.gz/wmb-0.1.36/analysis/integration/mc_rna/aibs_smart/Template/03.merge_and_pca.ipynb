{
 "cells": [
  {
   "cell_type": "code",
   "execution_count": null,
   "id": "fc8a8b6d",
   "metadata": {
    "ExecuteTime": {
     "end_time": "2022-06-26T05:59:00.522304Z",
     "start_time": "2022-06-26T05:58:57.945965Z"
    },
    "execution": {
     "iopub.execute_input": "2022-06-20T23:23:44.896480Z",
     "iopub.status.busy": "2022-06-20T23:23:44.892325Z",
     "iopub.status.idle": "2022-06-20T23:23:48.405634Z",
     "shell.execute_reply": "2022-06-20T23:23:48.405955Z"
    },
    "papermill": {
     "duration": 3.523317,
     "end_time": "2022-06-20T23:23:48.406169",
     "exception": false,
     "start_time": "2022-06-20T23:23:44.882852",
     "status": "completed"
    },
    "pycharm": {
     "name": "#%%\n"
    },
    "tags": []
   },
   "outputs": [],
   "source": [
    "from ALLCools.clustering import *\n",
    "from sklearn.decomposition import PCA\n",
    "import anndata\n",
    "\n",
    "import numpy as np"
   ]
  },
  {
   "cell_type": "code",
   "execution_count": null,
   "id": "14e4a573",
   "metadata": {
    "ExecuteTime": {
     "end_time": "2022-06-26T05:59:00.527816Z",
     "start_time": "2022-06-26T05:59:00.525235Z"
    },
    "execution": {
     "iopub.execute_input": "2022-06-20T23:23:48.424852Z",
     "iopub.status.busy": "2022-06-20T23:23:48.424495Z",
     "iopub.status.idle": "2022-06-20T23:23:48.426209Z",
     "shell.execute_reply": "2022-06-20T23:23:48.425836Z"
    },
    "papermill": {
     "duration": 0.012271,
     "end_time": "2022-06-20T23:23:48.426292",
     "exception": false,
     "start_time": "2022-06-20T23:23:48.414021",
     "status": "completed"
    },
    "tags": [
     "parameters"
    ]
   },
   "outputs": [],
   "source": [
    "n_train_cell = 100000"
   ]
  },
  {
   "cell_type": "markdown",
   "id": "bd6dd2a1",
   "metadata": {
    "papermill": {
     "duration": 0.007143,
     "end_time": "2022-06-20T23:23:48.440661",
     "exception": false,
     "start_time": "2022-06-20T23:23:48.433518",
     "status": "completed"
    },
    "pycharm": {
     "name": "#%% md\n"
    },
    "tags": []
   },
   "source": [
    "## Merge Adata"
   ]
  },
  {
   "cell_type": "code",
   "execution_count": null,
   "id": "faf92a2f",
   "metadata": {
    "ExecuteTime": {
     "end_time": "2022-06-26T05:59:00.713265Z",
     "start_time": "2022-06-26T05:59:00.530609Z"
    },
    "execution": {
     "iopub.execute_input": "2022-06-20T23:23:48.459383Z",
     "iopub.status.busy": "2022-06-20T23:23:48.456454Z",
     "iopub.status.idle": "2022-06-20T23:24:00.812466Z",
     "shell.execute_reply": "2022-06-20T23:24:00.812088Z"
    },
    "papermill": {
     "duration": 12.364844,
     "end_time": "2022-06-20T23:24:00.812568",
     "exception": false,
     "start_time": "2022-06-20T23:23:48.447724",
     "status": "completed"
    },
    "pycharm": {
     "name": "#%%\n"
    },
    "tags": []
   },
   "outputs": [],
   "source": [
    "ref_adata = anndata.read_h5ad('mc_input.h5ad')\n",
    "query_adata = anndata.read_h5ad('rna_input.h5ad')"
   ]
  },
  {
   "cell_type": "code",
   "execution_count": null,
   "id": "4f97dad6",
   "metadata": {
    "ExecuteTime": {
     "end_time": "2022-06-26T05:59:01.488767Z",
     "start_time": "2022-06-26T05:59:00.715514Z"
    },
    "execution": {
     "iopub.execute_input": "2022-06-20T23:24:00.880463Z",
     "iopub.status.busy": "2022-06-20T23:24:00.880091Z",
     "iopub.status.idle": "2022-06-20T23:24:30.174789Z",
     "shell.execute_reply": "2022-06-20T23:24:30.175111Z"
    },
    "papermill": {
     "duration": 29.355286,
     "end_time": "2022-06-20T23:24:30.175245",
     "exception": false,
     "start_time": "2022-06-20T23:24:00.819959",
     "status": "completed"
    },
    "pycharm": {
     "name": "#%%\n"
    },
    "tags": []
   },
   "outputs": [],
   "source": [
    "use_var = ref_adata.var_names.intersection(query_adata.var_names)\n",
    "ref_adata._inplace_subset_var(use_var)\n",
    "query_adata._inplace_subset_var(use_var)"
   ]
  },
  {
   "cell_type": "code",
   "execution_count": null,
   "id": "16181217",
   "metadata": {
    "ExecuteTime": {
     "end_time": "2022-06-26T05:59:01.645324Z",
     "start_time": "2022-06-26T05:59:01.492107Z"
    },
    "execution": {
     "iopub.execute_input": "2022-06-20T23:24:30.207391Z",
     "iopub.status.busy": "2022-06-20T23:24:30.207024Z",
     "iopub.status.idle": "2022-06-20T23:24:32.249796Z",
     "shell.execute_reply": "2022-06-20T23:24:32.250112Z"
    },
    "papermill": {
     "duration": 2.067128,
     "end_time": "2022-06-20T23:24:32.250235",
     "exception": false,
     "start_time": "2022-06-20T23:24:30.183107",
     "status": "completed"
    },
    "pycharm": {
     "name": "#%%\n"
    },
    "tags": []
   },
   "outputs": [],
   "source": [
    "adata_merge = ref_adata.concatenate(query_adata,\n",
    "                                    batch_categories=['mC', 'RNA'],\n",
    "                                    batch_key='Modality',\n",
    "                                    index_unique=None)\n",
    "adata_merge"
   ]
  },
  {
   "cell_type": "code",
   "execution_count": null,
   "id": "864649e1",
   "metadata": {
    "ExecuteTime": {
     "end_time": "2022-06-26T05:59:01.650859Z",
     "start_time": "2022-06-26T05:59:01.647252Z"
    },
    "execution": {
     "iopub.execute_input": "2022-06-20T23:24:32.270304Z",
     "iopub.status.busy": "2022-06-20T23:24:32.269945Z",
     "iopub.status.idle": "2022-06-20T23:24:32.271777Z",
     "shell.execute_reply": "2022-06-20T23:24:32.272037Z"
    },
    "papermill": {
     "duration": 0.014231,
     "end_time": "2022-06-20T23:24:32.272130",
     "exception": false,
     "start_time": "2022-06-20T23:24:32.257899",
     "status": "completed"
    },
    "tags": []
   },
   "outputs": [],
   "source": [
    "np.random.seed(0)\n",
    "\n",
    "# select mC cells to fit the model\n",
    "train_cell = np.zeros(ref_adata.shape[0]).astype(bool)\n",
    "if ref_adata.shape[0] > n_train_cell:\n",
    "    train_cell[np.random.choice(np.arange(ref_adata.shape[0]), n_train_cell,\n",
    "                                False)] = True\n",
    "else:\n",
    "    train_cell[:] = True\n",
    "\n",
    "ref_adata.obs['Train'] = train_cell.copy()"
   ]
  },
  {
   "cell_type": "markdown",
   "id": "9de25aba",
   "metadata": {
    "papermill": {
     "duration": 0.007616,
     "end_time": "2022-06-20T23:24:32.287142",
     "exception": false,
     "start_time": "2022-06-20T23:24:32.279526",
     "status": "completed"
    },
    "pycharm": {
     "name": "#%% md\n"
    },
    "tags": []
   },
   "source": [
    "## Run PCA on Merged Adata"
   ]
  },
  {
   "cell_type": "code",
   "execution_count": null,
   "id": "2a642423",
   "metadata": {
    "ExecuteTime": {
     "end_time": "2022-06-26T05:59:03.349887Z",
     "start_time": "2022-06-26T05:59:01.652688Z"
    },
    "execution": {
     "iopub.execute_input": "2022-06-20T23:24:32.307777Z",
     "iopub.status.busy": "2022-06-20T23:24:32.306946Z",
     "iopub.status.idle": "2022-06-20T23:25:25.964820Z",
     "shell.execute_reply": "2022-06-20T23:25:25.965140Z"
    },
    "papermill": {
     "duration": 53.670785,
     "end_time": "2022-06-20T23:25:25.965315",
     "exception": false,
     "start_time": "2022-06-20T23:24:32.294530",
     "status": "completed"
    },
    "pycharm": {
     "name": "#%%\n"
    },
    "tags": []
   },
   "outputs": [],
   "source": [
    "if ref_adata.X[ref_adata.obs['Train'].values].shape[1] >= 100:\n",
    "    model = PCA(n_components=100, svd_solver='arpack', random_state=0)\n",
    "else:\n",
    "    model = PCA(n_components=ref_adata.X[ref_adata.obs['Train'].values].shape[1]-1, svd_solver='arpack', random_state=0)\n",
    "\n",
    "# use selected mC cells to fit\n",
    "model.fit(ref_adata.X[ref_adata.obs['Train'].values])\n",
    "sel_dim = (model.singular_values_ != 0)\n",
    "print(sel_dim.sum())"
   ]
  },
  {
   "cell_type": "code",
   "execution_count": null,
   "id": "af589004",
   "metadata": {
    "ExecuteTime": {
     "end_time": "2022-06-26T05:59:03.641424Z",
     "start_time": "2022-06-26T05:59:03.353577Z"
    },
    "execution": {
     "iopub.execute_input": "2022-06-20T23:25:25.987382Z",
     "iopub.status.busy": "2022-06-20T23:25:25.986995Z",
     "iopub.status.idle": "2022-06-20T23:26:47.806673Z",
     "shell.execute_reply": "2022-06-20T23:26:47.806980Z"
    },
    "papermill": {
     "duration": 81.833606,
     "end_time": "2022-06-20T23:26:47.807099",
     "exception": false,
     "start_time": "2022-06-20T23:25:25.973493",
     "status": "completed"
    },
    "pycharm": {
     "name": "#%%\n"
    },
    "tags": []
   },
   "outputs": [],
   "source": [
    "# transform all other data\n",
    "chunk_size = 50000\n",
    "chunks = []\n",
    "for chunk_start in range(0, adata_merge.shape[0], chunk_size):\n",
    "    chunks.append(\n",
    "        model.transform(adata_merge.X[chunk_start:(chunk_start + chunk_size)]))\n",
    "\n",
    "adata_merge.obsm['X_pca'] = np.concatenate(chunks, axis=0)[:, sel_dim]\n",
    "adata_merge.obsm['X_pca'] /= model.singular_values_[sel_dim]"
   ]
  },
  {
   "cell_type": "code",
   "execution_count": null,
   "id": "0aae8489",
   "metadata": {
    "ExecuteTime": {
     "end_time": "2022-06-26T05:59:03.811496Z",
     "start_time": "2022-06-26T05:59:03.645771Z"
    },
    "execution": {
     "iopub.execute_input": "2022-06-20T23:26:47.829471Z",
     "iopub.status.busy": "2022-06-20T23:26:47.829105Z",
     "iopub.status.idle": "2022-06-20T23:26:49.646667Z",
     "shell.execute_reply": "2022-06-20T23:26:49.646337Z"
    },
    "papermill": {
     "duration": 1.831292,
     "end_time": "2022-06-20T23:26:49.646747",
     "exception": false,
     "start_time": "2022-06-20T23:26:47.815455",
     "status": "completed"
    },
    "pycharm": {
     "name": "#%%\n"
    },
    "tags": []
   },
   "outputs": [],
   "source": [
    "significant_pc_test(adata_merge, p_cutoff=0.1, obsm='X_pca')"
   ]
  },
  {
   "cell_type": "code",
   "execution_count": null,
   "id": "e9cc32a9",
   "metadata": {
    "ExecuteTime": {
     "end_time": "2022-06-26T05:59:04.203528Z",
     "start_time": "2022-06-26T05:59:03.813404Z"
    },
    "execution": {
     "iopub.execute_input": "2022-06-20T23:26:49.669105Z",
     "iopub.status.busy": "2022-06-20T23:26:49.668716Z",
     "iopub.status.idle": "2022-06-20T23:26:55.575023Z",
     "shell.execute_reply": "2022-06-20T23:26:55.575342Z"
    },
    "papermill": {
     "duration": 5.919799,
     "end_time": "2022-06-20T23:26:55.575473",
     "exception": false,
     "start_time": "2022-06-20T23:26:49.655674",
     "status": "completed"
    },
    "pycharm": {
     "name": "#%%\n"
    },
    "tags": []
   },
   "outputs": [],
   "source": [
    "for m in ['mC', 'RNA']:\n",
    "    adata = adata_merge[adata_merge.obs['Modality'] == m].copy()\n",
    "    adata.write_h5ad(f'{m.lower()}_pca.h5ad')"
   ]
  },
  {
   "cell_type": "code",
   "execution_count": null,
   "id": "51ca7335",
   "metadata": {
    "ExecuteTime": {
     "end_time": "2022-06-26T05:59:04.208803Z",
     "start_time": "2022-06-26T05:59:04.205685Z"
    },
    "execution": {
     "iopub.execute_input": "2022-06-20T23:26:55.597566Z",
     "iopub.status.busy": "2022-06-20T23:26:55.597201Z",
     "iopub.status.idle": "2022-06-20T23:26:55.599458Z",
     "shell.execute_reply": "2022-06-20T23:26:55.599068Z"
    },
    "papermill": {
     "duration": 0.01465,
     "end_time": "2022-06-20T23:26:55.599539",
     "exception": false,
     "start_time": "2022-06-20T23:26:55.584889",
     "status": "completed"
    },
    "pycharm": {
     "name": "#%%\n"
    },
    "tags": []
   },
   "outputs": [],
   "source": [
    "adata_merge"
   ]
  },
  {
   "cell_type": "code",
   "execution_count": null,
   "id": "263724af",
   "metadata": {
    "papermill": {
     "duration": 0.009363,
     "end_time": "2022-06-20T23:26:55.618282",
     "exception": false,
     "start_time": "2022-06-20T23:26:55.608919",
     "status": "completed"
    },
    "pycharm": {
     "name": "#%%\n"
    },
    "tags": []
   },
   "outputs": [],
   "source": []
  }
 ],
 "metadata": {
  "celltoolbar": "Tags",
  "hide_input": false,
  "kernelspec": {
   "display_name": "Python 3 (ipykernel)",
   "language": "python",
   "name": "python3"
  },
  "language_info": {
   "codemirror_mode": {
    "name": "ipython",
    "version": 3
   },
   "file_extension": ".py",
   "mimetype": "text/x-python",
   "name": "python",
   "nbconvert_exporter": "python",
   "pygments_lexer": "ipython3",
   "version": "3.7.12"
  },
  "papermill": {
   "default_parameters": {},
   "duration": 194.975686,
   "end_time": "2022-06-20T23:26:57.683486",
   "environment_variables": {},
   "exception": null,
   "input_path": "/home/hanliu/project/cemba/study/Integration/mC_AIBS_SMART_Gene/Template/03.merge_and_pca.ipynb",
   "output_path": "Neuron/03.merge_and_pca.ipynb",
   "parameters": {},
   "start_time": "2022-06-20T23:23:42.707800",
   "version": "2.3.3"
  },
  "toc": {
   "base_numbering": 1,
   "nav_menu": {},
   "number_sections": true,
   "sideBar": true,
   "skip_h1_title": true,
   "title_cell": "Table of Contents",
   "title_sidebar": "Contents",
   "toc_cell": false,
   "toc_position": {},
   "toc_section_display": true,
   "toc_window_display": true
  }
 },
 "nbformat": 4,
 "nbformat_minor": 5
}
