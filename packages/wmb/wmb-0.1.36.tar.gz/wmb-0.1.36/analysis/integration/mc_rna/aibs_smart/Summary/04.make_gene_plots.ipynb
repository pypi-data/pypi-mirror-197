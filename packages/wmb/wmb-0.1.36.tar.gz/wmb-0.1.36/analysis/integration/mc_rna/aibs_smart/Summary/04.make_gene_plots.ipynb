{
 "cells": [
  {
   "cell_type": "code",
   "execution_count": null,
   "id": "47363c3d",
   "metadata": {
    "ExecuteTime": {
     "end_time": "2022-07-08T22:57:20.194497Z",
     "start_time": "2022-07-08T22:57:20.191587Z"
    }
   },
   "outputs": [],
   "source": [
    "import pandas as pd\n",
    "import seaborn as sns\n",
    "import matplotlib as mpl\n",
    "import matplotlib.pyplot as plt\n",
    "import numpy as np\n",
    "import pathlib\n",
    "\n",
    "import anndata\n",
    "\n",
    "from ALLCools.mcds import MCDS\n",
    "from ALLCools.plot import *\n",
    "from ALLCools.plot.color import level_one_palette\n",
    "from wmb import *"
   ]
  },
  {
   "cell_type": "code",
   "execution_count": null,
   "id": "e91b5a84",
   "metadata": {
    "ExecuteTime": {
     "end_time": "2022-07-08T22:44:23.110095Z",
     "start_time": "2022-07-08T22:44:22.584874Z"
    }
   },
   "outputs": [],
   "source": [
    "total_result = pd.read_hdf('L1_integration_summary.hdf')"
   ]
  },
  {
   "cell_type": "code",
   "execution_count": null,
   "id": "d135b6e2",
   "metadata": {
    "ExecuteTime": {
     "end_time": "2022-07-08T22:44:23.126615Z",
     "start_time": "2022-07-08T22:44:23.112653Z"
    }
   },
   "outputs": [],
   "source": [
    "total_result.head()"
   ]
  },
  {
   "cell_type": "code",
   "execution_count": null,
   "id": "df93cf5e",
   "metadata": {
    "ExecuteTime": {
     "end_time": "2022-07-08T22:44:23.158715Z",
     "start_time": "2022-07-08T22:44:23.129242Z"
    }
   },
   "outputs": [],
   "source": [
    "mc_result = total_result[total_result['L1_Modality'] == 'mC']\n",
    "rna_result = total_result[total_result['L1_Modality'] == 'RNA']"
   ]
  },
  {
   "cell_type": "markdown",
   "id": "9da2f372",
   "metadata": {},
   "source": [
    "## Get L4 Aggregation Dataframe"
   ]
  },
  {
   "cell_type": "code",
   "execution_count": null,
   "id": "f42de731",
   "metadata": {
    "ExecuteTime": {
     "end_time": "2022-07-08T22:44:28.019640Z",
     "start_time": "2022-07-08T22:44:23.161300Z"
    }
   },
   "outputs": [],
   "source": [
    "mc_annot = cemba.get_mc_annot()\n",
    "rna_annot = aibs.get_smart_annot()"
   ]
  },
  {
   "cell_type": "code",
   "execution_count": null,
   "id": "6bd54e9e",
   "metadata": {
    "ExecuteTime": {
     "end_time": "2022-07-08T22:44:28.257517Z",
     "start_time": "2022-07-08T22:44:28.024145Z"
    }
   },
   "outputs": [],
   "source": [
    "mc_l4 = mc_annot['L4'].to_pandas()\n",
    "mc_result_l4 = mc_result.groupby(mc_l4).agg({\n",
    "    'L1_InteGroup': lambda i: i.unique()[0],\n",
    "    'L1_tsne_0': 'median',\n",
    "    'L1_tsne_1': 'median',\n",
    "    'L1_umap_0': 'median',\n",
    "    'L1_umap_1': 'median',\n",
    "})"
   ]
  },
  {
   "cell_type": "code",
   "execution_count": null,
   "id": "b7aac0a9",
   "metadata": {
    "ExecuteTime": {
     "end_time": "2022-07-08T22:44:28.559827Z",
     "start_time": "2022-07-08T22:44:28.259656Z"
    }
   },
   "outputs": [],
   "source": [
    "rna_l4 = rna_annot['L4'].to_pandas()\n",
    "rna_result_l4 = rna_result.groupby(rna_l4).agg({\n",
    "    'L1_InteGroup': lambda i: i.unique()[0],\n",
    "    'L1_tsne_0': 'median',\n",
    "    'L1_tsne_1': 'median',\n",
    "    'L1_umap_0': 'median',\n",
    "    'L1_umap_1': 'median',\n",
    "})"
   ]
  },
  {
   "cell_type": "markdown",
   "id": "2dfee4c2",
   "metadata": {},
   "source": [
    "## Cell level gene plot"
   ]
  },
  {
   "cell_type": "code",
   "execution_count": null,
   "id": "5be3b7ff",
   "metadata": {
    "ExecuteTime": {
     "end_time": "2022-07-08T22:44:35.646648Z",
     "start_time": "2022-07-08T22:44:28.561967Z"
    }
   },
   "outputs": [],
   "source": [
    "fig, axes = plt.subplots(figsize=(10, 10), nrows=2, ncols=2, dpi=300)\n",
    "\n",
    "coord = 'L1_tsne'\n",
    "gene = 'Gad1'\n",
    "mc_type = 'CHN'\n",
    "\n",
    "ax = axes[0, 0]\n",
    "categorical_scatter(mc_result, ax=ax, hue='L1_InteGroup', coord_base=coord)\n",
    "ax.set(title='mC Inte Group')\n",
    "ax = axes[0, 1]\n",
    "categorical_scatter(rna_result, ax=ax, hue='L1_InteGroup', coord_base=coord)\n",
    "ax.set(title='RNA Inte Group')\n",
    "ax = axes[1, 0]\n",
    "mc_gene_data = cemba.get_mc_gene_frac(gene, mc_type=mc_type)\n",
    "continuous_scatter(mc_result,\n",
    "                   ax=ax,\n",
    "                   hue=mc_gene_data,\n",
    "                   coord_base=coord,\n",
    "                   cmap='viridis',\n",
    "                   hue_portion=0.8)\n",
    "ax.set(title=f'mC {gene} {mc_type}')\n",
    "ax = axes[1, 1]\n",
    "rna_gene_data = aibs.get_smart_gene_data(gene)\n",
    "continuous_scatter(rna_result,\n",
    "                   ax=ax,\n",
    "                   hue=rna_gene_data,\n",
    "                   coord_base=coord,\n",
    "                   cmap='viridis_r')\n",
    "ax.set(title=f'RNA {gene} log1p(CPM)')"
   ]
  },
  {
   "cell_type": "markdown",
   "id": "fb89c63e",
   "metadata": {},
   "source": [
    "## Cluster level gene plot"
   ]
  },
  {
   "cell_type": "code",
   "execution_count": null,
   "id": "6a2a4094",
   "metadata": {
    "ExecuteTime": {
     "end_time": "2022-07-08T22:44:51.992825Z",
     "start_time": "2022-07-08T22:44:51.033448Z"
    }
   },
   "outputs": [],
   "source": [
    "fig, axes = plt.subplots(figsize=(10, 10), nrows=2, ncols=2, dpi=300)\n",
    "\n",
    "coord = 'L1_tsne'\n",
    "gene = 'Gad1'\n",
    "mc_type = 'CHN'\n",
    "mc_df = mc_result_l4\n",
    "rna_df = rna_result_l4\n",
    "\n",
    "mc_gene_data = cemba.get_mc_gene_frac(gene, mc_type=mc_type)\n",
    "mc_gene_data = mc_gene_data.groupby(mc_l4).mean()\n",
    "mc_size = mc_l4.value_counts()\n",
    "\n",
    "rna_gene_data = aibs.get_smart_gene_data(gene)\n",
    "rna_gene_data = rna_gene_data.groupby(rna_l4).mean()\n",
    "rna_size = rna_l4.value_counts()\n",
    "\n",
    "ax = axes[0, 0]\n",
    "categorical_scatter(mc_df,\n",
    "                    ax=ax,\n",
    "                    hue='L1_InteGroup',\n",
    "                    size=mc_size,\n",
    "                    sizes=(0.5, 20),\n",
    "                    size_portion=0.95,\n",
    "                    coord_base=coord)\n",
    "ax.set(title='mC Inte Group')\n",
    "\n",
    "ax = axes[0, 1]\n",
    "categorical_scatter(rna_df,\n",
    "                    ax=ax,\n",
    "                    hue='L1_InteGroup',\n",
    "                    size=rna_size,\n",
    "                    sizes=(0.5, 20),\n",
    "                    size_portion=0.95,\n",
    "                    coord_base=coord)\n",
    "ax.set(title='RNA Inte Group')\n",
    "\n",
    "ax = axes[1, 0]\n",
    "continuous_scatter(mc_df,\n",
    "                   ax=ax,\n",
    "                   hue=mc_gene_data,\n",
    "                   size=mc_size,\n",
    "                   sizes=(0.5, 20),\n",
    "                   size_portion=0.95,\n",
    "                   coord_base=coord,\n",
    "                   cmap='viridis')\n",
    "ax.set(title=f'mC {gene} {mc_type}')\n",
    "\n",
    "ax = axes[1, 1]\n",
    "continuous_scatter(rna_df,\n",
    "                   ax=ax,\n",
    "                   hue=rna_gene_data,\n",
    "                   size=rna_size,\n",
    "                   sizes=(0.5, 20),\n",
    "                   size_portion=0.95,\n",
    "                   coord_base=coord,\n",
    "                   cmap='viridis_r')\n",
    "ax.set(title=f'RNA {gene} log1p(CPM)')"
   ]
  },
  {
   "cell_type": "markdown",
   "id": "bc7e2309",
   "metadata": {},
   "source": [
    "### Multi-gene comparison"
   ]
  },
  {
   "cell_type": "code",
   "execution_count": null,
   "id": "00795537",
   "metadata": {
    "ExecuteTime": {
     "end_time": "2022-07-08T22:47:50.494331Z",
     "start_time": "2022-07-08T22:47:50.490545Z"
    }
   },
   "outputs": [],
   "source": [
    "genes = pd.read_csv('genes_to_plot.txt', header=None, index_col=0).index"
   ]
  },
  {
   "cell_type": "code",
   "execution_count": null,
   "id": "86a92737",
   "metadata": {},
   "outputs": [],
   "source": [
    "inte_group_palette = level_one_palette(mc_result['L1_InteGroup'])"
   ]
  },
  {
   "cell_type": "code",
   "execution_count": null,
   "id": "a0945b54",
   "metadata": {
    "ExecuteTime": {
     "end_time": "2022-07-08T23:07:58.419177Z",
     "start_time": "2022-07-08T23:07:58.060922Z"
    }
   },
   "outputs": [],
   "source": [
    "mc_gene_data = pd.DataFrame(\n",
    "    {gene: cemba.get_mc_gene_frac(gene)\n",
    "     for gene in genes})\n",
    "mc_l4_gene_data = mc_gene_data.groupby(mc_l4).mean()\n",
    "\n",
    "# reorder data by inte group\n",
    "cluster_order_by_inte_group = mc_result_l4['L1_InteGroup'].sort_values().index\n",
    "mc_l4_gene_data = mc_l4_gene_data.loc[cluster_order_by_inte_group].copy()"
   ]
  },
  {
   "cell_type": "code",
   "execution_count": null,
   "id": "9ffe7b02",
   "metadata": {
    "ExecuteTime": {
     "end_time": "2022-07-08T23:15:01.255295Z",
     "start_time": "2022-07-08T23:15:00.257891Z"
    }
   },
   "outputs": [],
   "source": [
    "fig = plt.figure(figsize=(6, 5), dpi=300)\n",
    "\n",
    "gs = fig.add_gridspec(nrows=5, ncols=6)\n",
    "\n",
    "plot_data = mc_l4_gene_data\n",
    "\n",
    "group_ax = fig.add_subplot(gs[:, 0])\n",
    "inte_group_img = np.array([\n",
    "    inte_group_palette[g]\n",
    "    for g in plot_data.index.map(mc_result_l4['L1_InteGroup'])\n",
    "])\n",
    "inte_group_img = inte_group_img[:, None, :]\n",
    "group_ax.imshow(inte_group_img, aspect='auto')\n",
    "\n",
    "heatmap_ax = fig.add_subplot(gs[:, 1:])\n",
    "heatmap_ax.imshow(plot_data, aspect='auto', vmin=0, vmax=2)"
   ]
  },
  {
   "cell_type": "code",
   "execution_count": null,
   "id": "5c1bb1a4",
   "metadata": {
    "ExecuteTime": {
     "end_time": "2022-07-08T23:14:28.331133Z",
     "start_time": "2022-07-08T23:14:28.212501Z"
    }
   },
   "outputs": [],
   "source": [
    "rna_gene_data = pd.DataFrame(\n",
    "    {gene: aibs.get_smart_gene_data(gene)\n",
    "     for gene in genes})\n",
    "rna_l4_gene_data = rna_gene_data.groupby(rna_l4).mean()\n",
    "\n",
    "# reorder data by inte group\n",
    "cluster_order_by_inte_group = rna_result_l4['L1_InteGroup'].sort_values().index\n",
    "rna_l4_gene_data = rna_l4_gene_data.loc[cluster_order_by_inte_group].copy()"
   ]
  },
  {
   "cell_type": "code",
   "execution_count": null,
   "id": "cd721a6a",
   "metadata": {
    "ExecuteTime": {
     "end_time": "2022-07-08T23:14:22.059003Z",
     "start_time": "2022-07-08T23:14:20.912903Z"
    }
   },
   "outputs": [],
   "source": [
    "fig = plt.figure(figsize=(6, 5), dpi=300)\n",
    "\n",
    "gs = fig.add_gridspec(nrows=5, ncols=6)\n",
    "\n",
    "plot_data = rna_l4_gene_data\n",
    "\n",
    "group_ax = fig.add_subplot(gs[:, 0])\n",
    "inte_group_img = np.array([\n",
    "    inte_group_palette[g]\n",
    "    for g in plot_data.index.map(rna_result_l4['L1_InteGroup'])\n",
    "])\n",
    "inte_group_img = inte_group_img[:, None, :]\n",
    "group_ax.imshow(inte_group_img, aspect='auto')\n",
    "\n",
    "heatmap_ax = fig.add_subplot(gs[:, 1:])\n",
    "heatmap_ax.imshow(plot_data, aspect='auto', vmin=0, vmax=2)"
   ]
  },
  {
   "cell_type": "code",
   "execution_count": null,
   "id": "9b235e8f",
   "metadata": {},
   "outputs": [],
   "source": []
  },
  {
   "cell_type": "code",
   "execution_count": null,
   "id": "56702e9d",
   "metadata": {},
   "outputs": [],
   "source": []
  },
  {
   "cell_type": "code",
   "execution_count": null,
   "id": "e3fb7048",
   "metadata": {},
   "outputs": [],
   "source": []
  },
  {
   "cell_type": "code",
   "execution_count": null,
   "id": "d4fbe7bc",
   "metadata": {},
   "outputs": [],
   "source": []
  },
  {
   "cell_type": "code",
   "execution_count": null,
   "id": "37b74e83",
   "metadata": {},
   "outputs": [],
   "source": []
  },
  {
   "cell_type": "code",
   "execution_count": null,
   "id": "f76c1464",
   "metadata": {},
   "outputs": [],
   "source": []
  },
  {
   "cell_type": "code",
   "execution_count": null,
   "id": "7c0ba459",
   "metadata": {},
   "outputs": [],
   "source": []
  },
  {
   "cell_type": "code",
   "execution_count": null,
   "id": "2ef4c2fd",
   "metadata": {},
   "outputs": [],
   "source": []
  },
  {
   "cell_type": "code",
   "execution_count": null,
   "id": "6996ca56",
   "metadata": {},
   "outputs": [],
   "source": []
  },
  {
   "cell_type": "code",
   "execution_count": null,
   "id": "a5c523cd",
   "metadata": {},
   "outputs": [],
   "source": []
  },
  {
   "cell_type": "code",
   "execution_count": null,
   "id": "02f4aaf9",
   "metadata": {},
   "outputs": [],
   "source": []
  },
  {
   "cell_type": "code",
   "execution_count": null,
   "id": "5a8891e5",
   "metadata": {},
   "outputs": [],
   "source": []
  },
  {
   "cell_type": "code",
   "execution_count": null,
   "id": "e1eb9466",
   "metadata": {},
   "outputs": [],
   "source": []
  }
 ],
 "metadata": {
  "hide_input": false,
  "kernelspec": {
   "display_name": "Python 3 (ipykernel)",
   "language": "python",
   "name": "python3"
  },
  "language_info": {
   "codemirror_mode": {
    "name": "ipython",
    "version": 3
   },
   "file_extension": ".py",
   "mimetype": "text/x-python",
   "name": "python",
   "nbconvert_exporter": "python",
   "pygments_lexer": "ipython3",
   "version": "3.7.12"
  },
  "toc": {
   "base_numbering": 1,
   "nav_menu": {},
   "number_sections": true,
   "sideBar": true,
   "skip_h1_title": true,
   "title_cell": "Table of Contents",
   "title_sidebar": "Contents",
   "toc_cell": false,
   "toc_position": {},
   "toc_section_display": true,
   "toc_window_display": true
  }
 },
 "nbformat": 4,
 "nbformat_minor": 5
}
