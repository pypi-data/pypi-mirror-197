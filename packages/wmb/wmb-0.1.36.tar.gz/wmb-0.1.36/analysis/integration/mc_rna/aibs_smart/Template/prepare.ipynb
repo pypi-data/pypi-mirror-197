{
 "cells": [
  {
   "cell_type": "code",
   "execution_count": null,
   "id": "81176507",
   "metadata": {
    "ExecuteTime": {
     "end_time": "2022-06-28T02:08:09.141765Z",
     "start_time": "2022-06-28T02:08:06.326899Z"
    }
   },
   "outputs": [],
   "source": [
    "import pandas as pd\n",
    "import numpy as np\n",
    "from wmb import *\n",
    "from ALLCools.plot import *\n",
    "\n",
    "import pathlib"
   ]
  },
  {
   "cell_type": "code",
   "execution_count": null,
   "id": "eefe7a4a",
   "metadata": {
    "ExecuteTime": {
     "end_time": "2022-06-28T02:08:15.359236Z",
     "start_time": "2022-06-28T02:08:09.145337Z"
    }
   },
   "outputs": [],
   "source": [
    "mc_annot = cemba.get_mc_annot()\n",
    "rna_annot = aibs.get_smart_annot()"
   ]
  },
  {
   "cell_type": "code",
   "execution_count": null,
   "id": "86dc160e",
   "metadata": {
    "ExecuteTime": {
     "end_time": "2022-06-28T02:08:15.365230Z",
     "start_time": "2022-06-28T02:08:15.362072Z"
    }
   },
   "outputs": [],
   "source": [
    "def save_index(cells, file_name, downsample=100000, random_state=0):\n",
    "    cells = pd.Series(cells)\n",
    "    if cells.size > downsample:\n",
    "        cells = cells.sample(downsample, random_state=random_state)\n",
    "    cells.to_csv(file_name, index=None, header=False)"
   ]
  },
  {
   "cell_type": "markdown",
   "id": "a601e944",
   "metadata": {},
   "source": [
    "## L1 - Neuron Non-Neuron"
   ]
  },
  {
   "cell_type": "code",
   "execution_count": null,
   "id": "65916f8a",
   "metadata": {
    "ExecuteTime": {
     "end_time": "2022-06-27T20:31:03.102459Z",
     "start_time": "2022-06-27T20:31:03.057951Z"
    }
   },
   "outputs": [],
   "source": [
    "# neuron (not include DG-GC and CB)\n",
    "mc_neurons = ~mc_annot['L1_annot'].isin(\n",
    "    ['ODC', 'OPC', 'ASC', 'MGC', 'CB', 'CBX', 'DG'])\n",
    "rna_neurons = ~rna_annot['L1_annot'].isin(\n",
    "    ['ODC+OPC', 'MGC', 'ASC', 'NonN', 'DG', 'CB'])"
   ]
  },
  {
   "cell_type": "code",
   "execution_count": null,
   "id": "f1b688fb",
   "metadata": {
    "ExecuteTime": {
     "end_time": "2022-06-27T20:31:04.179469Z",
     "start_time": "2022-06-27T20:31:03.104972Z"
    }
   },
   "outputs": [],
   "source": [
    "pathlib.Path('../L1/Neuron').mkdir(exist_ok=True)\n",
    "save_index(mc_annot.sel(cell=mc_neurons).get_index('cell'),\n",
    "           file_name='../L1/Neuron/mc_cells.txt',\n",
    "           downsample=1000000,\n",
    "           random_state=0)\n",
    "\n",
    "save_index(rna_annot.sel(cell=rna_neurons).get_index('cell'),\n",
    "           file_name='../L1/Neuron/rna_cells.txt',\n",
    "           downsample=1000000,\n",
    "           random_state=0)"
   ]
  },
  {
   "cell_type": "code",
   "execution_count": null,
   "id": "6ac203f0",
   "metadata": {
    "ExecuteTime": {
     "end_time": "2022-06-27T20:31:04.185073Z",
     "start_time": "2022-06-27T20:31:04.182852Z"
    }
   },
   "outputs": [],
   "source": [
    "# pathlib.Path('../L1/NonNeuron').mkdir(exist_ok=True)\n",
    "# save_index(mc_annot.sel(cell=~mc_neurons).get_index('cell'),\n",
    "#            file_name='../L1/NonNeuron/mc_cells.txt',\n",
    "#            downsample=999999,\n",
    "#            random_state=0)\n",
    "#\n",
    "# save_index(rna_annot.sel(cell=~rna_neurons).get_index('cell'),\n",
    "#            file_name='../L1/NonNeuron/rna_cells.txt',\n",
    "#            downsample=999999,\n",
    "#            random_state=0)"
   ]
  },
  {
   "cell_type": "code",
   "execution_count": null,
   "id": "e9932eb3",
   "metadata": {
    "ExecuteTime": {
     "end_time": "2022-06-27T20:31:07.536013Z",
     "start_time": "2022-06-27T20:31:07.422191Z"
    }
   },
   "outputs": [],
   "source": [
    "cwd = pathlib.Path().absolute()\n",
    "\n",
    "with open('Snakefile') as f, open('../L1/Snakefile', 'w') as out_f:\n",
    "    snakefile_tmp = f.read()\n",
    "    snakefile_tmp = snakefile_tmp.replace('REPLACE_TEMPLATE_DIR', str(cwd))\n",
    "    snakefile_tmp = snakefile_tmp.replace('REPLACE_DATASET', 'AIBS_SMART')\n",
    "    snakefile_tmp = snakefile_tmp.replace('REPLACE_CLUSTER_COL', str('L1'))\n",
    "    snakefile_tmp = snakefile_tmp.replace('REPLACE_INTEGRATION_GROUP_KEY',\n",
    "                                          str('L2'))\n",
    "    snakefile_tmp = snakefile_tmp.replace('REPLACE_INTEGRATION_PLOT_KEY',\n",
    "                                          str('L1'))\n",
    "    snakefile_tmp = snakefile_tmp.replace(\n",
    "        'REPLACE_CATEGORICAL_KEY', str(['L1_annot', 'L2', 'DissectionRegion']))\n",
    "    out_f.write(snakefile_tmp)"
   ]
  },
  {
   "cell_type": "markdown",
   "id": "d7130c70",
   "metadata": {},
   "source": [
    "## L2"
   ]
  },
  {
   "cell_type": "code",
   "execution_count": null,
   "id": "0010c9f4",
   "metadata": {
    "ExecuteTime": {
     "end_time": "2022-06-28T02:08:03.627720Z",
     "start_time": "2022-06-28T02:08:03.547307Z"
    }
   },
   "outputs": [],
   "source": [
    "import joblib\n",
    "import pathlib\n",
    "import subprocess"
   ]
  },
  {
   "cell_type": "code",
   "execution_count": null,
   "id": "3c2acbff",
   "metadata": {
    "ExecuteTime": {
     "end_time": "2022-06-28T02:08:54.640472Z",
     "start_time": "2022-06-28T02:08:54.328728Z"
    }
   },
   "outputs": [],
   "source": [
    "mc_groups = pd.read_csv('../L1/Neuron/mc_integration_group.csv.gz',\n",
    "                        index_col=0).squeeze()\n",
    "rna_groups = pd.read_csv('../L1/Neuron/rna_integration_group.csv.gz',\n",
    "                         index_col=0).squeeze()"
   ]
  },
  {
   "cell_type": "code",
   "execution_count": null,
   "id": "eb689291",
   "metadata": {
    "ExecuteTime": {
     "end_time": "2022-06-28T02:08:59.644516Z",
     "start_time": "2022-06-28T02:08:59.638647Z"
    }
   },
   "outputs": [],
   "source": [
    "mc_groups.value_counts()"
   ]
  },
  {
   "cell_type": "code",
   "execution_count": null,
   "id": "f78fce44",
   "metadata": {
    "ExecuteTime": {
     "end_time": "2022-06-28T02:12:21.704408Z",
     "start_time": "2022-06-28T02:12:21.205648Z"
    }
   },
   "outputs": [],
   "source": [
    "for integration_group in rna_groups.unique():\n",
    "    mc_cells = mc_groups[mc_groups == integration_group].index\n",
    "    rna_cells = rna_groups[rna_groups == integration_group].index\n",
    "\n",
    "    integration_group = f'InteGroup{integration_group}'\n",
    "    out_dir = pathlib.Path(f'../L2/{integration_group}')\n",
    "    out_dir.mkdir(exist_ok=True, parents=True)\n",
    "\n",
    "    save_index(mc_cells,\n",
    "               f'../L2/{integration_group}/mc_cells.txt',\n",
    "               downsample=1000000,\n",
    "               random_state=0)\n",
    "    save_index(rna_cells,\n",
    "               f'../L2/{integration_group}/rna_cells.txt',\n",
    "               downsample=1000000,\n",
    "               random_state=0)\n",
    "\n",
    "cwd = pathlib.Path().absolute()\n",
    "with open('Snakefile') as f, open('../L2/Snakefile', 'w') as out_f:\n",
    "    snakefile_tmp = f.read()\n",
    "    snakefile_tmp = snakefile_tmp.replace('REPLACE_TEMPLATE_DIR', str(cwd))\n",
    "    snakefile_tmp = snakefile_tmp.replace('REPLACE_DATASET', 'AIBS_SMART')\n",
    "    snakefile_tmp = snakefile_tmp.replace('REPLACE_CLUSTER_COL', str('L2'))\n",
    "    snakefile_tmp = snakefile_tmp.replace('REPLACE_INTEGRATION_GROUP_KEY',\n",
    "                                          str('L3'))\n",
    "    snakefile_tmp = snakefile_tmp.replace('REPLACE_INTEGRATION_PLOT_KEY',\n",
    "                                          str('L2'))\n",
    "    snakefile_tmp = snakefile_tmp.replace(\n",
    "        'REPLACE_CATEGORICAL_KEY', str(['L2', 'L3', 'DissectionRegion']))\n",
    "    out_f.write(snakefile_tmp)"
   ]
  },
  {
   "cell_type": "markdown",
   "id": "e242af22-07a5-4022-8b66-4881776e7734",
   "metadata": {},
   "source": [
    "# L3"
   ]
  },
  {
   "cell_type": "code",
   "execution_count": null,
   "id": "eaf1a8b0-0b88-46f7-bed8-121a9da89bdd",
   "metadata": {},
   "outputs": [],
   "source": [
    "import joblib\n",
    "import pathlib\n",
    "import subprocess"
   ]
  },
  {
   "cell_type": "code",
   "execution_count": null,
   "id": "4361512d-c04a-4510-afd2-5f889c79cb89",
   "metadata": {},
   "outputs": [],
   "source": [
    "L2_group = []\n",
    "for path in pathlib.Path('../L2').glob('InteGroup*'):\n",
    "    L2_group.append(str(path).split('/')[-1])"
   ]
  },
  {
   "cell_type": "code",
   "execution_count": null,
   "id": "656ee9d8-0eb4-45f2-926e-8d458e4f375f",
   "metadata": {},
   "outputs": [],
   "source": [
    "for l2_group in L2_group:\n",
    "    mc_groups = pd.read_csv(f'../L2/{l2_group}/mc_integration_group.csv.gz',\n",
    "                        index_col=0).squeeze()\n",
    "    rna_groups = pd.read_csv(f'../L2/{l2_group}/rna_integration_group.csv.gz',\n",
    "                         index_col=0).squeeze()\n",
    "    \n",
    "    for integration_group in rna_groups.unique():\n",
    "        mc_cells = mc_groups[mc_groups == integration_group].index\n",
    "        rna_cells = rna_groups[rna_groups == integration_group].index\n",
    "\n",
    "        integration_group = f'{l2_group}_{integration_group}'\n",
    "        if mc_cells.size <= 150 or rna_cells.size <= 150:\n",
    "            print(integration_group)\n",
    "        else:\n",
    "            out_dir = pathlib.Path(f'../L3/{integration_group}')\n",
    "            out_dir.mkdir(exist_ok=True, parents=True)\n",
    "\n",
    "            save_index(mc_cells,\n",
    "                       f'../L3/{integration_group}/mc_cells.txt',\n",
    "                       downsample=1000000,\n",
    "                       random_state=0)\n",
    "            save_index(rna_cells,\n",
    "                       f'../L3/{integration_group}/rna_cells.txt',\n",
    "                       downsample=1000000,\n",
    "                       random_state=0)\n"
   ]
  },
  {
   "cell_type": "code",
   "execution_count": null,
   "id": "3eef0bed-07be-419f-adf8-3438b754945a",
   "metadata": {},
   "outputs": [],
   "source": [
    "cwd = pathlib.Path().absolute()\n",
    "with open('Snakefile') as f, open('../L3/Snakefile', 'w') as out_f:\n",
    "    snakefile_tmp = f.read()\n",
    "    snakefile_tmp = snakefile_tmp.replace('REPLACE_TEMPLATE_DIR', str(cwd))\n",
    "    snakefile_tmp = snakefile_tmp.replace('REPLACE_DATASET', 'AIBS_SMART')\n",
    "    snakefile_tmp = snakefile_tmp.replace('REPLACE_CLUSTER_COL', str('L3'))\n",
    "    snakefile_tmp = snakefile_tmp.replace('REPLACE_INTEGRATION_GROUP_KEY',\n",
    "                                          str('L3'))\n",
    "    snakefile_tmp = snakefile_tmp.replace('REPLACE_INTEGRATION_PLOT_KEY',\n",
    "                                          str('L3'))\n",
    "    snakefile_tmp = snakefile_tmp.replace(\n",
    "        'REPLACE_CATEGORICAL_KEY', str(['L3', 'DissectionRegion']))\n",
    "    out_f.write(snakefile_tmp)"
   ]
  },
  {
   "cell_type": "markdown",
   "id": "e19ed11a-4a7d-4313-a98f-c7ca92041519",
   "metadata": {
    "tags": []
   },
   "source": [
    "# L4"
   ]
  },
  {
   "cell_type": "code",
   "execution_count": null,
   "id": "3cde5c2e-98c0-49cc-9e9c-9c3b33a9e600",
   "metadata": {},
   "outputs": [],
   "source": [
    "L2_group = []\n",
    "for path in pathlib.Path('../L2').glob('InteGroup*'):\n",
    "    L2_group.append(str(path).split('/')[-1])"
   ]
  },
  {
   "cell_type": "code",
   "execution_count": null,
   "id": "3216713a-8eb7-4a33-b1fa-8a1b499f147b",
   "metadata": {},
   "outputs": [],
   "source": [
    "for l2_group in L2_group:\n",
    "    mc_groups = pd.read_csv(f'../L2/{l2_group}/mc_integration_group.csv.gz',\n",
    "                        index_col=0).squeeze()\n",
    "    rna_groups = pd.read_csv(f'../L2/{l2_group}/rna_integration_group.csv.gz',\n",
    "                         index_col=0).squeeze()\n",
    "    \n",
    "    for integration_group in rna_groups.unique():\n",
    "        mc_cells = mc_groups[mc_groups == integration_group].index\n",
    "        rna_cells = rna_groups[rna_groups == integration_group].index\n",
    "\n",
    "        integration_group = f'{l2_group}_{integration_group}'\n",
    "        if mc_cells.size <= 150 or rna_cells.size <= 150:\n",
    "            print(integration_group)\n",
    "        else:\n",
    "            out_dir = pathlib.Path(f'../L4/{integration_group}')\n",
    "            out_dir.mkdir(exist_ok=True, parents=True)\n",
    "\n",
    "            save_index(mc_cells,\n",
    "                       f'../L4/{integration_group}/mc_cells.txt',\n",
    "                       downsample=1000000,\n",
    "                       random_state=0)\n",
    "            save_index(rna_cells,\n",
    "                       f'../L4/{integration_group}/rna_cells.txt',\n",
    "                       downsample=1000000,\n",
    "                       random_state=0)\n"
   ]
  },
  {
   "cell_type": "code",
   "execution_count": null,
   "id": "6786c24c-144e-4b1f-b6a6-eef860227abf",
   "metadata": {},
   "outputs": [],
   "source": [
    "cwd = pathlib.Path().absolute()\n",
    "with open('Snakefile') as f, open('../L4/Snakefile', 'w') as out_f:\n",
    "    snakefile_tmp = f.read()\n",
    "    snakefile_tmp = snakefile_tmp.replace('REPLACE_TEMPLATE_DIR', str(cwd))\n",
    "    snakefile_tmp = snakefile_tmp.replace('REPLACE_DATASET', 'AIBS_SMART')\n",
    "    snakefile_tmp = snakefile_tmp.replace('REPLACE_CLUSTER_COL', str('L3'))\n",
    "    snakefile_tmp = snakefile_tmp.replace('REPLACE_INTEGRATION_GROUP_KEY',\n",
    "                                          str('L4'))\n",
    "    snakefile_tmp = snakefile_tmp.replace('REPLACE_INTEGRATION_PLOT_KEY',\n",
    "                                          str('L4'))\n",
    "    snakefile_tmp = snakefile_tmp.replace(\n",
    "        'REPLACE_CATEGORICAL_KEY', str(['L3', 'L4','DissectionRegion']))\n",
    "    out_f.write(snakefile_tmp)"
   ]
  },
  {
   "cell_type": "code",
   "execution_count": null,
   "id": "440c299e-ab9a-487a-864a-e7236cceea61",
   "metadata": {},
   "outputs": [],
   "source": []
  },
  {
   "cell_type": "code",
   "execution_count": null,
   "id": "a0c4958e-6161-4c78-8a6e-1aaa6624f301",
   "metadata": {},
   "outputs": [],
   "source": []
  }
 ],
 "metadata": {
  "hide_input": false,
  "kernelspec": {
   "display_name": "Python 3 (ipykernel)",
   "language": "python",
   "name": "python3"
  },
  "language_info": {
   "codemirror_mode": {
    "name": "ipython",
    "version": 3
   },
   "file_extension": ".py",
   "mimetype": "text/x-python",
   "name": "python",
   "nbconvert_exporter": "python",
   "pygments_lexer": "ipython3",
   "version": "3.7.12"
  },
  "toc": {
   "base_numbering": 1,
   "nav_menu": {},
   "number_sections": true,
   "sideBar": true,
   "skip_h1_title": true,
   "title_cell": "Table of Contents",
   "title_sidebar": "Contents",
   "toc_cell": false,
   "toc_position": {},
   "toc_section_display": true,
   "toc_window_display": true
  }
 },
 "nbformat": 4,
 "nbformat_minor": 5
}
