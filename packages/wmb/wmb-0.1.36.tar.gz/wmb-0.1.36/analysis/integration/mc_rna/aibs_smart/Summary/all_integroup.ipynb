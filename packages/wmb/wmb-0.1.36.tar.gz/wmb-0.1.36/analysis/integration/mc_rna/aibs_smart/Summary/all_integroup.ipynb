{
 "cells": [
  {
   "cell_type": "code",
   "execution_count": null,
   "id": "d179fabc-b67a-4787-af20-e93076540823",
   "metadata": {},
   "outputs": [],
   "source": [
    "from ALLCools.mcds import MCDS\n",
    "from ALLCools.plot import *\n",
    "from ALLCools.integration import confusion_matrix_clustering\n",
    "\n",
    "from wmb import cemba, aibs, broad, brain\n",
    "\n",
    "import pandas as pd\n",
    "import numpy as np\n",
    "import anndata\n",
    "import matplotlib.pyplot as plt\n",
    "import seaborn as sns\n",
    "import pathlib\n",
    "from matplotlib.backends.backend_pdf import PdfPages\n",
    "import matplotlib.pyplot as plt\n",
    "import wmb"
   ]
  },
  {
   "cell_type": "code",
   "execution_count": null,
   "id": "bf669056-3d55-4af2-ae9d-b0f5cf4079bc",
   "metadata": {},
   "outputs": [],
   "source": [
    "mc_annot = cemba.get_mc_annot()\n",
    "rna_annot = aibs.get_smart_annot()"
   ]
  },
  {
   "cell_type": "markdown",
   "id": "502747fe-2da6-42dc-81fe-5449ebe3a674",
   "metadata": {},
   "source": [
    "# plot level 1"
   ]
  },
  {
   "cell_type": "code",
   "execution_count": null,
   "id": "b0216c8f-9783-472a-809f-a4f371438c7f",
   "metadata": {},
   "outputs": [],
   "source": [
    "adata_merge = anndata.read_h5ad(f'../L1/Neuron/final_with_coords.h5ad')\n",
    "rna_adata = adata_merge[adata_merge.obs['Modality'] == 'RNA'].copy()\n",
    "mc_adata = adata_merge[adata_merge.obs['Modality'] == 'mC'].copy()"
   ]
  },
  {
   "cell_type": "code",
   "execution_count": null,
   "id": "c07f2c3e-d766-4ef6-afa1-9d47b022a34d",
   "metadata": {},
   "outputs": [],
   "source": [
    "rna_adata.obs['SubRegion'] = rna_annot['SubRegion'].to_pandas()\n",
    "mc_adata.obs['SubRegion'] = mc_annot['SubRegion'].to_pandas()"
   ]
  },
  {
   "cell_type": "code",
   "execution_count": null,
   "id": "08c05827-1bb2-4947-8187-cb79bf4cf1f3",
   "metadata": {},
   "outputs": [],
   "source": []
  },
  {
   "cell_type": "code",
   "execution_count": null,
   "id": "c3b33a68-85f7-40da-816f-cf87eefff607",
   "metadata": {},
   "outputs": [],
   "source": []
  },
  {
   "cell_type": "code",
   "execution_count": null,
   "id": "909d62a7-25bf-43ab-8c8a-fb0dc4181052",
   "metadata": {},
   "outputs": [],
   "source": []
  },
  {
   "cell_type": "code",
   "execution_count": null,
   "id": "aef94aec-188f-49de-9078-6cf04318f2bb",
   "metadata": {},
   "outputs": [],
   "source": []
  },
  {
   "cell_type": "markdown",
   "id": "74de897a-ade1-498d-bc52-4b57e8d31a8d",
   "metadata": {
    "jp-MarkdownHeadingCollapsed": true,
    "tags": []
   },
   "source": [
    "# plot level 2"
   ]
  },
  {
   "cell_type": "code",
   "execution_count": null,
   "id": "bf0b21f5-27e4-4fed-b762-105dd347094d",
   "metadata": {
    "tags": []
   },
   "outputs": [],
   "source": [
    "def get_pre_data(integroup, category_key):\n",
    "    #get adata\n",
    "    adata_merge = anndata.read_h5ad(f'../{category_key}/ALL/{integroup}/final_with_coords.h5ad')\n",
    "    rna_adata = adata_merge[adata_merge.obs['Modality'] == 'RNA'].copy()\n",
    "    mc_adata = adata_merge[adata_merge.obs['Modality'] == 'mC'].copy()\n",
    "    \n",
    "    rna_meta = adata_merge.obs[adata_merge.obs['Modality'] == 'RNA'].copy()\n",
    "    mc_meta = adata_merge.obs[adata_merge.obs['Modality'] == 'mC'].copy()\n",
    "    \n",
    "    #add L1 annot\n",
    "    mc_adata.obs['L1_annot'] = mc_annot['L1_annot'].to_pandas()\n",
    "    rna_adata.obs['L1_annot'] = rna_annot['L1'].to_pandas()\n",
    "    \n",
    "    #get integroup\n",
    "    rna_integroup = pd.read_csv(f'../{category_key}/ALL/{integroup}/rna_integration_group.csv.gz', index_col = 'cell').squeeze()\n",
    "    mc_integroup = pd.read_csv(f'../{category_key}/ALL/{integroup}/mc_integration_group.csv.gz', index_col = 'cell').squeeze()\n",
    "    \n",
    "    rna_adata.obs[f'{category_key}_InteGroup'] = rna_adata.obs.index.map(rna_integroup)\n",
    "    rna_adata.obs[f'{category_key}_InteGroup'].value_counts()\n",
    "    \n",
    "    mc_adata.obs[f'{category_key}_InteGroup'] = mc_adata.obs.index.map(mc_integroup)\n",
    "    mc_adata.obs[f'{category_key}_InteGroup'].value_counts()\n",
    "    \n",
    "    return rna_adata, mc_adata\n",
    "    \n",
    "        "
   ]
  },
  {
   "cell_type": "code",
   "execution_count": null,
   "id": "4c4a1947-30d2-4a4f-982b-dffd7794bfba",
   "metadata": {},
   "outputs": [],
   "source": [
    "def plot_clustering(category_key):\n",
    "    \n",
    "    from ALLCools.plot.color import level_one_palette\n",
    "\n",
    "    inte_group_palette = level_one_palette(\n",
    "        pd.concat([rna_adata.obs[f'{category_key}_InteGroup'], mc_adata.obs[f'{category_key}_InteGroup']]), \n",
    "        palette='tab20'\n",
    "    )\n",
    "    \n",
    "    fig, axes = plt.subplots(figsize=(10, 15), ncols=2, nrows=3, dpi=200)\n",
    "\n",
    "    ax = axes[0, 0]\n",
    "    categorical_scatter(ax=ax,\n",
    "                        data=rna_adata,\n",
    "                        coord_base='tsne',\n",
    "                        hue=f'{category_key}_InteGroup',\n",
    "                        text_anno=f'{category_key}_InteGroup',\n",
    "                        palette=inte_group_palette,\n",
    "                        max_points=None)\n",
    "    ax.set(title='rna Inte. Group')\n",
    "\n",
    "    ax = axes[0, 1]\n",
    "    categorical_scatter(ax=ax,\n",
    "                        data=mc_adata,\n",
    "                        coord_base='tsne',\n",
    "                        hue=f'{category_key}_InteGroup',\n",
    "                        text_anno=f'{category_key}_InteGroup',\n",
    "                        palette=inte_group_palette,\n",
    "                        max_points=None)\n",
    "    ax.set(title='mC Inte. Group')\n",
    "\n",
    "    ax = axes[1, 0]\n",
    "    categorical_scatter(ax=ax,\n",
    "                        data=rna_adata,\n",
    "                        coord_base='tsne',\n",
    "                        palette='tab20',\n",
    "                        hue='L3',\n",
    "                        text_anno='L3',\n",
    "                        max_points=None)\n",
    "    ax.set(title=f'rna L3')\n",
    "    ax.set(title=f'rna L3')\n",
    "\n",
    "\n",
    "    ax = axes[1, 1]\n",
    "    categorical_scatter(ax=ax,\n",
    "                        data=mc_adata,\n",
    "                        coord_base='tsne',\n",
    "                        palette='tab20',\n",
    "                        hue='L3',\n",
    "                        text_anno='L3',\n",
    "                        max_points=None)\n",
    "    ax.set(title=f'mC L3')\n",
    "\n",
    "    ax = axes[2, 0]\n",
    "    categorical_scatter(ax=ax,\n",
    "                        data=rna_adata,\n",
    "                        coord_base='tsne',\n",
    "                        hue='DissectionRegion',\n",
    "                        text_anno='DissectionRegion',\n",
    "                        palette='tab20',\n",
    "                        max_points=None)\n",
    "    ax.set(title='rna DissectionRegionp')\n",
    "\n",
    "    ax = axes[2, 1]\n",
    "    categorical_scatter(ax=ax,\n",
    "                        data=mc_adata,\n",
    "                        coord_base='tsne',\n",
    "                        palette=wmb.brain.get_dissection_region_palette(region_type = 'CEMBA'),\n",
    "                        hue='DissectionRegion',\n",
    "                        text_anno='DissectionRegion',\n",
    "                        max_points=None)\n",
    "    ax.set(title=f'mC DissectionRegion')"
   ]
  },
  {
   "cell_type": "code",
   "execution_count": null,
   "id": "9dc12992-7ca4-4473-a808-168f8dcf599d",
   "metadata": {},
   "outputs": [],
   "source": [
    "# by changing the category_key, can see all clustering results at each level\n",
    "category_key = \"L4\""
   ]
  },
  {
   "cell_type": "code",
   "execution_count": null,
   "id": "5edaca03-b58a-4b7c-b57e-797c44e80085",
   "metadata": {
    "tags": []
   },
   "outputs": [],
   "source": [
    "integroups = []\n",
    "for i in pathlib.Path(f'../{category_key}/ALL').glob('InteGroup*'):\n",
    "    integroups.append(str(i).split('/')[-1])"
   ]
  },
  {
   "cell_type": "code",
   "execution_count": null,
   "id": "70b6b9fa-f495-4921-82eb-2537a1d1fae5",
   "metadata": {},
   "outputs": [],
   "source": [
    "with PdfPages(f'{category_key}_clusers.pdf') as pdf:\n",
    "    for integroup in integroups:\n",
    "        rna_adata, mc_adata = get_pre_data(integroup, category_key)\n",
    "        plot_clustering(category_key)\n",
    "        pdf.savefig()  # saves the current figure into a pdf page\n",
    "        plt.close()"
   ]
  },
  {
   "cell_type": "code",
   "execution_count": null,
   "id": "07bf8b69-d0b6-4e24-ad50-0a684b352f4c",
   "metadata": {},
   "outputs": [],
   "source": []
  },
  {
   "cell_type": "code",
   "execution_count": null,
   "id": "a60c1c15-144f-49fb-aa61-2a6189c829a4",
   "metadata": {},
   "outputs": [],
   "source": []
  },
  {
   "cell_type": "code",
   "execution_count": null,
   "id": "306260e4-b7c1-4d15-bc50-156337c6fb0c",
   "metadata": {},
   "outputs": [],
   "source": []
  },
  {
   "cell_type": "code",
   "execution_count": null,
   "id": "1da7fdba-cefc-400a-925c-5e1a94f73335",
   "metadata": {},
   "outputs": [],
   "source": []
  },
  {
   "cell_type": "code",
   "execution_count": null,
   "id": "9660c487-d798-4c66-b803-d62bbea1edbf",
   "metadata": {},
   "outputs": [],
   "source": []
  }
 ],
 "metadata": {
  "kernelspec": {
   "display_name": "Python 3 (ipykernel)",
   "language": "python",
   "name": "python3"
  },
  "language_info": {
   "codemirror_mode": {
    "name": "ipython",
    "version": 3
   },
   "file_extension": ".py",
   "mimetype": "text/x-python",
   "name": "python",
   "nbconvert_exporter": "python",
   "pygments_lexer": "ipython3",
   "version": "3.7.12"
  }
 },
 "nbformat": 4,
 "nbformat_minor": 5
}
