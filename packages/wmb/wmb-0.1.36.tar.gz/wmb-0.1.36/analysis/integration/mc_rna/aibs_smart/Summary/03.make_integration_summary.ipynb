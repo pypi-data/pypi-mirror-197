{
 "cells": [
  {
   "cell_type": "code",
   "execution_count": null,
   "id": "c4a5bf71",
   "metadata": {
    "ExecuteTime": {
     "end_time": "2022-07-08T21:56:45.334726Z",
     "start_time": "2022-07-08T21:56:45.331568Z"
    }
   },
   "outputs": [],
   "source": [
    "import pandas as pd\n",
    "import seaborn as sns\n",
    "import matplotlib as mpl\n",
    "import matplotlib.pyplot as plt\n",
    "import numpy as np\n",
    "import pathlib\n",
    "\n",
    "import anndata\n",
    "\n",
    "from ALLCools.mcds import MCDS\n",
    "from ALLCools.plot import *\n",
    "from wmb import *"
   ]
  },
  {
   "cell_type": "code",
   "execution_count": null,
   "id": "e79c7bbf",
   "metadata": {
    "ExecuteTime": {
     "end_time": "2022-07-08T22:04:19.654604Z",
     "start_time": "2022-07-08T22:04:18.410684Z"
    }
   },
   "outputs": [],
   "source": [
    "adata = anndata.read_h5ad('../L1/Neuron/final_with_coords.h5ad')\n",
    "\n",
    "tsne_df = pd.DataFrame(adata.obsm['X_tsne'], index=adata.obs_names, columns=['tsne_0', 'tsne_1'])\n",
    "umap_df = pd.DataFrame(adata.obsm['X_umap'], index=adata.obs_names, columns=['umap_0', 'umap_1'])\n",
    "\n",
    "ref_group = pd.read_csv('../L1/Neuron/mc_integration_group.csv.gz', index_col=0).squeeze()\n",
    "query_group = pd.read_csv('../L1/Neuron/rna_integration_group.csv.gz', index_col=0).squeeze()\n",
    "adata.obs['InteGroup'] = pd.concat([ref_group, query_group])\n",
    "\n",
    "cluster_df = adata.obs[['leiden', 'InteGroup', 'Modality']]\n",
    "cluster_df = cluster_df.rename(columns={'leiden': 'CoCluster'})"
   ]
  },
  {
   "cell_type": "code",
   "execution_count": null,
   "id": "5f6ce454",
   "metadata": {
    "ExecuteTime": {
     "end_time": "2022-07-08T22:04:19.725997Z",
     "start_time": "2022-07-08T22:04:19.658103Z"
    }
   },
   "outputs": [],
   "source": [
    "total_result = pd.concat([cluster_df, tsne_df, umap_df], axis=1)\n",
    "total_result.columns = 'L1_' + total_result.columns"
   ]
  },
  {
   "cell_type": "code",
   "execution_count": null,
   "id": "3dfc5695",
   "metadata": {
    "ExecuteTime": {
     "end_time": "2022-07-08T22:06:16.617430Z",
     "start_time": "2022-07-08T22:06:15.811774Z"
    }
   },
   "outputs": [],
   "source": [
    "total_result.to_hdf('L1_integration_summary.hdf', key='data', format='table')"
   ]
  },
  {
   "cell_type": "code",
   "execution_count": null,
   "id": "e8897305",
   "metadata": {},
   "outputs": [],
   "source": []
  },
  {
   "cell_type": "code",
   "execution_count": null,
   "id": "19819cb0",
   "metadata": {},
   "outputs": [],
   "source": []
  },
  {
   "cell_type": "code",
   "execution_count": null,
   "id": "2b19ed88",
   "metadata": {},
   "outputs": [],
   "source": []
  },
  {
   "cell_type": "code",
   "execution_count": null,
   "id": "06761e3d",
   "metadata": {},
   "outputs": [],
   "source": []
  },
  {
   "cell_type": "code",
   "execution_count": null,
   "id": "7fff97bd",
   "metadata": {},
   "outputs": [],
   "source": []
  },
  {
   "cell_type": "code",
   "execution_count": null,
   "id": "7e1972e3",
   "metadata": {},
   "outputs": [],
   "source": []
  },
  {
   "cell_type": "code",
   "execution_count": null,
   "id": "3d7a4f07",
   "metadata": {},
   "outputs": [],
   "source": []
  },
  {
   "cell_type": "code",
   "execution_count": null,
   "id": "e69c20bb",
   "metadata": {},
   "outputs": [],
   "source": []
  },
  {
   "cell_type": "code",
   "execution_count": null,
   "id": "fe278c7d",
   "metadata": {},
   "outputs": [],
   "source": []
  },
  {
   "cell_type": "code",
   "execution_count": null,
   "id": "0a69b8a3",
   "metadata": {},
   "outputs": [],
   "source": []
  }
 ],
 "metadata": {
  "hide_input": false,
  "kernelspec": {
   "display_name": "Python 3 (ipykernel)",
   "language": "python",
   "name": "python3"
  },
  "language_info": {
   "codemirror_mode": {
    "name": "ipython",
    "version": 3
   },
   "file_extension": ".py",
   "mimetype": "text/x-python",
   "name": "python",
   "nbconvert_exporter": "python",
   "pygments_lexer": "ipython3",
   "version": "3.7.12"
  },
  "toc": {
   "base_numbering": 1,
   "nav_menu": {},
   "number_sections": true,
   "sideBar": true,
   "skip_h1_title": true,
   "title_cell": "Table of Contents",
   "title_sidebar": "Contents",
   "toc_cell": false,
   "toc_position": {},
   "toc_section_display": true,
   "toc_window_display": true
  }
 },
 "nbformat": 4,
 "nbformat_minor": 5
}
