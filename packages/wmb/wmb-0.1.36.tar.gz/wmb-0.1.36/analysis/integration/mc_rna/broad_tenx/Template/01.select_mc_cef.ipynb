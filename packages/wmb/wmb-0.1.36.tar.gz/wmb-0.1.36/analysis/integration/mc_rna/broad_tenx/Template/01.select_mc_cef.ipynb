{
 "cells": [
  {
   "cell_type": "markdown",
   "id": "68434496",
   "metadata": {
    "papermill": {
     "duration": 0.011024,
     "end_time": "2022-06-20T23:08:33.560969",
     "exception": false,
     "start_time": "2022-06-20T23:08:33.549945",
     "status": "completed"
    },
    "pycharm": {
     "name": "#%% md\n"
    },
    "tags": []
   },
   "source": [
    "## Import"
   ]
  },
  {
   "cell_type": "code",
   "execution_count": null,
   "id": "4b3c1327",
   "metadata": {
    "ExecuteTime": {
     "end_time": "2022-06-25T18:29:09.603883Z",
     "start_time": "2022-06-25T18:28:49.913862Z"
    },
    "execution": {
     "iopub.execute_input": "2022-06-20T23:08:33.588357Z",
     "iopub.status.busy": "2022-06-20T23:08:33.587936Z",
     "iopub.status.idle": "2022-06-20T23:08:36.964643Z",
     "shell.execute_reply": "2022-06-20T23:08:36.964955Z"
    },
    "papermill": {
     "duration": 3.393328,
     "end_time": "2022-06-20T23:08:36.965154",
     "exception": false,
     "start_time": "2022-06-20T23:08:33.571826",
     "status": "completed"
    },
    "pycharm": {
     "name": "#%%\n"
    },
    "tags": []
   },
   "outputs": [],
   "source": [
    "from wmb import brain, cemba, mm10\n",
    "import seaborn as sns\n",
    "\n",
    "from ALLCools.clustering import *\n",
    "from ALLCools.mcds import MCDS\n",
    "from ALLCools.plot import *\n",
    "\n",
    "import pandas as pd\n",
    "import matplotlib.pyplot as plt\n",
    "from ALLCools.clustering import cluster_enriched_features, log_scale"
   ]
  },
  {
   "cell_type": "code",
   "execution_count": null,
   "id": "ca8aa116",
   "metadata": {
    "ExecuteTime": {
     "end_time": "2022-06-25T18:29:10.928342Z",
     "start_time": "2022-06-25T18:29:10.925766Z"
    },
    "execution": {
     "iopub.execute_input": "2022-06-20T23:08:36.991533Z",
     "iopub.status.busy": "2022-06-20T23:08:36.991150Z",
     "iopub.status.idle": "2022-06-20T23:08:36.992644Z",
     "shell.execute_reply": "2022-06-20T23:08:36.992324Z"
    },
    "papermill": {
     "duration": 0.01588,
     "end_time": "2022-06-20T23:08:36.992726",
     "exception": false,
     "start_time": "2022-06-20T23:08:36.976846",
     "status": "completed"
    },
    "pycharm": {
     "name": "#%%\n"
    },
    "tags": [
     "parameters"
    ]
   },
   "outputs": [],
   "source": [
    "var_dim = 'geneslop2k'\n",
    "cluster_col = 'L1'\n",
    "chrom_to_remove = ['chrX', 'chrY', 'chrM', 'chrL']\n",
    "downsample = 500"
   ]
  },
  {
   "cell_type": "markdown",
   "id": "e60ee638",
   "metadata": {
    "papermill": {
     "duration": 0.010957,
     "end_time": "2022-06-20T23:08:37.014633",
     "exception": false,
     "start_time": "2022-06-20T23:08:37.003676",
     "status": "completed"
    },
    "pycharm": {
     "name": "#%% md\n"
    },
    "tags": []
   },
   "source": [
    "## Select cells"
   ]
  },
  {
   "cell_type": "code",
   "execution_count": null,
   "id": "e5e3ec7f",
   "metadata": {
    "ExecuteTime": {
     "end_time": "2022-06-25T18:29:12.333727Z",
     "start_time": "2022-06-25T18:29:12.305321Z"
    },
    "execution": {
     "iopub.execute_input": "2022-06-20T23:08:37.039494Z",
     "iopub.status.busy": "2022-06-20T23:08:37.039117Z",
     "iopub.status.idle": "2022-06-20T23:08:37.098152Z",
     "shell.execute_reply": "2022-06-20T23:08:37.098487Z"
    },
    "papermill": {
     "duration": 0.072951,
     "end_time": "2022-06-20T23:08:37.098607",
     "exception": false,
     "start_time": "2022-06-20T23:08:37.025656",
     "status": "completed"
    },
    "pycharm": {
     "name": "#%%\n"
    },
    "tags": []
   },
   "outputs": [],
   "source": [
    "cells = pd.read_csv('mc_cells.txt', index_col=0, header=None).index\n",
    "cells.name = 'cell'\n",
    "cells.size"
   ]
  },
  {
   "cell_type": "markdown",
   "id": "09f4cf3b",
   "metadata": {
    "ExecuteTime": {
     "end_time": "2022-06-21T04:51:56.476879Z",
     "start_time": "2022-06-21T04:51:56.474668Z"
    }
   },
   "source": [
    "## Downsample cells"
   ]
  },
  {
   "cell_type": "code",
   "execution_count": null,
   "id": "75689412",
   "metadata": {
    "ExecuteTime": {
     "end_time": "2022-06-25T18:29:19.073206Z",
     "start_time": "2022-06-25T18:29:15.055053Z"
    }
   },
   "outputs": [],
   "source": [
    "annot = cemba.get_mc_annot()\n",
    "clusters = annot[cluster_col].to_pandas()\n",
    "clusters = clusters.loc[cells].copy()\n",
    "\n",
    "if downsample is not None:\n",
    "    use_cells = []\n",
    "    for cluster, sub_series in clusters.groupby(clusters):\n",
    "        if sub_series.size > downsample:\n",
    "            _cells = sub_series.sample(downsample, random_state=0).index\n",
    "        else:\n",
    "            _cells = sub_series.index\n",
    "        use_cells += _cells.tolist()\n",
    "    use_cells = pd.Index(use_cells)\n",
    "else:\n",
    "    use_cells = cells\n",
    "    \n",
    "use_cells.size"
   ]
  },
  {
   "cell_type": "markdown",
   "id": "abc2eddd",
   "metadata": {
    "papermill": {
     "duration": 0.011321,
     "end_time": "2022-06-20T23:08:37.121735",
     "exception": false,
     "start_time": "2022-06-20T23:08:37.110414",
     "status": "completed"
    },
    "pycharm": {
     "name": "#%% md\n"
    },
    "tags": []
   },
   "source": [
    "## Get adata"
   ]
  },
  {
   "cell_type": "code",
   "execution_count": null,
   "id": "a6636dd5",
   "metadata": {
    "ExecuteTime": {
     "end_time": "2022-06-25T18:29:28.675481Z",
     "start_time": "2022-06-25T18:29:20.888505Z"
    },
    "execution": {
     "iopub.execute_input": "2022-06-20T23:08:37.149734Z",
     "iopub.status.busy": "2022-06-20T23:08:37.149320Z",
     "iopub.status.idle": "2022-06-20T23:08:37.790132Z",
     "shell.execute_reply": "2022-06-20T23:08:37.790489Z"
    },
    "papermill": {
     "duration": 0.657939,
     "end_time": "2022-06-20T23:08:37.790638",
     "exception": false,
     "start_time": "2022-06-20T23:08:37.132699",
     "status": "completed"
    },
    "pycharm": {
     "name": "#%%\n"
    },
    "tags": []
   },
   "outputs": [],
   "source": [
    "mcds = MCDS.open(cemba.CEMBA_SNMC_MCDS_PATH, var_dim=var_dim, use_obs=use_cells)\n",
    "\n",
    "mcds"
   ]
  },
  {
   "cell_type": "code",
   "execution_count": null,
   "id": "be4f80f5",
   "metadata": {
    "ExecuteTime": {
     "end_time": "2022-06-25T18:39:20.211422Z",
     "start_time": "2022-06-25T18:29:28.677571Z"
    },
    "execution": {
     "iopub.execute_input": "2022-06-20T23:08:37.827748Z",
     "iopub.status.busy": "2022-06-20T23:08:37.827341Z",
     "iopub.status.idle": "2022-06-20T23:09:50.898780Z",
     "shell.execute_reply": "2022-06-20T23:09:50.898364Z"
    },
    "papermill": {
     "duration": 73.093918,
     "end_time": "2022-06-20T23:09:50.898908",
     "exception": false,
     "start_time": "2022-06-20T23:08:37.804990",
     "status": "completed"
    },
    "pycharm": {
     "name": "#%%\n"
    },
    "tags": []
   },
   "outputs": [],
   "source": [
    "adata = mcds.get_adata(mc_type=mc_type,\n",
    "                       select_hvf=False,\n",
    "                       split_large_chunks=False)"
   ]
  },
  {
   "cell_type": "code",
   "execution_count": null,
   "id": "b1702756",
   "metadata": {
    "ExecuteTime": {
     "end_time": "2022-06-25T18:39:20.233409Z",
     "start_time": "2022-06-25T18:39:20.213570Z"
    },
    "execution": {
     "iopub.execute_input": "2022-06-20T23:09:50.929212Z",
     "iopub.status.busy": "2022-06-20T23:09:50.928808Z",
     "iopub.status.idle": "2022-06-20T23:09:53.988973Z",
     "shell.execute_reply": "2022-06-20T23:09:53.988609Z"
    },
    "papermill": {
     "duration": 3.077147,
     "end_time": "2022-06-20T23:09:53.989076",
     "exception": false,
     "start_time": "2022-06-20T23:09:50.911929",
     "status": "completed"
    },
    "tags": []
   },
   "outputs": [],
   "source": [
    "adata.obs[cluster_col] = annot[cluster_col].to_pandas()"
   ]
  },
  {
   "cell_type": "markdown",
   "id": "dc9549b3",
   "metadata": {
    "ExecuteTime": {
     "end_time": "2022-06-04T04:56:12.906887Z",
     "start_time": "2022-06-04T04:56:12.373611Z"
    },
    "papermill": {
     "duration": 0.01228,
     "end_time": "2022-06-20T23:09:54.014044",
     "exception": false,
     "start_time": "2022-06-20T23:09:54.001764",
     "status": "completed"
    },
    "pycharm": {
     "name": "#%% md\n"
    },
    "tags": []
   },
   "source": [
    "## Basic Feature Filtering"
   ]
  },
  {
   "cell_type": "code",
   "execution_count": null,
   "id": "32e7c994",
   "metadata": {
    "ExecuteTime": {
     "end_time": "2022-06-25T18:39:25.144975Z",
     "start_time": "2022-06-25T18:39:20.234891Z"
    },
    "execution": {
     "iopub.execute_input": "2022-06-20T23:09:54.045314Z",
     "iopub.status.busy": "2022-06-20T23:09:54.044901Z",
     "iopub.status.idle": "2022-06-20T23:14:03.913918Z",
     "shell.execute_reply": "2022-06-20T23:14:03.914336Z"
    },
    "papermill": {
     "duration": 249.888548,
     "end_time": "2022-06-20T23:14:03.914488",
     "exception": false,
     "start_time": "2022-06-20T23:09:54.025940",
     "status": "completed"
    },
    "pycharm": {
     "name": "#%%\n"
    },
    "tags": []
   },
   "outputs": [],
   "source": [
    "remove_chromosomes(adata, exclude_chromosomes=chrom_to_remove)"
   ]
  },
  {
   "cell_type": "code",
   "execution_count": null,
   "id": "28d4d626",
   "metadata": {
    "ExecuteTime": {
     "end_time": "2022-06-25T18:39:30.446377Z",
     "start_time": "2022-06-25T18:39:25.146189Z"
    },
    "execution": {
     "iopub.execute_input": "2022-06-20T23:14:03.957785Z",
     "iopub.status.busy": "2022-06-20T23:14:03.957117Z",
     "iopub.status.idle": "2022-06-20T23:17:56.436895Z",
     "shell.execute_reply": "2022-06-20T23:17:56.437231Z"
    },
    "papermill": {
     "duration": 232.505364,
     "end_time": "2022-06-20T23:17:56.437368",
     "exception": false,
     "start_time": "2022-06-20T23:14:03.932004",
     "status": "completed"
    },
    "pycharm": {
     "name": "#%%\n"
    },
    "tags": []
   },
   "outputs": [],
   "source": [
    "remove_black_list_region(adata, black_list_path=mm10.ENCODE_BLACKLIST_PATH)"
   ]
  },
  {
   "cell_type": "code",
   "execution_count": null,
   "id": "d183d14b",
   "metadata": {
    "ExecuteTime": {
     "end_time": "2022-06-25T18:39:36.004354Z",
     "start_time": "2022-06-25T18:39:30.447816Z"
    },
    "execution": {
     "iopub.execute_input": "2022-06-20T23:17:56.470002Z",
     "iopub.status.busy": "2022-06-20T23:17:56.469615Z",
     "iopub.status.idle": "2022-06-20T23:22:03.657608Z",
     "shell.execute_reply": "2022-06-20T23:22:03.657916Z"
    },
    "papermill": {
     "duration": 247.206774,
     "end_time": "2022-06-20T23:22:03.658047",
     "exception": false,
     "start_time": "2022-06-20T23:17:56.451273",
     "status": "completed"
    },
    "tags": []
   },
   "outputs": [],
   "source": [
    "# remove low std features\n",
    "pass_std_filter = adata.X.std(axis=0) > 0.05\n",
    "adata._inplace_subset_var(pass_std_filter)"
   ]
  },
  {
   "cell_type": "markdown",
   "id": "a698f9ea",
   "metadata": {
    "papermill": {
     "duration": 0.012804,
     "end_time": "2022-06-20T23:22:03.684490",
     "exception": false,
     "start_time": "2022-06-20T23:22:03.671686",
     "status": "completed"
    },
    "pycharm": {
     "name": "#%%\n"
    },
    "tags": []
   },
   "source": [
    "## CEF Feature Filtering"
   ]
  },
  {
   "cell_type": "code",
   "execution_count": null,
   "id": "545ba3d9",
   "metadata": {
    "ExecuteTime": {
     "end_time": "2022-06-25T18:39:52.010498Z",
     "start_time": "2022-06-25T18:39:36.005698Z"
    },
    "execution": {
     "iopub.execute_input": "2022-06-20T23:22:18.276060Z",
     "iopub.status.busy": "2022-06-20T23:22:18.275680Z",
     "iopub.status.idle": "2022-06-20T23:23:04.292755Z",
     "shell.execute_reply": "2022-06-20T23:23:04.293042Z"
    },
    "papermill": {
     "duration": 46.037676,
     "end_time": "2022-06-20T23:23:04.293150",
     "exception": false,
     "start_time": "2022-06-20T23:22:18.255474",
     "status": "completed"
    },
    "pycharm": {
     "name": "#%%\n"
    },
    "tags": []
   },
   "outputs": [],
   "source": [
    "# CEF function take the original mC fraction as input\n",
    "cluster_enriched_features(adata,\n",
    "                          cluster_col=cluster_col,\n",
    "                          top_n=200,\n",
    "                          alpha=0.05,\n",
    "                          stat_plot=True,\n",
    "                          method='mc')"
   ]
  },
  {
   "cell_type": "code",
   "execution_count": null,
   "id": "a556c1fc",
   "metadata": {
    "ExecuteTime": {
     "end_time": "2022-06-25T18:39:52.047713Z",
     "start_time": "2022-06-25T18:39:52.012472Z"
    },
    "execution": {
     "iopub.execute_input": "2022-06-20T23:23:04.326785Z",
     "iopub.status.busy": "2022-06-20T23:23:04.326417Z",
     "iopub.status.idle": "2022-06-20T23:23:26.832686Z",
     "shell.execute_reply": "2022-06-20T23:23:26.832330Z"
    },
    "papermill": {
     "duration": 22.524983,
     "end_time": "2022-06-20T23:23:26.832787",
     "exception": false,
     "start_time": "2022-06-20T23:23:04.307804",
     "status": "completed"
    },
    "tags": []
   },
   "outputs": [],
   "source": [
    "# select CEF only\n",
    "adata.var[f'{cluster_col}_enriched_features'].to_csv('CEF.csv', header=None)"
   ]
  },
  {
   "cell_type": "code",
   "execution_count": null,
   "id": "d43003cc",
   "metadata": {
    "papermill": {
     "duration": 0.015284,
     "end_time": "2022-06-20T23:23:38.857644",
     "exception": false,
     "start_time": "2022-06-20T23:23:38.842360",
     "status": "completed"
    },
    "tags": []
   },
   "outputs": [],
   "source": []
  },
  {
   "cell_type": "code",
   "execution_count": null,
   "id": "64056988",
   "metadata": {
    "papermill": {
     "duration": 0.014821,
     "end_time": "2022-06-20T23:23:38.887341",
     "exception": false,
     "start_time": "2022-06-20T23:23:38.872520",
     "status": "completed"
    },
    "tags": []
   },
   "outputs": [],
   "source": []
  },
  {
   "cell_type": "code",
   "execution_count": null,
   "id": "25fe1295",
   "metadata": {
    "papermill": {
     "duration": 0.015892,
     "end_time": "2022-06-20T23:23:38.918714",
     "exception": false,
     "start_time": "2022-06-20T23:23:38.902822",
     "status": "completed"
    },
    "tags": []
   },
   "outputs": [],
   "source": []
  },
  {
   "cell_type": "code",
   "execution_count": null,
   "id": "cee0000b",
   "metadata": {
    "papermill": {
     "duration": 0.016126,
     "end_time": "2022-06-20T23:23:38.950603",
     "exception": false,
     "start_time": "2022-06-20T23:23:38.934477",
     "status": "completed"
    },
    "tags": []
   },
   "outputs": [],
   "source": []
  }
 ],
 "metadata": {
  "celltoolbar": "Tags",
  "hide_input": false,
  "kernelspec": {
   "display_name": "Python 3 (ipykernel)",
   "language": "python",
   "name": "python3"
  },
  "language_info": {
   "codemirror_mode": {
    "name": "ipython",
    "version": 3
   },
   "file_extension": ".py",
   "mimetype": "text/x-python",
   "name": "python",
   "nbconvert_exporter": "python",
   "pygments_lexer": "ipython3",
   "version": "3.8.13"
  },
  "papermill": {
   "default_parameters": {},
   "duration": 909.958491,
   "end_time": "2022-06-20T23:23:41.953330",
   "environment_variables": {},
   "exception": null,
   "input_path": "/home/hanliu/project/cemba/study/Integration/mC_AIBS_SMART_Gene/Template/01.prepare_mc.ipynb",
   "output_path": "Neuron/01.prepare_mc.ipynb",
   "parameters": {},
   "start_time": "2022-06-20T23:08:31.994839",
   "version": "2.3.3"
  },
  "toc": {
   "base_numbering": 1,
   "nav_menu": {},
   "number_sections": true,
   "sideBar": true,
   "skip_h1_title": true,
   "title_cell": "Table of Contents",
   "title_sidebar": "Contents",
   "toc_cell": false,
   "toc_position": {},
   "toc_section_display": true,
   "toc_window_display": true
  }
 },
 "nbformat": 4,
 "nbformat_minor": 5
}
