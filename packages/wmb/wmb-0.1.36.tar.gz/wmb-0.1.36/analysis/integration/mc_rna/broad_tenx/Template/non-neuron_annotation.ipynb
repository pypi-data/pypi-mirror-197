{
 "cells": [
  {
   "cell_type": "code",
   "execution_count": null,
   "id": "459d7be1-c6fc-4cd9-891b-512d5b78e5dc",
   "metadata": {},
   "outputs": [],
   "source": [
    "from wmb import cemba, brain, aibs\n",
    "from ALLCools.plot import *\n",
    "import matplotlib.pyplot as plt"
   ]
  },
  {
   "cell_type": "code",
   "execution_count": null,
   "id": "db7febca-1b5f-4f15-ae21-15f6ef680c3f",
   "metadata": {},
   "outputs": [],
   "source": [
    "mc_annot = cemba.get_mc_annot()"
   ]
  },
  {
   "cell_type": "code",
   "execution_count": null,
   "id": "cceeec84-e442-422b-b365-02ffda1834df",
   "metadata": {},
   "outputs": [],
   "source": [
    "v1_meta = cemba.get_liu_2021_mc_metadata()\n",
    "mc_annot['V1MajorType'] = v1_meta['MajorType']"
   ]
  },
  {
   "cell_type": "code",
   "execution_count": null,
   "id": "78c7b1b8-c2df-428d-8dd1-4546e66baefa",
   "metadata": {},
   "outputs": [],
   "source": [
    "fig, axes = plt.subplots(figsize=(10, 5), ncols=2, dpi=300)\n",
    "\n",
    "ax = axes[0]\n",
    "categorical_scatter(\n",
    "    mc_annot,\n",
    "    ax=ax,\n",
    "    hue='L1_annot',\n",
    "    coord_base='l1_tsne',\n",
    "    text_anno='L1_annot',\n",
    ")\n",
    "\n",
    "ax = axes[1]\n",
    "categorical_scatter(\n",
    "    mc_annot,\n",
    "    ax=ax,\n",
    "    hue=None,\n",
    "    scatter_kws={'color': 'lightgrey'},\n",
    "    coord_base='l1_tsne'\n",
    ")\n",
    "categorical_scatter(\n",
    "    mc_annot,\n",
    "    ax=ax,\n",
    "    hue='V1MajorType',\n",
    "    palette='tab20',\n",
    "    coord_base='l1_tsne',\n",
    "    text_anno='V1MajorType',\n",
    ")"
   ]
  },
  {
   "cell_type": "code",
   "execution_count": null,
   "id": "fc69e78e-cfb3-42aa-9b71-ea31de264a98",
   "metadata": {},
   "outputs": [],
   "source": [
    "sub_annot = mc_annot.sel(cell=mc_annot['L1_annot'] == 'ASC')\n",
    "coords = 'l2_tsne'\n",
    "\n",
    "fig, axes = plt.subplots(figsize=(20, 5), ncols=4, dpi=300)\n",
    "\n",
    "\n",
    "ax = axes[0]\n",
    "categorical_scatter(\n",
    "    sub_annot,\n",
    "    ax=ax,\n",
    "    hue='L2',\n",
    "    coord_base=coords,\n",
    "    text_anno='L2',\n",
    ")\n",
    "\n",
    "ax = axes[1]\n",
    "categorical_scatter(\n",
    "    sub_annot,\n",
    "    ax=ax,\n",
    "    hue=None,\n",
    "    scatter_kws={'color': 'lightgrey'},\n",
    "    coord_base=coords\n",
    ")\n",
    "categorical_scatter(\n",
    "    sub_annot,\n",
    "    ax=ax,\n",
    "    hue='V1MajorType',\n",
    "    palette='tab20',\n",
    "    coord_base=coords,\n",
    "    text_anno='V1MajorType',\n",
    ")\n",
    "\n",
    "ax = axes[2]\n",
    "categorical_scatter(\n",
    "    sub_annot,\n",
    "    ax=ax,\n",
    "    hue='DissectionRegion',\n",
    "    palette=brain.get_dissection_region_palette('CEMBA'),\n",
    "    coord_base=coords,\n",
    ")\n",
    "\n",
    "\n",
    "ax = axes[3]\n",
    "continuous_scatter(\n",
    "    sub_annot,\n",
    "    ax=ax,\n",
    "    hue=cemba.get_mc_gene_frac('Slc1a2', 'CGN'),\n",
    "    coord_base=coords,\n",
    ")"
   ]
  },
  {
   "cell_type": "code",
   "execution_count": null,
   "id": "022dc060-2456-42a5-9be0-9c0a08abbfb8",
   "metadata": {},
   "outputs": [],
   "source": []
  },
  {
   "cell_type": "code",
   "execution_count": null,
   "id": "692c45d9-17b2-4c45-bc8e-6466652a6ac5",
   "metadata": {},
   "outputs": [],
   "source": []
  },
  {
   "cell_type": "code",
   "execution_count": null,
   "id": "92455cd6-3a5b-45a9-8b60-ef9cfc00f25f",
   "metadata": {},
   "outputs": [],
   "source": []
  },
  {
   "cell_type": "code",
   "execution_count": null,
   "id": "a3506e70-58b8-4a07-8e1c-006fa00499a3",
   "metadata": {},
   "outputs": [],
   "source": []
  },
  {
   "cell_type": "code",
   "execution_count": null,
   "id": "578a9d86-a172-4fd4-a632-825cd91906ed",
   "metadata": {},
   "outputs": [],
   "source": []
  },
  {
   "cell_type": "code",
   "execution_count": null,
   "id": "ba0637c6-8953-4b26-b519-579ea00d44a1",
   "metadata": {},
   "outputs": [],
   "source": []
  },
  {
   "cell_type": "code",
   "execution_count": null,
   "id": "febba89a-672e-41e3-9e8f-c06e1c89e07c",
   "metadata": {},
   "outputs": [],
   "source": []
  }
 ],
 "metadata": {
  "kernelspec": {
   "display_name": "Python 3 (ipykernel)",
   "language": "python",
   "name": "python3"
  },
  "language_info": {
   "codemirror_mode": {
    "name": "ipython",
    "version": 3
   },
   "file_extension": ".py",
   "mimetype": "text/x-python",
   "name": "python",
   "nbconvert_exporter": "python",
   "pygments_lexer": "ipython3",
   "version": "3.8.13"
  }
 },
 "nbformat": 4,
 "nbformat_minor": 5
}
