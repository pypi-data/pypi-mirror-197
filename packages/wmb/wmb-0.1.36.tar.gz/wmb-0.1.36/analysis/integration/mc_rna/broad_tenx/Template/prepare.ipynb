{
 "cells": [
  {
   "cell_type": "code",
   "execution_count": null,
   "id": "81176507",
   "metadata": {
    "ExecuteTime": {
     "end_time": "2022-06-30T20:58:54.359149Z",
     "start_time": "2022-06-30T20:58:52.078053Z"
    }
   },
   "outputs": [],
   "source": [
    "import pandas as pd\n",
    "import numpy as np\n",
    "from wmb import *\n",
    "from ALLCools.plot import *\n",
    "\n",
    "import pathlib"
   ]
  },
  {
   "cell_type": "code",
   "execution_count": null,
   "id": "eefe7a4a",
   "metadata": {
    "ExecuteTime": {
     "end_time": "2022-06-30T20:59:16.958415Z",
     "start_time": "2022-06-30T20:58:54.362314Z"
    }
   },
   "outputs": [],
   "source": [
    "mc_annot = cemba.get_mc_annot()\n",
    "rna_annot = broad.get_tenx_annot()"
   ]
  },
  {
   "cell_type": "code",
   "execution_count": null,
   "id": "86dc160e",
   "metadata": {
    "ExecuteTime": {
     "end_time": "2022-06-30T20:59:16.967031Z",
     "start_time": "2022-06-30T20:59:16.962789Z"
    }
   },
   "outputs": [],
   "source": [
    "def save_index(cells, file_name, downsample=100000, random_state=0):\n",
    "    cells = pd.Series(cells)\n",
    "    if cells.size > downsample:\n",
    "        cells = cells.sample(downsample, random_state=random_state)\n",
    "    cells.to_csv(file_name, index=None, header=False)"
   ]
  },
  {
   "cell_type": "code",
   "execution_count": null,
   "id": "0dadbef9-3dd9-458b-9e1e-0da7a4f4fcab",
   "metadata": {},
   "outputs": [],
   "source": [
    "mc = mc_annot['MajorRegion'].to_pandas()\n",
    "mc = mc[mc == 'CB']\n",
    "mc"
   ]
  },
  {
   "cell_type": "code",
   "execution_count": null,
   "id": "77a982ab-e07e-4b9b-80cc-b8458d0ea0dd",
   "metadata": {},
   "outputs": [],
   "source": [
    "rna = rna_annot['MajorRegion'].to_pandas()\n",
    "rna = rna[rna == 'CB']\n",
    "rna"
   ]
  },
  {
   "cell_type": "markdown",
   "id": "a601e944",
   "metadata": {
    "tags": []
   },
   "source": [
    "## L1 - Neuron Non-Neuron"
   ]
  },
  {
   "cell_type": "markdown",
   "id": "662ba504-672c-4f5c-8098-06140a9e336d",
   "metadata": {},
   "source": [
    "### prepare neuron"
   ]
  },
  {
   "cell_type": "code",
   "execution_count": null,
   "id": "65916f8a",
   "metadata": {
    "ExecuteTime": {
     "end_time": "2022-06-27T20:31:03.102459Z",
     "start_time": "2022-06-27T20:31:03.057951Z"
    }
   },
   "outputs": [],
   "source": [
    "# neuron (not include DG-GC and CB)\n",
    "mc_neurons = ~mc_annot['L1_annot'].isin(['ODC', 'OPC', 'ASC', 'MGC', 'CB', 'CBX', 'DG'])\n",
    "rna_neurons = ~rna_annot['L1_annot'].isin(['ODC', 'ASC', 'ECPC', 'NonN', 'OPC', 'VLMC', 'CB', 'OLF1'])\n",
    "\n",
    "# pathlib.Path('../L1/Neuron').mkdir(exist_ok=True)\n",
    "save_index(mc_annot.sel(cell=mc_neurons).get_index('cell'),\n",
    "           file_name='../L1/Neuron/mc_cells.txt',\n",
    "           downsample=10000000,\n",
    "           random_state=0)\n",
    "\n",
    "save_index(rna_annot.sel(cell=rna_neurons).get_index('cell'),\n",
    "           file_name='../L1/Neuron/rna_cells.txt',\n",
    "           downsample=10000000,\n",
    "           random_state=0)\n",
    "\n",
    "\n"
   ]
  },
  {
   "cell_type": "markdown",
   "id": "36f2bb37-d7bc-4eaf-81a8-add27c68f950",
   "metadata": {},
   "source": [
    "### prepare non_neuron"
   ]
  },
  {
   "cell_type": "code",
   "execution_count": null,
   "id": "d6ac2213-907a-4c52-9710-620e73a5b02f",
   "metadata": {},
   "outputs": [],
   "source": [
    "mc_non_neurons = mc_annot['L1_annot'].isin(['ODC', 'OPC', 'ASC', 'MGC', 'CB', 'CBX', 'DG'])\n",
    "rna_non_neurons = rna_annot['L1_annot'].isin(['ODC', 'ASC', 'ECPC', 'NonN', 'OPC', 'VLMC', 'CB', 'OLF1'])\n",
    "\n",
    "pathlib.Path('../L1/NonNeuron').mkdir(exist_ok=True)\n",
    "save_index(mc_annot.sel(cell=mc_non_neurons).get_index('cell'),\n",
    "           file_name='../L1/NonNeuron/mc_cells.txt',\n",
    "           downsample=10000000,\n",
    "           random_state=0)\n",
    "\n",
    "save_index(rna_annot.sel(cell=rna_non_neurons).get_index('cell'),\n",
    "           file_name='../L1/NonNeuron/rna_cells.txt',\n",
    "           downsample=10000000,\n",
    "           random_state=0)\n",
    "\n"
   ]
  },
  {
   "cell_type": "code",
   "execution_count": null,
   "id": "4c126479-03ae-48a3-a36c-8b9e4042a28a",
   "metadata": {},
   "outputs": [],
   "source": [
    "# non neuron sub group\n",
    "#[   'DG']\n",
    "mc_non_neurons_dict = {'OPC':['OPC'],\n",
    "                       'ODC':['ODC'],\n",
    "                  'ASC':['ASC'],\n",
    "                  'NonN':['MGC'],\n",
    "                  'CB':['CB','CBX'],\n",
    "                  }\n",
    "\n",
    "#[ 'OLF1']\n",
    "rna_non_neurons_dict = {'OPC':['OPC'],\n",
    "                       'ODC':['ODC'],\n",
    "                  'ASC':['ASC'],\n",
    "                  'NonN':['MGC','NonN','ECPC', 'VLMC',],\n",
    "                  'CB':['CB'],\n",
    "                  }\n",
    "\n",
    "# nonneuron (include DG-GC and CB)\n",
    "for group, mt in mc_non_neurons_dict.items():\n",
    "    pathlib.Path(f'../L1/{group}').mkdir(exist_ok=True)\n",
    "    mc_non_neurons = mc_annot['L1_annot'].isin(mt)\n",
    "    \n",
    "    save_index(mc_annot.sel(cell=mc_non_neurons).get_index('cell'),\n",
    "           file_name=f'../L1/{group}/mc_cells.txt',\n",
    "           downsample=10000000,\n",
    "           random_state=0)\n",
    "\n",
    "for group, mt in rna_non_neurons_dict.items():\n",
    "    pathlib.Path(f'../L1/{group}').mkdir(exist_ok=True)\n",
    "    rna_non_neurons = rna_annot['L1_annot'].isin(mt)\n",
    "    \n",
    "    save_index(rna_annot.sel(cell=rna_non_neurons).get_index('cell'),\n",
    "           file_name=f'../L1/{group}/rna_cells.txt',\n",
    "           downsample=10000000,\n",
    "           random_state=0)\n",
    "\n"
   ]
  },
  {
   "cell_type": "code",
   "execution_count": null,
   "id": "6affde17-4695-469a-b7e1-fbc253da5627",
   "metadata": {},
   "outputs": [],
   "source": [
    "cwd = pathlib.Path().absolute()\n",
    "mc_type = 'CGN'\n",
    "\n",
    "with open('Snakefile') as f, open('../L1/Snakefile', 'w') as out_f:\n",
    "    snakefile_tmp = f.read()\n",
    "    snakefile_tmp = snakefile_tmp.replace('REPLACE_MC_TYPE', str(mc_type))\n",
    "    snakefile_tmp = snakefile_tmp.replace('REPLACE_TEMPLATE_DIR', str(cwd))\n",
    "    snakefile_tmp = snakefile_tmp.replace('REPLACE_DATASET', 'BROAD_TENX')\n",
    "    snakefile_tmp = snakefile_tmp.replace('REPLACE_CLUSTER_COL', str('L1'))\n",
    "    snakefile_tmp = snakefile_tmp.replace('REPLACE_INTEGRATION_GROUP_KEY',\n",
    "                                          str('L2'))\n",
    "    snakefile_tmp = snakefile_tmp.replace('REPLACE_INTEGRATION_PLOT_KEY',\n",
    "                                          str('L1_annot'))\n",
    "    snakefile_tmp = snakefile_tmp.replace(\n",
    "        'REPLACE_CATEGORICAL_KEY', str(['L1_annot', 'L2', 'DissectionRegion']))\n",
    "    out_f.write(snakefile_tmp)\n",
    "    "
   ]
  },
  {
   "cell_type": "markdown",
   "id": "1ccbee6c-530e-47da-99bc-e48d00f06227",
   "metadata": {},
   "source": [
    "### MajorRegion"
   ]
  },
  {
   "cell_type": "code",
   "execution_count": null,
   "id": "af7a564d-6dba-4b3f-a6c8-961c810088a4",
   "metadata": {},
   "outputs": [],
   "source": [
    "mc_region_to_use = {'OLF':['OLF']}\n",
    "rna_region_to_use = {'OLF':['OLF']}"
   ]
  },
  {
   "cell_type": "code",
   "execution_count": null,
   "id": "117e5830-3534-4719-9d5b-3d447d1d0170",
   "metadata": {},
   "outputs": [],
   "source": [
    "for group, mt in mc_region_to_use.items():\n",
    "    pathlib.Path(f'../MajorRegion/{group}').mkdir(exist_ok=True)\n",
    "    mc_cells = mc_annot['MajorRegion'].isin(mt)\n",
    "    \n",
    "    save_index(mc_annot.sel(cell=mc_cells).get_index('cell'),\n",
    "           file_name=f'../MajorRegion/{group}/mc_cells.txt',\n",
    "           downsample=10000000,\n",
    "           random_state=0)\n",
    "\n",
    "for group, mt in rna_region_to_use.items():\n",
    "    pathlib.Path(f'../MajorRegion/{group}').mkdir(exist_ok=True)\n",
    "    rna_cells = rna_annot['MajorRegion'].isin(mt)\n",
    "    \n",
    "    save_index(rna_annot.sel(cell=rna_cells).get_index('cell'),\n",
    "           file_name=f'../MajorRegion/{group}/rna_cells.txt',\n",
    "           downsample=10000000,\n",
    "           random_state=0)"
   ]
  },
  {
   "cell_type": "code",
   "execution_count": null,
   "id": "6a2a678b-2229-402f-846b-cab01862b155",
   "metadata": {},
   "outputs": [],
   "source": [
    "cwd = pathlib.Path().absolute()\n",
    "##\n",
    "mc_type = 'CHN'\n",
    "\n",
    "with open('Snakefile') as f, open('../MajorRegion/Snakefile', 'w') as out_f:\n",
    "    snakefile_tmp = f.read()\n",
    "    snakefile_tmp = snakefile_tmp.replace('REPLACE_MC_TYPE', str(mc_type))\n",
    "    snakefile_tmp = snakefile_tmp.replace('REPLACE_TEMPLATE_DIR', str(cwd))\n",
    "    snakefile_tmp = snakefile_tmp.replace('REPLACE_DATASET', 'BROAD_TENX')\n",
    "    snakefile_tmp = snakefile_tmp.replace('REPLACE_CLUSTER_COL', str('L1'))\n",
    "    snakefile_tmp = snakefile_tmp.replace('REPLACE_INTEGRATION_GROUP_KEY',\n",
    "                                          str('L2'))\n",
    "    snakefile_tmp = snakefile_tmp.replace('REPLACE_INTEGRATION_PLOT_KEY',\n",
    "                                          str('L1_annot'))\n",
    "    snakefile_tmp = snakefile_tmp.replace(\n",
    "        'REPLACE_CATEGORICAL_KEY', str(['L1_annot', 'L2', 'DissectionRegion']))\n",
    "    out_f.write(snakefile_tmp)\n",
    "    "
   ]
  },
  {
   "cell_type": "code",
   "execution_count": null,
   "id": "cc8f244b-bf19-4f71-baa4-95d86eb93cf3",
   "metadata": {},
   "outputs": [],
   "source": []
  },
  {
   "cell_type": "markdown",
   "id": "d7130c70",
   "metadata": {
    "tags": []
   },
   "source": [
    "## L2"
   ]
  },
  {
   "cell_type": "code",
   "execution_count": null,
   "id": "0010c9f4",
   "metadata": {
    "ExecuteTime": {
     "end_time": "2022-06-30T21:47:18.295364Z",
     "start_time": "2022-06-30T21:47:18.292908Z"
    }
   },
   "outputs": [],
   "source": [
    "import joblib\n",
    "import pathlib\n",
    "import subprocess"
   ]
  },
  {
   "cell_type": "code",
   "execution_count": null,
   "id": "3c2acbff",
   "metadata": {
    "ExecuteTime": {
     "end_time": "2022-06-30T21:47:25.749628Z",
     "start_time": "2022-06-30T21:47:20.359991Z"
    }
   },
   "outputs": [],
   "source": [
    "mc_groups = pd.read_csv('../L1/Neuron/mc_integration_group.csv.gz',\n",
    "                        index_col=0).squeeze()\n",
    "rna_groups = pd.read_csv('../L1/Neuron/rna_integration_group.csv.gz',\n",
    "                         index_col=0).squeeze()"
   ]
  },
  {
   "cell_type": "code",
   "execution_count": null,
   "id": "fa19da74-630c-4535-8e67-3c5c3bb76fee",
   "metadata": {},
   "outputs": [],
   "source": [
    "mc_groups.values"
   ]
  },
  {
   "cell_type": "code",
   "execution_count": null,
   "id": "c6335696-c962-4483-8fc0-46ffee1df3d4",
   "metadata": {},
   "outputs": [],
   "source": [
    "mc_groups[mc_groups.values == -1]"
   ]
  },
  {
   "cell_type": "code",
   "execution_count": null,
   "id": "4ffba63b-03f5-4e61-acbf-3e6bc59692e9",
   "metadata": {},
   "outputs": [],
   "source": [
    "mc_groups.unique()"
   ]
  },
  {
   "cell_type": "code",
   "execution_count": null,
   "id": "f78fce44",
   "metadata": {
    "ExecuteTime": {
     "end_time": "2022-06-30T21:47:32.990175Z",
     "start_time": "2022-06-30T21:47:25.755082Z"
    }
   },
   "outputs": [],
   "source": [
    "for integration_group in rna_groups.unique():\n",
    "    mc_cells = mc_groups[mc_groups == integration_group].index\n",
    "    rna_cells = rna_groups[rna_groups == integration_group].index\n",
    "\n",
    "    integration_group = f'InteGroup{integration_group}'\n",
    "    out_dir = pathlib.Path(f'../L2/{integration_group}')\n",
    "    out_dir.mkdir(exist_ok=True, parents=True)\n",
    "\n",
    "    save_index(mc_cells,\n",
    "               f'../L2/{integration_group}/mc_cells.txt',\n",
    "               downsample=10000000,\n",
    "               random_state=0)\n",
    "    save_index(rna_cells,\n",
    "               f'../L2/{integration_group}/rna_cells.txt',\n",
    "               downsample=10000000,\n",
    "               random_state=0)\n",
    "\n",
    "cwd = pathlib.Path().absolute()\n",
    "with open('Snakefile') as f, open('../L2/Snakefile', 'w') as out_f:\n",
    "    snakefile_tmp = f.read()\n",
    "    snakefile_tmp = snakefile_tmp.replace('REPLACE_TEMPLATE_DIR', str(cwd))\n",
    "    snakefile_tmp = snakefile_tmp.replace('REPLACE_DATASET', 'BROAD_TENX')\n",
    "    snakefile_tmp = snakefile_tmp.replace('REPLACE_CLUSTER_COL', str('L2'))\n",
    "    snakefile_tmp = snakefile_tmp.replace('REPLACE_INTEGRATION_GROUP_KEY',\n",
    "                                          str('L3'))\n",
    "    snakefile_tmp = snakefile_tmp.replace('REPLACE_INTEGRATION_PLOT_KEY',\n",
    "                                          str('L2'))\n",
    "    snakefile_tmp = snakefile_tmp.replace(\n",
    "        'REPLACE_CATEGORICAL_KEY', str(['L2', 'L3', 'DissectionRegion']))\n",
    "    out_f.write(snakefile_tmp)"
   ]
  },
  {
   "cell_type": "markdown",
   "id": "e242af22-07a5-4022-8b66-4881776e7734",
   "metadata": {
    "tags": []
   },
   "source": [
    "# L3"
   ]
  },
  {
   "cell_type": "code",
   "execution_count": null,
   "id": "eaf1a8b0-0b88-46f7-bed8-121a9da89bdd",
   "metadata": {},
   "outputs": [],
   "source": [
    "import joblib\n",
    "import pathlib\n",
    "import subprocess"
   ]
  },
  {
   "cell_type": "code",
   "execution_count": null,
   "id": "4361512d-c04a-4510-afd2-5f889c79cb89",
   "metadata": {},
   "outputs": [],
   "source": [
    "L2_group = []\n",
    "for path in pathlib.Path('../L2').glob('InteGroup*'):\n",
    "    L2_group.append(str(path).split('/')[-1])"
   ]
  },
  {
   "cell_type": "code",
   "execution_count": null,
   "id": "656ee9d8-0eb4-45f2-926e-8d458e4f375f",
   "metadata": {},
   "outputs": [],
   "source": [
    "for l2_group in L2_group:\n",
    "    mc_groups = pd.read_csv(f'../L2/{l2_group}/mc_integration_group.csv.gz',\n",
    "                        index_col=0).squeeze()\n",
    "    rna_groups = pd.read_csv(f'../L2/{l2_group}/rna_integration_group.csv.gz',\n",
    "                         index_col=0).squeeze()\n",
    "    \n",
    "    for integration_group in rna_groups.unique():\n",
    "        mc_cells = mc_groups[mc_groups == integration_group].index\n",
    "        rna_cells = rna_groups[rna_groups == integration_group].index\n",
    "\n",
    "        integration_group = f'{l2_group}_{integration_group}'\n",
    "        if mc_cells.size <= 150 or rna_cells.size <= 150:\n",
    "            print(integration_group)\n",
    "        else:\n",
    "            out_dir = pathlib.Path(f'../L3/{integration_group}')\n",
    "            out_dir.mkdir(exist_ok=True, parents=True)\n",
    "\n",
    "            save_index(mc_cells,\n",
    "                       f'../L3/{integration_group}/mc_cells.txt',\n",
    "                       downsample=1000000,\n",
    "                       random_state=0)\n",
    "            save_index(rna_cells,\n",
    "                       f'../L3/{integration_group}/rna_cells.txt',\n",
    "                       downsample=1000000,\n",
    "                       random_state=0)\n"
   ]
  },
  {
   "cell_type": "code",
   "execution_count": null,
   "id": "3eef0bed-07be-419f-adf8-3438b754945a",
   "metadata": {},
   "outputs": [],
   "source": [
    "cwd = pathlib.Path().absolute()\n",
    "with open('Snakefile') as f, open('../L3/Snakefile', 'w') as out_f:\n",
    "    snakefile_tmp = f.read()\n",
    "    snakefile_tmp = snakefile_tmp.replace('REPLACE_TEMPLATE_DIR', str(cwd))\n",
    "    snakefile_tmp = snakefile_tmp.replace('REPLACE_DATASET', 'BROAD_TENX')\n",
    "    snakefile_tmp = snakefile_tmp.replace('REPLACE_CLUSTER_COL', str('L3'))\n",
    "    snakefile_tmp = snakefile_tmp.replace('REPLACE_INTEGRATION_GROUP_KEY',\n",
    "                                          str('L3'))\n",
    "    snakefile_tmp = snakefile_tmp.replace('REPLACE_INTEGRATION_PLOT_KEY',\n",
    "                                          str('L3'))\n",
    "    snakefile_tmp = snakefile_tmp.replace(\n",
    "        'REPLACE_CATEGORICAL_KEY', str(['L3', 'DissectionRegion']))\n",
    "    out_f.write(snakefile_tmp)"
   ]
  },
  {
   "cell_type": "markdown",
   "id": "e19ed11a-4a7d-4313-a98f-c7ca92041519",
   "metadata": {
    "tags": []
   },
   "source": [
    "# L4"
   ]
  },
  {
   "cell_type": "code",
   "execution_count": null,
   "id": "3cde5c2e-98c0-49cc-9e9c-9c3b33a9e600",
   "metadata": {},
   "outputs": [],
   "source": [
    "L2_group = []\n",
    "for path in pathlib.Path('../L2').glob('InteGroup*'):\n",
    "    L2_group.append(str(path).split('/')[-1])"
   ]
  },
  {
   "cell_type": "code",
   "execution_count": null,
   "id": "3216713a-8eb7-4a33-b1fa-8a1b499f147b",
   "metadata": {},
   "outputs": [],
   "source": [
    "for l2_group in L2_group:\n",
    "    mc_groups = pd.read_csv(f'../L2/{l2_group}/mc_integration_group.csv.gz',\n",
    "                        index_col=0).squeeze()\n",
    "    rna_groups = pd.read_csv(f'../L2/{l2_group}/rna_integration_group.csv.gz',\n",
    "                         index_col=0).squeeze()\n",
    "    \n",
    "    for integration_group in rna_groups.unique():\n",
    "        mc_cells = mc_groups[mc_groups == integration_group].index\n",
    "        rna_cells = rna_groups[rna_groups == integration_group].index\n",
    "\n",
    "        integration_group = f'{l2_group}_{integration_group}'\n",
    "        if mc_cells.size <= 150 or rna_cells.size <= 150:\n",
    "            print(integration_group)\n",
    "        else:\n",
    "            out_dir = pathlib.Path(f'../L4/{integration_group}')\n",
    "            out_dir.mkdir(exist_ok=True, parents=True)\n",
    "\n",
    "            save_index(mc_cells,\n",
    "                       f'../L4/{integration_group}/mc_cells.txt',\n",
    "                       downsample=1000000,\n",
    "                       random_state=0)\n",
    "            save_index(rna_cells,\n",
    "                       f'../L4/{integration_group}/rna_cells.txt',\n",
    "                       downsample=1000000,\n",
    "                       random_state=0)\n"
   ]
  },
  {
   "cell_type": "code",
   "execution_count": null,
   "id": "6786c24c-144e-4b1f-b6a6-eef860227abf",
   "metadata": {},
   "outputs": [],
   "source": [
    "cwd = pathlib.Path().absolute()\n",
    "with open('Snakefile') as f, open('../L4/Snakefile', 'w') as out_f:\n",
    "    snakefile_tmp = f.read()\n",
    "    snakefile_tmp = snakefile_tmp.replace('REPLACE_TEMPLATE_DIR', str(cwd))\n",
    "    snakefile_tmp = snakefile_tmp.replace('REPLACE_DATASET', 'BROAD_TENX')\n",
    "    snakefile_tmp = snakefile_tmp.replace('REPLACE_CLUSTER_COL', str('L3'))\n",
    "    snakefile_tmp = snakefile_tmp.replace('REPLACE_INTEGRATION_GROUP_KEY',\n",
    "                                          str('L4'))\n",
    "    snakefile_tmp = snakefile_tmp.replace('REPLACE_INTEGRATION_PLOT_KEY',\n",
    "                                          str('L4'))\n",
    "    snakefile_tmp = snakefile_tmp.replace(\n",
    "        'REPLACE_CATEGORICAL_KEY', str(['L3', 'L4','DissectionRegion']))\n",
    "    out_f.write(snakefile_tmp)"
   ]
  },
  {
   "cell_type": "code",
   "execution_count": null,
   "id": "440c299e-ab9a-487a-864a-e7236cceea61",
   "metadata": {},
   "outputs": [],
   "source": []
  },
  {
   "cell_type": "code",
   "execution_count": null,
   "id": "a0c4958e-6161-4c78-8a6e-1aaa6624f301",
   "metadata": {},
   "outputs": [],
   "source": []
  }
 ],
 "metadata": {
  "hide_input": false,
  "kernelspec": {
   "display_name": "Python 3 (ipykernel)",
   "language": "python",
   "name": "python3"
  },
  "language_info": {
   "codemirror_mode": {
    "name": "ipython",
    "version": 3
   },
   "file_extension": ".py",
   "mimetype": "text/x-python",
   "name": "python",
   "nbconvert_exporter": "python",
   "pygments_lexer": "ipython3",
   "version": "3.8.13"
  },
  "toc": {
   "base_numbering": 1,
   "nav_menu": {},
   "number_sections": true,
   "sideBar": true,
   "skip_h1_title": true,
   "title_cell": "Table of Contents",
   "title_sidebar": "Contents",
   "toc_cell": false,
   "toc_position": {},
   "toc_section_display": true,
   "toc_window_display": true
  }
 },
 "nbformat": 4,
 "nbformat_minor": 5
}
