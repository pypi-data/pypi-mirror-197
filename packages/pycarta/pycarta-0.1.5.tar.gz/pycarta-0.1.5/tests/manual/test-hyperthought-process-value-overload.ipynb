{
 "cells": [
  {
   "cell_type": "code",
   "execution_count": 1,
   "id": "fd4b7c16-2791-4d36-8e6f-80e0d6e7959d",
   "metadata": {},
   "outputs": [],
   "source": [
    "from getpass import getpass\n",
    "from pycarta.interface.hyperthought import build, get_hyperthought_auth"
   ]
  },
  {
   "cell_type": "code",
   "execution_count": 2,
   "id": "f457a621-f4ed-481b-8bbb-4fffd7306733",
   "metadata": {},
   "outputs": [
    {
     "name": "stdin",
     "output_type": "stream",
     "text": [
      "Enter HyperThought API token:  ································································································································································································································································································································································································································\n"
     ]
    }
   ],
   "source": [
    "token = getpass(\"Enter HyperThought API token: \")\n",
    "auth = get_hyperthought_auth(token)"
   ]
  },
  {
   "cell_type": "code",
   "execution_count": 3,
   "id": "2e903897-18c7-46ff-ae6f-4361fd9f8432",
   "metadata": {},
   "outputs": [],
   "source": [
    "schema = [\n",
    "    {\n",
    "        \"id\": \"Zoo\",\n",
    "        \"type\": \"WorkflowBuilder\",\n",
    "        \"contains\": [\n",
    "            {\n",
    "                \"type\": \"Tiger\",\n",
    "                \"name\": \"Tony\"\n",
    "            },\n",
    "            {\n",
    "                \"type\": \"Cheetah\",\n",
    "                \"name\": \"Chester\"\n",
    "            }\n",
    "        ]\n",
    "    },\n",
    "    {\n",
    "        \"id\": \"BigCat\",\n",
    "        \"type\": \"ProcessBuilder\",\n",
    "        \"contains\": [\n",
    "            {\n",
    "                \"key\": \"color\"\n",
    "            },\n",
    "            {\n",
    "                \"key\": \"claws\",\n",
    "                \"value\": \"retractable\"\n",
    "            }\n",
    "        ]\n",
    "    },\n",
    "    {\n",
    "        \"id\": \"Tiger\",\n",
    "        \"type\": \"BigCat\",\n",
    "        \"contains\": [\n",
    "            {\n",
    "                \"key\": \"color\",\n",
    "                \"value\": \"orange-black\"\n",
    "            }\n",
    "        ]\n",
    "    },\n",
    "    {\n",
    "        \"id\": \"Cheetah\",\n",
    "        \"type\": \"BigCat\",\n",
    "        \"contains\": [\n",
    "            {\n",
    "                \"key\": \"color\",\n",
    "                \"value\": \"tan-black\"\n",
    "            },\n",
    "            {\n",
    "                \"key\": \"claws\",\n",
    "                \"value\": \"fixed\"\n",
    "            }\n",
    "        ]\n",
    "    }\n",
    "]"
   ]
  },
  {
   "cell_type": "code",
   "execution_count": 4,
   "id": "95f5f864-ca44-4aed-8e02-bf066a2459aa",
   "metadata": {},
   "outputs": [],
   "source": [
    "build(\n",
    "    auth,\n",
    "    typename=\"Zoo\",\n",
    "    name=\"Denver\",\n",
    "    parent=\"manual\",\n",
    "    workspace=\"Carta Development\",\n",
    "    schema=schema\n",
    ")"
   ]
  },
  {
   "cell_type": "code",
   "execution_count": null,
   "id": "30531cbc-7451-435b-bc31-238f708ac7bc",
   "metadata": {},
   "outputs": [],
   "source": []
  }
 ],
 "metadata": {
  "kernelspec": {
   "display_name": "Python 3 (ipykernel)",
   "language": "python",
   "name": "python3"
  },
  "language_info": {
   "codemirror_mode": {
    "name": "ipython",
    "version": 3
   },
   "file_extension": ".py",
   "mimetype": "text/x-python",
   "name": "python",
   "nbconvert_exporter": "python",
   "pygments_lexer": "ipython3",
   "version": "3.9.6"
  }
 },
 "nbformat": 4,
 "nbformat_minor": 5
}
