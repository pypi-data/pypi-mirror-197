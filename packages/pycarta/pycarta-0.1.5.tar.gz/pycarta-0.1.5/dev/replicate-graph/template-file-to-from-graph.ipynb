{
 "cells": [
  {
   "cell_type": "code",
   "execution_count": 1,
   "id": "9a48b786-4ba5-41cb-8e23-500afbd10b0c",
   "metadata": {},
   "outputs": [],
   "source": [
    "import networkx as nx\n",
    "import numpy as np\n",
    "import pandas as pd\n",
    "import re\n",
    "\n",
    "from getpass import getpass\n",
    "from matplotlib import pyplot as plt\n",
    "from pprint import pprint\n",
    "from pycarta.api import create_agent\n",
    "from pycarta.api.data import *\n",
    "from pycarta.graph.node import Node"
   ]
  },
  {
   "cell_type": "markdown",
   "id": "419f9404-77f4-4237-8bcb-8c8261452bc0",
   "metadata": {},
   "source": [
    "# Login to Carta"
   ]
  },
  {
   "cell_type": "code",
   "execution_count": 2,
   "id": "047deaf4-7e05-44ed-a0bb-c3abde85272b",
   "metadata": {},
   "outputs": [
    {
     "name": "stdin",
     "output_type": "stream",
     "text": [
      "Enter CartaAuth cookie:  ···························································································································································································································································································································································································································································································································································································································································································································································································································································································································································································································································································································································································································································································································································································································································································································································································································································································································································································································\n"
     ]
    }
   ],
   "source": [
    "cookie = getpass(\"Enter CartaAuth cookie: \")\n",
    "agent = create_agent(cookie, url=\"https://dev.carta.contextualize.us.com/api\")"
   ]
  },
  {
   "cell_type": "markdown",
   "id": "153f0e08-79a4-4220-82af-895900a4a06e",
   "metadata": {},
   "source": [
    "# Setup"
   ]
  },
  {
   "cell_type": "markdown",
   "id": "ef2e33be-3165-4ec8-b330-6ffe6b0bef23",
   "metadata": {},
   "source": [
    "## Create a simple graph"
   ]
  },
  {
   "cell_type": "code",
   "execution_count": 3,
   "id": "022c172e-39c0-48d7-bda8-b2d1a76556ad",
   "metadata": {},
   "outputs": [
    {
     "data": {
      "image/png": "[encoded data removed]",
      "text/plain": [
       "<Figure size 432x288 with 1 Axes>"
      ]
     },
     "metadata": {},
     "output_type": "display_data"
    }
   ],
   "source": [
    "G = nx.DiGraph()\n",
    "\n",
    "#         D\n",
    "#     B < \n",
    "# A <     E\n",
    "#     C\n",
    "#\n",
    "#          D\n",
    "#      B <\n",
    "#     /    E\n",
    "#    /\n",
    "# A <-- C\n",
    "#    \\\n",
    "#     \\     D'\n",
    "#      B' <\n",
    "#           E'\n",
    "#\n",
    "# A.properties = {\"carta\": 0.22}\n",
    "# B.properties = {\"Kappes\": \"Branden\", \"number\": 483}\n",
    "# D.properies = {\"org\": \"UTEP\"}\n",
    "A = Node(\"A\", properties=[Node.Property(name=\"carta\", values=[0.22])])\n",
    "B = Node(\"B\", properties=[\n",
    "    Node.Property(name=\"Kappes\", values=[\"Branden\"]),\n",
    "    Node.Property(name=\"number\", values=[483])\n",
    "])\n",
    "C = Node(\"C\", properties=[Node.Property(name=\"call\", values=[\"function\"])])\n",
    "D = Node(\"D\", properties=[Node.Property(name=\"org\", values=[\"UTEP\"])])\n",
    "E = Node(\"E\", properties=[Node.Property(name=\"eagle\", values=[\"bird\"])])\n",
    "Bp = Node(\"B\", properties=[\n",
    "    Node.Property(name=\"Kappes\", values=[\"Ronel\"]),\n",
    "    Node.Property(name=\"number\", values=[3243])\n",
    "])\n",
    "Dp = Node(\"D\", properties=[Node.Property(name=\"org\", values=[\"GT\"])])\n",
    "Ep = Node(\"E\", properties=[Node.Property(name=\"eagle\", values=[\"raptor\"])])\n",
    "\n",
    "G.add_edges_from([\n",
    "    (A, B),\n",
    "    (A, C),\n",
    "    (A, Bp),\n",
    "    (B, D),\n",
    "    (B, E),\n",
    "    (Bp, Dp),\n",
    "    (Bp, Ep)\n",
    "])\n",
    "nx.draw_kamada_kawai(G, labels={k:k.label for k in G.nodes});"
   ]
  },
  {
   "cell_type": "markdown",
   "id": "1456af83-f103-4af0-8347-ff2b51bd5dcd",
   "metadata": {},
   "source": [
    "## Push graph into Carta"
   ]
  },
  {
   "cell_type": "code",
   "execution_count": 4,
   "id": "a0a959ce-55ab-4484-8e6a-77c1406e405e",
   "metadata": {},
   "outputs": [],
   "source": [
    "cg = post_graph(\n",
    "    agent,\n",
    "    \"User\",\n",
    "    label=\"simple-graph\",\n",
    "    edges=list(G.edges)\n",
    ")"
   ]
  },
  {
   "cell_type": "markdown",
   "id": "4041ec8c-0364-4b61-9cb1-331a3a76870e",
   "metadata": {},
   "source": [
    "## Pull graph from Carta"
   ]
  },
  {
   "cell_type": "code",
   "execution_count": 5,
   "id": "aaef74b0-0f6b-482b-a7ca-e4552192677f",
   "metadata": {},
   "outputs": [
    {
     "data": {
      "text/plain": [
       "{'id': '0',\n",
       " 'directed': True,\n",
       " 'dynamic': True,\n",
       " 'nodes': [{'id': '2a8fa26e-6c79-4da9-99e6-69dc315953df',\n",
       "   'label': 'E',\n",
       "   'properties': [{'id': 'eagle', 'values': ['bird']}]},\n",
       "  {'id': '06e05957-5394-45fa-93b1-5ba1f35f69ad',\n",
       "   'label': 'C',\n",
       "   'properties': [{'id': 'call', 'values': ['function']}]},\n",
       "  {'id': '924f0b8d-1ae9-426a-b132-af75bcabc479',\n",
       "   'label': 'D',\n",
       "   'properties': [{'id': 'org', 'values': ['UTEP']}]},\n",
       "  {'id': '3d835268-02a2-46fd-8bc9-340a9ba0b4a6',\n",
       "   'label': 'E',\n",
       "   'properties': [{'id': 'eagle', 'values': ['raptor']}]},\n",
       "  {'id': 'badd0619-0646-4b01-b90c-5332c67c0fec',\n",
       "   'label': 'D',\n",
       "   'properties': [{'id': 'org', 'values': ['GT']}]},\n",
       "  {'id': '025dbc45-005b-42b1-8a16-3be64c4b6141',\n",
       "   'label': 'B',\n",
       "   'properties': [{'id': 'Kappes', 'values': ['Ronel']},\n",
       "    {'id': 'number', 'values': [3243]}]},\n",
       "  {'id': 'f28c3a26-6d4b-4c62-a2ed-60d8ca45a390',\n",
       "   'label': 'B',\n",
       "   'properties': [{'id': 'Kappes', 'values': ['Branden']},\n",
       "    {'id': 'number', 'values': [483]}]},\n",
       "  {'id': '81230c5a-0cd9-4a60-8daf-e2fe2dcbdfb7',\n",
       "   'label': 'A',\n",
       "   'properties': [{'id': 'carta', 'values': [0.22]}]}],\n",
       " 'edges': [{'id': 'f28c3a26-6d4b-4c62-a2ed-60d8ca45a390::2a8fa26e-6c79-4da9-99e6-69dc315953df',\n",
       "   'from': 'f28c3a26-6d4b-4c62-a2ed-60d8ca45a390',\n",
       "   'to': '2a8fa26e-6c79-4da9-99e6-69dc315953df'},\n",
       "  {'id': '81230c5a-0cd9-4a60-8daf-e2fe2dcbdfb7::06e05957-5394-45fa-93b1-5ba1f35f69ad',\n",
       "   'from': '81230c5a-0cd9-4a60-8daf-e2fe2dcbdfb7',\n",
       "   'to': '06e05957-5394-45fa-93b1-5ba1f35f69ad'},\n",
       "  {'id': 'f28c3a26-6d4b-4c62-a2ed-60d8ca45a390::924f0b8d-1ae9-426a-b132-af75bcabc479',\n",
       "   'from': 'f28c3a26-6d4b-4c62-a2ed-60d8ca45a390',\n",
       "   'to': '924f0b8d-1ae9-426a-b132-af75bcabc479'},\n",
       "  {'id': '025dbc45-005b-42b1-8a16-3be64c4b6141::3d835268-02a2-46fd-8bc9-340a9ba0b4a6',\n",
       "   'from': '025dbc45-005b-42b1-8a16-3be64c4b6141',\n",
       "   'to': '3d835268-02a2-46fd-8bc9-340a9ba0b4a6'},\n",
       "  {'id': '025dbc45-005b-42b1-8a16-3be64c4b6141::badd0619-0646-4b01-b90c-5332c67c0fec',\n",
       "   'from': '025dbc45-005b-42b1-8a16-3be64c4b6141',\n",
       "   'to': 'badd0619-0646-4b01-b90c-5332c67c0fec'},\n",
       "  {'id': '81230c5a-0cd9-4a60-8daf-e2fe2dcbdfb7::025dbc45-005b-42b1-8a16-3be64c4b6141',\n",
       "   'from': '81230c5a-0cd9-4a60-8daf-e2fe2dcbdfb7',\n",
       "   'to': '025dbc45-005b-42b1-8a16-3be64c4b6141'},\n",
       "  {'id': '81230c5a-0cd9-4a60-8daf-e2fe2dcbdfb7::f28c3a26-6d4b-4c62-a2ed-60d8ca45a390',\n",
       "   'from': '81230c5a-0cd9-4a60-8daf-e2fe2dcbdfb7',\n",
       "   'to': 'f28c3a26-6d4b-4c62-a2ed-60d8ca45a390'}]}"
      ]
     },
     "execution_count": 5,
     "metadata": {},
     "output_type": "execute_result"
    }
   ],
   "source": [
    "cg"
   ]
  },
  {
   "cell_type": "markdown",
   "id": "97e560f1-66c7-444a-9d1c-988b4a9d8168",
   "metadata": {},
   "source": [
    "## Clean up resources on Carta"
   ]
  },
  {
   "cell_type": "code",
   "execution_count": 6,
   "id": "6c4bb5db-7aba-4be6-a60d-de234adb09cc",
   "metadata": {},
   "outputs": [
    {
     "data": {
      "text/plain": [
       "<Response [200]>"
      ]
     },
     "execution_count": 6,
     "metadata": {},
     "output_type": "execute_result"
    }
   ],
   "source": [
    "delete_resource(agent, \"User\", 0)"
   ]
  },
  {
   "cell_type": "markdown",
   "id": "5cc9c3b5-4db7-4ea6-b139-6b707faa542d",
   "metadata": {},
   "source": [
    "# Prototype"
   ]
  },
  {
   "cell_type": "markdown",
   "id": "79e6c209-7ded-4aac-b6a0-20289e29674d",
   "metadata": {},
   "source": [
    "## Convert Carta graph into networkx graph"
   ]
  },
  {
   "cell_type": "code",
   "execution_count": 7,
   "id": "74e21ee0-6971-4360-bb09-9e3bc5e58109",
   "metadata": {},
   "outputs": [
    {
     "data": {
      "image/png": "[encoded data removed]",
      "text/plain": [
       "<Figure size 432x288 with 1 Axes>"
      ]
     },
     "metadata": {},
     "output_type": "display_data"
    }
   ],
   "source": [
    "def to_digraph(response):\n",
    "    \"\"\"\n",
    "    Creates a networkx DiGraph from the JSON package received from Carta.\n",
    "    \n",
    "    Parameters\n",
    "    ----------\n",
    "    response : JSON object\n",
    "        JSON-formatted graph returned from Carta.\n",
    "        \n",
    "    Returns\n",
    "    -------\n",
    "    nx.DiGraph\n",
    "    \"\"\"\n",
    "    G = nx.DiGraph()\n",
    "    nodeMap = {\n",
    "        n[\"id\"]:Node(\n",
    "            label=n[\"label\"],\n",
    "            id=n[\"id\"],\n",
    "            properties=[Node.Property(id=p[\"id\"], values=p[\"values\"]) for p in n[\"properties\"]]\n",
    "        ) for n in response[\"nodes\"]\n",
    "    }\n",
    "    edges = [(nodeMap[e[\"from\"]], nodeMap[e[\"to\"]]) for e in response[\"edges\"]]\n",
    "    G.add_nodes_from(list(nodeMap.values()))\n",
    "    G.add_edges_from(edges)\n",
    "    return G\n",
    "\n",
    "G2 = to_digraph(cg)\n",
    "\n",
    "nx.draw_kamada_kawai(G2, labels={k:k.label for k in G2.nodes});"
   ]
  },
  {
   "cell_type": "markdown",
   "id": "24c9cf0b-18a3-458b-be8b-eec9882557b6",
   "metadata": {},
   "source": [
    "## Identify node equivalence\n",
    "\n",
    "**Goal** Find equivalent subtrees in an arbitrary graph.\n",
    "\n",
    "1. Equivalence in a leaf node: all properties are the same.\n",
    "    1. Default: Same key/value pairs\n",
    "    1. Optional: Values need not match (equivalence on keys only)\n",
    "1. Equivalence in non-leaf node: equivalent children and all properties are the same.\n",
    "    1. Same options for property equivalence as leaf node.\n",
    "    \n",
    "### Algorithm\n",
    "1. Start with empty dict of nodes: dict\\[source node, reference node\\]\n",
    "1. Foreach leaf node (out-degree = 0):\n",
    "    1. Is this leaf node equivalent to one in the set?\n",
    "        1. Yes. Continue.\n",
    "        1. No. Add new node.\n",
    "1. Foreach node that connects to a leaf node:\n",
    "    1. Is this node equivalent to one in the set?\n",
    "        1. Yes. Continue.\n",
    "        1. No. Add new node; children are reference nodes from mapping.\n",
    "1. Repeat the previous step until all nodes have been visited. (Depth-first traversal?)\n",
    "1. Create an empty set of names.\n",
    "1. Iterate through all nodes.\n",
    "    1. If node name not in set, add node name to set. Continue.\n",
    "    1. If node name in name set, rename node to \"\\[node name\\]-N\", where N is the first integer that makes the name unique.\n",
    "        \n",
    "This creates a graph where every node is a unique collection: in name, of children, and of properties.\n",
    "\n",
    "### HyperThought-specific\n",
    "For every node with properties and out-degree != 0 (Old Node):\n",
    "1. Create New Node named \"\\[node name\\] attributes\" with the properties from Old Node.\n",
    "1. Remove properties from Old Node.\n",
    "1. Create edge from Old Node to New Node.\n",
    "\n",
    "All nodes with properties derive from `ProcessBuilder`. All nodes without properties derive from `WorkflowBuilder`.\n",
    "\n",
    "## TODO\n",
    "Identify roots for more complex inheritance, that is, can base class--derived class relationships be identified from this graph?"
   ]
  },
  {
   "cell_type": "code",
   "execution_count": 8,
   "id": "af47daa4-1a8f-41db-bd25-48470dad71a2",
   "metadata": {},
   "outputs": [
    {
     "name": "stdout",
     "output_type": "stream",
     "text": [
      "Hello World, this is Branden -> HelloWorldThisIsBranden\n",
      "Hello World-1 Attributes -> HelloWorld1Attributes\n"
     ]
    }
   ],
   "source": [
    "def camel_case(s):\n",
    "    return re.sub(r'([^a-zA-Z0-9])+', ' ', s).title().replace(' ', '')\n",
    "\n",
    "for word in (\n",
    "    \"Hello World, this is Branden\",\n",
    "    \"Hello World-1 Attributes\"\n",
    "):\n",
    "    print(word, \"->\", camel_case(word))"
   ]
  },
  {
   "cell_type": "code",
   "execution_count": 9,
   "id": "92756aee-e0e6-4971-a3d5-78a62780c474",
   "metadata": {},
   "outputs": [],
   "source": [
    "import re\n",
    "from abc import ABC, abstractmethod\n",
    "from functools import reduce\n",
    "from itertools import count\n",
    "\n",
    "class IrreducibleGraphBase(ABC):\n",
    "    def __init__(self):\n",
    "        \"\"\"\n",
    "        \n",
    "        \"\"\"\n",
    "        self._node_map = dict() # dict[Node, Node]\n",
    "        self._name_map = dict() # dict[Node, str]\n",
    "        self._initial_graph = None\n",
    "        self._irreducible_graph = None\n",
    "        self._reduced_graph = None\n",
    "        \n",
    "    # ##### API ##### #\n",
    "    \n",
    "    def fit(self, graph, *, compare_labels=False, compare_values=True):\n",
    "        \"\"\"\n",
    "        Fits a Carta graph to create a template that can be used to\n",
    "        reproduce that structure.\n",
    "        \n",
    "        Parameters\n",
    "        ----------\n",
    "        graph : nx.DiGraph\n",
    "            Graph retrieved from Carta\n",
    "        \"\"\"\n",
    "        self._fit(graph, compare_labels=compare_labels, compare_values=compare_values)\n",
    "        self._graph_finalize()\n",
    "        return self\n",
    "\n",
    "    def to_json(self):\n",
    "        return [self._node_rep(n) for n in self._reduced_graph.nodes]\n",
    "    \n",
    "    # ##### implementation details ##### #\n",
    "    \n",
    "    @abstractmethod\n",
    "    def _node_rep(self, node):\n",
    "        pass\n",
    "    \n",
    "    @abstractmethod\n",
    "    def _fit(self, graph, *, compare_labels=False, compare_values=True):\n",
    "        self._initial_graph = graph\n",
    "        nodes = list(graph.nodes)\n",
    "        # compare unique pairs of nodes.\n",
    "        _ = [\n",
    "            self._compare_nodes(\n",
    "                nodes[i], nodes[j], graph,\n",
    "                compare_labels=compare_labels,\n",
    "                compare_values=compare_values)\n",
    "            for i,j in zip(*np.triu_indices(len(nodes)))\n",
    "        ]\n",
    "        self._irreducible_graph = nx.relabel_nodes(graph, self._node_map)\n",
    "            \n",
    "    def _graph_finalize(self):\n",
    "#         def get_node_id(G, n):\n",
    "#             # Creates a tuple of (node, child1, child2, ...)\n",
    "#             # irrespective of the order of the children.\n",
    "#             return (\n",
    "#                 (self._node_map[n],) + \n",
    "#                 tuple(\n",
    "#                     sorted(\n",
    "#                         [\n",
    "#                             self._node_map[n] for n in G.successors(n)\n",
    "#                         ],\n",
    "#                         key=lambda a: a.id\n",
    "#                     )\n",
    "#                 )\n",
    "#             )\n",
    "        def descendents(graph, node):\n",
    "            return (node,) + tuple(get_descendents(graph, c) for c in graph.successors(node))\n",
    "        def unique(nc):\n",
    "            result = set()\n",
    "            for entry in set(nc):\n",
    "                children = tuple(_[0] for _ in entry[1:])\n",
    "                result.add((entry[0],) + children)\n",
    "                for child in children:\n",
    "                    result.update(unique(child))\n",
    "            return result\n",
    "        # Build structure-aware graph\n",
    "        G = self._initial_graph\n",
    "        roots = tuple(descendents(G, n) for n in G.nodes if G.in_degree(n) == 0)\n",
    "        self._minimal_structures = reduce(lambda a,b: a.union(b), roots)\n",
    "#         # Maps all the nodes to their templated values\n",
    "#         G = self._initial_graph\n",
    "#         # map the intial graph to the nodes and their children/successors\n",
    "#         keys = set(get_node_id(G, n) for n in nx.algorithms.dfs_preorder_nodes(G))\n",
    "#         nmap = {k: Node(k[0].label) for k in keys}\n",
    "#         self._reduced_graph = nx.relabel_nodes(G, nmap)\n",
    "#         # create unique names for each node type and children\n",
    "#         for node in self._reduced_graph.nodes:\n",
    "#             label = node.label\n",
    "#             i = count(start=1)\n",
    "#             while label in self._name_map.values():\n",
    "#                 label = f\"{node.label}-{next(i)}\"\n",
    "#             self._name_map[node] = label\n",
    "    \n",
    "    def _name_to_typename(self, s):\n",
    "        return re.sub(r'([^a-zA-Z0-9])+', ' ', s).title().replace(' ', '')\n",
    "\n",
    "    def _compare_nodes(self, n1, n2, graph=None, *, compare_labels=False, compare_values=True):\n",
    "        def prop_equal(p1, p2):\n",
    "            p1 = {p.id: p.values for p in p1}\n",
    "            p2 = {p.id: p.values for p in p2}\n",
    "            equiv = set(p1) == set(p2)\n",
    "            if equiv and compare_values:\n",
    "                for k in p1:\n",
    "                    equiv = (tuple(p1[k]) == tuple(p2[k]))\n",
    "                    if not equiv:\n",
    "                        break\n",
    "            return equiv\n",
    "        \n",
    "        # normalize the name\n",
    "        if n1 not in self._node_map:\n",
    "            self._node_map[n1] = n1\n",
    "        if n2 not in self._node_map:\n",
    "            self._node_map[n2] = n2    \n",
    "        n1 = self._node_map[n1]\n",
    "        n2 = self._node_map[n2]\n",
    "        # short circuit if n1 and n2 are the same\n",
    "        if n1 is n2:\n",
    "            return True\n",
    "        # equality of properties\n",
    "        equiv = prop_equal(n1.properties, n2.properties)\n",
    "        if equiv and compare_labels:\n",
    "            # The labels need not be the same if the structure and leaf nodes are\n",
    "            # are identical.\n",
    "            equiv = (n1.label == n2.label)\n",
    "        if equiv:\n",
    "            if graph:\n",
    "                deg1 = graph.out_degree(n1)\n",
    "                deg2 = graph.out_degree(n2)\n",
    "                equiv = (deg1 == deg2)\n",
    "                if equiv and (deg1 > 0):\n",
    "                    # Not leaf nodes --> check successors\n",
    "                    s1 = list(graph.successors(n1))\n",
    "                    s2 = list(graph.successors(n2))\n",
    "                    # A matrix of node equivalencies\n",
    "                    # Each successor of one node is compared to the successors\n",
    "                    # of the other node. If every successor node in A has an\n",
    "                    # equivalent successor node in B. A and B can have multiple\n",
    "                    # references to the same successor, but unless they have the\n",
    "                    # same number of references, the equivalence matrix will\n",
    "                    # have one row or one column without a matching successor.\n",
    "                    nodesMatch = np.array(\n",
    "                        [\n",
    "                            [\n",
    "                                self._compare_nodes(c1, c2, graph,\n",
    "                                     compare_labels=compare_labels,\n",
    "                                     compare_values=compare_values)\n",
    "                                for c2 in s2\n",
    "                            ]\n",
    "                            for c1 in s1\n",
    "                        ],\n",
    "                        dtype=bool\n",
    "                    )\n",
    "                    equiv = (\n",
    "                        np.all(np.any(nodesMatch, axis=0)) and\n",
    "                        np.all(np.any(nodesMatch, axis=1))\n",
    "                    )\n",
    "        if equiv:\n",
    "            # n1 and n2 are the same\n",
    "            self._node_map[n1] = n1\n",
    "            self._node_map[n2] = n1\n",
    "            # remove previous mappings to n2\n",
    "            for k,v in self._node_map.items():\n",
    "                if v is n2:\n",
    "                    self._node_map[k] = n1\n",
    "        return equiv\n",
    "\n",
    "\n",
    "class IrreducibleGraphHyperThought(IrreducibleGraphBase):\n",
    "    def __init__(self):\n",
    "        super().__init__()\n",
    "        \n",
    "    def _fit(\n",
    "        self,\n",
    "        graph,\n",
    "        *,\n",
    "        compare_labels=False,\n",
    "        compare_values=True\n",
    "    ):\n",
    "        # HyperThought imposes restrictions on nodes.\n",
    "        G = graph.copy()\n",
    "        for node in G.nodes:\n",
    "            # Workflow Nodes cannot have properties and Process Nodes\n",
    "            # cannot have children, i.e. span levels. Therefore, any\n",
    "            # node that has both children and properties must be split\n",
    "            # into a Workflow node, with no properties, and a Process\n",
    "            # node with its properties.\n",
    "            if self.is_workflow(node) and (len(node.properties) > 0):\n",
    "                label = f\"{self._node_map[node].label} Attributes\"\n",
    "                attr = Node(\n",
    "                    label,\n",
    "                    properties=[\n",
    "                        Node.Property(id=p.id, values=p.values)\n",
    "                        for p in node.properties\n",
    "                    ]\n",
    "                )\n",
    "                node.properties = []\n",
    "                G.add_edge(node, attr)\n",
    "        # Now that the initial graph has been modified to accommodate\n",
    "        # the restriction imposed by HyperThought, continue.\n",
    "        super()._fit(G, compare_labels=compare_labels, compare_values=compare_values)\n",
    "\n",
    "    def _node_rep(self, node):\n",
    "        if self.is_workflow(node):\n",
    "            return self._workflow_rep(node)\n",
    "        else:\n",
    "            return self._process_rep(node)\n",
    "            \n",
    "    def is_workflow(self, node):\n",
    "        for G in (self._initial_graph, self._irreducible_graph, self._reduced_graph):\n",
    "            try:\n",
    "                return (G.out_degree(node) > 0) or (len(node.properties) == 0)\n",
    "            except (AttributeError, KeyError):\n",
    "                pass\n",
    "        return False\n",
    "    \n",
    "    def is_process(self, node):\n",
    "        for G in (self._initial_graph, self._irreducible_graph, self._reduced_graph):\n",
    "            try:\n",
    "                return (G.out_degree(node) == 0) and (len(node.properties) > 0)\n",
    "            except (AttributeError, KeyError):\n",
    "                pass\n",
    "        return False\n",
    "    \n",
    "    def _workflow_rep(self, node):\n",
    "        typename = self._name_to_typename(self._name_map[node])\n",
    "        rep = {\n",
    "            \"id\": typename,\n",
    "            \"type\": \"WorkflowBuilder\",\n",
    "            \"contains\": []\n",
    "        }\n",
    "        for child in self._reduced_graph.successors(node):\n",
    "            name = self._name_map[child]\n",
    "            typename = self._name_to_typename(name)\n",
    "            rep[\"contains\"].append(\n",
    "                {\n",
    "                    \"type\": typename,\n",
    "                    \"name\": name\n",
    "                }\n",
    "            )\n",
    "        return rep\n",
    "    \n",
    "    def _process_rep(self, node):\n",
    "        name = self._name_map[node]\n",
    "        typename = self._name_to_typename(name)\n",
    "        rep = {\n",
    "            \"id\": typename,\n",
    "            \"type\": \"ProcessBuilder\",\n",
    "            \"contains\": []\n",
    "        }\n",
    "        # Properties in Carta can hold multiple values. HyperThought\n",
    "        # can only handle scalar/string values. The following handles\n",
    "        # this disparity.\n",
    "        for prop in node.properties:\n",
    "            key = prop.id\n",
    "            values = prop.values or None\n",
    "            if values:\n",
    "                i = count(1)\n",
    "                rep[\"contains\"].append(\n",
    "                    {\n",
    "                        \"key\": key,\n",
    "                        \"value\": values[0]\n",
    "                    }\n",
    "                )\n",
    "                for v in values[1:]:\n",
    "                    k = f\"{key}-{next(i)}\"\n",
    "                    rep[\"contains\"].append(\n",
    "                    {\n",
    "                        \"key\": k,\n",
    "                        \"value\": v\n",
    "                    }\n",
    "                )\n",
    "            else:\n",
    "                rep[\"contains\"].append(\n",
    "                    {\n",
    "                        \"key\": key\n",
    "                    }\n",
    "                )\n",
    "        return rep"
   ]
  },
  {
   "cell_type": "code",
   "execution_count": 10,
   "id": "80b582cb-2104-42c1-b910-7fe37c3699c8",
   "metadata": {},
   "outputs": [
    {
     "data": {
      "image/png": "[encoded data removed]",
      "text/plain": [
       "<Figure size 432x288 with 1 Axes>"
      ]
     },
     "metadata": {},
     "output_type": "display_data"
    }
   ],
   "source": [
    "irred = IrreducibleGraphHyperThought().fit(G2, compare_values=False)\n",
    "nx.draw_planar(irred._irreducible_graph, labels={k:k.label for k in irred._irreducible_graph.nodes})"
   ]
  },
  {
   "cell_type": "code",
   "execution_count": 14,
   "id": "e4e16d86-2024-4591-b3a5-923f6a387d1b",
   "metadata": {},
   "outputs": [
    {
     "data": {
      "image/png": "[encoded data removed]",
      "text/plain": [
       "<Figure size 432x288 with 1 Axes>"
      ]
     },
     "metadata": {},
     "output_type": "display_data"
    }
   ],
   "source": [
    "graph = irred._initial_graph\n",
    "nx.draw_kamada_kawai(graph, labels={n:f\"\\n  \".join([n.label] + [f\"{p.id} = {p.values[0]}\" for p in n.properties]) for n in graph.nodes})"
   ]
  },
  {
   "cell_type": "code",
   "execution_count": 15,
   "id": "8da6ac0a-d338-4a2b-8d13-ac35429d3bea",
   "metadata": {},
   "outputs": [
    {
     "name": "stdout",
     "output_type": "stream",
     "text": [
      "[ { 'id': 'C',\n",
      "    'type': 'ProcessBuilder',\n",
      "    'contains': [{'key': 'call', 'value': 'function'}]},\n",
      "  { 'id': 'B',\n",
      "    'type': 'WorkflowBuilder',\n",
      "    'contains': [ {'type': 'D1', 'name': 'D-1'},\n",
      "                  {'type': 'E', 'name': 'E'}]},\n",
      "  { 'id': 'E',\n",
      "    'type': 'ProcessBuilder',\n",
      "    'contains': [{'key': 'eagle', 'value': 'raptor'}]},\n",
      "  { 'id': 'E1',\n",
      "    'type': 'ProcessBuilder',\n",
      "    'contains': [{'key': 'eagle', 'value': 'bird'}]},\n",
      "  { 'id': 'B1',\n",
      "    'type': 'WorkflowBuilder',\n",
      "    'contains': [ {'type': 'E1', 'name': 'E-1'},\n",
      "                  {'type': 'D', 'name': 'D'}]},\n",
      "  { 'id': 'D',\n",
      "    'type': 'ProcessBuilder',\n",
      "    'contains': [{'key': 'org', 'value': 'UTEP'}]},\n",
      "  { 'id': 'D1',\n",
      "    'type': 'ProcessBuilder',\n",
      "    'contains': [{'key': 'org', 'value': 'GT'}]},\n",
      "  { 'id': 'A',\n",
      "    'type': 'WorkflowBuilder',\n",
      "    'contains': [ {'type': 'C', 'name': 'C'},\n",
      "                  {'type': 'B', 'name': 'B'},\n",
      "                  {'type': 'B1', 'name': 'B-1'}]}]\n"
     ]
    }
   ],
   "source": [
    "pprint(irred.to_json(), indent=2, width=60, sort_dicts=False)"
   ]
  },
  {
   "cell_type": "markdown",
   "id": "86eceeed-ed0d-4ced-b5cb-5fd03aed5e97",
   "metadata": {},
   "source": [
    "### Create template entry for each node"
   ]
  },
  {
   "cell_type": "code",
   "execution_count": null,
   "id": "b8444787-a374-4ae5-9068-87fd16b85355",
   "metadata": {},
   "outputs": [],
   "source": []
  },
  {
   "cell_type": "markdown",
   "id": "e1e3c4f5-5102-43ab-ae56-491ac7fee313",
   "metadata": {},
   "source": [
    "### Compose template from original graph and node map"
   ]
  },
  {
   "cell_type": "code",
   "execution_count": null,
   "id": "b711ee3c-7fa5-4700-a72b-0dbf1caa2501",
   "metadata": {},
   "outputs": [],
   "source": []
  }
 ],
 "metadata": {
  "kernelspec": {
   "display_name": "Python 3 (ipykernel)",
   "language": "python",
   "name": "python3"
  },
  "language_info": {
   "codemirror_mode": {
    "name": "ipython",
    "version": 3
   },
   "file_extension": ".py",
   "mimetype": "text/x-python",
   "name": "python",
   "nbconvert_exporter": "python",
   "pygments_lexer": "ipython3",
   "version": "3.9.6"
  }
 },
 "nbformat": 4,
 "nbformat_minor": 5
}
