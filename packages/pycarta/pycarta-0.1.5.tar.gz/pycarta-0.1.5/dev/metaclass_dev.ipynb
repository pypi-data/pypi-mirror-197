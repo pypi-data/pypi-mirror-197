{
 "cells": [
  {
   "cell_type": "code",
   "execution_count": 8,
   "id": "1008affd-1027-43a5-9344-da4856070a5b",
   "metadata": {},
   "outputs": [],
   "source": [
    "import sys\n",
    "import logging"
   ]
  },
  {
   "cell_type": "code",
   "execution_count": 15,
   "id": "bebbd841-8e26-4a2d-bd94-c05889bee4ea",
   "metadata": {},
   "outputs": [],
   "source": [
    "logger = logging.getLogger(\"myJupyter\")\n",
    "logger.setLevel(logging.DEBUG)\n",
    "\n",
    "ch = logging.StreamHandler(sys.stdout)\n",
    "ch.setLevel(logging.ERROR)\n",
    "\n",
    "formatter = logging.Formatter(\n",
    "    \"%(levelname)s: [%(asctime)s]($(name)s) %(message)s\"\n",
    ")\n",
    "ch.setFormatter(formatter)\n",
    "\n",
    "logger.addHandler(ch)"
   ]
  },
  {
   "cell_type": "code",
   "execution_count": 16,
   "id": "ef0a2541-ef18-4649-8499-24d01916c091",
   "metadata": {},
   "outputs": [
    {
     "name": "stderr",
     "output_type": "stream",
     "text": [
      "INFO:myJupyter:Info log\n"
     ]
    }
   ],
   "source": [
    "logger.info(\"Info log\")"
   ]
  },
  {
   "cell_type": "code",
   "execution_count": 17,
   "id": "3b48ff29-616f-45a3-965b-43cf50bd9b35",
   "metadata": {},
   "outputs": [
    {
     "name": "stdout",
     "output_type": "stream",
     "text": [
      "Error\n",
      "finally\n"
     ]
    }
   ],
   "source": [
    "try:\n",
    "    raise ValueError()\n",
    "except:\n",
    "    print(\"Error\")\n",
    "else:\n",
    "    print(\"else\")\n",
    "finally:\n",
    "    print(\"finally\")"
   ]
  },
  {
   "cell_type": "code",
   "execution_count": 18,
   "id": "2a3961d2-38ef-48a9-8482-4e4838f809de",
   "metadata": {},
   "outputs": [],
   "source": [
    "def func():\n",
    "    try:\n",
    "        raise ValueError()\n",
    "    except:\n",
    "        print(\"Error\")\n",
    "        raise\n",
    "    else:\n",
    "        print(\"Else\")\n",
    "        return 1\n",
    "    finally:\n",
    "        print(\"finally\")"
   ]
  },
  {
   "cell_type": "code",
   "execution_count": 19,
   "id": "8721b343-e0cf-49a4-aaa3-e21b3b93b9ce",
   "metadata": {},
   "outputs": [
    {
     "name": "stdout",
     "output_type": "stream",
     "text": [
      "Error\n",
      "finally\n"
     ]
    },
    {
     "ename": "ValueError",
     "evalue": "",
     "output_type": "error",
     "traceback": [
      "\u001b[0;31m---------------------------------------------------------------------------\u001b[0m",
      "\u001b[0;31mValueError\u001b[0m                                Traceback (most recent call last)",
      "\u001b[0;32m/var/folders/g3/cpjjp6251m99cgx54sk5_tk00000gn/T/ipykernel_22674/2078144611.py\u001b[0m in \u001b[0;36m<module>\u001b[0;34m\u001b[0m\n\u001b[0;32m----> 1\u001b[0;31m \u001b[0mfunc\u001b[0m\u001b[0;34m(\u001b[0m\u001b[0;34m)\u001b[0m\u001b[0;34m\u001b[0m\u001b[0;34m\u001b[0m\u001b[0m\n\u001b[0m",
      "\u001b[0;32m/var/folders/g3/cpjjp6251m99cgx54sk5_tk00000gn/T/ipykernel_22674/4184267040.py\u001b[0m in \u001b[0;36mfunc\u001b[0;34m()\u001b[0m\n\u001b[1;32m      1\u001b[0m \u001b[0;32mdef\u001b[0m \u001b[0mfunc\u001b[0m\u001b[0;34m(\u001b[0m\u001b[0;34m)\u001b[0m\u001b[0;34m:\u001b[0m\u001b[0;34m\u001b[0m\u001b[0;34m\u001b[0m\u001b[0m\n\u001b[1;32m      2\u001b[0m     \u001b[0;32mtry\u001b[0m\u001b[0;34m:\u001b[0m\u001b[0;34m\u001b[0m\u001b[0;34m\u001b[0m\u001b[0m\n\u001b[0;32m----> 3\u001b[0;31m         \u001b[0;32mraise\u001b[0m \u001b[0mValueError\u001b[0m\u001b[0;34m(\u001b[0m\u001b[0;34m)\u001b[0m\u001b[0;34m\u001b[0m\u001b[0;34m\u001b[0m\u001b[0m\n\u001b[0m\u001b[1;32m      4\u001b[0m     \u001b[0;32mexcept\u001b[0m\u001b[0;34m:\u001b[0m\u001b[0;34m\u001b[0m\u001b[0;34m\u001b[0m\u001b[0m\n\u001b[1;32m      5\u001b[0m         \u001b[0mprint\u001b[0m\u001b[0;34m(\u001b[0m\u001b[0;34m\"Error\"\u001b[0m\u001b[0;34m)\u001b[0m\u001b[0;34m\u001b[0m\u001b[0;34m\u001b[0m\u001b[0m\n",
      "\u001b[0;31mValueError\u001b[0m: "
     ]
    }
   ],
   "source": [
    "func()"
   ]
  },
  {
   "cell_type": "code",
   "execution_count": 25,
   "id": "54769c14-67f4-4647-92fa-a4521e6686e0",
   "metadata": {},
   "outputs": [],
   "source": [
    "import inspect\n",
    "import logging\n",
    "import types\n",
    "\n",
    "from functools import wraps\n",
    "\n",
    "\n",
    "class MetaLogger:\n",
    "    @classmethod\n",
    "    def add_log_decorator(cls, attribute, attribute_name):\n",
    "        '''\n",
    "        Decoration function which is used for logging every function\n",
    "        '''\n",
    "        @wraps(attribute)\n",
    "        def wrapper(*args, **kwargs):\n",
    "            logger = cls.logger\n",
    "            state = \"Success\"\n",
    "            try:\n",
    "                result = attribute(*args, **kwargs)\n",
    "            except:\n",
    "                state = \"Failed\"\n",
    "                raise\n",
    "            else:\n",
    "                return result\n",
    "            finally:\n",
    "                logger.log(\"%s (%s)\", attribute_name, state)\n",
    "        return wrapper\n",
    "\n",
    "    @staticmethod\n",
    "    def update_class_methods(cls):\n",
    "        if not hasattr(cls, \"__decorated\"):\n",
    "            for attr_name, attr in inspect.getmembers(cls):\n",
    "                if isinstance(attr, types.FunctionType):\n",
    "                    setattr(\n",
    "                        cls,\n",
    "                        attr_name,\n",
    "                        MetaLogger.add_log_decorator(\n",
    "                            attr,\n",
    "                            cls.__name__ + '.' + attr_name\n",
    "                        )\n",
    "                    )\n",
    "        cls.__decorated = True\n",
    "\n",
    "    def __new__(cls, *args, **kwargs):\n",
    "        if not hasattr(cls, \"logger\"):\n",
    "            cls.logger = logging.getLogger(__name__)\n",
    "            cls.logger.setLevel(logging.DEBUG)\n",
    "        MetaLogger.update_class_methods(cls)\n",
    "        instance = super(MetaLogger, cls).__new__(cls)\n",
    "        return instance"
   ]
  },
  {
   "cell_type": "code",
   "execution_count": 26,
   "id": "957ef5d7-d263-4c09-9824-75c58c3f882c",
   "metadata": {},
   "outputs": [],
   "source": [
    "class Foo(MetaLogger):\n",
    "    def __init__(self):\n",
    "        print(\"Creating foo\")\n",
    "    \n",
    "    def bar(self):\n",
    "        print(\"foo.bar\")"
   ]
  },
  {
   "cell_type": "code",
   "execution_count": 27,
   "id": "2bc62a1c-011c-450e-aa37-220f5964c66e",
   "metadata": {},
   "outputs": [
    {
     "ename": "AttributeError",
     "evalue": "type object 'MetaLogger' has no attribute 'logger'",
     "output_type": "error",
     "traceback": [
      "\u001b[0;31m---------------------------------------------------------------------------\u001b[0m",
      "\u001b[0;31mAttributeError\u001b[0m                            Traceback (most recent call last)",
      "\u001b[0;32m/var/folders/g3/cpjjp6251m99cgx54sk5_tk00000gn/T/ipykernel_22674/1774788709.py\u001b[0m in \u001b[0;36m<module>\u001b[0;34m\u001b[0m\n\u001b[0;32m----> 1\u001b[0;31m \u001b[0mfoo\u001b[0m \u001b[0;34m=\u001b[0m \u001b[0mFoo\u001b[0m\u001b[0;34m(\u001b[0m\u001b[0;34m)\u001b[0m\u001b[0;34m\u001b[0m\u001b[0;34m\u001b[0m\u001b[0m\n\u001b[0m",
      "\u001b[0;32m/var/folders/g3/cpjjp6251m99cgx54sk5_tk00000gn/T/ipykernel_22674/643850181.py\u001b[0m in \u001b[0;36mwrapper\u001b[0;34m(*args, **kwargs)\u001b[0m\n\u001b[1;32m     14\u001b[0m         \u001b[0;34m@\u001b[0m\u001b[0mwraps\u001b[0m\u001b[0;34m(\u001b[0m\u001b[0mattribute\u001b[0m\u001b[0;34m)\u001b[0m\u001b[0;34m\u001b[0m\u001b[0;34m\u001b[0m\u001b[0m\n\u001b[1;32m     15\u001b[0m         \u001b[0;32mdef\u001b[0m \u001b[0mwrapper\u001b[0m\u001b[0;34m(\u001b[0m\u001b[0;34m*\u001b[0m\u001b[0margs\u001b[0m\u001b[0;34m,\u001b[0m \u001b[0;34m**\u001b[0m\u001b[0mkwargs\u001b[0m\u001b[0;34m)\u001b[0m\u001b[0;34m:\u001b[0m\u001b[0;34m\u001b[0m\u001b[0;34m\u001b[0m\u001b[0m\n\u001b[0;32m---> 16\u001b[0;31m             \u001b[0mlogger\u001b[0m \u001b[0;34m=\u001b[0m \u001b[0mcls\u001b[0m\u001b[0;34m.\u001b[0m\u001b[0mlogger\u001b[0m\u001b[0;34m\u001b[0m\u001b[0;34m\u001b[0m\u001b[0m\n\u001b[0m\u001b[1;32m     17\u001b[0m             \u001b[0mstate\u001b[0m \u001b[0;34m=\u001b[0m \u001b[0;34m\"Success\"\u001b[0m\u001b[0;34m\u001b[0m\u001b[0;34m\u001b[0m\u001b[0m\n\u001b[1;32m     18\u001b[0m             \u001b[0;32mtry\u001b[0m\u001b[0;34m:\u001b[0m\u001b[0;34m\u001b[0m\u001b[0;34m\u001b[0m\u001b[0m\n",
      "\u001b[0;31mAttributeError\u001b[0m: type object 'MetaLogger' has no attribute 'logger'"
     ]
    }
   ],
   "source": [
    "foo = Foo()"
   ]
  },
  {
   "cell_type": "code",
   "execution_count": 1,
   "id": "08dd1d9e-1e40-4f68-9b0a-f81fbbdb6b8d",
   "metadata": {},
   "outputs": [],
   "source": [
    "import inspect\n",
    "import logging\n",
    "import types\n",
    "\n",
    "from functools import wraps\n",
    "\n",
    "\n",
    "class MetaLogger(type):\n",
    "    def __new__(cls, name, base, dct):\n",
    "        _type = super().__new__(cls, name, base, dct)\n",
    "        _type.logger = logging.getLogger(name)\n",
    "        _type.logger.setLevel(logging.DEBUG)\n",
    "        MetaLogger.update_class_methods(_type)\n",
    "        return _type\n",
    "    \n",
    "    @staticmethod\n",
    "    def add_log_decorator(cls, attribute, attribute_name):\n",
    "        '''\n",
    "        Decoration function which is used for logging every function\n",
    "        '''\n",
    "        @wraps(attribute)\n",
    "        def wrapper(*args, **kwargs):\n",
    "            logger = cls.logger\n",
    "            state = \"Success\"\n",
    "            try:\n",
    "                result = attribute(*args, **kwargs)\n",
    "            except:\n",
    "                state = \"Failed\"\n",
    "                raise\n",
    "            else:\n",
    "                return result\n",
    "            finally:\n",
    "                logger.debug(\"%s (%s)\", attribute_name, state)\n",
    "        return wrapper\n",
    "\n",
    "    @staticmethod\n",
    "    def update_class_methods(cls):\n",
    "        if not hasattr(cls, \"__decorated\"):\n",
    "            for attr_name, attr in inspect.getmembers(cls):\n",
    "                if isinstance(attr, types.FunctionType):\n",
    "                    setattr(\n",
    "                        cls,\n",
    "                        attr_name,\n",
    "                        MetaLogger.add_log_decorator(\n",
    "                            cls,\n",
    "                            attr,\n",
    "                            cls.__name__ + '.' + attr_name\n",
    "                        )\n",
    "                    )\n",
    "        cls.__decorated = True"
   ]
  },
  {
   "cell_type": "code",
   "execution_count": 2,
   "id": "294ad7f7-8549-441a-bf93-64cd83f5f17e",
   "metadata": {},
   "outputs": [],
   "source": [
    "try:\n",
    "    handler = handler\n",
    "except NameError:\n",
    "    import sys\n",
    "    handler = logging.StreamHandler(sys.stdout)\n",
    "    formatter = logging.Formatter(\n",
    "        \"%(levelname)s: [%(asctime)s](%(name)s) %(message)s\"\n",
    "    )\n",
    "    handler.setFormatter(formatter)\n",
    "    logger = logging.getLogger()\n",
    "    logger.addHandler(handler)\n",
    "finally:\n",
    "    handler = handler"
   ]
  },
  {
   "cell_type": "code",
   "execution_count": 6,
   "id": "bceb6ecd-9f69-4c4d-85c8-105417cc1b9d",
   "metadata": {},
   "outputs": [
    {
     "name": "stdout",
     "output_type": "stream",
     "text": [
      "Create Foo\n",
      "DEBUG: [2021-07-19 15:32:19,278](Foo) Foo.__init__ (Success)\n",
      "Execute foo.bar\n",
      "DEBUG: [2021-07-19 15:32:19,280](Foo) Foo.bar (Success)\n"
     ]
    }
   ],
   "source": [
    "class Foo(metaclass=MetaLogger):\n",
    "    def __init__(self):\n",
    "        print(\"Create Foo\")\n",
    "    \n",
    "    def bar(self):\n",
    "#         raise ValueError(\"foo.bar fails\")\n",
    "        print(\"Execute foo.bar\")\n",
    "        \n",
    "\n",
    "foo = Foo()\n",
    "foo.bar()"
   ]
  },
  {
   "cell_type": "code",
   "execution_count": null,
   "id": "1788e226-ad25-4e5d-bda2-b8ea7ba6a537",
   "metadata": {},
   "outputs": [],
   "source": []
  }
 ],
 "metadata": {
  "kernelspec": {
   "display_name": "Python 3 (ipykernel)",
   "language": "python",
   "name": "python3"
  },
  "language_info": {
   "codemirror_mode": {
    "name": "ipython",
    "version": 3
   },
   "file_extension": ".py",
   "mimetype": "text/x-python",
   "name": "python",
   "nbconvert_exporter": "python",
   "pygments_lexer": "ipython3",
   "version": "3.9.1"
  }
 },
 "nbformat": 4,
 "nbformat_minor": 5
}
