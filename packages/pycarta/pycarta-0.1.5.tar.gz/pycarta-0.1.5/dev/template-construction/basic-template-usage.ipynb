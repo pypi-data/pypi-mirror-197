{
 "cells": [
  {
   "cell_type": "code",
   "execution_count": 1,
   "metadata": {},
   "outputs": [],
   "source": [
    "# install pycarta from pypi: pip install pycarta\n",
    "from pycarta.interface import hyperthought as ht\n",
    "from getpass import getpass"
   ]
  },
  {
   "cell_type": "code",
   "execution_count": 2,
   "metadata": {},
   "outputs": [
    {
     "name": "stdout",
     "output_type": "stream",
     "text": [
      "Enter your Hyperthought API key: ········\n"
     ]
    }
   ],
   "source": [
    "key = getpass(\"Enter your Hyperthought API key: \")\n",
    "auth = ht.get_hyperthought_auth(key)"
   ]
  },
  {
   "cell_type": "code",
   "execution_count": 3,
   "metadata": {},
   "outputs": [],
   "source": [
    "workspace = \"KappesBR\"\n",
    "location = \"Workflow01/Workflow02\"\n",
    "ht.build(\n",
    "    auth,\n",
    "    typename=\"Base\",\n",
    "    name=\"base\",\n",
    "    parent=location,\n",
    "    workspace=workspace,\n",
    "    schema=\"basic.json\"\n",
    ")"
   ]
  },
  {
   "cell_type": "code",
   "execution_count": 6,
   "metadata": {},
   "outputs": [],
   "source": [
    "workspace = \"KappesBR\"\n",
    "location = \"Workflow01/Workflow02\"\n",
    "ht.build(\n",
    "    auth,\n",
    "    typename=\"Baz\",\n",
    "    name=\"baz\",\n",
    "    parent=location,\n",
    "    workspace=workspace,\n",
    "    schema=\"basic.json\"\n",
    ")"
   ]
  },
  {
   "cell_type": "code",
   "execution_count": 1,
   "metadata": {},
   "outputs": [
    {
     "name": "stdout",
     "output_type": "stream",
     "text": [
      "<class 'pycarta.interface.hyperthought.schema.ProcessFactory'>: old=set(), new={'bar'}\n",
      "<class 'abc.Bar'>: old={'bar'}, new={'bar', 'baz'}\n"
     ]
    }
   ],
   "source": [
    "from pycarta.interface.hyperthought.schema import Schema\n",
    "schema = Schema(\"basic.json\")"
   ]
  },
  {
   "cell_type": "code",
   "execution_count": 2,
   "metadata": {},
   "outputs": [
    {
     "data": {
      "text/plain": [
       "['WorkflowBuilder', 'ProcessBuilder', 'Bar', 'Baz', 'Foo', 'Goo', 'Base']"
      ]
     },
     "execution_count": 2,
     "metadata": {},
     "output_type": "execute_result"
    }
   ],
   "source": [
    "list(schema.keys())"
   ]
  },
  {
   "cell_type": "code",
   "execution_count": 3,
   "metadata": {},
   "outputs": [],
   "source": [
    "def format_meta(b):\n",
    "    try:\n",
    "        return f\"{b.key!r}, {b.value!r}, {b.units!r}, {b.annotation!r}\"\n",
    "    except:\n",
    "        return f\"{b.name!r}\""
   ]
  },
  {
   "cell_type": "code",
   "execution_count": 4,
   "metadata": {},
   "outputs": [
    {
     "data": {
      "text/plain": [
       "\"'bar', 'bar default', None, None\""
      ]
     },
     "execution_count": 4,
     "metadata": {},
     "output_type": "execute_result"
    }
   ],
   "source": [
    "b, = schema[\"Bar\"]._builders\n",
    "format_meta(b)"
   ]
  },
  {
   "cell_type": "code",
   "execution_count": 5,
   "metadata": {},
   "outputs": [
    {
     "data": {
      "text/plain": [
       "\"'baz', 'baz default', 'mm', None\""
      ]
     },
     "execution_count": 5,
     "metadata": {},
     "output_type": "execute_result"
    }
   ],
   "source": [
    "b1, b2 = schema[\"Baz\"]._builders\n",
    "format_meta(b1)\n",
    "format_meta(b2)"
   ]
  },
  {
   "cell_type": "code",
   "execution_count": 6,
   "metadata": {},
   "outputs": [
    {
     "data": {
      "text/plain": [
       "[\"Bar: 'bar', 'bar default', None, None\",\n",
       " \"Baz: 'bar', 'bar in baz', None, 'overloaded=True'\",\n",
       " \"Baz: 'baz', 'baz default', 'mm', None\",\n",
       " \"Foo: 'bar'\",\n",
       " \"Goo: 'bar'\",\n",
       " \"Base: 'foo'\",\n",
       " \"Base: 'goo'\"]"
      ]
     },
     "execution_count": 6,
     "metadata": {},
     "output_type": "execute_result"
    }
   ],
   "source": [
    "[f\"{k}: {format_meta(b)}\" for k in schema.keys() for b in schema[k]._builders]"
   ]
  },
  {
   "cell_type": "code",
   "execution_count": null,
   "metadata": {},
   "outputs": [],
   "source": []
  }
 ],
 "metadata": {
  "interpreter": {
   "hash": "61b4062b24dfb1010f420dad5aa3bd73a4d2af47d0ec44eafec465a35a9d7239"
  },
  "kernelspec": {
   "display_name": "Python 3 (ipykernel)",
   "language": "python",
   "name": "python3"
  },
  "language_info": {
   "codemirror_mode": {
    "name": "ipython",
    "version": 3
   },
   "file_extension": ".py",
   "mimetype": "text/x-python",
   "name": "python",
   "nbconvert_exporter": "python",
   "pygments_lexer": "ipython3",
   "version": "3.9.6"
  }
 },
 "nbformat": 4,
 "nbformat_minor": 2
}
