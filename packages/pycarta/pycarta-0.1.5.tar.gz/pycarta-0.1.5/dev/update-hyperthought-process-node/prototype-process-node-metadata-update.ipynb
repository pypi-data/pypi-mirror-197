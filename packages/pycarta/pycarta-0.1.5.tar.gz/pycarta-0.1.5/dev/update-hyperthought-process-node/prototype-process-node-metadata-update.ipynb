{
 "cells": [
  {
   "cell_type": "code",
   "execution_count": 20,
   "id": "00265215-a40b-42a4-9b16-8ae5bada3ecc",
   "metadata": {},
   "outputs": [],
   "source": [
    "import hyperthought as ht\n",
    "\n",
    "from copy import deepcopy\n",
    "from getpass import getpass\n",
    "from pprint import pprint"
   ]
  },
  {
   "cell_type": "code",
   "execution_count": 2,
   "id": "5663a090-4bf0-4604-9b34-4ab96085917f",
   "metadata": {},
   "outputs": [
    {
     "name": "stdin",
     "output_type": "stream",
     "text": [
      "Enter your HyperThought API key:  ································································································································································································································································································································································································································\n"
     ]
    }
   ],
   "source": [
    "token = getpass(\"Enter your HyperThought API key: \")\n",
    "auth = ht.auth.Authorization(token)"
   ]
  },
  {
   "cell_type": "code",
   "execution_count": 4,
   "id": "075c2764-a35f-4a96-afd0-b3c9b069174d",
   "metadata": {},
   "outputs": [],
   "source": [
    "# get node\n",
    "workspaceId = \"83ae6931-95b4-495b-b94f-61eacaa21eac\"\n",
    "parentId = \"a320e681-6b74-4c93-9073-631ae36cd304\"\n",
    "\n",
    "api = ht.api.workflow.WorkflowAPI(auth)\n",
    "children = api.get_children(parentId)\n",
    "\n",
    "processId = [child[\"content\"][\"pk\"] for child in children if child[\"content\"][\"name\"] == \"Update Process Node\"][0]\n",
    "document = api.get_document(processId)\n",
    "\n",
    "pprint(document)"
   ]
  },
  {
   "cell_type": "code",
   "execution_count": 21,
   "id": "045dc7c8-bcec-4ad7-82b7-ee022723c57f",
   "metadata": {},
   "outputs": [
    {
     "name": "stdout",
     "output_type": "stream",
     "text": [
      "<<< Before >>>\n",
      "[{'annotation': '',\n",
      "  'keyName': 'yield strength',\n",
      "  'unit': 'megapascal',\n",
      "  'value': {'link': '', 'type': 'string'}},\n",
      " {'annotation': '',\n",
      "  'keyName': 'lattice parameter',\n",
      "  'unit': 'angstrom',\n",
      "  'value': {'link': '', 'type': 'string'}}]\n",
      "\n",
      "\n",
      "<<< After >>>\n",
      "[{'annotation': '',\n",
      "  'keyName': 'yield strength',\n",
      "  'unit': 'megapascal',\n",
      "  'value': {'link': 125, 'type': 'integer'}},\n",
      " {'annotation': '',\n",
      "  'keyName': 'lattice parameter',\n",
      "  'unit': 'angstrom',\n",
      "  'value': {'link': 4.08, 'type': 'decimal'}}]\n",
      "\n",
      "\n",
      "<<< Updated Document >>>\n",
      "{'assignee': '',\n",
      " 'children': [],\n",
      " 'clientId': '69d184fb-92e9-440f-b4b0-e2ce9721990a',\n",
      " 'comments': None,\n",
      " 'completed': '',\n",
      " 'created': '2022-01-19T23:09:05.143981+00:00',\n",
      " 'creator': 'KappesBR',\n",
      " 'decisionAnswer': None,\n",
      " 'decisionPath': None,\n",
      " 'decisionQuestion': None,\n",
      " 'dueDate': '',\n",
      " 'fromTemplate': None,\n",
      " 'id': 'e540a64e-0add-4aa0-8eb4-fc0d0edbed60',\n",
      " 'managerReview': False,\n",
      " 'metadata': [{'annotation': '',\n",
      "               'keyName': 'yield strength',\n",
      "               'unit': 'megapascal',\n",
      "               'value': {'link': 125, 'type': 'integer'}},\n",
      "              {'annotation': '',\n",
      "               'keyName': 'lattice parameter',\n",
      "               'unit': 'angstrom',\n",
      "               'value': {'link': 4.08, 'type': 'decimal'}}],\n",
      " 'modified': '2022-01-19T23:12:11.964305+00:00',\n",
      " 'modifier': 'KappesBR',\n",
      " 'name': 'Update Process Node',\n",
      " 'notes': '',\n",
      " 'parentName': 'manual',\n",
      " 'parentProcess': 'a320e681-6b74-4c93-9073-631ae36cd304',\n",
      " 'permissions': {'users': {},\n",
      "                 'workspaces': {'83ae6931-95b4-495b-b94f-61eacaa21eac': 'edit'}},\n",
      " 'predecessors': [],\n",
      " 'processType': 'process',\n",
      " 'resources': {'doTask': '/workflow/notifications/e540a64e-0add-4aa0-8eb4-fc0d0edbed60/',\n",
      "               'id': '/api/workflow/process/e540a64e-0add-4aa0-8eb4-fc0d0edbed60/',\n",
      "               'parent': '/api/workflow/process/a320e681-6b74-4c93-9073-631ae36cd304/',\n",
      "               'parentDesigner': '/workflow/a320e681-6b74-4c93-9073-631ae36cd304/designer/?workspaceId=83ae6931-95b4-495b-b94f-61eacaa21eac',\n",
      "               'workspace': '/api/workspace/83ae6931-95b4-495b-b94f-61eacaa21eac/',\n",
      "               'workspaceView': '/workspace/83ae6931-95b4-495b-b94f-61eacaa21eac/detail/'},\n",
      " 'restrictions': {'distribution': 'Distribution A',\n",
      "                  'exportControl': '',\n",
      "                  'securityMarking': ''},\n",
      " 'started': '',\n",
      " 'status': '',\n",
      " 'successors': [],\n",
      " 'template': True,\n",
      " 'workspaceName': 'Carta Development',\n",
      " 'xml': ''}\n"
     ]
    }
   ],
   "source": [
    "metadata = [\n",
    "    ht.api.workflow.MetadataItem(\n",
    "        key=m[\"keyName\"],\n",
    "        value=m[\"value\"][\"link\"],\n",
    "        units=m[\"unit\"],\n",
    "        annotation=m[\"annotation\"],\n",
    "        type_=m[\"value\"][\"type\"] or None\n",
    "    ) for m in document[\"metadata\"]\n",
    "]\n",
    "\n",
    "print(\"<<< Before >>>\")\n",
    "pprint([m.to_api_format() for m in metadata])\n",
    "\n",
    "for m in metadata:\n",
    "    m.value = {\n",
    "        \"yield strength\": 125,\n",
    "        \"lattice parameter\": 4.08\n",
    "    }.get(m.key, '')\n",
    "    \n",
    "print(\"\\n\\n<<< After >>>\")\n",
    "pprint([m.to_api_format() for m in metadata])\n",
    "\n",
    "updated = deepcopy(document)\n",
    "updated[\"metadata\"] = [m.to_api_format() for m in metadata]\n",
    "print(\"\\n\\n<<< Updated Document >>>\")\n",
    "pprint(updated)"
   ]
  },
  {
   "cell_type": "code",
   "execution_count": 22,
   "id": "70e7f986-e5af-4d25-8d7d-4619d842e2be",
   "metadata": {},
   "outputs": [],
   "source": [
    "api.update_document(updated)"
   ]
  },
  {
   "cell_type": "code",
   "execution_count": null,
   "id": "20b5d3d0-a27d-4588-ad46-0809b9475846",
   "metadata": {},
   "outputs": [],
   "source": [
    "ht.api.workflow.Process("
   ]
  }
 ],
 "metadata": {
  "kernelspec": {
   "display_name": "Python 3 (ipykernel)",
   "language": "python",
   "name": "python3"
  },
  "language_info": {
   "codemirror_mode": {
    "name": "ipython",
    "version": 3
   },
   "file_extension": ".py",
   "mimetype": "text/x-python",
   "name": "python",
   "nbconvert_exporter": "python",
   "pygments_lexer": "ipython3",
   "version": "3.9.6"
  }
 },
 "nbformat": 4,
 "nbformat_minor": 5
}
