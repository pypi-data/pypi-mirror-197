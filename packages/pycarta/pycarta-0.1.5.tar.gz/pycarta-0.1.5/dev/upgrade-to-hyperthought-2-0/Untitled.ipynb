{
 "cells": [
  {
   "cell_type": "code",
   "execution_count": 1,
   "id": "b02c3140-2fda-4f70-a60b-8c763857ea7d",
   "metadata": {},
   "outputs": [],
   "source": [
    "import hyperthought as ht\n",
    "import requests\n",
    "\n",
    "from getpass import getpass\n",
    "from hyperthought.api.workflow import Element, MetadataItem, Process, Workflow\n",
    "from pprint import pprint"
   ]
  },
  {
   "cell_type": "code",
   "execution_count": 2,
   "id": "e1259889-d9cf-4016-b68d-3c66095c5f22",
   "metadata": {},
   "outputs": [
    {
     "name": "stdin",
     "output_type": "stream",
     "text": [
      "Paste Hyperthought API Access Key:  ································································································································································································································································································································································································································\n"
     ]
    }
   ],
   "source": [
    "key = getpass(\"Paste Hyperthought API Access Key: \")\n",
    "auth = ht.auth.Authorization(key)"
   ]
  },
  {
   "cell_type": "code",
   "execution_count": 3,
   "id": "80b5b85e-b792-4ad4-acf4-41e019c48e83",
   "metadata": {},
   "outputs": [],
   "source": [
    "space = ht.api.workspaces.WorkspacesAPI(auth)\n",
    "flow = ht.api.workflow.WorkflowAPI(auth)"
   ]
  },
  {
   "cell_type": "code",
   "execution_count": 4,
   "id": "c0562371-65ec-4698-843e-7ad8ad627216",
   "metadata": {},
   "outputs": [],
   "source": [
    "workspaces = space.get_workspaces()\n",
    "workspaceIds = { ws[\"name\"]: ws[\"id\"] for ws in workspaces }"
   ]
  },
  {
   "cell_type": "code",
   "execution_count": 5,
   "id": "4ac7e40c-54d9-4ea7-9b6c-99e914407fba",
   "metadata": {},
   "outputs": [],
   "source": [
    "# Fields"
   ]
  },
  {
   "cell_type": "code",
   "execution_count": 6,
   "id": "d2b8dd1e-b939-4517-903e-0bf46b501a4e",
   "metadata": {},
   "outputs": [],
   "source": [
    "def print_fields(instance):\n",
    "    print(type(instance).__name__)\n",
    "    print(\"Bases\")\n",
    "    print(\"\\t\", \"\\n\\t \".join(list(map(str, type(instance).__mro__[1:]))))\n",
    "    print(\"Methods\")\n",
    "    print(\"\\t\", \"\\n\\t \".join(list(type(instance).__dict__.keys())))\n",
    "    print(\"Member Variables\")\n",
    "    print(\"\\t\", \"\\n\\t \".join(list(instance.__dict__.keys())))"
   ]
  },
  {
   "cell_type": "code",
   "execution_count": 7,
   "id": "cc185a6d-723b-4dc6-a275-ed52b7af13b5",
   "metadata": {},
   "outputs": [
    {
     "name": "stdout",
     "output_type": "stream",
     "text": [
      "Element\n",
      "Bases\n",
      "\t <class 'object'>\n",
      "Methods\n",
      "\t __module__\n",
      "\t __doc__\n",
      "\t __init__\n",
      "\t to_json\n",
      "\t is_valid\n",
      "\t id\n",
      "\t client_id\n",
      "\t type\n",
      "\t name\n",
      "\t assignee\n",
      "\t notes\n",
      "\t due_date\n",
      "\t parent\n",
      "\t parent_id\n",
      "\t successors\n",
      "\t predecessors\n",
      "\t add_successor\n",
      "\t remove_successor\n",
      "\t __str__\n",
      "\t _validate_nullable_nonempty_string\n",
      "\t _validate_due_date\n",
      "\t _validate_element\n",
      "\t _validate_parent\n",
      "\t __dict__\n",
      "\t __weakref__\n",
      "Member Variables\n",
      "\t _id\n",
      "\t _client_id\n",
      "\t _type\n",
      "\t _name\n",
      "\t _assignee\n",
      "\t _notes\n",
      "\t _due_date\n",
      "\t _parent\n",
      "\t _parent_id\n",
      "\t _successors\n",
      "\t _predecessors\n"
     ]
    },
    {
     "data": {
      "text/plain": [
       "{'id': '1ea56be0-c2f6-4e6f-8ed8-4b2a632ae80b',\n",
       " 'client_id': 'b7a6699d-d2c6-40f1-aa7c-50a2afbe3c2b',\n",
       " 'type': 'element',\n",
       " 'name': None,\n",
       " 'assignee': None,\n",
       " 'notes': None,\n",
       " 'due_date': None,\n",
       " 'successors': [],\n",
       " 'predecessors': []}"
      ]
     },
     "execution_count": 7,
     "metadata": {},
     "output_type": "execute_result"
    }
   ],
   "source": [
    "obj = Element()\n",
    "print_fields(obj)\n",
    "obj.to_json()"
   ]
  },
  {
   "cell_type": "code",
   "execution_count": 8,
   "id": "98171b82-8fd3-4559-9e17-1376df3ffcb2",
   "metadata": {},
   "outputs": [
    {
     "name": "stdout",
     "output_type": "stream",
     "text": [
      "Workflow\n",
      "Bases\n",
      "\t <class 'hyperthought.api.workflow.Element'>\n",
      "\t <class 'object'>\n",
      "Methods\n",
      "\t __module__\n",
      "\t __doc__\n",
      "\t __init__\n",
      "\t space_id\n",
      "\t children\n",
      "\t add_child\n",
      "\t remove_child\n",
      "\t is_valid\n",
      "\t to_json\n",
      "Member Variables\n",
      "\t _id\n",
      "\t _client_id\n",
      "\t _type\n",
      "\t _name\n",
      "\t _assignee\n",
      "\t _notes\n",
      "\t _due_date\n",
      "\t _parent\n",
      "\t _parent_id\n",
      "\t _successors\n",
      "\t _predecessors\n",
      "\t _space_id\n",
      "\t _children\n"
     ]
    },
    {
     "data": {
      "text/plain": [
       "{'id': '3e146d06-d91a-43e7-9a41-3a865b656f49',\n",
       " 'client_id': '8abc683f-ea68-4427-802c-0d25949a60aa',\n",
       " 'type': 'workflow',\n",
       " 'name': None,\n",
       " 'assignee': None,\n",
       " 'notes': None,\n",
       " 'due_date': None,\n",
       " 'successors': [],\n",
       " 'predecessors': [],\n",
       " 'children': []}"
      ]
     },
     "execution_count": 8,
     "metadata": {},
     "output_type": "execute_result"
    }
   ],
   "source": [
    "obj = Workflow()\n",
    "print_fields(obj)\n",
    "obj.to_json()"
   ]
  },
  {
   "cell_type": "code",
   "execution_count": 9,
   "id": "674325f2-782c-4d81-9a49-e06e518fe002",
   "metadata": {},
   "outputs": [
    {
     "name": "stdout",
     "output_type": "stream",
     "text": [
      "Process\n",
      "Bases\n",
      "\t <class 'hyperthought.api.workflow.Element'>\n",
      "\t <class 'object'>\n",
      "Methods\n",
      "\t __module__\n",
      "\t __doc__\n",
      "\t __init__\n",
      "\t metadata\n",
      "\t add_metadata_item\n",
      "\t remove_metadata_item\n",
      "\t remove_metadata\n",
      "\t get_api_formatted_metadata\n",
      "\t to_json\n",
      "Member Variables\n",
      "\t _id\n",
      "\t _client_id\n",
      "\t _type\n",
      "\t _name\n",
      "\t _assignee\n",
      "\t _notes\n",
      "\t _due_date\n",
      "\t _parent\n",
      "\t _parent_id\n",
      "\t _successors\n",
      "\t _predecessors\n",
      "\t _metadata\n"
     ]
    },
    {
     "data": {
      "text/plain": [
       "{'id': 'bc18746c-27a1-4b3a-bff4-daacc582add7',\n",
       " 'client_id': 'a012ce4b-516c-4f2e-8dbd-87e31ccad393',\n",
       " 'type': 'process',\n",
       " 'name': None,\n",
       " 'assignee': None,\n",
       " 'notes': None,\n",
       " 'due_date': None,\n",
       " 'successors': [],\n",
       " 'predecessors': [],\n",
       " 'metadata': []}"
      ]
     },
     "execution_count": 9,
     "metadata": {},
     "output_type": "execute_result"
    }
   ],
   "source": [
    "obj = Process()\n",
    "print_fields(obj)\n",
    "obj.to_json()"
   ]
  },
  {
   "cell_type": "code",
   "execution_count": 10,
   "id": "83f6b2fc-a76b-4959-aaf8-73941c7f87ee",
   "metadata": {},
   "outputs": [
    {
     "name": "stdout",
     "output_type": "stream",
     "text": [
      "MetadataItem\n",
      "Bases\n",
      "\t <class 'object'>\n",
      "Methods\n",
      "\t __module__\n",
      "\t __doc__\n",
      "\t VALID_TYPES\n",
      "\t DEFAULT_TYPE_FOR_NONE_VALUES\n",
      "\t DATE_CLASSES\n",
      "\t NUMPY_INT_CLASS_NAMES\n",
      "\t NUMPY_FLOAT_CLASS_NAMES\n",
      "\t NUMPY_STRING_CLASSES\n",
      "\t NUMPY_BOOL_CLASS\n",
      "\t TYPE_MAP\n",
      "\t __init__\n",
      "\t _set_value_and_type\n",
      "\t key\n",
      "\t value\n",
      "\t units\n",
      "\t annotation\n",
      "\t type\n",
      "\t to_api_format\n",
      "\t __dict__\n",
      "\t __weakref__\n",
      "Member Variables\n",
      "\t _key\n",
      "\t _value\n",
      "\t _type\n",
      "\t _units\n",
      "\t _annotation\n"
     ]
    },
    {
     "data": {
      "text/plain": [
       "{'keyName': 'foo', 'value': {'type': 'string', 'link': 'bar'}}"
      ]
     },
     "execution_count": 10,
     "metadata": {},
     "output_type": "execute_result"
    }
   ],
   "source": [
    "obj = MetadataItem(\"foo\", \"bar\")\n",
    "print_fields(obj)\n",
    "obj.to_api_format()"
   ]
  },
  {
   "cell_type": "code",
   "execution_count": 22,
   "id": "860e528e-7e9c-4f74-82ee-0062ad03a6d0",
   "metadata": {},
   "outputs": [
    {
     "name": "stdout",
     "output_type": "stream",
     "text": [
      "Workflow\n",
      "Bases\n",
      "\t <class 'hyperthought.api.workflow.Element'>\n",
      "\t <class 'object'>\n",
      "Methods\n",
      "\t __module__\n",
      "\t __doc__\n",
      "\t __init__\n",
      "\t space_id\n",
      "\t children\n",
      "\t add_child\n",
      "\t remove_child\n",
      "\t is_valid\n",
      "\t to_json\n",
      "Member Variables\n",
      "\t _id\n",
      "\t _client_id\n",
      "\t _type\n",
      "\t _name\n",
      "\t _assignee\n",
      "\t _notes\n",
      "\t _due_date\n",
      "\t _parent\n",
      "\t _parent_id\n",
      "\t _successors\n",
      "\t _predecessors\n",
      "\t _space_id\n",
      "\t _children\n",
      "{'createdBy': 'KappesBR',\n",
      " 'createdByFullName': 'Branden Kappes',\n",
      " 'createdOn': '2021-10-04T17:19:35.359984Z',\n",
      " 'icon': 'fas fa-project-diagram',\n",
      " 'key': '22823501-3df4-404d-beb8-a3c4fe83664b',\n",
      " 'lazy': True,\n",
      " 'modifiedBy': 'KappesBR',\n",
      " 'modifiedByFullName': 'Branden Kappes',\n",
      " 'modifiedOn': '2021-12-03T15:24:44.506762Z',\n",
      " 'name': 'Aconity',\n",
      " 'title': 'Aconity'}\n"
     ]
    }
   ],
   "source": [
    "# Parse Template JSON\n",
    "templateJson = flow.get_templates(workspaceIds[\"UTEP Demo\"])[0]\n",
    "print_fields(Workflow())\n",
    "pprint(templateJson)"
   ]
  },
  {
   "cell_type": "code",
   "execution_count": 23,
   "id": "a8f08057-7fc7-4edf-bcc3-9052556ad95d",
   "metadata": {
    "collapsed": true,
    "jupyter": {
     "outputs_hidden": true
    },
    "tags": []
   },
   "outputs": [
    {
     "name": "stdout",
     "output_type": "stream",
     "text": [
      "{'assignee': None,\n",
      " 'children': [],\n",
      " 'client_id': '72385a85-16a8-4881-b8d6-ef5baa04e980',\n",
      " 'due_date': None,\n",
      " 'id': '22823501-3df4-404d-beb8-a3c4fe83664b',\n",
      " 'name': 'Aconity',\n",
      " 'notes': None,\n",
      " 'predecessors': [],\n",
      " 'successors': [],\n",
      " 'type': 'workflow_'}\n",
      "{'createdBy': 'KappesBR',\n",
      " 'createdByFullName': 'Branden Kappes',\n",
      " 'createdOn': '2021-10-04T17:19:35.359984Z',\n",
      " 'icon': 'fas fa-project-diagram',\n",
      " 'key': '22823501-3df4-404d-beb8-a3c4fe83664b',\n",
      " 'lazy': True,\n",
      " 'modifiedBy': 'KappesBR',\n",
      " 'modifiedByFullName': 'Branden Kappes',\n",
      " 'modifiedOn': '2021-12-03T15:24:44.506762Z',\n",
      " 'name': 'Aconity',\n",
      " 'title': 'Aconity'}\n"
     ]
    }
   ],
   "source": [
    "class Element_(Element):\n",
    "    \n",
    "    @property\n",
    "    def parent(self):\n",
    "        if not self._parent and self._parent_id:\n",
    "            print(f\"there is a parent_id, '{self._parent_id}', but no parent\")\n",
    "\n",
    "        return self._parent\n",
    "\n",
    "    @parent.setter\n",
    "    def parent(self, value):\n",
    "        self._validate_parent(value)\n",
    "\n",
    "        if self._parent == value:\n",
    "            return\n",
    "\n",
    "        self._parent = value\n",
    "        self._parent_id = value.id if value else None\n",
    "\n",
    "        for successor in self._successors.values():\n",
    "            self.remove_successor(successor)\n",
    "\n",
    "        for predecessor in self._predecessors.values():\n",
    "            predecessor.remove_successor(self)\n",
    "\n",
    "    @property\n",
    "    def parent_id(self):\n",
    "        return self._parent_id\n",
    "\n",
    "    @parent_id.setter\n",
    "    def parent_id(self, value):\n",
    "        self._validate_nullable_nonempty_string(value)\n",
    "        self.parent = None\n",
    "        self._parent_id = value\n",
    "    \n",
    "    @classmethod\n",
    "    def from_id(cls, key, api):\n",
    "        doc = api.get_document(pkg[\"key\"])\n",
    "        obj = cls(\n",
    "            name=doc[\"name\"],\n",
    "            assignee=doc[\"assignee\"],\n",
    "            notes=doc[\"notes\"],\n",
    "            due_date=doc[\"dueDate\"],\n",
    "            parent_id=doc[\"parentProcess\"]\n",
    "        )\n",
    "        obj._id = doc[\"id\"]\n",
    "        obj._client_id = doc[\"clientId\"] or obj._client_id\n",
    "        obj._type = doc[\"processType\"]\n",
    "         _successors\n",
    "         _predecessors\n",
    "         _space_id\n",
    "         _children\n",
    "    \n",
    "    @classmethod\n",
    "    def from_template(cls, pkg, api=None):\n",
    "        if api is not None:\n",
    "            obj = cls.from_id(pkg[\"key\"], api=api)\n",
    "        else:\n",
    "            obj = cls(name=pkg[\"name\"])\n",
    "            obj._id = pkg[\"key\"]\n",
    "        return obj\n",
    "    \n",
    "obj = Workflow_.from_template(templateJson)\n",
    "pprint(obj.to_json())\n",
    "pprint(templateJson)"
   ]
  },
  {
   "cell_type": "code",
   "execution_count": 25,
   "id": "f2529366-2271-4603-abd7-3b506e9ec61f",
   "metadata": {
    "tags": []
   },
   "outputs": [
    {
     "data": {
      "text/plain": [
       "{'id': '22823501-3df4-404d-beb8-a3c4fe83664b',\n",
       " 'name': 'Aconity',\n",
       " 'dueDate': '',\n",
       " 'assignee': '',\n",
       " 'children': ['f2311939-c18b-4b23-bae5-22ec7db4be17'],\n",
       " 'clientId': '',\n",
       " 'completed': '',\n",
       " 'created': '2021-10-04T17:19:34.810196+00:00',\n",
       " 'creator': 'KappesBR',\n",
       " 'fromTemplate': None,\n",
       " 'managerReview': '',\n",
       " 'comments': None,\n",
       " 'decisionQuestion': None,\n",
       " 'decisionPath': None,\n",
       " 'decisionAnswer': None,\n",
       " 'modified': '2021-12-03T15:24:44.498294+00:00',\n",
       " 'modifier': 'KappesBR',\n",
       " 'notes': '',\n",
       " 'parentProcess': '',\n",
       " 'predecessors': [],\n",
       " 'processType': 'workflow',\n",
       " 'started': '',\n",
       " 'status': '',\n",
       " 'successors': [],\n",
       " 'template': True,\n",
       " 'xml': '<mxGraphModel dx=\"925\" dy=\"463\" grid=\"1\" gridSize=\"10\" guides=\"1\" tooltips=\"1\" connect=\"1\" arrows=\"1\" fold=\"1\" page=\"1\" pageScale=\"1\" pageWidth=\"850\" pageHeight=\"1100\" background=\"#ffffff\"><root><mxCell id=\"a20c7331-8af9-4e7b-ab85-187544c266a2\"/><mxCell id=\"69ef29f0-55d9-40c8-bb97-9230ef6275ec\" parent=\"a20c7331-8af9-4e7b-ab85-187544c266a2\"/><mxCell id=\"3a0bb064-7bb6-46ea-9d1e-6be13214de12\" value=\"Build001\" style=\"shape=process;whiteSpace=wrap;html=1;\" parent=\"69ef29f0-55d9-40c8-bb97-9230ef6275ec\" vertex=\"1\"><mxGeometry x=\"50\" y=\"50\" width=\"120\" height=\"60\" as=\"geometry\"/></mxCell></root></mxGraphModel>',\n",
       " 'workspaceName': 'UTEP Demo',\n",
       " 'parentName': '',\n",
       " 'metadata': [],\n",
       " 'restrictions': {'distribution': 'Distribution A',\n",
       "  'exportControl': '',\n",
       "  'securityMarking': ''},\n",
       " 'permissions': {'workspaces': {'84d11cc8-2344-4ac9-9d43-3069999c2420': 'edit'},\n",
       "  'users': {}},\n",
       " 'resources': {'id': '/api/workflow/process/22823501-3df4-404d-beb8-a3c4fe83664b/',\n",
       "  'workspace': '/api/workspace/84d11cc8-2344-4ac9-9d43-3069999c2420/',\n",
       "  'workspaceView': '/workspace/84d11cc8-2344-4ac9-9d43-3069999c2420/detail/',\n",
       "  'parentDesigner': '',\n",
       "  'parent': '',\n",
       "  'doTask': '/workflow/notifications/22823501-3df4-404d-beb8-a3c4fe83664b/'}}"
      ]
     },
     "execution_count": 25,
     "metadata": {},
     "output_type": "execute_result"
    }
   ],
   "source": [
    "flow.get_document(templateJson[\"key\"])"
   ]
  },
  {
   "cell_type": "code",
   "execution_count": 24,
   "id": "4ac71b0b-4811-4b5e-a116-757e415ac737",
   "metadata": {},
   "outputs": [
    {
     "name": "stdout",
     "output_type": "stream",
     "text": [
      "{'content': {'assignee': '',\n",
      "             'children': ['b6d8e31c-8dac-42d4-82dc-8c8926ec3827',\n",
      "                          '14f7a729-794e-4287-b280-9b2d5e236dc4'],\n",
      "             'client_id': '3a0bb064-7bb6-46ea-9d1e-6be13214de12',\n",
      "             'completed': '',\n",
      "             'created': '2021-10-04T17:20:46.318162+00:00',\n",
      "             'creator': 'KappesBR',\n",
      "             'data_model': '',\n",
      "             'data_model_fields': '',\n",
      "             'data_model_instance': '',\n",
      "             'modified': '2021-12-03T15:24:44.231539+00:00',\n",
      "             'modifier': 'KappesBR',\n",
      "             'name': 'Build001',\n",
      "             'notes': '',\n",
      "             'parent_process': '22823501-3df4-404d-beb8-a3c4fe83664b',\n",
      "             'pid': '',\n",
      "             'pk': 'f2311939-c18b-4b23-bae5-22ec7db4be17',\n",
      "             'predecessors': [],\n",
      "             'process_files': [],\n",
      "             'process_type': 'workflow',\n",
      "             'section': {},\n",
      "             'started': '',\n",
      "             'status': '',\n",
      "             'successors': [],\n",
      "             'template': True,\n",
      "             'template_files': [],\n",
      "             'xml': '<mxGraphModel dx=\"695\" dy=\"132\" grid=\"1\" gridSize=\"10\" '\n",
      "                    'guides=\"1\" tooltips=\"1\" connect=\"1\" arrows=\"1\" fold=\"1\" '\n",
      "                    'page=\"1\" pageScale=\"1\" pageWidth=\"850\" pageHeight=\"1100\" '\n",
      "                    'background=\"#ffffff\"><root><mxCell '\n",
      "                    'id=\"a20c7331-8af9-4e7b-ab85-187544c266a2\"/><mxCell '\n",
      "                    'id=\"69ef29f0-55d9-40c8-bb97-9230ef6275ec\" '\n",
      "                    'parent=\"a20c7331-8af9-4e7b-ab85-187544c266a2\"/><mxCell '\n",
      "                    'id=\"533df90f-797b-41c4-abf1-a17dd8dd4955\" value=\"Build '\n",
      "                    'Parameters\" style=\"rounded=0;whiteSpace=wrap;html=1;\" '\n",
      "                    'vertex=\"1\" '\n",
      "                    'parent=\"69ef29f0-55d9-40c8-bb97-9230ef6275ec\"><mxGeometry '\n",
      "                    'x=\"40\" y=\"40\" width=\"80\" height=\"80\" '\n",
      "                    'as=\"geometry\"/></mxCell><mxCell '\n",
      "                    'id=\"1392483e-2409-4efa-8096-a4153302fff5\" value=\"Part01\" '\n",
      "                    'style=\"shape=process;whiteSpace=wrap;html=1;\" vertex=\"1\" '\n",
      "                    'parent=\"69ef29f0-55d9-40c8-bb97-9230ef6275ec\"><mxGeometry '\n",
      "                    'x=\"160\" y=\"50\" width=\"120\" height=\"60\" '\n",
      "                    'as=\"geometry\"/></mxCell></root></mxGraphModel>'},\n",
      " 'headers': {'canonical-uri': '/workflow/process/f2311939-c18b-4b23-bae5-22ec7db4be17',\n",
      "             'createdBy': 'KappesBR',\n",
      "             'modifiedBy': 'KappesBR',\n",
      "             'pid': 'a8ff9adc-6965-43a7-b582-4a1ab0f2cadf',\n",
      "             'sys-creation-timestamp': '2021-10-04T17:20:46.356311Z',\n",
      "             'sys-last-modified': '2021-12-03T15:24:44.241461Z',\n",
      "             'uri': '/workflow/process/f2311939-c18b-4b23-bae5-22ec7db4be17/versions/0'},\n",
      " 'hyperthought': {'name': 'Workflow', 'objectType': 'workflow'},\n",
      " 'metadata': [],\n",
      " 'permissions': {'users': {},\n",
      "                 'workspaces': {'84d11cc8-2344-4ac9-9d43-3069999c2420': 'edit'}},\n",
      " 'restrictions': {'distribution': 'Distribution A',\n",
      "                  'exportControl': '',\n",
      "                  'securityMarking': ''},\n",
      " 'triples': []}\n"
     ]
    }
   ],
   "source": [
    "# Parse Workflow JSON into objects\n",
    "workflowJson = flow.get_children(templateJson[\"key\"])[0]\n",
    "pprint(workflowJson)"
   ]
  },
  {
   "cell_type": "code",
   "execution_count": 26,
   "id": "07108a9e-9843-4a01-83fc-ae01a836fe34",
   "metadata": {},
   "outputs": [
    {
     "name": "stdout",
     "output_type": "stream",
     "text": [
      "{'content': {'assignee': 'taylorhu',\n",
      "             'children': [],\n",
      "             'client_id': '533df90f-797b-41c4-abf1-a17dd8dd4955',\n",
      "             'completed': '',\n",
      "             'created': '2021-10-04T17:21:15.212267+00:00',\n",
      "             'creator': 'KappesBR',\n",
      "             'data_model': '',\n",
      "             'data_model_fields': [],\n",
      "             'data_model_instance': '',\n",
      "             'manager_review': False,\n",
      "             'modified': '2021-10-04T17:25:57.407043+00:00',\n",
      "             'modifier': 'KappesBR',\n",
      "             'name': 'Build Parameters',\n",
      "             'notes': '',\n",
      "             'parent_process': 'f2311939-c18b-4b23-bae5-22ec7db4be17',\n",
      "             'pid': '',\n",
      "             'pk': 'b6d8e31c-8dac-42d4-82dc-8c8926ec3827',\n",
      "             'predecessors': [],\n",
      "             'process_files': [],\n",
      "             'process_sub_type': 'form',\n",
      "             'process_type': 'process',\n",
      "             'section': {},\n",
      "             'started': '',\n",
      "             'status': '',\n",
      "             'successors': [],\n",
      "             'template': True,\n",
      "             'template_files': [],\n",
      "             'xml': ''},\n",
      " 'headers': {'canonical-uri': '/workflow/process/b6d8e31c-8dac-42d4-82dc-8c8926ec3827',\n",
      "             'createdBy': 'KappesBR',\n",
      "             'modifiedBy': 'KappesBR',\n",
      "             'pid': '8b8bcd8c-e0f5-427c-9825-32e134783a35',\n",
      "             'sys-creation-timestamp': '2021-10-04T17:21:15.241195Z',\n",
      "             'sys-last-modified': '2021-10-04T17:25:57.4154Z',\n",
      "             'uri': '/workflow/process/b6d8e31c-8dac-42d4-82dc-8c8926ec3827/versions/0'},\n",
      " 'hyperthought': {'name': 'Process', 'objectType': 'workflow'},\n",
      " 'metadata': [{'annotation': '',\n",
      "               'keyName': 'Laser Speed',\n",
      "               'unit': 'mm/s',\n",
      "               'value': {'link': 750, 'type': 'integer'}},\n",
      "              {'annotation': '',\n",
      "               'keyName': 'Log File',\n",
      "               'unit': '',\n",
      "               'value': {'displayText': '/Praxair IN625 Data Package/3 - '\n",
      "                                        'Metallography/10965-01/2-S6_H.csv',\n",
      "                         'link': '/files/filesystementry/c0894521-f748-4060-add8-18028f697b28/versions/0.json',\n",
      "                         'type': 'link'}}],\n",
      " 'permissions': {'users': {},\n",
      "                 'workspaces': {'84d11cc8-2344-4ac9-9d43-3069999c2420': 'edit'}},\n",
      " 'restrictions': {'distribution': 'Distribution A',\n",
      "                  'exportControl': '',\n",
      "                  'securityMarking': ''},\n",
      " 'triples': []}\n"
     ]
    }
   ],
   "source": [
    "# Parse Process JSON\n",
    "processJson = flow.get_children(workflowJson[\"content\"][\"pk\"])[0]\n",
    "pprint(processJson)"
   ]
  },
  {
   "cell_type": "code",
   "execution_count": 27,
   "id": "c4e3fb82-1cdc-4f3f-9e3d-ae50610b0e17",
   "metadata": {},
   "outputs": [
    {
     "data": {
      "text/plain": [
       "{'id': 'b6d8e31c-8dac-42d4-82dc-8c8926ec3827',\n",
       " 'name': 'Build Parameters',\n",
       " 'dueDate': '',\n",
       " 'assignee': 'taylorhu',\n",
       " 'children': [],\n",
       " 'clientId': '533df90f-797b-41c4-abf1-a17dd8dd4955',\n",
       " 'completed': '',\n",
       " 'created': '2021-10-04T17:21:15.212267+00:00',\n",
       " 'creator': 'KappesBR',\n",
       " 'fromTemplate': None,\n",
       " 'managerReview': False,\n",
       " 'comments': None,\n",
       " 'decisionQuestion': None,\n",
       " 'decisionPath': None,\n",
       " 'decisionAnswer': None,\n",
       " 'modified': '2021-10-04T17:25:57.407043+00:00',\n",
       " 'modifier': 'KappesBR',\n",
       " 'notes': '',\n",
       " 'parentProcess': 'f2311939-c18b-4b23-bae5-22ec7db4be17',\n",
       " 'predecessors': [],\n",
       " 'processType': 'process',\n",
       " 'started': '',\n",
       " 'status': '',\n",
       " 'successors': [],\n",
       " 'template': True,\n",
       " 'xml': '',\n",
       " 'workspaceName': 'UTEP Demo',\n",
       " 'parentName': 'Build001',\n",
       " 'metadata': [{'keyName': 'Laser Speed',\n",
       "   'value': {'link': 750, 'type': 'integer'},\n",
       "   'annotation': '',\n",
       "   'unit': 'mm/s'},\n",
       "  {'keyName': 'Log File',\n",
       "   'value': {'link': '/files/filesystementry/c0894521-f748-4060-add8-18028f697b28/versions/0.json',\n",
       "    'type': 'link',\n",
       "    'displayText': '/Praxair IN625 Data Package/3 - Metallography/10965-01/2-S6_H.csv'},\n",
       "   'annotation': '',\n",
       "   'unit': ''}],\n",
       " 'restrictions': {'distribution': 'Distribution A',\n",
       "  'exportControl': '',\n",
       "  'securityMarking': ''},\n",
       " 'permissions': {'workspaces': {'84d11cc8-2344-4ac9-9d43-3069999c2420': 'edit'},\n",
       "  'users': {}},\n",
       " 'resources': {'id': '/api/workflow/process/b6d8e31c-8dac-42d4-82dc-8c8926ec3827/',\n",
       "  'workspace': '/api/workspace/84d11cc8-2344-4ac9-9d43-3069999c2420/',\n",
       "  'workspaceView': '/workspace/84d11cc8-2344-4ac9-9d43-3069999c2420/detail/',\n",
       "  'parentDesigner': '/workflow/f2311939-c18b-4b23-bae5-22ec7db4be17/designer/?workspaceId=84d11cc8-2344-4ac9-9d43-3069999c2420',\n",
       "  'parent': '/api/workflow/process/f2311939-c18b-4b23-bae5-22ec7db4be17/',\n",
       "  'doTask': '/workflow/notifications/b6d8e31c-8dac-42d4-82dc-8c8926ec3827/'}}"
      ]
     },
     "execution_count": 27,
     "metadata": {},
     "output_type": "execute_result"
    }
   ],
   "source": [
    "flow.get_document(processJson[\"content\"][\"pk\"])"
   ]
  },
  {
   "cell_type": "code",
   "execution_count": null,
   "id": "da219243-40ef-43f2-8dd2-1c91cbf01a15",
   "metadata": {},
   "outputs": [],
   "source": []
  }
 ],
 "metadata": {
  "kernelspec": {
   "display_name": "Python 3 (ipykernel)",
   "language": "python",
   "name": "python3"
  },
  "language_info": {
   "codemirror_mode": {
    "name": "ipython",
    "version": 3
   },
   "file_extension": ".py",
   "mimetype": "text/x-python",
   "name": "python",
   "nbconvert_exporter": "python",
   "pygments_lexer": "ipython3",
   "version": "3.9.6"
  }
 },
 "nbformat": 4,
 "nbformat_minor": 5
}
