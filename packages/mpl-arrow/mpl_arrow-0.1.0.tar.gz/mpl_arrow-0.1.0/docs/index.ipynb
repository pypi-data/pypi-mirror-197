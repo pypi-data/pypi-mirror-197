{
 "cells": [
  {
   "cell_type": "markdown",
   "id": "f43cfa14-da28-4aff-8c44-64df4f9fc4a7",
   "metadata": {},
   "source": [
    "# mpl-arrow's Documentation\n",
    "\n",
    "Easily plot nice-looking arrows with matplotlib\n",
    "\n",
    "\n",
    "`mpl-arrow` provides functions for drawing arrows (vectors) between two points in data space. The {func}`.arrow` function mimics the api of {func}`matplotlib.pyplot.arrow` but with defaults that allow the arrow to render nicely. Additionally {func}`.arrow_absolute` and {func}`.vector` provide alternative function signatures.\n",
    "\n",
    "\n",
    "Key aspects of the functions are that they all:\n",
    "\n",
    "- Provide proper scaling of the arrow head\n",
    "- Follow the matplotlib color cycle\n",
    "- Can add legend entries\n",
    "\n",
    "\n",
    "\n",
    "## Install\n",
    "```bash\n",
    "pip install mpl-arrow\n",
    "```\n",
    "## Example"
   ]
  },
  {
   "cell_type": "code",
   "execution_count": null,
   "id": "cf2a38f3-fc45-4860-839f-d2d37fc2f073",
   "metadata": {
    "tags": []
   },
   "outputs": [],
   "source": [
    "import matplotlib.pyplot as plt\n",
    "\n",
    "from mpl_arrow import arrow, arrow_absolute, vector\n",
    "\n",
    "fig, ax = plt.subplots()\n",
    "\n",
    "#     x, y, dx, dy\n",
    "arrow(1, 0, 2, 0.5, label=\"arrow\")\n",
    "\n",
    "#              x,  y,  x2,  y2\n",
    "arrow_absolute(1, 0.5, 3.5, 2, label=\"arrow absolute\")\n",
    "\n",
    "#     dx, dy\n",
    "vector(4, 4, label=\"vector\")\n",
    "\n",
    "#     dx, dy, x,    y\n",
    "vector(4, 4, x=0, y=2, label=\"vector with offset\")\n",
    "\n",
    "plt.legend()\n",
    "plt.show()"
   ]
  },
  {
   "cell_type": "markdown",
   "id": "ca31a789-96c2-4dc4-af84-69982b03f1d2",
   "metadata": {},
   "source": [
    "```{toctree}\n",
    ":maxdepth: 2\n",
    "\n",
    "API <api/mpl_arrow>\n",
    "contributing\n",
    "```"
   ]
  }
 ],
 "metadata": {
  "kernelspec": {
   "display_name": "Python 3 (ipykernel)",
   "language": "python",
   "name": "python3"
  },
  "language_info": {
   "codemirror_mode": {
    "name": "ipython",
    "version": 3
   },
   "file_extension": ".py",
   "mimetype": "text/x-python",
   "name": "python",
   "nbconvert_exporter": "python",
   "pygments_lexer": "ipython3",
   "version": "3.11.0"
  },
  "vscode": {
   "interpreter": {
    "hash": "55dd65db90870e4ef86f9b4099f0eeaeed6e43259b5e360e26f77b1862bc7b1c"
   }
  },
  "widgets": {
   "application/vnd.jupyter.widget-state+json": {
    "state": {},
    "version_major": 2,
    "version_minor": 0
   }
  }
 },
 "nbformat": 4,
 "nbformat_minor": 5
}
