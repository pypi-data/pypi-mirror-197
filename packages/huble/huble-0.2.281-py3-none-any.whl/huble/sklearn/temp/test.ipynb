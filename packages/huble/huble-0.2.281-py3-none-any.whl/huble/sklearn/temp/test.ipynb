{
 "cells": [
  {
   "cell_type": "code",
   "execution_count": null,
   "metadata": {},
   "outputs": [],
   "source": [
    "!pip install huble==0.2.275"
   ]
  },
  {
   "cell_type": "code",
   "execution_count": 1,
   "metadata": {},
   "outputs": [
    {
     "name": "stdout",
     "output_type": "stream",
     "text": [
      "Survived\n"
     ]
    }
   ],
   "source": [
    "from huble import generate_experiment,Experiment\n",
    "experiment = generate_experiment(experiment_id=\"7b5b2086-116b-4199-bdf6-571674ec67e0\")"
   ]
  },
  {
   "cell_type": "code",
   "execution_count": 2,
   "metadata": {},
   "outputs": [],
   "source": [
    "from output import run_experiment"
   ]
  },
  {
   "cell_type": "code",
   "execution_count": 3,
   "metadata": {},
   "outputs": [
    {
     "ename": "TypeError",
     "evalue": "normalize() missing 1 required positional argument: 'X'",
     "output_type": "error",
     "traceback": [
      "\u001b[0;31m---------------------------------------------------------------------------\u001b[0m",
      "\u001b[0;31mTypeError\u001b[0m                                 Traceback (most recent call last)",
      "Cell \u001b[0;32mIn[3], line 1\u001b[0m\n\u001b[0;32m----> 1\u001b[0m \u001b[43mrun_experiment\u001b[49m\u001b[43m(\u001b[49m\u001b[43mexperiment\u001b[49m\u001b[43m)\u001b[49m\n",
      "File \u001b[0;32m~/Projects/huble/src/huble/sklearn/temp/output.py:6\u001b[0m, in \u001b[0;36mrun_experiment\u001b[0;34m(experiment)\u001b[0m\n\u001b[1;32m      4\u001b[0m model \u001b[39m=\u001b[39m huble\u001b[39m.\u001b[39msklearn\u001b[39m.\u001b[39mmultinomial_naive_bayes(parameters\u001b[39m=\u001b[39m{\u001b[39m'\u001b[39m\u001b[39mclass_prior\u001b[39m\u001b[39m'\u001b[39m: \u001b[39mNone\u001b[39;00m, \u001b[39m'\u001b[39m\u001b[39malpha\u001b[39m\u001b[39m'\u001b[39m: \u001b[39m1\u001b[39m, \u001b[39m'\u001b[39m\u001b[39mfit_prior\u001b[39m\u001b[39m'\u001b[39m: \u001b[39mTrue\u001b[39;00m})\n\u001b[1;32m      5\u001b[0m data \u001b[39m=\u001b[39m Dataset(\u001b[39m'\u001b[39m\u001b[39mhttps://ipfs.filebase.io/ipfs/QmRspeqXi9J2PVTmXYwMaBif9dYWVkNhM8EFomUAfajnT1\u001b[39m\u001b[39m'\u001b[39m)\u001b[39m.\u001b[39mdataframe\n\u001b[0;32m----> 6\u001b[0m data \u001b[39m=\u001b[39m huble\u001b[39m.\u001b[39;49msklearn\u001b[39m.\u001b[39;49mnormalize(data\u001b[39m=\u001b[39;49mdata, columns\u001b[39m=\u001b[39;49m[{\u001b[39m'\u001b[39;49m\u001b[39mvalue\u001b[39;49m\u001b[39m'\u001b[39;49m: \u001b[39m'\u001b[39;49m\u001b[39mAge\u001b[39;49m\u001b[39m'\u001b[39;49m, \u001b[39m'\u001b[39;49m\u001b[39mlabel\u001b[39;49m\u001b[39m'\u001b[39;49m: \u001b[39m'\u001b[39;49m\u001b[39mAge\u001b[39;49m\u001b[39m'\u001b[39;49m}], parameters\u001b[39m=\u001b[39;49m{\u001b[39m'\u001b[39;49m\u001b[39mnorm\u001b[39;49m\u001b[39m'\u001b[39;49m: \u001b[39m'\u001b[39;49m\u001b[39ml2\u001b[39;49m\u001b[39m'\u001b[39;49m, \u001b[39m'\u001b[39;49m\u001b[39mcopy\u001b[39;49m\u001b[39m'\u001b[39;49m: \u001b[39mTrue\u001b[39;49;00m})\n\u001b[1;32m      7\u001b[0m data \u001b[39m=\u001b[39m huble\u001b[39m.\u001b[39msklearn\u001b[39m.\u001b[39mclean_data(data\u001b[39m=\u001b[39mdata)\n\u001b[1;32m      8\u001b[0m training_dataset, test_dataset, input_format \u001b[39m=\u001b[39m huble\u001b[39m.\u001b[39msklearn\u001b[39m.\u001b[39mtrain_test_split(data\u001b[39m=\u001b[39mdata,parameters\u001b[39m=\u001b[39m{\u001b[39m'\u001b[39m\u001b[39mtest_size\u001b[39m\u001b[39m'\u001b[39m: \u001b[39m0.2\u001b[39m}, target_column\u001b[39m=\u001b[39m\u001b[39m'\u001b[39m\u001b[39mSurvived\u001b[39m\u001b[39m'\u001b[39m)\n",
      "File \u001b[0;32m~/.cache/pypoetry/virtualenvs/huble-jmRcOqbb-py3.8/lib/python3.8/site-packages/huble/sklearn/process/functions.py:137\u001b[0m, in \u001b[0;36mnormalize\u001b[0;34m(**params)\u001b[0m\n\u001b[1;32m    135\u001b[0m \u001b[39mfor\u001b[39;00m column \u001b[39min\u001b[39;00m params[\u001b[39m\"\u001b[39m\u001b[39mcolumns\u001b[39m\u001b[39m\"\u001b[39m]:\n\u001b[1;32m    136\u001b[0m     params[\u001b[39m\"\u001b[39m\u001b[39mX\u001b[39m\u001b[39m\"\u001b[39m] \u001b[39m=\u001b[39m column\n\u001b[0;32m--> 137\u001b[0m     data \u001b[39m=\u001b[39m preprocessing\u001b[39m.\u001b[39;49mnormalize(\u001b[39m*\u001b[39;49m\u001b[39m*\u001b[39;49mparams[\u001b[39m\"\u001b[39;49m\u001b[39mparameters\u001b[39;49m\u001b[39m\"\u001b[39;49m])\n\u001b[1;32m    138\u001b[0m \u001b[39mreturn\u001b[39;00m data\n",
      "\u001b[0;31mTypeError\u001b[0m: normalize() missing 1 required positional argument: 'X'"
     ]
    }
   ],
   "source": [
    "run_experiment(experiment)"
   ]
  },
  {
   "cell_type": "code",
   "execution_count": null,
   "metadata": {},
   "outputs": [],
   "source": []
  }
 ],
 "metadata": {
  "kernelspec": {
   "display_name": "Python 3.8.8 ('huble-jmRcOqbb-py3.8')",
   "language": "python",
   "name": "python3"
  },
  "language_info": {
   "codemirror_mode": {
    "name": "ipython",
    "version": 3
   },
   "file_extension": ".py",
   "mimetype": "text/x-python",
   "name": "python",
   "nbconvert_exporter": "python",
   "pygments_lexer": "ipython3",
   "version": "3.8.8"
  },
  "orig_nbformat": 4,
  "vscode": {
   "interpreter": {
    "hash": "2bd4402ae2af66a9b9715c78fa165f8547e33a1d62e8b49e18e8b2170d5f09d4"
   }
  }
 },
 "nbformat": 4,
 "nbformat_minor": 2
}
