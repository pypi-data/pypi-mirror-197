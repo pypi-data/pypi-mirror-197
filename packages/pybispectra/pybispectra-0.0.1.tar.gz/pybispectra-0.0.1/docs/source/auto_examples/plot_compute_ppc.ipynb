{
  "cells": [
    {
      "cell_type": "code",
      "execution_count": null,
      "metadata": {
        "collapsed": false
      },
      "outputs": [],
      "source": [
        "%matplotlib inline"
      ]
    },
    {
      "cell_type": "markdown",
      "metadata": {},
      "source": [
        "\n# Compute phase-phase coupling\n\nThis example demonstrates how phase-phase coupling (PPC) can be computed with\nPyBispectra.\n"
      ]
    },
    {
      "cell_type": "code",
      "execution_count": null,
      "metadata": {
        "collapsed": false
      },
      "outputs": [],
      "source": [
        "import numpy as np\n\nfrom pybispectra import compute_fft, PPC"
      ]
    },
    {
      "cell_type": "markdown",
      "metadata": {},
      "source": [
        "## Background\nPPC quantifies the relationship between the phases of a lower frequency\n$f_1$ and a higher frequency $f_2$ within a single signal, or\nacross different signals.\n\nThe method available in PyBispectra can be thought of as a measure of\ncoherence between frequencies :footcite:`Giehl2021` (note that it is not\nbased on the bispectrum):\n\n$\\large PPC(\\vec{x}_{f_1},\\vec{y}_{f_2})=\\LARGE \\frac{|\\langle \\vec{a}_x(f_1)\\vec{a}_y(f_2) e^{i(\\vec{\\varphi}_x(f_1)\\frac{f_2}{f_1}-\\vec{\\varphi}_y(f_2))} \\rangle|}{\\langle \\vec{a}_x(f_1)\\vec{a}_y(f_2) \\rangle}$,\n\nwhere $\\vec{a}(f)$ and $\\vec{\\varphi}(f)$ are the amplitude and\nphase of a signal at a given frequency, respectively, and the angled brackets\nrepresent the average over epochs.The phase of $f_1$ is accelerated to\nmatch that of $f_2$ by scaling the phase by a factor of\n$\\frac{f_2}{f_1}$. PPC values for this measure lie in the range\n$[0, 1]$, with 0 representing a random phase relationship, and 1\nrepresenting perfect phase coupling.\n\n"
      ]
    },
    {
      "cell_type": "markdown",
      "metadata": {},
      "source": [
        "## Generating data and computing Fourier coefficients\nWe will start by generating some data that we can compute PPC on, then\ncompute the Fourier coefficients of the data.\n\n"
      ]
    },
    {
      "cell_type": "code",
      "execution_count": null,
      "metadata": {
        "collapsed": false
      },
      "outputs": [],
      "source": [
        "# generate data\nrandom = np.random.RandomState(44)\ndata = random.rand(30, 2, 500)  # [epochs x channels x frequencies]\nsfreq = 100  # sampling frequency in Hz\n\n# compute Fourier coeffs.\nfft, freqs = compute_fft(data=data, sfreq=sfreq)\n\nprint(\n    f\"FFT coeffs.: [{fft.shape[0]} epochs x {fft.shape[1]} channels x \"\n    f\"{fft.shape[2]} frequencies]\\nFreq. range: {freqs[0]} - {freqs[-1]} Hz\"\n)"
      ]
    },
    {
      "cell_type": "markdown",
      "metadata": {},
      "source": [
        "As you can see, we have FFT coefficients for 2 channels across 30 epochs,\nwith 101 frequencies ranging from 0 to 50 Hz with a frequency resolution of\n0.5 Hz. We will use these coefficients to compute PPC.\n\n## Computing PPC\nTo compute PPC, we start by initialising the :class:`PPC` class object with\nthe FFT coefficients and the frequency information. To compute PPC, we call\nthe :meth:`compute` method. By default, PPC is computed between all channel\nand frequency combinations, however we can also specify particular\ncombinations of interest.\n\nHere, we specify the :attr:`indices` to compute PPC on. :attr:`indices` is\nexpected to be a tuple containing two NumPy arrays for the indices of the\nseed and target channels, respectively. The indices specified below mean that\nPPC will only be computed across frequencies within each channel (i.e.\n0 -> 0; and 1 -> 1). By leaving the frequency arguments :attr:`f1` and\n:attr:`f2` blank, we will look at all possible frequency combinations.\n\n"
      ]
    },
    {
      "cell_type": "code",
      "execution_count": null,
      "metadata": {
        "collapsed": false
      },
      "outputs": [],
      "source": [
        "ppc = PPC(data=fft, freqs=freqs)  # initialise object\nppc.compute(\n    indices=(np.array([0, 1]), np.array([0, 1])), f1=None, f2=None\n)  # compute PPC\n\nppc_results = ppc.results.get_results()  # return results as array\n\nprint(\n    f\"PPC results: [{ppc_results.shape[0]} connections x \"\n    f\"{ppc_results.shape[1]} f1 x {ppc_results.shape[2]} f2]\"\n)"
      ]
    },
    {
      "cell_type": "markdown",
      "metadata": {},
      "source": [
        "We can see that PPC has been computed for 2 connections (0 -> 0; and 1 -> 1),\nand all possible frequency combinations, averaged across our 30 epochs.\nWhilst there are 10,000 such frequency combinations in our [100 x 100]\nmatrices, PPC for those entries where $f1$ would be higher than\n$f2$ cannot be computed, in which case the values are ``numpy.nan``\n(see the plotted results below for a visual demonstration of this).\n\n"
      ]
    },
    {
      "cell_type": "markdown",
      "metadata": {},
      "source": [
        "## Plotting PPC\nLet us now inspect the results. For this, we will plot the results for both\nconnections on the same plot. If we wished, we could plot this information on\nseparate plots, or specify a subset of frequencies to inspect.\n\n"
      ]
    },
    {
      "cell_type": "code",
      "execution_count": null,
      "metadata": {
        "collapsed": false
      },
      "outputs": [],
      "source": [
        "fig, axes = ppc.results.plot(n_rows=1, n_cols=2)  # 2 subplots for the cons."
      ]
    },
    {
      "cell_type": "markdown",
      "metadata": {},
      "source": [
        "As you can see, values for the lower right triangle of each plot are missing,\ncorresponding to the frequency combinations where $f_1$ is greater than\n$f_2$, and hence where PPC cannot be computed. Note that the ``Figure``\nand ``Axes`` objects can also be returned for any desired manual adjustments\nof the plots.\n\n## Controlling for spurious PAC with PPC\nNow that we have an idea of how PAC and PPC can be computed, the following\nexample will look at how PPC can be used to control for spurious PAC results\nstemming from frequency harmonics :footcite:`Giehl2021`.\n\n"
      ]
    },
    {
      "cell_type": "markdown",
      "metadata": {},
      "source": [
        "## References\n.. footbibliography::\n\n"
      ]
    }
  ],
  "metadata": {
    "kernelspec": {
      "display_name": "Python 3",
      "language": "python",
      "name": "python3"
    },
    "language_info": {
      "codemirror_mode": {
        "name": "ipython",
        "version": 3
      },
      "file_extension": ".py",
      "mimetype": "text/x-python",
      "name": "python",
      "nbconvert_exporter": "python",
      "pygments_lexer": "ipython3",
      "version": "3.10.9"
    }
  },
  "nbformat": 4,
  "nbformat_minor": 0
}