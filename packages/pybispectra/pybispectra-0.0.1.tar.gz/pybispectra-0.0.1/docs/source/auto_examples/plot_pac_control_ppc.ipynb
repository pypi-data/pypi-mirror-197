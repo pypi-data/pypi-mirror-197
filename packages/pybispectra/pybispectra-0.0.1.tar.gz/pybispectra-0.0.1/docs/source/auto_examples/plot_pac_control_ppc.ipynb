{
  "cells": [
    {
      "cell_type": "code",
      "execution_count": null,
      "metadata": {
        "collapsed": false
      },
      "outputs": [],
      "source": [
        "%matplotlib inline"
      ]
    },
    {
      "cell_type": "markdown",
      "metadata": {},
      "source": [
        "\n# Control for spurious phase-amplitude coupling with phase-phase coupling\n\nThis example demonstrates how phase-phase coupling (PPC) can be used to control\nfor spurious phase-amplitude coupling (PAC) resulting from frequency harmonics.\n"
      ]
    }
  ],
  "metadata": {
    "kernelspec": {
      "display_name": "Python 3",
      "language": "python",
      "name": "python3"
    },
    "language_info": {
      "codemirror_mode": {
        "name": "ipython",
        "version": 3
      },
      "file_extension": ".py",
      "mimetype": "text/x-python",
      "name": "python",
      "nbconvert_exporter": "python",
      "pygments_lexer": "ipython3",
      "version": "3.10.9"
    }
  },
  "nbformat": 4,
  "nbformat_minor": 0
}