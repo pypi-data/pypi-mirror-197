{
 "cells": [
  {
   "cell_type": "code",
   "execution_count": null,
   "outputs": [],
   "source": [
    "from nltk import word_tokenize, sent_tokenize\n",
    "import requests\n",
    "from ngram_ml import NGramMLEstimator\n",
    "\n",
    "r = requests.get('https://www.gutenberg.org/cache/epub/10947/pg10947.txt')\n",
    "lines = r.text.splitlines()\n",
    "lines = [line.strip() for line in lines if line not in ['' ,'\\ufeff']]\n",
    "text = ' '.join(lines)\n",
    "sentences = sent_tokenize(text) # More clever way than just splitting based on '.' and '?' and '!'\n",
    "tokens = [['<S>'] + word_tokenize(sentence) + ['</S>'] for sentence in sentences]\n",
    "\n",
    "\n",
    "mle = NGramMLEstimator(sentences=tokens, n_grams=2, label_smoothing=1)\n",
    "mle.calculate_cross_entropy(tokens)\n",
    "mle.calculate_cross_entropy([['<S>', 'the', 'cat', 'sat', 'on', 'the', 'mat', '</S>']])\n",
    "\n",
    "mle.generate_sentence(30, initial_pre_seq= tuple([mle.word_to_idx['pencil']]))\n",
    "mle.generate_most_probable_sentence(30, initial_pre_seq= tuple([mle.word_to_idx['book']]))\n",
    "\n"
   ],
   "metadata": {
    "collapsed": false
   }
  },
  {
   "cell_type": "code",
   "execution_count": null,
   "outputs": [],
   "source": [],
   "metadata": {
    "collapsed": false
   }
  }
 ],
 "metadata": {
  "kernelspec": {
   "display_name": "Python 3",
   "language": "python",
   "name": "python3"
  },
  "language_info": {
   "codemirror_mode": {
    "name": "ipython",
    "version": 2
   },
   "file_extension": ".py",
   "mimetype": "text/x-python",
   "name": "python",
   "nbconvert_exporter": "python",
   "pygments_lexer": "ipython2",
   "version": "2.7.6"
  }
 },
 "nbformat": 4,
 "nbformat_minor": 0
}
