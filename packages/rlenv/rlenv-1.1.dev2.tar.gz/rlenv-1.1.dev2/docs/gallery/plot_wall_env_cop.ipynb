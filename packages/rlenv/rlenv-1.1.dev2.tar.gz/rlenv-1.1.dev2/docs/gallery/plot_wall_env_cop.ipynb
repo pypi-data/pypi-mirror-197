{
  "cells": [
    {
      "cell_type": "code",
      "execution_count": null,
      "metadata": {
        "collapsed": false
      },
      "outputs": [],
      "source": [
        "%matplotlib inline"
      ]
    },
    {
      "cell_type": "markdown",
      "metadata": {},
      "source": [
        "\n# Wall Environment - COP\n\nThis example shows how to get COP in the Wall Environment.\n"
      ]
    },
    {
      "cell_type": "markdown",
      "metadata": {},
      "source": [
        "Import required packages\n\n"
      ]
    },
    {
      "cell_type": "code",
      "execution_count": null,
      "metadata": {
        "collapsed": false
      },
      "outputs": [],
      "source": [
        "from rlenv.envs.wall.core import AccentaEnv, efficiency_func\nfrom rlenv.sed.wall import Wall\nfrom rlenv.weather.generator.brownianbridge import gen_weather_time_series_with_brownian_bridge as weather_generator\nfrom rlenv.weather.forecast.bogus import gen_weather_forecast as weather_forecast_generator\n\nimport numpy as np\nimport matplotlib.pyplot as plt\nimport seaborn as sns\n\nsns.set_context(\"talk\")\n\nthermal_needs_generator = Wall()\nenv = AccentaEnv(weather_generator=weather_generator,\n                 weather_forecast_generator=weather_forecast_generator,\n                 thermal_needs_generator=thermal_needs_generator)\nenv.reset()\n\nX = np.arange(-30., 40.)\nplt.plot(X, [efficiency_func(t_out) for t_out in X])\n\nplt.title(\"COP for a setpoint of {:0.2f}\u00b0C\".format(env.thermal_needs_generator.setpoint_degree))\nplt.xlabel(\"Outside temperature\")\nplt.ylabel(\"COP\")\n\nplt.tight_layout()\n\nplt.show()"
      ]
    }
  ],
  "metadata": {
    "kernelspec": {
      "display_name": "Python 3",
      "language": "python",
      "name": "python3"
    },
    "language_info": {
      "codemirror_mode": {
        "name": "ipython",
        "version": 3
      },
      "file_extension": ".py",
      "mimetype": "text/x-python",
      "name": "python",
      "nbconvert_exporter": "python",
      "pygments_lexer": "ipython3",
      "version": "3.8.10"
    }
  },
  "nbformat": 4,
  "nbformat_minor": 0
}