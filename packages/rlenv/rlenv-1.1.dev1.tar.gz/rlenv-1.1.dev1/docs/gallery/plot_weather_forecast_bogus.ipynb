{
  "cells": [
    {
      "cell_type": "code",
      "execution_count": null,
      "metadata": {
        "collapsed": false
      },
      "outputs": [],
      "source": [
        "%matplotlib inline"
      ]
    },
    {
      "cell_type": "markdown",
      "metadata": {},
      "source": [
        "\n# Weather Forecast\n\nThis example shows how to generate (bogus) weather forecast time series.\n"
      ]
    },
    {
      "cell_type": "markdown",
      "metadata": {},
      "source": [
        "Import required packages\n\n"
      ]
    },
    {
      "cell_type": "code",
      "execution_count": null,
      "metadata": {
        "collapsed": false
      },
      "outputs": [],
      "source": [
        "from rlenv.weather.generator.brownianbridge import gen_weather_time_series_with_brownian_bridge\nfrom rlenv.weather.forecast.bogus import gen_weather_forecast\n\nimport matplotlib.pyplot as plt\nimport numpy as np\nimport seaborn as sns\n\nsns.set_context(\"talk\")\n\nprint(gen_weather_forecast)\n\noutside_temperature_df = gen_weather_time_series_with_brownian_bridge()\n\nstart_index=2000\nend_index=2048\n\nweather_forecast = gen_weather_forecast(weather_series=outside_temperature_df.temperature,\n                                        start_index=start_index,\n                                        end_index=end_index)\n\noutside_temperature_df.iloc[start_index:end_index].plot(x=\"hours\", y=\"temperature\")\nplt.plot(outside_temperature_df.loc[start_index:end_index-1, [\"hours\"]].values, weather_forecast)\n\nplt.show()"
      ]
    }
  ],
  "metadata": {
    "kernelspec": {
      "display_name": "Python 3",
      "language": "python",
      "name": "python3"
    },
    "language_info": {
      "codemirror_mode": {
        "name": "ipython",
        "version": 3
      },
      "file_extension": ".py",
      "mimetype": "text/x-python",
      "name": "python",
      "nbconvert_exporter": "python",
      "pygments_lexer": "ipython3",
      "version": "3.8.10"
    }
  },
  "nbformat": 4,
  "nbformat_minor": 0
}