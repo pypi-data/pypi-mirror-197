{
  "cells": [
    {
      "cell_type": "code",
      "execution_count": null,
      "metadata": {
        "collapsed": false
      },
      "outputs": [],
      "source": [
        "%matplotlib inline"
      ]
    },
    {
      "cell_type": "markdown",
      "metadata": {},
      "source": [
        "\n# Wall Environment - Thermal Needs\n\nThis example shows how to get thermal needs in the Wall Environment.\n"
      ]
    },
    {
      "cell_type": "markdown",
      "metadata": {},
      "source": [
        "Import required packages\n\n"
      ]
    },
    {
      "cell_type": "code",
      "execution_count": null,
      "metadata": {
        "collapsed": false
      },
      "outputs": [],
      "source": [
        "from rlenv.envs.wall.core import AccentaEnv\nfrom rlenv.sed.wall import Wall\n#from rlenv.weather.generator.toysine import gen_bogus_weather_time_series as weather_generator\nfrom rlenv.weather.generator.brownianbridge import gen_weather_time_series_with_brownian_bridge as weather_generator\nfrom rlenv.weather.forecast.bogus import gen_weather_forecast\n\nimport matplotlib.pyplot as plt\nimport pandas as pd\nimport seaborn as sns\n\nsns.set_context(\"talk\")\n\nSETPOINT_DEGREE = 18.0\n\noutside_temperature_df = weather_generator()\n\nthermal_needs_generator = Wall(setpoint_degree=SETPOINT_DEGREE)\nheat_needs_df = thermal_needs_generator(outside_temperature_df=outside_temperature_df)\n\ndf = pd.merge(outside_temperature_df, heat_needs_df, on=\"indicative_date\")\n\ndf.plot(x=\"indicative_date\", y=[\"temperature\", \"heat_needs\"], figsize=(16, 7), label=[\"outside temperature\", \"heat_needs\"])\nplt.axhline(SETPOINT_DEGREE, color=\"black\", linestyle=\"dotted\", label=\"setpoint\")\nplt.legend()\nplt.tight_layout()\n\nplt.show()"
      ]
    }
  ],
  "metadata": {
    "kernelspec": {
      "display_name": "Python 3",
      "language": "python",
      "name": "python3"
    },
    "language_info": {
      "codemirror_mode": {
        "name": "ipython",
        "version": 3
      },
      "file_extension": ".py",
      "mimetype": "text/x-python",
      "name": "python",
      "nbconvert_exporter": "python",
      "pygments_lexer": "ipython3",
      "version": "3.8.10"
    }
  },
  "nbformat": 4,
  "nbformat_minor": 0
}