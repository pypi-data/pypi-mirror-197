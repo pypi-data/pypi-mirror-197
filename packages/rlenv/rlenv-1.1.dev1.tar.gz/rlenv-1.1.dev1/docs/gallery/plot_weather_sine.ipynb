{
  "cells": [
    {
      "cell_type": "code",
      "execution_count": null,
      "metadata": {
        "collapsed": false
      },
      "outputs": [],
      "source": [
        "%matplotlib inline"
      ]
    },
    {
      "cell_type": "markdown",
      "metadata": {},
      "source": [
        "\n# Sine Weather\n\nThis example shows how to generate weather time series using the Sine data generator.\n"
      ]
    },
    {
      "cell_type": "markdown",
      "metadata": {},
      "source": [
        "Import required packages\n\n"
      ]
    },
    {
      "cell_type": "code",
      "execution_count": null,
      "metadata": {
        "collapsed": false
      },
      "outputs": [],
      "source": [
        "from rlenv.weather.generator.toysine import gen_bogus_weather_time_series\n\nimport matplotlib.pyplot as plt\nimport numpy as np\nimport seaborn as sns\n\nsns.set_context(\"talk\")\n\nprint(gen_bogus_weather_time_series)\n\ndf = gen_bogus_weather_time_series()\n\n#ax = df.plot(x=\"hours\", y=\"temperature\", figsize=(16, 7))\nax = df.plot(x=\"indicative_date\", y=\"temperature\", figsize=(16, 7))\n\nSETPOINT_DEGREE = 19.0\nplt.axhline(SETPOINT_DEGREE, color=\"red\")\nplt.tight_layout()\n\nplt.show()\n\nprint(df)"
      ]
    }
  ],
  "metadata": {
    "kernelspec": {
      "display_name": "Python 3",
      "language": "python",
      "name": "python3"
    },
    "language_info": {
      "codemirror_mode": {
        "name": "ipython",
        "version": 3
      },
      "file_extension": ".py",
      "mimetype": "text/x-python",
      "name": "python",
      "nbconvert_exporter": "python",
      "pygments_lexer": "ipython3",
      "version": "3.8.10"
    }
  },
  "nbformat": 4,
  "nbformat_minor": 0
}