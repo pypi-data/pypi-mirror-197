{
  "cells": [
    {
      "cell_type": "code",
      "execution_count": null,
      "metadata": {
        "collapsed": false
      },
      "outputs": [],
      "source": [
        "%matplotlib inline"
      ]
    },
    {
      "cell_type": "markdown",
      "metadata": {},
      "source": [
        "\n# Wall Environment\n\nThis example shows how to use the Wall Environment.\n"
      ]
    },
    {
      "cell_type": "markdown",
      "metadata": {},
      "source": [
        "Import required packages\n\n"
      ]
    },
    {
      "cell_type": "code",
      "execution_count": null,
      "metadata": {
        "collapsed": false
      },
      "outputs": [],
      "source": [
        "import matplotlib.pyplot as plt\n\nfrom rlenv.envs.wall.core import AccentaEnv\nfrom rlenv.sed.wall import Wall\n#from rlenv.weather.generator.toysine import gen_bogus_weather_time_series as weather_generator\nfrom rlenv.weather.generator.brownianbridge import gen_weather_time_series_with_brownian_bridge as weather_generator\nfrom rlenv.weather.forecast.bogus import gen_weather_forecast as weather_forecast_generator\n\nthermal_needs_generator = Wall(setpoint_degree=18.)\n\nenv = AccentaEnv(weather_generator=weather_generator,\n                 weather_forecast_generator=weather_forecast_generator,\n                 thermal_needs_generator=thermal_needs_generator,\n                 record_logs=True,\n                 state_contains_daily_time_indicator=False,\n                 state_contains_weekly_time_indicator=False,\n                 state_contains_yearly_time_indicator=True)\nenv.reset()\n\nstop = False\ns = env.reset()\n\nwhile not stop:\n    a = env.action_space.sample()\n\n    s.shape == env.observation_space.shape\n    a.shape == env.action_space.shape\n\n    s, reward, stop, _ = env.step(a)\n\n# MAKE THE RESULT DATAFRAME\ndf = env.logs_to_df()\n\n# PLOT\n\ndf.loc[:,['a1_th', 'a2_th', 'a3', 'e', 'current_thermal_needs_kwh', 'cop']].plot(figsize=(30,8), alpha=0.5)\n#df.loc[:,['s3', 's4']].plot(figsize=(30,8), alpha=0.5)\n#df.loc[:,['s3', 's4', 's5', 's6']].plot(figsize=(30,8), alpha=0.5)\n#df.loc[:,['s3', 's4', 's5', 's6', 's7', 's8']].plot(figsize=(30,8), alpha=0.5)\n#df.loc[:24,['s3', 's4', 's5', 's6', 's7', 's8']].plot(figsize=(30,8), alpha=0.5)\nplt.tight_layout()\nplt.show()\n\nprint(env.observation_space.low)\nprint(env.observation_space.high)"
      ]
    }
  ],
  "metadata": {
    "kernelspec": {
      "display_name": "Python 3",
      "language": "python",
      "name": "python3"
    },
    "language_info": {
      "codemirror_mode": {
        "name": "ipython",
        "version": 3
      },
      "file_extension": ".py",
      "mimetype": "text/x-python",
      "name": "python",
      "nbconvert_exporter": "python",
      "pygments_lexer": "ipython3",
      "version": "3.8.10"
    }
  },
  "nbformat": 4,
  "nbformat_minor": 0
}