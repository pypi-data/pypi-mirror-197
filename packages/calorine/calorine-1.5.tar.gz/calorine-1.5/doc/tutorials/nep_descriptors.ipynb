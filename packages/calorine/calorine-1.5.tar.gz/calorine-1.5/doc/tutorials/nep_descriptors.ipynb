{
 "cells": [
  {
   "cell_type": "markdown",
   "id": "9c418f35",
   "metadata": {},
   "source": [
    "# Accessing NEP descriptors\n",
    "\n",
    "This tutorial demonstrates the basic functionality available for the analysis of NEP models.\n",
    "Specifically, the interface exposes convenience functions for calculating per-atom descriptors, energies, forces and virials/stresses for [Atoms objects](https://wiki.fysik.dtu.dk/ase/ase/atoms.html)."
   ]
  },
  {
   "cell_type": "markdown",
   "id": "cfd330c0",
   "metadata": {},
   "source": [
    "## Calculate descriptors, energies and forces\n",
    "We start by creating an `Atoms` object, which will serve as our prototype system for the extent of this tutorial, and by importing the `get_descriptors` and `get_potential_forces_and_virials` functions from the `calorine.nep` submodule."
   ]
  },
  {
   "cell_type": "code",
   "execution_count": 1,
   "id": "83a90034",
   "metadata": {},
   "outputs": [],
   "source": [
    "from ase.build import bulk\n",
    "from calorine.nep import get_descriptors, get_potential_forces_and_virials\n",
    "\n",
    "structure = bulk('PbTe', crystalstructure='rocksalt', a=6.7)"
   ]
  },
  {
   "cell_type": "markdown",
   "id": "87793a0c",
   "metadata": {},
   "source": [
    "We can now compute the descriptors, energies, forces and virials for our system by calling `get_descriptors` and `get_potential_forces_and_virials`.\n",
    "To this end, we pass the atomic structure together with the path to a NEP model file.\n",
    "Here, we use a [NEP3 model for PbTe](https://gitlab.com/brucefan1983/nep-data/-/tree/main/PbTe)."
   ]
  },
  {
   "cell_type": "code",
   "execution_count": 2,
   "id": "fd406810",
   "metadata": {},
   "outputs": [
    {
     "name": "stdout",
     "output_type": "stream",
     "text": [
      "Shape of descriptors: (2, 30)\n",
      "Energy (eV):\n",
      " [-3.81130494 -3.86976582]\n",
      "Forces (eV/Å):\n",
      " [[ 2.70616862e-16  2.85239922e-17 -1.16068684e-16]\n",
      " [-2.70616862e-16 -2.85239922e-17  1.16068684e-16]]\n",
      "Virials (eV):\n",
      " [[-7.46565476e-01 -4.36421400e-16 -2.92134080e-17 -4.39890847e-16\n",
      "  -7.46565476e-01 -1.64798730e-16 -3.61523019e-17 -1.57859836e-16\n",
      "  -7.46565476e-01]\n",
      " [ 3.84050515e-01 -3.23080227e-16  1.94966315e-16 -2.95324651e-16\n",
      "   3.84050515e-01  9.78218006e-17  1.94966315e-16  9.78218006e-17\n",
      "   3.84050515e-01]]\n"
     ]
    }
   ],
   "source": [
    "descriptors = get_descriptors(structure, potential_filename='PbTe_NEP3.txt')\n",
    "\n",
    "per_atom_energies, forces, virials = \\\n",
    "    get_potential_forces_and_virials(structure, potential_filename='PbTe_NEP3.txt')\n",
    "\n",
    "print(f'Shape of descriptors: {descriptors.shape}')\n",
    "print(f'Energy (eV):\\n {per_atom_energies}')\n",
    "print(f'Forces (eV/Å):\\n {forces}')\n",
    "print(f'Virials (eV):\\n {virials}')"
   ]
  },
  {
   "cell_type": "markdown",
   "id": "dae0f087",
   "metadata": {},
   "source": [
    "`get_descriptors` can also be called without supplying a NEP model file, in which case a dummy NEP2 model will be generated on-the-fly.\n",
    "The dummy model has all parameter values set to 1.\n",
    "*Note that this model does not differentiate different atom species.*\n",
    "Thus, supplying your own trained NEP model file is recommended for most applications. "
   ]
  },
  {
   "cell_type": "code",
   "execution_count": 3,
   "id": "b83ea356",
   "metadata": {},
   "outputs": [
    {
     "name": "stdout",
     "output_type": "stream",
     "text": [
      "Shape of descriptors: (2, 52)\n"
     ]
    }
   ],
   "source": [
    "descriptors = get_descriptors(structure)\n",
    "print(f'Shape of descriptors: {descriptors.shape}')"
   ]
  }
 ],
 "metadata": {
  "kernelspec": {
   "display_name": "Python 3 (ipykernel)",
   "language": "python",
   "name": "python3"
  },
  "language_info": {
   "codemirror_mode": {
    "name": "ipython",
    "version": 3
   },
   "file_extension": ".py",
   "mimetype": "text/x-python",
   "name": "python",
   "nbconvert_exporter": "python",
   "pygments_lexer": "ipython3",
   "version": "3.10.4"
  },
  "vscode": {
   "interpreter": {
    "hash": "6be099dd3823815779ed5b2d986ab000320f08fb94733d934e13608f08061690"
   }
  }
 },
 "nbformat": 4,
 "nbformat_minor": 5
}
