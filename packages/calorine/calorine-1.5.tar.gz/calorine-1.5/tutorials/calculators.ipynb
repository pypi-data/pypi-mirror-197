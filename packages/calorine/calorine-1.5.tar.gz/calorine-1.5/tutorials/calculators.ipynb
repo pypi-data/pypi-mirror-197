{
 "cells": [
  {
   "cell_type": "markdown",
   "id": "29a77281-d15f-4459-b42b-90639d9fd158",
   "metadata": {},
   "source": [
    "# Using the ASE calculators\n",
    "\n",
    "This tutorial demonstrates how to use the [ASE](https://wiki.fysik.dtu.dk/ase/) calculators for neuroevolution potentials (NEP), which allow one to calculate energies, forces and stresses for an atomic configuration, specified in the form of an [Atoms object](https://wiki.fysik.dtu.dk/ase/ase/atoms.html).\n",
    "This enables one to programmatically calculate properties that would otherwise require writing a large number of GPUMD input files and potentially tedious extraction of the results.\n",
    "\n",
    "`calorine` provides two different ASE calculators for NEP calculations, one that uses the GPU implementation and one that uses the CPU implementation of NEP.\n",
    "For smaller calculations the CPU calculators is usually more performant.\n",
    "For very large simulations and for comparison the GPU calculator can be useful as well."
   ]
  },
  {
   "cell_type": "markdown",
   "id": "e69f41d6",
   "metadata": {
    "tags": []
   },
   "source": [
    "## CPU-based calculator"
   ]
  },
  {
   "cell_type": "markdown",
   "id": "0fb133d3",
   "metadata": {},
   "source": [
    "### Basic usage\n",
    "\n",
    "First we define an atomic structure in the form of an [Atoms object](https://wiki.fysik.dtu.dk/ase/ase/atoms.html).\n",
    "Next we create a calculator instance by specifying the path to a NEP model file in [nep.txt format](https://gpumd.zheyongfan.org/index.php/The_output_files_for_the_nep_executable#The_nep.txt_file).\n",
    "In this tutorial, we use a [NEP3 model for PbTe](https://gitlab.com/brucefan1983/nep-data/-/tree/main/PbTe).\n",
    "Finally, we attach the calculator to the `Atoms` object."
   ]
  },
  {
   "cell_type": "code",
   "execution_count": 1,
   "id": "ccb1d625",
   "metadata": {},
   "outputs": [],
   "source": [
    "from ase.build import bulk\n",
    "from calorine.calculators import CPUNEP\n",
    "\n",
    "structure = bulk('PbTe', crystalstructure='rocksalt', a=6.7)\n",
    "calc = CPUNEP('PbTe_NEP3.txt')\n",
    "structure.calc = calc"
   ]
  },
  {
   "cell_type": "markdown",
   "id": "506e961e",
   "metadata": {},
   "source": [
    "Now, we can readily calculate energies, forces and stresses."
   ]
  },
  {
   "cell_type": "code",
   "execution_count": 2,
   "id": "12dbc5b2",
   "metadata": {},
   "outputs": [
    {
     "name": "stdout",
     "output_type": "stream",
     "text": [
      "Energy (eV): -7.681070759348718\n",
      "Forces (eV/Å):\n",
      " [[ 2.70616862e-16  2.85239922e-17 -1.16068684e-16]\n",
      " [-2.70616862e-16 -2.85239922e-17  1.16068684e-16]]\n",
      "Stress (GPa):\n",
      " [ 4.82127071e-03  4.82127071e-03  4.82127071e-03  8.90760229e-19\n",
      " -2.20443216e-18  1.01009982e-17]\n"
     ]
    }
   ],
   "source": [
    "print('Energy (eV):', structure.get_potential_energy())\n",
    "print('Forces (eV/Å):\\n', structure.get_forces())\n",
    "print('Stress (GPa):\\n', structure.get_stress())"
   ]
  },
  {
   "cell_type": "markdown",
   "id": "81f94877",
   "metadata": {},
   "source": [
    "### Calculate energy-volume curve\n",
    "\n",
    "To demonstrate the capabilities of the ASE calculator, we will now calculate an energy-volume curve with the PbTe potential."
   ]
  },
  {
   "cell_type": "code",
   "execution_count": 3,
   "id": "861b6acb",
   "metadata": {},
   "outputs": [
    {
     "data": {
      "image/png": "[encoded data removed]",
      "text/plain": [
       "<Figure size 432x288 with 1 Axes>"
      ]
     },
     "metadata": {
      "needs_background": "light"
     },
     "output_type": "display_data"
    }
   ],
   "source": [
    "%matplotlib inline\n",
    "import numpy as np\n",
    "import matplotlib.pyplot as plt\n",
    "\n",
    "energies = []\n",
    "volumes = []\n",
    "\n",
    "structure_copy = structure.copy()\n",
    "original_cell = structure.cell.copy()\n",
    "\n",
    "structure_copy.calc = calc\n",
    "\n",
    "for scale in np.arange(0.9, 1.11, 0.01):\n",
    "    structure_copy.set_cell(scale * original_cell, scale_atoms=True)\n",
    "    volumes.append(structure_copy.get_volume())\n",
    "    energies.append(structure_copy.get_potential_energy() / len(structure_copy))\n",
    "\n",
    "fig, ax = plt.subplots()\n",
    "ax.plot(volumes, energies, '-o')\n",
    "ax.set_xlabel('Volume (Å^3)')\n",
    "ax.set_ylabel('Energy (eV/atom)');"
   ]
  },
  {
   "cell_type": "markdown",
   "id": "a5ed3304-a3b0-4ed8-9e1d-166355ab2a74",
   "metadata": {
    "tags": []
   },
   "source": [
    "## GPU-based calculator\n",
    "\n",
    "The basic usage of the `GPUNEP` calculator class is completely analoguous to the `CPUNEP` calculator.\n",
    "We create an atomic structure and attach the calculator object."
   ]
  },
  {
   "cell_type": "code",
   "execution_count": 4,
   "id": "6e0bc508-b926-4312-a3ef-43a2f6733be4",
   "metadata": {},
   "outputs": [],
   "source": [
    "from calorine.calculators import GPUNEP\n",
    "\n",
    "structure = bulk('PbTe', crystalstructure='rocksalt', a=6.7)\n",
    "calc = GPUNEP('PbTe_NEP3.txt')\n",
    "structure.calc = calc"
   ]
  },
  {
   "cell_type": "markdown",
   "id": "0daccfc5-91ce-4295-b3b5-eb7ab2a1be7c",
   "metadata": {},
   "source": [
    "Afterwards we can readily obtain energies, forces, and stresses."
   ]
  },
  {
   "cell_type": "code",
   "execution_count": 5,
   "id": "86a7f3fb-3d7f-4b6c-b47c-d4203ad8a739",
   "metadata": {},
   "outputs": [
    {
     "name": "stdout",
     "output_type": "stream",
     "text": [
      "Energy (eV): -7.6810722351\n",
      "Forces (eV/Å):\n",
      " [[-4.00012e-08 -4.61735e-08 -3.31625e-08]\n",
      " [ 4.00012e-08  4.61735e-08  3.31625e-08]]\n",
      "Stresses (eV/Å^3):\n",
      " [ 4.82120785e-03  4.82120666e-03  4.82120760e-03 -1.29963668e-09\n",
      " -1.42977897e-09 -1.71918525e-09]\n"
     ]
    }
   ],
   "source": [
    "print('Energy (eV):', structure.get_potential_energy())\n",
    "print('Forces (eV/Å):\\n', structure.get_forces())\n",
    "print('Stresses (eV/Å^3):\\n', structure.get_stress())"
   ]
  },
  {
   "cell_type": "markdown",
   "id": "7ec80392-5346-4da3-9cf1-c556f31a2e37",
   "metadata": {},
   "source": [
    "### Temporary and specified directories\n",
    "\n",
    "Under the hood, the `GPUNEP` calculator creates a directory and writes the input files necessary to run GPUMD.\n",
    "By default, this is done in temporary directories that are automatically removed once the calculations has finished.\n",
    "It is also possible to run in a user-specified directory that will be kept after the calculations finish.\n",
    "This is especially useful when running molecular dynamics simulations (see below)."
   ]
  },
  {
   "cell_type": "code",
   "execution_count": 6,
   "id": "be3a38a4-7d18-43ec-b512-37ce7a973223",
   "metadata": {},
   "outputs": [
    {
     "data": {
      "text/plain": [
       "-7.6810722351"
      ]
     },
     "execution_count": 6,
     "metadata": {},
     "output_type": "execute_result"
    }
   ],
   "source": [
    "calc.set_directory('my_directory')\n",
    "structure.get_potential_energy()"
   ]
  },
  {
   "cell_type": "markdown",
   "id": "2eaa6432-df7c-4de5-bb66-f299bf002c6a",
   "metadata": {},
   "source": [
    "After this is run, there should be a new directory, `my_directory`, in which input and output files from GPUMD are available.\n",
    "This can be useful for debugging."
   ]
  },
  {
   "cell_type": "markdown",
   "id": "c0003105-86a3-4253-94c5-26f10c27dbc7",
   "metadata": {},
   "source": [
    "### Running custom molecular dynamics simulations\n",
    "To take advantage of the Python workflow as well as raw speed of the GPU accelerated NEP implementation, the `GPUNEP` calculator contains a convenience function for running customized molecular dynamics simulations.\n",
    "This should typically be done in a specified directory.\n",
    "The [parameters of the run.in file](https://gpumd.zheyongfan.org/index.php/Main_Page#Inputs_for_the_src.2Fgpumd_executable) are specified as a list of tuples with two elements, the first being the keyword name and the second any arguments to that keyword."
   ]
  },
  {
   "cell_type": "code",
   "execution_count": 7,
   "id": "f8e8954f-cebb-4d22-a0b6-670603d03ce9",
   "metadata": {},
   "outputs": [],
   "source": [
    "calc.set_directory('my_md_simulation')\n",
    "supercell = structure.repeat(5)\n",
    "structure.calc = calc\n",
    "parameters = [('velocity', 300),\n",
    "              ('dump_thermo', 100),\n",
    "              ('dump_position', 100),\n",
    "              ('ensemble', ('nvt_lan', 300, 300, 100)),\n",
    "              ('run', 1000)]\n",
    "calc.run_custom_md(parameters)"
   ]
  },
  {
   "cell_type": "markdown",
   "id": "f6b6f5e1-c44c-45d1-bb5d-f522393a8cd2",
   "metadata": {},
   "source": [
    "Once this is run, the results are available in the folder `my_md_simulations`."
   ]
  }
 ],
 "metadata": {
  "kernelspec": {
   "display_name": "Python 3 (ipykernel)",
   "language": "python",
   "name": "python3"
  },
  "language_info": {
   "codemirror_mode": {
    "name": "ipython",
    "version": 3
   },
   "file_extension": ".py",
   "mimetype": "text/x-python",
   "name": "python",
   "nbconvert_exporter": "python",
   "pygments_lexer": "ipython3",
   "version": "3.10.4"
  },
  "vscode": {
   "interpreter": {
    "hash": "6be099dd3823815779ed5b2d986ab000320f08fb94733d934e13608f08061690"
   }
  }
 },
 "nbformat": 4,
 "nbformat_minor": 5
}
