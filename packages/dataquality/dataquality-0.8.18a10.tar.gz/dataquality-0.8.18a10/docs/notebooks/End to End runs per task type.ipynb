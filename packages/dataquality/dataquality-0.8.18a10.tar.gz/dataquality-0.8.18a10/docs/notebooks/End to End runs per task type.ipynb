{
 "cells": [
  {
   "cell_type": "markdown",
   "id": "579f0cbf",
   "metadata": {},
   "source": [
    "## End to end examples logging data to Galileo for Text Classification, MLTC, and NER"
   ]
  },
  {
   "cell_type": "markdown",
   "id": "27921069",
   "metadata": {},
   "source": [
    "### For understanding the client and how to get started, see the [Dataquality Demo](./Dataquality-Client-Demo.ipynb)\n",
    "### Check out the full documentation [here](https://rungalileo.gitbook.io/galileo/getting-started)\n",
    "### To see real end-to-end notebooks training real ML models, see [here](https://drive.google.com/drive/folders/17-cHuRzXIpWaD8rYwy69RMQr__HiAiDk?usp=sharing)"
   ]
  },
  {
   "cell_type": "code",
   "execution_count": null,
   "id": "df9b0c5a",
   "metadata": {},
   "outputs": [],
   "source": [
    "## Local\n",
    "\n",
    "import os\n",
    "\n",
    "os.environ['GALILEO_CONSOLE_URL']=\"http://localhost:8088\"\n",
    "os.environ[\"GALILEO_USERNAME\"]=\"user@example.com\"\n",
    "os.environ[\"GALILEO_PASSWORD\"]=\"Th3secret_\""
   ]
  },
  {
   "cell_type": "code",
   "execution_count": 5,
   "id": "cfe0711c",
   "metadata": {
    "scrolled": true
   },
   "outputs": [
    {
     "name": "stdout",
     "output_type": "stream",
     "text": [
      "📡 https://console.dev.rungalileo.io\n",
      "🔭 Logging you into Galileo\n",
      "\n",
      "Go to https://console.dev.rungalileo.io/get-token to generate a new API Key\n",
      "🔐 Enter your API Key:········\n",
      "🚀 You're logged in to Galileo as galileo@rungalileo.io!\n"
     ]
    }
   ],
   "source": [
    "import dataquality as dq\n",
    "dq.login()"
   ]
  },
  {
   "cell_type": "markdown",
   "id": "098fd219",
   "metadata": {},
   "source": [
    "## Text Classification"
   ]
  },
  {
   "cell_type": "code",
   "execution_count": 7,
   "id": "13574b3e",
   "metadata": {
    "scrolled": true
   },
   "outputs": [
    {
     "name": "stdout",
     "output_type": "stream",
     "text": [
      "✨ Initializing existing public project 'foo'\n",
      "🏃‍♂️ Fetching existing run 'bar'\n",
      "🛰 Connected to existing project 'foo', and existing run 'bar'.\n"
     ]
    },
    {
     "name": "stderr",
     "output_type": "stream",
     "text": [
      "/Users/benepstein/Documents/GitHub/dataquality/.venv/lib/python3.9/site-packages/dataquality/core/init.py:141: UserWarning: Run: foo/bar already exists! The existing run will get overwritten on call to finish()!\n",
      "  warnings.warn(\n"
     ]
    },
    {
     "name": "stdout",
     "output_type": "stream",
     "text": [
      "Logging input data\n",
      "Logging 11314 samples [########################################] 100.00% elapsed time  :     0.03s =  0.0m =  0.0h\n",
      "Logging 11314 samples [########################################] 100.00% elapsed time  :     0.01s =  0.0m =  0.0h\n",
      " Done\n",
      "Input logging took 0.17795276641845703 seconds\n",
      "\n",
      "\n",
      "Logging model outputs\n",
      "Epoch 0\n",
      "----------------------------------------------------------------------------------------------------\n",
      "Training\n"
     ]
    },
    {
     "data": {
      "application/json": {
       "ascii": false,
       "bar_format": null,
       "colour": null,
       "elapsed": 0.018573999404907227,
       "initial": 0,
       "n": 0,
       "ncols": null,
       "nrows": 82,
       "postfix": null,
       "prefix": "",
       "rate": null,
       "total": 708,
       "unit": "it",
       "unit_divisor": 1000,
       "unit_scale": false
      },
      "application/vnd.jupyter.widget-view+json": {
       "model_id": "c40d53246ddb4b369621c58a803e4536",
       "version_major": 2,
       "version_minor": 0
      },
      "text/plain": [
       "  0%|          | 0/708 [00:00<?, ?it/s]"
      ]
     },
     "metadata": {},
     "output_type": "display_data"
    },
    {
     "name": "stderr",
     "output_type": "stream",
     "text": [
      "/Users/benepstein/Documents/GitHub/dataquality/.venv/lib/python3.9/site-packages/dataquality/loggers/model_logger/text_classification.py:131: UserWarning: Usage of probs is deprecated, use logits instead\n",
      "  warnings.warn(\"Usage of probs is deprecated, use logits instead\")\n"
     ]
    },
    {
     "name": "stdout",
     "output_type": "stream",
     "text": [
      "Test\n"
     ]
    },
    {
     "data": {
      "application/json": {
       "ascii": false,
       "bar_format": null,
       "colour": null,
       "elapsed": 0.018358945846557617,
       "initial": 0,
       "n": 0,
       "ncols": null,
       "nrows": 82,
       "postfix": null,
       "prefix": "",
       "rate": null,
       "total": 708,
       "unit": "it",
       "unit_divisor": 1000,
       "unit_scale": false
      },
      "application/vnd.jupyter.widget-view+json": {
       "model_id": "5e79544ab1f54d1c9b5d01a2882f20a7",
       "version_major": 2,
       "version_minor": 0
      },
      "text/plain": [
       "  0%|          | 0/708 [00:00<?, ?it/s]"
      ]
     },
     "metadata": {},
     "output_type": "display_data"
    },
    {
     "name": "stdout",
     "output_type": "stream",
     "text": [
      "Validation\n"
     ]
    },
    {
     "data": {
      "application/json": {
       "ascii": false,
       "bar_format": null,
       "colour": null,
       "elapsed": 0.016396045684814453,
       "initial": 0,
       "n": 0,
       "ncols": null,
       "nrows": 82,
       "postfix": null,
       "prefix": "",
       "rate": null,
       "total": 708,
       "unit": "it",
       "unit_divisor": 1000,
       "unit_scale": false
      },
      "application/vnd.jupyter.widget-view+json": {
       "model_id": "f4e0c222cdbe4da08e11de0843fada3d",
       "version_major": 2,
       "version_minor": 0
      },
      "text/plain": [
       "  0%|          | 0/708 [00:00<?, ?it/s]"
      ]
     },
     "metadata": {},
     "output_type": "display_data"
    },
    {
     "name": "stdout",
     "output_type": "stream",
     "text": [
      "----------------------------------------------------------------------------------------------------\n",
      "\n",
      "Epoch 1\n",
      "----------------------------------------------------------------------------------------------------\n",
      "Training\n"
     ]
    },
    {
     "data": {
      "application/json": {
       "ascii": false,
       "bar_format": null,
       "colour": null,
       "elapsed": 0.019218921661376953,
       "initial": 0,
       "n": 0,
       "ncols": null,
       "nrows": 82,
       "postfix": null,
       "prefix": "",
       "rate": null,
       "total": 708,
       "unit": "it",
       "unit_divisor": 1000,
       "unit_scale": false
      },
      "application/vnd.jupyter.widget-view+json": {
       "model_id": "b2464761a4204f7f80bed97b5ce7dd69",
       "version_major": 2,
       "version_minor": 0
      },
      "text/plain": [
       "  0%|          | 0/708 [00:00<?, ?it/s]"
      ]
     },
     "metadata": {},
     "output_type": "display_data"
    },
    {
     "name": "stdout",
     "output_type": "stream",
     "text": [
      "Test\n"
     ]
    },
    {
     "data": {
      "application/json": {
       "ascii": false,
       "bar_format": null,
       "colour": null,
       "elapsed": 0.019725799560546875,
       "initial": 0,
       "n": 0,
       "ncols": null,
       "nrows": 82,
       "postfix": null,
       "prefix": "",
       "rate": null,
       "total": 708,
       "unit": "it",
       "unit_divisor": 1000,
       "unit_scale": false
      },
      "application/vnd.jupyter.widget-view+json": {
       "model_id": "035faad51635441e825d811a56469709",
       "version_major": 2,
       "version_minor": 0
      },
      "text/plain": [
       "  0%|          | 0/708 [00:00<?, ?it/s]"
      ]
     },
     "metadata": {},
     "output_type": "display_data"
    },
    {
     "name": "stdout",
     "output_type": "stream",
     "text": [
      "Validation\n"
     ]
    },
    {
     "data": {
      "application/json": {
       "ascii": false,
       "bar_format": null,
       "colour": null,
       "elapsed": 0.01751995086669922,
       "initial": 0,
       "n": 0,
       "ncols": null,
       "nrows": 82,
       "postfix": null,
       "prefix": "",
       "rate": null,
       "total": 708,
       "unit": "it",
       "unit_divisor": 1000,
       "unit_scale": false
      },
      "application/vnd.jupyter.widget-view+json": {
       "model_id": "af103d50336142dd82d2e1bb2fd12bea",
       "version_major": 2,
       "version_minor": 0
      },
      "text/plain": [
       "  0%|          | 0/708 [00:00<?, ?it/s]"
      ]
     },
     "metadata": {},
     "output_type": "display_data"
    },
    {
     "name": "stdout",
     "output_type": "stream",
     "text": [
      "----------------------------------------------------------------------------------------------------\n",
      "\n",
      "Epoch 2\n",
      "----------------------------------------------------------------------------------------------------\n",
      "Training\n"
     ]
    },
    {
     "data": {
      "application/json": {
       "ascii": false,
       "bar_format": null,
       "colour": null,
       "elapsed": 0.01684093475341797,
       "initial": 0,
       "n": 0,
       "ncols": null,
       "nrows": 82,
       "postfix": null,
       "prefix": "",
       "rate": null,
       "total": 708,
       "unit": "it",
       "unit_divisor": 1000,
       "unit_scale": false
      },
      "application/vnd.jupyter.widget-view+json": {
       "model_id": "e0d33a13ad914028bbc070e055ddf51b",
       "version_major": 2,
       "version_minor": 0
      },
      "text/plain": [
       "  0%|          | 0/708 [00:00<?, ?it/s]"
      ]
     },
     "metadata": {},
     "output_type": "display_data"
    },
    {
     "name": "stdout",
     "output_type": "stream",
     "text": [
      "Test\n"
     ]
    },
    {
     "data": {
      "application/json": {
       "ascii": false,
       "bar_format": null,
       "colour": null,
       "elapsed": 0.027041196823120117,
       "initial": 0,
       "n": 0,
       "ncols": null,
       "nrows": 82,
       "postfix": null,
       "prefix": "",
       "rate": null,
       "total": 708,
       "unit": "it",
       "unit_divisor": 1000,
       "unit_scale": false
      },
      "application/vnd.jupyter.widget-view+json": {
       "model_id": "1e2622dd1d264bdb9e7ec8ec1fbd8876",
       "version_major": 2,
       "version_minor": 0
      },
      "text/plain": [
       "  0%|          | 0/708 [00:00<?, ?it/s]"
      ]
     },
     "metadata": {},
     "output_type": "display_data"
    },
    {
     "name": "stdout",
     "output_type": "stream",
     "text": [
      "Validation\n"
     ]
    },
    {
     "data": {
      "application/json": {
       "ascii": false,
       "bar_format": null,
       "colour": null,
       "elapsed": 0.03360700607299805,
       "initial": 0,
       "n": 0,
       "ncols": null,
       "nrows": 82,
       "postfix": null,
       "prefix": "",
       "rate": null,
       "total": 708,
       "unit": "it",
       "unit_divisor": 1000,
       "unit_scale": false
      },
      "application/vnd.jupyter.widget-view+json": {
       "model_id": "e098753bb53e4e50b01f07b9b2f79402",
       "version_major": 2,
       "version_minor": 0
      },
      "text/plain": [
       "  0%|          | 0/708 [00:00<?, ?it/s]"
      ]
     },
     "metadata": {},
     "output_type": "display_data"
    },
    {
     "name": "stdout",
     "output_type": "stream",
     "text": [
      "----------------------------------------------------------------------------------------------------\n",
      "\n",
      "Epoch 3\n",
      "----------------------------------------------------------------------------------------------------\n",
      "Training\n"
     ]
    },
    {
     "data": {
      "application/json": {
       "ascii": false,
       "bar_format": null,
       "colour": null,
       "elapsed": 0.017370939254760742,
       "initial": 0,
       "n": 0,
       "ncols": null,
       "nrows": 82,
       "postfix": null,
       "prefix": "",
       "rate": null,
       "total": 708,
       "unit": "it",
       "unit_divisor": 1000,
       "unit_scale": false
      },
      "application/vnd.jupyter.widget-view+json": {
       "model_id": "a433c7be3b454fce93a0e43e6d9ac1dd",
       "version_major": 2,
       "version_minor": 0
      },
      "text/plain": [
       "  0%|          | 0/708 [00:00<?, ?it/s]"
      ]
     },
     "metadata": {},
     "output_type": "display_data"
    },
    {
     "name": "stdout",
     "output_type": "stream",
     "text": [
      "Test\n"
     ]
    },
    {
     "data": {
      "application/json": {
       "ascii": false,
       "bar_format": null,
       "colour": null,
       "elapsed": 0.031221866607666016,
       "initial": 0,
       "n": 0,
       "ncols": null,
       "nrows": 82,
       "postfix": null,
       "prefix": "",
       "rate": null,
       "total": 708,
       "unit": "it",
       "unit_divisor": 1000,
       "unit_scale": false
      },
      "application/vnd.jupyter.widget-view+json": {
       "model_id": "6d97cce95104420e877ba3bc27b891dc",
       "version_major": 2,
       "version_minor": 0
      },
      "text/plain": [
       "  0%|          | 0/708 [00:00<?, ?it/s]"
      ]
     },
     "metadata": {},
     "output_type": "display_data"
    },
    {
     "name": "stdout",
     "output_type": "stream",
     "text": [
      "Validation\n"
     ]
    },
    {
     "data": {
      "application/json": {
       "ascii": false,
       "bar_format": null,
       "colour": null,
       "elapsed": 0.03224778175354004,
       "initial": 0,
       "n": 0,
       "ncols": null,
       "nrows": 82,
       "postfix": null,
       "prefix": "",
       "rate": null,
       "total": 708,
       "unit": "it",
       "unit_divisor": 1000,
       "unit_scale": false
      },
      "application/vnd.jupyter.widget-view+json": {
       "model_id": "4c44486f3eed4499baaa7c155c4b7e48",
       "version_major": 2,
       "version_minor": 0
      },
      "text/plain": [
       "  0%|          | 0/708 [00:00<?, ?it/s]"
      ]
     },
     "metadata": {},
     "output_type": "display_data"
    },
    {
     "name": "stdout",
     "output_type": "stream",
     "text": [
      "----------------------------------------------------------------------------------------------------\n",
      "\n",
      "Epoch 4\n",
      "----------------------------------------------------------------------------------------------------\n",
      "Training\n"
     ]
    },
    {
     "data": {
      "application/json": {
       "ascii": false,
       "bar_format": null,
       "colour": null,
       "elapsed": 0.028074979782104492,
       "initial": 0,
       "n": 0,
       "ncols": null,
       "nrows": 82,
       "postfix": null,
       "prefix": "",
       "rate": null,
       "total": 708,
       "unit": "it",
       "unit_divisor": 1000,
       "unit_scale": false
      },
      "application/vnd.jupyter.widget-view+json": {
       "model_id": "277ab4e90619435092e652cb7e1f6ad5",
       "version_major": 2,
       "version_minor": 0
      },
      "text/plain": [
       "  0%|          | 0/708 [00:00<?, ?it/s]"
      ]
     },
     "metadata": {},
     "output_type": "display_data"
    },
    {
     "name": "stdout",
     "output_type": "stream",
     "text": [
      "Test\n"
     ]
    },
    {
     "data": {
      "application/json": {
       "ascii": false,
       "bar_format": null,
       "colour": null,
       "elapsed": 0.034182071685791016,
       "initial": 0,
       "n": 0,
       "ncols": null,
       "nrows": 82,
       "postfix": null,
       "prefix": "",
       "rate": null,
       "total": 708,
       "unit": "it",
       "unit_divisor": 1000,
       "unit_scale": false
      },
      "application/vnd.jupyter.widget-view+json": {
       "model_id": "326ce68dc8584d9984191e18233f3619",
       "version_major": 2,
       "version_minor": 0
      },
      "text/plain": [
       "  0%|          | 0/708 [00:00<?, ?it/s]"
      ]
     },
     "metadata": {},
     "output_type": "display_data"
    },
    {
     "name": "stdout",
     "output_type": "stream",
     "text": [
      "Validation\n"
     ]
    },
    {
     "data": {
      "application/json": {
       "ascii": false,
       "bar_format": null,
       "colour": null,
       "elapsed": 0.01924300193786621,
       "initial": 0,
       "n": 0,
       "ncols": null,
       "nrows": 82,
       "postfix": null,
       "prefix": "",
       "rate": null,
       "total": 708,
       "unit": "it",
       "unit_divisor": 1000,
       "unit_scale": false
      },
      "application/vnd.jupyter.widget-view+json": {
       "model_id": "b82a06a64f9241cba06feb3679a16f9d",
       "version_major": 2,
       "version_minor": 0
      },
      "text/plain": [
       "  0%|          | 0/708 [00:00<?, ?it/s]"
      ]
     },
     "metadata": {},
     "output_type": "display_data"
    },
    {
     "name": "stdout",
     "output_type": "stream",
     "text": [
      "----------------------------------------------------------------------------------------------------\n",
      "\n",
      "Done\n",
      "Logging output took 66.86106634140015 seconds\n"
     ]
    }
   ],
   "source": [
    "from tqdm.notebook import tqdm\n",
    "import time\n",
    "import numpy as np\n",
    "from uuid import uuid4\n",
    "import pandas as pd\n",
    "from sklearn.datasets import fetch_20newsgroups\n",
    "\n",
    "\n",
    "BATCH_SIZE=16\n",
    "EMB_DIM=768\n",
    "NUM_EPOCHS=5\n",
    "\n",
    "dq.init(\"text_classification\", \"foo\", \"bar\")\n",
    "\n",
    "newsgroups = fetch_20newsgroups(subset=\"train\", remove=('headers', 'footers', 'quotes'))\n",
    "dataset = pd.DataFrame()\n",
    "dataset[\"text\"] = newsgroups.data\n",
    "label_ind = newsgroups.target_names\n",
    "dataset[\"label\"] = [label_ind[i] for i in newsgroups.target]\n",
    "dataset[\"id\"] = list(range(len(dataset)))\n",
    "\n",
    "# dataset = dataset[:200]\n",
    "\n",
    "\n",
    "def generate_random_embeddings(batch_size: int, emb_dims: int) -> np.ndarray:\n",
    "    return np.random.rand(batch_size, emb_dims)\n",
    "\n",
    "\n",
    "def generate_random_probabilities(batch_size: int, num_classes: int) -> np.ndarray:\n",
    "    probs = np.random.rand(batch_size, num_classes)\n",
    "    return probs / probs.sum(axis=-1).reshape(-1, 1)  # Normalize to sum to 1\n",
    "\n",
    "\n",
    "t_start = time.time()\n",
    "dq.set_labels_for_run(dataset[\"label\"].unique())\n",
    "\n",
    "print(\"Logging input data\")\n",
    "for split in [\"training\", \"test\"]:\n",
    "    dq.log_dataset(dataset, split=split)\n",
    "    \n",
    "print(\"Done\")\n",
    "print(f\"Input logging took {time.time() - t_start} seconds\\n\\n\")\n",
    "\n",
    "\n",
    "print(\"Logging model outputs\")\n",
    "t_start = time.time()\n",
    "num_classes = dataset[\"label\"].nunique()\n",
    "# Simulates model training loop\n",
    "for epoch_idx in range(NUM_EPOCHS):\n",
    "    print(f\"Epoch {epoch_idx}\")\n",
    "    print('-'*100)\n",
    "    for split in [\"training\", \"test\", \"validation\"]:\n",
    "        print(split.capitalize())\n",
    "        dq.set_split(split)\n",
    "        for i in tqdm(range(0, len(dataset), BATCH_SIZE)):\n",
    "            batch = dataset[i : i + BATCH_SIZE]\n",
    "            embeddings = generate_random_embeddings(len(batch), EMB_DIM)\n",
    "            probs = generate_random_probabilities(len(batch), num_classes)\n",
    "            dq.log_model_outputs(\n",
    "                embs=embeddings,\n",
    "                probs=probs,\n",
    "                epoch=epoch_idx,\n",
    "                ids=batch[\"id\"],\n",
    "            )\n",
    "    print('-'*100,end=\"\\n\\n\")\n",
    "            \n",
    "print(\"Done\")\n",
    "\n",
    "time_spent = time.time() - t_start\n",
    "print(f\"Logging output took {time_spent} seconds\")"
   ]
  },
  {
   "cell_type": "code",
   "execution_count": 59,
   "id": "6514ed3d",
   "metadata": {},
   "outputs": [
    {
     "data": {
      "application/json": {
       "ascii": false,
       "bar_format": null,
       "colour": null,
       "elapsed": 0.02408003807067871,
       "initial": 0,
       "n": 0,
       "ncols": null,
       "nrows": 82,
       "postfix": null,
       "prefix": "",
       "rate": null,
       "total": 708,
       "unit": "it",
       "unit_divisor": 1000,
       "unit_scale": false
      },
      "application/vnd.jupyter.widget-view+json": {
       "model_id": "4e68ffcfa41642ccb7afb1c66c40a752",
       "version_major": 2,
       "version_minor": 0
      },
      "text/plain": [
       "  0%|          | 0/708 [00:00<?, ?it/s]"
      ]
     },
     "metadata": {},
     "output_type": "display_data"
    },
    {
     "name": "stderr",
     "output_type": "stream",
     "text": [
      "/Users/benepstein/Documents/GitHub/dataquality/.venv/lib/python3.9/site-packages/dataquality/loggers/model_logger/text_classification.py:131: UserWarning: Usage of probs is deprecated, use logits instead\n",
      "  warnings.warn(\"Usage of probs is deprecated, use logits instead\")\n"
     ]
    }
   ],
   "source": [
    "dq.log_dataset(dataset[[\"text\", \"id\"]], split=\"inference\", inference_name=\"inf_1\")\n",
    "for i in tqdm(range(0, len(dataset), BATCH_SIZE)):\n",
    "    batch = dataset[i : i + BATCH_SIZE]\n",
    "    embeddings = generate_random_embeddings(len(batch), EMB_DIM)\n",
    "    probs = generate_random_probabilities(len(batch), num_classes)\n",
    "    dq.log_model_outputs(\n",
    "        embs=embeddings,\n",
    "        probs=probs,\n",
    "        epoch=epoch_idx,\n",
    "        ids=batch[\"id\"],\n",
    "        split=\"inference\",\n",
    "        inference_name=\"inf_1\"\n",
    "    )"
   ]
  },
  {
   "cell_type": "code",
   "execution_count": 60,
   "id": "c01cc81b",
   "metadata": {},
   "outputs": [
    {
     "name": "stdout",
     "output_type": "stream",
     "text": [
      "\u001b[01;34m/Users/benepstein/.galileo/logs/97c672ec-196d-4a8c-891f-404620104533/6f0c6498-94f3-4d8b-a14b-46f2fb373a3b/input_data\u001b[00m\r\n",
      "├── \u001b[01;34minference\u001b[00m\r\n",
      "│   └── data_0.arrow\r\n",
      "├── \u001b[01;34mtest\u001b[00m\r\n",
      "│   └── data_0.arrow\r\n",
      "├── \u001b[01;34mtraining\u001b[00m\r\n",
      "│   └── data_0.arrow\r\n",
      "└── \u001b[01;34mvalidation\u001b[00m\r\n",
      "    └── data_0.arrow\r\n",
      "\r\n",
      "4 directories, 4 files\r\n"
     ]
    }
   ],
   "source": [
    "!tree ~/.galileo/logs/{dq.config.current_project_id}/{dq.config.current_run_id}/input_data"
   ]
  },
  {
   "cell_type": "code",
   "execution_count": 63,
   "id": "cacd1fc3",
   "metadata": {},
   "outputs": [
    {
     "name": "stdout",
     "output_type": "stream",
     "text": [
      "data_0.arrow\r\n"
     ]
    },
    {
     "data": {
      "text/plain": [
       "45256"
      ]
     },
     "execution_count": 63,
     "metadata": {},
     "output_type": "execute_result"
    }
   ],
   "source": [
    "!ls ~/.galileo/logs/{dq.config.current_project_id}/{dq.config.current_run_id}/input_data/training\n",
    "import vaex\n",
    "\n",
    "df = vaex.open(\n",
    "    f\"/Users/benepstein/.galileo/logs/{dq.config.current_project_id}/{dq.config.current_run_id}/input_data/**/data*.arrow\"\n",
    ")\n",
    "len(df)\n",
    "\n"
   ]
  },
  {
   "cell_type": "code",
   "execution_count": 64,
   "id": "df80cf10",
   "metadata": {},
   "outputs": [
    {
     "data": {
      "text/html": [
       "<table>\n",
       "<thead>\n",
       "<tr><th>#                                 </th><th>id   </th><th>text                                                </th><th>split     </th><th>data_schema_version  </th><th>gold                    </th><th>inference_name  </th></tr>\n",
       "</thead>\n",
       "<tbody>\n",
       "<tr><td><i style='opacity: 0.6'>0</i>     </td><td>0    </td><td>&#x27;I was wondering if anyone out there could enlig... </td><td>inference </td><td>1                    </td><td>nan                     </td><td>inf_1           </td></tr>\n",
       "<tr><td><i style='opacity: 0.6'>1</i>     </td><td>1    </td><td>&#x27;A fair number of brave souls who upgraded their... </td><td>inference </td><td>1                    </td><td>nan                     </td><td>inf_1           </td></tr>\n",
       "<tr><td><i style='opacity: 0.6'>2</i>     </td><td>2    </td><td>&#x27;well folks, my mac plus finally gave up the gho... </td><td>inference </td><td>1                    </td><td>nan                     </td><td>inf_1           </td></tr>\n",
       "<tr><td><i style='opacity: 0.6'>3</i>     </td><td>3    </td><td>&quot;\\nDo you have Weitek&#x27;s address/phone number?  I&#x27;...</td><td>inference </td><td>1                    </td><td>nan                     </td><td>inf_1           </td></tr>\n",
       "<tr><td><i style='opacity: 0.6'>4</i>     </td><td>4    </td><td>&#x27;From article &lt;C5owCB.n3p@world.std.com&gt;, by tom... </td><td>inference </td><td>1                    </td><td>nan                     </td><td>inf_1           </td></tr>\n",
       "<tr><td>...                               </td><td>...  </td><td>...                                                 </td><td>...       </td><td>...                  </td><td>...                     </td><td>...             </td></tr>\n",
       "<tr><td><i style='opacity: 0.6'>45,251</i></td><td>11309</td><td>&#x27;DN&gt; From: nyeda@cnsvax.uwec.edu (David Nye)\\nDN&gt;...</td><td>validation</td><td>1                    </td><td>sci.med                 </td><td>--              </td></tr>\n",
       "<tr><td><i style='opacity: 0.6'>45,252</i></td><td>11310</td><td>&#x27;I have a (very old) Mac 512k and a Mac Plus, bo... </td><td>validation</td><td>1                    </td><td>comp.sys.mac.hardware   </td><td>--              </td></tr>\n",
       "<tr><td><i style='opacity: 0.6'>45,253</i></td><td>11311</td><td>&#x27;I just installed a DX2-66 CPU in a clone mother... </td><td>validation</td><td>1                    </td><td>comp.sys.ibm.pc.hardware</td><td>--              </td></tr>\n",
       "<tr><td><i style='opacity: 0.6'>45,254</i></td><td>11312</td><td>&quot;\\nWouldn&#x27;t this require a hyper-sphere.  In 3-sp...</td><td>validation</td><td>1                    </td><td>comp.graphics           </td><td>--              </td></tr>\n",
       "<tr><td><i style='opacity: 0.6'>45,255</i></td><td>11313</td><td>&#x27;Stolen from Pasadena between 4:30 and 6:30 pm o... </td><td>validation</td><td>1                    </td><td>rec.motorcycles         </td><td>--              </td></tr>\n",
       "</tbody>\n",
       "</table>"
      ],
      "text/plain": [
       "#       id     text                                                  split       data_schema_version    gold                      inference_name\n",
       "0       0      'I was wondering if anyone out there could enlig...   inference   1                      nan                       inf_1\n",
       "1       1      'A fair number of brave souls who upgraded their...   inference   1                      nan                       inf_1\n",
       "2       2      'well folks, my mac plus finally gave up the gho...   inference   1                      nan                       inf_1\n",
       "3       3      \"\\nDo you have Weitek's address/phone number?  I'...  inference   1                      nan                       inf_1\n",
       "4       4      'From article <C5owCB.n3p@world.std.com>, by tom...   inference   1                      nan                       inf_1\n",
       "...     ...    ...                                                   ...         ...                    ...                       ...\n",
       "45,251  11309  'DN> From: nyeda@cnsvax.uwec.edu (David Nye)\\nDN>...  validation  1                      sci.med                   --\n",
       "45,252  11310  'I have a (very old) Mac 512k and a Mac Plus, bo...   validation  1                      comp.sys.mac.hardware     --\n",
       "45,253  11311  'I just installed a DX2-66 CPU in a clone mother...   validation  1                      comp.sys.ibm.pc.hardware  --\n",
       "45,254  11312  \"\\nWouldn't this require a hyper-sphere.  In 3-sp...  validation  1                      comp.graphics             --\n",
       "45,255  11313  'Stolen from Pasadena between 4:30 and 6:30 pm o...   validation  1                      rec.motorcycles           --"
      ]
     },
     "execution_count": 64,
     "metadata": {},
     "output_type": "execute_result"
    }
   ],
   "source": [
    "df"
   ]
  },
  {
   "cell_type": "code",
   "execution_count": 67,
   "id": "ecbe16e2",
   "metadata": {},
   "outputs": [
    {
     "name": "stdout",
     "output_type": "stream",
     "text": [
      "0 95644352\n",
      "1 95644352\n",
      "2 95644352\n",
      "3 95644352\n",
      "4 95644352\n"
     ]
    }
   ],
   "source": [
    "import os\n",
    "# os.path.getsize(\n",
    "#     f\"/Users/benepstein/.galileo/logs/{dq.config.current_project_id}/{dq.config.current_run_id}/input_data\"\n",
    "# )\n",
    "\n",
    "\n",
    "for i in range(5):\n",
    "    path = f\"/Users/benepstein/.galileo/logs/{dq.config.current_project_id}/{dq.config.current_run_id}/training/{i}\"\n",
    "    print(i, sum(os.path.getsize(f\"{path}/{f}\") for f in os.listdir(path) if f.endswith(\".hdf5\")))"
   ]
  },
  {
   "cell_type": "code",
   "execution_count": 74,
   "id": "f5cba8e4",
   "metadata": {},
   "outputs": [
    {
     "name": "stdout",
     "output_type": "stream",
     "text": [
      "\u001b[01;34m/Users/benepstein/.galileo/logs/97c672ec-196d-4a8c-891f-404620104533/6f0c6498-94f3-4d8b-a14b-46f2fb373a3b\u001b[00m\n",
      "├── \u001b[01;34minference\u001b[00m\n",
      "│   └── \u001b[01;34minf_1\u001b[00m\n",
      "├── \u001b[01;34minput_data\u001b[00m\n",
      "│   ├── \u001b[01;34minference\u001b[00m\n",
      "│   ├── \u001b[01;34mtest\u001b[00m\n",
      "│   ├── \u001b[01;34mtraining\u001b[00m\n",
      "│   └── \u001b[01;34mvalidation\u001b[00m\n",
      "├── \u001b[01;34mtest\u001b[00m\n",
      "│   ├── \u001b[01;34m0\u001b[00m\n",
      "│   ├── \u001b[01;34m1\u001b[00m\n",
      "│   ├── \u001b[01;34m2\u001b[00m\n",
      "│   ├── \u001b[01;34m3\u001b[00m\n",
      "│   └── \u001b[01;34m4\u001b[00m\n",
      "├── \u001b[01;34mtraining\u001b[00m\n",
      "│   ├── \u001b[01;34m0\u001b[00m\n",
      "│   ├── \u001b[01;34m1\u001b[00m\n",
      "│   ├── \u001b[01;34m2\u001b[00m\n",
      "│   ├── \u001b[01;34m3\u001b[00m\n",
      "│   └── \u001b[01;34m4\u001b[00m\n",
      "└── \u001b[01;34mvalidation\u001b[00m\n",
      "    ├── \u001b[01;34m0\u001b[00m\n",
      "    ├── \u001b[01;34m1\u001b[00m\n",
      "    ├── \u001b[01;34m2\u001b[00m\n",
      "    ├── \u001b[01;34m3\u001b[00m\n",
      "    └── \u001b[01;34m4\u001b[00m\n",
      "\n",
      "25 directories\n"
     ]
    }
   ],
   "source": [
    "!tree -d ~/.galileo/logs/{dq.config.current_project_id}/{dq.config.current_run_id}"
   ]
  },
  {
   "cell_type": "code",
   "execution_count": 72,
   "id": "63289a78",
   "metadata": {},
   "outputs": [
    {
     "data": {
      "text/plain": [
       "11314.0"
      ]
     },
     "execution_count": 72,
     "metadata": {},
     "output_type": "execute_result"
    }
   ],
   "source": [
    "df = vaex.open(\n",
    "    f\"/Users/benepstein/.galileo/logs/{dq.config.current_project_id}/{dq.config.current_run_id}/input_data/**/data*.arrow\"\n",
    ")\n",
    "len(df)/4"
   ]
  },
  {
   "cell_type": "code",
   "execution_count": 4,
   "id": "578ad827-21fb-499e-8926-e6c3e4ba7f73",
   "metadata": {},
   "outputs": [
    {
     "name": "stdout",
     "output_type": "stream",
     "text": [
      "☁️ Uploading Data\n"
     ]
    },
    {
     "data": {
      "application/json": {
       "ascii": false,
       "bar_format": null,
       "colour": null,
       "elapsed": 0.017872095108032227,
       "initial": 0,
       "n": 0,
       "ncols": null,
       "nrows": 63,
       "postfix": null,
       "prefix": "training",
       "rate": null,
       "total": 1,
       "unit": "it",
       "unit_divisor": 1000,
       "unit_scale": false
      },
      "application/vnd.jupyter.widget-view+json": {
       "model_id": "580e23dc20434d2cb417b9f86421487b",
       "version_major": 2,
       "version_minor": 0
      },
      "text/plain": [
       "training:   0%|          | 0/1 [00:00<?, ?it/s]"
      ]
     },
     "metadata": {},
     "output_type": "display_data"
    },
    {
     "data": {
      "application/json": {
       "ascii": false,
       "bar_format": null,
       "colour": null,
       "elapsed": 0.018838167190551758,
       "initial": 0,
       "n": 0,
       "ncols": null,
       "nrows": 63,
       "postfix": null,
       "prefix": "Processing data for upload",
       "rate": null,
       "total": 13,
       "unit": "it",
       "unit_divisor": 1000,
       "unit_scale": false
      },
      "application/vnd.jupyter.widget-view+json": {
       "model_id": "",
       "version_major": 2,
       "version_minor": 0
      },
      "text/plain": [
       "Processing data for upload:   0%|          | 0/13 [00:00<?, ?it/s]"
      ]
     },
     "metadata": {},
     "output_type": "display_data"
    },
    {
     "data": {
      "application/json": {
       "ascii": false,
       "bar_format": null,
       "colour": null,
       "elapsed": 0.017271995544433594,
       "initial": 0,
       "n": 0,
       "ncols": null,
       "nrows": 63,
       "postfix": null,
       "prefix": "training (epoch=0)",
       "rate": null,
       "total": 3,
       "unit": "it",
       "unit_divisor": 1000,
       "unit_scale": false
      },
      "application/vnd.jupyter.widget-view+json": {
       "model_id": "",
       "version_major": 2,
       "version_minor": 0
      },
      "text/plain": [
       "training (epoch=0):   0%|          | 0/3 [00:00<?, ?it/s]"
      ]
     },
     "metadata": {},
     "output_type": "display_data"
    },
    {
     "data": {
      "application/json": {
       "ascii": false,
       "bar_format": null,
       "colour": null,
       "elapsed": 0.020299911499023438,
       "initial": 0,
       "n": 0,
       "ncols": null,
       "nrows": 63,
       "postfix": null,
       "prefix": "Uploading data to Galileo",
       "rate": null,
       "total": 1241624,
       "unit": "B",
       "unit_divisor": 1024,
       "unit_scale": true
      },
      "application/vnd.jupyter.widget-view+json": {
       "model_id": "",
       "version_major": 2,
       "version_minor": 0
      },
      "text/plain": [
       "Uploading data to Galileo:   0%|          | 0.00/1.18M [00:00<?, ?B/s]"
      ]
     },
     "metadata": {},
     "output_type": "display_data"
    },
    {
     "data": {
      "application/json": {
       "ascii": false,
       "bar_format": null,
       "colour": null,
       "elapsed": 0.021235227584838867,
       "initial": 0,
       "n": 0,
       "ncols": null,
       "nrows": 63,
       "postfix": null,
       "prefix": "Uploading data to Galileo",
       "rate": null,
       "total": 50815,
       "unit": "B",
       "unit_divisor": 1024,
       "unit_scale": true
      },
      "application/vnd.jupyter.widget-view+json": {
       "model_id": "",
       "version_major": 2,
       "version_minor": 0
      },
      "text/plain": [
       "Uploading data to Galileo:   0%|          | 0.00/49.6k [00:00<?, ?B/s]"
      ]
     },
     "metadata": {},
     "output_type": "display_data"
    },
    {
     "data": {
      "application/json": {
       "ascii": false,
       "bar_format": null,
       "colour": null,
       "elapsed": 0.020473003387451172,
       "initial": 0,
       "n": 0,
       "ncols": null,
       "nrows": 63,
       "postfix": null,
       "prefix": "Uploading data to Galileo",
       "rate": null,
       "total": 293206,
       "unit": "B",
       "unit_divisor": 1024,
       "unit_scale": true
      },
      "application/vnd.jupyter.widget-view+json": {
       "model_id": "",
       "version_major": 2,
       "version_minor": 0
      },
      "text/plain": [
       "Uploading data to Galileo:   0%|          | 0.00/286k [00:00<?, ?B/s]"
      ]
     },
     "metadata": {},
     "output_type": "display_data"
    },
    {
     "data": {
      "application/json": {
       "ascii": false,
       "bar_format": null,
       "colour": null,
       "elapsed": 0.019423961639404297,
       "initial": 0,
       "n": 0,
       "ncols": null,
       "nrows": 63,
       "postfix": null,
       "prefix": "test",
       "rate": null,
       "total": 1,
       "unit": "it",
       "unit_divisor": 1000,
       "unit_scale": false
      },
      "application/vnd.jupyter.widget-view+json": {
       "model_id": "5b308a6aa35249d8a8068f4b51e0bab2",
       "version_major": 2,
       "version_minor": 0
      },
      "text/plain": [
       "test:   0%|          | 0/1 [00:00<?, ?it/s]"
      ]
     },
     "metadata": {},
     "output_type": "display_data"
    },
    {
     "data": {
      "application/json": {
       "ascii": false,
       "bar_format": null,
       "colour": null,
       "elapsed": 0.01758098602294922,
       "initial": 0,
       "n": 0,
       "ncols": null,
       "nrows": 63,
       "postfix": null,
       "prefix": "Processing data for upload",
       "rate": null,
       "total": 13,
       "unit": "it",
       "unit_divisor": 1000,
       "unit_scale": false
      },
      "application/vnd.jupyter.widget-view+json": {
       "model_id": "",
       "version_major": 2,
       "version_minor": 0
      },
      "text/plain": [
       "Processing data for upload:   0%|          | 0/13 [00:00<?, ?it/s]"
      ]
     },
     "metadata": {},
     "output_type": "display_data"
    },
    {
     "data": {
      "application/json": {
       "ascii": false,
       "bar_format": null,
       "colour": null,
       "elapsed": 0.017087936401367188,
       "initial": 0,
       "n": 0,
       "ncols": null,
       "nrows": 63,
       "postfix": null,
       "prefix": "test (epoch=0)",
       "rate": null,
       "total": 3,
       "unit": "it",
       "unit_divisor": 1000,
       "unit_scale": false
      },
      "application/vnd.jupyter.widget-view+json": {
       "model_id": "",
       "version_major": 2,
       "version_minor": 0
      },
      "text/plain": [
       "test (epoch=0):   0%|          | 0/3 [00:00<?, ?it/s]"
      ]
     },
     "metadata": {},
     "output_type": "display_data"
    },
    {
     "data": {
      "application/json": {
       "ascii": false,
       "bar_format": null,
       "colour": null,
       "elapsed": 0.018847942352294922,
       "initial": 0,
       "n": 0,
       "ncols": null,
       "nrows": 63,
       "postfix": null,
       "prefix": "Uploading data to Galileo",
       "rate": null,
       "total": 1241624,
       "unit": "B",
       "unit_divisor": 1024,
       "unit_scale": true
      },
      "application/vnd.jupyter.widget-view+json": {
       "model_id": "",
       "version_major": 2,
       "version_minor": 0
      },
      "text/plain": [
       "Uploading data to Galileo:   0%|          | 0.00/1.18M [00:00<?, ?B/s]"
      ]
     },
     "metadata": {},
     "output_type": "display_data"
    },
    {
     "data": {
      "application/json": {
       "ascii": false,
       "bar_format": null,
       "colour": null,
       "elapsed": 0.020061016082763672,
       "initial": 0,
       "n": 0,
       "ncols": null,
       "nrows": 63,
       "postfix": null,
       "prefix": "Uploading data to Galileo",
       "rate": null,
       "total": 50815,
       "unit": "B",
       "unit_divisor": 1024,
       "unit_scale": true
      },
      "application/vnd.jupyter.widget-view+json": {
       "model_id": "",
       "version_major": 2,
       "version_minor": 0
      },
      "text/plain": [
       "Uploading data to Galileo:   0%|          | 0.00/49.6k [00:00<?, ?B/s]"
      ]
     },
     "metadata": {},
     "output_type": "display_data"
    },
    {
     "data": {
      "application/json": {
       "ascii": false,
       "bar_format": null,
       "colour": null,
       "elapsed": 0.020372867584228516,
       "initial": 0,
       "n": 0,
       "ncols": null,
       "nrows": 63,
       "postfix": null,
       "prefix": "Uploading data to Galileo",
       "rate": null,
       "total": 292410,
       "unit": "B",
       "unit_divisor": 1024,
       "unit_scale": true
      },
      "application/vnd.jupyter.widget-view+json": {
       "model_id": "",
       "version_major": 2,
       "version_minor": 0
      },
      "text/plain": [
       "Uploading data to Galileo:   0%|          | 0.00/286k [00:00<?, ?B/s]"
      ]
     },
     "metadata": {},
     "output_type": "display_data"
    },
    {
     "name": "stdout",
     "output_type": "stream",
     "text": [
      "Job default successfully submitted. Results will be available soon at https://console.dev.rungalileo.io/insights?projectId=97c672ec-196d-4a8c-891f-404620104533&runId=6f0c6498-94f3-4d8b-a14b-46f2fb373a3b&split=training&metric=f1&depHigh=1&depLow=0&taskType=0\n",
      "Waiting for job...\n",
      "\tApplying dimensionality reduction to embs\n",
      "\tCalculating training data error potential\n",
      "\tMeasuring class overlap\n",
      "\tSaving processed training data\n",
      "\tMeasuring class overlap\n",
      "\tSaving processed test data\n",
      "Done! Job finished with status completed\n",
      "Click here to see your run! https://console.dev.rungalileo.io/insights?projectId=97c672ec-196d-4a8c-891f-404620104533&runId=6f0c6498-94f3-4d8b-a14b-46f2fb373a3b&split=training&metric=f1&depHigh=1&depLow=0&taskType=0\n",
      "🧹 Cleaning up\n",
      "🧹 Cleaning up\n"
     ]
    },
    {
     "data": {
      "text/plain": [
       "'https://console.dev.rungalileo.io/insights?projectId=97c672ec-196d-4a8c-891f-404620104533&runId=6f0c6498-94f3-4d8b-a14b-46f2fb373a3b&split=training&metric=f1&depHigh=1&depLow=0&taskType=0'"
      ]
     },
     "execution_count": 4,
     "metadata": {},
     "output_type": "execute_result"
    }
   ],
   "source": [
    "dq.finish()"
   ]
  },
  {
   "cell_type": "markdown",
   "id": "d4684dd5",
   "metadata": {},
   "source": [
    "## Multi Label"
   ]
  },
  {
   "cell_type": "code",
   "execution_count": null,
   "id": "06f17ab5",
   "metadata": {
    "scrolled": true
   },
   "outputs": [],
   "source": [
    "from typing import *\n",
    "from random import choice\n",
    "import numpy as np\n",
    "\n",
    "\n",
    "dq.init(\"text_multi_label\", \"test-mltc-run\")\n",
    "dq.set_labels_for_run([[\"not \"+_label, _label] for _label in ['toxic', 'severe_toxic', 'obscene', 'threat', 'insult','identity_hate']]) \n",
    "dq.set_tasks_for_run(['task_0', 'task_1', 'task_2', 'task_3', 'task_4', 'task_5'])\n",
    "\n",
    "n = 5000\n",
    "\n",
    "texts: List[str] = [f\"text sample {i}\" for i in range(n)]\n",
    "\n",
    "labels: List[str] = [\n",
    "    [choice(i) for i in dq.get_data_logger().logger_config.labels]\n",
    "    for _ in range(n)\n",
    "]\n",
    "\n",
    "ids = list(range(n))\n",
    "\n",
    "\n",
    "dq.log_data_samples(texts=texts, task_labels=labels, ids=ids, split=\"training\")\n",
    "dq.log_data_samples(texts=texts, task_labels=labels, ids=ids, split=\"test\")\n",
    "dq.log_data_samples(texts=texts, task_labels=labels, ids=ids, split=\"validation\")\n",
    "\n",
    "for split in [\"training\", \"test\", \"validation\"]:\n",
    "    for epoch in range(5):\n",
    "        emb=np.random.rand(n, 768)\n",
    "        logits=[[np.random.rand(2)] * 6] * n\n",
    "        ids=list(range(n))\n",
    "        \n",
    "        for i in range(0, n, 32):\n",
    "            dq.log_model_outputs(\n",
    "                embs=emb[i:i+5],\n",
    "                logits=logits[i:i+5],\n",
    "                ids=ids[i:i+5],\n",
    "                split=split,\n",
    "                epoch=epoch\n",
    "            )\n",
    "\n",
    "dq.finish()\n",
    "df_train, df_test, df_val = see_results()\n"
   ]
  },
  {
   "cell_type": "markdown",
   "id": "fe82cc51",
   "metadata": {},
   "source": [
    "## NER"
   ]
  },
  {
   "cell_type": "code",
   "execution_count": null,
   "id": "eb6ba254",
   "metadata": {},
   "outputs": [],
   "source": [
    "from dataquality.schemas.task_type import TaskType\n",
    "from dataquality import config \n",
    "from uuid import uuid4\n",
    "import numpy as np\n",
    "from time import sleep\n",
    "from tqdm.notebook import tqdm\n",
    "\n",
    "\n",
    "dq.init(\"text_ner\", \"test-ner-run\")\n",
    "\n",
    "\n",
    "def log_inputs():\n",
    "    text_inputs = ['what movies star bruce willis', 'show me films with drew barrymore from the 1980s', 'what movies starred both al pacino and robert deniro', 'find me all of the movies that starred harold ramis and bill murray', 'find me a movie with a quote about baseball in it']\n",
    "    tokens = [[(0, 4), (5, 11), (12, 16), (17, 22), (17, 22), (23, 29), (23, 29)], [(0, 4), (5, 7), (8, 13), (14, 18), (19, 23), (24, 33), (24, 33), (24, 33), (34, 38), (39, 42), (43, 48)], [(0, 4), (5, 11), (12, 19), (20, 24), (25, 27), (28, 34), (28, 34), (28, 34), (35, 38), (39, 45), (39, 45), (46, 52), (46, 52)], [(0, 4), (5, 7), (8, 11), (12, 14), (15, 18), (19, 25), (26, 30), (31, 38), (39, 45), (39, 45), (39, 45), (46, 51), (46, 51), (52, 55), (56, 60), (61, 67), (61, 67), (61, 67)], [(0, 4), (5, 7), (8, 9), (10, 15), (16, 20), (21, 22), (23, 28), (29, 34), (35, 43), (44, 46), (47, 49)]]\n",
    "    gold_spans = [[{'start': 17, 'end': 29, 'label': 'ACTOR'}], [{'start': 19, 'end': 33, 'label': 'ACTOR'}, {'start': 43, 'end': 48, 'label': 'YEAR'}], [{'start': 25, 'end': 34, 'label': 'ACTOR'}, {'start': 39, 'end': 52, 'label': 'ACTOR'}], [{'start': 39, 'end': 51, 'label': 'ACTOR'}, {'start': 56, 'end': 67, 'label': 'ACTOR'}], []]\n",
    "    ids = [0, 1, 2, 3, 4]\n",
    "\n",
    "    labels = ['[PAD]', '[CLS]', '[SEP]', 'O', 'B-ACTOR', 'I-ACTOR', 'B-YEAR', 'B-TITLE', 'B-GENRE', 'I-GENRE', 'B-DIRECTOR', 'I-DIRECTOR', 'B-SONG', 'I-SONG', 'B-PLOT', 'I-PLOT', 'B-REVIEW', 'B-CHARACTER', 'I-CHARACTER', 'B-RATING', 'B-RATINGS_AVERAGE', 'I-RATINGS_AVERAGE', 'I-TITLE', 'I-RATING', 'B-TRAILER', 'I-TRAILER', 'I-REVIEW', 'I-YEAR']\n",
    "    dq.set_labels_for_run(labels)\n",
    "    dq.set_tagging_schema(\"BIO\")\n",
    "    dq.log_data_samples(texts=text_inputs, text_token_indices=tokens, ids=ids, gold_spans=gold_spans, split=\"training\")\n",
    "    dq.log_data_samples(texts=text_inputs, text_token_indices=tokens, ids=ids, gold_spans=gold_spans, split=\"validation\")\n",
    "    dq.log_data_samples(texts=text_inputs, text_token_indices=tokens, ids=ids, gold_spans=gold_spans, split=\"test\")\n",
    "\n",
    "def log_outputs():\n",
    "    num_classes = 28\n",
    "    embs = [np.random.rand(119, 768) for _ in range(5)]\n",
    "    logits= [np.random.rand(119, 28) for _ in range(5)]                                      \n",
    "    ids= list(range(5))\n",
    "    for epoch in tqdm(range(6)):\n",
    "        for split in [\"training\", \"test\", \"validation\"]:\n",
    "            dq.log_model_outputs(\n",
    "                embs=embs, logits=logits, ids=ids, split=split, epoch=epoch\n",
    "            )\n",
    "    \n",
    "def finish():\n",
    "    dq.finish()\n",
    "    \n",
    "    \n",
    "def runit():\n",
    "    log_inputs()\n",
    "    log_outputs()\n",
    "    finish()\n",
    "    \n",
    "runit()\n",
    "df_train, df_test, df_val = see_results()"
   ]
  }
 ],
 "metadata": {
  "kernelspec": {
   "display_name": "Python 3 (ipykernel)",
   "language": "python",
   "name": "python3"
  },
  "language_info": {
   "codemirror_mode": {
    "name": "ipython",
    "version": 3
   },
   "file_extension": ".py",
   "mimetype": "text/x-python",
   "name": "python",
   "nbconvert_exporter": "python",
   "pygments_lexer": "ipython3",
   "version": "3.9.6"
  }
 },
 "nbformat": 4,
 "nbformat_minor": 5
}
