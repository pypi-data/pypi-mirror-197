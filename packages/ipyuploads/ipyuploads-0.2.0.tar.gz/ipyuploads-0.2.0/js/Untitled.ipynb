{
 "cells": [
  {
   "cell_type": "code",
   "execution_count": 1,
   "id": "ae64af85-3df6-4c87-b8fd-02db9e141437",
   "metadata": {},
   "outputs": [],
   "source": [
    "import ipyuploads"
   ]
  },
  {
   "cell_type": "code",
   "execution_count": 2,
   "id": "5ae7f422-0e35-45cd-9516-e00152121a51",
   "metadata": {},
   "outputs": [
    {
     "data": {
      "application/vnd.jupyter.widget-view+json": {
       "model_id": "17605d27beee49f3a77c30c6129c3290",
       "version_major": 2,
       "version_minor": 0
      },
      "text/plain": [
       "Upload(value={}, description='Upload')"
      ]
     },
     "execution_count": 2,
     "metadata": {},
     "output_type": "execute_result"
    }
   ],
   "source": [
    "ipyuploads.upload.Upload()"
   ]
  },
  {
   "cell_type": "code",
   "execution_count": null,
   "id": "5eeafdff-6ab3-4012-95d5-1d960d5cccb4",
   "metadata": {},
   "outputs": [],
   "source": []
  }
 ],
 "metadata": {
  "kernelspec": {
   "display_name": "Python 3",
   "language": "python",
   "name": "python3"
  },
  "language_info": {
   "codemirror_mode": {
    "name": "ipython",
    "version": 3
   },
   "file_extension": ".py",
   "mimetype": "text/x-python",
   "name": "python",
   "nbconvert_exporter": "python",
   "pygments_lexer": "ipython3",
   "version": "3.9.12"
  },
  "widgets": {
   "application/vnd.jupyter.widget-state+json": {
    "state": {
     "38cab68419554cd8ac16b40b345e7f49": {
      "model_module": "@jupyter-widgets/controls",
      "model_module_version": "2.0.0",
      "model_name": "ButtonStyleModel",
      "state": {
       "font_family": null,
       "font_size": null,
       "font_style": null,
       "font_variant": null,
       "font_weight": null,
       "text_color": null,
       "text_decoration": null
      }
     },
     "48251fb904f345a597875a7277a001dd": {
      "model_module": "@jupyter-widgets/base",
      "model_module_version": "2.0.0",
      "model_name": "LayoutModel",
      "state": {}
     },
     "undefined": {
      "model_module": "@g2nb/ipyuploads",
      "model_module_version": "2.0.0",
      "model_name": "UploadModel",
      "state": {
       "_view_name": "ErrorWidgetView",
       "error": {},
       "msg": "Model class 'UploadModel' from module '@g2nb/ipyuploads' is loaded but can not be instantiated"
      }
     }
    },
    "version_major": 2,
    "version_minor": 0
   }
  }
 },
 "nbformat": 4,
 "nbformat_minor": 5
}
